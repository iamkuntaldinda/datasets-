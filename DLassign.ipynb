{
 "cells": [
  {
   "cell_type": "code",
   "execution_count": null,
   "metadata": {},
   "outputs": [],
   "source": [
    "#Question 2"
   ]
  },
  {
   "cell_type": "code",
   "execution_count": 2,
   "metadata": {},
   "outputs": [],
   "source": [
    "import numpy as np\n",
    "import matplotlib.pyplot as plt\n",
    "from sklearn.linear_model import LogisticRegression\n",
    "import tensorflow as tf\n",
    "from tensorflow .python.framework import ops\n",
    "ops.reset_default_graph()"
   ]
  },
  {
   "cell_type": "code",
   "execution_count": 3,
   "metadata": {},
   "outputs": [],
   "source": [
    "import pandas as pd"
   ]
  },
  {
   "cell_type": "code",
   "execution_count": 4,
   "metadata": {},
   "outputs": [],
   "source": [
    "# import some data to play with\n",
    "df = pd.read_csv('iris_training.csv')\n",
    "df1 = pd.read_csv('iris_test.csv')"
   ]
  },
  {
   "cell_type": "code",
   "execution_count": 5,
   "metadata": {},
   "outputs": [
    {
     "data": {
      "text/plain": [
       "Index(['Sepal_Length', 'Sepal_Width', 'Petal_Length', 'Petal_Width',\n",
       "       'Species'],\n",
       "      dtype='object')"
      ]
     },
     "execution_count": 5,
     "metadata": {},
     "output_type": "execute_result"
    }
   ],
   "source": [
    "df.columns"
   ]
  },
  {
   "cell_type": "code",
   "execution_count": 6,
   "metadata": {},
   "outputs": [],
   "source": [
    "#create features and labels\n",
    "X = np.array(df.iloc[:,:4]) \n",
    "Y = np.array(df.iloc[:,-1])"
   ]
  },
  {
   "cell_type": "code",
   "execution_count": 7,
   "metadata": {},
   "outputs": [],
   "source": [
    "#Y = pd.DataFrame(Y)\n",
    "\n",
    "X_test = np.array(df1.iloc[:,:4]) \n",
    "Y_test = np.array(df1.iloc[:,-1])\n",
    "#Y_test = pd.DataFrame(Y_test)"
   ]
  },
  {
   "cell_type": "code",
   "execution_count": 8,
   "metadata": {},
   "outputs": [],
   "source": [
    "# Define the learning rate， batch_size etc.\n",
    "learning_rate = 0.01\n",
    "batch_size = 5\n",
    "iter_num = 1500"
   ]
  },
  {
   "cell_type": "code",
   "execution_count": 9,
   "metadata": {},
   "outputs": [],
   "source": [
    "# Define the normalized function\n",
    "def min_max_normalized(data):\n",
    "    c_m = np.max(data, axis=0)\n",
    "    c_n = np.min(data, axis=0)\n",
    "    return np.divide(data - c_m, c_m - c_n)"
   ]
  },
  {
   "cell_type": "code",
   "execution_count": 10,
   "metadata": {},
   "outputs": [],
   "source": [
    "# Normalized processing, must be placed after the data set segmentation, \n",
    "# otherwise the test set will be affected by the training set\n",
    "train_X = min_max_normalized(X)\n",
    "test_X = min_max_normalized(X_test)"
   ]
  },
  {
   "cell_type": "code",
   "execution_count": 11,
   "metadata": {},
   "outputs": [],
   "source": [
    "# Begin building the model framework\n",
    "# Declare the variables that need to be learned and initialization\n",
    "# There are 4 features here, A's dimension is (4, 1)\n",
    "A = tf.Variable(tf.random_normal(shape=[4, 1]))\n",
    "b = tf.Variable(tf.random_normal(shape=[1, 1]))\n",
    "init = tf.global_variables_initializer()\n",
    "sess = tf.Session()\n",
    "sess.run(init)"
   ]
  },
  {
   "cell_type": "code",
   "execution_count": 12,
   "metadata": {},
   "outputs": [],
   "source": [
    "# Define placeholders\n",
    "d = tf.placeholder(dtype=tf.float32, shape=[None, 4])\n",
    "t = tf.placeholder(dtype=tf.float32, shape=[None, 1])"
   ]
  },
  {
   "cell_type": "code",
   "execution_count": 13,
   "metadata": {},
   "outputs": [],
   "source": [
    "# Declare the model you need to learn\n",
    "mod = tf.matmul(d, A) + b\n",
    "cross_entropy = tf.reduce_mean(tf.nn.sigmoid_cross_entropy_with_logits(logits=mod, labels=t))\n",
    "# Define the optimizer\n",
    "train_step = tf.train.GradientDescentOptimizer(learning_rate).minimize(cross_entropy)\n",
    "# The default threshold is 0.5, rounded off directly\n",
    "prediction = tf.round(tf.sigmoid(mod))\n",
    "# Bool into float32 type\n",
    "correct = tf.cast(tf.equal(prediction, t), dtype=tf.float32)\n",
    "# Average\n",
    "accuracy = tf.reduce_mean(correct)\n",
    "# End of the definition of the model framework"
   ]
  },
  {
   "cell_type": "code",
   "execution_count": 14,
   "metadata": {},
   "outputs": [
    {
     "name": "stdout",
     "output_type": "stream",
     "text": [
      "epoch:  100 loss: -0.071387 train_acc: 0.350000 test_acc: 0.266667\n",
      "epoch:  200 loss: 0.002872 train_acc: 0.350000 test_acc: 0.266667\n",
      "epoch:  300 loss: -0.639821 train_acc: 0.350000 test_acc: 0.266667\n",
      "epoch:  400 loss: -2.147573 train_acc: 0.350000 test_acc: 0.266667\n",
      "epoch:  500 loss: -1.089575 train_acc: 0.350000 test_acc: 0.266667\n",
      "epoch:  600 loss: 0.256461 train_acc: 0.350000 test_acc: 0.266667\n",
      "epoch:  700 loss: 0.744574 train_acc: 0.350000 test_acc: 0.266667\n",
      "epoch:  800 loss: -4.744322 train_acc: 0.350000 test_acc: 0.266667\n",
      "epoch:  900 loss: -2.602993 train_acc: 0.350000 test_acc: 0.266667\n",
      "epoch: 1000 loss: -1.394595 train_acc: 0.350000 test_acc: 0.266667\n",
      "epoch: 1100 loss: -4.315637 train_acc: 0.350000 test_acc: 0.266667\n",
      "epoch: 1200 loss: 4.235396 train_acc: 0.350000 test_acc: 0.266667\n",
      "epoch: 1300 loss: -2.295064 train_acc: 0.350000 test_acc: 0.266667\n",
      "epoch: 1400 loss: -3.553620 train_acc: 0.350000 test_acc: 0.266667\n",
      "epoch: 1500 loss: 0.545987 train_acc: 0.350000 test_acc: 0.266667\n"
     ]
    }
   ],
   "source": [
    "# Start training model\n",
    "# Define the variable that stores the result\n",
    "loss_trace = []\n",
    "train_acc = []\n",
    "test_acc = []\n",
    "for epoch in range(iter_num):\n",
    "    \n",
    "        \n",
    "    # Generate random batch index\n",
    "    batch_index = np.random.choice(len(train_X), size=batch_size)\n",
    "    b_t_X = train_X[batch_index]\n",
    "    b_t_y = np.matrix(Y[batch_index]).T\n",
    "    sess.run(train_step, feed_dict={d: b_t_X, t: b_t_y})\n",
    "    t_l = sess.run(cross_entropy, feed_dict={d: b_t_X, t: b_t_y})\n",
    "    # convert into a matrix, and the shape of the placeholder to correspond\n",
    "    te_tr_acc = sess.run(accuracy, feed_dict={d: train_X, t: np.matrix(Y).T})\n",
    "    te_te_acc = sess.run(accuracy, feed_dict={d: test_X, t: np.matrix(Y_test).T})\n",
    "    # recode the result\n",
    "    loss_trace.append(t_l)\n",
    "    train_acc.append(te_tr_acc)\n",
    "    test_acc.append(te_te_acc)\n",
    "    # output\n",
    "    if (epoch + 1) % 100 == 0:\n",
    "        print('epoch: {:4d} loss: {:5f} train_acc: {:5f} test_acc: {:5f}'.format(epoch + 1, t_l,\n",
    "                                                                          te_tr_acc, te_te_acc))\n",
    "        \n"
   ]
  },
  {
   "cell_type": "code",
   "execution_count": null,
   "metadata": {},
   "outputs": [],
   "source": []
  },
  {
   "cell_type": "code",
   "execution_count": null,
   "metadata": {},
   "outputs": [],
   "source": []
  },
  {
   "cell_type": "code",
   "execution_count": null,
   "metadata": {},
   "outputs": [],
   "source": []
  },
  {
   "cell_type": "code",
   "execution_count": null,
   "metadata": {},
   "outputs": [],
   "source": []
  }
 ],
 "metadata": {
  "kernelspec": {
   "display_name": "Python 3",
   "language": "python",
   "name": "python3"
  },
  "language_info": {
   "codemirror_mode": {
    "name": "ipython",
    "version": 3
   },
   "file_extension": ".py",
   "mimetype": "text/x-python",
   "name": "python",
   "nbconvert_exporter": "python",
   "pygments_lexer": "ipython3",
   "version": "3.6.6"
  }
 },
 "nbformat": 4,
 "nbformat_minor": 2
}
