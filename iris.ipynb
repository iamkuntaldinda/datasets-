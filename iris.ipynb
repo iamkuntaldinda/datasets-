{
 "cells": [
  {
   "cell_type": "code",
   "execution_count": 214,
   "metadata": {},
   "outputs": [],
   "source": [
    "import pandas as pd\n",
    "import numpy as np\n",
    "\n",
    "\n",
    "iris_train = pd.read_csv('train.csv')"
   ]
  },
  {
   "cell_type": "code",
   "execution_count": 100,
   "metadata": {},
   "outputs": [
    {
     "data": {
      "text/plain": [
       "(77, 6)"
      ]
     },
     "execution_count": 100,
     "metadata": {},
     "output_type": "execute_result"
    }
   ],
   "source": [
    "iris_train.shape"
   ]
  },
  {
   "cell_type": "code",
   "execution_count": 3,
   "metadata": {},
   "outputs": [
    {
     "data": {
      "text/plain": [
       "Index(['Unnamed: 0', 'Sepal.Length', 'Sepal.Width', 'Petal.Length',\n",
       "       'Petal.Width', 'Species'],\n",
       "      dtype='object')"
      ]
     },
     "execution_count": 3,
     "metadata": {},
     "output_type": "execute_result"
    }
   ],
   "source": [
    "iris_train.columns"
   ]
  },
  {
   "cell_type": "code",
   "execution_count": 4,
   "metadata": {},
   "outputs": [
    {
     "data": {
      "text/html": [
       "<div>\n",
       "<style scoped>\n",
       "    .dataframe tbody tr th:only-of-type {\n",
       "        vertical-align: middle;\n",
       "    }\n",
       "\n",
       "    .dataframe tbody tr th {\n",
       "        vertical-align: top;\n",
       "    }\n",
       "\n",
       "    .dataframe thead th {\n",
       "        text-align: right;\n",
       "    }\n",
       "</style>\n",
       "<table border=\"1\" class=\"dataframe\">\n",
       "  <thead>\n",
       "    <tr style=\"text-align: right;\">\n",
       "      <th></th>\n",
       "      <th>Unnamed: 0</th>\n",
       "      <th>Sepal.Length</th>\n",
       "      <th>Sepal.Width</th>\n",
       "      <th>Petal.Length</th>\n",
       "      <th>Petal.Width</th>\n",
       "    </tr>\n",
       "  </thead>\n",
       "  <tbody>\n",
       "    <tr>\n",
       "      <th>count</th>\n",
       "      <td>77.000000</td>\n",
       "      <td>77.000000</td>\n",
       "      <td>77.000000</td>\n",
       "      <td>77.000000</td>\n",
       "      <td>77.000000</td>\n",
       "    </tr>\n",
       "    <tr>\n",
       "      <th>mean</th>\n",
       "      <td>76.532468</td>\n",
       "      <td>5.736364</td>\n",
       "      <td>2.989610</td>\n",
       "      <td>3.677922</td>\n",
       "      <td>1.158442</td>\n",
       "    </tr>\n",
       "    <tr>\n",
       "      <th>std</th>\n",
       "      <td>42.013026</td>\n",
       "      <td>0.745497</td>\n",
       "      <td>0.480839</td>\n",
       "      <td>1.702600</td>\n",
       "      <td>0.719896</td>\n",
       "    </tr>\n",
       "    <tr>\n",
       "      <th>min</th>\n",
       "      <td>1.000000</td>\n",
       "      <td>4.400000</td>\n",
       "      <td>2.000000</td>\n",
       "      <td>1.200000</td>\n",
       "      <td>0.100000</td>\n",
       "    </tr>\n",
       "    <tr>\n",
       "      <th>25%</th>\n",
       "      <td>43.000000</td>\n",
       "      <td>5.100000</td>\n",
       "      <td>2.700000</td>\n",
       "      <td>1.600000</td>\n",
       "      <td>0.400000</td>\n",
       "    </tr>\n",
       "    <tr>\n",
       "      <th>50%</th>\n",
       "      <td>78.000000</td>\n",
       "      <td>5.700000</td>\n",
       "      <td>3.000000</td>\n",
       "      <td>4.100000</td>\n",
       "      <td>1.300000</td>\n",
       "    </tr>\n",
       "    <tr>\n",
       "      <th>75%</th>\n",
       "      <td>107.000000</td>\n",
       "      <td>6.300000</td>\n",
       "      <td>3.300000</td>\n",
       "      <td>5.000000</td>\n",
       "      <td>1.700000</td>\n",
       "    </tr>\n",
       "    <tr>\n",
       "      <th>max</th>\n",
       "      <td>150.000000</td>\n",
       "      <td>7.700000</td>\n",
       "      <td>4.400000</td>\n",
       "      <td>6.700000</td>\n",
       "      <td>2.500000</td>\n",
       "    </tr>\n",
       "  </tbody>\n",
       "</table>\n",
       "</div>"
      ],
      "text/plain": [
       "       Unnamed: 0  Sepal.Length  Sepal.Width  Petal.Length  Petal.Width\n",
       "count   77.000000     77.000000    77.000000     77.000000    77.000000\n",
       "mean    76.532468      5.736364     2.989610      3.677922     1.158442\n",
       "std     42.013026      0.745497     0.480839      1.702600     0.719896\n",
       "min      1.000000      4.400000     2.000000      1.200000     0.100000\n",
       "25%     43.000000      5.100000     2.700000      1.600000     0.400000\n",
       "50%     78.000000      5.700000     3.000000      4.100000     1.300000\n",
       "75%    107.000000      6.300000     3.300000      5.000000     1.700000\n",
       "max    150.000000      7.700000     4.400000      6.700000     2.500000"
      ]
     },
     "execution_count": 4,
     "metadata": {},
     "output_type": "execute_result"
    }
   ],
   "source": [
    "iris_train.describe()"
   ]
  },
  {
   "cell_type": "code",
   "execution_count": 35,
   "metadata": {},
   "outputs": [
    {
     "data": {
      "text/plain": [
       "array(['setosa', 'versicolor', 'virginica'], dtype=object)"
      ]
     },
     "execution_count": 35,
     "metadata": {},
     "output_type": "execute_result"
    }
   ],
   "source": [
    "iris_train.Species.unique()"
   ]
  },
  {
   "cell_type": "code",
   "execution_count": 3,
   "metadata": {},
   "outputs": [
    {
     "data": {
      "text/plain": [
       "Unnamed: 0      0\n",
       "Sepal.Length    0\n",
       "Sepal.Width     0\n",
       "Petal.Length    0\n",
       "Petal.Width     0\n",
       "Species         0\n",
       "dtype: int64"
      ]
     },
     "execution_count": 3,
     "metadata": {},
     "output_type": "execute_result"
    }
   ],
   "source": [
    "iris_train.isnull().sum()"
   ]
  },
  {
   "cell_type": "code",
   "execution_count": 16,
   "metadata": {},
   "outputs": [
    {
     "name": "stdout",
     "output_type": "stream",
     "text": [
      "<class 'pandas.core.frame.DataFrame'>\n",
      "RangeIndex: 77 entries, 0 to 76\n",
      "Data columns (total 6 columns):\n",
      "Unnamed: 0      77 non-null int64\n",
      "Sepal.Length    77 non-null float64\n",
      "Sepal.Width     77 non-null float64\n",
      "Petal.Length    77 non-null float64\n",
      "Petal.Width     77 non-null float64\n",
      "Species         77 non-null object\n",
      "dtypes: float64(4), int64(1), object(1)\n",
      "memory usage: 3.7+ KB\n"
     ]
    }
   ],
   "source": [
    "iris_train.info()"
   ]
  },
  {
   "cell_type": "code",
   "execution_count": 215,
   "metadata": {},
   "outputs": [],
   "source": [
    "import matplotlib.pyplot as plt\n",
    "%matplotlib inline\n",
    "import seaborn as sns\n"
   ]
  },
  {
   "cell_type": "code",
   "execution_count": 8,
   "metadata": {},
   "outputs": [],
   "source": [
    "df = sns.load_dataset('iris')"
   ]
  },
  {
   "cell_type": "code",
   "execution_count": 9,
   "metadata": {},
   "outputs": [],
   "source": [
    "##versicolor and virginica are same species"
   ]
  },
  {
   "cell_type": "code",
   "execution_count": 10,
   "metadata": {},
   "outputs": [
    {
     "name": "stderr",
     "output_type": "stream",
     "text": [
      "C:\\Users\\703222761\\Anaconda3\\lib\\site-packages\\scipy\\stats\\stats.py:1713: FutureWarning: Using a non-tuple sequence for multidimensional indexing is deprecated; use `arr[tuple(seq)]` instead of `arr[seq]`. In the future this will be interpreted as an array index, `arr[np.array(seq)]`, which will result either in an error or a different result.\n",
      "  return np.add.reduce(sorted[indexer] * weights, axis=axis) / sumval\n"
     ]
    },
    {
     "data": {
      "image/png": "[encoded data removed]",
      "text/plain": [
       "<Figure size 804.75x720 with 20 Axes>"
      ]
     },
     "metadata": {
      "needs_background": "light"
     },
     "output_type": "display_data"
    }
   ],
   "source": [
    "# right: you can give other arguments with plot_kws.\n",
    "sns.pairplot(df, kind=\"scatter\", hue=\"species\", plot_kws=dict(s=80, edgecolor=\"white\", linewidth=2.5))\n",
    "plt.show()"
   ]
  },
  {
   "cell_type": "code",
   "execution_count": 216,
   "metadata": {},
   "outputs": [],
   "source": [
    "data2 = pd.read_csv('test.csv')\n",
    "data1 = pd.read_csv('train.csv')\n",
    "bigdata = pd.concat([data1, data2], ignore_index=True)\n"
   ]
  },
  {
   "cell_type": "code",
   "execution_count": 217,
   "metadata": {},
   "outputs": [
    {
     "data": {
      "text/plain": [
       "(150, 5)"
      ]
     },
     "execution_count": 217,
     "metadata": {},
     "output_type": "execute_result"
    }
   ],
   "source": [
    "df.shape"
   ]
  },
  {
   "cell_type": "code",
   "execution_count": 218,
   "metadata": {},
   "outputs": [
    {
     "data": {
      "text/plain": [
       "(150, 6)"
      ]
     },
     "execution_count": 218,
     "metadata": {},
     "output_type": "execute_result"
    }
   ],
   "source": [
    "bigdata.shape"
   ]
  },
  {
   "cell_type": "code",
   "execution_count": 49,
   "metadata": {},
   "outputs": [
    {
     "data": {
      "text/plain": [
       "Index(['Unnamed: 0', 'Sepal.Length', 'Sepal.Width', 'Petal.Length',\n",
       "       'Petal.Width', 'Species'],\n",
       "      dtype='object')"
      ]
     },
     "execution_count": 49,
     "metadata": {},
     "output_type": "execute_result"
    }
   ],
   "source": [
    "bigdata.columns"
   ]
  },
  {
   "cell_type": "code",
   "execution_count": 220,
   "metadata": {},
   "outputs": [
    {
     "name": "stderr",
     "output_type": "stream",
     "text": [
      "C:\\Users\\703222761\\Anaconda3\\lib\\site-packages\\ipykernel_launcher.py:1: DeprecationWarning: \n",
      ".ix is deprecated. Please use\n",
      ".loc for label based indexing or\n",
      ".iloc for positional indexing\n",
      "\n",
      "See the documentation here:\n",
      "http://pandas.pydata.org/pandas-docs/stable/indexing.html#ix-indexer-is-deprecated\n",
      "  \"\"\"Entry point for launching an IPython kernel.\n",
      "C:\\Users\\703222761\\Anaconda3\\lib\\site-packages\\ipykernel_launcher.py:2: DeprecationWarning: \n",
      ".ix is deprecated. Please use\n",
      ".loc for label based indexing or\n",
      ".iloc for positional indexing\n",
      "\n",
      "See the documentation here:\n",
      "http://pandas.pydata.org/pandas-docs/stable/indexing.html#ix-indexer-is-deprecated\n",
      "  \n"
     ]
    }
   ],
   "source": [
    "bigdata.ix[bigdata.Species == 'versicolor' , 'Species'] = \"class4\"\n",
    "bigdata.ix[bigdata.Species == 'virginica' , 'Species'] = \"class4\"\n"
   ]
  },
  {
   "cell_type": "code",
   "execution_count": 107,
   "metadata": {},
   "outputs": [
    {
     "data": {
      "text/plain": [
       "array(['setosa', 'class4'], dtype=object)"
      ]
     },
     "execution_count": 107,
     "metadata": {},
     "output_type": "execute_result"
    }
   ],
   "source": [
    "\n",
    "bigdata.Species.unique()"
   ]
  },
  {
   "cell_type": "code",
   "execution_count": 221,
   "metadata": {},
   "outputs": [
    {
     "name": "stderr",
     "output_type": "stream",
     "text": [
      "C:\\Users\\703222761\\Anaconda3\\lib\\site-packages\\ipykernel_launcher.py:1: DeprecationWarning: \n",
      ".ix is deprecated. Please use\n",
      ".loc for label based indexing or\n",
      ".iloc for positional indexing\n",
      "\n",
      "See the documentation here:\n",
      "http://pandas.pydata.org/pandas-docs/stable/indexing.html#ix-indexer-is-deprecated\n",
      "  \"\"\"Entry point for launching an IPython kernel.\n",
      "C:\\Users\\703222761\\Anaconda3\\lib\\site-packages\\ipykernel_launcher.py:2: DeprecationWarning: \n",
      ".ix is deprecated. Please use\n",
      ".loc for label based indexing or\n",
      ".iloc for positional indexing\n",
      "\n",
      "See the documentation here:\n",
      "http://pandas.pydata.org/pandas-docs/stable/indexing.html#ix-indexer-is-deprecated\n",
      "  \n"
     ]
    }
   ],
   "source": [
    "data1.ix[data1.Species == 'versicolor' , 'Species'] = \"class4\"\n",
    "data1.ix[data1.Species == 'virginica' , 'Species'] = \"class4\"\n"
   ]
  },
  {
   "cell_type": "code",
   "execution_count": 109,
   "metadata": {},
   "outputs": [
    {
     "data": {
      "text/plain": [
       "array(['setosa', 'class4'], dtype=object)"
      ]
     },
     "execution_count": 109,
     "metadata": {},
     "output_type": "execute_result"
    }
   ],
   "source": [
    "\n",
    "data1.Species.unique()"
   ]
  },
  {
   "cell_type": "code",
   "execution_count": 110,
   "metadata": {},
   "outputs": [],
   "source": [
    "d1 = np.array(data1.iloc[:,1:5])"
   ]
  },
  {
   "cell_type": "code",
   "execution_count": 112,
   "metadata": {},
   "outputs": [],
   "source": [
    "from sklearn.preprocessing import LabelEncoder\n",
    "\n",
    "y = data1['Species'].values\n",
    "enc = LabelEncoder()\n",
    "label_encoder = enc.fit(y)\n",
    "y_1 = label_encoder.transform(y) + 1\n"
   ]
  },
  {
   "cell_type": "code",
   "execution_count": 113,
   "metadata": {
    "scrolled": true
   },
   "outputs": [
    {
     "data": {
      "text/plain": [
       "array([2, 2, 2, 2, 2, 2, 2, 2, 2, 2, 2, 2, 2, 2, 2, 2, 2, 2, 2, 2, 2, 2,\n",
       "       2, 2, 2, 1, 1, 1, 1, 1, 1, 1, 1, 1, 1, 1, 1, 1, 1, 1, 1, 1, 1, 1,\n",
       "       1, 1, 1, 1, 1, 1, 1, 1, 1, 1, 1, 1, 1, 1, 1, 1, 1, 1, 1, 1, 1, 1,\n",
       "       1, 1, 1, 1, 1, 1, 1, 1, 1, 1, 1], dtype=int64)"
      ]
     },
     "execution_count": 113,
     "metadata": {},
     "output_type": "execute_result"
    }
   ],
   "source": [
    "y_1"
   ]
  },
  {
   "cell_type": "code",
   "execution_count": 114,
   "metadata": {
    "scrolled": true
   },
   "outputs": [
    {
     "data": {
      "text/plain": [
       "array(['setosa', 'setosa', 'setosa', 'setosa', 'setosa', 'setosa',\n",
       "       'setosa', 'setosa', 'setosa', 'setosa', 'setosa', 'setosa',\n",
       "       'setosa', 'setosa', 'setosa', 'setosa', 'setosa', 'setosa',\n",
       "       'setosa', 'setosa', 'setosa', 'setosa', 'setosa', 'setosa',\n",
       "       'setosa', 'class4', 'class4', 'class4', 'class4', 'class4',\n",
       "       'class4', 'class4', 'class4', 'class4', 'class4', 'class4',\n",
       "       'class4', 'class4', 'class4', 'class4', 'class4', 'class4',\n",
       "       'class4', 'class4', 'class4', 'class4', 'class4', 'class4',\n",
       "       'class4', 'class4', 'class4', 'class4', 'class4', 'class4',\n",
       "       'class4', 'class4', 'class4', 'class4', 'class4', 'class4',\n",
       "       'class4', 'class4', 'class4', 'class4', 'class4', 'class4',\n",
       "       'class4', 'class4', 'class4', 'class4', 'class4', 'class4',\n",
       "       'class4', 'class4', 'class4', 'class4', 'class4'], dtype=object)"
      ]
     },
     "execution_count": 114,
     "metadata": {},
     "output_type": "execute_result"
    }
   ],
   "source": [
    "data1['Species'].values"
   ]
  },
  {
   "cell_type": "code",
   "execution_count": 115,
   "metadata": {},
   "outputs": [],
   "source": [
    "label_dict = {1: 'class4', 2: 'setosa'}"
   ]
  },
  {
   "cell_type": "code",
   "execution_count": 117,
   "metadata": {},
   "outputs": [
    {
     "name": "stdout",
     "output_type": "stream",
     "text": [
      "Mean Vector class 1: [6.08076923 2.77115385 4.75       1.58846154]\n",
      "\n",
      "Mean Vector class 2: [5.02  3.444 1.448 0.264]\n",
      "\n"
     ]
    }
   ],
   "source": [
    "mean_vectors = []\n",
    "X_1 = data1.iloc[:,1:5].values\n",
    "for cl in range(1,3):\n",
    "    mean_vectors.append(np.mean(X_1[y_1==cl], axis=0))\n",
    "    print('Mean Vector class %s: %s\\n' %(cl, mean_vectors[cl-1]))"
   ]
  },
  {
   "cell_type": "code",
   "execution_count": 118,
   "metadata": {},
   "outputs": [
    {
     "name": "stdout",
     "output_type": "stream",
     "text": [
      "within-class Scatter Matrix:\n",
      " [[23.24076923  8.64915385 22.876       9.77646154]\n",
      " [ 8.64915385  9.92833077  8.6022      5.33229231]\n",
      " [22.876       8.6022     36.2324     15.4332    ]\n",
      " [ 9.77646154  5.33229231 15.4332      9.77067692]]\n"
     ]
    }
   ],
   "source": [
    "S_W = np.zeros((4,4))\n",
    "for cl,mv in zip(range(1,3), mean_vectors):\n",
    "    class_sc_mat = np.zeros((4,4))                  # scatter matrix for every class\n",
    "    for row in X_1[y_1 == cl]:\n",
    "        row, mv = row.reshape(4,1), mv.reshape(4,1) # make column vectors\n",
    "        class_sc_mat += (row-mv).dot((row-mv).T)\n",
    "    S_W += class_sc_mat                             # sum class scatter matrices\n",
    "print('within-class Scatter Matrix:\\n', S_W)"
   ]
  },
  {
   "cell_type": "code",
   "execution_count": 119,
   "metadata": {},
   "outputs": [
    {
     "name": "stdout",
     "output_type": "stream",
     "text": [
      "between-class Scatter Matrix:\n",
      " [[ 18.99741259 -12.05006294  59.13581818  23.7199021 ]\n",
      " [-12.05006294   7.64335754 -37.50986234 -15.04553906]\n",
      " [ 59.13581818 -37.50986234 184.08006753  73.83615065]\n",
      " [ 23.7199021  -15.04553906  73.83615065  29.61633606]]\n"
     ]
    }
   ],
   "source": [
    "overall_mean = np.mean(X_1, axis=0)\n",
    "\n",
    "S_B = np.zeros((4,4))\n",
    "for i,mean_vec in enumerate(mean_vectors):  \n",
    "    n = X_1[y_1==i+1,:].shape[0]\n",
    "    mean_vec = mean_vec.reshape(4,1) # make column vector\n",
    "    overall_mean = overall_mean.reshape(4,1) # make column vector\n",
    "    S_B += n * (mean_vec - overall_mean).dot((mean_vec - overall_mean).T)\n",
    "\n",
    "print('between-class Scatter Matrix:\\n', S_B)"
   ]
  },
  {
   "cell_type": "code",
   "execution_count": 27,
   "metadata": {},
   "outputs": [
    {
     "name": "stdout",
     "output_type": "stream",
     "text": [
      "\n",
      "Eigenvector 1: \n",
      "[[-0.93602845]\n",
      " [-0.26698086]\n",
      " [ 0.20553539]\n",
      " [ 0.10162263]]\n",
      "Eigenvalue 1: 0.00e+00\n",
      "\n",
      "Eigenvector 2: \n",
      "[[-0.21442322]\n",
      " [-0.74098631]\n",
      " [ 0.57044879]\n",
      " [ 0.28204635]]\n",
      "Eigenvalue 2: 1.03e+01\n",
      "\n",
      "Eigenvector 3: \n",
      "[[ 0.21705051]\n",
      " [-0.16583937]\n",
      " [-0.44550289]\n",
      " [ 0.85259226]]\n",
      "Eigenvalue 3: -5.46e-15\n",
      "\n",
      "Eigenvector 4: \n",
      "[[-0.18333527]\n",
      " [-0.88629757]\n",
      " [ 0.04779984]\n",
      " [-0.42258725]]\n",
      "Eigenvalue 4: 2.50e-16\n"
     ]
    }
   ],
   "source": [
    "eig_vals, eig_vecs = np.linalg.eig(np.linalg.inv(S_W).dot(S_B))\n",
    "\n",
    "for i in range(len(eig_vals)):\n",
    "    eigvec_sc = eig_vecs[:,i].reshape(4,1)   \n",
    "    print('\\nEigenvector {}: \\n{}'.format(i+1, eigvec_sc.real))\n",
    "    print('Eigenvalue {:}: {:.2e}'.format(i+1, eig_vals[i].real))"
   ]
  },
  {
   "cell_type": "code",
   "execution_count": 121,
   "metadata": {
    "scrolled": true
   },
   "outputs": [
    {
     "name": "stdout",
     "output_type": "stream",
     "text": [
      "Eigenvalues in decreasing order:\n",
      "\n",
      "5.30465969885828\n",
      "1.09461156413167e-15\n",
      "1.094225300886619e-17\n",
      "0.0\n"
     ]
    }
   ],
   "source": [
    "# Make a list of (eigenvalue, eigenvector) tuples\n",
    "eig_pairs = [(np.abs(eig_vals[i]), eig_vecs[:,i]) for i in range(len(eig_vals))]\n",
    "\n",
    "# Sort the (eigenvalue, eigenvector) tuples from high to low\n",
    "eig_pairs = sorted(eig_pairs, key=lambda k: k[0], reverse=True)\n",
    "\n",
    "# Visually confirm that the list is correctly sorted by decreasing eigenvalues\n",
    "\n",
    "print('Eigenvalues in decreasing order:\\n')\n",
    "for i in eig_pairs:\n",
    "    print(i[0])"
   ]
  },
  {
   "cell_type": "code",
   "execution_count": 122,
   "metadata": {
    "scrolled": true
   },
   "outputs": [
    {
     "name": "stdout",
     "output_type": "stream",
     "text": [
      "Variance explained:\n",
      "\n",
      "eigenvalue 1: 100.00%\n",
      "eigenvalue 2: 0.00%\n",
      "eigenvalue 3: 0.00%\n",
      "eigenvalue 4: 0.00%\n"
     ]
    }
   ],
   "source": [
    "print('Variance explained:\\n')\n",
    "eigv_sum = sum(eig_vals)\n",
    "for i,j in enumerate(eig_pairs):\n",
    "    print('eigenvalue {0:}: {1:.2%}'.format(i+1, (j[0]/eigv_sum).real))"
   ]
  },
  {
   "cell_type": "code",
   "execution_count": 123,
   "metadata": {
    "scrolled": true
   },
   "outputs": [
    {
     "name": "stdout",
     "output_type": "stream",
     "text": [
      "Matrix W:\n",
      " [[-0.23185534  0.36435436]\n",
      " [-0.28414311  0.24149775]\n",
      " [ 0.41967017 -0.56436052]\n",
      " [ 0.83029076  0.70030132]]\n"
     ]
    }
   ],
   "source": [
    "W = np.hstack((eig_pairs[0][1].reshape(4,1), eig_pairs[1][1].reshape(4,1)))\n",
    "print('Matrix W:\\n', W.real)\n"
   ]
  },
  {
   "cell_type": "code",
   "execution_count": 137,
   "metadata": {},
   "outputs": [],
   "source": [
    "X_lda_1 = X_1.dot(W)"
   ]
  },
  {
   "cell_type": "code",
   "execution_count": 138,
   "metadata": {},
   "outputs": [
    {
     "data": {
      "text/plain": [
       "array([[-1.42336671,  2.05340493],\n",
       "       [-1.23492409,  1.85978518],\n",
       "       [-1.42859549,  2.04111927],\n",
       "       [-1.09058211,  1.65345823],\n",
       "       [-1.24146177,  1.80707674],\n",
       "       [-1.81167104,  2.54207397],\n",
       "       [-1.61018354,  2.57298974],\n",
       "       [-1.48248942,  2.45580666],\n",
       "       [-1.38361355,  2.13944834],\n",
       "       [-1.27217017,  2.1853287 ],\n",
       "       [-1.11556072,  1.63776859],\n",
       "       [-1.17417559,  1.78334852],\n",
       "       [-1.12177468,  2.02000788],\n",
       "       [-1.41813794,  2.06569059],\n",
       "       [-1.25648384,  2.22218568],\n",
       "       [-1.39887228,  2.05739227],\n",
       "       [-1.48843903,  1.9346537 ],\n",
       "       [-1.35911912,  2.14343568],\n",
       "       [-0.90221972,  1.67146119],\n",
       "       [-1.21779206,  1.7823436 ],\n",
       "       [-0.98413084,  2.18421792],\n",
       "       [-1.42467561,  2.01298215],\n",
       "       [-1.22219611,  1.79877842],\n",
       "       [-1.48459939,  2.1181393 ],\n",
       "       [-1.34335256,  1.96866995],\n",
       "       [ 0.82932515,  1.21234348],\n",
       "       [ 0.85071762,  1.12378298],\n",
       "       [ 0.3971677 ,  1.20284261],\n",
       "       [ 0.57157344,  1.02980684],\n",
       "       [ 0.49272457,  1.1602805 ],\n",
       "       [ 0.89652428,  1.25083252],\n",
       "       [ 0.46778569,  1.61942178],\n",
       "       [ 0.98313268,  1.27570735],\n",
       "       [ 0.4389911 ,  1.15172245],\n",
       "       [ 1.07133396,  1.30112177],\n",
       "       [ 1.23173574,  1.47409545],\n",
       "       [ 1.13077356,  1.18426233],\n",
       "       [ 0.57607053,  1.51585291],\n",
       "       [ 1.10398504,  1.53437716],\n",
       "       [ 0.91880485,  1.39729932],\n",
       "       [ 0.42592256,  1.19571102],\n",
       "       [ 0.52111521,  1.40465481],\n",
       "       [ 1.31046465,  1.0804136 ],\n",
       "       [ 0.81170895,  1.27808277],\n",
       "       [ 0.64920646,  1.3613913 ],\n",
       "       [ 0.77249653,  1.26064303],\n",
       "       [ 0.82892121,  0.98901847],\n",
       "       [ 0.59149654,  1.32406899],\n",
       "       [ 0.40239648,  1.21512827],\n",
       "       [ 0.77641641,  1.23250592],\n",
       "       [ 0.58495887,  1.27136055],\n",
       "       [ 0.6224416 ,  1.44298204],\n",
       "       [ 0.27951035,  1.53920154],\n",
       "       [ 0.68284955,  1.34952718],\n",
       "       [ 2.19538702,  1.45696528],\n",
       "       [ 1.55997267,  1.09589946],\n",
       "       [ 1.89890381,  1.23943979],\n",
       "       [ 1.45356112,  1.03997069],\n",
       "       [ 1.9434413 ,  1.80089748],\n",
       "       [ 1.6227509 ,  1.56875287],\n",
       "       [ 1.72699916,  1.25936432],\n",
       "       [ 1.44322027,  1.24935616],\n",
       "       [ 1.32754011,  0.94607064],\n",
       "       [ 1.89148484,  1.10110949],\n",
       "       [ 1.32303217,  1.44265227],\n",
       "       [ 1.81428867,  1.31827552],\n",
       "       [ 1.24076443,  1.1950358 ],\n",
       "       [ 1.12946466,  1.14383955],\n",
       "       [ 1.35947036,  0.67045873],\n",
       "       [ 1.91607557,  1.63682913],\n",
       "       [ 1.43799149,  1.2370705 ],\n",
       "       [ 1.52918404,  1.68577413],\n",
       "       [ 1.56934114,  1.99514255],\n",
       "       [ 1.97674384,  1.77201518],\n",
       "       [ 1.50485688,  1.4079468 ],\n",
       "       [ 1.48337737,  1.55872458],\n",
       "       [ 1.41446541,  1.25648775]])"
      ]
     },
     "execution_count": 138,
     "metadata": {},
     "output_type": "execute_result"
    }
   ],
   "source": [
    "X_lda_1  ##first projection"
   ]
  },
  {
   "cell_type": "code",
   "execution_count": 139,
   "metadata": {},
   "outputs": [],
   "source": [
    "X_lda_1 = pd.DataFrame(X_lda_1)"
   ]
  },
  {
   "cell_type": "code",
   "execution_count": 146,
   "metadata": {},
   "outputs": [],
   "source": [
    "X_lda_1.shape\n",
    "X_lda_1[\"class\"] = data1[\"Species\"]"
   ]
  },
  {
   "cell_type": "code",
   "execution_count": 168,
   "metadata": {},
   "outputs": [],
   "source": [
    "X_lda_1.rename(columns={ 0: 'LD1'}, inplace=True)"
   ]
  },
  {
   "cell_type": "code",
   "execution_count": 170,
   "metadata": {},
   "outputs": [],
   "source": [
    "X_lda_1.rename(columns={ 1: 'LD2'}, inplace=True)"
   ]
  },
  {
   "cell_type": "code",
   "execution_count": 171,
   "metadata": {},
   "outputs": [
    {
     "data": {
      "text/plain": [
       "Index(['level_0', 'index', 'LD1', 'LD2', 'class'], dtype='object')"
      ]
     },
     "execution_count": 171,
     "metadata": {},
     "output_type": "execute_result"
    }
   ],
   "source": [
    "X_lda_1 = X_lda_1.reset_index(drop=True)\n",
    "X_lda_1.columns"
   ]
  },
  {
   "cell_type": "code",
   "execution_count": 181,
   "metadata": {
    "scrolled": true
   },
   "outputs": [
    {
     "data": {
      "text/plain": [
       "level_0      int64\n",
       "index        int64\n",
       "LD1        float64\n",
       "LD2        float64\n",
       "class       object\n",
       "dtype: object"
      ]
     },
     "execution_count": 181,
     "metadata": {},
     "output_type": "execute_result"
    }
   ],
   "source": [
    "X_lda_1.dtypes"
   ]
  },
  {
   "cell_type": "code",
   "execution_count": 183,
   "metadata": {},
   "outputs": [
    {
     "data": {
      "text/plain": [
       "Text(0.5,1,'LDA: Iris projection onto the first 2 linear discriminants')"
      ]
     },
     "execution_count": 183,
     "metadata": {},
     "output_type": "execute_result"
    },
    {
     "data": {
      "image/png": "[encoded data removed]",
      "text/plain": [
       "<Figure size 432x288 with 1 Axes>"
      ]
     },
     "metadata": {
      "needs_background": "light"
     },
     "output_type": "display_data"
    }
   ],
   "source": [
    "cmap = sns.cubehelix_palette(dark=.3, light=.8, as_cmap=True)\n",
    "from matplotlib import pyplot as plt\n",
    "\n",
    "ax = sns.scatterplot(x=\"LD1\", y=\"LD2\",hue=\"class\", style=\"class\",legend=\"full\", data=X_lda_1)\n",
    "plt.title('LDA: Iris projection onto the first 2 linear discriminants')\n"
   ]
  },
  {
   "cell_type": "code",
   "execution_count": 222,
   "metadata": {},
   "outputs": [
    {
     "name": "stderr",
     "output_type": "stream",
     "text": [
      "C:\\Users\\703222761\\Anaconda3\\lib\\site-packages\\ipykernel_launcher.py:2: DeprecationWarning: \n",
      ".ix is deprecated. Please use\n",
      ".loc for label based indexing or\n",
      ".iloc for positional indexing\n",
      "\n",
      "See the documentation here:\n",
      "http://pandas.pydata.org/pandas-docs/stable/indexing.html#ix-indexer-is-deprecated\n",
      "  \n",
      "C:\\Users\\703222761\\Anaconda3\\lib\\site-packages\\ipykernel_launcher.py:3: DeprecationWarning: \n",
      ".ix is deprecated. Please use\n",
      ".loc for label based indexing or\n",
      ".iloc for positional indexing\n",
      "\n",
      "See the documentation here:\n",
      "http://pandas.pydata.org/pandas-docs/stable/indexing.html#ix-indexer-is-deprecated\n",
      "  This is separate from the ipykernel package so we can avoid doing imports until\n"
     ]
    }
   ],
   "source": [
    "data1 = pd.read_csv('train.csv')\n",
    "data1.ix[data1.Species == 'versicolor' , 'Species'] = \"class4\"\n",
    "data1.ix[data1.Species == 'virginica' , 'Species'] = \"class4\"\n",
    "x = data1.iloc[:,1:6]\n",
    "X_train = x.iloc[:,0:4].values\n",
    "y_1 = x.iloc[:,4].values"
   ]
  },
  {
   "cell_type": "code",
   "execution_count": 223,
   "metadata": {},
   "outputs": [
    {
     "data": {
      "text/plain": [
       "array(['setosa', 'setosa', 'setosa', 'setosa', 'setosa', 'setosa',\n",
       "       'setosa', 'setosa', 'setosa', 'setosa', 'setosa', 'setosa',\n",
       "       'setosa', 'setosa', 'setosa', 'setosa', 'setosa', 'setosa',\n",
       "       'setosa', 'setosa', 'setosa', 'setosa', 'setosa', 'setosa',\n",
       "       'setosa', 'class4', 'class4', 'class4', 'class4', 'class4',\n",
       "       'class4', 'class4', 'class4', 'class4', 'class4', 'class4',\n",
       "       'class4', 'class4', 'class4', 'class4', 'class4', 'class4',\n",
       "       'class4', 'class4', 'class4', 'class4', 'class4', 'class4',\n",
       "       'class4', 'class4', 'class4', 'class4', 'class4', 'class4',\n",
       "       'class4', 'class4', 'class4', 'class4', 'class4', 'class4',\n",
       "       'class4', 'class4', 'class4', 'class4', 'class4', 'class4',\n",
       "       'class4', 'class4', 'class4', 'class4', 'class4', 'class4',\n",
       "       'class4', 'class4', 'class4', 'class4', 'class4'], dtype=object)"
      ]
     },
     "execution_count": 223,
     "metadata": {},
     "output_type": "execute_result"
    }
   ],
   "source": [
    "y_1"
   ]
  },
  {
   "cell_type": "code",
   "execution_count": 237,
   "metadata": {},
   "outputs": [],
   "source": [
    "from sklearn.discriminant_analysis import LinearDiscriminantAnalysis as LDA\n",
    "test_data = pd.read_csv('test.csv')\n",
    "X_test = pd.DataFrame(test_data.drop('Species',axis =  1)).values\n",
    "y_test = pd.DataFrame(test_data['Species']).values\n",
    "\n",
    "sklearn_lda = LDA(n_components=1,solver = 'eigen')\n",
    "X_lda_sklearn = sklearn_lda.fit_transform(X_train, y_1)\n",
    "\n",
    "y_pred = X_lda_sklearn.predict(X_test)\n",
    "X_lda_sklearn.transform(X_test)\n"
   ]
  },
  {
   "cell_type": "code",
   "execution_count": 239,
   "metadata": {},
   "outputs": [
    {
     "data": {
      "text/plain": [
       "array([[-2.83197294e+00],\n",
       "       [-2.41859514e+00],\n",
       "       [-2.88462925e+00],\n",
       "       [-2.23728490e+00],\n",
       "       [-2.57945758e+00],\n",
       "       [-3.46665211e+00],\n",
       "       [-3.51406040e+00],\n",
       "       [-3.19333004e+00],\n",
       "       [-2.96901932e+00],\n",
       "       [-2.86671605e+00],\n",
       "       [-2.40832295e+00],\n",
       "       [-2.32594770e+00],\n",
       "       [-2.56593296e+00],\n",
       "       [-2.77931663e+00],\n",
       "       [-2.70874713e+00],\n",
       "       [-2.70232448e+00],\n",
       "       [-2.89139156e+00],\n",
       "       [-2.83937086e+00],\n",
       "       [-1.84297568e+00],\n",
       "       [-2.51662567e+00],\n",
       "       [-2.58362232e+00],\n",
       "       [-2.94017907e+00],\n",
       "       [-2.50246544e+00],\n",
       "       [-2.96600997e+00],\n",
       "       [-2.66233336e+00],\n",
       "       [-2.35140808e-01],\n",
       "       [-3.63294211e-01],\n",
       "       [-6.64513566e-01],\n",
       "       [-2.75471606e-01],\n",
       "       [-3.52867694e-01],\n",
       "       [-3.80867737e-01],\n",
       "       [-9.29354434e-01],\n",
       "       [-4.33639881e-01],\n",
       "       [-6.23431325e-01],\n",
       "       [ 3.04952334e-02],\n",
       "       [-3.90415567e-01],\n",
       "       [ 1.49365358e-02],\n",
       "       [-7.01578857e-01],\n",
       "       [-3.27871759e-01],\n",
       "       [-4.45310539e-01],\n",
       "       [-5.64987983e-01],\n",
       "       [-6.81111814e-01],\n",
       "       [ 7.33606344e-02],\n",
       "       [-1.78499869e-01],\n",
       "       [-7.18228668e-01],\n",
       "       [-3.83338070e-01],\n",
       "       [-2.57461819e-01],\n",
       "       [-5.49968303e-01],\n",
       "       [-6.11857258e-01],\n",
       "       [-4.38887896e-01],\n",
       "       [-7.10830746e-01],\n",
       "       [-6.58694212e-01],\n",
       "       [-9.24426845e-01],\n",
       "       [-5.91473729e-01],\n",
       "       [ 3.31687511e-01],\n",
       "       [ 2.02470072e-01],\n",
       "       [ 5.04683951e-01],\n",
       "       [ 1.43358800e-01],\n",
       "       [-2.65444034e-02],\n",
       "       [ 4.87288555e-02],\n",
       "       [ 3.41658524e-01],\n",
       "       [ 2.84419175e-02],\n",
       "       [ 3.58604275e-01],\n",
       "       [ 6.60279135e-01],\n",
       "       [-4.86468214e-02],\n",
       "       [ 3.39740286e-01],\n",
       "       [-6.92897028e-03],\n",
       "       [-9.32695984e-02],\n",
       "       [ 3.54832070e-01],\n",
       "       [ 1.20472722e-03],\n",
       "       [-2.42143912e-02],\n",
       "       [-1.03856977e-01],\n",
       "       [-2.18582345e-01],\n",
       "       [ 7.47835834e-02],\n",
       "       [ 1.84799955e-01],\n",
       "       [-8.62834508e-02],\n",
       "       [-7.10836664e-02]])"
      ]
     },
     "execution_count": 239,
     "metadata": {},
     "output_type": "execute_result"
    }
   ],
   "source": [
    "X_lda_sklearn"
   ]
  },
  {
   "cell_type": "code",
   "execution_count": 120,
   "metadata": {},
   "outputs": [],
   "source": [
    "def plot_scikit_lda(X, title):\n",
    "\n",
    "    ax = plt.subplot(111)\n",
    "    for label,marker,color in zip(\n",
    "        range(1,3),('s', 'o'),('blue', 'red')):\n",
    "\n",
    "        plt.scatter(x=X_lda[:,0].real[y == label],\n",
    "                y=X_lda[:,1].real[y == label],\n",
    "                marker=marker,\n",
    "                color=color,\n",
    "                alpha=0.5,\n",
    "                label=label_dict[label]\n",
    "                )\n",
    "\n",
    "    plt.xlabel('LD1')\n",
    "    plt.ylabel('LD2')\n",
    "\n",
    "    leg = plt.legend(loc='upper right', fancybox=True)\n",
    "    leg.get_frame().set_alpha(0.5)\n",
    "    plt.title(title)\n",
    "\n",
    "    # hide axis ticks\n",
    "    plt.tick_params(axis=\"both\", which=\"both\", bottom=\"off\", top=\"off\",  \n",
    "            labelbottom=\"on\", left=\"off\", right=\"off\", labelleft=\"on\")\n",
    "\n",
    "    # remove axis spines\n",
    "    ax.spines[\"top\"].set_visible(False)  \n",
    "    ax.spines[\"right\"].set_visible(False)\n",
    "    ax.spines[\"bottom\"].set_visible(False)\n",
    "    ax.spines[\"left\"].set_visible(False)    \n",
    "\n",
    "    plt.grid()\n",
    "    plt.tight_layout\n",
    "    plt.show()"
   ]
  },
  {
   "cell_type": "code",
   "execution_count": 122,
   "metadata": {},
   "outputs": [
    {
     "name": "stderr",
     "output_type": "stream",
     "text": [
      "C:\\Users\\703222761\\Anaconda3\\envs\\py36\\lib\\site-packages\\matplotlib\\cbook\\__init__.py:424: MatplotlibDeprecationWarning: \n",
      "Passing one of 'on', 'true', 'off', 'false' as a boolean is deprecated; use an actual boolean (True/False) instead.\n",
      "  warn_deprecated(\"2.2\", \"Passing one of 'on', 'true', 'off', 'false' as a \"\n",
      "C:\\Users\\703222761\\Anaconda3\\envs\\py36\\lib\\site-packages\\matplotlib\\cbook\\__init__.py:424: MatplotlibDeprecationWarning: \n",
      "Passing one of 'on', 'true', 'off', 'false' as a boolean is deprecated; use an actual boolean (True/False) instead.\n",
      "  warn_deprecated(\"2.2\", \"Passing one of 'on', 'true', 'off', 'false' as a \"\n",
      "C:\\Users\\703222761\\Anaconda3\\envs\\py36\\lib\\site-packages\\matplotlib\\cbook\\__init__.py:424: MatplotlibDeprecationWarning: \n",
      "Passing one of 'on', 'true', 'off', 'false' as a boolean is deprecated; use an actual boolean (True/False) instead.\n",
      "  warn_deprecated(\"2.2\", \"Passing one of 'on', 'true', 'off', 'false' as a \"\n",
      "C:\\Users\\703222761\\Anaconda3\\envs\\py36\\lib\\site-packages\\matplotlib\\cbook\\__init__.py:424: MatplotlibDeprecationWarning: \n",
      "Passing one of 'on', 'true', 'off', 'false' as a boolean is deprecated; use an actual boolean (True/False) instead.\n",
      "  warn_deprecated(\"2.2\", \"Passing one of 'on', 'true', 'off', 'false' as a \"\n",
      "C:\\Users\\703222761\\Anaconda3\\envs\\py36\\lib\\site-packages\\matplotlib\\cbook\\__init__.py:424: MatplotlibDeprecationWarning: \n",
      "Passing one of 'on', 'true', 'off', 'false' as a boolean is deprecated; use an actual boolean (True/False) instead.\n",
      "  warn_deprecated(\"2.2\", \"Passing one of 'on', 'true', 'off', 'false' as a \"\n",
      "C:\\Users\\703222761\\Anaconda3\\envs\\py36\\lib\\site-packages\\matplotlib\\cbook\\__init__.py:424: MatplotlibDeprecationWarning: \n",
      "Passing one of 'on', 'true', 'off', 'false' as a boolean is deprecated; use an actual boolean (True/False) instead.\n",
      "  warn_deprecated(\"2.2\", \"Passing one of 'on', 'true', 'off', 'false' as a \"\n"
     ]
    },
    {
     "data": {
      "image/png": "[encoded data removed]",
      "text/plain": [
       "<Figure size 432x288 with 1 Axes>"
      ]
     },
     "metadata": {
      "needs_background": "light"
     },
     "output_type": "display_data"
    }
   ],
   "source": [
    "plot_scikit_lda(X_lda_sklearn, title='Default LDA via scikit-learn')"
   ]
  },
  {
   "cell_type": "code",
   "execution_count": 240,
   "metadata": {},
   "outputs": [],
   "source": [
    "data1 = pd.read_csv('train.csv')"
   ]
  },
  {
   "cell_type": "code",
   "execution_count": 241,
   "metadata": {},
   "outputs": [
    {
     "data": {
      "text/plain": [
       "(77, 6)"
      ]
     },
     "execution_count": 241,
     "metadata": {},
     "output_type": "execute_result"
    }
   ],
   "source": [
    "data1.shape"
   ]
  },
  {
   "cell_type": "code",
   "execution_count": 242,
   "metadata": {},
   "outputs": [
    {
     "data": {
      "text/plain": [
       "array(['setosa', 'versicolor', 'virginica'], dtype=object)"
      ]
     },
     "execution_count": 242,
     "metadata": {},
     "output_type": "execute_result"
    }
   ],
   "source": [
    "data1.Species.unique()"
   ]
  },
  {
   "cell_type": "code",
   "execution_count": 243,
   "metadata": {},
   "outputs": [],
   "source": [
    "data1 = data1.iloc[25:77,:]"
   ]
  },
  {
   "cell_type": "code",
   "execution_count": 244,
   "metadata": {},
   "outputs": [],
   "source": [
    "data1 = data1.iloc[:,1:6]"
   ]
  },
  {
   "cell_type": "code",
   "execution_count": 268,
   "metadata": {},
   "outputs": [
    {
     "data": {
      "text/plain": [
       "array(['versicolor', 'versicolor', 'versicolor', 'versicolor',\n",
       "       'versicolor', 'versicolor', 'versicolor', 'versicolor',\n",
       "       'versicolor', 'versicolor', 'versicolor', 'versicolor',\n",
       "       'versicolor', 'versicolor', 'versicolor', 'versicolor',\n",
       "       'versicolor', 'versicolor', 'versicolor', 'versicolor',\n",
       "       'versicolor', 'versicolor', 'versicolor', 'versicolor',\n",
       "       'versicolor', 'versicolor', 'versicolor', 'versicolor',\n",
       "       'versicolor', 'virginica', 'virginica', 'virginica', 'virginica',\n",
       "       'virginica', 'virginica', 'virginica', 'virginica', 'virginica',\n",
       "       'virginica', 'virginica', 'virginica', 'virginica', 'virginica',\n",
       "       'virginica', 'virginica', 'virginica', 'virginica', 'virginica',\n",
       "       'virginica', 'virginica', 'virginica', 'virginica'], dtype=object)"
      ]
     },
     "execution_count": 268,
     "metadata": {},
     "output_type": "execute_result"
    }
   ],
   "source": [
    "data1['Species'].values"
   ]
  },
  {
   "cell_type": "code",
   "execution_count": 245,
   "metadata": {},
   "outputs": [
    {
     "data": {
      "text/plain": [
       "array([1, 1, 1, 1, 1, 1, 1, 1, 1, 1, 1, 1, 1, 1, 1, 1, 1, 1, 1, 1, 1, 1,\n",
       "       1, 1, 1, 1, 1, 1, 1, 2, 2, 2, 2, 2, 2, 2, 2, 2, 2, 2, 2, 2, 2, 2,\n",
       "       2, 2, 2, 2, 2, 2, 2, 2], dtype=int64)"
      ]
     },
     "execution_count": 245,
     "metadata": {},
     "output_type": "execute_result"
    }
   ],
   "source": [
    "from sklearn.preprocessing import LabelEncoder\n",
    "\n",
    "y = data1['Species'].values\n",
    "enc = LabelEncoder()\n",
    "label_encoder = enc.fit(y)\n",
    "y = label_encoder.transform(y) + 1\n",
    "\n",
    "y\n"
   ]
  },
  {
   "cell_type": "code",
   "execution_count": 246,
   "metadata": {},
   "outputs": [],
   "source": [
    "label_dict = {1:'versicolor', 2: 'virginica'}"
   ]
  },
  {
   "cell_type": "code",
   "execution_count": 247,
   "metadata": {},
   "outputs": [
    {
     "name": "stdout",
     "output_type": "stream",
     "text": [
      "Mean Vector class 1: [5.75862069 2.65172414 4.16896552 1.28965517]\n",
      "\n",
      "Mean Vector class 2: [6.48695652 2.92173913 5.4826087  1.96521739]\n",
      "\n"
     ]
    }
   ],
   "source": [
    "mean_vectors = []\n",
    "X = data1.iloc[:,0:4].values\n",
    "for cl in range(1,3):\n",
    "    mean_vectors.append(np.mean(X[y==cl], axis=0))\n",
    "    print('Mean Vector class %s: %s\\n' %(cl, mean_vectors[cl-1]))"
   ]
  },
  {
   "cell_type": "code",
   "execution_count": 248,
   "metadata": {},
   "outputs": [
    {
     "name": "stdout",
     "output_type": "stream",
     "text": [
      "within-class Scatter Matrix:\n",
      " [[13.59643178  3.4885907  10.67754123  3.20715142]\n",
      " [ 3.4885907   4.91154423  3.89524738  2.74290855]\n",
      " [10.67754123  3.89524738 13.53511244  3.97677661]\n",
      " [ 3.20715142  2.74290855  3.97677661  3.61907046]]\n"
     ]
    }
   ],
   "source": [
    "\n",
    "S_W = np.zeros((4,4))\n",
    "for cl,mv in zip(range(1,3), mean_vectors):\n",
    "    class_sc_mat = np.zeros((4,4))                  # scatter matrix for every class\n",
    "    for row in X[y == cl]:\n",
    "        row, mv = row.reshape(4,1), mv.reshape(4,1) # make column vectors\n",
    "        class_sc_mat += (row-mv).dot((row-mv).T)\n",
    "    S_W += class_sc_mat                             # sum class scatter matrices\n",
    "print('within-class Scatter Matrix:\\n', S_W)\n"
   ]
  },
  {
   "cell_type": "code",
   "execution_count": 249,
   "metadata": {},
   "outputs": [],
   "source": [
    "overall_mean = np.mean(X, axis=0)\n"
   ]
  },
  {
   "cell_type": "code",
   "execution_count": 250,
   "metadata": {},
   "outputs": [],
   "source": [
    "S_B = np.zeros((4,4))\n",
    "for i,mean_vec in enumerate(mean_vectors):  \n",
    "    n = X[y==i+1,:].shape[0]\n",
    "    mean_vec = mean_vec.reshape(4,1) # make column vector\n",
    "    overall_mean = overall_mean.reshape(4,1) # make column vector\n",
    "    S_B += n * (mean_vec - overall_mean).dot((mean_vec - overall_mean).T)"
   ]
  },
  {
   "cell_type": "code",
   "execution_count": 251,
   "metadata": {},
   "outputs": [
    {
     "name": "stdout",
     "output_type": "stream",
     "text": [
      "between-class Scatter Matrix:\n",
      " [[ 6.80433745  2.52256314 12.27245877  6.31131011]\n",
      " [ 2.52256314  0.93518654  4.54975262  2.33978376]\n",
      " [12.27245877  4.54975262 22.13488756 11.38322339]\n",
      " [ 6.31131011  2.33978376 11.38322339  5.85400646]]\n"
     ]
    }
   ],
   "source": [
    "print('between-class Scatter Matrix:\\n', S_B)"
   ]
  },
  {
   "cell_type": "code",
   "execution_count": 252,
   "metadata": {},
   "outputs": [
    {
     "name": "stdout",
     "output_type": "stream",
     "text": [
      "\n",
      "Eigenvector 1: \n",
      "[[-0.81741431]\n",
      " [-0.24196725]\n",
      " [ 0.27398145]\n",
      " [ 0.44521889]]\n",
      "Eigenvalue 1: 0.00e+00\n",
      "\n",
      "Eigenvector 2: \n",
      "[[-0.21932563]\n",
      " [-0.40981803]\n",
      " [ 0.46404023]\n",
      " [ 0.75406374]]\n",
      "Eigenvalue 2: 2.68e+00\n",
      "\n",
      "Eigenvector 3: \n",
      "[[ 0.63042257]\n",
      " [-0.2595638 ]\n",
      " [-0.03939987]\n",
      " [-0.49931132]]\n",
      "Eigenvalue 3: -1.28e-16\n",
      "\n",
      "Eigenvector 4: \n",
      "[[ 0.63042257]\n",
      " [-0.2595638 ]\n",
      " [-0.03939987]\n",
      " [-0.49931132]]\n",
      "Eigenvalue 4: -1.28e-16\n"
     ]
    }
   ],
   "source": [
    "eig_vals, eig_vecs = np.linalg.eig(np.linalg.inv(S_W).dot(S_B))\n",
    "\n",
    "for i in range(len(eig_vals)):\n",
    "    eigvec_sc = eig_vecs[:,i].reshape(4,1)   \n",
    "    print('\\nEigenvector {}: \\n{}'.format(i+1, eigvec_sc.real))\n",
    "    print('Eigenvalue {:}: {:.2e}'.format(i+1, eig_vals[i].real))"
   ]
  },
  {
   "cell_type": "code",
   "execution_count": 253,
   "metadata": {},
   "outputs": [],
   "source": [
    "# Make a list of (eigenvalue, eigenvector) tuples\n",
    "eig_pairs = [(np.abs(eig_vals[i]), eig_vecs[:,i]) for i in range(len(eig_vals))]\n",
    "\n",
    "# Sort the (eigenvalue, eigenvector) tuples from high to low\n",
    "eig_pairs = sorted(eig_pairs, key=lambda k: k[0], reverse=True)\n"
   ]
  },
  {
   "cell_type": "code",
   "execution_count": 254,
   "metadata": {},
   "outputs": [
    {
     "name": "stdout",
     "output_type": "stream",
     "text": [
      "Eigenvalues in decreasing order:\n",
      "\n",
      "2.6770090003768017\n",
      "1.5257336527723724e-16\n",
      "1.5257336527723724e-16\n",
      "0.0\n"
     ]
    }
   ],
   "source": [
    "# Visually confirm that the list is correctly sorted by decreasing eigenvalues\n",
    "\n",
    "print('Eigenvalues in decreasing order:\\n')\n",
    "for i in eig_pairs:\n",
    "    print(i[0])"
   ]
  },
  {
   "cell_type": "code",
   "execution_count": 256,
   "metadata": {},
   "outputs": [
    {
     "name": "stdout",
     "output_type": "stream",
     "text": [
      "Variance explained:\n",
      "\n",
      "eigenvalue 1: 100.00%\n",
      "eigenvalue 2: 0.00%\n",
      "eigenvalue 3: 0.00%\n",
      "eigenvalue 4: 0.00%\n"
     ]
    }
   ],
   "source": [
    "print('Variance explained:\\n')\n",
    "eigv_sum = sum(eig_vals)\n",
    "for i,j in enumerate(eig_pairs):\n",
    "    print('eigenvalue {0:}: {1:.2%}'.format(i+1, (j[0]/eigv_sum).real))"
   ]
  },
  {
   "cell_type": "code",
   "execution_count": 257,
   "metadata": {},
   "outputs": [
    {
     "name": "stdout",
     "output_type": "stream",
     "text": [
      "Matrix W:\n",
      " [[-0.21932563  0.63042257]\n",
      " [-0.40981803 -0.2595638 ]\n",
      " [ 0.46404023 -0.03939987]\n",
      " [ 0.75406374 -0.49931132]]\n"
     ]
    }
   ],
   "source": [
    "\n",
    "W = np.hstack((eig_pairs[0][1].reshape(4,1), eig_pairs[1][1].reshape(4,1)))\n",
    "print('Matrix W:\\n', W.real)"
   ]
  },
  {
   "cell_type": "code",
   "execution_count": 273,
   "metadata": {},
   "outputs": [],
   "source": [
    "\n",
    "X_lda_2 = X.dot(W)\n",
    "\n",
    "X_lda_2 = pd.DataFrame(X_lda_2)"
   ]
  },
  {
   "cell_type": "code",
   "execution_count": 274,
   "metadata": {},
   "outputs": [
    {
     "data": {
      "text/html": [
       "<div>\n",
       "<style scoped>\n",
       "    .dataframe tbody tr th:only-of-type {\n",
       "        vertical-align: middle;\n",
       "    }\n",
       "\n",
       "    .dataframe tbody tr th {\n",
       "        vertical-align: top;\n",
       "    }\n",
       "\n",
       "    .dataframe thead th {\n",
       "        text-align: right;\n",
       "    }\n",
       "</style>\n",
       "<table border=\"1\" class=\"dataframe\">\n",
       "  <thead>\n",
       "    <tr style=\"text-align: right;\">\n",
       "      <th></th>\n",
       "      <th>0</th>\n",
       "      <th>1</th>\n",
       "    </tr>\n",
       "  </thead>\n",
       "  <tbody>\n",
       "    <tr>\n",
       "      <th>0</th>\n",
       "      <td>(0.6875713841561781+0j)</td>\n",
       "      <td>(2.063623217375205+0.4014306770103133j)</td>\n",
       "    </tr>\n",
       "    <tr>\n",
       "      <th>1</th>\n",
       "      <td>(0.6708173615596684+0j)</td>\n",
       "      <td>(2.0402258968414513+0.49513034926899724j)</td>\n",
       "    </tr>\n",
       "    <tr>\n",
       "      <th>2</th>\n",
       "      <td>(0.2271376735877127+0j)</td>\n",
       "      <td>(1.8367865976674898+0.5166419773096856j)</td>\n",
       "    </tr>\n",
       "    <tr>\n",
       "      <th>3</th>\n",
       "      <td>(0.46194036797196614+0j)</td>\n",
       "      <td>(1.9957744011909422+0.30975420442194246j)</td>\n",
       "    </tr>\n",
       "    <tr>\n",
       "      <th>4</th>\n",
       "      <td>(0.39267125326421315+0j)</td>\n",
       "      <td>(2.5545842788934015+0.28127005578501807j)</td>\n",
       "    </tr>\n",
       "    <tr>\n",
       "      <th>5</th>\n",
       "      <td>(0.7103197288124392+0j)</td>\n",
       "      <td>(2.2086274401922585+0.5183598381828545j)</td>\n",
       "    </tr>\n",
       "    <tr>\n",
       "      <th>6</th>\n",
       "      <td>(0.23413191316830717+0j)</td>\n",
       "      <td>(1.9866871422083863+0.7337503421887276j)</td>\n",
       "    </tr>\n",
       "    <tr>\n",
       "      <th>7</th>\n",
       "      <td>(0.7615990660940257+0j)</td>\n",
       "      <td>(1.8254086160434653+0.629541350483909j)</td>\n",
       "    </tr>\n",
       "    <tr>\n",
       "      <th>8</th>\n",
       "      <td>(0.278031388150524+0j)</td>\n",
       "      <td>(2.29477787716874+0.4629217514308991j)</td>\n",
       "    </tr>\n",
       "    <tr>\n",
       "      <th>9</th>\n",
       "      <td>(0.9578581122717611+0j)</td>\n",
       "      <td>(2.411313199993373+0.3037178280956202j)</td>\n",
       "    </tr>\n",
       "    <tr>\n",
       "      <th>10</th>\n",
       "      <td>(0.9792689636737637+0j)</td>\n",
       "      <td>(1.8010092716797097+0.7244658944673426j)</td>\n",
       "    </tr>\n",
       "    <tr>\n",
       "      <th>11</th>\n",
       "      <td>(0.9985962343541891+0j)</td>\n",
       "      <td>(2.3807263692567613+0.3379496256040311j)</td>\n",
       "    </tr>\n",
       "    <tr>\n",
       "      <th>12</th>\n",
       "      <td>(0.3834995750641717+0j)</td>\n",
       "      <td>(2.4634452915542133+0.5798343012611321j)</td>\n",
       "    </tr>\n",
       "    <tr>\n",
       "      <th>13</th>\n",
       "      <td>(0.9031737415186969+0j)</td>\n",
       "      <td>(2.3993112476611547+0.5725564418677518j)</td>\n",
       "    </tr>\n",
       "    <tr>\n",
       "      <th>14</th>\n",
       "      <td>(0.7148506187113459+0j)</td>\n",
       "      <td>(2.103534025137855+0.5888134101853729j)</td>\n",
       "    </tr>\n",
       "    <tr>\n",
       "      <th>15</th>\n",
       "      <td>(0.28115839108649454+0j)</td>\n",
       "      <td>(2.1992801933818744+0.4286899539224881j)</td>\n",
       "    </tr>\n",
       "    <tr>\n",
       "      <th>16</th>\n",
       "      <td>(0.33603608920692735+0j)</td>\n",
       "      <td>(2.2027955876553857+0.5598528837423373j)</td>\n",
       "    </tr>\n",
       "    <tr>\n",
       "      <th>17</th>\n",
       "      <td>(1.1506447365172359+0j)</td>\n",
       "      <td>(2.081875731727963+0.4019070548164243j)</td>\n",
       "    </tr>\n",
       "    <tr>\n",
       "      <th>18</th>\n",
       "      <td>(0.6977269766365619+0j)</td>\n",
       "      <td>(2.552201327613068+0.3134786536231158j)</td>\n",
       "    </tr>\n",
       "    <tr>\n",
       "      <th>19</th>\n",
       "      <td>(0.4251702262066596+0j)</td>\n",
       "      <td>(1.9410308273408916+0.664538253253267j)</td>\n",
       "    </tr>\n",
       "    <tr>\n",
       "      <th>20</th>\n",
       "      <td>(0.6056077788479457+0j)</td>\n",
       "      <td>(2.011710457280336+0.48288655760738575j)</td>\n",
       "    </tr>\n",
       "    <tr>\n",
       "      <th>21</th>\n",
       "      <td>(0.6748356950811094+0j)</td>\n",
       "      <td>(2.0199252610975433+0.4091849142098043j)</td>\n",
       "    </tr>\n",
       "    <tr>\n",
       "      <th>22</th>\n",
       "      <td>(0.42342191499953735+0j)</td>\n",
       "      <td>(2.2248119807388083+0.49713693759700184j)</td>\n",
       "    </tr>\n",
       "    <tr>\n",
       "      <th>23</th>\n",
       "      <td>(0.24618691373263007+0j)</td>\n",
       "      <td>(1.925785234976663+0.47591403701114954j)</td>\n",
       "    </tr>\n",
       "    <tr>\n",
       "      <th>24</th>\n",
       "      <td>(0.5945196573075022+0j)</td>\n",
       "      <td>(2.0149599805191825+0.5203664265108592j)</td>\n",
       "    </tr>\n",
       "    <tr>\n",
       "      <th>25</th>\n",
       "      <td>(0.37423531316925923+0j)</td>\n",
       "      <td>(2.0500642293593074+0.6160726870975475j)</td>\n",
       "    </tr>\n",
       "    <tr>\n",
       "      <th>26</th>\n",
       "      <td>(0.4273647000825696+0j)</td>\n",
       "      <td>(2.337360777030735+0.5798343012611321j)</td>\n",
       "    </tr>\n",
       "    <tr>\n",
       "      <th>27</th>\n",
       "      <td>(0.078485050166413+0j)</td>\n",
       "      <td>(1.8988035613148797+0.6498114954575396j)</td>\n",
       "    </tr>\n",
       "    <tr>\n",
       "      <th>28</th>\n",
       "      <td>(0.485201269005693+0j)</td>\n",
       "      <td>(2.0559858446974992+0.5830823726561948j)</td>\n",
       "    </tr>\n",
       "    <tr>\n",
       "      <th>29</th>\n",
       "      <td>(1.935249804311645+0j)</td>\n",
       "      <td>(1.6304241550662621+0.6866806867667252j)</td>\n",
       "    </tr>\n",
       "    <tr>\n",
       "      <th>30</th>\n",
       "      <td>(1.3857163067072669+0j)</td>\n",
       "      <td>(2.099527545156872+0.4263780267973394j)</td>\n",
       "    </tr>\n",
       "    <tr>\n",
       "      <th>31</th>\n",
       "      <td>(1.7498705438185886+0j)</td>\n",
       "      <td>(2.7039272447098543+0.32665858955464144j)</td>\n",
       "    </tr>\n",
       "    <tr>\n",
       "      <th>32</th>\n",
       "      <td>(1.2708487642623896+0j)</td>\n",
       "      <td>(1.4140324520070873+0.4788567696090681j)</td>\n",
       "    </tr>\n",
       "    <tr>\n",
       "      <th>33</th>\n",
       "      <td>(1.6613153569049994+0j)</td>\n",
       "      <td>(2.1159953433155962+0.7868765018155339j)</td>\n",
       "    </tr>\n",
       "    <tr>\n",
       "      <th>34</th>\n",
       "      <td>(1.4148867893687485+0j)</td>\n",
       "      <td>(2.2429290432200757+0.5685266538694345j)</td>\n",
       "    </tr>\n",
       "    <tr>\n",
       "      <th>35</th>\n",
       "      <td>(1.5536275008813534+0j)</td>\n",
       "      <td>(1.7488771801188698+0.44834942130183086j)</td>\n",
       "    </tr>\n",
       "    <tr>\n",
       "      <th>36</th>\n",
       "      <td>(1.254465355896259+0j)</td>\n",
       "      <td>(2.203595666596927+0.48909397294267487j)</td>\n",
       "    </tr>\n",
       "    <tr>\n",
       "      <th>37</th>\n",
       "      <td>(1.233743352982628+0j)</td>\n",
       "      <td>(2.2655287506498354+0.19377779886162338j)</td>\n",
       "    </tr>\n",
       "    <tr>\n",
       "      <th>38</th>\n",
       "      <td>(1.7808992360894205+0j)</td>\n",
       "      <td>(2.86487340682314+0.19673714280184984j)</td>\n",
       "    </tr>\n",
       "    <tr>\n",
       "      <th>39</th>\n",
       "      <td>(1.142851750046043+0j)</td>\n",
       "      <td>(2.1790202139998245+0.49883818712786265j)</td>\n",
       "    </tr>\n",
       "    <tr>\n",
       "      <th>40</th>\n",
       "      <td>(1.6309846678522701+0j)</td>\n",
       "      <td>(2.038732787303978+0.46508276742556287j)</td>\n",
       "    </tr>\n",
       "    <tr>\n",
       "      <th>41</th>\n",
       "      <td>(1.0893367404139571+0j)</td>\n",
       "      <td>(2.7329337699784406+0.37017483478443713j)</td>\n",
       "    </tr>\n",
       "    <tr>\n",
       "      <th>42</th>\n",
       "      <td>(0.9684588726688279+0j)</td>\n",
       "      <td>(2.294977255186434+0.4161574348060406j)</td>\n",
       "    </tr>\n",
       "    <tr>\n",
       "      <th>43</th>\n",
       "      <td>(1.2509013450212314+0j)</td>\n",
       "      <td>(2.2510366976584537+0.19828396466605192j)</td>\n",
       "    </tr>\n",
       "    <tr>\n",
       "      <th>44</th>\n",
       "      <td>(1.633245535436858+0j)</td>\n",
       "      <td>(1.6701588545955648+0.7888830901435386j)</td>\n",
       "    </tr>\n",
       "    <tr>\n",
       "      <th>45</th>\n",
       "      <td>(1.2354161157513417+0j)</td>\n",
       "      <td>(2.1145970292877543+0.529821913241211j)</td>\n",
       "    </tr>\n",
       "    <tr>\n",
       "      <th>46</th>\n",
       "      <td>(1.3055684010669397+0j)</td>\n",
       "      <td>(2.283954907398392+0.6312426000147697j)</td>\n",
       "    </tr>\n",
       "    <tr>\n",
       "      <th>47</th>\n",
       "      <td>(1.3171690789848485+0j)</td>\n",
       "      <td>(2.19591260484905+0.7501617381730075j)</td>\n",
       "    </tr>\n",
       "    <tr>\n",
       "      <th>48</th>\n",
       "      <td>(1.7083074848593678+0j)</td>\n",
       "      <td>(1.8944131450052533+0.7526447043071234j)</td>\n",
       "    </tr>\n",
       "    <tr>\n",
       "      <th>49</th>\n",
       "      <td>(1.3466257521594642+0j)</td>\n",
       "      <td>(2.177061855409992+0.42187186099291085j)</td>\n",
       "    </tr>\n",
       "    <tr>\n",
       "      <th>50</th>\n",
       "      <td>(1.2660660338141685+0j)</td>\n",
       "      <td>(2.1155533640475848+0.6080131111009124j)</td>\n",
       "    </tr>\n",
       "    <tr>\n",
       "      <th>51</th>\n",
       "      <td>(1.2004446383974774+0j)</td>\n",
       "      <td>(1.8411020708825427+0.5770459963298722j)</td>\n",
       "    </tr>\n",
       "  </tbody>\n",
       "</table>\n",
       "</div>"
      ],
      "text/plain": [
       "                           0                                          1\n",
       "0    (0.6875713841561781+0j)    (2.063623217375205+0.4014306770103133j)\n",
       "1    (0.6708173615596684+0j)  (2.0402258968414513+0.49513034926899724j)\n",
       "2    (0.2271376735877127+0j)   (1.8367865976674898+0.5166419773096856j)\n",
       "3   (0.46194036797196614+0j)  (1.9957744011909422+0.30975420442194246j)\n",
       "4   (0.39267125326421315+0j)  (2.5545842788934015+0.28127005578501807j)\n",
       "5    (0.7103197288124392+0j)   (2.2086274401922585+0.5183598381828545j)\n",
       "6   (0.23413191316830717+0j)   (1.9866871422083863+0.7337503421887276j)\n",
       "7    (0.7615990660940257+0j)    (1.8254086160434653+0.629541350483909j)\n",
       "8     (0.278031388150524+0j)     (2.29477787716874+0.4629217514308991j)\n",
       "9    (0.9578581122717611+0j)    (2.411313199993373+0.3037178280956202j)\n",
       "10   (0.9792689636737637+0j)   (1.8010092716797097+0.7244658944673426j)\n",
       "11   (0.9985962343541891+0j)   (2.3807263692567613+0.3379496256040311j)\n",
       "12   (0.3834995750641717+0j)   (2.4634452915542133+0.5798343012611321j)\n",
       "13   (0.9031737415186969+0j)   (2.3993112476611547+0.5725564418677518j)\n",
       "14   (0.7148506187113459+0j)    (2.103534025137855+0.5888134101853729j)\n",
       "15  (0.28115839108649454+0j)   (2.1992801933818744+0.4286899539224881j)\n",
       "16  (0.33603608920692735+0j)   (2.2027955876553857+0.5598528837423373j)\n",
       "17   (1.1506447365172359+0j)    (2.081875731727963+0.4019070548164243j)\n",
       "18   (0.6977269766365619+0j)    (2.552201327613068+0.3134786536231158j)\n",
       "19   (0.4251702262066596+0j)    (1.9410308273408916+0.664538253253267j)\n",
       "20   (0.6056077788479457+0j)   (2.011710457280336+0.48288655760738575j)\n",
       "21   (0.6748356950811094+0j)   (2.0199252610975433+0.4091849142098043j)\n",
       "22  (0.42342191499953735+0j)  (2.2248119807388083+0.49713693759700184j)\n",
       "23  (0.24618691373263007+0j)   (1.925785234976663+0.47591403701114954j)\n",
       "24   (0.5945196573075022+0j)   (2.0149599805191825+0.5203664265108592j)\n",
       "25  (0.37423531316925923+0j)   (2.0500642293593074+0.6160726870975475j)\n",
       "26   (0.4273647000825696+0j)    (2.337360777030735+0.5798343012611321j)\n",
       "27    (0.078485050166413+0j)   (1.8988035613148797+0.6498114954575396j)\n",
       "28    (0.485201269005693+0j)   (2.0559858446974992+0.5830823726561948j)\n",
       "29    (1.935249804311645+0j)   (1.6304241550662621+0.6866806867667252j)\n",
       "30   (1.3857163067072669+0j)    (2.099527545156872+0.4263780267973394j)\n",
       "31   (1.7498705438185886+0j)  (2.7039272447098543+0.32665858955464144j)\n",
       "32   (1.2708487642623896+0j)   (1.4140324520070873+0.4788567696090681j)\n",
       "33   (1.6613153569049994+0j)   (2.1159953433155962+0.7868765018155339j)\n",
       "34   (1.4148867893687485+0j)   (2.2429290432200757+0.5685266538694345j)\n",
       "35   (1.5536275008813534+0j)  (1.7488771801188698+0.44834942130183086j)\n",
       "36    (1.254465355896259+0j)   (2.203595666596927+0.48909397294267487j)\n",
       "37    (1.233743352982628+0j)  (2.2655287506498354+0.19377779886162338j)\n",
       "38   (1.7808992360894205+0j)    (2.86487340682314+0.19673714280184984j)\n",
       "39    (1.142851750046043+0j)  (2.1790202139998245+0.49883818712786265j)\n",
       "40   (1.6309846678522701+0j)   (2.038732787303978+0.46508276742556287j)\n",
       "41   (1.0893367404139571+0j)  (2.7329337699784406+0.37017483478443713j)\n",
       "42   (0.9684588726688279+0j)    (2.294977255186434+0.4161574348060406j)\n",
       "43   (1.2509013450212314+0j)  (2.2510366976584537+0.19828396466605192j)\n",
       "44    (1.633245535436858+0j)   (1.6701588545955648+0.7888830901435386j)\n",
       "45   (1.2354161157513417+0j)    (2.1145970292877543+0.529821913241211j)\n",
       "46   (1.3055684010669397+0j)    (2.283954907398392+0.6312426000147697j)\n",
       "47   (1.3171690789848485+0j)     (2.19591260484905+0.7501617381730075j)\n",
       "48   (1.7083074848593678+0j)   (1.8944131450052533+0.7526447043071234j)\n",
       "49   (1.3466257521594642+0j)   (2.177061855409992+0.42187186099291085j)\n",
       "50   (1.2660660338141685+0j)   (2.1155533640475848+0.6080131111009124j)\n",
       "51   (1.2004446383974774+0j)   (1.8411020708825427+0.5770459963298722j)"
      ]
     },
     "execution_count": 274,
     "metadata": {},
     "output_type": "execute_result"
    }
   ],
   "source": [
    "X_lda_2"
   ]
  },
  {
   "cell_type": "code",
   "execution_count": 291,
   "metadata": {},
   "outputs": [],
   "source": [
    "f  = np.array(data1['Species'])"
   ]
  },
  {
   "cell_type": "code",
   "execution_count": 296,
   "metadata": {},
   "outputs": [
    {
     "data": {
      "text/plain": [
       "RangeIndex(start=0, stop=1, step=1)"
      ]
     },
     "execution_count": 296,
     "metadata": {},
     "output_type": "execute_result"
    }
   ],
   "source": []
  },
  {
   "cell_type": "code",
   "execution_count": 293,
   "metadata": {},
   "outputs": [],
   "source": [
    "f = pd.DataFrame(f)"
   ]
  },
  {
   "cell_type": "code",
   "execution_count": 297,
   "metadata": {},
   "outputs": [],
   "source": [
    "\n",
    "X_lda_2[\"class\"] = f"
   ]
  },
  {
   "cell_type": "code",
   "execution_count": 298,
   "metadata": {},
   "outputs": [
    {
     "data": {
      "text/plain": [
       "0     versicolor\n",
       "1     versicolor\n",
       "2     versicolor\n",
       "3     versicolor\n",
       "4     versicolor\n",
       "5     versicolor\n",
       "6     versicolor\n",
       "7     versicolor\n",
       "8     versicolor\n",
       "9     versicolor\n",
       "10    versicolor\n",
       "11    versicolor\n",
       "12    versicolor\n",
       "13    versicolor\n",
       "14    versicolor\n",
       "15    versicolor\n",
       "16    versicolor\n",
       "17    versicolor\n",
       "18    versicolor\n",
       "19    versicolor\n",
       "20    versicolor\n",
       "21    versicolor\n",
       "22    versicolor\n",
       "23    versicolor\n",
       "24    versicolor\n",
       "25    versicolor\n",
       "26    versicolor\n",
       "27    versicolor\n",
       "28    versicolor\n",
       "29     virginica\n",
       "30     virginica\n",
       "31     virginica\n",
       "32     virginica\n",
       "33     virginica\n",
       "34     virginica\n",
       "35     virginica\n",
       "36     virginica\n",
       "37     virginica\n",
       "38     virginica\n",
       "39     virginica\n",
       "40     virginica\n",
       "41     virginica\n",
       "42     virginica\n",
       "43     virginica\n",
       "44     virginica\n",
       "45     virginica\n",
       "46     virginica\n",
       "47     virginica\n",
       "48     virginica\n",
       "49     virginica\n",
       "50     virginica\n",
       "51     virginica\n",
       "Name: class, dtype: object"
      ]
     },
     "execution_count": 298,
     "metadata": {},
     "output_type": "execute_result"
    }
   ],
   "source": [
    "X_lda_2[\"class\"]"
   ]
  },
  {
   "cell_type": "code",
   "execution_count": 300,
   "metadata": {},
   "outputs": [],
   "source": [
    "X_lda_2.rename(columns={ 0: 'LD1'}, inplace=True)"
   ]
  },
  {
   "cell_type": "code",
   "execution_count": 301,
   "metadata": {},
   "outputs": [],
   "source": [
    "X_lda_2.rename(columns={ 1: 'LD2'}, inplace=True)"
   ]
  },
  {
   "cell_type": "code",
   "execution_count": 302,
   "metadata": {},
   "outputs": [
    {
     "data": {
      "text/plain": [
       "Index(['LD1', 'LD2', 'class'], dtype='object')"
      ]
     },
     "execution_count": 302,
     "metadata": {},
     "output_type": "execute_result"
    }
   ],
   "source": [
    "X_lda_2 = X_lda_2.reset_index(drop=True)\n",
    "X_lda_2.columns"
   ]
  },
  {
   "cell_type": "code",
   "execution_count": 303,
   "metadata": {
    "scrolled": true
   },
   "outputs": [
    {
     "data": {
      "text/plain": [
       "LD1      complex128\n",
       "LD2      complex128\n",
       "class        object\n",
       "dtype: object"
      ]
     },
     "execution_count": 303,
     "metadata": {},
     "output_type": "execute_result"
    }
   ],
   "source": [
    "X_lda_2.dtypes"
   ]
  },
  {
   "cell_type": "code",
   "execution_count": 304,
   "metadata": {},
   "outputs": [
    {
     "name": "stderr",
     "output_type": "stream",
     "text": [
      "C:\\Users\\703222761\\Anaconda3\\lib\\site-packages\\numpy\\core\\numeric.py:553: ComplexWarning: Casting complex values to real discards the imaginary part\n",
      "  return array(a, dtype, copy=False, order=order, subok=True)\n"
     ]
    },
    {
     "data": {
      "text/plain": [
       "Text(0.5,1,'LDA: Iris projection onto the first 2 linear discriminants')"
      ]
     },
     "execution_count": 304,
     "metadata": {},
     "output_type": "execute_result"
    },
    {
     "data": {
      "image/png": "[encoded data removed]",
      "text/plain": [
       "<Figure size 432x288 with 1 Axes>"
      ]
     },
     "metadata": {
      "needs_background": "light"
     },
     "output_type": "display_data"
    }
   ],
   "source": [
    "cmap = sns.cubehelix_palette(dark=.3, light=.8, as_cmap=True)\n",
    "from matplotlib import pyplot as plt\n",
    "\n",
    "ax = sns.scatterplot(x=\"LD1\", y=\"LD2\",hue=\"class\", style=\"class\",legend=\"full\", data=X_lda_2)\n",
    "plt.title('LDA: Iris projection onto the first 2 linear discriminants')\n"
   ]
  },
  {
   "cell_type": "code",
   "execution_count": 305,
   "metadata": {},
   "outputs": [
    {
     "data": {
      "text/html": [
       "<div>\n",
       "<style scoped>\n",
       "    .dataframe tbody tr th:only-of-type {\n",
       "        vertical-align: middle;\n",
       "    }\n",
       "\n",
       "    .dataframe tbody tr th {\n",
       "        vertical-align: top;\n",
       "    }\n",
       "\n",
       "    .dataframe thead th {\n",
       "        text-align: right;\n",
       "    }\n",
       "</style>\n",
       "<table border=\"1\" class=\"dataframe\">\n",
       "  <thead>\n",
       "    <tr style=\"text-align: right;\">\n",
       "      <th></th>\n",
       "      <th>LD1</th>\n",
       "      <th>LD2</th>\n",
       "      <th>class</th>\n",
       "    </tr>\n",
       "  </thead>\n",
       "  <tbody>\n",
       "    <tr>\n",
       "      <th>0</th>\n",
       "      <td>(0.6875713841561781+0j)</td>\n",
       "      <td>(2.063623217375205+0.4014306770103133j)</td>\n",
       "      <td>versicolor</td>\n",
       "    </tr>\n",
       "    <tr>\n",
       "      <th>1</th>\n",
       "      <td>(0.6708173615596684+0j)</td>\n",
       "      <td>(2.0402258968414513+0.49513034926899724j)</td>\n",
       "      <td>versicolor</td>\n",
       "    </tr>\n",
       "    <tr>\n",
       "      <th>2</th>\n",
       "      <td>(0.2271376735877127+0j)</td>\n",
       "      <td>(1.8367865976674898+0.5166419773096856j)</td>\n",
       "      <td>versicolor</td>\n",
       "    </tr>\n",
       "    <tr>\n",
       "      <th>3</th>\n",
       "      <td>(0.46194036797196614+0j)</td>\n",
       "      <td>(1.9957744011909422+0.30975420442194246j)</td>\n",
       "      <td>versicolor</td>\n",
       "    </tr>\n",
       "    <tr>\n",
       "      <th>4</th>\n",
       "      <td>(0.39267125326421315+0j)</td>\n",
       "      <td>(2.5545842788934015+0.28127005578501807j)</td>\n",
       "      <td>versicolor</td>\n",
       "    </tr>\n",
       "    <tr>\n",
       "      <th>5</th>\n",
       "      <td>(0.7103197288124392+0j)</td>\n",
       "      <td>(2.2086274401922585+0.5183598381828545j)</td>\n",
       "      <td>versicolor</td>\n",
       "    </tr>\n",
       "    <tr>\n",
       "      <th>6</th>\n",
       "      <td>(0.23413191316830717+0j)</td>\n",
       "      <td>(1.9866871422083863+0.7337503421887276j)</td>\n",
       "      <td>versicolor</td>\n",
       "    </tr>\n",
       "    <tr>\n",
       "      <th>7</th>\n",
       "      <td>(0.7615990660940257+0j)</td>\n",
       "      <td>(1.8254086160434653+0.629541350483909j)</td>\n",
       "      <td>versicolor</td>\n",
       "    </tr>\n",
       "    <tr>\n",
       "      <th>8</th>\n",
       "      <td>(0.278031388150524+0j)</td>\n",
       "      <td>(2.29477787716874+0.4629217514308991j)</td>\n",
       "      <td>versicolor</td>\n",
       "    </tr>\n",
       "    <tr>\n",
       "      <th>9</th>\n",
       "      <td>(0.9578581122717611+0j)</td>\n",
       "      <td>(2.411313199993373+0.3037178280956202j)</td>\n",
       "      <td>versicolor</td>\n",
       "    </tr>\n",
       "    <tr>\n",
       "      <th>10</th>\n",
       "      <td>(0.9792689636737637+0j)</td>\n",
       "      <td>(1.8010092716797097+0.7244658944673426j)</td>\n",
       "      <td>versicolor</td>\n",
       "    </tr>\n",
       "    <tr>\n",
       "      <th>11</th>\n",
       "      <td>(0.9985962343541891+0j)</td>\n",
       "      <td>(2.3807263692567613+0.3379496256040311j)</td>\n",
       "      <td>versicolor</td>\n",
       "    </tr>\n",
       "    <tr>\n",
       "      <th>12</th>\n",
       "      <td>(0.3834995750641717+0j)</td>\n",
       "      <td>(2.4634452915542133+0.5798343012611321j)</td>\n",
       "      <td>versicolor</td>\n",
       "    </tr>\n",
       "    <tr>\n",
       "      <th>13</th>\n",
       "      <td>(0.9031737415186969+0j)</td>\n",
       "      <td>(2.3993112476611547+0.5725564418677518j)</td>\n",
       "      <td>versicolor</td>\n",
       "    </tr>\n",
       "    <tr>\n",
       "      <th>14</th>\n",
       "      <td>(0.7148506187113459+0j)</td>\n",
       "      <td>(2.103534025137855+0.5888134101853729j)</td>\n",
       "      <td>versicolor</td>\n",
       "    </tr>\n",
       "    <tr>\n",
       "      <th>15</th>\n",
       "      <td>(0.28115839108649454+0j)</td>\n",
       "      <td>(2.1992801933818744+0.4286899539224881j)</td>\n",
       "      <td>versicolor</td>\n",
       "    </tr>\n",
       "    <tr>\n",
       "      <th>16</th>\n",
       "      <td>(0.33603608920692735+0j)</td>\n",
       "      <td>(2.2027955876553857+0.5598528837423373j)</td>\n",
       "      <td>versicolor</td>\n",
       "    </tr>\n",
       "    <tr>\n",
       "      <th>17</th>\n",
       "      <td>(1.1506447365172359+0j)</td>\n",
       "      <td>(2.081875731727963+0.4019070548164243j)</td>\n",
       "      <td>versicolor</td>\n",
       "    </tr>\n",
       "    <tr>\n",
       "      <th>18</th>\n",
       "      <td>(0.6977269766365619+0j)</td>\n",
       "      <td>(2.552201327613068+0.3134786536231158j)</td>\n",
       "      <td>versicolor</td>\n",
       "    </tr>\n",
       "    <tr>\n",
       "      <th>19</th>\n",
       "      <td>(0.4251702262066596+0j)</td>\n",
       "      <td>(1.9410308273408916+0.664538253253267j)</td>\n",
       "      <td>versicolor</td>\n",
       "    </tr>\n",
       "    <tr>\n",
       "      <th>20</th>\n",
       "      <td>(0.6056077788479457+0j)</td>\n",
       "      <td>(2.011710457280336+0.48288655760738575j)</td>\n",
       "      <td>versicolor</td>\n",
       "    </tr>\n",
       "    <tr>\n",
       "      <th>21</th>\n",
       "      <td>(0.6748356950811094+0j)</td>\n",
       "      <td>(2.0199252610975433+0.4091849142098043j)</td>\n",
       "      <td>versicolor</td>\n",
       "    </tr>\n",
       "    <tr>\n",
       "      <th>22</th>\n",
       "      <td>(0.42342191499953735+0j)</td>\n",
       "      <td>(2.2248119807388083+0.49713693759700184j)</td>\n",
       "      <td>versicolor</td>\n",
       "    </tr>\n",
       "    <tr>\n",
       "      <th>23</th>\n",
       "      <td>(0.24618691373263007+0j)</td>\n",
       "      <td>(1.925785234976663+0.47591403701114954j)</td>\n",
       "      <td>versicolor</td>\n",
       "    </tr>\n",
       "    <tr>\n",
       "      <th>24</th>\n",
       "      <td>(0.5945196573075022+0j)</td>\n",
       "      <td>(2.0149599805191825+0.5203664265108592j)</td>\n",
       "      <td>versicolor</td>\n",
       "    </tr>\n",
       "    <tr>\n",
       "      <th>25</th>\n",
       "      <td>(0.37423531316925923+0j)</td>\n",
       "      <td>(2.0500642293593074+0.6160726870975475j)</td>\n",
       "      <td>versicolor</td>\n",
       "    </tr>\n",
       "    <tr>\n",
       "      <th>26</th>\n",
       "      <td>(0.4273647000825696+0j)</td>\n",
       "      <td>(2.337360777030735+0.5798343012611321j)</td>\n",
       "      <td>versicolor</td>\n",
       "    </tr>\n",
       "    <tr>\n",
       "      <th>27</th>\n",
       "      <td>(0.078485050166413+0j)</td>\n",
       "      <td>(1.8988035613148797+0.6498114954575396j)</td>\n",
       "      <td>versicolor</td>\n",
       "    </tr>\n",
       "    <tr>\n",
       "      <th>28</th>\n",
       "      <td>(0.485201269005693+0j)</td>\n",
       "      <td>(2.0559858446974992+0.5830823726561948j)</td>\n",
       "      <td>versicolor</td>\n",
       "    </tr>\n",
       "    <tr>\n",
       "      <th>29</th>\n",
       "      <td>(1.935249804311645+0j)</td>\n",
       "      <td>(1.6304241550662621+0.6866806867667252j)</td>\n",
       "      <td>virginica</td>\n",
       "    </tr>\n",
       "    <tr>\n",
       "      <th>30</th>\n",
       "      <td>(1.3857163067072669+0j)</td>\n",
       "      <td>(2.099527545156872+0.4263780267973394j)</td>\n",
       "      <td>virginica</td>\n",
       "    </tr>\n",
       "    <tr>\n",
       "      <th>31</th>\n",
       "      <td>(1.7498705438185886+0j)</td>\n",
       "      <td>(2.7039272447098543+0.32665858955464144j)</td>\n",
       "      <td>virginica</td>\n",
       "    </tr>\n",
       "    <tr>\n",
       "      <th>32</th>\n",
       "      <td>(1.2708487642623896+0j)</td>\n",
       "      <td>(1.4140324520070873+0.4788567696090681j)</td>\n",
       "      <td>virginica</td>\n",
       "    </tr>\n",
       "    <tr>\n",
       "      <th>33</th>\n",
       "      <td>(1.6613153569049994+0j)</td>\n",
       "      <td>(2.1159953433155962+0.7868765018155339j)</td>\n",
       "      <td>virginica</td>\n",
       "    </tr>\n",
       "    <tr>\n",
       "      <th>34</th>\n",
       "      <td>(1.4148867893687485+0j)</td>\n",
       "      <td>(2.2429290432200757+0.5685266538694345j)</td>\n",
       "      <td>virginica</td>\n",
       "    </tr>\n",
       "    <tr>\n",
       "      <th>35</th>\n",
       "      <td>(1.5536275008813534+0j)</td>\n",
       "      <td>(1.7488771801188698+0.44834942130183086j)</td>\n",
       "      <td>virginica</td>\n",
       "    </tr>\n",
       "    <tr>\n",
       "      <th>36</th>\n",
       "      <td>(1.254465355896259+0j)</td>\n",
       "      <td>(2.203595666596927+0.48909397294267487j)</td>\n",
       "      <td>virginica</td>\n",
       "    </tr>\n",
       "    <tr>\n",
       "      <th>37</th>\n",
       "      <td>(1.233743352982628+0j)</td>\n",
       "      <td>(2.2655287506498354+0.19377779886162338j)</td>\n",
       "      <td>virginica</td>\n",
       "    </tr>\n",
       "    <tr>\n",
       "      <th>38</th>\n",
       "      <td>(1.7808992360894205+0j)</td>\n",
       "      <td>(2.86487340682314+0.19673714280184984j)</td>\n",
       "      <td>virginica</td>\n",
       "    </tr>\n",
       "    <tr>\n",
       "      <th>39</th>\n",
       "      <td>(1.142851750046043+0j)</td>\n",
       "      <td>(2.1790202139998245+0.49883818712786265j)</td>\n",
       "      <td>virginica</td>\n",
       "    </tr>\n",
       "    <tr>\n",
       "      <th>40</th>\n",
       "      <td>(1.6309846678522701+0j)</td>\n",
       "      <td>(2.038732787303978+0.46508276742556287j)</td>\n",
       "      <td>virginica</td>\n",
       "    </tr>\n",
       "    <tr>\n",
       "      <th>41</th>\n",
       "      <td>(1.0893367404139571+0j)</td>\n",
       "      <td>(2.7329337699784406+0.37017483478443713j)</td>\n",
       "      <td>virginica</td>\n",
       "    </tr>\n",
       "    <tr>\n",
       "      <th>42</th>\n",
       "      <td>(0.9684588726688279+0j)</td>\n",
       "      <td>(2.294977255186434+0.4161574348060406j)</td>\n",
       "      <td>virginica</td>\n",
       "    </tr>\n",
       "    <tr>\n",
       "      <th>43</th>\n",
       "      <td>(1.2509013450212314+0j)</td>\n",
       "      <td>(2.2510366976584537+0.19828396466605192j)</td>\n",
       "      <td>virginica</td>\n",
       "    </tr>\n",
       "    <tr>\n",
       "      <th>44</th>\n",
       "      <td>(1.633245535436858+0j)</td>\n",
       "      <td>(1.6701588545955648+0.7888830901435386j)</td>\n",
       "      <td>virginica</td>\n",
       "    </tr>\n",
       "    <tr>\n",
       "      <th>45</th>\n",
       "      <td>(1.2354161157513417+0j)</td>\n",
       "      <td>(2.1145970292877543+0.529821913241211j)</td>\n",
       "      <td>virginica</td>\n",
       "    </tr>\n",
       "    <tr>\n",
       "      <th>46</th>\n",
       "      <td>(1.3055684010669397+0j)</td>\n",
       "      <td>(2.283954907398392+0.6312426000147697j)</td>\n",
       "      <td>virginica</td>\n",
       "    </tr>\n",
       "    <tr>\n",
       "      <th>47</th>\n",
       "      <td>(1.3171690789848485+0j)</td>\n",
       "      <td>(2.19591260484905+0.7501617381730075j)</td>\n",
       "      <td>virginica</td>\n",
       "    </tr>\n",
       "    <tr>\n",
       "      <th>48</th>\n",
       "      <td>(1.7083074848593678+0j)</td>\n",
       "      <td>(1.8944131450052533+0.7526447043071234j)</td>\n",
       "      <td>virginica</td>\n",
       "    </tr>\n",
       "    <tr>\n",
       "      <th>49</th>\n",
       "      <td>(1.3466257521594642+0j)</td>\n",
       "      <td>(2.177061855409992+0.42187186099291085j)</td>\n",
       "      <td>virginica</td>\n",
       "    </tr>\n",
       "    <tr>\n",
       "      <th>50</th>\n",
       "      <td>(1.2660660338141685+0j)</td>\n",
       "      <td>(2.1155533640475848+0.6080131111009124j)</td>\n",
       "      <td>virginica</td>\n",
       "    </tr>\n",
       "    <tr>\n",
       "      <th>51</th>\n",
       "      <td>(1.2004446383974774+0j)</td>\n",
       "      <td>(1.8411020708825427+0.5770459963298722j)</td>\n",
       "      <td>virginica</td>\n",
       "    </tr>\n",
       "  </tbody>\n",
       "</table>\n",
       "</div>"
      ],
      "text/plain": [
       "                         LD1                                        LD2  \\\n",
       "0    (0.6875713841561781+0j)    (2.063623217375205+0.4014306770103133j)   \n",
       "1    (0.6708173615596684+0j)  (2.0402258968414513+0.49513034926899724j)   \n",
       "2    (0.2271376735877127+0j)   (1.8367865976674898+0.5166419773096856j)   \n",
       "3   (0.46194036797196614+0j)  (1.9957744011909422+0.30975420442194246j)   \n",
       "4   (0.39267125326421315+0j)  (2.5545842788934015+0.28127005578501807j)   \n",
       "5    (0.7103197288124392+0j)   (2.2086274401922585+0.5183598381828545j)   \n",
       "6   (0.23413191316830717+0j)   (1.9866871422083863+0.7337503421887276j)   \n",
       "7    (0.7615990660940257+0j)    (1.8254086160434653+0.629541350483909j)   \n",
       "8     (0.278031388150524+0j)     (2.29477787716874+0.4629217514308991j)   \n",
       "9    (0.9578581122717611+0j)    (2.411313199993373+0.3037178280956202j)   \n",
       "10   (0.9792689636737637+0j)   (1.8010092716797097+0.7244658944673426j)   \n",
       "11   (0.9985962343541891+0j)   (2.3807263692567613+0.3379496256040311j)   \n",
       "12   (0.3834995750641717+0j)   (2.4634452915542133+0.5798343012611321j)   \n",
       "13   (0.9031737415186969+0j)   (2.3993112476611547+0.5725564418677518j)   \n",
       "14   (0.7148506187113459+0j)    (2.103534025137855+0.5888134101853729j)   \n",
       "15  (0.28115839108649454+0j)   (2.1992801933818744+0.4286899539224881j)   \n",
       "16  (0.33603608920692735+0j)   (2.2027955876553857+0.5598528837423373j)   \n",
       "17   (1.1506447365172359+0j)    (2.081875731727963+0.4019070548164243j)   \n",
       "18   (0.6977269766365619+0j)    (2.552201327613068+0.3134786536231158j)   \n",
       "19   (0.4251702262066596+0j)    (1.9410308273408916+0.664538253253267j)   \n",
       "20   (0.6056077788479457+0j)   (2.011710457280336+0.48288655760738575j)   \n",
       "21   (0.6748356950811094+0j)   (2.0199252610975433+0.4091849142098043j)   \n",
       "22  (0.42342191499953735+0j)  (2.2248119807388083+0.49713693759700184j)   \n",
       "23  (0.24618691373263007+0j)   (1.925785234976663+0.47591403701114954j)   \n",
       "24   (0.5945196573075022+0j)   (2.0149599805191825+0.5203664265108592j)   \n",
       "25  (0.37423531316925923+0j)   (2.0500642293593074+0.6160726870975475j)   \n",
       "26   (0.4273647000825696+0j)    (2.337360777030735+0.5798343012611321j)   \n",
       "27    (0.078485050166413+0j)   (1.8988035613148797+0.6498114954575396j)   \n",
       "28    (0.485201269005693+0j)   (2.0559858446974992+0.5830823726561948j)   \n",
       "29    (1.935249804311645+0j)   (1.6304241550662621+0.6866806867667252j)   \n",
       "30   (1.3857163067072669+0j)    (2.099527545156872+0.4263780267973394j)   \n",
       "31   (1.7498705438185886+0j)  (2.7039272447098543+0.32665858955464144j)   \n",
       "32   (1.2708487642623896+0j)   (1.4140324520070873+0.4788567696090681j)   \n",
       "33   (1.6613153569049994+0j)   (2.1159953433155962+0.7868765018155339j)   \n",
       "34   (1.4148867893687485+0j)   (2.2429290432200757+0.5685266538694345j)   \n",
       "35   (1.5536275008813534+0j)  (1.7488771801188698+0.44834942130183086j)   \n",
       "36    (1.254465355896259+0j)   (2.203595666596927+0.48909397294267487j)   \n",
       "37    (1.233743352982628+0j)  (2.2655287506498354+0.19377779886162338j)   \n",
       "38   (1.7808992360894205+0j)    (2.86487340682314+0.19673714280184984j)   \n",
       "39    (1.142851750046043+0j)  (2.1790202139998245+0.49883818712786265j)   \n",
       "40   (1.6309846678522701+0j)   (2.038732787303978+0.46508276742556287j)   \n",
       "41   (1.0893367404139571+0j)  (2.7329337699784406+0.37017483478443713j)   \n",
       "42   (0.9684588726688279+0j)    (2.294977255186434+0.4161574348060406j)   \n",
       "43   (1.2509013450212314+0j)  (2.2510366976584537+0.19828396466605192j)   \n",
       "44    (1.633245535436858+0j)   (1.6701588545955648+0.7888830901435386j)   \n",
       "45   (1.2354161157513417+0j)    (2.1145970292877543+0.529821913241211j)   \n",
       "46   (1.3055684010669397+0j)    (2.283954907398392+0.6312426000147697j)   \n",
       "47   (1.3171690789848485+0j)     (2.19591260484905+0.7501617381730075j)   \n",
       "48   (1.7083074848593678+0j)   (1.8944131450052533+0.7526447043071234j)   \n",
       "49   (1.3466257521594642+0j)   (2.177061855409992+0.42187186099291085j)   \n",
       "50   (1.2660660338141685+0j)   (2.1155533640475848+0.6080131111009124j)   \n",
       "51   (1.2004446383974774+0j)   (1.8411020708825427+0.5770459963298722j)   \n",
       "\n",
       "         class  \n",
       "0   versicolor  \n",
       "1   versicolor  \n",
       "2   versicolor  \n",
       "3   versicolor  \n",
       "4   versicolor  \n",
       "5   versicolor  \n",
       "6   versicolor  \n",
       "7   versicolor  \n",
       "8   versicolor  \n",
       "9   versicolor  \n",
       "10  versicolor  \n",
       "11  versicolor  \n",
       "12  versicolor  \n",
       "13  versicolor  \n",
       "14  versicolor  \n",
       "15  versicolor  \n",
       "16  versicolor  \n",
       "17  versicolor  \n",
       "18  versicolor  \n",
       "19  versicolor  \n",
       "20  versicolor  \n",
       "21  versicolor  \n",
       "22  versicolor  \n",
       "23  versicolor  \n",
       "24  versicolor  \n",
       "25  versicolor  \n",
       "26  versicolor  \n",
       "27  versicolor  \n",
       "28  versicolor  \n",
       "29   virginica  \n",
       "30   virginica  \n",
       "31   virginica  \n",
       "32   virginica  \n",
       "33   virginica  \n",
       "34   virginica  \n",
       "35   virginica  \n",
       "36   virginica  \n",
       "37   virginica  \n",
       "38   virginica  \n",
       "39   virginica  \n",
       "40   virginica  \n",
       "41   virginica  \n",
       "42   virginica  \n",
       "43   virginica  \n",
       "44   virginica  \n",
       "45   virginica  \n",
       "46   virginica  \n",
       "47   virginica  \n",
       "48   virginica  \n",
       "49   virginica  \n",
       "50   virginica  \n",
       "51   virginica  "
      ]
     },
     "execution_count": 305,
     "metadata": {},
     "output_type": "execute_result"
    }
   ],
   "source": [
    "X_lda_2  ## second projection"
   ]
  },
  {
   "cell_type": "code",
   "execution_count": 143,
   "metadata": {},
   "outputs": [
    {
     "name": "stderr",
     "output_type": "stream",
     "text": [
      "C:\\Users\\703222761\\Anaconda3\\envs\\py36\\lib\\site-packages\\matplotlib\\cbook\\__init__.py:424: MatplotlibDeprecationWarning: \n",
      "Passing one of 'on', 'true', 'off', 'false' as a boolean is deprecated; use an actual boolean (True/False) instead.\n",
      "  warn_deprecated(\"2.2\", \"Passing one of 'on', 'true', 'off', 'false' as a \"\n",
      "C:\\Users\\703222761\\Anaconda3\\envs\\py36\\lib\\site-packages\\matplotlib\\cbook\\__init__.py:424: MatplotlibDeprecationWarning: \n",
      "Passing one of 'on', 'true', 'off', 'false' as a boolean is deprecated; use an actual boolean (True/False) instead.\n",
      "  warn_deprecated(\"2.2\", \"Passing one of 'on', 'true', 'off', 'false' as a \"\n",
      "C:\\Users\\703222761\\Anaconda3\\envs\\py36\\lib\\site-packages\\matplotlib\\cbook\\__init__.py:424: MatplotlibDeprecationWarning: \n",
      "Passing one of 'on', 'true', 'off', 'false' as a boolean is deprecated; use an actual boolean (True/False) instead.\n",
      "  warn_deprecated(\"2.2\", \"Passing one of 'on', 'true', 'off', 'false' as a \"\n",
      "C:\\Users\\703222761\\Anaconda3\\envs\\py36\\lib\\site-packages\\matplotlib\\cbook\\__init__.py:424: MatplotlibDeprecationWarning: \n",
      "Passing one of 'on', 'true', 'off', 'false' as a boolean is deprecated; use an actual boolean (True/False) instead.\n",
      "  warn_deprecated(\"2.2\", \"Passing one of 'on', 'true', 'off', 'false' as a \"\n",
      "C:\\Users\\703222761\\Anaconda3\\envs\\py36\\lib\\site-packages\\matplotlib\\cbook\\__init__.py:424: MatplotlibDeprecationWarning: \n",
      "Passing one of 'on', 'true', 'off', 'false' as a boolean is deprecated; use an actual boolean (True/False) instead.\n",
      "  warn_deprecated(\"2.2\", \"Passing one of 'on', 'true', 'off', 'false' as a \"\n",
      "C:\\Users\\703222761\\Anaconda3\\envs\\py36\\lib\\site-packages\\matplotlib\\cbook\\__init__.py:424: MatplotlibDeprecationWarning: \n",
      "Passing one of 'on', 'true', 'off', 'false' as a boolean is deprecated; use an actual boolean (True/False) instead.\n",
      "  warn_deprecated(\"2.2\", \"Passing one of 'on', 'true', 'off', 'false' as a \"\n"
     ]
    },
    {
     "data": {
      "image/png": "[encoded data removed]",
      "text/plain": [
       "<Figure size 432x288 with 1 Axes>"
      ]
     },
     "metadata": {
      "needs_background": "light"
     },
     "output_type": "display_data"
    }
   ],
   "source": [
    "\n",
    "\n",
    "from matplotlib import pyplot as plt\n",
    "\n",
    "def plot_step_lda():\n",
    "\n",
    "    ax = plt.subplot(111)\n",
    "    for label,marker,color in zip(\n",
    "        range(1,3),('s', 'o'),('green', 'red')):\n",
    "\n",
    "        plt.scatter(x=X_lda_2[:,0].real[y == label],\n",
    "                y=X_lda_2[:,1].real[y == label],\n",
    "                marker=marker,\n",
    "                color=color,\n",
    "                alpha=0.5,\n",
    "                label=label_dict[label]\n",
    "                )\n",
    "\n",
    "    plt.xlabel('LD1')\n",
    "    plt.ylabel('LD2')\n",
    "\n",
    "    leg = plt.legend(loc='upper right', fancybox=True)\n",
    "    leg.get_frame().set_alpha(0.5)\n",
    "    plt.title('LDA: Iris projection onto the first 2 linear discriminants')\n",
    "\n",
    "    # hide axis ticks\n",
    "    plt.tick_params(axis=\"both\", which=\"both\", bottom=\"off\", top=\"off\",  \n",
    "            labelbottom=\"on\", left=\"off\", right=\"off\", labelleft=\"on\")\n",
    "\n",
    "    # remove axis spines\n",
    "    ax.spines[\"top\"].set_visible(False)  \n",
    "    ax.spines[\"right\"].set_visible(False)\n",
    "    ax.spines[\"bottom\"].set_visible(False)\n",
    "    ax.spines[\"left\"].set_visible(False)    \n",
    "\n",
    "    plt.grid()\n",
    "    plt.tight_layout\n",
    "    plt.show()\n",
    "\n",
    "plot_step_lda()"
   ]
  },
  {
   "cell_type": "code",
   "execution_count": 144,
   "metadata": {},
   "outputs": [],
   "source": [
    "from sklearn.discriminant_analysis import LinearDiscriminantAnalysis as LDA\n",
    "\n",
    "# LDA\n",
    "sklearn_lda = LDA(n_components=2)\n",
    "X_lda_sklearn = sklearn_lda.fit_transform(X, y)"
   ]
  },
  {
   "cell_type": "code",
   "execution_count": 145,
   "metadata": {},
   "outputs": [
    {
     "data": {
      "text/plain": [
       "array([[-0.93295287],\n",
       "       [-0.99672992],\n",
       "       [-2.68567264],\n",
       "       [-1.79185597],\n",
       "       [-2.05554072],\n",
       "       [-0.8463574 ],\n",
       "       [-2.65904787],\n",
       "       [-0.65115382],\n",
       "       [-2.491937  ],\n",
       "       [ 0.09593985],\n",
       "       [ 0.17744392],\n",
       "       [ 0.25101649],\n",
       "       [-2.09045428],\n",
       "       [-0.11222557],\n",
       "       [-0.82910979],\n",
       "       [-2.48003353],\n",
       "       [-2.27113217],\n",
       "       [ 0.82981515],\n",
       "       [-0.89429387],\n",
       "       [-1.93182781],\n",
       "       [-1.24496137],\n",
       "       [-0.98143345],\n",
       "       [-1.93848306],\n",
       "       [-2.61315844],\n",
       "       [-1.2871702 ],\n",
       "       [-2.12572028],\n",
       "       [-1.92347417],\n",
       "       [-3.25154431],\n",
       "       [-1.70330937],\n",
       "       [ 3.81654871],\n",
       "       [ 1.72465534],\n",
       "       [ 3.11087081],\n",
       "       [ 1.28739237],\n",
       "       [ 2.77377032],\n",
       "       [ 1.83569778],\n",
       "       [ 2.36383806],\n",
       "       [ 1.22502612],\n",
       "       [ 1.14614427],\n",
       "       [ 3.22898684],\n",
       "       [ 0.80014981],\n",
       "       [ 2.65831136],\n",
       "       [ 0.59643577],\n",
       "       [ 0.13629346],\n",
       "       [ 1.2114591 ],\n",
       "       [ 2.66691774],\n",
       "       [ 1.15251193],\n",
       "       [ 1.41955861],\n",
       "       [ 1.46371858],\n",
       "       [ 2.95265391],\n",
       "       [ 1.57585045],\n",
       "       [ 1.26918609],\n",
       "       [ 1.01938701]])"
      ]
     },
     "execution_count": 145,
     "metadata": {},
     "output_type": "execute_result"
    }
   ],
   "source": [
    "X_lda_sklearn"
   ]
  },
  {
   "cell_type": "code",
   "execution_count": null,
   "metadata": {},
   "outputs": [],
   "source": [
    "def plot_scikit_lda(X, title):\n",
    "\n",
    "    ax = plt.subplot(111)\n",
    "    for label,marker,color in zip(\n",
    "        range(1,3),('s', 'o'),('green', 'red')):\n",
    "\n",
    "        plt.scatter(x=X_lda[:,0].real[y == label],\n",
    "                y=X_lda[:,1].real[y == label],\n",
    "                marker=marker,\n",
    "                color=color,\n",
    "                alpha=0.5,\n",
    "                label=label_dict[label]\n",
    "                )\n",
    "\n",
    "    plt.xlabel('LD1')\n",
    "    plt.ylabel('LD2')\n",
    "\n",
    "    leg = plt.legend(loc='upper right', fancybox=True)\n",
    "    leg.get_frame().set_alpha(0.5)\n",
    "    plt.title(title)\n",
    "\n",
    "    # hide axis ticks\n",
    "    plt.tick_params(axis=\"both\", which=\"both\", bottom=\"off\", top=\"off\",  \n",
    "            labelbottom=\"on\", left=\"off\", right=\"off\", labelleft=\"on\")\n",
    "\n",
    "    # remove axis spines\n",
    "    ax.spines[\"top\"].set_visible(False)  \n",
    "    ax.spines[\"right\"].set_visible(False)\n",
    "    ax.spines[\"bottom\"].set_visible(False)\n",
    "    ax.spines[\"left\"].set_visible(False)    \n",
    "\n",
    "    plt.grid()\n",
    "    plt.tight_layout\n",
    "    plt.show()"
   ]
  },
  {
   "cell_type": "code",
   "execution_count": 146,
   "metadata": {},
   "outputs": [
    {
     "name": "stderr",
     "output_type": "stream",
     "text": [
      "C:\\Users\\703222761\\Anaconda3\\envs\\py36\\lib\\site-packages\\matplotlib\\cbook\\__init__.py:424: MatplotlibDeprecationWarning: \n",
      "Passing one of 'on', 'true', 'off', 'false' as a boolean is deprecated; use an actual boolean (True/False) instead.\n",
      "  warn_deprecated(\"2.2\", \"Passing one of 'on', 'true', 'off', 'false' as a \"\n",
      "C:\\Users\\703222761\\Anaconda3\\envs\\py36\\lib\\site-packages\\matplotlib\\cbook\\__init__.py:424: MatplotlibDeprecationWarning: \n",
      "Passing one of 'on', 'true', 'off', 'false' as a boolean is deprecated; use an actual boolean (True/False) instead.\n",
      "  warn_deprecated(\"2.2\", \"Passing one of 'on', 'true', 'off', 'false' as a \"\n",
      "C:\\Users\\703222761\\Anaconda3\\envs\\py36\\lib\\site-packages\\matplotlib\\cbook\\__init__.py:424: MatplotlibDeprecationWarning: \n",
      "Passing one of 'on', 'true', 'off', 'false' as a boolean is deprecated; use an actual boolean (True/False) instead.\n",
      "  warn_deprecated(\"2.2\", \"Passing one of 'on', 'true', 'off', 'false' as a \"\n",
      "C:\\Users\\703222761\\Anaconda3\\envs\\py36\\lib\\site-packages\\matplotlib\\cbook\\__init__.py:424: MatplotlibDeprecationWarning: \n",
      "Passing one of 'on', 'true', 'off', 'false' as a boolean is deprecated; use an actual boolean (True/False) instead.\n",
      "  warn_deprecated(\"2.2\", \"Passing one of 'on', 'true', 'off', 'false' as a \"\n",
      "C:\\Users\\703222761\\Anaconda3\\envs\\py36\\lib\\site-packages\\matplotlib\\cbook\\__init__.py:424: MatplotlibDeprecationWarning: \n",
      "Passing one of 'on', 'true', 'off', 'false' as a boolean is deprecated; use an actual boolean (True/False) instead.\n",
      "  warn_deprecated(\"2.2\", \"Passing one of 'on', 'true', 'off', 'false' as a \"\n",
      "C:\\Users\\703222761\\Anaconda3\\envs\\py36\\lib\\site-packages\\matplotlib\\cbook\\__init__.py:424: MatplotlibDeprecationWarning: \n",
      "Passing one of 'on', 'true', 'off', 'false' as a boolean is deprecated; use an actual boolean (True/False) instead.\n",
      "  warn_deprecated(\"2.2\", \"Passing one of 'on', 'true', 'off', 'false' as a \"\n"
     ]
    },
    {
     "data": {
      "image/png": "[encoded data removed]",
      "text/plain": [
       "<Figure size 432x288 with 1 Axes>"
      ]
     },
     "metadata": {
      "needs_background": "light"
     },
     "output_type": "display_data"
    }
   ],
   "source": [
    "plot_scikit_lda(X_lda_sklearn, title='Default LDA via scikit-learn')"
   ]
  },
  {
   "cell_type": "code",
   "execution_count": 309,
   "metadata": {},
   "outputs": [],
   "source": [
    "test_data = pd.read_csv('test.csv')"
   ]
  },
  {
   "cell_type": "code",
   "execution_count": 310,
   "metadata": {},
   "outputs": [],
   "source": [
    "test_data = test_data.iloc[:,1:6]"
   ]
  },
  {
   "cell_type": "code",
   "execution_count": 311,
   "metadata": {},
   "outputs": [
    {
     "data": {
      "text/plain": [
       "Index(['Sepal.Length', 'Sepal.Width', 'Petal.Length', 'Petal.Width',\n",
       "       'Species'],\n",
       "      dtype='object')"
      ]
     },
     "execution_count": 311,
     "metadata": {},
     "output_type": "execute_result"
    }
   ],
   "source": [
    "test_data.columns"
   ]
  },
  {
   "cell_type": "code",
   "execution_count": 312,
   "metadata": {},
   "outputs": [],
   "source": [
    "X_test = test_data.drop('Species',axis =  1)\n",
    "y_test = test_data['Species']"
   ]
  },
  {
   "cell_type": "code",
   "execution_count": 313,
   "metadata": {},
   "outputs": [
    {
     "data": {
      "text/html": [
       "<div>\n",
       "<style scoped>\n",
       "    .dataframe tbody tr th:only-of-type {\n",
       "        vertical-align: middle;\n",
       "    }\n",
       "\n",
       "    .dataframe tbody tr th {\n",
       "        vertical-align: top;\n",
       "    }\n",
       "\n",
       "    .dataframe thead th {\n",
       "        text-align: right;\n",
       "    }\n",
       "</style>\n",
       "<table border=\"1\" class=\"dataframe\">\n",
       "  <thead>\n",
       "    <tr style=\"text-align: right;\">\n",
       "      <th></th>\n",
       "      <th>Sepal.Length</th>\n",
       "      <th>Sepal.Width</th>\n",
       "      <th>Petal.Length</th>\n",
       "      <th>Petal.Width</th>\n",
       "    </tr>\n",
       "  </thead>\n",
       "  <tbody>\n",
       "    <tr>\n",
       "      <th>0</th>\n",
       "      <td>4.7</td>\n",
       "      <td>3.2</td>\n",
       "      <td>1.3</td>\n",
       "      <td>0.2</td>\n",
       "    </tr>\n",
       "    <tr>\n",
       "      <th>1</th>\n",
       "      <td>4.6</td>\n",
       "      <td>3.1</td>\n",
       "      <td>1.5</td>\n",
       "      <td>0.2</td>\n",
       "    </tr>\n",
       "    <tr>\n",
       "      <th>2</th>\n",
       "      <td>5.4</td>\n",
       "      <td>3.9</td>\n",
       "      <td>1.7</td>\n",
       "      <td>0.4</td>\n",
       "    </tr>\n",
       "    <tr>\n",
       "      <th>3</th>\n",
       "      <td>4.6</td>\n",
       "      <td>3.4</td>\n",
       "      <td>1.4</td>\n",
       "      <td>0.3</td>\n",
       "    </tr>\n",
       "    <tr>\n",
       "      <th>4</th>\n",
       "      <td>5.0</td>\n",
       "      <td>3.4</td>\n",
       "      <td>1.5</td>\n",
       "      <td>0.2</td>\n",
       "    </tr>\n",
       "    <tr>\n",
       "      <th>5</th>\n",
       "      <td>4.9</td>\n",
       "      <td>3.1</td>\n",
       "      <td>1.5</td>\n",
       "      <td>0.1</td>\n",
       "    </tr>\n",
       "    <tr>\n",
       "      <th>6</th>\n",
       "      <td>5.4</td>\n",
       "      <td>3.7</td>\n",
       "      <td>1.5</td>\n",
       "      <td>0.2</td>\n",
       "    </tr>\n",
       "    <tr>\n",
       "      <th>7</th>\n",
       "      <td>4.8</td>\n",
       "      <td>3.0</td>\n",
       "      <td>1.4</td>\n",
       "      <td>0.1</td>\n",
       "    </tr>\n",
       "    <tr>\n",
       "      <th>8</th>\n",
       "      <td>4.3</td>\n",
       "      <td>3.0</td>\n",
       "      <td>1.1</td>\n",
       "      <td>0.1</td>\n",
       "    </tr>\n",
       "    <tr>\n",
       "      <th>9</th>\n",
       "      <td>5.1</td>\n",
       "      <td>3.5</td>\n",
       "      <td>1.4</td>\n",
       "      <td>0.3</td>\n",
       "    </tr>\n",
       "    <tr>\n",
       "      <th>10</th>\n",
       "      <td>5.7</td>\n",
       "      <td>3.8</td>\n",
       "      <td>1.7</td>\n",
       "      <td>0.3</td>\n",
       "    </tr>\n",
       "    <tr>\n",
       "      <th>11</th>\n",
       "      <td>5.4</td>\n",
       "      <td>3.4</td>\n",
       "      <td>1.7</td>\n",
       "      <td>0.2</td>\n",
       "    </tr>\n",
       "    <tr>\n",
       "      <th>12</th>\n",
       "      <td>4.6</td>\n",
       "      <td>3.6</td>\n",
       "      <td>1.0</td>\n",
       "      <td>0.2</td>\n",
       "    </tr>\n",
       "    <tr>\n",
       "      <th>13</th>\n",
       "      <td>5.1</td>\n",
       "      <td>3.3</td>\n",
       "      <td>1.7</td>\n",
       "      <td>0.5</td>\n",
       "    </tr>\n",
       "    <tr>\n",
       "      <th>14</th>\n",
       "      <td>5.2</td>\n",
       "      <td>3.5</td>\n",
       "      <td>1.5</td>\n",
       "      <td>0.2</td>\n",
       "    </tr>\n",
       "    <tr>\n",
       "      <th>15</th>\n",
       "      <td>4.7</td>\n",
       "      <td>3.2</td>\n",
       "      <td>1.6</td>\n",
       "      <td>0.2</td>\n",
       "    </tr>\n",
       "    <tr>\n",
       "      <th>16</th>\n",
       "      <td>4.8</td>\n",
       "      <td>3.1</td>\n",
       "      <td>1.6</td>\n",
       "      <td>0.2</td>\n",
       "    </tr>\n",
       "    <tr>\n",
       "      <th>17</th>\n",
       "      <td>5.2</td>\n",
       "      <td>4.1</td>\n",
       "      <td>1.5</td>\n",
       "      <td>0.1</td>\n",
       "    </tr>\n",
       "    <tr>\n",
       "      <th>18</th>\n",
       "      <td>5.5</td>\n",
       "      <td>4.2</td>\n",
       "      <td>1.4</td>\n",
       "      <td>0.2</td>\n",
       "    </tr>\n",
       "    <tr>\n",
       "      <th>19</th>\n",
       "      <td>4.9</td>\n",
       "      <td>3.1</td>\n",
       "      <td>1.5</td>\n",
       "      <td>0.2</td>\n",
       "    </tr>\n",
       "    <tr>\n",
       "      <th>20</th>\n",
       "      <td>5.5</td>\n",
       "      <td>3.5</td>\n",
       "      <td>1.3</td>\n",
       "      <td>0.2</td>\n",
       "    </tr>\n",
       "    <tr>\n",
       "      <th>21</th>\n",
       "      <td>4.4</td>\n",
       "      <td>3.0</td>\n",
       "      <td>1.3</td>\n",
       "      <td>0.2</td>\n",
       "    </tr>\n",
       "    <tr>\n",
       "      <th>22</th>\n",
       "      <td>5.1</td>\n",
       "      <td>3.4</td>\n",
       "      <td>1.5</td>\n",
       "      <td>0.2</td>\n",
       "    </tr>\n",
       "    <tr>\n",
       "      <th>23</th>\n",
       "      <td>5.1</td>\n",
       "      <td>3.8</td>\n",
       "      <td>1.9</td>\n",
       "      <td>0.4</td>\n",
       "    </tr>\n",
       "    <tr>\n",
       "      <th>24</th>\n",
       "      <td>4.8</td>\n",
       "      <td>3.0</td>\n",
       "      <td>1.4</td>\n",
       "      <td>0.3</td>\n",
       "    </tr>\n",
       "    <tr>\n",
       "      <th>25</th>\n",
       "      <td>7.0</td>\n",
       "      <td>3.2</td>\n",
       "      <td>4.7</td>\n",
       "      <td>1.4</td>\n",
       "    </tr>\n",
       "    <tr>\n",
       "      <th>26</th>\n",
       "      <td>6.4</td>\n",
       "      <td>3.2</td>\n",
       "      <td>4.5</td>\n",
       "      <td>1.5</td>\n",
       "    </tr>\n",
       "    <tr>\n",
       "      <th>27</th>\n",
       "      <td>6.9</td>\n",
       "      <td>3.1</td>\n",
       "      <td>4.9</td>\n",
       "      <td>1.5</td>\n",
       "    </tr>\n",
       "    <tr>\n",
       "      <th>28</th>\n",
       "      <td>6.5</td>\n",
       "      <td>2.8</td>\n",
       "      <td>4.6</td>\n",
       "      <td>1.5</td>\n",
       "    </tr>\n",
       "    <tr>\n",
       "      <th>29</th>\n",
       "      <td>6.3</td>\n",
       "      <td>3.3</td>\n",
       "      <td>4.7</td>\n",
       "      <td>1.6</td>\n",
       "    </tr>\n",
       "    <tr>\n",
       "      <th>...</th>\n",
       "      <td>...</td>\n",
       "      <td>...</td>\n",
       "      <td>...</td>\n",
       "      <td>...</td>\n",
       "    </tr>\n",
       "    <tr>\n",
       "      <th>43</th>\n",
       "      <td>6.7</td>\n",
       "      <td>3.1</td>\n",
       "      <td>4.7</td>\n",
       "      <td>1.5</td>\n",
       "    </tr>\n",
       "    <tr>\n",
       "      <th>44</th>\n",
       "      <td>6.1</td>\n",
       "      <td>3.0</td>\n",
       "      <td>4.6</td>\n",
       "      <td>1.4</td>\n",
       "    </tr>\n",
       "    <tr>\n",
       "      <th>45</th>\n",
       "      <td>5.7</td>\n",
       "      <td>2.9</td>\n",
       "      <td>4.2</td>\n",
       "      <td>1.3</td>\n",
       "    </tr>\n",
       "    <tr>\n",
       "      <th>46</th>\n",
       "      <td>5.8</td>\n",
       "      <td>2.7</td>\n",
       "      <td>5.1</td>\n",
       "      <td>1.9</td>\n",
       "    </tr>\n",
       "    <tr>\n",
       "      <th>47</th>\n",
       "      <td>7.1</td>\n",
       "      <td>3.0</td>\n",
       "      <td>5.9</td>\n",
       "      <td>2.1</td>\n",
       "    </tr>\n",
       "    <tr>\n",
       "      <th>48</th>\n",
       "      <td>6.5</td>\n",
       "      <td>3.0</td>\n",
       "      <td>5.8</td>\n",
       "      <td>2.2</td>\n",
       "    </tr>\n",
       "    <tr>\n",
       "      <th>49</th>\n",
       "      <td>7.3</td>\n",
       "      <td>2.9</td>\n",
       "      <td>6.3</td>\n",
       "      <td>1.8</td>\n",
       "    </tr>\n",
       "    <tr>\n",
       "      <th>50</th>\n",
       "      <td>6.7</td>\n",
       "      <td>2.5</td>\n",
       "      <td>5.8</td>\n",
       "      <td>1.8</td>\n",
       "    </tr>\n",
       "    <tr>\n",
       "      <th>51</th>\n",
       "      <td>6.5</td>\n",
       "      <td>3.2</td>\n",
       "      <td>5.1</td>\n",
       "      <td>2.0</td>\n",
       "    </tr>\n",
       "    <tr>\n",
       "      <th>52</th>\n",
       "      <td>6.4</td>\n",
       "      <td>2.7</td>\n",
       "      <td>5.3</td>\n",
       "      <td>1.9</td>\n",
       "    </tr>\n",
       "    <tr>\n",
       "      <th>53</th>\n",
       "      <td>5.8</td>\n",
       "      <td>2.8</td>\n",
       "      <td>5.1</td>\n",
       "      <td>2.4</td>\n",
       "    </tr>\n",
       "    <tr>\n",
       "      <th>54</th>\n",
       "      <td>6.4</td>\n",
       "      <td>3.2</td>\n",
       "      <td>5.3</td>\n",
       "      <td>2.3</td>\n",
       "    </tr>\n",
       "    <tr>\n",
       "      <th>55</th>\n",
       "      <td>7.7</td>\n",
       "      <td>3.8</td>\n",
       "      <td>6.7</td>\n",
       "      <td>2.2</td>\n",
       "    </tr>\n",
       "    <tr>\n",
       "      <th>56</th>\n",
       "      <td>7.7</td>\n",
       "      <td>2.6</td>\n",
       "      <td>6.9</td>\n",
       "      <td>2.3</td>\n",
       "    </tr>\n",
       "    <tr>\n",
       "      <th>57</th>\n",
       "      <td>6.9</td>\n",
       "      <td>3.2</td>\n",
       "      <td>5.7</td>\n",
       "      <td>2.3</td>\n",
       "    </tr>\n",
       "    <tr>\n",
       "      <th>58</th>\n",
       "      <td>5.6</td>\n",
       "      <td>2.8</td>\n",
       "      <td>4.9</td>\n",
       "      <td>2.0</td>\n",
       "    </tr>\n",
       "    <tr>\n",
       "      <th>59</th>\n",
       "      <td>6.7</td>\n",
       "      <td>3.3</td>\n",
       "      <td>5.7</td>\n",
       "      <td>2.1</td>\n",
       "    </tr>\n",
       "    <tr>\n",
       "      <th>60</th>\n",
       "      <td>7.2</td>\n",
       "      <td>3.2</td>\n",
       "      <td>6.0</td>\n",
       "      <td>1.8</td>\n",
       "    </tr>\n",
       "    <tr>\n",
       "      <th>61</th>\n",
       "      <td>6.2</td>\n",
       "      <td>2.8</td>\n",
       "      <td>4.8</td>\n",
       "      <td>1.8</td>\n",
       "    </tr>\n",
       "    <tr>\n",
       "      <th>62</th>\n",
       "      <td>6.1</td>\n",
       "      <td>3.0</td>\n",
       "      <td>4.9</td>\n",
       "      <td>1.8</td>\n",
       "    </tr>\n",
       "    <tr>\n",
       "      <th>63</th>\n",
       "      <td>7.4</td>\n",
       "      <td>2.8</td>\n",
       "      <td>6.1</td>\n",
       "      <td>1.9</td>\n",
       "    </tr>\n",
       "    <tr>\n",
       "      <th>64</th>\n",
       "      <td>7.9</td>\n",
       "      <td>3.8</td>\n",
       "      <td>6.4</td>\n",
       "      <td>2.0</td>\n",
       "    </tr>\n",
       "    <tr>\n",
       "      <th>65</th>\n",
       "      <td>6.4</td>\n",
       "      <td>2.8</td>\n",
       "      <td>5.6</td>\n",
       "      <td>2.2</td>\n",
       "    </tr>\n",
       "    <tr>\n",
       "      <th>66</th>\n",
       "      <td>7.7</td>\n",
       "      <td>3.0</td>\n",
       "      <td>6.1</td>\n",
       "      <td>2.3</td>\n",
       "    </tr>\n",
       "    <tr>\n",
       "      <th>67</th>\n",
       "      <td>6.0</td>\n",
       "      <td>3.0</td>\n",
       "      <td>4.8</td>\n",
       "      <td>1.8</td>\n",
       "    </tr>\n",
       "    <tr>\n",
       "      <th>68</th>\n",
       "      <td>6.7</td>\n",
       "      <td>3.1</td>\n",
       "      <td>5.6</td>\n",
       "      <td>2.4</td>\n",
       "    </tr>\n",
       "    <tr>\n",
       "      <th>69</th>\n",
       "      <td>5.8</td>\n",
       "      <td>2.7</td>\n",
       "      <td>5.1</td>\n",
       "      <td>1.9</td>\n",
       "    </tr>\n",
       "    <tr>\n",
       "      <th>70</th>\n",
       "      <td>6.8</td>\n",
       "      <td>3.2</td>\n",
       "      <td>5.9</td>\n",
       "      <td>2.3</td>\n",
       "    </tr>\n",
       "    <tr>\n",
       "      <th>71</th>\n",
       "      <td>6.7</td>\n",
       "      <td>3.0</td>\n",
       "      <td>5.2</td>\n",
       "      <td>2.3</td>\n",
       "    </tr>\n",
       "    <tr>\n",
       "      <th>72</th>\n",
       "      <td>6.2</td>\n",
       "      <td>3.4</td>\n",
       "      <td>5.4</td>\n",
       "      <td>2.3</td>\n",
       "    </tr>\n",
       "  </tbody>\n",
       "</table>\n",
       "<p>73 rows × 4 columns</p>\n",
       "</div>"
      ],
      "text/plain": [
       "    Sepal.Length  Sepal.Width  Petal.Length  Petal.Width\n",
       "0            4.7          3.2           1.3          0.2\n",
       "1            4.6          3.1           1.5          0.2\n",
       "2            5.4          3.9           1.7          0.4\n",
       "3            4.6          3.4           1.4          0.3\n",
       "4            5.0          3.4           1.5          0.2\n",
       "5            4.9          3.1           1.5          0.1\n",
       "6            5.4          3.7           1.5          0.2\n",
       "7            4.8          3.0           1.4          0.1\n",
       "8            4.3          3.0           1.1          0.1\n",
       "9            5.1          3.5           1.4          0.3\n",
       "10           5.7          3.8           1.7          0.3\n",
       "11           5.4          3.4           1.7          0.2\n",
       "12           4.6          3.6           1.0          0.2\n",
       "13           5.1          3.3           1.7          0.5\n",
       "14           5.2          3.5           1.5          0.2\n",
       "15           4.7          3.2           1.6          0.2\n",
       "16           4.8          3.1           1.6          0.2\n",
       "17           5.2          4.1           1.5          0.1\n",
       "18           5.5          4.2           1.4          0.2\n",
       "19           4.9          3.1           1.5          0.2\n",
       "20           5.5          3.5           1.3          0.2\n",
       "21           4.4          3.0           1.3          0.2\n",
       "22           5.1          3.4           1.5          0.2\n",
       "23           5.1          3.8           1.9          0.4\n",
       "24           4.8          3.0           1.4          0.3\n",
       "25           7.0          3.2           4.7          1.4\n",
       "26           6.4          3.2           4.5          1.5\n",
       "27           6.9          3.1           4.9          1.5\n",
       "28           6.5          2.8           4.6          1.5\n",
       "29           6.3          3.3           4.7          1.6\n",
       "..           ...          ...           ...          ...\n",
       "43           6.7          3.1           4.7          1.5\n",
       "44           6.1          3.0           4.6          1.4\n",
       "45           5.7          2.9           4.2          1.3\n",
       "46           5.8          2.7           5.1          1.9\n",
       "47           7.1          3.0           5.9          2.1\n",
       "48           6.5          3.0           5.8          2.2\n",
       "49           7.3          2.9           6.3          1.8\n",
       "50           6.7          2.5           5.8          1.8\n",
       "51           6.5          3.2           5.1          2.0\n",
       "52           6.4          2.7           5.3          1.9\n",
       "53           5.8          2.8           5.1          2.4\n",
       "54           6.4          3.2           5.3          2.3\n",
       "55           7.7          3.8           6.7          2.2\n",
       "56           7.7          2.6           6.9          2.3\n",
       "57           6.9          3.2           5.7          2.3\n",
       "58           5.6          2.8           4.9          2.0\n",
       "59           6.7          3.3           5.7          2.1\n",
       "60           7.2          3.2           6.0          1.8\n",
       "61           6.2          2.8           4.8          1.8\n",
       "62           6.1          3.0           4.9          1.8\n",
       "63           7.4          2.8           6.1          1.9\n",
       "64           7.9          3.8           6.4          2.0\n",
       "65           6.4          2.8           5.6          2.2\n",
       "66           7.7          3.0           6.1          2.3\n",
       "67           6.0          3.0           4.8          1.8\n",
       "68           6.7          3.1           5.6          2.4\n",
       "69           5.8          2.7           5.1          1.9\n",
       "70           6.8          3.2           5.9          2.3\n",
       "71           6.7          3.0           5.2          2.3\n",
       "72           6.2          3.4           5.4          2.3\n",
       "\n",
       "[73 rows x 4 columns]"
      ]
     },
     "execution_count": 313,
     "metadata": {},
     "output_type": "execute_result"
    }
   ],
   "source": [
    "X_test"
   ]
  },
  {
   "cell_type": "code",
   "execution_count": 314,
   "metadata": {},
   "outputs": [
    {
     "data": {
      "text/plain": [
       "array(['setosa', 'setosa', 'setosa', 'setosa', 'setosa', 'setosa',\n",
       "       'setosa', 'setosa', 'setosa', 'setosa', 'setosa', 'setosa',\n",
       "       'setosa', 'setosa', 'setosa', 'setosa', 'setosa', 'setosa',\n",
       "       'setosa', 'setosa', 'setosa', 'setosa', 'setosa', 'setosa',\n",
       "       'setosa', 'class4', 'class4', 'class4', 'class4', 'class4',\n",
       "       'class4', 'class4', 'class4', 'class4', 'class4', 'class4',\n",
       "       'class4', 'class4', 'class4', 'class4', 'class4', 'class4',\n",
       "       'class4', 'class4', 'class4', 'class4', 'class4', 'class4',\n",
       "       'class4', 'class4', 'class4', 'class4', 'class4', 'class4',\n",
       "       'class4', 'class4', 'class4', 'class4', 'class4', 'class4',\n",
       "       'class4', 'class4', 'class4', 'class4', 'class4', 'class4',\n",
       "       'class4', 'class4', 'class4', 'class4', 'class4', 'class4',\n",
       "       'class4'], dtype='<U6')"
      ]
     },
     "execution_count": 314,
     "metadata": {},
     "output_type": "execute_result"
    }
   ],
   "source": [
    "from sklearn.preprocessing import StandardScaler\n",
    "from matplotlib import style\n",
    "from sklearn.discriminant_analysis import LinearDiscriminantAnalysis as LDA\n",
    "\n",
    "# LDA\n",
    "sklearn_lda = LDA(n_components=1,solver = 'eigen')\n",
    "X_lda_sklearn = sklearn_lda.fit(X_1, y_1)\n",
    "y_pred_1 = X_lda_sklearn.predict(X_test)\n",
    "y_pred_1"
   ]
  },
  {
   "cell_type": "code",
   "execution_count": 320,
   "metadata": {},
   "outputs": [],
   "source": [
    "X_lda_1 = X_lda_1.iloc[:,2:4]"
   ]
  },
  {
   "cell_type": "code",
   "execution_count": 326,
   "metadata": {},
   "outputs": [],
   "source": [
    "X_lda_1 = X_lda_1.iloc[:73,:]"
   ]
  },
  {
   "cell_type": "code",
   "execution_count": 327,
   "metadata": {},
   "outputs": [
    {
     "data": {
      "text/plain": [
       "(73, 2)"
      ]
     },
     "execution_count": 327,
     "metadata": {},
     "output_type": "execute_result"
    }
   ],
   "source": [
    "X_lda_1.shape"
   ]
  },
  {
   "cell_type": "code",
   "execution_count": 328,
   "metadata": {},
   "outputs": [],
   "source": [
    "X_lda_1[\"first_projection_classes\"] = y_pred_1"
   ]
  },
  {
   "cell_type": "code",
   "execution_count": 330,
   "metadata": {
    "scrolled": true
   },
   "outputs": [
    {
     "data": {
      "text/plain": [
       "LD1                         float64\n",
       "LD2                         float64\n",
       "first_projection_classes     object\n",
       "dtype: object"
      ]
     },
     "execution_count": 330,
     "metadata": {},
     "output_type": "execute_result"
    }
   ],
   "source": [
    "X_lda_1.dtypes"
   ]
  },
  {
   "cell_type": "code",
   "execution_count": 331,
   "metadata": {},
   "outputs": [
    {
     "data": {
      "text/plain": [
       "Text(0.5,1,'LDA: Iris projection onto the first 2 linear discriminants')"
      ]
     },
     "execution_count": 331,
     "metadata": {},
     "output_type": "execute_result"
    },
    {
     "data": {
      "image/png": "[encoded data removed]",
      "text/plain": [
       "<Figure size 432x288 with 1 Axes>"
      ]
     },
     "metadata": {
      "needs_background": "light"
     },
     "output_type": "display_data"
    }
   ],
   "source": [
    "cmap = sns.cubehelix_palette(dark=.3, light=.8, as_cmap=True)\n",
    "from matplotlib import pyplot as plt\n",
    "\n",
    "ax = sns.scatterplot(x=\"LD1\", y=\"LD2\",hue=\"first_projection_classes\", style=\"first_projection_classes\",legend=\"full\", data=X_lda_1)\n",
    "plt.title('LDA: Iris projection onto the first 2 linear discriminants')\n"
   ]
  },
  {
   "cell_type": "code",
   "execution_count": null,
   "metadata": {},
   "outputs": [],
   "source": []
  },
  {
   "cell_type": "code",
   "execution_count": 315,
   "metadata": {},
   "outputs": [
    {
     "data": {
      "text/plain": [
       "array([1, 1, 1, 1, 1, 1, 1, 1, 1, 1, 1, 1, 1, 1, 1, 1, 1, 1, 1, 1, 1, 1,\n",
       "       1, 1, 1, 1, 1, 1, 1, 1, 1, 1, 1, 1, 1, 1, 1, 1, 1, 1, 1, 1, 1, 1,\n",
       "       1, 1, 2, 2, 2, 2, 2, 1, 2, 2, 2, 2, 2, 2, 2, 2, 1, 1, 1, 2, 1, 2,\n",
       "       2, 1, 2, 2, 2, 2, 2], dtype=int64)"
      ]
     },
     "execution_count": 315,
     "metadata": {},
     "output_type": "execute_result"
    }
   ],
   "source": [
    "sklearn_lda = LDA(n_components=1,solver = 'eigen')\n",
    "X_lda_sklearn = sklearn_lda.fit(X, y)\n",
    "y_pred_2 = X_lda_sklearn.predict(X_test)\n",
    "y_pred_2\n"
   ]
  },
  {
   "cell_type": "code",
   "execution_count": 91,
   "metadata": {},
   "outputs": [
    {
     "data": {
      "text/plain": [
       "array([1.65120078, 1.6154904 , 1.5477736 , 1.49889068, 1.56036276,\n",
       "       1.41941563, 1.32610246, 1.55432182, 1.68705285, 1.21345426,\n",
       "       1.55170498, 1.08662249, 1.62646764, 1.42529475, 1.42975355,\n",
       "       1.2093051 , 1.20283648, 1.58807833, 1.58777483, 1.33141835,\n",
       "       1.31724091, 1.21763312, 1.45231497, 1.36016853, 1.06520146,\n",
       "       1.03217   , 1.66346018, 1.32337363, 1.59193355, 1.72424304,\n",
       "       1.48266751, 1.15002823, 1.68067601, 1.35181426, 1.49189465,\n",
       "       1.27052351, 1.48680266, 1.44223072, 1.26038936, 1.58478627,\n",
       "       1.38830565, 1.69811575, 1.46223134, 1.71012155, 1.21763312,\n",
       "       1.53136847, 1.84168585, 1.64323566])"
      ]
     },
     "execution_count": 91,
     "metadata": {},
     "output_type": "execute_result"
    }
   ],
   "source": [
    "X_lda_2[:,1]"
   ]
  },
  {
   "cell_type": "code",
   "execution_count": null,
   "metadata": {},
   "outputs": [],
   "source": [
    "transform(X)"
   ]
  }
 ],
 "metadata": {
  "kernelspec": {
   "display_name": "Python 3",
   "language": "python",
   "name": "python3"
  },
  "language_info": {
   "codemirror_mode": {
    "name": "ipython",
    "version": 3
   },
   "file_extension": ".py",
   "mimetype": "text/x-python",
   "name": "python",
   "nbconvert_exporter": "python",
   "pygments_lexer": "ipython3",
   "version": "3.6.6"
  }
 },
 "nbformat": 4,
 "nbformat_minor": 2
}
