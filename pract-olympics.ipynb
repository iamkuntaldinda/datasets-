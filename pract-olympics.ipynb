{
 "cells": [
  {
   "cell_type": "code",
   "execution_count": 1,
   "metadata": {},
   "outputs": [],
   "source": [
    "import pandas as pd\n",
    "import matplotlib.pyplot as plt\n",
    "import seaborn as sns\n",
    "import numpy as np\n",
    "from scipy.stats import norm\n",
    "from sklearn.preprocessing import StandardScaler\n",
    "from scipy import stats\n",
    "import warnings\n",
    "warnings.filterwarnings('ignore')\n",
    "%matplotlib inline"
   ]
  },
  {
   "cell_type": "code",
   "execution_count": 2,
   "metadata": {},
   "outputs": [],
   "source": [
    "# Load spreadsheet\n",
    "xl = pd.ExcelFile('dataset_homemade.xlsx')\n",
    "\n",
    "# Load a sheet into a DataFrame by name: df1\n",
    "df = xl.parse('Sheet2')"
   ]
  },
  {
   "cell_type": "code",
   "execution_count": 3,
   "metadata": {},
   "outputs": [
    {
     "data": {
      "text/html": [
       "<div>\n",
       "<style>\n",
       "    .dataframe thead tr:only-child th {\n",
       "        text-align: right;\n",
       "    }\n",
       "\n",
       "    .dataframe thead th {\n",
       "        text-align: left;\n",
       "    }\n",
       "\n",
       "    .dataframe tbody tr th {\n",
       "        vertical-align: top;\n",
       "    }\n",
       "</style>\n",
       "<table border=\"1\" class=\"dataframe\">\n",
       "  <thead>\n",
       "    <tr style=\"text-align: right;\">\n",
       "      <th></th>\n",
       "      <th>country</th>\n",
       "      <th>year</th>\n",
       "      <th>gdp_nominal - US$MM</th>\n",
       "      <th>gdp_per capita (usd)</th>\n",
       "      <th>population</th>\n",
       "      <th>host_y</th>\n",
       "      <th>host_n</th>\n",
       "      <th>Index of Economic Freedom</th>\n",
       "      <th>no_of_internet_users</th>\n",
       "      <th>Gender gap index</th>\n",
       "      <th>number_sports_schools</th>\n",
       "      <th>Sports_budget- millions</th>\n",
       "      <th>Sports trainees</th>\n",
       "      <th>Rank</th>\n",
       "      <th>Olympics</th>\n",
       "      <th>GOLD</th>\n",
       "      <th>SILVER</th>\n",
       "      <th>BRONZE</th>\n",
       "      <th>total_No_of_medals</th>\n",
       "    </tr>\n",
       "  </thead>\n",
       "  <tbody>\n",
       "    <tr>\n",
       "      <th>100</th>\n",
       "      <td>CRO</td>\n",
       "      <td>2000</td>\n",
       "      <td>21774.0</td>\n",
       "      <td>10582.668170</td>\n",
       "      <td>4505533</td>\n",
       "      <td>0</td>\n",
       "      <td>1</td>\n",
       "      <td>NaN</td>\n",
       "      <td>3063044</td>\n",
       "      <td>714.5</td>\n",
       "      <td>NaN</td>\n",
       "      <td>NaN</td>\n",
       "      <td>NaN</td>\n",
       "      <td>NaN</td>\n",
       "      <td>Summer</td>\n",
       "      <td>1</td>\n",
       "      <td>0</td>\n",
       "      <td>1</td>\n",
       "      <td>2</td>\n",
       "    </tr>\n",
       "    <tr>\n",
       "      <th>101</th>\n",
       "      <td>CUB</td>\n",
       "      <td>2000</td>\n",
       "      <td>NaN</td>\n",
       "      <td>6115.593942</td>\n",
       "      <td>11104313</td>\n",
       "      <td>0</td>\n",
       "      <td>1</td>\n",
       "      <td>NaN</td>\n",
       "      <td>4449238</td>\n",
       "      <td>716.9</td>\n",
       "      <td>NaN</td>\n",
       "      <td>NaN</td>\n",
       "      <td>NaN</td>\n",
       "      <td>NaN</td>\n",
       "      <td>Summer</td>\n",
       "      <td>11</td>\n",
       "      <td>11</td>\n",
       "      <td>7</td>\n",
       "      <td>29</td>\n",
       "    </tr>\n",
       "    <tr>\n",
       "      <th>102</th>\n",
       "      <td>NZL</td>\n",
       "      <td>2000</td>\n",
       "      <td>54138.0</td>\n",
       "      <td>21895.155980</td>\n",
       "      <td>3858032</td>\n",
       "      <td>0</td>\n",
       "      <td>1</td>\n",
       "      <td>NaN</td>\n",
       "      <td>4123439</td>\n",
       "      <td>751.0</td>\n",
       "      <td>NaN</td>\n",
       "      <td>NaN</td>\n",
       "      <td>NaN</td>\n",
       "      <td>NaN</td>\n",
       "      <td>Summer</td>\n",
       "      <td>1</td>\n",
       "      <td>0</td>\n",
       "      <td>3</td>\n",
       "      <td>4</td>\n",
       "    </tr>\n",
       "    <tr>\n",
       "      <th>103</th>\n",
       "      <td>CAN</td>\n",
       "      <td>2000</td>\n",
       "      <td>742319.0</td>\n",
       "      <td>32448.607640</td>\n",
       "      <td>30667365</td>\n",
       "      <td>0</td>\n",
       "      <td>1</td>\n",
       "      <td>NaN</td>\n",
       "      <td>32602776</td>\n",
       "      <td>716.5</td>\n",
       "      <td>NaN</td>\n",
       "      <td>NaN</td>\n",
       "      <td>NaN</td>\n",
       "      <td>NaN</td>\n",
       "      <td>Summer</td>\n",
       "      <td>3</td>\n",
       "      <td>3</td>\n",
       "      <td>8</td>\n",
       "      <td>14</td>\n",
       "    </tr>\n",
       "    <tr>\n",
       "      <th>104</th>\n",
       "      <td>IND</td>\n",
       "      <td>2000</td>\n",
       "      <td>476636.0</td>\n",
       "      <td>1648.208780</td>\n",
       "      <td>1053898107</td>\n",
       "      <td>0</td>\n",
       "      <td>1</td>\n",
       "      <td>NaN</td>\n",
       "      <td>500292635</td>\n",
       "      <td>601.1</td>\n",
       "      <td>NaN</td>\n",
       "      <td>NaN</td>\n",
       "      <td>NaN</td>\n",
       "      <td>NaN</td>\n",
       "      <td>Summer</td>\n",
       "      <td>0</td>\n",
       "      <td>0</td>\n",
       "      <td>1</td>\n",
       "      <td>1</td>\n",
       "    </tr>\n",
       "  </tbody>\n",
       "</table>\n",
       "</div>"
      ],
      "text/plain": [
       "    country  year  gdp_nominal - US$MM  gdp_per capita (usd)  population  \\\n",
       "100     CRO  2000              21774.0          10582.668170     4505533   \n",
       "101     CUB  2000                  NaN           6115.593942    11104313   \n",
       "102     NZL  2000              54138.0          21895.155980     3858032   \n",
       "103     CAN  2000             742319.0          32448.607640    30667365   \n",
       "104     IND  2000             476636.0           1648.208780  1053898107   \n",
       "\n",
       "     host_y  host_n  Index of Economic Freedom  no_of_internet_users  \\\n",
       "100       0       1                        NaN               3063044   \n",
       "101       0       1                        NaN               4449238   \n",
       "102       0       1                        NaN               4123439   \n",
       "103       0       1                        NaN              32602776   \n",
       "104       0       1                        NaN             500292635   \n",
       "\n",
       "     Gender gap index  number_sports_schools  Sports_budget- millions  \\\n",
       "100             714.5                    NaN                      NaN   \n",
       "101             716.9                    NaN                      NaN   \n",
       "102             751.0                    NaN                      NaN   \n",
       "103             716.5                    NaN                      NaN   \n",
       "104             601.1                    NaN                      NaN   \n",
       "\n",
       "     Sports trainees  Rank Olympics  GOLD  SILVER  BRONZE  total_No_of_medals  \n",
       "100              NaN   NaN   Summer     1       0       1                   2  \n",
       "101              NaN   NaN   Summer    11      11       7                  29  \n",
       "102              NaN   NaN   Summer     1       0       3                   4  \n",
       "103              NaN   NaN   Summer     3       3       8                  14  \n",
       "104              NaN   NaN   Summer     0       0       1                   1  "
      ]
     },
     "execution_count": 3,
     "metadata": {},
     "output_type": "execute_result"
    }
   ],
   "source": [
    "df.tail()"
   ]
  },
  {
   "cell_type": "code",
   "execution_count": 4,
   "metadata": {},
   "outputs": [
    {
     "data": {
      "text/plain": [
       "Index(['country', 'year', 'gdp_nominal - US$MM', 'gdp_per capita (usd)',\n",
       "       'population', 'host_y', 'host_n', 'Index of Economic Freedom',\n",
       "       'no_of_internet_users', 'Gender gap index', 'number_sports_schools',\n",
       "       'Sports_budget- millions', 'Sports trainees', 'Rank', 'Olympics',\n",
       "       'GOLD', 'SILVER', 'BRONZE', 'total_No_of_medals'],\n",
       "      dtype='object')"
      ]
     },
     "execution_count": 4,
     "metadata": {},
     "output_type": "execute_result"
    }
   ],
   "source": [
    "df.columns"
   ]
  },
  {
   "cell_type": "code",
   "execution_count": 5,
   "metadata": {},
   "outputs": [
    {
     "data": {
      "text/plain": [
       "(105, 19)"
      ]
     },
     "execution_count": 5,
     "metadata": {},
     "output_type": "execute_result"
    }
   ],
   "source": [
    "df.shape"
   ]
  },
  {
   "cell_type": "code",
   "execution_count": 6,
   "metadata": {},
   "outputs": [
    {
     "name": "stdout",
     "output_type": "stream",
     "text": [
      "<class 'pandas.core.frame.DataFrame'>\n",
      "RangeIndex: 105 entries, 0 to 104\n",
      "Data columns (total 19 columns):\n",
      "country                      105 non-null object\n",
      "year                         105 non-null int64\n",
      "gdp_nominal - US$MM          102 non-null float64\n",
      "gdp_per capita (usd)         104 non-null float64\n",
      "population                   105 non-null int64\n",
      "host_y                       105 non-null int64\n",
      "host_n                       105 non-null int64\n",
      "Index of Economic Freedom    63 non-null float64\n",
      "no_of_internet_users         105 non-null int64\n",
      "Gender gap index             105 non-null float64\n",
      "number_sports_schools        0 non-null float64\n",
      "Sports_budget- millions      3 non-null float64\n",
      "Sports trainees              0 non-null float64\n",
      "Rank                         20 non-null float64\n",
      "Olympics                     105 non-null object\n",
      "GOLD                         105 non-null int64\n",
      "SILVER                       105 non-null int64\n",
      "BRONZE                       105 non-null int64\n",
      "total_No_of_medals           105 non-null int64\n",
      "dtypes: float64(8), int64(9), object(2)\n",
      "memory usage: 15.7+ KB\n"
     ]
    }
   ],
   "source": [
    "df.info()"
   ]
  },
  {
   "cell_type": "code",
   "execution_count": 7,
   "metadata": {},
   "outputs": [],
   "source": [
    "##columns dropped\n",
    "df_new = df.iloc[:,np.r_[0:10,14:19]]"
   ]
  },
  {
   "cell_type": "code",
   "execution_count": 8,
   "metadata": {},
   "outputs": [
    {
     "data": {
      "text/html": [
       "<div>\n",
       "<style>\n",
       "    .dataframe thead tr:only-child th {\n",
       "        text-align: right;\n",
       "    }\n",
       "\n",
       "    .dataframe thead th {\n",
       "        text-align: left;\n",
       "    }\n",
       "\n",
       "    .dataframe tbody tr th {\n",
       "        vertical-align: top;\n",
       "    }\n",
       "</style>\n",
       "<table border=\"1\" class=\"dataframe\">\n",
       "  <thead>\n",
       "    <tr style=\"text-align: right;\">\n",
       "      <th></th>\n",
       "      <th>country</th>\n",
       "      <th>year</th>\n",
       "      <th>gdp_nominal - US$MM</th>\n",
       "      <th>gdp_per capita (usd)</th>\n",
       "      <th>population</th>\n",
       "      <th>host_y</th>\n",
       "      <th>host_n</th>\n",
       "      <th>Index of Economic Freedom</th>\n",
       "      <th>no_of_internet_users</th>\n",
       "      <th>Gender gap index</th>\n",
       "      <th>Olympics</th>\n",
       "      <th>GOLD</th>\n",
       "      <th>SILVER</th>\n",
       "      <th>BRONZE</th>\n",
       "      <th>total_No_of_medals</th>\n",
       "    </tr>\n",
       "  </thead>\n",
       "  <tbody>\n",
       "    <tr>\n",
       "      <th>0</th>\n",
       "      <td>USA</td>\n",
       "      <td>2016</td>\n",
       "      <td>18624475.0</td>\n",
       "      <td>59495.0</td>\n",
       "      <td>322179605</td>\n",
       "      <td>0</td>\n",
       "      <td>1</td>\n",
       "      <td>75.4</td>\n",
       "      <td>245436423</td>\n",
       "      <td>722.0</td>\n",
       "      <td>Summer</td>\n",
       "      <td>46</td>\n",
       "      <td>37</td>\n",
       "      <td>38</td>\n",
       "      <td>121</td>\n",
       "    </tr>\n",
       "    <tr>\n",
       "      <th>1</th>\n",
       "      <td>GBR</td>\n",
       "      <td>2016</td>\n",
       "      <td>2624529.0</td>\n",
       "      <td>43620.0</td>\n",
       "      <td>65788574</td>\n",
       "      <td>0</td>\n",
       "      <td>1</td>\n",
       "      <td>76.4</td>\n",
       "      <td>62354410</td>\n",
       "      <td>752.0</td>\n",
       "      <td>Summer</td>\n",
       "      <td>27</td>\n",
       "      <td>23</td>\n",
       "      <td>17</td>\n",
       "      <td>67</td>\n",
       "    </tr>\n",
       "    <tr>\n",
       "      <th>2</th>\n",
       "      <td>CHN</td>\n",
       "      <td>2016</td>\n",
       "      <td>11218281.0</td>\n",
       "      <td>16624.0</td>\n",
       "      <td>1403500365</td>\n",
       "      <td>0</td>\n",
       "      <td>1</td>\n",
       "      <td>52.0</td>\n",
       "      <td>746662194</td>\n",
       "      <td>676.0</td>\n",
       "      <td>Summer</td>\n",
       "      <td>26</td>\n",
       "      <td>18</td>\n",
       "      <td>26</td>\n",
       "      <td>70</td>\n",
       "    </tr>\n",
       "    <tr>\n",
       "      <th>3</th>\n",
       "      <td>RUS</td>\n",
       "      <td>2016</td>\n",
       "      <td>1527469.0</td>\n",
       "      <td>27890.0</td>\n",
       "      <td>146864513</td>\n",
       "      <td>0</td>\n",
       "      <td>1</td>\n",
       "      <td>50.6</td>\n",
       "      <td>110003284</td>\n",
       "      <td>691.0</td>\n",
       "      <td>Summer</td>\n",
       "      <td>19</td>\n",
       "      <td>17</td>\n",
       "      <td>19</td>\n",
       "      <td>55</td>\n",
       "    </tr>\n",
       "    <tr>\n",
       "      <th>4</th>\n",
       "      <td>GER</td>\n",
       "      <td>2016</td>\n",
       "      <td>3684816.0</td>\n",
       "      <td>50206.0</td>\n",
       "      <td>81914672</td>\n",
       "      <td>0</td>\n",
       "      <td>1</td>\n",
       "      <td>74.4</td>\n",
       "      <td>73436503</td>\n",
       "      <td>766.0</td>\n",
       "      <td>Summer</td>\n",
       "      <td>17</td>\n",
       "      <td>10</td>\n",
       "      <td>15</td>\n",
       "      <td>42</td>\n",
       "    </tr>\n",
       "  </tbody>\n",
       "</table>\n",
       "</div>"
      ],
      "text/plain": [
       "  country  year  gdp_nominal - US$MM  gdp_per capita (usd)  population  \\\n",
       "0     USA  2016           18624475.0               59495.0   322179605   \n",
       "1     GBR  2016            2624529.0               43620.0    65788574   \n",
       "2     CHN  2016           11218281.0               16624.0  1403500365   \n",
       "3     RUS  2016            1527469.0               27890.0   146864513   \n",
       "4     GER  2016            3684816.0               50206.0    81914672   \n",
       "\n",
       "   host_y  host_n  Index of Economic Freedom  no_of_internet_users  \\\n",
       "0       0       1                       75.4             245436423   \n",
       "1       0       1                       76.4              62354410   \n",
       "2       0       1                       52.0             746662194   \n",
       "3       0       1                       50.6             110003284   \n",
       "4       0       1                       74.4              73436503   \n",
       "\n",
       "   Gender gap index Olympics  GOLD  SILVER  BRONZE  total_No_of_medals  \n",
       "0             722.0   Summer    46      37      38                 121  \n",
       "1             752.0   Summer    27      23      17                  67  \n",
       "2             676.0   Summer    26      18      26                  70  \n",
       "3             691.0   Summer    19      17      19                  55  \n",
       "4             766.0   Summer    17      10      15                  42  "
      ]
     },
     "execution_count": 8,
     "metadata": {},
     "output_type": "execute_result"
    }
   ],
   "source": [
    "df_new.head()"
   ]
  },
  {
   "cell_type": "code",
   "execution_count": 9,
   "metadata": {},
   "outputs": [
    {
     "data": {
      "image/png": "[encoded data removed]",
      "text/plain": [
       "<matplotlib.figure.Figure at 0x4e2d198>"
      ]
     },
     "metadata": {},
     "output_type": "display_data"
    }
   ],
   "source": [
    "#correlation matrix\n",
    "corrmat = df_new.corr()\n",
    "f, ax = plt.subplots(figsize=(12, 9))\n",
    "sns.heatmap(corrmat, vmax=.9);"
   ]
  },
  {
   "cell_type": "code",
   "execution_count": 10,
   "metadata": {},
   "outputs": [
    {
     "data": {
      "text/plain": [
       "year                         0.032971\n",
       "gdp_nominal - US$MM          0.740916\n",
       "gdp_per capita (usd)         0.358122\n",
       "population                   0.249202\n",
       "host_y                       0.212756\n",
       "host_n                      -0.212756\n",
       "Index of Economic Freedom    0.108904\n",
       "no_of_internet_users         0.392146\n",
       "Gender gap index             0.100406\n",
       "GOLD                         0.959320\n",
       "SILVER                       0.952456\n",
       "BRONZE                       0.947980\n",
       "total_No_of_medals           1.000000\n",
       "Name: total_No_of_medals, dtype: float64"
      ]
     },
     "execution_count": 10,
     "metadata": {},
     "output_type": "execute_result"
    }
   ],
   "source": [
    "corr=df_new.corr()[\"total_No_of_medals\"]\n",
    "corr"
   ]
  },
  {
   "cell_type": "code",
   "execution_count": 11,
   "metadata": {},
   "outputs": [],
   "source": [
    "#plotting correlations"
   ]
  },
  {
   "cell_type": "code",
   "execution_count": 12,
   "metadata": {},
   "outputs": [
    {
     "data": {
      "image/png": "[encoded data removed]",
      "text/plain": [
       "<matplotlib.figure.Figure at 0x14475eb8>"
      ]
     },
     "metadata": {},
     "output_type": "display_data"
    }
   ],
   "source": [
    "#plotting correlations\n",
    "num_feat=df_new.columns[df_new.dtypes!=object]\n",
    "num_feat=num_feat[1:-1] \n",
    "labels = []\n",
    "values = []\n",
    "for col in num_feat:\n",
    "    labels.append(col)\n",
    "    values.append(np.corrcoef(df_new[col].values, df_new.total_No_of_medals.values)[0,1])\n",
    "    \n",
    "ind = np.arange(len(labels))\n",
    "width = 0.9\n",
    "fig, ax = plt.subplots(figsize=(15,10))\n",
    "rects = ax.barh(ind, np.array(values), color='red')\n",
    "ax.set_yticks(ind+((width)/2.))\n",
    "ax.set_yticklabels(labels, rotation='horizontal')\n",
    "ax.set_xlabel(\"Correlation coefficient\")\n",
    "ax.set_title(\"Correlation Coefficients w.r.t Total no of medals\");"
   ]
  },
  {
   "cell_type": "code",
   "execution_count": 12,
   "metadata": {},
   "outputs": [
    {
     "data": {
      "image/png": "[encoded data removed]",
      "text/plain": [
       "<matplotlib.figure.Figure at 0x14292748>"
      ]
     },
     "metadata": {},
     "output_type": "display_data"
    },
    {
     "data": {
      "image/png": "[encoded data removed]",
      "text/plain": [
       "<matplotlib.figure.Figure at 0x14292630>"
      ]
     },
     "metadata": {},
     "output_type": "display_data"
    }
   ],
   "source": [
    "#Some data transformations\n",
    "##Right Skewed\n",
    "#histogram and normal probability plot\n",
    "sns.distplot(df_new['total_No_of_medals'], fit=norm);\n",
    "fig = plt.figure()\n",
    "res = stats.probplot(df_new['total_No_of_medals'], plot=plt)"
   ]
  },
  {
   "cell_type": "code",
   "execution_count": 50,
   "metadata": {},
   "outputs": [
    {
     "data": {
      "image/png": "[encoded data removed]",
      "text/plain": [
       "<matplotlib.figure.Figure at 0x2f010cf8>"
      ]
     },
     "metadata": {},
     "output_type": "display_data"
    }
   ],
   "source": [
    "sns.jointplot(df_new['total_No_of_medals'],df_new['gdp_nominal - US$MM'],color='gold');"
   ]
  },
  {
   "cell_type": "code",
   "execution_count": 12,
   "metadata": {},
   "outputs": [],
   "source": [
    "from sklearn.linear_model import LinearRegression\n",
    "import scipy, scipy.stats\n",
    "import statsmodels.formula.api as sm"
   ]
  },
  {
   "cell_type": "code",
   "execution_count": 13,
   "metadata": {},
   "outputs": [
    {
     "data": {
      "text/plain": [
       "<bound method Series.sort_values of gdp_nominal - US$MM           3\n",
       "gdp_per capita (usd)          1\n",
       "Index of Economic Freedom    42\n",
       "dtype: int64>"
      ]
     },
     "execution_count": 13,
     "metadata": {},
     "output_type": "execute_result"
    }
   ],
   "source": [
    "null_counts = df_new.isnull().sum()\n",
    "null_counts[null_counts > 0].sort_values"
   ]
  },
  {
   "cell_type": "code",
   "execution_count": 14,
   "metadata": {},
   "outputs": [],
   "source": [
    "#Treating Missing Values\n",
    "df_new['gdp_nominal - US$MM'].fillna(df_new['gdp_nominal - US$MM'].median(), inplace=True)"
   ]
  },
  {
   "cell_type": "code",
   "execution_count": 15,
   "metadata": {},
   "outputs": [],
   "source": [
    "#Treating Missing Values\n",
    "df_new['gdp_per capita (usd)'].fillna(df_new['gdp_per capita (usd)'].median(), inplace=True)"
   ]
  },
  {
   "cell_type": "code",
   "execution_count": 16,
   "metadata": {},
   "outputs": [
    {
     "data": {
      "image/png": "[encoded data removed]",
      "text/plain": [
       "<matplotlib.figure.Figure at 0x14793be0>"
      ]
     },
     "metadata": {},
     "output_type": "display_data"
    },
    {
     "data": {
      "image/png": "[encoded data removed]",
      "text/plain": [
       "<matplotlib.figure.Figure at 0x14793f60>"
      ]
     },
     "metadata": {},
     "output_type": "display_data"
    }
   ],
   "source": [
    "sns.distplot(df_new['gdp_per capita (usd)'], fit=norm);\n",
    "fig = plt.figure()\n",
    "res = stats.probplot(df_new['gdp_per capita (usd)'], plot=plt)"
   ]
  },
  {
   "cell_type": "code",
   "execution_count": 61,
   "metadata": {},
   "outputs": [
    {
     "data": {
      "image/png": "[encoded data removed]",
      "text/plain": [
       "<matplotlib.figure.Figure at 0x2d1d73c8>"
      ]
     },
     "metadata": {},
     "output_type": "display_data"
    },
    {
     "data": {
      "image/png": "[encoded data removed]",
      "text/plain": [
       "<matplotlib.figure.Figure at 0x2b7ac6d8>"
      ]
     },
     "metadata": {},
     "output_type": "display_data"
    }
   ],
   "source": [
    "sns.distplot(df_new['gdp_nominal - US$MM'], fit=norm);\n",
    "fig = plt.figure()\n",
    "res = stats.probplot(df_new['gdp_nominal - US$MM'], plot=plt)"
   ]
  },
  {
   "cell_type": "code",
   "execution_count": 62,
   "metadata": {},
   "outputs": [
    {
     "data": {
      "image/png": "[encoded data removed]",
      "text/plain": [
       "<matplotlib.figure.Figure at 0x1cd16748>"
      ]
     },
     "metadata": {},
     "output_type": "display_data"
    },
    {
     "data": {
      "image/png": "[encoded data removed]",
      "text/plain": [
       "<matplotlib.figure.Figure at 0x1cd162b0>"
      ]
     },
     "metadata": {},
     "output_type": "display_data"
    }
   ],
   "source": [
    "sns.distplot(df_new['population'], fit=norm);\n",
    "fig = plt.figure()\n",
    "res = stats.probplot(df_new['population'], plot=plt)"
   ]
  },
  {
   "cell_type": "code",
   "execution_count": 63,
   "metadata": {},
   "outputs": [
    {
     "data": {
      "image/png": "[encoded data removed]",
      "text/plain": [
       "<matplotlib.figure.Figure at 0x24ce82e8>"
      ]
     },
     "metadata": {},
     "output_type": "display_data"
    },
    {
     "data": {
      "image/png": "[encoded data removed]",
      "text/plain": [
       "<matplotlib.figure.Figure at 0x24ce8b70>"
      ]
     },
     "metadata": {},
     "output_type": "display_data"
    }
   ],
   "source": [
    "sns.distplot(df_new['no_of_internet_users'], fit=norm);\n",
    "fig = plt.figure()\n",
    "res = stats.probplot(df_new['no_of_internet_users'], plot=plt)"
   ]
  },
  {
   "cell_type": "code",
   "execution_count": 18,
   "metadata": {},
   "outputs": [
    {
     "data": {
      "text/plain": [
       "<matplotlib.text.Text at 0x14c217b8>"
      ]
     },
     "execution_count": 18,
     "metadata": {},
     "output_type": "execute_result"
    },
    {
     "data": {
      "image/png": "[encoded data removed]",
      "text/plain": [
       "<matplotlib.figure.Figure at 0x6977208>"
      ]
     },
     "metadata": {},
     "output_type": "display_data"
    }
   ],
   "source": [
    "plt.scatter(df_new[\"no_of_internet_users\"],df_new.total_No_of_medals, color='red')\n",
    "plt.title(\"total_no_of_medals\")"
   ]
  },
  {
   "cell_type": "code",
   "execution_count": 55,
   "metadata": {},
   "outputs": [
    {
     "data": {
      "text/plain": [
       "<matplotlib.text.Text at 0x17604c50>"
      ]
     },
     "execution_count": 55,
     "metadata": {},
     "output_type": "execute_result"
    },
    {
     "data": {
      "image/png": "[encoded data removed]",
      "text/plain": [
       "<matplotlib.figure.Figure at 0x174aa2b0>"
      ]
     },
     "metadata": {},
     "output_type": "display_data"
    }
   ],
   "source": [
    "plt.scatter(df_new[\"population\"],df_new.total_No_of_medals, color='red')\n",
    "plt.title(\"total_no_of_medals\")"
   ]
  },
  {
   "cell_type": "code",
   "execution_count": 56,
   "metadata": {},
   "outputs": [
    {
     "data": {
      "text/plain": [
       "<matplotlib.text.Text at 0x176a4f60>"
      ]
     },
     "execution_count": 56,
     "metadata": {},
     "output_type": "execute_result"
    },
    {
     "data": {
      "image/png": "[encoded data removed]",
      "text/plain": [
       "<matplotlib.figure.Figure at 0x174065f8>"
      ]
     },
     "metadata": {},
     "output_type": "display_data"
    }
   ],
   "source": [
    "plt.scatter(df_new[\"gdp_nominal - US$MM\"],df_new.total_No_of_medals, color='red')\n",
    "plt.title(\"total_no_of_medals\")"
   ]
  },
  {
   "cell_type": "code",
   "execution_count": 57,
   "metadata": {},
   "outputs": [
    {
     "data": {
      "text/plain": [
       "<matplotlib.text.Text at 0x1774d6d8>"
      ]
     },
     "execution_count": 57,
     "metadata": {},
     "output_type": "execute_result"
    },
    {
     "data": {
      "image/png": "[encoded data removed]",
      "text/plain": [
       "<matplotlib.figure.Figure at 0x1770e898>"
      ]
     },
     "metadata": {},
     "output_type": "display_data"
    }
   ],
   "source": [
    "plt.scatter(df_new[\"gdp_per capita (usd)\"],df_new.total_No_of_medals, color='red')\n",
    "plt.title(\"total_no_of_medals\")"
   ]
  },
  {
   "cell_type": "code",
   "execution_count": 58,
   "metadata": {},
   "outputs": [
    {
     "data": {
      "text/plain": [
       "<matplotlib.text.Text at 0x177e9eb8>"
      ]
     },
     "execution_count": 58,
     "metadata": {},
     "output_type": "execute_result"
    },
    {
     "data": {
      "image/png": "[encoded data removed]",
      "text/plain": [
       "<matplotlib.figure.Figure at 0x1779c3c8>"
      ]
     },
     "metadata": {},
     "output_type": "display_data"
    }
   ],
   "source": [
    "plt.scatter(df_new[\"Gender gap index\"],df_new.total_No_of_medals, color='red')\n",
    "plt.title(\"total_no_of_medals\")"
   ]
  },
  {
   "cell_type": "code",
   "execution_count": 59,
   "metadata": {},
   "outputs": [
    {
     "data": {
      "text/plain": [
       "<matplotlib.text.Text at 0x17893278>"
      ]
     },
     "execution_count": 59,
     "metadata": {},
     "output_type": "execute_result"
    },
    {
     "data": {
      "image/png": "[encoded data removed]",
      "text/plain": [
       "<matplotlib.figure.Figure at 0x1785fda0>"
      ]
     },
     "metadata": {},
     "output_type": "display_data"
    }
   ],
   "source": [
    "plt.scatter(df_new[\"Index of Economic Freedom\"],df_new.total_No_of_medals, color='red')\n",
    "plt.title(\"total_no_of_medals\")"
   ]
  },
  {
   "cell_type": "code",
   "execution_count": 19,
   "metadata": {},
   "outputs": [],
   "source": [
    "X = df_new[['no_of_internet_users','population','gdp_nominal - US$MM','gdp_per capita (usd)']] \n",
    " "
   ]
  },
  {
   "cell_type": "code",
   "execution_count": 20,
   "metadata": {},
   "outputs": [],
   "source": [
    "Y = df_new.iloc[:,-1]"
   ]
  },
  {
   "cell_type": "code",
   "execution_count": null,
   "metadata": {},
   "outputs": [],
   "source": []
  },
  {
   "cell_type": "code",
   "execution_count": null,
   "metadata": {},
   "outputs": [],
   "source": [
    "###multiple regression"
   ]
  },
  {
   "cell_type": "code",
   "execution_count": 17,
   "metadata": {},
   "outputs": [],
   "source": [
    "from sklearn import linear_model\n",
    "from sklearn.linear_model import LinearRegression\n",
    "import scipy, scipy.stats\n",
    "import statsmodels.formula.api as sm"
   ]
  },
  {
   "cell_type": "code",
   "execution_count": 21,
   "metadata": {},
   "outputs": [
    {
     "name": "stdout",
     "output_type": "stream",
     "text": [
      "Intercept: \n",
      " 13.070931482726529\n",
      "Coefficients: \n",
      " [ 3.27468864e-07 -1.49657179e-07  3.29175957e-06  1.42670901e-04]\n"
     ]
    }
   ],
   "source": [
    "# with sklearn\n",
    "regr = linear_model.LinearRegression()\n",
    "x = regr.fit(X, Y)\n",
    "\n",
    "print('Intercept: \\n', regr.intercept_)\n",
    "print('Coefficients: \\n', regr.coef_)\n"
   ]
  },
  {
   "cell_type": "code",
   "execution_count": 23,
   "metadata": {},
   "outputs": [
    {
     "data": {
      "text/plain": [
       "(105, 15)"
      ]
     },
     "execution_count": 23,
     "metadata": {},
     "output_type": "execute_result"
    }
   ],
   "source": [
    "df_new.shape"
   ]
  },
  {
   "cell_type": "code",
   "execution_count": 165,
   "metadata": {},
   "outputs": [
    {
     "data": {
      "text/html": [
       "<table class=\"simpletable\">\n",
       "<caption>OLS Regression Results</caption>\n",
       "<tr>\n",
       "  <th>Dep. Variable:</th>    <td>total_No_of_medals</td> <th>  R-squared:         </th> <td>   0.852</td>\n",
       "</tr>\n",
       "<tr>\n",
       "  <th>Model:</th>                    <td>OLS</td>        <th>  Adj. R-squared:    </th> <td>   0.846</td>\n",
       "</tr>\n",
       "<tr>\n",
       "  <th>Method:</th>              <td>Least Squares</td>   <th>  F-statistic:       </th> <td>   145.6</td>\n",
       "</tr>\n",
       "<tr>\n",
       "  <th>Date:</th>              <td>Thu, 20 Sep 2018</td>  <th>  Prob (F-statistic):</th> <td>5.20e-41</td>\n",
       "</tr>\n",
       "<tr>\n",
       "  <th>Time:</th>                  <td>22:37:13</td>      <th>  Log-Likelihood:    </th> <td> -440.06</td>\n",
       "</tr>\n",
       "<tr>\n",
       "  <th>No. Observations:</th>       <td>   105</td>       <th>  AIC:               </th> <td>   888.1</td>\n",
       "</tr>\n",
       "<tr>\n",
       "  <th>Df Residuals:</th>           <td>   101</td>       <th>  BIC:               </th> <td>   898.7</td>\n",
       "</tr>\n",
       "<tr>\n",
       "  <th>Df Model:</th>               <td>     4</td>       <th>                     </th>     <td> </td>   \n",
       "</tr>\n",
       "<tr>\n",
       "  <th>Covariance Type:</th>       <td>nonrobust</td>     <th>                     </th>     <td> </td>   \n",
       "</tr>\n",
       "</table>\n",
       "<table class=\"simpletable\">\n",
       "<tr>\n",
       "            <td></td>              <th>coef</th>     <th>std err</th>      <th>t</th>      <th>P>|t|</th>  <th>[0.025</th>    <th>0.975]</th>  \n",
       "</tr>\n",
       "<tr>\n",
       "  <th>no_of_internet_users</th> <td> 3.412e-07</td> <td> 5.23e-08</td> <td>    6.523</td> <td> 0.000</td> <td> 2.37e-07</td> <td> 4.45e-07</td>\n",
       "</tr>\n",
       "<tr>\n",
       "  <th>population</th>           <td>-1.452e-07</td> <td> 2.55e-08</td> <td>   -5.705</td> <td> 0.000</td> <td>-1.96e-07</td> <td>-9.47e-08</td>\n",
       "</tr>\n",
       "<tr>\n",
       "  <th>gdp_nominal - US$MM</th>  <td> 2.488e-06</td> <td> 6.84e-07</td> <td>    3.636</td> <td> 0.000</td> <td> 1.13e-06</td> <td> 3.85e-06</td>\n",
       "</tr>\n",
       "<tr>\n",
       "  <th>gdp_per capita (usd)</th> <td>    0.0006</td> <td> 8.09e-05</td> <td>    7.296</td> <td> 0.000</td> <td>    0.000</td> <td>    0.001</td>\n",
       "</tr>\n",
       "</table>\n",
       "<table class=\"simpletable\">\n",
       "<tr>\n",
       "  <th>Omnibus:</th>       <td>35.763</td> <th>  Durbin-Watson:     </th> <td>   1.898</td>\n",
       "</tr>\n",
       "<tr>\n",
       "  <th>Prob(Omnibus):</th> <td> 0.000</td> <th>  Jarque-Bera (JB):  </th> <td>  83.405</td>\n",
       "</tr>\n",
       "<tr>\n",
       "  <th>Skew:</th>          <td> 1.284</td> <th>  Prob(JB):          </th> <td>7.74e-19</td>\n",
       "</tr>\n",
       "<tr>\n",
       "  <th>Kurtosis:</th>      <td> 6.531</td> <th>  Cond. No.          </th> <td>2.30e+04</td>\n",
       "</tr>\n",
       "</table>"
      ],
      "text/plain": [
       "<class 'statsmodels.iolib.summary.Summary'>\n",
       "\"\"\"\n",
       "                            OLS Regression Results                            \n",
       "==============================================================================\n",
       "Dep. Variable:     total_No_of_medals   R-squared:                       0.852\n",
       "Model:                            OLS   Adj. R-squared:                  0.846\n",
       "Method:                 Least Squares   F-statistic:                     145.6\n",
       "Date:                Thu, 20 Sep 2018   Prob (F-statistic):           5.20e-41\n",
       "Time:                        22:37:13   Log-Likelihood:                -440.06\n",
       "No. Observations:                 105   AIC:                             888.1\n",
       "Df Residuals:                     101   BIC:                             898.7\n",
       "Df Model:                           4                                         \n",
       "Covariance Type:            nonrobust                                         \n",
       "========================================================================================\n",
       "                           coef    std err          t      P>|t|      [0.025      0.975]\n",
       "----------------------------------------------------------------------------------------\n",
       "no_of_internet_users  3.412e-07   5.23e-08      6.523      0.000    2.37e-07    4.45e-07\n",
       "population           -1.452e-07   2.55e-08     -5.705      0.000   -1.96e-07   -9.47e-08\n",
       "gdp_nominal - US$MM   2.488e-06   6.84e-07      3.636      0.000    1.13e-06    3.85e-06\n",
       "gdp_per capita (usd)     0.0006   8.09e-05      7.296      0.000       0.000       0.001\n",
       "==============================================================================\n",
       "Omnibus:                       35.763   Durbin-Watson:                   1.898\n",
       "Prob(Omnibus):                  0.000   Jarque-Bera (JB):               83.405\n",
       "Skew:                           1.284   Prob(JB):                     7.74e-19\n",
       "Kurtosis:                       6.531   Cond. No.                     2.30e+04\n",
       "==============================================================================\n",
       "\n",
       "Warnings:\n",
       "[1] Standard Errors assume that the covariance matrix of the errors is correctly specified.\n",
       "[2] The condition number is large, 2.3e+04. This might indicate that there are\n",
       "strong multicollinearity or other numerical problems.\n",
       "\"\"\""
      ]
     },
     "execution_count": 165,
     "metadata": {},
     "output_type": "execute_result"
    }
   ],
   "source": [
    "result = sm.OLS(Y,X).fit()\n",
    "result.summary()"
   ]
  },
  {
   "cell_type": "code",
   "execution_count": 166,
   "metadata": {},
   "outputs": [
    {
     "data": {
      "text/plain": [
       "Index(['country', 'year', 'gdp_nominal - US$MM', 'gdp_per capita (usd)',\n",
       "       'population', 'host_y', 'host_n', 'Index of Economic Freedom',\n",
       "       'no_of_internet_users', 'Gender gap index', 'Olympics', 'GOLD',\n",
       "       'SILVER', 'BRONZE', 'total_No_of_medals'],\n",
       "      dtype='object')"
      ]
     },
     "execution_count": 166,
     "metadata": {},
     "output_type": "execute_result"
    }
   ],
   "source": [
    "df_new.columns"
   ]
  },
  {
   "cell_type": "code",
   "execution_count": 25,
   "metadata": {},
   "outputs": [],
   "source": [
    "df_new.columns\n",
    "df_1 = df_new.iloc[:,np.r_[2:7,8:10]].values\n"
   ]
  },
  {
   "cell_type": "code",
   "execution_count": 26,
   "metadata": {},
   "outputs": [],
   "source": [
    "###Backward elimination approach to make optimal model\n",
    "X1 = np.append(arr = np.ones((105,1)).astype(int), values = df_1, axis = 1)"
   ]
  },
  {
   "cell_type": "code",
   "execution_count": 27,
   "metadata": {},
   "outputs": [],
   "source": [
    "x_1 = X1[:,[0,1,2,3,4,5,6,7]]"
   ]
  },
  {
   "cell_type": "code",
   "execution_count": 28,
   "metadata": {},
   "outputs": [],
   "source": [
    "x = df_new[['no_of_internet_users','population','gdp_nominal - US$MM','host_n','Gender gap index']].values\n",
    "y = df_new.iloc[:,-1].values"
   ]
  },
  {
   "cell_type": "code",
   "execution_count": 29,
   "metadata": {},
   "outputs": [
    {
     "data": {
      "text/plain": [
       "array([[ 1.        ,  0.97802742,  0.40880026, -0.14428339, -0.34515587],\n",
       "       [ 0.97802742,  1.        ,  0.29737937, -0.12424288, -0.37060942],\n",
       "       [ 0.40880026,  0.29737937,  1.        , -0.01578514,  0.05378809],\n",
       "       [-0.14428339, -0.12424288, -0.01578514,  1.        , -0.04579491],\n",
       "       [-0.34515587, -0.37060942,  0.05378809, -0.04579491,  1.        ]])"
      ]
     },
     "execution_count": 29,
     "metadata": {},
     "output_type": "execute_result"
    }
   ],
   "source": [
    "corr = np.corrcoef(x,rowvar=0)\n",
    "corr"
   ]
  },
  {
   "cell_type": "code",
   "execution_count": 172,
   "metadata": {},
   "outputs": [
    {
     "data": {
      "text/plain": [
       "array([2.35954303, 0.01443785, 0.56020941, 1.08221582, 0.98359388])"
      ]
     },
     "execution_count": 172,
     "metadata": {},
     "output_type": "execute_result"
    }
   ],
   "source": [
    "w,v = np.linalg.eig(corr)\n",
    "w"
   ]
  },
  {
   "cell_type": "code",
   "execution_count": 173,
   "metadata": {},
   "outputs": [
    {
     "data": {
      "text/plain": [
       "array([ 0.01360174, -0.03346345,  0.51814854,  0.83756998,  0.16939248])"
      ]
     },
     "execution_count": 173,
     "metadata": {},
     "output_type": "execute_result"
    }
   ],
   "source": [
    "v[:,3]\n",
    "v[:,4]\n"
   ]
  },
  {
   "cell_type": "code",
   "execution_count": 174,
   "metadata": {},
   "outputs": [
    {
     "data": {
      "text/html": [
       "<table class=\"simpletable\">\n",
       "<caption>OLS Regression Results</caption>\n",
       "<tr>\n",
       "  <th>Dep. Variable:</th>            <td>y</td>        <th>  R-squared:         </th> <td>   0.714</td>\n",
       "</tr>\n",
       "<tr>\n",
       "  <th>Model:</th>                   <td>OLS</td>       <th>  Adj. R-squared:    </th> <td>   0.696</td>\n",
       "</tr>\n",
       "<tr>\n",
       "  <th>Method:</th>             <td>Least Squares</td>  <th>  F-statistic:       </th> <td>   40.74</td>\n",
       "</tr>\n",
       "<tr>\n",
       "  <th>Date:</th>             <td>Thu, 20 Sep 2018</td> <th>  Prob (F-statistic):</th> <td>1.57e-24</td>\n",
       "</tr>\n",
       "<tr>\n",
       "  <th>Time:</th>                 <td>22:37:32</td>     <th>  Log-Likelihood:    </th> <td> -429.22</td>\n",
       "</tr>\n",
       "<tr>\n",
       "  <th>No. Observations:</th>      <td>   105</td>      <th>  AIC:               </th> <td>   872.4</td>\n",
       "</tr>\n",
       "<tr>\n",
       "  <th>Df Residuals:</th>          <td>    98</td>      <th>  BIC:               </th> <td>   891.0</td>\n",
       "</tr>\n",
       "<tr>\n",
       "  <th>Df Model:</th>              <td>     6</td>      <th>                     </th>     <td> </td>   \n",
       "</tr>\n",
       "<tr>\n",
       "  <th>Covariance Type:</th>      <td>nonrobust</td>    <th>                     </th>     <td> </td>   \n",
       "</tr>\n",
       "</table>\n",
       "<table class=\"simpletable\">\n",
       "<tr>\n",
       "    <td></td>       <th>coef</th>     <th>std err</th>      <th>t</th>      <th>P>|t|</th>  <th>[0.025</th>    <th>0.975]</th>  \n",
       "</tr>\n",
       "<tr>\n",
       "  <th>const</th> <td>   -4.8578</td> <td>   18.519</td> <td>   -0.262</td> <td> 0.794</td> <td>  -41.609</td> <td>   31.893</td>\n",
       "</tr>\n",
       "<tr>\n",
       "  <th>x1</th>    <td> 3.492e-06</td> <td> 6.65e-07</td> <td>    5.248</td> <td> 0.000</td> <td> 2.17e-06</td> <td> 4.81e-06</td>\n",
       "</tr>\n",
       "<tr>\n",
       "  <th>x2</th>    <td> 7.761e-05</td> <td>    0.000</td> <td>    0.524</td> <td> 0.601</td> <td>   -0.000</td> <td>    0.000</td>\n",
       "</tr>\n",
       "<tr>\n",
       "  <th>x3</th>    <td>-1.422e-07</td> <td> 2.35e-08</td> <td>   -6.047</td> <td> 0.000</td> <td>-1.89e-07</td> <td>-9.55e-08</td>\n",
       "</tr>\n",
       "<tr>\n",
       "  <th>x4</th>    <td>    7.3376</td> <td>   10.885</td> <td>    0.674</td> <td> 0.502</td> <td>  -14.264</td> <td>   28.939</td>\n",
       "</tr>\n",
       "<tr>\n",
       "  <th>x5</th>    <td>  -12.1954</td> <td>    9.139</td> <td>   -1.334</td> <td> 0.185</td> <td>  -30.331</td> <td>    5.940</td>\n",
       "</tr>\n",
       "<tr>\n",
       "  <th>x6</th>    <td> 3.108e-07</td> <td> 4.87e-08</td> <td>    6.386</td> <td> 0.000</td> <td> 2.14e-07</td> <td> 4.07e-07</td>\n",
       "</tr>\n",
       "<tr>\n",
       "  <th>x7</th>    <td>    0.0442</td> <td>    0.040</td> <td>    1.112</td> <td> 0.269</td> <td>   -0.035</td> <td>    0.123</td>\n",
       "</tr>\n",
       "</table>\n",
       "<table class=\"simpletable\">\n",
       "<tr>\n",
       "  <th>Omnibus:</th>       <td>42.692</td> <th>  Durbin-Watson:     </th> <td>   1.815</td>\n",
       "</tr>\n",
       "<tr>\n",
       "  <th>Prob(Omnibus):</th> <td> 0.000</td> <th>  Jarque-Bera (JB):  </th> <td> 124.943</td>\n",
       "</tr>\n",
       "<tr>\n",
       "  <th>Skew:</th>          <td> 1.437</td> <th>  Prob(JB):          </th> <td>7.40e-28</td>\n",
       "</tr>\n",
       "<tr>\n",
       "  <th>Kurtosis:</th>      <td> 7.506</td> <th>  Cond. No.          </th> <td>2.92e+22</td>\n",
       "</tr>\n",
       "</table>"
      ],
      "text/plain": [
       "<class 'statsmodels.iolib.summary.Summary'>\n",
       "\"\"\"\n",
       "                            OLS Regression Results                            \n",
       "==============================================================================\n",
       "Dep. Variable:                      y   R-squared:                       0.714\n",
       "Model:                            OLS   Adj. R-squared:                  0.696\n",
       "Method:                 Least Squares   F-statistic:                     40.74\n",
       "Date:                Thu, 20 Sep 2018   Prob (F-statistic):           1.57e-24\n",
       "Time:                        22:37:32   Log-Likelihood:                -429.22\n",
       "No. Observations:                 105   AIC:                             872.4\n",
       "Df Residuals:                      98   BIC:                             891.0\n",
       "Df Model:                           6                                         \n",
       "Covariance Type:            nonrobust                                         \n",
       "==============================================================================\n",
       "                 coef    std err          t      P>|t|      [0.025      0.975]\n",
       "------------------------------------------------------------------------------\n",
       "const         -4.8578     18.519     -0.262      0.794     -41.609      31.893\n",
       "x1          3.492e-06   6.65e-07      5.248      0.000    2.17e-06    4.81e-06\n",
       "x2          7.761e-05      0.000      0.524      0.601      -0.000       0.000\n",
       "x3         -1.422e-07   2.35e-08     -6.047      0.000   -1.89e-07   -9.55e-08\n",
       "x4             7.3376     10.885      0.674      0.502     -14.264      28.939\n",
       "x5           -12.1954      9.139     -1.334      0.185     -30.331       5.940\n",
       "x6          3.108e-07   4.87e-08      6.386      0.000    2.14e-07    4.07e-07\n",
       "x7             0.0442      0.040      1.112      0.269      -0.035       0.123\n",
       "==============================================================================\n",
       "Omnibus:                       42.692   Durbin-Watson:                   1.815\n",
       "Prob(Omnibus):                  0.000   Jarque-Bera (JB):              124.943\n",
       "Skew:                           1.437   Prob(JB):                     7.40e-28\n",
       "Kurtosis:                       7.506   Cond. No.                     2.92e+22\n",
       "==============================================================================\n",
       "\n",
       "Warnings:\n",
       "[1] Standard Errors assume that the covariance matrix of the errors is correctly specified.\n",
       "[2] The smallest eigenvalue is 2.51e-26. This might indicate that there are\n",
       "strong multicollinearity problems or that the design matrix is singular.\n",
       "\"\"\""
      ]
     },
     "execution_count": 174,
     "metadata": {},
     "output_type": "execute_result"
    }
   ],
   "source": [
    "reg_1 = sm.OLS(y,x_1).fit()\n",
    "reg_1.summary()"
   ]
  },
  {
   "cell_type": "code",
   "execution_count": 175,
   "metadata": {},
   "outputs": [
    {
     "data": {
      "text/html": [
       "<table class=\"simpletable\">\n",
       "<caption>OLS Regression Results</caption>\n",
       "<tr>\n",
       "  <th>Dep. Variable:</th>            <td>y</td>        <th>  R-squared:         </th> <td>   0.714</td>\n",
       "</tr>\n",
       "<tr>\n",
       "  <th>Model:</th>                   <td>OLS</td>       <th>  Adj. R-squared:    </th> <td>   0.696</td>\n",
       "</tr>\n",
       "<tr>\n",
       "  <th>Method:</th>             <td>Least Squares</td>  <th>  F-statistic:       </th> <td>   40.74</td>\n",
       "</tr>\n",
       "<tr>\n",
       "  <th>Date:</th>             <td>Thu, 20 Sep 2018</td> <th>  Prob (F-statistic):</th> <td>1.57e-24</td>\n",
       "</tr>\n",
       "<tr>\n",
       "  <th>Time:</th>                 <td>22:37:44</td>     <th>  Log-Likelihood:    </th> <td> -429.22</td>\n",
       "</tr>\n",
       "<tr>\n",
       "  <th>No. Observations:</th>      <td>   105</td>      <th>  AIC:               </th> <td>   872.4</td>\n",
       "</tr>\n",
       "<tr>\n",
       "  <th>Df Residuals:</th>          <td>    98</td>      <th>  BIC:               </th> <td>   891.0</td>\n",
       "</tr>\n",
       "<tr>\n",
       "  <th>Df Model:</th>              <td>     6</td>      <th>                     </th>     <td> </td>   \n",
       "</tr>\n",
       "<tr>\n",
       "  <th>Covariance Type:</th>      <td>nonrobust</td>    <th>                     </th>     <td> </td>   \n",
       "</tr>\n",
       "</table>\n",
       "<table class=\"simpletable\">\n",
       "<tr>\n",
       "   <td></td>     <th>coef</th>     <th>std err</th>      <th>t</th>      <th>P>|t|</th>  <th>[0.025</th>    <th>0.975]</th>  \n",
       "</tr>\n",
       "<tr>\n",
       "  <th>x1</th> <td> 3.492e-06</td> <td> 6.65e-07</td> <td>    5.248</td> <td> 0.000</td> <td> 2.17e-06</td> <td> 4.81e-06</td>\n",
       "</tr>\n",
       "<tr>\n",
       "  <th>x2</th> <td> 7.761e-05</td> <td>    0.000</td> <td>    0.524</td> <td> 0.601</td> <td>   -0.000</td> <td>    0.000</td>\n",
       "</tr>\n",
       "<tr>\n",
       "  <th>x3</th> <td>-1.422e-07</td> <td> 2.35e-08</td> <td>   -6.047</td> <td> 0.000</td> <td>-1.89e-07</td> <td>-9.55e-08</td>\n",
       "</tr>\n",
       "<tr>\n",
       "  <th>x4</th> <td>    2.4798</td> <td>   28.972</td> <td>    0.086</td> <td> 0.932</td> <td>  -55.015</td> <td>   59.975</td>\n",
       "</tr>\n",
       "<tr>\n",
       "  <th>x5</th> <td>  -17.0532</td> <td>   27.101</td> <td>   -0.629</td> <td> 0.531</td> <td>  -70.835</td> <td>   36.728</td>\n",
       "</tr>\n",
       "<tr>\n",
       "  <th>x6</th> <td> 3.108e-07</td> <td> 4.87e-08</td> <td>    6.386</td> <td> 0.000</td> <td> 2.14e-07</td> <td> 4.07e-07</td>\n",
       "</tr>\n",
       "<tr>\n",
       "  <th>x7</th> <td>    0.0442</td> <td>    0.040</td> <td>    1.112</td> <td> 0.269</td> <td>   -0.035</td> <td>    0.123</td>\n",
       "</tr>\n",
       "</table>\n",
       "<table class=\"simpletable\">\n",
       "<tr>\n",
       "  <th>Omnibus:</th>       <td>42.692</td> <th>  Durbin-Watson:     </th> <td>   1.815</td>\n",
       "</tr>\n",
       "<tr>\n",
       "  <th>Prob(Omnibus):</th> <td> 0.000</td> <th>  Jarque-Bera (JB):  </th> <td> 124.943</td>\n",
       "</tr>\n",
       "<tr>\n",
       "  <th>Skew:</th>          <td> 1.437</td> <th>  Prob(JB):          </th> <td>7.40e-28</td>\n",
       "</tr>\n",
       "<tr>\n",
       "  <th>Kurtosis:</th>      <td> 7.506</td> <th>  Cond. No.          </th> <td>1.22e+10</td>\n",
       "</tr>\n",
       "</table>"
      ],
      "text/plain": [
       "<class 'statsmodels.iolib.summary.Summary'>\n",
       "\"\"\"\n",
       "                            OLS Regression Results                            \n",
       "==============================================================================\n",
       "Dep. Variable:                      y   R-squared:                       0.714\n",
       "Model:                            OLS   Adj. R-squared:                  0.696\n",
       "Method:                 Least Squares   F-statistic:                     40.74\n",
       "Date:                Thu, 20 Sep 2018   Prob (F-statistic):           1.57e-24\n",
       "Time:                        22:37:44   Log-Likelihood:                -429.22\n",
       "No. Observations:                 105   AIC:                             872.4\n",
       "Df Residuals:                      98   BIC:                             891.0\n",
       "Df Model:                           6                                         \n",
       "Covariance Type:            nonrobust                                         \n",
       "==============================================================================\n",
       "                 coef    std err          t      P>|t|      [0.025      0.975]\n",
       "------------------------------------------------------------------------------\n",
       "x1          3.492e-06   6.65e-07      5.248      0.000    2.17e-06    4.81e-06\n",
       "x2          7.761e-05      0.000      0.524      0.601      -0.000       0.000\n",
       "x3         -1.422e-07   2.35e-08     -6.047      0.000   -1.89e-07   -9.55e-08\n",
       "x4             2.4798     28.972      0.086      0.932     -55.015      59.975\n",
       "x5           -17.0532     27.101     -0.629      0.531     -70.835      36.728\n",
       "x6          3.108e-07   4.87e-08      6.386      0.000    2.14e-07    4.07e-07\n",
       "x7             0.0442      0.040      1.112      0.269      -0.035       0.123\n",
       "==============================================================================\n",
       "Omnibus:                       42.692   Durbin-Watson:                   1.815\n",
       "Prob(Omnibus):                  0.000   Jarque-Bera (JB):              124.943\n",
       "Skew:                           1.437   Prob(JB):                     7.40e-28\n",
       "Kurtosis:                       7.506   Cond. No.                     1.22e+10\n",
       "==============================================================================\n",
       "\n",
       "Warnings:\n",
       "[1] Standard Errors assume that the covariance matrix of the errors is correctly specified.\n",
       "[2] The condition number is large, 1.22e+10. This might indicate that there are\n",
       "strong multicollinearity or other numerical problems.\n",
       "\"\"\""
      ]
     },
     "execution_count": 175,
     "metadata": {},
     "output_type": "execute_result"
    }
   ],
   "source": [
    "#second model\n",
    "x_2 = X1[:,[1,2,3,4,5,6,7]]\n",
    "reg_2 = sm.OLS(y,x_2).fit()\n",
    "reg_2.summary()"
   ]
  },
  {
   "cell_type": "code",
   "execution_count": 176,
   "metadata": {},
   "outputs": [
    {
     "data": {
      "text/html": [
       "<table class=\"simpletable\">\n",
       "<caption>OLS Regression Results</caption>\n",
       "<tr>\n",
       "  <th>Dep. Variable:</th>            <td>y</td>        <th>  R-squared:         </th> <td>   0.880</td>\n",
       "</tr>\n",
       "<tr>\n",
       "  <th>Model:</th>                   <td>OLS</td>       <th>  Adj. R-squared:    </th> <td>   0.872</td>\n",
       "</tr>\n",
       "<tr>\n",
       "  <th>Method:</th>             <td>Least Squares</td>  <th>  F-statistic:       </th> <td>   120.7</td>\n",
       "</tr>\n",
       "<tr>\n",
       "  <th>Date:</th>             <td>Thu, 20 Sep 2018</td> <th>  Prob (F-statistic):</th> <td>2.93e-43</td>\n",
       "</tr>\n",
       "<tr>\n",
       "  <th>Time:</th>                 <td>22:37:47</td>     <th>  Log-Likelihood:    </th> <td> -429.22</td>\n",
       "</tr>\n",
       "<tr>\n",
       "  <th>No. Observations:</th>      <td>   105</td>      <th>  AIC:               </th> <td>   870.4</td>\n",
       "</tr>\n",
       "<tr>\n",
       "  <th>Df Residuals:</th>          <td>    99</td>      <th>  BIC:               </th> <td>   886.4</td>\n",
       "</tr>\n",
       "<tr>\n",
       "  <th>Df Model:</th>              <td>     6</td>      <th>                     </th>     <td> </td>   \n",
       "</tr>\n",
       "<tr>\n",
       "  <th>Covariance Type:</th>      <td>nonrobust</td>    <th>                     </th>     <td> </td>   \n",
       "</tr>\n",
       "</table>\n",
       "<table class=\"simpletable\">\n",
       "<tr>\n",
       "   <td></td>     <th>coef</th>     <th>std err</th>      <th>t</th>      <th>P>|t|</th>  <th>[0.025</th>    <th>0.975]</th>  \n",
       "</tr>\n",
       "<tr>\n",
       "  <th>x1</th> <td> 3.489e-06</td> <td> 6.61e-07</td> <td>    5.277</td> <td> 0.000</td> <td> 2.18e-06</td> <td>  4.8e-06</td>\n",
       "</tr>\n",
       "<tr>\n",
       "  <th>x2</th> <td> 7.489e-05</td> <td>    0.000</td> <td>    0.521</td> <td> 0.604</td> <td>   -0.000</td> <td>    0.000</td>\n",
       "</tr>\n",
       "<tr>\n",
       "  <th>x3</th> <td>-1.422e-07</td> <td> 2.34e-08</td> <td>   -6.083</td> <td> 0.000</td> <td>-1.89e-07</td> <td>-9.58e-08</td>\n",
       "</tr>\n",
       "<tr>\n",
       "  <th>x4</th> <td>  -19.2879</td> <td>    7.232</td> <td>   -2.667</td> <td> 0.009</td> <td>  -33.638</td> <td>   -4.938</td>\n",
       "</tr>\n",
       "<tr>\n",
       "  <th>x5</th> <td> 3.112e-07</td> <td> 4.82e-08</td> <td>    6.459</td> <td> 0.000</td> <td> 2.16e-07</td> <td> 4.07e-07</td>\n",
       "</tr>\n",
       "<tr>\n",
       "  <th>x6</th> <td>    0.0474</td> <td>    0.011</td> <td>    4.128</td> <td> 0.000</td> <td>    0.025</td> <td>    0.070</td>\n",
       "</tr>\n",
       "</table>\n",
       "<table class=\"simpletable\">\n",
       "<tr>\n",
       "  <th>Omnibus:</th>       <td>42.752</td> <th>  Durbin-Watson:     </th> <td>   1.816</td>\n",
       "</tr>\n",
       "<tr>\n",
       "  <th>Prob(Omnibus):</th> <td> 0.000</td> <th>  Jarque-Bera (JB):  </th> <td> 124.691</td>\n",
       "</tr>\n",
       "<tr>\n",
       "  <th>Skew:</th>          <td> 1.441</td> <th>  Prob(JB):          </th> <td>8.39e-28</td>\n",
       "</tr>\n",
       "<tr>\n",
       "  <th>Kurtosis:</th>      <td> 7.494</td> <th>  Cond. No.          </th> <td>2.26e+09</td>\n",
       "</tr>\n",
       "</table>"
      ],
      "text/plain": [
       "<class 'statsmodels.iolib.summary.Summary'>\n",
       "\"\"\"\n",
       "                            OLS Regression Results                            \n",
       "==============================================================================\n",
       "Dep. Variable:                      y   R-squared:                       0.880\n",
       "Model:                            OLS   Adj. R-squared:                  0.872\n",
       "Method:                 Least Squares   F-statistic:                     120.7\n",
       "Date:                Thu, 20 Sep 2018   Prob (F-statistic):           2.93e-43\n",
       "Time:                        22:37:47   Log-Likelihood:                -429.22\n",
       "No. Observations:                 105   AIC:                             870.4\n",
       "Df Residuals:                      99   BIC:                             886.4\n",
       "Df Model:                           6                                         \n",
       "Covariance Type:            nonrobust                                         \n",
       "==============================================================================\n",
       "                 coef    std err          t      P>|t|      [0.025      0.975]\n",
       "------------------------------------------------------------------------------\n",
       "x1          3.489e-06   6.61e-07      5.277      0.000    2.18e-06     4.8e-06\n",
       "x2          7.489e-05      0.000      0.521      0.604      -0.000       0.000\n",
       "x3         -1.422e-07   2.34e-08     -6.083      0.000   -1.89e-07   -9.58e-08\n",
       "x4           -19.2879      7.232     -2.667      0.009     -33.638      -4.938\n",
       "x5          3.112e-07   4.82e-08      6.459      0.000    2.16e-07    4.07e-07\n",
       "x6             0.0474      0.011      4.128      0.000       0.025       0.070\n",
       "==============================================================================\n",
       "Omnibus:                       42.752   Durbin-Watson:                   1.816\n",
       "Prob(Omnibus):                  0.000   Jarque-Bera (JB):              124.691\n",
       "Skew:                           1.441   Prob(JB):                     8.39e-28\n",
       "Kurtosis:                       7.494   Cond. No.                     2.26e+09\n",
       "==============================================================================\n",
       "\n",
       "Warnings:\n",
       "[1] Standard Errors assume that the covariance matrix of the errors is correctly specified.\n",
       "[2] The condition number is large, 2.26e+09. This might indicate that there are\n",
       "strong multicollinearity or other numerical problems.\n",
       "\"\"\""
      ]
     },
     "execution_count": 176,
     "metadata": {},
     "output_type": "execute_result"
    }
   ],
   "source": [
    "#third model\n",
    "x_3 = X1[:,[1,2,3,5,6,7]]\n",
    "reg_3 = sm.OLS(y,x_3).fit()\n",
    "reg_3.summary()"
   ]
  },
  {
   "cell_type": "code",
   "execution_count": 33,
   "metadata": {},
   "outputs": [
    {
     "data": {
      "text/html": [
       "<table class=\"simpletable\">\n",
       "<caption>OLS Regression Results</caption>\n",
       "<tr>\n",
       "  <th>Dep. Variable:</th>            <td>y</td>        <th>  R-squared:         </th> <td>   0.879</td>\n",
       "</tr>\n",
       "<tr>\n",
       "  <th>Model:</th>                   <td>OLS</td>       <th>  Adj. R-squared:    </th> <td>   0.873</td>\n",
       "</tr>\n",
       "<tr>\n",
       "  <th>Method:</th>             <td>Least Squares</td>  <th>  F-statistic:       </th> <td>   145.9</td>\n",
       "</tr>\n",
       "<tr>\n",
       "  <th>Date:</th>             <td>Fri, 21 Sep 2018</td> <th>  Prob (F-statistic):</th> <td>2.63e-44</td>\n",
       "</tr>\n",
       "<tr>\n",
       "  <th>Time:</th>                 <td>09:10:08</td>     <th>  Log-Likelihood:    </th> <td> -429.37</td>\n",
       "</tr>\n",
       "<tr>\n",
       "  <th>No. Observations:</th>      <td>   105</td>      <th>  AIC:               </th> <td>   868.7</td>\n",
       "</tr>\n",
       "<tr>\n",
       "  <th>Df Residuals:</th>          <td>   100</td>      <th>  BIC:               </th> <td>   882.0</td>\n",
       "</tr>\n",
       "<tr>\n",
       "  <th>Df Model:</th>              <td>     5</td>      <th>                     </th>     <td> </td>   \n",
       "</tr>\n",
       "<tr>\n",
       "  <th>Covariance Type:</th>      <td>nonrobust</td>    <th>                     </th>     <td> </td>   \n",
       "</tr>\n",
       "</table>\n",
       "<table class=\"simpletable\">\n",
       "<tr>\n",
       "   <td></td>     <th>coef</th>     <th>std err</th>      <th>t</th>      <th>P>|t|</th>  <th>[0.025</th>    <th>0.975]</th>  \n",
       "</tr>\n",
       "<tr>\n",
       "  <th>x1</th> <td> 3.662e-06</td> <td> 5.69e-07</td> <td>    6.433</td> <td> 0.000</td> <td> 2.53e-06</td> <td> 4.79e-06</td>\n",
       "</tr>\n",
       "<tr>\n",
       "  <th>x2</th> <td>-1.438e-07</td> <td> 2.31e-08</td> <td>   -6.223</td> <td> 0.000</td> <td> -1.9e-07</td> <td>-9.79e-08</td>\n",
       "</tr>\n",
       "<tr>\n",
       "  <th>x3</th> <td>  -19.5767</td> <td>    7.185</td> <td>   -2.725</td> <td> 0.008</td> <td>  -33.831</td> <td>   -5.323</td>\n",
       "</tr>\n",
       "<tr>\n",
       "  <th>x4</th> <td> 3.116e-07</td> <td>  4.8e-08</td> <td>    6.491</td> <td> 0.000</td> <td> 2.16e-07</td> <td> 4.07e-07</td>\n",
       "</tr>\n",
       "<tr>\n",
       "  <th>x5</th> <td>    0.0501</td> <td>    0.010</td> <td>    4.883</td> <td> 0.000</td> <td>    0.030</td> <td>    0.070</td>\n",
       "</tr>\n",
       "</table>\n",
       "<table class=\"simpletable\">\n",
       "<tr>\n",
       "  <th>Omnibus:</th>       <td>40.730</td> <th>  Durbin-Watson:     </th> <td>   1.800</td>\n",
       "</tr>\n",
       "<tr>\n",
       "  <th>Prob(Omnibus):</th> <td> 0.000</td> <th>  Jarque-Bera (JB):  </th> <td> 112.745</td>\n",
       "</tr>\n",
       "<tr>\n",
       "  <th>Skew:</th>          <td> 1.389</td> <th>  Prob(JB):          </th> <td>3.29e-25</td>\n",
       "</tr>\n",
       "<tr>\n",
       "  <th>Kurtosis:</th>      <td> 7.249</td> <th>  Cond. No.          </th> <td>2.25e+09</td>\n",
       "</tr>\n",
       "</table>"
      ],
      "text/plain": [
       "<class 'statsmodels.iolib.summary.Summary'>\n",
       "\"\"\"\n",
       "                            OLS Regression Results                            \n",
       "==============================================================================\n",
       "Dep. Variable:                      y   R-squared:                       0.879\n",
       "Model:                            OLS   Adj. R-squared:                  0.873\n",
       "Method:                 Least Squares   F-statistic:                     145.9\n",
       "Date:                Fri, 21 Sep 2018   Prob (F-statistic):           2.63e-44\n",
       "Time:                        09:10:08   Log-Likelihood:                -429.37\n",
       "No. Observations:                 105   AIC:                             868.7\n",
       "Df Residuals:                     100   BIC:                             882.0\n",
       "Df Model:                           5                                         \n",
       "Covariance Type:            nonrobust                                         \n",
       "==============================================================================\n",
       "                 coef    std err          t      P>|t|      [0.025      0.975]\n",
       "------------------------------------------------------------------------------\n",
       "x1          3.662e-06   5.69e-07      6.433      0.000    2.53e-06    4.79e-06\n",
       "x2         -1.438e-07   2.31e-08     -6.223      0.000    -1.9e-07   -9.79e-08\n",
       "x3           -19.5767      7.185     -2.725      0.008     -33.831      -5.323\n",
       "x4          3.116e-07    4.8e-08      6.491      0.000    2.16e-07    4.07e-07\n",
       "x5             0.0501      0.010      4.883      0.000       0.030       0.070\n",
       "==============================================================================\n",
       "Omnibus:                       40.730   Durbin-Watson:                   1.800\n",
       "Prob(Omnibus):                  0.000   Jarque-Bera (JB):              112.745\n",
       "Skew:                           1.389   Prob(JB):                     3.29e-25\n",
       "Kurtosis:                       7.249   Cond. No.                     2.25e+09\n",
       "==============================================================================\n",
       "\n",
       "Warnings:\n",
       "[1] Standard Errors assume that the covariance matrix of the errors is correctly specified.\n",
       "[2] The condition number is large, 2.25e+09. This might indicate that there are\n",
       "strong multicollinearity or other numerical problems.\n",
       "\"\"\""
      ]
     },
     "execution_count": 33,
     "metadata": {},
     "output_type": "execute_result"
    }
   ],
   "source": [
    "#fourth model\n",
    "x_4 = X1[:,[1,3,5,6,7]]\n",
    "reg_4 = sm.OLS(y,x_4).fit()\n",
    "reg_4.summary()"
   ]
  },
  {
   "cell_type": "code",
   "execution_count": null,
   "metadata": {},
   "outputs": [],
   "source": []
  },
  {
   "cell_type": "code",
   "execution_count": 34,
   "metadata": {},
   "outputs": [],
   "source": [
    "###splitting the data into trian and test set.\n",
    "from sklearn.cross_validation import train_test_split\n",
    "from sklearn import model_selection\n"
   ]
  },
  {
   "cell_type": "code",
   "execution_count": 35,
   "metadata": {},
   "outputs": [],
   "source": [
    "x = df_new[['no_of_internet_users','population','gdp_nominal - US$MM','host_n','Gender gap index']].values\n",
    "y = df_new.iloc[:,-1].values"
   ]
  },
  {
   "cell_type": "code",
   "execution_count": 36,
   "metadata": {},
   "outputs": [],
   "source": [
    "X_train,X_test,y_train,y_test = train_test_split(x,y,test_size = 0.2, random_state = 0)"
   ]
  },
  {
   "cell_type": "code",
   "execution_count": 37,
   "metadata": {},
   "outputs": [],
   "source": [
    "import statsmodels.api as sm\n",
    "\n"
   ]
  },
  {
   "cell_type": "code",
   "execution_count": 38,
   "metadata": {},
   "outputs": [
    {
     "data": {
      "text/plain": [
       "(21, 5)"
      ]
     },
     "execution_count": 38,
     "metadata": {},
     "output_type": "execute_result"
    }
   ],
   "source": [
    "X_test.shape"
   ]
  },
  {
   "cell_type": "code",
   "execution_count": 39,
   "metadata": {},
   "outputs": [
    {
     "data": {
      "text/html": [
       "<table class=\"simpletable\">\n",
       "<caption>OLS Regression Results</caption>\n",
       "<tr>\n",
       "  <th>Dep. Variable:</th>            <td>y</td>        <th>  R-squared:         </th> <td>   0.902</td>\n",
       "</tr>\n",
       "<tr>\n",
       "  <th>Model:</th>                   <td>OLS</td>       <th>  Adj. R-squared:    </th> <td>   0.895</td>\n",
       "</tr>\n",
       "<tr>\n",
       "  <th>Method:</th>             <td>Least Squares</td>  <th>  F-statistic:       </th> <td>   144.8</td>\n",
       "</tr>\n",
       "<tr>\n",
       "  <th>Date:</th>             <td>Fri, 21 Sep 2018</td> <th>  Prob (F-statistic):</th> <td>2.76e-38</td>\n",
       "</tr>\n",
       "<tr>\n",
       "  <th>Time:</th>                 <td>09:10:18</td>     <th>  Log-Likelihood:    </th> <td> -334.51</td>\n",
       "</tr>\n",
       "<tr>\n",
       "  <th>No. Observations:</th>      <td>    84</td>      <th>  AIC:               </th> <td>   679.0</td>\n",
       "</tr>\n",
       "<tr>\n",
       "  <th>Df Residuals:</th>          <td>    79</td>      <th>  BIC:               </th> <td>   691.2</td>\n",
       "</tr>\n",
       "<tr>\n",
       "  <th>Df Model:</th>              <td>     5</td>      <th>                     </th>     <td> </td>   \n",
       "</tr>\n",
       "<tr>\n",
       "  <th>Covariance Type:</th>      <td>nonrobust</td>    <th>                     </th>     <td> </td>   \n",
       "</tr>\n",
       "</table>\n",
       "<table class=\"simpletable\">\n",
       "<tr>\n",
       "   <td></td>     <th>coef</th>     <th>std err</th>      <th>t</th>      <th>P>|t|</th>  <th>[0.025</th>    <th>0.975]</th>  \n",
       "</tr>\n",
       "<tr>\n",
       "  <th>x1</th> <td> 2.831e-07</td> <td> 4.57e-08</td> <td>    6.195</td> <td> 0.000</td> <td> 1.92e-07</td> <td> 3.74e-07</td>\n",
       "</tr>\n",
       "<tr>\n",
       "  <th>x2</th> <td>-1.289e-07</td> <td> 2.24e-08</td> <td>   -5.759</td> <td> 0.000</td> <td>-1.73e-07</td> <td>-8.44e-08</td>\n",
       "</tr>\n",
       "<tr>\n",
       "  <th>x3</th> <td> 4.083e-06</td> <td> 5.31e-07</td> <td>    7.687</td> <td> 0.000</td> <td> 3.03e-06</td> <td> 5.14e-06</td>\n",
       "</tr>\n",
       "<tr>\n",
       "  <th>x4</th> <td>  -18.3448</td> <td>    7.556</td> <td>   -2.428</td> <td> 0.017</td> <td>  -33.385</td> <td>   -3.304</td>\n",
       "</tr>\n",
       "<tr>\n",
       "  <th>x5</th> <td>    0.0466</td> <td>    0.011</td> <td>    4.304</td> <td> 0.000</td> <td>    0.025</td> <td>    0.068</td>\n",
       "</tr>\n",
       "</table>\n",
       "<table class=\"simpletable\">\n",
       "<tr>\n",
       "  <th>Omnibus:</th>       <td>35.911</td> <th>  Durbin-Watson:     </th> <td>   2.037</td>\n",
       "</tr>\n",
       "<tr>\n",
       "  <th>Prob(Omnibus):</th> <td> 0.000</td> <th>  Jarque-Bera (JB):  </th> <td> 125.244</td>\n",
       "</tr>\n",
       "<tr>\n",
       "  <th>Skew:</th>          <td> 1.294</td> <th>  Prob(JB):          </th> <td>6.36e-28</td>\n",
       "</tr>\n",
       "<tr>\n",
       "  <th>Kurtosis:</th>      <td> 8.393</td> <th>  Cond. No.          </th> <td>2.33e+09</td>\n",
       "</tr>\n",
       "</table>"
      ],
      "text/plain": [
       "<class 'statsmodels.iolib.summary.Summary'>\n",
       "\"\"\"\n",
       "                            OLS Regression Results                            \n",
       "==============================================================================\n",
       "Dep. Variable:                      y   R-squared:                       0.902\n",
       "Model:                            OLS   Adj. R-squared:                  0.895\n",
       "Method:                 Least Squares   F-statistic:                     144.8\n",
       "Date:                Fri, 21 Sep 2018   Prob (F-statistic):           2.76e-38\n",
       "Time:                        09:10:18   Log-Likelihood:                -334.51\n",
       "No. Observations:                  84   AIC:                             679.0\n",
       "Df Residuals:                      79   BIC:                             691.2\n",
       "Df Model:                           5                                         \n",
       "Covariance Type:            nonrobust                                         \n",
       "==============================================================================\n",
       "                 coef    std err          t      P>|t|      [0.025      0.975]\n",
       "------------------------------------------------------------------------------\n",
       "x1          2.831e-07   4.57e-08      6.195      0.000    1.92e-07    3.74e-07\n",
       "x2         -1.289e-07   2.24e-08     -5.759      0.000   -1.73e-07   -8.44e-08\n",
       "x3          4.083e-06   5.31e-07      7.687      0.000    3.03e-06    5.14e-06\n",
       "x4           -18.3448      7.556     -2.428      0.017     -33.385      -3.304\n",
       "x5             0.0466      0.011      4.304      0.000       0.025       0.068\n",
       "==============================================================================\n",
       "Omnibus:                       35.911   Durbin-Watson:                   2.037\n",
       "Prob(Omnibus):                  0.000   Jarque-Bera (JB):              125.244\n",
       "Skew:                           1.294   Prob(JB):                     6.36e-28\n",
       "Kurtosis:                       8.393   Cond. No.                     2.33e+09\n",
       "==============================================================================\n",
       "\n",
       "Warnings:\n",
       "[1] Standard Errors assume that the covariance matrix of the errors is correctly specified.\n",
       "[2] The condition number is large, 2.33e+09. This might indicate that there are\n",
       "strong multicollinearity or other numerical problems.\n",
       "\"\"\""
      ]
     },
     "execution_count": 39,
     "metadata": {},
     "output_type": "execute_result"
    }
   ],
   "source": [
    "result = sm.OLS(y_train,X_train).fit()\n",
    "result.summary()"
   ]
  },
  {
   "cell_type": "code",
   "execution_count": 40,
   "metadata": {},
   "outputs": [],
   "source": [
    "y_pred = result.predict(X_test)"
   ]
  },
  {
   "cell_type": "code",
   "execution_count": 41,
   "metadata": {},
   "outputs": [
    {
     "data": {
      "text/plain": [
       "array([54.3825552 , 26.15985638, 89.42443866,  3.01175423, 32.72323251,\n",
       "       35.5328921 , 14.81340424, 15.31756059, 10.91270297, 34.2149785 ,\n",
       "       28.33039958, 23.57358846, 22.96013182, 25.9987042 , 24.95688815,\n",
       "       25.0833043 , 54.98149972, 35.783604  , 33.41983138, 25.72105767,\n",
       "       37.56459858])"
      ]
     },
     "execution_count": 41,
     "metadata": {},
     "output_type": "execute_result"
    }
   ],
   "source": [
    "y_pred  ##predicted values"
   ]
  },
  {
   "cell_type": "code",
   "execution_count": 42,
   "metadata": {},
   "outputs": [
    {
     "data": {
      "text/plain": [
       "array([38, 20, 70,  3, 28, 35, 10,  2, 16, 60, 90, 11, 46, 17, 21, 35, 65,\n",
       "       70, 17, 28, 51], dtype=int64)"
      ]
     },
     "execution_count": 42,
     "metadata": {},
     "output_type": "execute_result"
    }
   ],
   "source": [
    "y_test"
   ]
  },
  {
   "cell_type": "code",
   "execution_count": 43,
   "metadata": {},
   "outputs": [
    {
     "data": {
      "image/png": "[encoded data removed]",
      "text/plain": [
       "<matplotlib.figure.Figure at 0x1562b3c8>"
      ]
     },
     "metadata": {},
     "output_type": "display_data"
    }
   ],
   "source": [
    "plt.scatter(result.predict(X_test),y_test)\n",
    "plt.show()"
   ]
  },
  {
   "cell_type": "code",
   "execution_count": 44,
   "metadata": {},
   "outputs": [
    {
     "data": {
      "text/plain": [
       "381.47615824201245"
      ]
     },
     "execution_count": 44,
     "metadata": {},
     "output_type": "execute_result"
    }
   ],
   "source": [
    "##mean square error\n",
    "np.mean((result.predict(X_test) - y_test)**2) "
   ]
  },
  {
   "cell_type": "code",
   "execution_count": 45,
   "metadata": {},
   "outputs": [
    {
     "data": {
      "text/plain": [
       "<matplotlib.text.Text at 0x15712128>"
      ]
     },
     "execution_count": 45,
     "metadata": {},
     "output_type": "execute_result"
    },
    {
     "data": {
      "image/png": "[encoded data removed]",
      "text/plain": [
       "<matplotlib.figure.Figure at 0x156b14a8>"
      ]
     },
     "metadata": {},
     "output_type": "display_data"
    }
   ],
   "source": [
    "###uthaya\n",
    "fig, axes = plt.subplots(1, 2, sharex=False, sharey=False)\n",
    "fig.suptitle('[Residual Plots]')\n",
    "fig.set_size_inches(12,5)\n",
    "axes[0].plot(result.predict(X_test), y_test -result.predict(X_test), 'bo')\n",
    "axes[0].axhline(y=0, color='k')\n",
    "axes[0].grid()\n",
    "axes[0].set_title('Linear')\n",
    "axes[0].set_xlabel('predicted values')\n",
    "axes[0].set_ylabel('residuals')\n",
    "\n"
   ]
  },
  {
   "cell_type": "code",
   "execution_count": 46,
   "metadata": {},
   "outputs": [
    {
     "data": {
      "text/plain": [
       "<matplotlib.text.Text at 0x1598e240>"
      ]
     },
     "execution_count": 46,
     "metadata": {},
     "output_type": "execute_result"
    },
    {
     "data": {
      "image/png": "[encoded data removed]",
      "text/plain": [
       "<matplotlib.figure.Figure at 0x1564b9b0>"
      ]
     },
     "metadata": {},
     "output_type": "display_data"
    }
   ],
   "source": [
    "###uthaya\n",
    "import seaborn as sns\n",
    "\n",
    "residuals_linear = y_test - result.predict(X_test)\n",
    "\n",
    "sns.distplot(residuals_linear);\n",
    "plt.title('Linear')"
   ]
  },
  {
   "cell_type": "code",
   "execution_count": 49,
   "metadata": {},
   "outputs": [
    {
     "data": {
      "text/plain": [
       "NormaltestResult(statistic=11.223874504946895, pvalue=0.003653983807528081)"
      ]
     },
     "execution_count": 49,
     "metadata": {},
     "output_type": "execute_result"
    }
   ],
   "source": [
    "from scipy.stats import normaltest\n",
    "normaltest(residuals_linear)"
   ]
  },
  {
   "cell_type": "code",
   "execution_count": 55,
   "metadata": {},
   "outputs": [
    {
     "data": {
      "text/plain": [
       "19.53141465030151"
      ]
     },
     "execution_count": 55,
     "metadata": {},
     "output_type": "execute_result"
    }
   ],
   "source": [
    "from math import sqrt\n",
    "rmse_ols = sqrt(mean_squared_error(y_test, y_pred))\n",
    "rmse_ols"
   ]
  },
  {
   "cell_type": "code",
   "execution_count": 51,
   "metadata": {},
   "outputs": [],
   "source": [
    "from sklearn.metrics import mean_absolute_error"
   ]
  },
  {
   "cell_type": "code",
   "execution_count": 52,
   "metadata": {},
   "outputs": [
    {
     "data": {
      "text/plain": [
       "13.941068045554646"
      ]
     },
     "execution_count": 52,
     "metadata": {},
     "output_type": "execute_result"
    }
   ],
   "source": [
    "mean_absolute_error(y_test, y_pred)"
   ]
  },
  {
   "cell_type": "code",
   "execution_count": 53,
   "metadata": {},
   "outputs": [],
   "source": [
    "from sklearn.metrics import mean_squared_error"
   ]
  },
  {
   "cell_type": "code",
   "execution_count": 54,
   "metadata": {},
   "outputs": [
    {
     "data": {
      "text/plain": [
       "381.47615824201245"
      ]
     },
     "execution_count": 54,
     "metadata": {},
     "output_type": "execute_result"
    }
   ],
   "source": [
    "mean_squared_error(y_test, y_pred)"
   ]
  },
  {
   "cell_type": "code",
   "execution_count": 56,
   "metadata": {},
   "outputs": [
    {
     "data": {
      "text/plain": [
       "19.53141465030151"
      ]
     },
     "execution_count": 56,
     "metadata": {},
     "output_type": "execute_result"
    }
   ],
   "source": [
    "from math import sqrt\n",
    "rms = sqrt(mean_squared_error(y_test, y_pred))\n",
    "rms"
   ]
  },
  {
   "cell_type": "code",
   "execution_count": 57,
   "metadata": {},
   "outputs": [
    {
     "data": {
      "text/plain": [
       "68.45777186436194"
      ]
     },
     "execution_count": 57,
     "metadata": {},
     "output_type": "execute_result"
    }
   ],
   "source": [
    "#MAPE\n",
    "y = np.mean(np.abs((y_test - y_pred) / y_test)) * 100\n",
    "y"
   ]
  },
  {
   "cell_type": "code",
   "execution_count": 58,
   "metadata": {},
   "outputs": [],
   "source": [
    "#uthaya\n",
    "# fit a model\n",
    "lm = linear_model.LinearRegression()\n",
    "model = lm.fit(X_train, y_train)\n",
    "predictions = lm.predict(X_test)"
   ]
  },
  {
   "cell_type": "code",
   "execution_count": 59,
   "metadata": {},
   "outputs": [
    {
     "data": {
      "text/plain": [
       "0.3439714524861489"
      ]
     },
     "execution_count": 59,
     "metadata": {},
     "output_type": "execute_result"
    }
   ],
   "source": [
    "model.score(X_test, y_test)"
   ]
  },
  {
   "cell_type": "code",
   "execution_count": 60,
   "metadata": {},
   "outputs": [
    {
     "data": {
      "text/plain": [
       "<matplotlib.text.Text at 0x158a27b8>"
      ]
     },
     "execution_count": 60,
     "metadata": {},
     "output_type": "execute_result"
    },
    {
     "data": {
      "image/png": "[encoded data removed]",
      "text/plain": [
       "<matplotlib.figure.Figure at 0x1592a550>"
      ]
     },
     "metadata": {},
     "output_type": "display_data"
    }
   ],
   "source": [
    "#utahaya\n",
    "plt.scatter(y_test, predictions)\n",
    "plt.xlabel(\"True Values\")\n",
    "plt.ylabel(\"Predictions\")"
   ]
  },
  {
   "cell_type": "code",
   "execution_count": 62,
   "metadata": {},
   "outputs": [
    {
     "name": "stdout",
     "output_type": "stream",
     "text": [
      "Statistics=0.849, p=0.000\n",
      "Sample does not look Gaussian (reject H0)\n"
     ]
    }
   ],
   "source": [
    "# Shapiro-Wilk Test\n",
    "from numpy.random import seed\n",
    "from numpy.random import randn\n",
    "from scipy.stats import shapiro\n",
    "# seed the random number generator\n",
    "seed(1)\n",
    "# normality test\n",
    "stat, p = shapiro(df['total_No_of_medals'])\n",
    "print('Statistics=%.3f, p=%.3f' % (stat, p))\n",
    "# interpret\n",
    "alpha = 0.05\n",
    "if p > alpha:\n",
    "    print('Sample looks Gaussian (fail to reject H0)')\n",
    "else:\n",
    "    print('Sample does not look Gaussian (reject H0)')\n"
   ]
  },
  {
   "cell_type": "code",
   "execution_count": 63,
   "metadata": {},
   "outputs": [
    {
     "data": {
      "text/plain": [
       "array([[1.17528631e+08, 1.26434653e+08, 6.20321300e+06, 1.00000000e+00,\n",
       "        6.53000000e+02],\n",
       "       [3.26027760e+07, 3.33279540e+07, 1.54907300e+06, 1.00000000e+00,\n",
       "        7.13600000e+02],\n",
       "       [7.46662194e+08, 1.40350036e+09, 1.12182810e+07, 1.00000000e+00,\n",
       "        6.76000000e+02],\n",
       "       [5.00292635e+08, 1.19086368e+09, 1.22409600e+06, 1.00000000e+00,\n",
       "        6.06000000e+02],\n",
       "       [6.23544100e+07, 5.88741170e+07, 1.63870200e+06, 1.00000000e+00,\n",
       "        7.36500000e+02],\n",
       "       [5.54138540e+07, 6.20984130e+07, 2.93732100e+06, 1.00000000e+00,\n",
       "        7.34100000e+02],\n",
       "       [3.06304400e+06, 4.21326500e+06, 5.45160000e+04, 1.00000000e+00,\n",
       "        7.00000000e+02],\n",
       "       [3.06304400e+06, 4.50553300e+06, 2.17740000e+04, 1.00000000e+00,\n",
       "        7.14500000e+02],\n",
       "       [1.26000070e+07, 3.84554180e+07, 3.58950000e+04, 1.00000000e+00,\n",
       "        6.54700000e+02],\n",
       "       [1.10003284e+08, 1.43163100e+08, 1.78451400e+06, 1.00000000e+00,\n",
       "        6.99400000e+02],\n",
       "       [1.10003284e+08, 1.44306982e+08, 6.34999000e+05, 1.00000000e+00,\n",
       "        6.77000000e+02],\n",
       "       [3.73376070e+07, 4.02884570e+07, 5.97149000e+05, 1.00000000e+00,\n",
       "        7.32000000e+02],\n",
       "       [2.12886480e+07, 2.15138170e+07, 1.05717100e+06, 1.00000000e+00,\n",
       "        7.24100000e+02],\n",
       "       [3.73376070e+07, 4.63475760e+07, 1.31395100e+06, 1.00000000e+00,\n",
       "        7.38000000e+02],\n",
       "       [4.70942670e+07, 5.07919190e+07, 1.53803000e+06, 1.00000000e+00,\n",
       "        6.49000000e+02],\n",
       "       [2.12886480e+07, 2.29186880e+07, 1.56105200e+06, 1.00000000e+00,\n",
       "        7.29400000e+02],\n",
       "       [6.23544100e+07, 6.31774060e+07, 2.65545800e+06, 0.00000000e+00,\n",
       "        7.43300000e+02],\n",
       "       [1.10003284e+08, 1.42703181e+08, 2.17014500e+06, 1.00000000e+00,\n",
       "        6.98000000e+02],\n",
       "       [1.23927230e+08, 1.98360943e+08, 2.46405300e+06, 1.00000000e+00,\n",
       "        6.90900000e+02],\n",
       "       [3.64424380e+07, 5.94299380e+07, 1.93789400e+06, 1.00000000e+00,\n",
       "        7.19000000e+02],\n",
       "       [6.23544100e+07, 6.12703180e+07, 2.89894100e+06, 1.00000000e+00,\n",
       "        7.36600000e+02]])"
      ]
     },
     "execution_count": 63,
     "metadata": {},
     "output_type": "execute_result"
    }
   ],
   "source": [
    "X_test"
   ]
  },
  {
   "cell_type": "code",
   "execution_count": 64,
   "metadata": {},
   "outputs": [
    {
     "data": {
      "text/plain": [
       "array([[<matplotlib.axes._subplots.AxesSubplot object at 0x000000001581EE80>,\n",
       "        <matplotlib.axes._subplots.AxesSubplot object at 0x00000000147E4278>,\n",
       "        <matplotlib.axes._subplots.AxesSubplot object at 0x00000000159A2C50>,\n",
       "        <matplotlib.axes._subplots.AxesSubplot object at 0x0000000014854898>],\n",
       "       [<matplotlib.axes._subplots.AxesSubplot object at 0x00000000156D0978>,\n",
       "        <matplotlib.axes._subplots.AxesSubplot object at 0x00000000156D0390>,\n",
       "        <matplotlib.axes._subplots.AxesSubplot object at 0x0000000015A1E710>,\n",
       "        <matplotlib.axes._subplots.AxesSubplot object at 0x0000000015A5B080>],\n",
       "       [<matplotlib.axes._subplots.AxesSubplot object at 0x0000000015AE0CC0>,\n",
       "        <matplotlib.axes._subplots.AxesSubplot object at 0x0000000015AF0EB8>,\n",
       "        <matplotlib.axes._subplots.AxesSubplot object at 0x0000000015BB3780>,\n",
       "        <matplotlib.axes._subplots.AxesSubplot object at 0x0000000015C114A8>],\n",
       "       [<matplotlib.axes._subplots.AxesSubplot object at 0x0000000015C80240>,\n",
       "        <matplotlib.axes._subplots.AxesSubplot object at 0x0000000015CDEB00>,\n",
       "        <matplotlib.axes._subplots.AxesSubplot object at 0x0000000015D55DD8>,\n",
       "        <matplotlib.axes._subplots.AxesSubplot object at 0x0000000015DBAD68>]],\n",
       "      dtype=object)"
      ]
     },
     "execution_count": 64,
     "metadata": {},
     "output_type": "execute_result"
    },
    {
     "data": {
      "image/png": "[encoded data removed]",
      "text/plain": [
       "<matplotlib.figure.Figure at 0x15870a90>"
      ]
     },
     "metadata": {},
     "output_type": "display_data"
    }
   ],
   "source": [
    "###feature scaling\n",
    "\n",
    "df_new[df_new.dtypes[(df.dtypes==\"float64\")|(df.dtypes==\"int64\")].index.values].hist(figsize=[12,12])"
   ]
  },
  {
   "cell_type": "code",
   "execution_count": null,
   "metadata": {},
   "outputs": [],
   "source": []
  },
  {
   "cell_type": "code",
   "execution_count": 67,
   "metadata": {},
   "outputs": [
    {
     "data": {
      "text/plain": [
       "<matplotlib.axes._subplots.AxesSubplot at 0x162525f8>"
      ]
     },
     "execution_count": 67,
     "metadata": {},
     "output_type": "execute_result"
    },
    {
     "data": {
      "image/png": "[encoded data removed]",
      "text/plain": [
       "<matplotlib.figure.Figure at 0x160e4f60>"
      ]
     },
     "metadata": {},
     "output_type": "display_data"
    }
   ],
   "source": [
    "df_new['log_transformed_gold'] = (df['GOLD']+1).apply(np.log)  # Get the log of the data\n",
    "df_new['log_transformed_gold'].hist(figsize = (6,6),bins=40)"
   ]
  },
  {
   "cell_type": "code",
   "execution_count": 69,
   "metadata": {},
   "outputs": [
    {
     "data": {
      "text/plain": [
       "<matplotlib.axes._subplots.AxesSubplot at 0x1583dac8>"
      ]
     },
     "execution_count": 69,
     "metadata": {},
     "output_type": "execute_result"
    },
    {
     "data": {
      "image/png": "[encoded data removed]",
      "text/plain": [
       "<matplotlib.figure.Figure at 0x16736e80>"
      ]
     },
     "metadata": {},
     "output_type": "display_data"
    }
   ],
   "source": [
    "df_new['log_transformed_silver'] = (df['SILVER']+1).apply(np.log)  # Get the log of the data\n",
    "df_new['log_transformed_silver'].hist(figsize = (6,6),bins=40)"
   ]
  },
  {
   "cell_type": "code",
   "execution_count": 70,
   "metadata": {},
   "outputs": [
    {
     "data": {
      "text/plain": [
       "<matplotlib.axes._subplots.AxesSubplot at 0x179243c8>"
      ]
     },
     "execution_count": 70,
     "metadata": {},
     "output_type": "execute_result"
    },
    {
     "data": {
      "image/png": "[encoded data removed]",
      "text/plain": [
       "<matplotlib.figure.Figure at 0x1791d198>"
      ]
     },
     "metadata": {},
     "output_type": "display_data"
    }
   ],
   "source": [
    "df_new['log_transformed_bronze'] = (df['BRONZE']+1).apply(np.log)  # Get the log of the data\n",
    "df_new['log_transformed_bronze'].hist(figsize = (6,6),bins=40)"
   ]
  },
  {
   "cell_type": "code",
   "execution_count": 71,
   "metadata": {},
   "outputs": [
    {
     "data": {
      "text/plain": [
       "<matplotlib.axes._subplots.AxesSubplot at 0x177c8c88>"
      ]
     },
     "execution_count": 71,
     "metadata": {},
     "output_type": "execute_result"
    },
    {
     "data": {
      "image/png": "[encoded data removed]",
      "text/plain": [
       "<matplotlib.figure.Figure at 0x17979630>"
      ]
     },
     "metadata": {},
     "output_type": "display_data"
    }
   ],
   "source": [
    "df_new['log_transformed_total'] = (df['total_No_of_medals']+1).apply(np.log)  # Get the log of the data\n",
    "df_new['log_transformed_total'].hist(figsize = (6,6),bins=40)"
   ]
  },
  {
   "cell_type": "code",
   "execution_count": 73,
   "metadata": {},
   "outputs": [
    {
     "data": {
      "text/plain": [
       "<matplotlib.axes._subplots.AxesSubplot at 0x17d1b6d8>"
      ]
     },
     "execution_count": 73,
     "metadata": {},
     "output_type": "execute_result"
    },
    {
     "data": {
      "image/png": "[encoded data removed]",
      "text/plain": [
       "<matplotlib.figure.Figure at 0x17d41278>"
      ]
     },
     "metadata": {},
     "output_type": "display_data"
    }
   ],
   "source": [
    "df_new['log_transformed_gdp_cap'] = (df['gdp_per capita (usd)']+1).apply(np.log)  # Get the log of the data\n",
    "df_new['log_transformed_gdp_cap'].hist(figsize = (6,6),bins=40)"
   ]
  },
  {
   "cell_type": "code",
   "execution_count": 74,
   "metadata": {},
   "outputs": [
    {
     "data": {
      "text/plain": [
       "<matplotlib.axes._subplots.AxesSubplot at 0x17e77a20>"
      ]
     },
     "execution_count": 74,
     "metadata": {},
     "output_type": "execute_result"
    },
    {
     "data": {
      "image/png": "[encoded data removed]",
      "text/plain": [
       "<matplotlib.figure.Figure at 0x17e8d160>"
      ]
     },
     "metadata": {},
     "output_type": "display_data"
    }
   ],
   "source": [
    "df_new['log_transformed_pop'] = (df['population']+1).apply(np.log)  # Get the log of the data\n",
    "df_new['log_transformed_pop'].hist(figsize = (6,6),bins=20)"
   ]
  },
  {
   "cell_type": "code",
   "execution_count": 75,
   "metadata": {},
   "outputs": [
    {
     "data": {
      "text/plain": [
       "<matplotlib.axes._subplots.AxesSubplot at 0x17e8d9e8>"
      ]
     },
     "execution_count": 75,
     "metadata": {},
     "output_type": "execute_result"
    },
    {
     "data": {
      "image/png": "[encoded data removed]",
      "text/plain": [
       "<matplotlib.figure.Figure at 0x17f9fc88>"
      ]
     },
     "metadata": {},
     "output_type": "display_data"
    }
   ],
   "source": [
    "df_new['log_transformed_int'] = (df['no_of_internet_users']+1).apply(np.log)  # Get the log of the data\n",
    "df_new['log_transformed_int'].hist(figsize = (6,6),bins=20)"
   ]
  },
  {
   "cell_type": "code",
   "execution_count": 76,
   "metadata": {},
   "outputs": [
    {
     "data": {
      "text/plain": [
       "<matplotlib.axes._subplots.AxesSubplot at 0x180970f0>"
      ]
     },
     "execution_count": 76,
     "metadata": {},
     "output_type": "execute_result"
    },
    {
     "data": {
      "image/png": "[encoded data removed]",
      "text/plain": [
       "<matplotlib.figure.Figure at 0x180ca940>"
      ]
     },
     "metadata": {},
     "output_type": "display_data"
    }
   ],
   "source": [
    "df_new['log_transformed_gg'] = (df['Gender gap index']+1).apply(np.log)  # Get the log of the data\n",
    "df_new['log_transformed_gg'].hist(figsize = (6,6),bins=20)"
   ]
  },
  {
   "cell_type": "code",
   "execution_count": 77,
   "metadata": {},
   "outputs": [
    {
     "data": {
      "text/plain": [
       "<matplotlib.axes._subplots.AxesSubplot at 0x1815ff60>"
      ]
     },
     "execution_count": 77,
     "metadata": {},
     "output_type": "execute_result"
    },
    {
     "data": {
      "image/png": "[encoded data removed]",
      "text/plain": [
       "<matplotlib.figure.Figure at 0x180cae48>"
      ]
     },
     "metadata": {},
     "output_type": "display_data"
    }
   ],
   "source": [
    "df_new['log_transformed_gdp_n'] = (df['gdp_nominal - US$MM']+1).apply(np.log)  # Get the log of the data\n",
    "df_new['log_transformed_gdp_n'].hist(figsize = (6,6),bins=20)"
   ]
  },
  {
   "cell_type": "code",
   "execution_count": 78,
   "metadata": {},
   "outputs": [],
   "source": [
    "x = df_new[['log_transformed_int','log_transformed_pop','log_transformed_gdp_n','host_n','log_transformed_gg']].values\n",
    "y = df_new.iloc[:,-1].values"
   ]
  },
  {
   "cell_type": "code",
   "execution_count": 79,
   "metadata": {},
   "outputs": [
    {
     "data": {
      "text/plain": [
       "Index(['country', 'year', 'gdp_nominal - US$MM', 'gdp_per capita (usd)',\n",
       "       'population', 'host_y', 'host_n', 'Index of Economic Freedom',\n",
       "       'no_of_internet_users', 'Gender gap index', 'Olympics', 'GOLD',\n",
       "       'SILVER', 'BRONZE', 'total_No_of_medals', 'log_transformed_gold',\n",
       "       'log_transformed_silver', 'log_transformed_bronze',\n",
       "       'log_transformed_total', 'log_transformed_gdp_cap',\n",
       "       'log_transformed_pop', 'log_transformed_int', 'log_transformed_gg',\n",
       "       'log_transformed_gdp_n'],\n",
       "      dtype='object')"
      ]
     },
     "execution_count": 79,
     "metadata": {},
     "output_type": "execute_result"
    }
   ],
   "source": [
    "df_new.columns"
   ]
  },
  {
   "cell_type": "code",
   "execution_count": 80,
   "metadata": {},
   "outputs": [],
   "source": [
    "X_train_new,X_test_new,y_train_new,y_test_new = train_test_split(x,y,test_size = 0.2, random_state = 0)"
   ]
  },
  {
   "cell_type": "code",
   "execution_count": 81,
   "metadata": {},
   "outputs": [],
   "source": [
    "import statsmodels.api as sm\n",
    "X_train_new = sm.add_constant(X_train_new) \n"
   ]
  },
  {
   "cell_type": "code",
   "execution_count": 87,
   "metadata": {},
   "outputs": [
    {
     "data": {
      "text/plain": [
       "<bound method Series.sort_values of Index of Economic Freedom    42\n",
       "log_transformed_gdp_cap       1\n",
       "dtype: int64>"
      ]
     },
     "execution_count": 87,
     "metadata": {},
     "output_type": "execute_result"
    }
   ],
   "source": [
    "null_counts = df_new.isnull().sum()\n",
    "null_counts[null_counts > 0].sort_values"
   ]
  },
  {
   "cell_type": "code",
   "execution_count": 88,
   "metadata": {},
   "outputs": [],
   "source": [
    "#Treating Missing Values\n",
    "df_new['log_transformed_gdp_n'].fillna(df_new['log_transformed_gdp_n'].median(), inplace=True)"
   ]
  },
  {
   "cell_type": "code",
   "execution_count": 89,
   "metadata": {},
   "outputs": [],
   "source": [
    "X_test_new = sm.add_constant(X_test_new) "
   ]
  },
  {
   "cell_type": "code",
   "execution_count": 90,
   "metadata": {},
   "outputs": [
    {
     "data": {
      "text/plain": [
       "(21, 6)"
      ]
     },
     "execution_count": 90,
     "metadata": {},
     "output_type": "execute_result"
    }
   ],
   "source": [
    "X_test_new.shape"
   ]
  },
  {
   "cell_type": "code",
   "execution_count": 91,
   "metadata": {},
   "outputs": [
    {
     "ename": "LinAlgError",
     "evalue": "SVD did not converge",
     "output_type": "error",
     "traceback": [
      "\u001b[1;31m---------------------------------------------------------------------------\u001b[0m",
      "\u001b[1;31mLinAlgError\u001b[0m                               Traceback (most recent call last)",
      "\u001b[1;32m<ipython-input-91-d65447fadd2b>\u001b[0m in \u001b[0;36m<module>\u001b[1;34m()\u001b[0m\n\u001b[1;32m----> 1\u001b[1;33m \u001b[0mresult\u001b[0m \u001b[1;33m=\u001b[0m \u001b[0msm\u001b[0m\u001b[1;33m.\u001b[0m\u001b[0mOLS\u001b[0m\u001b[1;33m(\u001b[0m\u001b[0my_train_new\u001b[0m\u001b[1;33m,\u001b[0m\u001b[0mX_train_new\u001b[0m\u001b[1;33m)\u001b[0m\u001b[1;33m.\u001b[0m\u001b[0mfit\u001b[0m\u001b[1;33m(\u001b[0m\u001b[1;33m)\u001b[0m\u001b[1;33m\u001b[0m\u001b[0m\n\u001b[0m\u001b[0;32m      2\u001b[0m \u001b[0mresult\u001b[0m\u001b[1;33m.\u001b[0m\u001b[0msummary\u001b[0m\u001b[1;33m(\u001b[0m\u001b[1;33m)\u001b[0m\u001b[1;33m\u001b[0m\u001b[0m\n",
      "\u001b[1;32mC:\\Users\\Vineet\\Anaconda3\\lib\\site-packages\\statsmodels\\regression\\linear_model.py\u001b[0m in \u001b[0;36mfit\u001b[1;34m(self, method, cov_type, cov_kwds, use_t, **kwargs)\u001b[0m\n\u001b[0;32m    188\u001b[0m                 (not hasattr(self, 'rank'))):\n\u001b[0;32m    189\u001b[0m \u001b[1;33m\u001b[0m\u001b[0m\n\u001b[1;32m--> 190\u001b[1;33m                 \u001b[0mself\u001b[0m\u001b[1;33m.\u001b[0m\u001b[0mpinv_wexog\u001b[0m\u001b[1;33m,\u001b[0m \u001b[0msingular_values\u001b[0m \u001b[1;33m=\u001b[0m \u001b[0mpinv_extended\u001b[0m\u001b[1;33m(\u001b[0m\u001b[0mself\u001b[0m\u001b[1;33m.\u001b[0m\u001b[0mwexog\u001b[0m\u001b[1;33m)\u001b[0m\u001b[1;33m\u001b[0m\u001b[0m\n\u001b[0m\u001b[0;32m    191\u001b[0m                 self.normalized_cov_params = np.dot(self.pinv_wexog,\n\u001b[0;32m    192\u001b[0m                                         np.transpose(self.pinv_wexog))\n",
      "\u001b[1;32mC:\\Users\\Vineet\\Anaconda3\\lib\\site-packages\\statsmodels\\tools\\tools.py\u001b[0m in \u001b[0;36mpinv_extended\u001b[1;34m(X, rcond)\u001b[0m\n\u001b[0;32m    340\u001b[0m     \u001b[0mX\u001b[0m \u001b[1;33m=\u001b[0m \u001b[0mnp\u001b[0m\u001b[1;33m.\u001b[0m\u001b[0masarray\u001b[0m\u001b[1;33m(\u001b[0m\u001b[0mX\u001b[0m\u001b[1;33m)\u001b[0m\u001b[1;33m\u001b[0m\u001b[0m\n\u001b[0;32m    341\u001b[0m     \u001b[0mX\u001b[0m \u001b[1;33m=\u001b[0m \u001b[0mX\u001b[0m\u001b[1;33m.\u001b[0m\u001b[0mconjugate\u001b[0m\u001b[1;33m(\u001b[0m\u001b[1;33m)\u001b[0m\u001b[1;33m\u001b[0m\u001b[0m\n\u001b[1;32m--> 342\u001b[1;33m     \u001b[0mu\u001b[0m\u001b[1;33m,\u001b[0m \u001b[0ms\u001b[0m\u001b[1;33m,\u001b[0m \u001b[0mvt\u001b[0m \u001b[1;33m=\u001b[0m \u001b[0mnp\u001b[0m\u001b[1;33m.\u001b[0m\u001b[0mlinalg\u001b[0m\u001b[1;33m.\u001b[0m\u001b[0msvd\u001b[0m\u001b[1;33m(\u001b[0m\u001b[0mX\u001b[0m\u001b[1;33m,\u001b[0m \u001b[1;36m0\u001b[0m\u001b[1;33m)\u001b[0m\u001b[1;33m\u001b[0m\u001b[0m\n\u001b[0m\u001b[0;32m    343\u001b[0m     \u001b[0ms_orig\u001b[0m \u001b[1;33m=\u001b[0m \u001b[0mnp\u001b[0m\u001b[1;33m.\u001b[0m\u001b[0mcopy\u001b[0m\u001b[1;33m(\u001b[0m\u001b[0ms\u001b[0m\u001b[1;33m)\u001b[0m\u001b[1;33m\u001b[0m\u001b[0m\n\u001b[0;32m    344\u001b[0m     \u001b[0mm\u001b[0m \u001b[1;33m=\u001b[0m \u001b[0mu\u001b[0m\u001b[1;33m.\u001b[0m\u001b[0mshape\u001b[0m\u001b[1;33m[\u001b[0m\u001b[1;36m0\u001b[0m\u001b[1;33m]\u001b[0m\u001b[1;33m\u001b[0m\u001b[0m\n",
      "\u001b[1;32mC:\\Users\\Vineet\\Anaconda3\\lib\\site-packages\\numpy\\linalg\\linalg.py\u001b[0m in \u001b[0;36msvd\u001b[1;34m(a, full_matrices, compute_uv)\u001b[0m\n\u001b[0;32m   1548\u001b[0m \u001b[1;33m\u001b[0m\u001b[0m\n\u001b[0;32m   1549\u001b[0m         \u001b[0msignature\u001b[0m \u001b[1;33m=\u001b[0m \u001b[1;34m'D->DdD'\u001b[0m \u001b[1;32mif\u001b[0m \u001b[0misComplexType\u001b[0m\u001b[1;33m(\u001b[0m\u001b[0mt\u001b[0m\u001b[1;33m)\u001b[0m \u001b[1;32melse\u001b[0m \u001b[1;34m'd->ddd'\u001b[0m\u001b[1;33m\u001b[0m\u001b[0m\n\u001b[1;32m-> 1550\u001b[1;33m         \u001b[0mu\u001b[0m\u001b[1;33m,\u001b[0m \u001b[0ms\u001b[0m\u001b[1;33m,\u001b[0m \u001b[0mvh\u001b[0m \u001b[1;33m=\u001b[0m \u001b[0mgufunc\u001b[0m\u001b[1;33m(\u001b[0m\u001b[0ma\u001b[0m\u001b[1;33m,\u001b[0m \u001b[0msignature\u001b[0m\u001b[1;33m=\u001b[0m\u001b[0msignature\u001b[0m\u001b[1;33m,\u001b[0m \u001b[0mextobj\u001b[0m\u001b[1;33m=\u001b[0m\u001b[0mextobj\u001b[0m\u001b[1;33m)\u001b[0m\u001b[1;33m\u001b[0m\u001b[0m\n\u001b[0m\u001b[0;32m   1551\u001b[0m         \u001b[0mu\u001b[0m \u001b[1;33m=\u001b[0m \u001b[0mu\u001b[0m\u001b[1;33m.\u001b[0m\u001b[0mastype\u001b[0m\u001b[1;33m(\u001b[0m\u001b[0mresult_t\u001b[0m\u001b[1;33m,\u001b[0m \u001b[0mcopy\u001b[0m\u001b[1;33m=\u001b[0m\u001b[1;32mFalse\u001b[0m\u001b[1;33m)\u001b[0m\u001b[1;33m\u001b[0m\u001b[0m\n\u001b[0;32m   1552\u001b[0m         \u001b[0ms\u001b[0m \u001b[1;33m=\u001b[0m \u001b[0ms\u001b[0m\u001b[1;33m.\u001b[0m\u001b[0mastype\u001b[0m\u001b[1;33m(\u001b[0m\u001b[0m_realType\u001b[0m\u001b[1;33m(\u001b[0m\u001b[0mresult_t\u001b[0m\u001b[1;33m)\u001b[0m\u001b[1;33m,\u001b[0m \u001b[0mcopy\u001b[0m\u001b[1;33m=\u001b[0m\u001b[1;32mFalse\u001b[0m\u001b[1;33m)\u001b[0m\u001b[1;33m\u001b[0m\u001b[0m\n",
      "\u001b[1;32mC:\\Users\\Vineet\\Anaconda3\\lib\\site-packages\\numpy\\linalg\\linalg.py\u001b[0m in \u001b[0;36m_raise_linalgerror_svd_nonconvergence\u001b[1;34m(err, flag)\u001b[0m\n\u001b[0;32m     96\u001b[0m \u001b[1;33m\u001b[0m\u001b[0m\n\u001b[0;32m     97\u001b[0m \u001b[1;32mdef\u001b[0m \u001b[0m_raise_linalgerror_svd_nonconvergence\u001b[0m\u001b[1;33m(\u001b[0m\u001b[0merr\u001b[0m\u001b[1;33m,\u001b[0m \u001b[0mflag\u001b[0m\u001b[1;33m)\u001b[0m\u001b[1;33m:\u001b[0m\u001b[1;33m\u001b[0m\u001b[0m\n\u001b[1;32m---> 98\u001b[1;33m     \u001b[1;32mraise\u001b[0m \u001b[0mLinAlgError\u001b[0m\u001b[1;33m(\u001b[0m\u001b[1;34m\"SVD did not converge\"\u001b[0m\u001b[1;33m)\u001b[0m\u001b[1;33m\u001b[0m\u001b[0m\n\u001b[0m\u001b[0;32m     99\u001b[0m \u001b[1;33m\u001b[0m\u001b[0m\n\u001b[0;32m    100\u001b[0m \u001b[1;32mdef\u001b[0m \u001b[0m_raise_linalgerror_lstsq\u001b[0m\u001b[1;33m(\u001b[0m\u001b[0merr\u001b[0m\u001b[1;33m,\u001b[0m \u001b[0mflag\u001b[0m\u001b[1;33m)\u001b[0m\u001b[1;33m:\u001b[0m\u001b[1;33m\u001b[0m\u001b[0m\n",
      "\u001b[1;31mLinAlgError\u001b[0m: SVD did not converge"
     ]
    }
   ],
   "source": [
    "result = sm.OLS(y_train_new,X_train_new).fit()\n",
    "result.summary()"
   ]
  },
  {
   "cell_type": "code",
   "execution_count": 92,
   "metadata": {},
   "outputs": [],
   "source": [
    "#uthaya\n",
    "#Importing MinMaxScaler and initializing it\n",
    "from sklearn.preprocessing import MinMaxScaler\n",
    "min_max=MinMaxScaler()\n",
    "#Scaling down both train and test data set\n",
    "X_train_minmax=min_max.fit_transform(X_train)\n",
    "X_test_minmax=min_max.fit_transform(X_test)"
   ]
  },
  {
   "cell_type": "code",
   "execution_count": 93,
   "metadata": {},
   "outputs": [
    {
     "data": {
      "text/html": [
       "<table class=\"simpletable\">\n",
       "<caption>OLS Regression Results</caption>\n",
       "<tr>\n",
       "  <th>Dep. Variable:</th>            <td>y</td>        <th>  R-squared:         </th> <td>   0.891</td>\n",
       "</tr>\n",
       "<tr>\n",
       "  <th>Model:</th>                   <td>OLS</td>       <th>  Adj. R-squared:    </th> <td>   0.884</td>\n",
       "</tr>\n",
       "<tr>\n",
       "  <th>Method:</th>             <td>Least Squares</td>  <th>  F-statistic:       </th> <td>   129.3</td>\n",
       "</tr>\n",
       "<tr>\n",
       "  <th>Date:</th>             <td>Fri, 21 Sep 2018</td> <th>  Prob (F-statistic):</th> <td>1.50e-36</td>\n",
       "</tr>\n",
       "<tr>\n",
       "  <th>Time:</th>                 <td>09:12:36</td>     <th>  Log-Likelihood:    </th> <td> -338.78</td>\n",
       "</tr>\n",
       "<tr>\n",
       "  <th>No. Observations:</th>      <td>    84</td>      <th>  AIC:               </th> <td>   687.6</td>\n",
       "</tr>\n",
       "<tr>\n",
       "  <th>Df Residuals:</th>          <td>    79</td>      <th>  BIC:               </th> <td>   699.7</td>\n",
       "</tr>\n",
       "<tr>\n",
       "  <th>Df Model:</th>              <td>     5</td>      <th>                     </th>     <td> </td>   \n",
       "</tr>\n",
       "<tr>\n",
       "  <th>Covariance Type:</th>      <td>nonrobust</td>    <th>                     </th>     <td> </td>   \n",
       "</tr>\n",
       "</table>\n",
       "<table class=\"simpletable\">\n",
       "<tr>\n",
       "   <td></td>     <th>coef</th>     <th>std err</th>      <th>t</th>      <th>P>|t|</th>  <th>[0.025</th>    <th>0.975]</th>  \n",
       "</tr>\n",
       "<tr>\n",
       "  <th>x1</th> <td>  231.5242</td> <td>   35.405</td> <td>    6.539</td> <td> 0.000</td> <td>  161.052</td> <td>  301.997</td>\n",
       "</tr>\n",
       "<tr>\n",
       "  <th>x2</th> <td> -184.6932</td> <td>   31.615</td> <td>   -5.842</td> <td> 0.000</td> <td> -247.620</td> <td> -121.766</td>\n",
       "</tr>\n",
       "<tr>\n",
       "  <th>x3</th> <td>   71.4638</td> <td>   10.504</td> <td>    6.803</td> <td> 0.000</td> <td>   50.555</td> <td>   92.372</td>\n",
       "</tr>\n",
       "<tr>\n",
       "  <th>x4</th> <td>    3.5481</td> <td>    3.739</td> <td>    0.949</td> <td> 0.346</td> <td>   -3.894</td> <td>   10.990</td>\n",
       "</tr>\n",
       "<tr>\n",
       "  <th>x5</th> <td>   18.6587</td> <td>    6.161</td> <td>    3.029</td> <td> 0.003</td> <td>    6.395</td> <td>   30.922</td>\n",
       "</tr>\n",
       "</table>\n",
       "<table class=\"simpletable\">\n",
       "<tr>\n",
       "  <th>Omnibus:</th>       <td>36.351</td> <th>  Durbin-Watson:     </th> <td>   1.877</td>\n",
       "</tr>\n",
       "<tr>\n",
       "  <th>Prob(Omnibus):</th> <td> 0.000</td> <th>  Jarque-Bera (JB):  </th> <td>  93.120</td>\n",
       "</tr>\n",
       "<tr>\n",
       "  <th>Skew:</th>          <td> 1.476</td> <th>  Prob(JB):          </th> <td>6.02e-21</td>\n",
       "</tr>\n",
       "<tr>\n",
       "  <th>Kurtosis:</th>      <td> 7.230</td> <th>  Cond. No.          </th> <td>    35.2</td>\n",
       "</tr>\n",
       "</table>"
      ],
      "text/plain": [
       "<class 'statsmodels.iolib.summary.Summary'>\n",
       "\"\"\"\n",
       "                            OLS Regression Results                            \n",
       "==============================================================================\n",
       "Dep. Variable:                      y   R-squared:                       0.891\n",
       "Model:                            OLS   Adj. R-squared:                  0.884\n",
       "Method:                 Least Squares   F-statistic:                     129.3\n",
       "Date:                Fri, 21 Sep 2018   Prob (F-statistic):           1.50e-36\n",
       "Time:                        09:12:36   Log-Likelihood:                -338.78\n",
       "No. Observations:                  84   AIC:                             687.6\n",
       "Df Residuals:                      79   BIC:                             699.7\n",
       "Df Model:                           5                                         \n",
       "Covariance Type:            nonrobust                                         \n",
       "==============================================================================\n",
       "                 coef    std err          t      P>|t|      [0.025      0.975]\n",
       "------------------------------------------------------------------------------\n",
       "x1           231.5242     35.405      6.539      0.000     161.052     301.997\n",
       "x2          -184.6932     31.615     -5.842      0.000    -247.620    -121.766\n",
       "x3            71.4638     10.504      6.803      0.000      50.555      92.372\n",
       "x4             3.5481      3.739      0.949      0.346      -3.894      10.990\n",
       "x5            18.6587      6.161      3.029      0.003       6.395      30.922\n",
       "==============================================================================\n",
       "Omnibus:                       36.351   Durbin-Watson:                   1.877\n",
       "Prob(Omnibus):                  0.000   Jarque-Bera (JB):               93.120\n",
       "Skew:                           1.476   Prob(JB):                     6.02e-21\n",
       "Kurtosis:                       7.230   Cond. No.                         35.2\n",
       "==============================================================================\n",
       "\n",
       "Warnings:\n",
       "[1] Standard Errors assume that the covariance matrix of the errors is correctly specified.\n",
       "\"\"\""
      ]
     },
     "execution_count": 93,
     "metadata": {},
     "output_type": "execute_result"
    }
   ],
   "source": [
    "result1 = sm.OLS(y_train,X_train_minmax).fit()\n",
    "result1.summary()"
   ]
  },
  {
   "cell_type": "code",
   "execution_count": 94,
   "metadata": {},
   "outputs": [],
   "source": [
    "y_pred1 = result1.predict(X_test_minmax)"
   ]
  },
  {
   "cell_type": "code",
   "execution_count": 95,
   "metadata": {},
   "outputs": [
    {
     "data": {
      "text/plain": [
       "array([ 68.89690857,  33.27338661, 131.35576916,   9.41062115,\n",
       "        42.84899832,  48.22496202,  16.53139027,  18.25433836,\n",
       "         8.70614381,  42.44828744,  31.91621679,  30.25355419,\n",
       "        29.59728253,  34.84431117,  26.63088696,  33.34822168,\n",
       "        46.14665073,  44.78009903,  42.68014288,  34.23923207,\n",
       "        50.59002344])"
      ]
     },
     "execution_count": 95,
     "metadata": {},
     "output_type": "execute_result"
    }
   ],
   "source": [
    "y_pred1"
   ]
  },
  {
   "cell_type": "code",
   "execution_count": 96,
   "metadata": {},
   "outputs": [
    {
     "data": {
      "text/plain": [
       "23.960615703982143"
      ]
     },
     "execution_count": 96,
     "metadata": {},
     "output_type": "execute_result"
    }
   ],
   "source": [
    "from math import sqrt\n",
    "rmse_ols = sqrt(mean_squared_error(y_test, y_pred1))\n",
    "rmse_ols"
   ]
  },
  {
   "cell_type": "code",
   "execution_count": 97,
   "metadata": {},
   "outputs": [
    {
     "data": {
      "text/plain": [
       "<matplotlib.axes._subplots.AxesSubplot at 0x182c7978>"
      ]
     },
     "execution_count": 97,
     "metadata": {},
     "output_type": "execute_result"
    },
    {
     "data": {
      "image/png": "[encoded data removed]",
      "text/plain": [
       "<matplotlib.figure.Figure at 0x182ace10>"
      ]
     },
     "metadata": {},
     "output_type": "display_data"
    }
   ],
   "source": [
    "##line plot\n",
    "sns.kdeplot(y_pred1, label = 'Predictions')\n",
    "sns.kdeplot(y_test,label = 'Vales')"
   ]
  },
  {
   "cell_type": "code",
   "execution_count": 98,
   "metadata": {},
   "outputs": [
    {
     "data": {
      "text/plain": [
       "GradientBoostingRegressor(alpha=0.9, criterion='friedman_mse', init=None,\n",
       "             learning_rate=0.1, loss='ls', max_depth=3, max_features=None,\n",
       "             max_leaf_nodes=None, min_impurity_split=1e-07,\n",
       "             min_samples_leaf=1, min_samples_split=2,\n",
       "             min_weight_fraction_leaf=0.0, n_estimators=100,\n",
       "             presort='auto', random_state=None, subsample=1.0, verbose=0,\n",
       "             warm_start=False)"
      ]
     },
     "execution_count": 98,
     "metadata": {},
     "output_type": "execute_result"
    }
   ],
   "source": [
    "##gradient boosting regressor\n",
    "from sklearn.ensemble import GradientBoostingRegressor\n",
    "\n",
    "c = GradientBoostingRegressor()\n",
    "\n",
    "c.fit(X_train,y_train)"
   ]
  },
  {
   "cell_type": "code",
   "execution_count": 99,
   "metadata": {},
   "outputs": [],
   "source": [
    "pred = c.predict(X_test)\n",
    "mae = np.mean(abs(pred - y_test))"
   ]
  },
  {
   "cell_type": "code",
   "execution_count": 100,
   "metadata": {},
   "outputs": [
    {
     "data": {
      "text/plain": [
       "11.350248964625875"
      ]
     },
     "execution_count": 100,
     "metadata": {},
     "output_type": "execute_result"
    }
   ],
   "source": [
    "mae"
   ]
  },
  {
   "cell_type": "code",
   "execution_count": 101,
   "metadata": {},
   "outputs": [
    {
     "data": {
      "text/plain": [
       "14.498298036530631"
      ]
     },
     "execution_count": 101,
     "metadata": {},
     "output_type": "execute_result"
    }
   ],
   "source": [
    "from math import sqrt\n",
    "rmse_GB = sqrt(mean_squared_error(y_test, pred))\n",
    "rmse_GB"
   ]
  },
  {
   "cell_type": "code",
   "execution_count": 103,
   "metadata": {},
   "outputs": [
    {
     "data": {
      "text/plain": [
       "array([25.75946541, 21.35478683, 91.70737701,  2.41634508, 31.82278217,\n",
       "       37.06944132,  6.96879321, 12.20277134, 10.26899783, 49.43800671,\n",
       "       54.34064769, 19.78163716, 36.43983653, 18.98832159, 32.84124337,\n",
       "       24.71818588, 36.15502331, 48.19393299, 32.23641938, 36.43466658,\n",
       "       36.38498387])"
      ]
     },
     "execution_count": 103,
     "metadata": {},
     "output_type": "execute_result"
    }
   ],
   "source": [
    "pred"
   ]
  },
  {
   "cell_type": "code",
   "execution_count": 104,
   "metadata": {},
   "outputs": [
    {
     "data": {
      "text/plain": [
       "array([38, 20, 70,  3, 28, 35, 10,  2, 16, 60, 90, 11, 46, 17, 21, 35, 65,\n",
       "       70, 17, 28, 51], dtype=int64)"
      ]
     },
     "execution_count": 104,
     "metadata": {},
     "output_type": "execute_result"
    }
   ],
   "source": [
    "y_test"
   ]
  },
  {
   "cell_type": "code",
   "execution_count": 105,
   "metadata": {},
   "outputs": [
    {
     "data": {
      "text/plain": [
       "<matplotlib.text.Text at 0x18447d68>"
      ]
     },
     "execution_count": 105,
     "metadata": {},
     "output_type": "execute_result"
    },
    {
     "data": {
      "image/png": "[encoded data removed]",
      "text/plain": [
       "<matplotlib.figure.Figure at 0x183f32b0>"
      ]
     },
     "metadata": {},
     "output_type": "display_data"
    }
   ],
   "source": [
    "plt.scatter(y_test, pred)\n",
    "plt.xlabel(\"True Values\")\n",
    "plt.ylabel(\"Predictions\")"
   ]
  },
  {
   "cell_type": "code",
   "execution_count": 106,
   "metadata": {},
   "outputs": [
    {
     "data": {
      "text/plain": [
       "<matplotlib.axes._subplots.AxesSubplot at 0x18465ef0>"
      ]
     },
     "execution_count": 106,
     "metadata": {},
     "output_type": "execute_result"
    },
    {
     "data": {
      "image/png": "[encoded data removed]",
      "text/plain": [
       "<matplotlib.figure.Figure at 0x184c1940>"
      ]
     },
     "metadata": {},
     "output_type": "display_data"
    }
   ],
   "source": [
    "##line plot\n",
    "sns.kdeplot(pred, label = 'Predictions')\n",
    "sns.kdeplot(y_test,label = 'Vales')"
   ]
  },
  {
   "cell_type": "code",
   "execution_count": 107,
   "metadata": {},
   "outputs": [],
   "source": [
    "from sklearn.ensemble import RandomForestRegressor"
   ]
  },
  {
   "cell_type": "code",
   "execution_count": 108,
   "metadata": {},
   "outputs": [
    {
     "data": {
      "text/plain": [
       "304.98285714285714"
      ]
     },
     "execution_count": 108,
     "metadata": {},
     "output_type": "execute_result"
    }
   ],
   "source": [
    "c = RandomForestRegressor(random_state = 30)\n",
    "c.fit(X_train,y_train)\n",
    "pred = c.predict(X_test)\n",
    "mae = np.mean(abs(pred - y_test))\n",
    "mean_squared_error(y_test, pred)"
   ]
  },
  {
   "cell_type": "code",
   "execution_count": 109,
   "metadata": {},
   "outputs": [
    {
     "data": {
      "text/plain": [
       "13.342857142857142"
      ]
     },
     "execution_count": 109,
     "metadata": {},
     "output_type": "execute_result"
    }
   ],
   "source": [
    "mae = np.mean(abs(pred - y_test))\n",
    "mae"
   ]
  },
  {
   "cell_type": "code",
   "execution_count": 110,
   "metadata": {},
   "outputs": [
    {
     "data": {
      "text/plain": [
       "17.46375839110405"
      ]
     },
     "execution_count": 110,
     "metadata": {},
     "output_type": "execute_result"
    }
   ],
   "source": [
    "from math import sqrt\n",
    "rmse_RF = sqrt(mean_squared_error(y_test, pred))\n",
    "rmse_RF"
   ]
  },
  {
   "cell_type": "code",
   "execution_count": 111,
   "metadata": {},
   "outputs": [
    {
     "data": {
      "text/plain": [
       "<matplotlib.axes._subplots.AxesSubplot at 0x1852fe80>"
      ]
     },
     "execution_count": 111,
     "metadata": {},
     "output_type": "execute_result"
    },
    {
     "data": {
      "image/png": "[encoded data removed]",
      "text/plain": [
       "<matplotlib.figure.Figure at 0x18566780>"
      ]
     },
     "metadata": {},
     "output_type": "display_data"
    }
   ],
   "source": [
    "##line plot\n",
    "sns.kdeplot(pred, label = 'Predictions')\n",
    "sns.kdeplot(y_test,label = 'Vales')"
   ]
  },
  {
   "cell_type": "code",
   "execution_count": null,
   "metadata": {},
   "outputs": [],
   "source": []
  },
  {
   "cell_type": "code",
   "execution_count": null,
   "metadata": {},
   "outputs": [],
   "source": []
  },
  {
   "cell_type": "code",
   "execution_count": 112,
   "metadata": {},
   "outputs": [],
   "source": [
    "from sklearn.neighbors import KNeighborsRegressor\n",
    "c = KNeighborsRegressor(n_neighbors = 2)"
   ]
  },
  {
   "cell_type": "code",
   "execution_count": 113,
   "metadata": {},
   "outputs": [
    {
     "data": {
      "text/plain": [
       "87.8452380952381"
      ]
     },
     "execution_count": 113,
     "metadata": {},
     "output_type": "execute_result"
    }
   ],
   "source": [
    "c.fit(X_train,y_train)\n",
    "pred = c.predict(X_test)\n",
    "mae = np.mean(abs(pred - y_test))\n",
    "mean_squared_error(y_test, pred)"
   ]
  },
  {
   "cell_type": "code",
   "execution_count": 114,
   "metadata": {},
   "outputs": [
    {
     "data": {
      "text/plain": [
       "6.880952380952381"
      ]
     },
     "execution_count": 114,
     "metadata": {},
     "output_type": "execute_result"
    }
   ],
   "source": [
    "mae = np.mean(abs(pred - y_test))\n",
    "mae"
   ]
  },
  {
   "cell_type": "code",
   "execution_count": 115,
   "metadata": {},
   "outputs": [
    {
     "data": {
      "text/plain": [
       "9.372579052493402"
      ]
     },
     "execution_count": 115,
     "metadata": {},
     "output_type": "execute_result"
    }
   ],
   "source": [
    "from math import sqrt\n",
    "rmse_KNN = sqrt(mean_squared_error(y_test, pred))\n",
    "rmse_KNN"
   ]
  },
  {
   "cell_type": "code",
   "execution_count": 117,
   "metadata": {},
   "outputs": [],
   "source": [
    "G = pd.DataFrame({'RMSE': [rmse_KNN,rmse_RF,rmse_GB,rmse_ols],'model_name':['K-nearest Neighbors','Random Forest','Gradient Boosting','Ordinary LS']})"
   ]
  },
  {
   "cell_type": "code",
   "execution_count": 118,
   "metadata": {},
   "outputs": [
    {
     "data": {
      "text/plain": [
       "<matplotlib.axes._subplots.AxesSubplot at 0x18619978>"
      ]
     },
     "execution_count": 118,
     "metadata": {},
     "output_type": "execute_result"
    },
    {
     "data": {
      "image/png": "[encoded data removed]",
      "text/plain": [
       "<matplotlib.figure.Figure at 0x18554c50>"
      ]
     },
     "metadata": {},
     "output_type": "display_data"
    }
   ],
   "source": [
    "ax = plt.subplot()\n",
    "\n",
    "ax.set_title('Comparison of Models Accuracy')\n",
    "G.groupby('model_name').mean()['RMSE'].plot(kind='bar',figsize=(10,8), ax = ax,color = ('green','red','green','green'))"
   ]
  },
  {
   "cell_type": "code",
   "execution_count": null,
   "metadata": {},
   "outputs": [],
   "source": []
  },
  {
   "cell_type": "code",
   "execution_count": 121,
   "metadata": {},
   "outputs": [
    {
     "data": {
      "text/plain": [
       "<matplotlib.text.Text at 0x187c9128>"
      ]
     },
     "execution_count": 121,
     "metadata": {},
     "output_type": "execute_result"
    },
    {
     "data": {
      "image/png": "[encoded data removed]",
      "text/plain": [
       "<matplotlib.figure.Figure at 0x187c3f60>"
      ]
     },
     "metadata": {},
     "output_type": "display_data"
    }
   ],
   "source": [
    "plt.scatter(y_test, pred)\n",
    "plt.xlabel(\"True Values\")\n",
    "plt.ylabel(\"Predictions\")"
   ]
  },
  {
   "cell_type": "code",
   "execution_count": 122,
   "metadata": {},
   "outputs": [
    {
     "data": {
      "text/plain": [
       "<matplotlib.text.Text at 0x18a43ef0>"
      ]
     },
     "execution_count": 122,
     "metadata": {},
     "output_type": "execute_result"
    },
    {
     "data": {
      "image/png": "[encoded data removed]",
      "text/plain": [
       "<matplotlib.figure.Figure at 0x18863128>"
      ]
     },
     "metadata": {},
     "output_type": "display_data"
    }
   ],
   "source": [
    "figsize = (8,8)\n",
    "\n",
    "r = pred - y_test\n",
    "plt.hist(r,color = 'red', bins = 20,edgecolor = 'black')\n",
    "plt.xlabel('Residuals')\n",
    "plt.title('Dist of Residuals')"
   ]
  },
  {
   "cell_type": "code",
   "execution_count": 123,
   "metadata": {},
   "outputs": [],
   "source": [
    "###Hyperparameter tunign\n"
   ]
  },
  {
   "cell_type": "code",
   "execution_count": 124,
   "metadata": {},
   "outputs": [],
   "source": [
    "##visualise  RMSE\n"
   ]
  },
  {
   "cell_type": "code",
   "execution_count": 125,
   "metadata": {},
   "outputs": [
    {
     "data": {
      "text/plain": [
       "<matplotlib.axes._subplots.AxesSubplot at 0x18abb828>"
      ]
     },
     "execution_count": 125,
     "metadata": {},
     "output_type": "execute_result"
    },
    {
     "data": {
      "image/png": "[encoded data removed]",
      "text/plain": [
       "<matplotlib.figure.Figure at 0x18aed550>"
      ]
     },
     "metadata": {},
     "output_type": "display_data"
    }
   ],
   "source": [
    "##line plot\n",
    "sns.kdeplot(pred, label = 'Predictions')\n",
    "sns.kdeplot(y_test,label = 'Vales')\n"
   ]
  },
  {
   "cell_type": "code",
   "execution_count": 126,
   "metadata": {},
   "outputs": [
    {
     "data": {
      "text/plain": [
       "<matplotlib.collections.PathCollection at 0x19c0fb00>"
      ]
     },
     "execution_count": 126,
     "metadata": {},
     "output_type": "execute_result"
    },
    {
     "data": {
      "image/png": "[encoded data removed]",
      "text/plain": [
       "<matplotlib.figure.Figure at 0x18aed588>"
      ]
     },
     "metadata": {},
     "output_type": "display_data"
    }
   ],
   "source": [
    "##residuals - fitted values\n",
    "residual = y_test - pred\n",
    "plt.scatter(pred,residual)"
   ]
  },
  {
   "cell_type": "code",
   "execution_count": 127,
   "metadata": {},
   "outputs": [],
   "source": [
    "df_pivot= df.pivot_table(index = \"country\",columns = \"year\",values = \"total_No_of_medals\",aggfunc = 'sum')"
   ]
  },
  {
   "cell_type": "code",
   "execution_count": 128,
   "metadata": {},
   "outputs": [
    {
     "data": {
      "text/plain": [
       "<matplotlib.axes._subplots.AxesSubplot at 0x19bc0e10>"
      ]
     },
     "execution_count": 128,
     "metadata": {},
     "output_type": "execute_result"
    },
    {
     "data": {
      "image/png": "[encoded data removed]",
      "text/plain": [
       "<matplotlib.figure.Figure at 0x19bd4898>"
      ]
     },
     "metadata": {},
     "output_type": "display_data"
    }
   ],
   "source": [
    "f, ax = plt.subplots(figsize=(10, 8))\n",
    "sns.heatmap(df_pivot, annot=True, fmt=\"d\", linewidths=.5, ax=ax)"
   ]
  },
  {
   "cell_type": "code",
   "execution_count": 129,
   "metadata": {},
   "outputs": [],
   "source": [
    "##lasso regression\n",
    "from sklearn.linear_model import Lasso\n",
    "from sklearn.preprocessing import StandardScaler"
   ]
  },
  {
   "cell_type": "code",
   "execution_count": 130,
   "metadata": {},
   "outputs": [],
   "source": [
    "scaler = StandardScaler()\n",
    "X_std = scaler.fit_transform(X_train)"
   ]
  },
  {
   "cell_type": "code",
   "execution_count": 131,
   "metadata": {},
   "outputs": [],
   "source": [
    "regr = Lasso(alpha=0.5)\n",
    "m2 = regr.fit(X_std,y_train)"
   ]
  },
  {
   "cell_type": "code",
   "execution_count": 133,
   "metadata": {},
   "outputs": [
    {
     "data": {
      "text/plain": [
       "array([ 22.28040924, -17.89612047,  17.52857573,  -3.5302497 ,\n",
       "         1.76376619])"
      ]
     },
     "execution_count": 133,
     "metadata": {},
     "output_type": "execute_result"
    }
   ],
   "source": [
    "m2.coef_"
   ]
  },
  {
   "cell_type": "code",
   "execution_count": 134,
   "metadata": {},
   "outputs": [],
   "source": [
    "y_pred4 = m2.predict(X_test)"
   ]
  },
  {
   "cell_type": "code",
   "execution_count": 137,
   "metadata": {},
   "outputs": [
    {
     "data": {
      "text/plain": [
       "array([ 4.64630883e+08,  1.57116441e+08, -8.28463065e+09, -1.01436575e+10,\n",
       "        3.64388921e+08,  1.74811041e+08, -6.19837434e+06, -1.20027327e+07,\n",
       "       -4.06839110e+08, -7.98646488e+07, -1.20485099e+08,  1.21358574e+08,\n",
       "        1.07837935e+08,  2.54883793e+07,  1.67261888e+08,  9.15285203e+07,\n",
       "        3.05199043e+08, -6.48743232e+07, -7.45549346e+08, -2.17643080e+08,\n",
       "        3.43596414e+08])"
      ]
     },
     "execution_count": 137,
     "metadata": {},
     "output_type": "execute_result"
    }
   ],
   "source": [
    "y_pred4"
   ]
  },
  {
   "cell_type": "code",
   "execution_count": 138,
   "metadata": {},
   "outputs": [],
   "source": [
    "###doing regression for Gold, silver and bronze"
   ]
  },
  {
   "cell_type": "code",
   "execution_count": 139,
   "metadata": {},
   "outputs": [],
   "source": [
    "from sklearn.neighbors import KNeighborsRegressor\n",
    "c = KNeighborsRegressor(n_neighbors = 2)"
   ]
  },
  {
   "cell_type": "code",
   "execution_count": 140,
   "metadata": {},
   "outputs": [
    {
     "data": {
      "text/plain": [
       "Index(['country', 'year', 'gdp_nominal - US$MM', 'gdp_per capita (usd)',\n",
       "       'population', 'host_y', 'host_n', 'Index of Economic Freedom',\n",
       "       'no_of_internet_users', 'Gender gap index', 'Olympics', 'GOLD',\n",
       "       'SILVER', 'BRONZE', 'total_No_of_medals', 'log_transformed_gold',\n",
       "       'log_transformed_silver', 'log_transformed_bronze',\n",
       "       'log_transformed_total', 'log_transformed_gdp_cap',\n",
       "       'log_transformed_pop', 'log_transformed_int', 'log_transformed_gg',\n",
       "       'log_transformed_gdp_n'],\n",
       "      dtype='object')"
      ]
     },
     "execution_count": 140,
     "metadata": {},
     "output_type": "execute_result"
    }
   ],
   "source": [
    "df_new.columns"
   ]
  },
  {
   "cell_type": "code",
   "execution_count": 273,
   "metadata": {},
   "outputs": [],
   "source": [
    "##for gold medal\n",
    "y = df_new.iloc[:,11].values"
   ]
  },
  {
   "cell_type": "code",
   "execution_count": 274,
   "metadata": {},
   "outputs": [
    {
     "data": {
      "text/plain": [
       "array([46, 27, 26, 19, 17, 12, 10,  9,  8,  8,  8,  8,  7,  7,  6,  6,  5,\n",
       "        5,  4,  4,  0, 46, 29, 38, 20, 11,  7, 11, 13,  8,  8,  6,  8,  3,\n",
       "        4,  2,  4,  3,  5,  6,  2,  0, 36, 19, 48, 24, 16,  9, 11, 13,  8,\n",
       "       14,  7,  3,  3,  5,  6,  5,  0,  3,  3,  3,  1, 36,  9, 32, 28, 13,\n",
       "       16, 11,  9, 10, 17,  4,  8,  5,  3,  1,  2,  1,  9,  3,  3,  0, 37,\n",
       "       11, 28, 32, 13,  5, 13,  8, 13, 16, 12,  8,  0,  3,  2,  0,  1, 11,\n",
       "        1,  3,  0], dtype=int64)"
      ]
     },
     "execution_count": 274,
     "metadata": {},
     "output_type": "execute_result"
    }
   ],
   "source": [
    "y"
   ]
  },
  {
   "cell_type": "code",
   "execution_count": 275,
   "metadata": {},
   "outputs": [],
   "source": [
    "X_train,X_test,y_train,y_test = train_test_split(x,y,test_size = 0.2, random_state = 0)"
   ]
  },
  {
   "cell_type": "code",
   "execution_count": 277,
   "metadata": {},
   "outputs": [
    {
     "data": {
      "text/plain": [
       "27.083333333333332"
      ]
     },
     "execution_count": 277,
     "metadata": {},
     "output_type": "execute_result"
    }
   ],
   "source": [
    "gold_model = c.fit(X_train,y_train)\n",
    "pred_gold = c.predict(X_test)\n",
    "mae = np.mean(abs(pred_gold - y_test))\n",
    "mean_squared_error(y_test, pred_gold)"
   ]
  },
  {
   "cell_type": "code",
   "execution_count": 226,
   "metadata": {},
   "outputs": [
    {
     "data": {
      "text/plain": [
       "3.4047619047619047"
      ]
     },
     "execution_count": 226,
     "metadata": {},
     "output_type": "execute_result"
    }
   ],
   "source": [
    "mae = np.mean(abs(pred_gold - y_test))\n",
    "mae"
   ]
  },
  {
   "cell_type": "code",
   "execution_count": 227,
   "metadata": {},
   "outputs": [
    {
     "data": {
      "text/plain": [
       "5.204164998665331"
      ]
     },
     "execution_count": 227,
     "metadata": {},
     "output_type": "execute_result"
    }
   ],
   "source": [
    "from math import sqrt\n",
    "rmse_KNN = sqrt(mean_squared_error(y_test, pred_gold))\n",
    "rmse_KNN"
   ]
  },
  {
   "cell_type": "code",
   "execution_count": 228,
   "metadata": {},
   "outputs": [
    {
     "data": {
      "text/plain": [
       "array([12.5,  2.5, 43. ,  0. , 11. , 11. ,  1.5,  0.5,  1.5, 25.5, 25.5,\n",
       "        4. , 16.5,  4.5, 13. , 12.5, 18. , 25.5,  5. ,  9. , 18. ])"
      ]
     },
     "execution_count": 228,
     "metadata": {},
     "output_type": "execute_result"
    }
   ],
   "source": [
    "pred_gold"
   ]
  },
  {
   "cell_type": "code",
   "execution_count": 223,
   "metadata": {},
   "outputs": [
    {
     "data": {
      "text/plain": [
       "array([ 7,  3, 26,  1, 11, 11,  5,  1,  6, 24, 28,  3, 14,  7,  9,  8, 29,\n",
       "       20,  3,  8, 19], dtype=int64)"
      ]
     },
     "execution_count": 223,
     "metadata": {},
     "output_type": "execute_result"
    }
   ],
   "source": [
    "y_test"
   ]
  },
  {
   "cell_type": "code",
   "execution_count": 229,
   "metadata": {},
   "outputs": [],
   "source": [
    "##for silver medal\n",
    "y = df_new.iloc[:,12].values"
   ]
  },
  {
   "cell_type": "code",
   "execution_count": 230,
   "metadata": {},
   "outputs": [],
   "source": [
    "X_train,X_test,y_train,y_test = train_test_split(x,y,test_size = 0.2, random_state = 0)"
   ]
  },
  {
   "cell_type": "code",
   "execution_count": 231,
   "metadata": {},
   "outputs": [
    {
     "data": {
      "text/plain": [
       "21.083333333333332"
      ]
     },
     "execution_count": 231,
     "metadata": {},
     "output_type": "execute_result"
    }
   ],
   "source": [
    "c.fit(X_train,y_train)\n",
    "pred_silver = c.predict(X_test)\n",
    "mae = np.mean(abs(pred_silver - y_test))\n",
    "mean_squared_error(y_test, pred_silver)"
   ]
  },
  {
   "cell_type": "code",
   "execution_count": 232,
   "metadata": {},
   "outputs": [
    {
     "data": {
      "text/plain": [
       "3.5952380952380953"
      ]
     },
     "execution_count": 232,
     "metadata": {},
     "output_type": "execute_result"
    }
   ],
   "source": [
    "mae = np.mean(abs(pred_silver - y_test))\n",
    "mae"
   ]
  },
  {
   "cell_type": "code",
   "execution_count": 233,
   "metadata": {},
   "outputs": [
    {
     "data": {
      "text/plain": [
       "4.591659104651971"
      ]
     },
     "execution_count": 233,
     "metadata": {},
     "output_type": "execute_result"
    }
   ],
   "source": [
    "from math import sqrt\n",
    "rmse_KNN = sqrt(mean_squared_error(y_test, pred_silver))\n",
    "rmse_KNN"
   ]
  },
  {
   "cell_type": "code",
   "execution_count": 234,
   "metadata": {},
   "outputs": [
    {
     "data": {
      "text/plain": [
       "array([ 8. ,  5.5, 26.5,  1.5, 11.5, 10. ,  1.5,  2. ,  4. , 22.5, 22.5,\n",
       "       11. , 20.5, 10.5, 10. , 13.5, 16. , 22.5,  5. , 10. , 16. ])"
      ]
     },
     "execution_count": 234,
     "metadata": {},
     "output_type": "execute_result"
    }
   ],
   "source": [
    "pred_silver"
   ]
  },
  {
   "cell_type": "code",
   "execution_count": 235,
   "metadata": {},
   "outputs": [
    {
     "data": {
      "text/plain": [
       "array([14,  9, 18,  0, 10, 11,  3,  0,  4, 13, 26,  3, 15,  4,  3, 15, 17,\n",
       "       20,  5, 12, 13], dtype=int64)"
      ]
     },
     "execution_count": 235,
     "metadata": {},
     "output_type": "execute_result"
    }
   ],
   "source": [
    "y_test"
   ]
  },
  {
   "cell_type": "code",
   "execution_count": 236,
   "metadata": {},
   "outputs": [],
   "source": [
    "##for bronze medal\n",
    "y = df_new.iloc[:,13].values"
   ]
  },
  {
   "cell_type": "code",
   "execution_count": 237,
   "metadata": {},
   "outputs": [],
   "source": [
    "X_train,X_test,y_train,y_test = train_test_split(x,y,test_size = 0.2, random_state = 0)"
   ]
  },
  {
   "cell_type": "code",
   "execution_count": 238,
   "metadata": {},
   "outputs": [
    {
     "data": {
      "text/plain": [
       "14.75"
      ]
     },
     "execution_count": 238,
     "metadata": {},
     "output_type": "execute_result"
    }
   ],
   "source": [
    "c.fit(X_train,y_train)\n",
    "pred_bronze = c.predict(X_test)\n",
    "mae = np.mean(abs(pred_bronze - y_test))\n",
    "mean_squared_error(y_test, pred_bronze)"
   ]
  },
  {
   "cell_type": "code",
   "execution_count": 239,
   "metadata": {},
   "outputs": [
    {
     "data": {
      "text/plain": [
       "2.5476190476190474"
      ]
     },
     "execution_count": 239,
     "metadata": {},
     "output_type": "execute_result"
    }
   ],
   "source": [
    "mae = np.mean(abs(pred_bronze - y_test))\n",
    "mae"
   ]
  },
  {
   "cell_type": "code",
   "execution_count": 240,
   "metadata": {},
   "outputs": [
    {
     "data": {
      "text/plain": [
       "3.840572873934304"
      ]
     },
     "execution_count": 240,
     "metadata": {},
     "output_type": "execute_result"
    }
   ],
   "source": [
    "from math import sqrt\n",
    "rmse_KNN = sqrt(mean_squared_error(y_test, pred_bronze))\n",
    "rmse_KNN"
   ]
  },
  {
   "cell_type": "code",
   "execution_count": 241,
   "metadata": {},
   "outputs": [
    {
     "data": {
      "text/plain": [
       "array([10.5,  7. , 26. ,  2. , 11.5, 13. ,  2.5,  2.5,  4. , 24. , 24. ,\n",
       "        4.5, 17. ,  3.5,  8. , 13.5, 14.5, 24. ,  7.5, 10.5, 14.5])"
      ]
     },
     "execution_count": 241,
     "metadata": {},
     "output_type": "execute_result"
    }
   ],
   "source": [
    "pred_bronze"
   ]
  },
  {
   "cell_type": "code",
   "execution_count": 242,
   "metadata": {},
   "outputs": [
    {
     "data": {
      "text/plain": [
       "array([17,  8, 26,  2,  7, 13,  2,  1,  6, 23, 36,  5, 17,  6,  9, 12, 19,\n",
       "       30,  9,  8, 19], dtype=int64)"
      ]
     },
     "execution_count": 242,
     "metadata": {},
     "output_type": "execute_result"
    }
   ],
   "source": [
    "y_test"
   ]
  },
  {
   "cell_type": "code",
   "execution_count": null,
   "metadata": {},
   "outputs": [],
   "source": [
    "###prediction on New test data  - test data 2020 olympics"
   ]
  },
  {
   "cell_type": "markdown",
   "metadata": {},
   "source": [
    "##FIRST we will predict count of individual medals and then total medals tally"
   ]
  },
  {
   "cell_type": "code",
   "execution_count": 141,
   "metadata": {},
   "outputs": [],
   "source": [
    "# Load spreadsheet\n",
    "xl = pd.ExcelFile('test_data_2020_olympics.xlsx')\n",
    "\n",
    "# Load a sheet into a DataFrame by name: df1\n",
    "df_test = xl.parse('Sheet1')"
   ]
  },
  {
   "cell_type": "code",
   "execution_count": 142,
   "metadata": {},
   "outputs": [
    {
     "name": "stdout",
     "output_type": "stream",
     "text": [
      "<class 'pandas.core.frame.DataFrame'>\n",
      "RangeIndex: 21 entries, 0 to 20\n",
      "Data columns (total 14 columns):\n",
      "country                      21 non-null object\n",
      "year                         21 non-null int64\n",
      "gdp_nominal - US$MM          20 non-null float64\n",
      "gdp_per capita (usd)         0 non-null float64\n",
      "population                   21 non-null int64\n",
      "host_y                       21 non-null int64\n",
      "host_n                       21 non-null int64\n",
      "Index of Economic Freedom    0 non-null float64\n",
      "no_of_internet_users         21 non-null int64\n",
      "Gender gap index             21 non-null int64\n",
      "GOLD                         0 non-null float64\n",
      "SILVER                       0 non-null float64\n",
      "BRONZE                       0 non-null float64\n",
      "total_No_of_medals           0 non-null float64\n",
      "dtypes: float64(7), int64(6), object(1)\n",
      "memory usage: 2.4+ KB\n"
     ]
    }
   ],
   "source": [
    "df_test.info()"
   ]
  },
  {
   "cell_type": "code",
   "execution_count": 143,
   "metadata": {},
   "outputs": [],
   "source": [
    "##prediction of gold medals\n",
    "gold = df_test.iloc[:,np.r_[2:3,4:5,6:7,8:10]]\n"
   ]
  },
  {
   "cell_type": "code",
   "execution_count": 144,
   "metadata": {},
   "outputs": [
    {
     "data": {
      "text/plain": [
       "<bound method Series.sort_values of gdp_nominal - US$MM    1\n",
       "dtype: int64>"
      ]
     },
     "execution_count": 144,
     "metadata": {},
     "output_type": "execute_result"
    }
   ],
   "source": [
    "null_counts = gold.isnull().sum()\n",
    "null_counts[null_counts > 0].sort_values"
   ]
  },
  {
   "cell_type": "code",
   "execution_count": 145,
   "metadata": {},
   "outputs": [],
   "source": [
    "#Treating Missing Values\n",
    "df_test['gdp_nominal - US$MM'].fillna(df_test['gdp_nominal - US$MM'].median(), inplace=True)"
   ]
  },
  {
   "cell_type": "code",
   "execution_count": 146,
   "metadata": {},
   "outputs": [
    {
     "data": {
      "text/html": [
       "<table class=\"simpletable\">\n",
       "<caption>OLS Regression Results</caption>\n",
       "<tr>\n",
       "  <th>Dep. Variable:</th>            <td>y</td>        <th>  R-squared:         </th> <td>   0.902</td>\n",
       "</tr>\n",
       "<tr>\n",
       "  <th>Model:</th>                   <td>OLS</td>       <th>  Adj. R-squared:    </th> <td>   0.895</td>\n",
       "</tr>\n",
       "<tr>\n",
       "  <th>Method:</th>             <td>Least Squares</td>  <th>  F-statistic:       </th> <td>   144.8</td>\n",
       "</tr>\n",
       "<tr>\n",
       "  <th>Date:</th>             <td>Fri, 21 Sep 2018</td> <th>  Prob (F-statistic):</th> <td>2.76e-38</td>\n",
       "</tr>\n",
       "<tr>\n",
       "  <th>Time:</th>                 <td>09:36:43</td>     <th>  Log-Likelihood:    </th> <td> -334.51</td>\n",
       "</tr>\n",
       "<tr>\n",
       "  <th>No. Observations:</th>      <td>    84</td>      <th>  AIC:               </th> <td>   679.0</td>\n",
       "</tr>\n",
       "<tr>\n",
       "  <th>Df Residuals:</th>          <td>    79</td>      <th>  BIC:               </th> <td>   691.2</td>\n",
       "</tr>\n",
       "<tr>\n",
       "  <th>Df Model:</th>              <td>     5</td>      <th>                     </th>     <td> </td>   \n",
       "</tr>\n",
       "<tr>\n",
       "  <th>Covariance Type:</th>      <td>nonrobust</td>    <th>                     </th>     <td> </td>   \n",
       "</tr>\n",
       "</table>\n",
       "<table class=\"simpletable\">\n",
       "<tr>\n",
       "   <td></td>     <th>coef</th>     <th>std err</th>      <th>t</th>      <th>P>|t|</th>  <th>[0.025</th>    <th>0.975]</th>  \n",
       "</tr>\n",
       "<tr>\n",
       "  <th>x1</th> <td> 2.831e-07</td> <td> 4.57e-08</td> <td>    6.195</td> <td> 0.000</td> <td> 1.92e-07</td> <td> 3.74e-07</td>\n",
       "</tr>\n",
       "<tr>\n",
       "  <th>x2</th> <td>-1.289e-07</td> <td> 2.24e-08</td> <td>   -5.759</td> <td> 0.000</td> <td>-1.73e-07</td> <td>-8.44e-08</td>\n",
       "</tr>\n",
       "<tr>\n",
       "  <th>x3</th> <td> 4.083e-06</td> <td> 5.31e-07</td> <td>    7.687</td> <td> 0.000</td> <td> 3.03e-06</td> <td> 5.14e-06</td>\n",
       "</tr>\n",
       "<tr>\n",
       "  <th>x4</th> <td>  -18.3448</td> <td>    7.556</td> <td>   -2.428</td> <td> 0.017</td> <td>  -33.385</td> <td>   -3.304</td>\n",
       "</tr>\n",
       "<tr>\n",
       "  <th>x5</th> <td>    0.0466</td> <td>    0.011</td> <td>    4.304</td> <td> 0.000</td> <td>    0.025</td> <td>    0.068</td>\n",
       "</tr>\n",
       "</table>\n",
       "<table class=\"simpletable\">\n",
       "<tr>\n",
       "  <th>Omnibus:</th>       <td>35.911</td> <th>  Durbin-Watson:     </th> <td>   2.037</td>\n",
       "</tr>\n",
       "<tr>\n",
       "  <th>Prob(Omnibus):</th> <td> 0.000</td> <th>  Jarque-Bera (JB):  </th> <td> 125.244</td>\n",
       "</tr>\n",
       "<tr>\n",
       "  <th>Skew:</th>          <td> 1.294</td> <th>  Prob(JB):          </th> <td>6.36e-28</td>\n",
       "</tr>\n",
       "<tr>\n",
       "  <th>Kurtosis:</th>      <td> 8.393</td> <th>  Cond. No.          </th> <td>2.33e+09</td>\n",
       "</tr>\n",
       "</table>"
      ],
      "text/plain": [
       "<class 'statsmodels.iolib.summary.Summary'>\n",
       "\"\"\"\n",
       "                            OLS Regression Results                            \n",
       "==============================================================================\n",
       "Dep. Variable:                      y   R-squared:                       0.902\n",
       "Model:                            OLS   Adj. R-squared:                  0.895\n",
       "Method:                 Least Squares   F-statistic:                     144.8\n",
       "Date:                Fri, 21 Sep 2018   Prob (F-statistic):           2.76e-38\n",
       "Time:                        09:36:43   Log-Likelihood:                -334.51\n",
       "No. Observations:                  84   AIC:                             679.0\n",
       "Df Residuals:                      79   BIC:                             691.2\n",
       "Df Model:                           5                                         \n",
       "Covariance Type:            nonrobust                                         \n",
       "==============================================================================\n",
       "                 coef    std err          t      P>|t|      [0.025      0.975]\n",
       "------------------------------------------------------------------------------\n",
       "x1          2.831e-07   4.57e-08      6.195      0.000    1.92e-07    3.74e-07\n",
       "x2         -1.289e-07   2.24e-08     -5.759      0.000   -1.73e-07   -8.44e-08\n",
       "x3          4.083e-06   5.31e-07      7.687      0.000    3.03e-06    5.14e-06\n",
       "x4           -18.3448      7.556     -2.428      0.017     -33.385      -3.304\n",
       "x5             0.0466      0.011      4.304      0.000       0.025       0.068\n",
       "==============================================================================\n",
       "Omnibus:                       35.911   Durbin-Watson:                   2.037\n",
       "Prob(Omnibus):                  0.000   Jarque-Bera (JB):              125.244\n",
       "Skew:                           1.294   Prob(JB):                     6.36e-28\n",
       "Kurtosis:                       8.393   Cond. No.                     2.33e+09\n",
       "==============================================================================\n",
       "\n",
       "Warnings:\n",
       "[1] Standard Errors assume that the covariance matrix of the errors is correctly specified.\n",
       "[2] The condition number is large, 2.33e+09. This might indicate that there are\n",
       "strong multicollinearity or other numerical problems.\n",
       "\"\"\""
      ]
     },
     "execution_count": 146,
     "metadata": {},
     "output_type": "execute_result"
    }
   ],
   "source": [
    "result = sm.OLS(y_train,X_train).fit()\n",
    "result.summary()"
   ]
  },
  {
   "cell_type": "code",
   "execution_count": 298,
   "metadata": {},
   "outputs": [],
   "source": []
  },
  {
   "cell_type": "code",
   "execution_count": 147,
   "metadata": {},
   "outputs": [
    {
     "data": {
      "text/html": [
       "<table class=\"simpletable\">\n",
       "<caption>OLS Regression Results</caption>\n",
       "<tr>\n",
       "  <th>Dep. Variable:</th>            <td>y</td>        <th>  R-squared:         </th> <td>   0.902</td>\n",
       "</tr>\n",
       "<tr>\n",
       "  <th>Model:</th>                   <td>OLS</td>       <th>  Adj. R-squared:    </th> <td>   0.895</td>\n",
       "</tr>\n",
       "<tr>\n",
       "  <th>Method:</th>             <td>Least Squares</td>  <th>  F-statistic:       </th> <td>   144.8</td>\n",
       "</tr>\n",
       "<tr>\n",
       "  <th>Date:</th>             <td>Fri, 21 Sep 2018</td> <th>  Prob (F-statistic):</th> <td>2.76e-38</td>\n",
       "</tr>\n",
       "<tr>\n",
       "  <th>Time:</th>                 <td>09:36:54</td>     <th>  Log-Likelihood:    </th> <td> -334.51</td>\n",
       "</tr>\n",
       "<tr>\n",
       "  <th>No. Observations:</th>      <td>    84</td>      <th>  AIC:               </th> <td>   679.0</td>\n",
       "</tr>\n",
       "<tr>\n",
       "  <th>Df Residuals:</th>          <td>    79</td>      <th>  BIC:               </th> <td>   691.2</td>\n",
       "</tr>\n",
       "<tr>\n",
       "  <th>Df Model:</th>              <td>     5</td>      <th>                     </th>     <td> </td>   \n",
       "</tr>\n",
       "<tr>\n",
       "  <th>Covariance Type:</th>      <td>nonrobust</td>    <th>                     </th>     <td> </td>   \n",
       "</tr>\n",
       "</table>\n",
       "<table class=\"simpletable\">\n",
       "<tr>\n",
       "   <td></td>     <th>coef</th>     <th>std err</th>      <th>t</th>      <th>P>|t|</th>  <th>[0.025</th>    <th>0.975]</th>  \n",
       "</tr>\n",
       "<tr>\n",
       "  <th>x1</th> <td> 2.831e-07</td> <td> 4.57e-08</td> <td>    6.195</td> <td> 0.000</td> <td> 1.92e-07</td> <td> 3.74e-07</td>\n",
       "</tr>\n",
       "<tr>\n",
       "  <th>x2</th> <td>-1.289e-07</td> <td> 2.24e-08</td> <td>   -5.759</td> <td> 0.000</td> <td>-1.73e-07</td> <td>-8.44e-08</td>\n",
       "</tr>\n",
       "<tr>\n",
       "  <th>x3</th> <td> 4.083e-06</td> <td> 5.31e-07</td> <td>    7.687</td> <td> 0.000</td> <td> 3.03e-06</td> <td> 5.14e-06</td>\n",
       "</tr>\n",
       "<tr>\n",
       "  <th>x4</th> <td>  -18.3448</td> <td>    7.556</td> <td>   -2.428</td> <td> 0.017</td> <td>  -33.385</td> <td>   -3.304</td>\n",
       "</tr>\n",
       "<tr>\n",
       "  <th>x5</th> <td>    0.0466</td> <td>    0.011</td> <td>    4.304</td> <td> 0.000</td> <td>    0.025</td> <td>    0.068</td>\n",
       "</tr>\n",
       "</table>\n",
       "<table class=\"simpletable\">\n",
       "<tr>\n",
       "  <th>Omnibus:</th>       <td>35.911</td> <th>  Durbin-Watson:     </th> <td>   2.037</td>\n",
       "</tr>\n",
       "<tr>\n",
       "  <th>Prob(Omnibus):</th> <td> 0.000</td> <th>  Jarque-Bera (JB):  </th> <td> 125.244</td>\n",
       "</tr>\n",
       "<tr>\n",
       "  <th>Skew:</th>          <td> 1.294</td> <th>  Prob(JB):          </th> <td>6.36e-28</td>\n",
       "</tr>\n",
       "<tr>\n",
       "  <th>Kurtosis:</th>      <td> 8.393</td> <th>  Cond. No.          </th> <td>2.33e+09</td>\n",
       "</tr>\n",
       "</table>"
      ],
      "text/plain": [
       "<class 'statsmodels.iolib.summary.Summary'>\n",
       "\"\"\"\n",
       "                            OLS Regression Results                            \n",
       "==============================================================================\n",
       "Dep. Variable:                      y   R-squared:                       0.902\n",
       "Model:                            OLS   Adj. R-squared:                  0.895\n",
       "Method:                 Least Squares   F-statistic:                     144.8\n",
       "Date:                Fri, 21 Sep 2018   Prob (F-statistic):           2.76e-38\n",
       "Time:                        09:36:54   Log-Likelihood:                -334.51\n",
       "No. Observations:                  84   AIC:                             679.0\n",
       "Df Residuals:                      79   BIC:                             691.2\n",
       "Df Model:                           5                                         \n",
       "Covariance Type:            nonrobust                                         \n",
       "==============================================================================\n",
       "                 coef    std err          t      P>|t|      [0.025      0.975]\n",
       "------------------------------------------------------------------------------\n",
       "x1          2.831e-07   4.57e-08      6.195      0.000    1.92e-07    3.74e-07\n",
       "x2         -1.289e-07   2.24e-08     -5.759      0.000   -1.73e-07   -8.44e-08\n",
       "x3          4.083e-06   5.31e-07      7.687      0.000    3.03e-06    5.14e-06\n",
       "x4           -18.3448      7.556     -2.428      0.017     -33.385      -3.304\n",
       "x5             0.0466      0.011      4.304      0.000       0.025       0.068\n",
       "==============================================================================\n",
       "Omnibus:                       35.911   Durbin-Watson:                   2.037\n",
       "Prob(Omnibus):                  0.000   Jarque-Bera (JB):              125.244\n",
       "Skew:                           1.294   Prob(JB):                     6.36e-28\n",
       "Kurtosis:                       8.393   Cond. No.                     2.33e+09\n",
       "==============================================================================\n",
       "\n",
       "Warnings:\n",
       "[1] Standard Errors assume that the covariance matrix of the errors is correctly specified.\n",
       "[2] The condition number is large, 2.33e+09. This might indicate that there are\n",
       "strong multicollinearity or other numerical problems.\n",
       "\"\"\""
      ]
     },
     "execution_count": 147,
     "metadata": {},
     "output_type": "execute_result"
    }
   ],
   "source": [
    "#total_p = result.predict(df_test.iloc[:,np.r_[2:3,4:5,6:7,8:10]].values)\n",
    "total_p = df_test[['no_of_internet_users','population','gdp_nominal - US$MM','host_n','Gender gap index']].values\n",
    "result = sm.OLS(y_train,X_train).fit()\n",
    "result.summary()"
   ]
  },
  {
   "cell_type": "code",
   "execution_count": 148,
   "metadata": {},
   "outputs": [],
   "source": [
    "pred_total = result.predict(total_p)"
   ]
  },
  {
   "cell_type": "code",
   "execution_count": 149,
   "metadata": {},
   "outputs": [
    {
     "data": {
      "text/plain": [
       "array([187.09879614,  48.11981297, 300.68026673,  52.37688243,\n",
       "        59.19379528,  86.63261045,  48.05035702,  32.94953324,\n",
       "        38.95759577,  28.66972577,  24.87021818,  16.04731973,\n",
       "        65.3463935 ,  35.34678996,  26.67147502,  15.57379347,\n",
       "        16.12289268,  25.3564405 ,  20.7159978 ,  35.10556885,\n",
       "       157.6905878 ])"
      ]
     },
     "execution_count": 149,
     "metadata": {},
     "output_type": "execute_result"
    }
   ],
   "source": [
    "pred_total"
   ]
  }
 ],
 "metadata": {
  "kernelspec": {
   "display_name": "Python 3",
   "language": "python",
   "name": "python3"
  },
  "language_info": {
   "codemirror_mode": {
    "name": "ipython",
    "version": 3
   },
   "file_extension": ".py",
   "mimetype": "text/x-python",
   "name": "python",
   "nbconvert_exporter": "python",
   "pygments_lexer": "ipython3",
   "version": "3.6.1"
  }
 },
 "nbformat": 4,
 "nbformat_minor": 2
}
