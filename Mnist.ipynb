{
 "cells": [
  {
   "cell_type": "code",
   "execution_count": 1,
   "metadata": {},
   "outputs": [],
   "source": [
    "import numpy as np\n",
    "import matplotlib.pyplot as plt\n",
    "import pandas as pd\n",
    "d0 = pd.read_csv('train0.csv')\n"
   ]
  },
  {
   "cell_type": "code",
   "execution_count": 2,
   "metadata": {},
   "outputs": [],
   "source": [
    "d0 = d0.iloc[:,1:]"
   ]
  },
  {
   "cell_type": "code",
   "execution_count": 3,
   "metadata": {},
   "outputs": [
    {
     "data": {
      "text/plain": [
       "(3567, 784)"
      ]
     },
     "execution_count": 3,
     "metadata": {},
     "output_type": "execute_result"
    }
   ],
   "source": [
    "d0.shape"
   ]
  },
  {
   "cell_type": "code",
   "execution_count": 4,
   "metadata": {},
   "outputs": [
    {
     "name": "stderr",
     "output_type": "stream",
     "text": [
      "C:\\Users\\703222761\\Anaconda3\\envs\\py36\\lib\\site-packages\\ipykernel_launcher.py:3: FutureWarning: Method .as_matrix will be removed in a future version. Use .values instead.\n",
      "  This is separate from the ipykernel package so we can avoid doing imports until\n"
     ]
    },
    {
     "data": {
      "image/png": "[encoded data removed]",
      "text/plain": [
       "<Figure size 504x504 with 1 Axes>"
      ]
     },
     "metadata": {
      "needs_background": "light"
     },
     "output_type": "display_data"
    }
   ],
   "source": [
    "plt.figure(figsize=(7,7))\n",
    "idx = 344\n",
    "grid_data = d0.iloc[idx].as_matrix().reshape(28,28)\n",
    "plt.imshow(grid_data,interpolation=\"none\",cmap=\"gray\")\n",
    "plt.show()\n",
    "\n"
   ]
  },
  {
   "cell_type": "code",
   "execution_count": 5,
   "metadata": {},
   "outputs": [],
   "source": [
    "d0['label'] = 0 "
   ]
  },
  {
   "cell_type": "code",
   "execution_count": 6,
   "metadata": {},
   "outputs": [
    {
     "name": "stderr",
     "output_type": "stream",
     "text": [
      "C:\\Users\\703222761\\Anaconda3\\envs\\py36\\lib\\site-packages\\IPython\\core\\interactiveshell.py:3020: DtypeWarning: Columns (0) have mixed types. Specify dtype option on import or set low_memory=False.\n",
      "  interactivity=interactivity, compiler=compiler, result=result)\n"
     ]
    }
   ],
   "source": [
    "d1 = pd.read_csv('train1.csv')\n",
    "d2 = pd.read_csv('train2.csv')\n",
    "d3 = pd.read_csv('train3.csv')\n",
    "d4 = pd.read_csv('train4.csv')\n",
    "d5 = pd.read_csv('train5.csv')\n",
    "d6 = pd.read_csv('train6.csv')\n",
    "d7 = pd.read_csv('train7.csv')\n",
    "d8 = pd.read_csv('train8.csv')\n",
    "d9 = pd.read_csv('train9.csv')\n"
   ]
  },
  {
   "cell_type": "code",
   "execution_count": 7,
   "metadata": {},
   "outputs": [],
   "source": [
    "d1 = d1.iloc[:,1:]\n",
    "d2 = d2.iloc[:,1:]\n",
    "d3 = d3.iloc[:,1:]\n",
    "d4 = d4.iloc[:,1:]\n",
    "d5 = d5.iloc[:,1:]\n",
    "d6 = d6.iloc[:,1:]\n",
    "d7 = d7.iloc[:,1:]\n",
    "d8 = d8.iloc[:,1:]\n",
    "d9 = d9.iloc[:,1:]"
   ]
  },
  {
   "cell_type": "code",
   "execution_count": 8,
   "metadata": {},
   "outputs": [],
   "source": [
    "d1['label'] = 1\n",
    "d2['label'] = 2\n",
    "d3['label'] = 3 \n",
    "d4['label'] = 4 \n",
    "d5['label'] = 5 \n",
    "d6['label'] = 6 \n",
    "d7['label'] = 7 \n",
    "d8['label'] = 8 \n",
    "d9['label'] = 9 "
   ]
  },
  {
   "cell_type": "code",
   "execution_count": 9,
   "metadata": {},
   "outputs": [],
   "source": [
    "##reading test data\n",
    "t0 = pd.read_csv('test0.csv')\n",
    "t1 = pd.read_csv('test1.csv')\n",
    "t2 = pd.read_csv('test2.csv')\n",
    "t3 = pd.read_csv('test3.csv')\n",
    "t4 = pd.read_csv('test4.csv')\n",
    "t5 = pd.read_csv('test5.csv')\n",
    "t6 = pd.read_csv('test6.csv')\n",
    "t7 = pd.read_csv('test7.csv')\n",
    "t8 = pd.read_csv('test8.csv')\n",
    "t9 = pd.read_csv('test9.csv')\n",
    "t0 = t0.iloc[:,1:]\n",
    "t1 = t1.iloc[:,1:]\n",
    "t2 = t2.iloc[:,1:]\n",
    "t3 = t3.iloc[:,1:]\n",
    "t4 = t4.iloc[:,1:]\n",
    "t5 = t5.iloc[:,1:]\n",
    "t6 = t6.iloc[:,1:]\n",
    "t7 = t7.iloc[:,1:]\n",
    "t8 = t8.iloc[:,1:]\n",
    "t9 = t9.iloc[:,1:]\n"
   ]
  },
  {
   "cell_type": "code",
   "execution_count": 10,
   "metadata": {},
   "outputs": [],
   "source": [
    "t1['label'] = 1\n",
    "t2['label'] = 2\n",
    "t3['label'] = 3 \n",
    "t4['label'] = 4 \n",
    "t5['label'] = 5 \n",
    "t6['label'] = 6 \n",
    "t7['label'] = 7 \n",
    "t8['label'] = 8 \n",
    "t9['label'] = 9 "
   ]
  },
  {
   "cell_type": "code",
   "execution_count": 11,
   "metadata": {},
   "outputs": [
    {
     "name": "stderr",
     "output_type": "stream",
     "text": [
      "C:\\Users\\703222761\\Anaconda3\\envs\\py36\\lib\\site-packages\\pandas\\core\\frame.py:6211: FutureWarning: Sorting because non-concatenation axis is not aligned. A future version\n",
      "of pandas will change to not sort by default.\n",
      "\n",
      "To accept the future behavior, pass 'sort=False'.\n",
      "\n",
      "To retain the current behavior and silence the warning, pass 'sort=True'.\n",
      "\n",
      "  sort=sort)\n"
     ]
    }
   ],
   "source": [
    "test_final = t0.append([t1,t2,t3,t4,t5,t6,t7,t8,t9])"
   ]
  },
  {
   "cell_type": "code",
   "execution_count": 12,
   "metadata": {},
   "outputs": [],
   "source": [
    "##concatenating testing data\n",
    "test_final.fillna(0, inplace=True)"
   ]
  },
  {
   "cell_type": "code",
   "execution_count": 13,
   "metadata": {},
   "outputs": [],
   "source": [
    "y_test=test_final.iloc[:,784:]\n",
    "x_test = test_final.iloc[:,:-1]"
   ]
  },
  {
   "cell_type": "code",
   "execution_count": 14,
   "metadata": {},
   "outputs": [],
   "source": [
    "##concatenating training data\n",
    "final = d0.append([d1,d2,d3,d4,d5,d6,d7,d8,d9])"
   ]
  },
  {
   "cell_type": "code",
   "execution_count": 15,
   "metadata": {},
   "outputs": [],
   "source": [
    "final_one = final.iloc[:,:-1]"
   ]
  },
  {
   "cell_type": "code",
   "execution_count": 16,
   "metadata": {},
   "outputs": [],
   "source": [
    "final_label = final.iloc[:,784:]"
   ]
  },
  {
   "cell_type": "code",
   "execution_count": 17,
   "metadata": {},
   "outputs": [],
   "source": [
    "final_one = final.iloc[:,:-1]"
   ]
  },
  {
   "cell_type": "code",
   "execution_count": 18,
   "metadata": {},
   "outputs": [
    {
     "data": {
      "text/plain": [
       "(24190, 1)"
      ]
     },
     "execution_count": 18,
     "metadata": {},
     "output_type": "execute_result"
    }
   ],
   "source": [
    "y_test.shape"
   ]
  },
  {
   "cell_type": "code",
   "execution_count": 19,
   "metadata": {},
   "outputs": [],
   "source": [
    "#final_label\n",
    "#y_test"
   ]
  },
  {
   "cell_type": "code",
   "execution_count": 20,
   "metadata": {},
   "outputs": [],
   "source": [
    "##doing PCA on test sample\n",
    "from sklearn.preprocessing import StandardScaler\n",
    "scaler = StandardScaler()\n",
    "data1 = scaler.fit_transform(x_test)\n",
    "from sklearn.decomposition import PCA\n",
    "pca = PCA(n_components=9)\n",
    "data_two = pca.fit_transform(data1)"
   ]
  },
  {
   "cell_type": "code",
   "execution_count": 183,
   "metadata": {},
   "outputs": [
    {
     "data": {
      "text/plain": [
       "(36470, 9)"
      ]
     },
     "execution_count": 183,
     "metadata": {},
     "output_type": "execute_result"
    }
   ],
   "source": []
  },
  {
   "cell_type": "code",
   "execution_count": 21,
   "metadata": {},
   "outputs": [],
   "source": [
    "final_one.fillna(0, inplace=True)"
   ]
  },
  {
   "cell_type": "code",
   "execution_count": 22,
   "metadata": {},
   "outputs": [],
   "source": [
    "##doing PCA on training sample\n",
    "\n",
    "from sklearn.preprocessing import StandardScaler\n",
    "scaler = StandardScaler()\n",
    "data = scaler.fit_transform(final_one)"
   ]
  },
  {
   "cell_type": "code",
   "execution_count": 23,
   "metadata": {},
   "outputs": [],
   "source": [
    "from sklearn.decomposition import PCA\n",
    "\n",
    "pca = PCA(n_components=9)\n",
    "data_one = pca.fit_transform(data)\n"
   ]
  },
  {
   "cell_type": "code",
   "execution_count": 24,
   "metadata": {},
   "outputs": [],
   "source": [
    "##Diagonal Covariance Matrix\n",
    "\n",
    "from sklearn.mixture import GaussianMixture as mix\n",
    "model = mix(n_components = 10, init_params='kmeans',\n",
    "           n_init = 5, max_iter = 5000, covariance_type = 'diag')\n",
    "# Fit a Gaussian Mixture Model\n",
    "\n"
   ]
  },
  {
   "cell_type": "code",
   "execution_count": 203,
   "metadata": {},
   "outputs": [],
   "source": [
    "fit1 = model.fit(data_one,final_label)"
   ]
  },
  {
   "cell_type": "code",
   "execution_count": 205,
   "metadata": {},
   "outputs": [],
   "source": [
    "y_pred = fit1.predict(data_two)"
   ]
  },
  {
   "cell_type": "code",
   "execution_count": 186,
   "metadata": {},
   "outputs": [],
   "source": [
    "preds = model.predict(data_one)"
   ]
  },
  {
   "cell_type": "code",
   "execution_count": 206,
   "metadata": {},
   "outputs": [
    {
     "data": {
      "text/plain": [
       "array([7, 7, 2, ..., 8, 8, 8], dtype=int64)"
      ]
     },
     "execution_count": 206,
     "metadata": {},
     "output_type": "execute_result"
    }
   ],
   "source": [
    "y_pred"
   ]
  },
  {
   "cell_type": "code",
   "execution_count": 208,
   "metadata": {},
   "outputs": [
    {
     "data": {
      "text/plain": [
       "0.09892517569243489"
      ]
     },
     "execution_count": 208,
     "metadata": {},
     "output_type": "execute_result"
    }
   ],
   "source": [
    "from sklearn.metrics import accuracy_score\n",
    "\n",
    "accuracy_score(y_test, y_pred, normalize=True, sample_weight=None)"
   ]
  },
  {
   "cell_type": "code",
   "execution_count": 209,
   "metadata": {},
   "outputs": [],
   "source": [
    "##Full Covariance Matrix\n",
    "\n",
    "from sklearn.mixture import GaussianMixture as mix\n",
    "model = mix(n_components = 10, init_params='kmeans',\n",
    "           n_init = 5, max_iter = 5000, covariance_type = 'full')\n",
    "# Fit a Gaussian Mixture Model\n",
    "fit2 = model.fit(data_one,final_label)"
   ]
  },
  {
   "cell_type": "code",
   "execution_count": 210,
   "metadata": {},
   "outputs": [],
   "source": [
    "y_pred_full = fit2.predict(data_two)"
   ]
  },
  {
   "cell_type": "code",
   "execution_count": 211,
   "metadata": {},
   "outputs": [
    {
     "data": {
      "text/plain": [
       "0.14452252997106244"
      ]
     },
     "execution_count": 211,
     "metadata": {},
     "output_type": "execute_result"
    }
   ],
   "source": [
    "from sklearn.metrics import accuracy_score\n",
    "\n",
    "accuracy_score(y_test, y_pred_full, normalize=True, sample_weight=None)"
   ]
  },
  {
   "cell_type": "code",
   "execution_count": null,
   "metadata": {},
   "outputs": [],
   "source": []
  },
  {
   "cell_type": "code",
   "execution_count": null,
   "metadata": {},
   "outputs": [],
   "source": []
  },
  {
   "cell_type": "code",
   "execution_count": 33,
   "metadata": {},
   "outputs": [],
   "source": [
    "y = final.iloc[:,784:]"
   ]
  },
  {
   "cell_type": "code",
   "execution_count": 34,
   "metadata": {},
   "outputs": [
    {
     "name": "stderr",
     "output_type": "stream",
     "text": [
      "C:\\Users\\703222761\\Anaconda3\\envs\\py36\\lib\\site-packages\\sklearn\\utils\\validation.py:761: DataConversionWarning: A column-vector y was passed when a 1d array was expected. Please change the shape of y to (n_samples, ), for example using ravel().\n",
      "  y = column_or_1d(y, warn=True)\n",
      "C:\\Users\\703222761\\Anaconda3\\envs\\py36\\lib\\site-packages\\sklearn\\discriminant_analysis.py:388: UserWarning: Variables are collinear.\n",
      "  warnings.warn(\"Variables are collinear.\")\n"
     ]
    }
   ],
   "source": [
    "##LDA on training - D2 dataset\n",
    "from sklearn.discriminant_analysis import LinearDiscriminantAnalysis\n",
    "\n",
    "lda = LinearDiscriminantAnalysis(n_components=9)\n",
    "X_r2 = lda.fit(final_one, y).transform(final_one)"
   ]
  },
  {
   "cell_type": "code",
   "execution_count": 35,
   "metadata": {},
   "outputs": [],
   "source": [
    "X_r2 = pd.DataFrame(X_r2)"
   ]
  },
  {
   "cell_type": "code",
   "execution_count": 36,
   "metadata": {},
   "outputs": [
    {
     "data": {
      "text/plain": [
       "(36470, 9)"
      ]
     },
     "execution_count": 36,
     "metadata": {},
     "output_type": "execute_result"
    }
   ],
   "source": [
    "X_r2.shape"
   ]
  },
  {
   "cell_type": "code",
   "execution_count": 37,
   "metadata": {},
   "outputs": [
    {
     "name": "stderr",
     "output_type": "stream",
     "text": [
      "C:\\Users\\703222761\\Anaconda3\\envs\\py36\\lib\\site-packages\\sklearn\\utils\\validation.py:761: DataConversionWarning: A column-vector y was passed when a 1d array was expected. Please change the shape of y to (n_samples, ), for example using ravel().\n",
      "  y = column_or_1d(y, warn=True)\n",
      "C:\\Users\\703222761\\Anaconda3\\envs\\py36\\lib\\site-packages\\sklearn\\discriminant_analysis.py:388: UserWarning: Variables are collinear.\n",
      "  warnings.warn(\"Variables are collinear.\")\n"
     ]
    }
   ],
   "source": [
    "##LDA on testing data\n",
    "from sklearn.discriminant_analysis import LinearDiscriminantAnalysis\n",
    "\n",
    "lda = LinearDiscriminantAnalysis(n_components=9)\n",
    "X_test = lda.fit(x_test, y_test).transform(x_test)"
   ]
  },
  {
   "cell_type": "code",
   "execution_count": 38,
   "metadata": {},
   "outputs": [],
   "source": [
    "X_test = pd.DataFrame(X_test)"
   ]
  },
  {
   "cell_type": "code",
   "execution_count": 212,
   "metadata": {},
   "outputs": [],
   "source": [
    "##Diagonal Covariance Matrix\n",
    "\n",
    "from sklearn.mixture import GaussianMixture as mix\n",
    "model = mix(n_components = 10, init_params='kmeans',\n",
    "           n_init = 5, max_iter = 5000, covariance_type = 'diag')\n",
    "# Fit a Gaussian Mixture Model\n",
    "fit3 = model.fit(X_r2,final_label)\n"
   ]
  },
  {
   "cell_type": "code",
   "execution_count": 213,
   "metadata": {},
   "outputs": [],
   "source": [
    "y_pred_lda_diag = fit3.predict(X_test)"
   ]
  },
  {
   "cell_type": "code",
   "execution_count": 214,
   "metadata": {},
   "outputs": [
    {
     "data": {
      "text/plain": [
       "0.1090533278214138"
      ]
     },
     "execution_count": 214,
     "metadata": {},
     "output_type": "execute_result"
    }
   ],
   "source": [
    "from sklearn.metrics import accuracy_score\n",
    "\n",
    "accuracy_score(y_test, y_pred_lda_diag, normalize=True, sample_weight=None)"
   ]
  },
  {
   "cell_type": "code",
   "execution_count": null,
   "metadata": {},
   "outputs": [],
   "source": []
  },
  {
   "cell_type": "code",
   "execution_count": 215,
   "metadata": {},
   "outputs": [],
   "source": [
    "##Full Covariance Matrix\n",
    "from sklearn.mixture import GaussianMixture as mix\n",
    "model = mix(n_components = 10, init_params='kmeans',\n",
    "           n_init = 5, max_iter = 5000, covariance_type = 'full')\n",
    "# Fit a Gaussian Mixture Model\n",
    "fit4 = model.fit(X_r2,final_label)"
   ]
  },
  {
   "cell_type": "code",
   "execution_count": 216,
   "metadata": {},
   "outputs": [],
   "source": [
    "y_pred_lda_full = fit4.predict(X_test)"
   ]
  },
  {
   "cell_type": "code",
   "execution_count": 217,
   "metadata": {},
   "outputs": [
    {
     "data": {
      "text/plain": [
       "0.10892930963207938"
      ]
     },
     "execution_count": 217,
     "metadata": {},
     "output_type": "execute_result"
    }
   ],
   "source": [
    "from sklearn.metrics import accuracy_score\n",
    "\n",
    "accuracy_score(y_test, y_pred_lda_full, normalize=True, sample_weight=None)"
   ]
  },
  {
   "cell_type": "code",
   "execution_count": 239,
   "metadata": {},
   "outputs": [
    {
     "name": "stdout",
     "output_type": "stream",
     "text": [
      "Predictions form the classifier:\n",
      "[0 0 0 ... 7 9 7]\n",
      "Target values:\n",
      "      label\n",
      "0       0.0\n",
      "1       0.0\n",
      "2       0.0\n",
      "3       0.0\n",
      "4       0.0\n",
      "5       0.0\n",
      "6       0.0\n",
      "7       0.0\n",
      "8       0.0\n",
      "9       0.0\n",
      "10      0.0\n",
      "11      0.0\n",
      "12      0.0\n",
      "13      0.0\n",
      "14      0.0\n",
      "15      0.0\n",
      "16      0.0\n",
      "17      0.0\n",
      "18      0.0\n",
      "19      0.0\n",
      "20      0.0\n",
      "21      0.0\n",
      "22      0.0\n",
      "23      0.0\n",
      "24      0.0\n",
      "25      0.0\n",
      "26      0.0\n",
      "27      0.0\n",
      "28      0.0\n",
      "29      0.0\n",
      "...     ...\n",
      "2340    9.0\n",
      "2341    9.0\n",
      "2342    9.0\n",
      "2343    9.0\n",
      "2344    9.0\n",
      "2345    9.0\n",
      "2346    9.0\n",
      "2347    9.0\n",
      "2348    9.0\n",
      "2349    9.0\n",
      "2350    9.0\n",
      "2351    9.0\n",
      "2352    9.0\n",
      "2353    9.0\n",
      "2354    9.0\n",
      "2355    9.0\n",
      "2356    9.0\n",
      "2357    9.0\n",
      "2358    9.0\n",
      "2359    9.0\n",
      "2360    9.0\n",
      "2361    9.0\n",
      "2362    9.0\n",
      "2363    9.0\n",
      "2364    9.0\n",
      "2365    9.0\n",
      "2366    9.0\n",
      "2367    9.0\n",
      "2368    9.0\n",
      "2369    9.0\n",
      "\n",
      "[24190 rows x 1 columns]\n"
     ]
    }
   ],
   "source": [
    "# Create and fit a nearest-neighbor classifier on D1 dataset\n",
    "from sklearn.neighbors import KNeighborsClassifier\n",
    "from sklearn.metrics import accuracy_score\n",
    "score_train_KN = []\n",
    "score_test_KN = []\n",
    "factor = []\n",
    "\n",
    "for i in range(1,18,2):\n",
    "    knn = KNeighborsClassifier(algorithm='auto', \n",
    "                     leaf_size=30, \n",
    "                     metric='minkowski',\n",
    "                     metric_params=None, \n",
    "                     n_jobs=1, \n",
    "                     n_neighbors=i, \n",
    "                     p=2,\n",
    "                     weights='uniform')\n",
    "    knn.fit(data_one,np.ravel(final_label))\n",
    "    factor.append(i)\n",
    "    score_train_KN.append(accuracy_score(np.ravel(final_label),knn.predict(data_one)))\n",
    "    score_test_KN.append(accuracy_score(y_test,knn.predict(data_two)))\n",
    "\n",
    "\n",
    "print(\"Predictions form the classifier:\")\n",
    "print(knn.predict(data_two))\n",
    "print(\"Target values:\")\n",
    "print(y_test)"
   ]
  },
  {
   "cell_type": "code",
   "execution_count": 240,
   "metadata": {},
   "outputs": [],
   "source": [
    "df_knn_d1 = pd.DataFrame()\n",
    "df_knn_d1['Training_accuracy'] = score_train_KN\n",
    "df_knn_d1['Test_accuracy'] = score_test_KN\n",
    "df_knn_d1['K'] =factor"
   ]
  },
  {
   "cell_type": "code",
   "execution_count": 241,
   "metadata": {},
   "outputs": [
    {
     "data": {
      "text/html": [
       "<div>\n",
       "<style scoped>\n",
       "    .dataframe tbody tr th:only-of-type {\n",
       "        vertical-align: middle;\n",
       "    }\n",
       "\n",
       "    .dataframe tbody tr th {\n",
       "        vertical-align: top;\n",
       "    }\n",
       "\n",
       "    .dataframe thead th {\n",
       "        text-align: right;\n",
       "    }\n",
       "</style>\n",
       "<table border=\"1\" class=\"dataframe\">\n",
       "  <thead>\n",
       "    <tr style=\"text-align: right;\">\n",
       "      <th></th>\n",
       "      <th>Training_accuracy</th>\n",
       "      <th>Test_accuracy</th>\n",
       "      <th>K</th>\n",
       "    </tr>\n",
       "  </thead>\n",
       "  <tbody>\n",
       "    <tr>\n",
       "      <th>0</th>\n",
       "      <td>0.990622</td>\n",
       "      <td>0.856800</td>\n",
       "      <td>1</td>\n",
       "    </tr>\n",
       "    <tr>\n",
       "      <th>1</th>\n",
       "      <td>0.932218</td>\n",
       "      <td>0.873956</td>\n",
       "      <td>3</td>\n",
       "    </tr>\n",
       "    <tr>\n",
       "      <th>2</th>\n",
       "      <td>0.920071</td>\n",
       "      <td>0.878710</td>\n",
       "      <td>5</td>\n",
       "    </tr>\n",
       "    <tr>\n",
       "      <th>3</th>\n",
       "      <td>0.911873</td>\n",
       "      <td>0.882183</td>\n",
       "      <td>7</td>\n",
       "    </tr>\n",
       "    <tr>\n",
       "      <th>4</th>\n",
       "      <td>0.909213</td>\n",
       "      <td>0.882100</td>\n",
       "      <td>9</td>\n",
       "    </tr>\n",
       "    <tr>\n",
       "      <th>5</th>\n",
       "      <td>0.905402</td>\n",
       "      <td>0.883919</td>\n",
       "      <td>11</td>\n",
       "    </tr>\n",
       "    <tr>\n",
       "      <th>6</th>\n",
       "      <td>0.902139</td>\n",
       "      <td>0.883175</td>\n",
       "      <td>13</td>\n",
       "    </tr>\n",
       "    <tr>\n",
       "      <th>7</th>\n",
       "      <td>0.899973</td>\n",
       "      <td>0.881935</td>\n",
       "      <td>15</td>\n",
       "    </tr>\n",
       "    <tr>\n",
       "      <th>8</th>\n",
       "      <td>0.897889</td>\n",
       "      <td>0.882431</td>\n",
       "      <td>17</td>\n",
       "    </tr>\n",
       "  </tbody>\n",
       "</table>\n",
       "</div>"
      ],
      "text/plain": [
       "   Training_accuracy  Test_accuracy   K\n",
       "0           0.990622       0.856800   1\n",
       "1           0.932218       0.873956   3\n",
       "2           0.920071       0.878710   5\n",
       "3           0.911873       0.882183   7\n",
       "4           0.909213       0.882100   9\n",
       "5           0.905402       0.883919  11\n",
       "6           0.902139       0.883175  13\n",
       "7           0.899973       0.881935  15\n",
       "8           0.897889       0.882431  17"
      ]
     },
     "execution_count": 241,
     "metadata": {},
     "output_type": "execute_result"
    }
   ],
   "source": [
    "df_knn_d1"
   ]
  },
  {
   "cell_type": "code",
   "execution_count": 242,
   "metadata": {},
   "outputs": [
    {
     "data": {
      "text/plain": [
       "<matplotlib.legend.Legend at 0x27262eff7f0>"
      ]
     },
     "execution_count": 242,
     "metadata": {},
     "output_type": "execute_result"
    },
    {
     "data": {
      "image/png": "[encoded data removed]",
      "text/plain": [
       "<Figure size 432x288 with 1 Axes>"
      ]
     },
     "metadata": {},
     "output_type": "display_data"
    }
   ],
   "source": [
    "plt.plot( 'K', 'Training_accuracy', data=df_knn_d1 , markerfacecolor='blue', markersize=6, color='green', linewidth=4)\n",
    "plt.plot( 'K', 'Test_accuracy', data=df_knn_d1, marker='', color='olive', linewidth=4, linestyle='dashed')\n",
    "plt.legend()"
   ]
  },
  {
   "cell_type": "code",
   "execution_count": null,
   "metadata": {},
   "outputs": [],
   "source": []
  },
  {
   "cell_type": "code",
   "execution_count": null,
   "metadata": {},
   "outputs": [],
   "source": []
  },
  {
   "cell_type": "code",
   "execution_count": 219,
   "metadata": {},
   "outputs": [
    {
     "name": "stdout",
     "output_type": "stream",
     "text": [
      "Predictions form the classifier:\n",
      "[0 0 0 ... 7 9 9]\n",
      "Target values:\n",
      "      label\n",
      "0       0.0\n",
      "1       0.0\n",
      "2       0.0\n",
      "3       0.0\n",
      "4       0.0\n",
      "5       0.0\n",
      "6       0.0\n",
      "7       0.0\n",
      "8       0.0\n",
      "9       0.0\n",
      "10      0.0\n",
      "11      0.0\n",
      "12      0.0\n",
      "13      0.0\n",
      "14      0.0\n",
      "15      0.0\n",
      "16      0.0\n",
      "17      0.0\n",
      "18      0.0\n",
      "19      0.0\n",
      "20      0.0\n",
      "21      0.0\n",
      "22      0.0\n",
      "23      0.0\n",
      "24      0.0\n",
      "25      0.0\n",
      "26      0.0\n",
      "27      0.0\n",
      "28      0.0\n",
      "29      0.0\n",
      "...     ...\n",
      "2340    9.0\n",
      "2341    9.0\n",
      "2342    9.0\n",
      "2343    9.0\n",
      "2344    9.0\n",
      "2345    9.0\n",
      "2346    9.0\n",
      "2347    9.0\n",
      "2348    9.0\n",
      "2349    9.0\n",
      "2350    9.0\n",
      "2351    9.0\n",
      "2352    9.0\n",
      "2353    9.0\n",
      "2354    9.0\n",
      "2355    9.0\n",
      "2356    9.0\n",
      "2357    9.0\n",
      "2358    9.0\n",
      "2359    9.0\n",
      "2360    9.0\n",
      "2361    9.0\n",
      "2362    9.0\n",
      "2363    9.0\n",
      "2364    9.0\n",
      "2365    9.0\n",
      "2366    9.0\n",
      "2367    9.0\n",
      "2368    9.0\n",
      "2369    9.0\n",
      "\n",
      "[24190 rows x 1 columns]\n"
     ]
    }
   ],
   "source": [
    "# Create and fit a nearest-neighbor classifier on D2 dataset\n",
    "from sklearn.neighbors import KNeighborsClassifier\n",
    "from sklearn.metrics import accuracy_score\n",
    "score_train_KN = []\n",
    "score_test_KN = []\n",
    "factor = []\n",
    "\n",
    "for i in range(1,18,2):\n",
    "    knn = KNeighborsClassifier(algorithm='auto', \n",
    "                     leaf_size=30, \n",
    "                     metric='minkowski',\n",
    "                     metric_params=None, \n",
    "                     n_jobs=1, \n",
    "                     n_neighbors=i, \n",
    "                     p=2,\n",
    "                     weights='uniform')\n",
    "    knn.fit(X_r2,np.ravel(final_label))\n",
    "    factor.append(i)\n",
    "    score_train_KN.append(accuracy_score(np.ravel(final_label),knn.predict(X_r2)))\n",
    "    score_test_KN.append(accuracy_score(y_test,knn.predict(X_test)))\n",
    "\n",
    "\n",
    "print(\"Predictions form the classifier:\")\n",
    "print(knn.predict(X_test))\n",
    "print(\"Target values:\")\n",
    "print(y_test)"
   ]
  },
  {
   "cell_type": "code",
   "execution_count": 137,
   "metadata": {},
   "outputs": [
    {
     "name": "stdout",
     "output_type": "stream",
     "text": [
      "[0 0 0 ... 7 9 9]\n"
     ]
    }
   ],
   "source": [
    "print(knn.predict(X_test))"
   ]
  },
  {
   "cell_type": "code",
   "execution_count": 221,
   "metadata": {},
   "outputs": [],
   "source": [
    "df_knn_d2 = pd.DataFrame()\n",
    "df_knn_d2['Training_accuracy'] = score_train_KN\n",
    "df_knn_d2['Test_accuracy'] = score_test_KN\n",
    "df_knn_d2['K'] =factor"
   ]
  },
  {
   "cell_type": "code",
   "execution_count": 222,
   "metadata": {
    "scrolled": false
   },
   "outputs": [
    {
     "data": {
      "text/html": [
       "<div>\n",
       "<style scoped>\n",
       "    .dataframe tbody tr th:only-of-type {\n",
       "        vertical-align: middle;\n",
       "    }\n",
       "\n",
       "    .dataframe tbody tr th {\n",
       "        vertical-align: top;\n",
       "    }\n",
       "\n",
       "    .dataframe thead th {\n",
       "        text-align: right;\n",
       "    }\n",
       "</style>\n",
       "<table border=\"1\" class=\"dataframe\">\n",
       "  <thead>\n",
       "    <tr style=\"text-align: right;\">\n",
       "      <th></th>\n",
       "      <th>Training_accuracy</th>\n",
       "      <th>Test_accuracy</th>\n",
       "      <th>K</th>\n",
       "    </tr>\n",
       "  </thead>\n",
       "  <tbody>\n",
       "    <tr>\n",
       "      <th>0</th>\n",
       "      <td>0.997560</td>\n",
       "      <td>0.896610</td>\n",
       "      <td>1</td>\n",
       "    </tr>\n",
       "    <tr>\n",
       "      <th>1</th>\n",
       "      <td>0.945901</td>\n",
       "      <td>0.910376</td>\n",
       "      <td>3</td>\n",
       "    </tr>\n",
       "    <tr>\n",
       "      <th>2</th>\n",
       "      <td>0.936249</td>\n",
       "      <td>0.915916</td>\n",
       "      <td>5</td>\n",
       "    </tr>\n",
       "    <tr>\n",
       "      <th>3</th>\n",
       "      <td>0.931971</td>\n",
       "      <td>0.915668</td>\n",
       "      <td>7</td>\n",
       "    </tr>\n",
       "    <tr>\n",
       "      <th>4</th>\n",
       "      <td>0.929065</td>\n",
       "      <td>0.916164</td>\n",
       "      <td>9</td>\n",
       "    </tr>\n",
       "    <tr>\n",
       "      <th>5</th>\n",
       "      <td>0.927584</td>\n",
       "      <td>0.915668</td>\n",
       "      <td>11</td>\n",
       "    </tr>\n",
       "    <tr>\n",
       "      <th>6</th>\n",
       "      <td>0.925583</td>\n",
       "      <td>0.916288</td>\n",
       "      <td>13</td>\n",
       "    </tr>\n",
       "    <tr>\n",
       "      <th>7</th>\n",
       "      <td>0.923910</td>\n",
       "      <td>0.916164</td>\n",
       "      <td>15</td>\n",
       "    </tr>\n",
       "    <tr>\n",
       "      <th>8</th>\n",
       "      <td>0.922896</td>\n",
       "      <td>0.915750</td>\n",
       "      <td>17</td>\n",
       "    </tr>\n",
       "  </tbody>\n",
       "</table>\n",
       "</div>"
      ],
      "text/plain": [
       "   Training_accuracy  Test_accuracy   K\n",
       "0           0.997560       0.896610   1\n",
       "1           0.945901       0.910376   3\n",
       "2           0.936249       0.915916   5\n",
       "3           0.931971       0.915668   7\n",
       "4           0.929065       0.916164   9\n",
       "5           0.927584       0.915668  11\n",
       "6           0.925583       0.916288  13\n",
       "7           0.923910       0.916164  15\n",
       "8           0.922896       0.915750  17"
      ]
     },
     "execution_count": 222,
     "metadata": {},
     "output_type": "execute_result"
    }
   ],
   "source": [
    "df_knn_d2"
   ]
  },
  {
   "cell_type": "code",
   "execution_count": 226,
   "metadata": {},
   "outputs": [],
   "source": [
    "import seaborn as sns; sns.set()\n",
    "import matplotlib.pyplot as plt\n"
   ]
  },
  {
   "cell_type": "code",
   "execution_count": 238,
   "metadata": {
    "scrolled": true
   },
   "outputs": [
    {
     "data": {
      "text/plain": [
       "<matplotlib.legend.Legend at 0x27258a2c438>"
      ]
     },
     "execution_count": 238,
     "metadata": {},
     "output_type": "execute_result"
    },
    {
     "data": {
      "image/png": "[encoded data removed]",
      "text/plain": [
       "<Figure size 432x288 with 1 Axes>"
      ]
     },
     "metadata": {},
     "output_type": "display_data"
    }
   ],
   "source": [
    "plt.plot( 'K', 'Training_accuracy', data=df_knn_d2 , markerfacecolor='blue', markersize=6, color='green', linewidth=4)\n",
    "plt.plot( 'K', 'Test_accuracy', data=df_knn_d2, marker='', color='olive', linewidth=4, linestyle='dashed')\n",
    "plt.legend()"
   ]
  },
  {
   "cell_type": "code",
   "execution_count": null,
   "metadata": {},
   "outputs": [],
   "source": [
    "##Parzen window classifier\n"
   ]
  },
  {
   "cell_type": "code",
   "execution_count": 27,
   "metadata": {},
   "outputs": [],
   "source": [
    "from sklearn.neighbors.kde import KernelDensity"
   ]
  },
  {
   "cell_type": "code",
   "execution_count": 28,
   "metadata": {},
   "outputs": [],
   "source": [
    "kde_d1 = KernelDensity(kernel='gaussian', bandwidth=0.2).fit(data_one)\n"
   ]
  },
  {
   "cell_type": "code",
   "execution_count": 29,
   "metadata": {},
   "outputs": [
    {
     "data": {
      "text/plain": [
       "KernelDensity(algorithm='auto', atol=0, bandwidth=0.2, breadth_first=True,\n",
       "       kernel='gaussian', leaf_size=40, metric='euclidean',\n",
       "       metric_params=None, rtol=0)"
      ]
     },
     "execution_count": 29,
     "metadata": {},
     "output_type": "execute_result"
    }
   ],
   "source": [
    "kde_d1"
   ]
  },
  {
   "cell_type": "code",
   "execution_count": 48,
   "metadata": {},
   "outputs": [
    {
     "name": "stdout",
     "output_type": "stream",
     "text": [
      "Predictions form the classifier:\n",
      "-592860.0207019402\n"
     ]
    }
   ],
   "source": [
    "# Create and fit a parzen windows classifier on D1 dataset\n",
    "\n",
    "score_train_PW = []\n",
    "score_test_PW = []\n",
    "factor = [0.1,0.2,0.3,0.4,0.5,0.6,0.7,0.8,0.9,1.0,1.1,1.2,1.3,1.4,1.5,1.6,1.7,1.8,1.9,2.0,2.1,2.2,2.3,2.4,2.5,2.6,2.7,2.8,2.9,3.0]\n",
    "\n",
    "for i in factor:\n",
    "    kde_d1 =  KernelDensity(kernel='gaussian', bandwidth= i)\n",
    "    kde_d1.fit(data_one,final_label)\n",
    "    score_train_PW.append(kde_d1.score(data_one))\n",
    "    score_test_PW.append(kde_d1.score(data_two))\n",
    "\n",
    "print(\"Predictions form the classifier:\")\n",
    "print(kde_d1.score(data_two))"
   ]
  },
  {
   "cell_type": "code",
   "execution_count": 51,
   "metadata": {},
   "outputs": [],
   "source": [
    "df_PW_d1 = pd.DataFrame()\n",
    "df_PW_d1['Training_accuracy'] = score_train_PW\n",
    "df_PW_d1['Test_accuracy'] = score_test_PW\n",
    "df_PW_d1['sigma'] = factor"
   ]
  },
  {
   "cell_type": "code",
   "execution_count": 52,
   "metadata": {},
   "outputs": [
    {
     "data": {
      "text/plain": [
       "<matplotlib.legend.Legend at 0x1f10b3d1b00>"
      ]
     },
     "execution_count": 52,
     "metadata": {},
     "output_type": "execute_result"
    },
    {
     "data": {
      "image/png": "[encoded data removed]",
      "text/plain": [
       "<Figure size 432x288 with 1 Axes>"
      ]
     },
     "metadata": {
      "needs_background": "light"
     },
     "output_type": "display_data"
    }
   ],
   "source": [
    "plt.plot( 'sigma', 'Training_accuracy', data=df_PW_d1 , markerfacecolor='blue', markersize=6, color='green', linewidth=4)\n",
    "plt.plot( 'sigma', 'Test_accuracy', data=df_PW_d1, marker='', color='olive', linewidth=4, linestyle='dashed')\n",
    "plt.legend()"
   ]
  },
  {
   "cell_type": "code",
   "execution_count": 53,
   "metadata": {},
   "outputs": [
    {
     "name": "stdout",
     "output_type": "stream",
     "text": [
      "Predictions form the classifier:\n",
      "-489236.33602445683\n"
     ]
    }
   ],
   "source": [
    "# Create and fit a parzen window classifier on D2 dataset\n",
    "\n",
    "score_train_PW = []\n",
    "score_test_PW = []\n",
    "factor = [0.1,0.2,0.3,0.4,0.5,0.6,0.7,0.8,0.9,1.0,1.1,1.2,1.3,1.4,1.5,1.6,1.7,1.8,1.9,2.0,2.1,2.2,2.3,2.4,2.5,2.6,2.7,2.8,2.9,3.0]\n",
    "\n",
    "for i in factor:\n",
    "    kde_d2 =  KernelDensity(kernel='gaussian', bandwidth= i)\n",
    "    kde_d2.fit(X_r2,final_label)\n",
    "    score_train_PW.append(kde_d1.score(X_r2))\n",
    "    score_test_PW.append(kde_d1.score(X_test))\n",
    "\n",
    "print(\"Predictions form the classifier:\")\n",
    "print(kde_d2.score(X_test))"
   ]
  },
  {
   "cell_type": "code",
   "execution_count": 54,
   "metadata": {},
   "outputs": [],
   "source": [
    "df_PW_d2 = pd.DataFrame()\n",
    "df_PW_d2['Training_accuracy'] = score_train_PW\n",
    "df_PW_d2['Test_accuracy'] = score_test_PW\n",
    "df_PW_d2['sigma'] =factor"
   ]
  },
  {
   "cell_type": "code",
   "execution_count": 56,
   "metadata": {},
   "outputs": [
    {
     "data": {
      "text/plain": [
       "<matplotlib.legend.Legend at 0x1f10b456ba8>"
      ]
     },
     "execution_count": 56,
     "metadata": {},
     "output_type": "execute_result"
    },
    {
     "data": {
      "image/png": "[encoded data removed]",
      "text/plain": [
       "<Figure size 432x288 with 1 Axes>"
      ]
     },
     "metadata": {
      "needs_background": "light"
     },
     "output_type": "display_data"
    }
   ],
   "source": [
    "plt.plot( 'sigma', 'Training_accuracy', data=df_PW_d2 , markerfacecolor='blue', markersize=6, color='green', linewidth=4)\n",
    "plt.plot( 'sigma', 'Test_accuracy', data=df_PW_d2, marker='', color='olive', linewidth=4, linestyle='dashed')\n",
    "plt.legend()"
   ]
  },
  {
   "cell_type": "code",
   "execution_count": null,
   "metadata": {},
   "outputs": [],
   "source": []
  }
 ],
 "metadata": {
  "kernelspec": {
   "display_name": "Python 3",
   "language": "python",
   "name": "python3"
  },
  "language_info": {
   "codemirror_mode": {
    "name": "ipython",
    "version": 3
   },
   "file_extension": ".py",
   "mimetype": "text/x-python",
   "name": "python",
   "nbconvert_exporter": "python",
   "pygments_lexer": "ipython3",
   "version": "3.6.6"
  }
 },
 "nbformat": 4,
 "nbformat_minor": 2
}
