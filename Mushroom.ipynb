{
 "cells": [
  {
   "cell_type": "code",
   "execution_count": 3,
   "metadata": {},
   "outputs": [],
   "source": [
    "\n",
    "# Run this program on your local python \n",
    "# interpreter, provided you have installed \n",
    "# the required libraries. \n",
    "  \n",
    "# Importing the required packages \n",
    "import numpy as np \n",
    "import pandas as pd \n",
    "from sklearn.metrics import confusion_matrix \n",
    "#from sklearn.cross_validation import train_test_split \n",
    "from sklearn.tree import DecisionTreeClassifier \n",
    "from sklearn.metrics import accuracy_score \n",
    "from sklearn.metrics import classification_report \n",
    "\n",
    "mushroom_train = pd.read_csv('train.csv')"
   ]
  },
  {
   "cell_type": "code",
   "execution_count": 4,
   "metadata": {},
   "outputs": [
    {
     "data": {
      "text/plain": [
       "(4907, 24)"
      ]
     },
     "execution_count": 4,
     "metadata": {},
     "output_type": "execute_result"
    }
   ],
   "source": [
    "##mushroom_train = pd.read_csv('train.csv')\n",
    "mushroom_train.shape"
   ]
  },
  {
   "cell_type": "code",
   "execution_count": 6,
   "metadata": {},
   "outputs": [
    {
     "data": {
      "text/html": [
       "<div>\n",
       "<style scoped>\n",
       "    .dataframe tbody tr th:only-of-type {\n",
       "        vertical-align: middle;\n",
       "    }\n",
       "\n",
       "    .dataframe tbody tr th {\n",
       "        vertical-align: top;\n",
       "    }\n",
       "\n",
       "    .dataframe thead th {\n",
       "        text-align: right;\n",
       "    }\n",
       "</style>\n",
       "<table border=\"1\" class=\"dataframe\">\n",
       "  <thead>\n",
       "    <tr style=\"text-align: right;\">\n",
       "      <th></th>\n",
       "      <th>Unnamed: 0</th>\n",
       "      <th>V1</th>\n",
       "      <th>V2</th>\n",
       "      <th>V3</th>\n",
       "      <th>V4</th>\n",
       "      <th>V5</th>\n",
       "      <th>V6</th>\n",
       "      <th>V7</th>\n",
       "      <th>V8</th>\n",
       "      <th>V9</th>\n",
       "      <th>...</th>\n",
       "      <th>V14</th>\n",
       "      <th>V15</th>\n",
       "      <th>V16</th>\n",
       "      <th>V17</th>\n",
       "      <th>V18</th>\n",
       "      <th>V19</th>\n",
       "      <th>V20</th>\n",
       "      <th>V21</th>\n",
       "      <th>V22</th>\n",
       "      <th>V23</th>\n",
       "    </tr>\n",
       "  </thead>\n",
       "  <tbody>\n",
       "    <tr>\n",
       "      <th>0</th>\n",
       "      <td>1</td>\n",
       "      <td>p</td>\n",
       "      <td>x</td>\n",
       "      <td>s</td>\n",
       "      <td>n</td>\n",
       "      <td>t</td>\n",
       "      <td>p</td>\n",
       "      <td>f</td>\n",
       "      <td>c</td>\n",
       "      <td>n</td>\n",
       "      <td>...</td>\n",
       "      <td>s</td>\n",
       "      <td>w</td>\n",
       "      <td>w</td>\n",
       "      <td>p</td>\n",
       "      <td>w</td>\n",
       "      <td>o</td>\n",
       "      <td>p</td>\n",
       "      <td>k</td>\n",
       "      <td>s</td>\n",
       "      <td>u</td>\n",
       "    </tr>\n",
       "    <tr>\n",
       "      <th>1</th>\n",
       "      <td>2</td>\n",
       "      <td>e</td>\n",
       "      <td>x</td>\n",
       "      <td>s</td>\n",
       "      <td>y</td>\n",
       "      <td>t</td>\n",
       "      <td>a</td>\n",
       "      <td>f</td>\n",
       "      <td>c</td>\n",
       "      <td>b</td>\n",
       "      <td>...</td>\n",
       "      <td>s</td>\n",
       "      <td>w</td>\n",
       "      <td>w</td>\n",
       "      <td>p</td>\n",
       "      <td>w</td>\n",
       "      <td>o</td>\n",
       "      <td>p</td>\n",
       "      <td>n</td>\n",
       "      <td>n</td>\n",
       "      <td>g</td>\n",
       "    </tr>\n",
       "    <tr>\n",
       "      <th>2</th>\n",
       "      <td>5</td>\n",
       "      <td>e</td>\n",
       "      <td>x</td>\n",
       "      <td>s</td>\n",
       "      <td>g</td>\n",
       "      <td>f</td>\n",
       "      <td>n</td>\n",
       "      <td>f</td>\n",
       "      <td>w</td>\n",
       "      <td>b</td>\n",
       "      <td>...</td>\n",
       "      <td>s</td>\n",
       "      <td>w</td>\n",
       "      <td>w</td>\n",
       "      <td>p</td>\n",
       "      <td>w</td>\n",
       "      <td>o</td>\n",
       "      <td>e</td>\n",
       "      <td>n</td>\n",
       "      <td>a</td>\n",
       "      <td>g</td>\n",
       "    </tr>\n",
       "    <tr>\n",
       "      <th>3</th>\n",
       "      <td>9</td>\n",
       "      <td>p</td>\n",
       "      <td>x</td>\n",
       "      <td>y</td>\n",
       "      <td>w</td>\n",
       "      <td>t</td>\n",
       "      <td>p</td>\n",
       "      <td>f</td>\n",
       "      <td>c</td>\n",
       "      <td>n</td>\n",
       "      <td>...</td>\n",
       "      <td>s</td>\n",
       "      <td>w</td>\n",
       "      <td>w</td>\n",
       "      <td>p</td>\n",
       "      <td>w</td>\n",
       "      <td>o</td>\n",
       "      <td>p</td>\n",
       "      <td>k</td>\n",
       "      <td>v</td>\n",
       "      <td>g</td>\n",
       "    </tr>\n",
       "    <tr>\n",
       "      <th>4</th>\n",
       "      <td>12</td>\n",
       "      <td>e</td>\n",
       "      <td>x</td>\n",
       "      <td>y</td>\n",
       "      <td>y</td>\n",
       "      <td>t</td>\n",
       "      <td>a</td>\n",
       "      <td>f</td>\n",
       "      <td>c</td>\n",
       "      <td>b</td>\n",
       "      <td>...</td>\n",
       "      <td>s</td>\n",
       "      <td>w</td>\n",
       "      <td>w</td>\n",
       "      <td>p</td>\n",
       "      <td>w</td>\n",
       "      <td>o</td>\n",
       "      <td>p</td>\n",
       "      <td>k</td>\n",
       "      <td>s</td>\n",
       "      <td>m</td>\n",
       "    </tr>\n",
       "  </tbody>\n",
       "</table>\n",
       "<p>5 rows × 24 columns</p>\n",
       "</div>"
      ],
      "text/plain": [
       "   Unnamed: 0 V1 V2 V3 V4 V5 V6 V7 V8 V9 ... V14 V15 V16 V17 V18 V19 V20 V21  \\\n",
       "0           1  p  x  s  n  t  p  f  c  n ...   s   w   w   p   w   o   p   k   \n",
       "1           2  e  x  s  y  t  a  f  c  b ...   s   w   w   p   w   o   p   n   \n",
       "2           5  e  x  s  g  f  n  f  w  b ...   s   w   w   p   w   o   e   n   \n",
       "3           9  p  x  y  w  t  p  f  c  n ...   s   w   w   p   w   o   p   k   \n",
       "4          12  e  x  y  y  t  a  f  c  b ...   s   w   w   p   w   o   p   k   \n",
       "\n",
       "  V22 V23  \n",
       "0   s   u  \n",
       "1   n   g  \n",
       "2   a   g  \n",
       "3   v   g  \n",
       "4   s   m  \n",
       "\n",
       "[5 rows x 24 columns]"
      ]
     },
     "execution_count": 6,
     "metadata": {},
     "output_type": "execute_result"
    }
   ],
   "source": [
    "mushroom_train.head()"
   ]
  },
  {
   "cell_type": "code",
   "execution_count": 7,
   "metadata": {},
   "outputs": [],
   "source": [
    "mushroom_train = mushroom_train.iloc[:,1:24]\n"
   ]
  },
  {
   "cell_type": "code",
   "execution_count": 8,
   "metadata": {},
   "outputs": [
    {
     "data": {
      "text/html": [
       "<div>\n",
       "<style scoped>\n",
       "    .dataframe tbody tr th:only-of-type {\n",
       "        vertical-align: middle;\n",
       "    }\n",
       "\n",
       "    .dataframe tbody tr th {\n",
       "        vertical-align: top;\n",
       "    }\n",
       "\n",
       "    .dataframe thead th {\n",
       "        text-align: right;\n",
       "    }\n",
       "</style>\n",
       "<table border=\"1\" class=\"dataframe\">\n",
       "  <thead>\n",
       "    <tr style=\"text-align: right;\">\n",
       "      <th></th>\n",
       "      <th>V1</th>\n",
       "      <th>V2</th>\n",
       "      <th>V3</th>\n",
       "      <th>V4</th>\n",
       "      <th>V5</th>\n",
       "      <th>V6</th>\n",
       "      <th>V7</th>\n",
       "      <th>V8</th>\n",
       "      <th>V9</th>\n",
       "      <th>V10</th>\n",
       "      <th>...</th>\n",
       "      <th>V14</th>\n",
       "      <th>V15</th>\n",
       "      <th>V16</th>\n",
       "      <th>V17</th>\n",
       "      <th>V18</th>\n",
       "      <th>V19</th>\n",
       "      <th>V20</th>\n",
       "      <th>V21</th>\n",
       "      <th>V22</th>\n",
       "      <th>V23</th>\n",
       "    </tr>\n",
       "  </thead>\n",
       "  <tbody>\n",
       "    <tr>\n",
       "      <th>count</th>\n",
       "      <td>4907</td>\n",
       "      <td>4907</td>\n",
       "      <td>4907</td>\n",
       "      <td>4907</td>\n",
       "      <td>4907</td>\n",
       "      <td>4907</td>\n",
       "      <td>4907</td>\n",
       "      <td>4907</td>\n",
       "      <td>4907</td>\n",
       "      <td>4907</td>\n",
       "      <td>...</td>\n",
       "      <td>4907</td>\n",
       "      <td>4907</td>\n",
       "      <td>4907</td>\n",
       "      <td>4907</td>\n",
       "      <td>4907</td>\n",
       "      <td>4907</td>\n",
       "      <td>4907</td>\n",
       "      <td>4907</td>\n",
       "      <td>4907</td>\n",
       "      <td>4907</td>\n",
       "    </tr>\n",
       "    <tr>\n",
       "      <th>unique</th>\n",
       "      <td>2</td>\n",
       "      <td>6</td>\n",
       "      <td>4</td>\n",
       "      <td>10</td>\n",
       "      <td>2</td>\n",
       "      <td>9</td>\n",
       "      <td>2</td>\n",
       "      <td>2</td>\n",
       "      <td>2</td>\n",
       "      <td>12</td>\n",
       "      <td>...</td>\n",
       "      <td>4</td>\n",
       "      <td>9</td>\n",
       "      <td>9</td>\n",
       "      <td>1</td>\n",
       "      <td>4</td>\n",
       "      <td>3</td>\n",
       "      <td>5</td>\n",
       "      <td>9</td>\n",
       "      <td>6</td>\n",
       "      <td>7</td>\n",
       "    </tr>\n",
       "    <tr>\n",
       "      <th>top</th>\n",
       "      <td>e</td>\n",
       "      <td>x</td>\n",
       "      <td>y</td>\n",
       "      <td>n</td>\n",
       "      <td>f</td>\n",
       "      <td>n</td>\n",
       "      <td>f</td>\n",
       "      <td>c</td>\n",
       "      <td>b</td>\n",
       "      <td>b</td>\n",
       "      <td>...</td>\n",
       "      <td>s</td>\n",
       "      <td>w</td>\n",
       "      <td>w</td>\n",
       "      <td>p</td>\n",
       "      <td>w</td>\n",
       "      <td>o</td>\n",
       "      <td>p</td>\n",
       "      <td>w</td>\n",
       "      <td>v</td>\n",
       "      <td>d</td>\n",
       "    </tr>\n",
       "    <tr>\n",
       "      <th>freq</th>\n",
       "      <td>2535</td>\n",
       "      <td>2198</td>\n",
       "      <td>1998</td>\n",
       "      <td>1372</td>\n",
       "      <td>2862</td>\n",
       "      <td>2148</td>\n",
       "      <td>4772</td>\n",
       "      <td>4135</td>\n",
       "      <td>3419</td>\n",
       "      <td>1040</td>\n",
       "      <td>...</td>\n",
       "      <td>2966</td>\n",
       "      <td>2651</td>\n",
       "      <td>2595</td>\n",
       "      <td>4907</td>\n",
       "      <td>4781</td>\n",
       "      <td>4506</td>\n",
       "      <td>2411</td>\n",
       "      <td>1449</td>\n",
       "      <td>2440</td>\n",
       "      <td>1938</td>\n",
       "    </tr>\n",
       "  </tbody>\n",
       "</table>\n",
       "<p>4 rows × 23 columns</p>\n",
       "</div>"
      ],
      "text/plain": [
       "          V1    V2    V3    V4    V5    V6    V7    V8    V9   V10  ...   \\\n",
       "count   4907  4907  4907  4907  4907  4907  4907  4907  4907  4907  ...    \n",
       "unique     2     6     4    10     2     9     2     2     2    12  ...    \n",
       "top        e     x     y     n     f     n     f     c     b     b  ...    \n",
       "freq    2535  2198  1998  1372  2862  2148  4772  4135  3419  1040  ...    \n",
       "\n",
       "         V14   V15   V16   V17   V18   V19   V20   V21   V22   V23  \n",
       "count   4907  4907  4907  4907  4907  4907  4907  4907  4907  4907  \n",
       "unique     4     9     9     1     4     3     5     9     6     7  \n",
       "top        s     w     w     p     w     o     p     w     v     d  \n",
       "freq    2966  2651  2595  4907  4781  4506  2411  1449  2440  1938  \n",
       "\n",
       "[4 rows x 23 columns]"
      ]
     },
     "execution_count": 8,
     "metadata": {},
     "output_type": "execute_result"
    }
   ],
   "source": [
    "mushroom_train.describe()"
   ]
  },
  {
   "cell_type": "code",
   "execution_count": 9,
   "metadata": {},
   "outputs": [
    {
     "data": {
      "text/plain": [
       "V1     0\n",
       "V2     0\n",
       "V3     0\n",
       "V4     0\n",
       "V5     0\n",
       "V6     0\n",
       "V7     0\n",
       "V8     0\n",
       "V9     0\n",
       "V10    0\n",
       "V11    0\n",
       "V12    0\n",
       "V13    0\n",
       "V14    0\n",
       "V15    0\n",
       "V16    0\n",
       "V17    0\n",
       "V18    0\n",
       "V19    0\n",
       "V20    0\n",
       "V21    0\n",
       "V22    0\n",
       "V23    0\n",
       "dtype: int64"
      ]
     },
     "execution_count": 9,
     "metadata": {},
     "output_type": "execute_result"
    }
   ],
   "source": [
    "mushroom_train.isnull().sum()"
   ]
  },
  {
   "cell_type": "code",
   "execution_count": null,
   "metadata": {},
   "outputs": [],
   "source": []
  },
  {
   "cell_type": "code",
   "execution_count": 10,
   "metadata": {},
   "outputs": [
    {
     "data": {
      "text/plain": [
       "Index(['V1', 'V2', 'V3', 'V4', 'V5', 'V6', 'V7', 'V8', 'V9', 'V10', 'V11',\n",
       "       'V12', 'V13', 'V14', 'V15', 'V16', 'V17', 'V18', 'V19', 'V20', 'V21',\n",
       "       'V22', 'V23'],\n",
       "      dtype='object')"
      ]
     },
     "execution_count": 10,
     "metadata": {},
     "output_type": "execute_result"
    }
   ],
   "source": [
    "mushroom_train.columns"
   ]
  },
  {
   "cell_type": "code",
   "execution_count": 11,
   "metadata": {},
   "outputs": [],
   "source": [
    "##making values \n",
    " # Seperating the target variable \n",
    "X = mushroom_train.values[:,1:24] \n",
    "Y = mushroom_train.values[:,0] "
   ]
  },
  {
   "cell_type": "code",
   "execution_count": 22,
   "metadata": {},
   "outputs": [],
   "source": [
    " # Creating the classifier object \n",
    "#clf_gini = DecisionTreeClassifier(criterion = \"gini\",random_state = 100,max_depth=3, min_samples_leaf=5) "
   ]
  },
  {
   "cell_type": "code",
   "execution_count": 29,
   "metadata": {},
   "outputs": [
    {
     "data": {
      "text/plain": [
       "DecisionTreeClassifier(class_weight=None, criterion='gini', max_depth=3,\n",
       "            max_features=None, max_leaf_nodes=None,\n",
       "            min_impurity_decrease=0.0, min_impurity_split=None,\n",
       "            min_samples_leaf=5, min_samples_split=2,\n",
       "            min_weight_fraction_leaf=0.0, presort=False, random_state=100,\n",
       "            splitter='best')"
      ]
     },
     "execution_count": 29,
     "metadata": {},
     "output_type": "execute_result"
    }
   ],
   "source": [
    "#clf_gini.fit(X,Y)"
   ]
  },
  {
   "cell_type": "code",
   "execution_count": 34,
   "metadata": {},
   "outputs": [
    {
     "data": {
      "text/plain": [
       "Index(['V1', 'V2', 'V3', 'V4', 'V5', 'V6', 'V7', 'V8', 'V9', 'V10', 'V11',\n",
       "       'V12', 'V13', 'V14', 'V15', 'V16', 'V17', 'V18', 'V19', 'V20', 'V21',\n",
       "       'V22', 'V23'],\n",
       "      dtype='object')"
      ]
     },
     "execution_count": 34,
     "metadata": {},
     "output_type": "execute_result"
    }
   ],
   "source": [
    "mushroom_train.columns"
   ]
  },
  {
   "cell_type": "code",
   "execution_count": 12,
   "metadata": {},
   "outputs": [
    {
     "data": {
      "text/plain": [
       "y    1998\n",
       "s    1481\n",
       "f    1426\n",
       "g       2\n",
       "Name: V3, dtype: int64"
      ]
     },
     "execution_count": 12,
     "metadata": {},
     "output_type": "execute_result"
    }
   ],
   "source": [
    "mushroom_train.V3.value_counts()"
   ]
  },
  {
   "cell_type": "code",
   "execution_count": 13,
   "metadata": {},
   "outputs": [],
   "source": [
    "mushroom_train = mushroom_train.rename(columns={'V1': 'target'})\n"
   ]
  },
  {
   "cell_type": "code",
   "execution_count": 14,
   "metadata": {},
   "outputs": [
    {
     "data": {
      "text/plain": [
       "0       p\n",
       "1       e\n",
       "2       e\n",
       "3       p\n",
       "4       e\n",
       "5       e\n",
       "6       e\n",
       "7       e\n",
       "8       p\n",
       "9       p\n",
       "10      e\n",
       "11      p\n",
       "12      e\n",
       "13      e\n",
       "14      p\n",
       "15      e\n",
       "16      p\n",
       "17      e\n",
       "18      e\n",
       "19      e\n",
       "20      p\n",
       "21      e\n",
       "22      e\n",
       "23      e\n",
       "24      e\n",
       "25      p\n",
       "26      e\n",
       "27      e\n",
       "28      e\n",
       "29      e\n",
       "       ..\n",
       "4877    e\n",
       "4878    p\n",
       "4879    p\n",
       "4880    e\n",
       "4881    e\n",
       "4882    e\n",
       "4883    p\n",
       "4884    p\n",
       "4885    p\n",
       "4886    p\n",
       "4887    e\n",
       "4888    e\n",
       "4889    p\n",
       "4890    p\n",
       "4891    e\n",
       "4892    e\n",
       "4893    e\n",
       "4894    e\n",
       "4895    e\n",
       "4896    p\n",
       "4897    e\n",
       "4898    e\n",
       "4899    e\n",
       "4900    p\n",
       "4901    p\n",
       "4902    p\n",
       "4903    p\n",
       "4904    e\n",
       "4905    e\n",
       "4906    p\n",
       "Name: target, Length: 4907, dtype: object"
      ]
     },
     "execution_count": 14,
     "metadata": {},
     "output_type": "execute_result"
    }
   ],
   "source": [
    "mushroom_train.target"
   ]
  },
  {
   "cell_type": "code",
   "execution_count": 15,
   "metadata": {},
   "outputs": [],
   "source": [
    "def entropy(target_col):\n",
    "\n",
    "    elements,counts = np.unique(target_col,return_counts = True)\n",
    "    entropy = np.sum([(-counts[i]/np.sum(counts))*np.log2(counts[i]/np.sum(counts)) for i in range(len(elements))])\n",
    "    return entropy"
   ]
  },
  {
   "cell_type": "code",
   "execution_count": 16,
   "metadata": {},
   "outputs": [],
   "source": [
    "total_entropy = entropy(mushroom_train['target'])"
   ]
  },
  {
   "cell_type": "code",
   "execution_count": 17,
   "metadata": {},
   "outputs": [
    {
     "data": {
      "text/plain": [
       "0.9992039001672588"
      ]
     },
     "execution_count": 17,
     "metadata": {},
     "output_type": "execute_result"
    }
   ],
   "source": [
    "total_entropy"
   ]
  },
  {
   "cell_type": "code",
   "execution_count": 26,
   "metadata": {},
   "outputs": [],
   "source": [
    "\n",
    "def Info(data,split_attribute_name,target_name):\n",
    "    #Calculate the entropy of the total dataset\n",
    "    total_entropy = entropy(data[target_name])\n",
    "    \n",
    "    ##Calculate the entropy of the dataset\n",
    "    \n",
    "    #Calculate the values and the corresponding counts for the split attribute \n",
    "    vals,counts= np.unique(data[split_attribute_name],return_counts=True)\n",
    "    \n",
    "    #Calculate the weighted entropy\n",
    "    Weighted_Entropy = np.sum([(counts[i]/np.sum(counts))*entropy(data.where(data[split_attribute_name]==vals[i]).dropna()[target_name]) for i in range(len(vals))])\n",
    "    \n",
    "    #Calculate the information gain\n",
    "    #Information_Gain = total_entropy - Weighted_Entropy\n",
    "    return Weighted_Entropy"
   ]
  },
  {
   "cell_type": "code",
   "execution_count": 27,
   "metadata": {},
   "outputs": [],
   "source": [
    "V2g = Info(mushroom_train,'V2','target')\n",
    "V3g = Info(mushroom_train,'V3','target')\n",
    "V4g = Info(mushroom_train,'V4','target')\n",
    "V5g = Info(mushroom_train,'V5','target')\n",
    "V6g = Info(mushroom_train,'V6','target')\n",
    "V7g = Info(mushroom_train,'V7','target')\n",
    "V8g = Info(mushroom_train,'V8','target')\n",
    "V9g = Info(mushroom_train,'V9','target')\n",
    "V10g = Info(mushroom_train,'V10','target')\n",
    "V11g = Info(mushroom_train,'V11','target')\n",
    "V12g = Info(mushroom_train,'V12','target')\n",
    "V13g = Info(mushroom_train,'V13','target')\n",
    "V14g = Info(mushroom_train,'V14','target')\n",
    "V15g = Info(mushroom_train,'V15','target')\n",
    "V16g = Info(mushroom_train,'V16','target')\n",
    "V17g = Info(mushroom_train,'V17','target')\n",
    "V18g = Info(mushroom_train,'V18','target')\n",
    "V19g = Info(mushroom_train,'V19','target')\n",
    "V20g = Info(mushroom_train,'V20','target')\n",
    "V21g = Info(mushroom_train,'V21','target')\n",
    "V22g = Info(mushroom_train,'V22','target')\n",
    "V23g = Info(mushroom_train,'V23','target')\n"
   ]
  },
  {
   "cell_type": "code",
   "execution_count": 28,
   "metadata": {},
   "outputs": [],
   "source": [
    "f = {\n",
    "    \"V2\":V2g,\n",
    "    \"V3\":V3g,\n",
    "    \"V4\":V4g,\n",
    "    \"V5\":V5g,\n",
    "    \"V6\":V6g,\n",
    "    \"V7\":V7g,\n",
    "    \"V8\":V8g,\n",
    "    \"V9\":V9g,\n",
    "    \"V10\":V10g,\n",
    "    \"V11\":V11g,\n",
    "    \"V12\":V12g,\n",
    "    \"V13\":V13g,\n",
    "    \"V14\":V14g,\n",
    "    \"V15\":V15g,\n",
    "    \"V16\":V16g,\n",
    "    \"V17\":V17g,\n",
    "    \"V18\":V18g,\n",
    "    \"V19\":V19g,\n",
    "    \"V20\":V20g,\n",
    "    \"V21\":V21g,\n",
    "    \"V22\":V22g,\n",
    "    \"V23\":V23g\n",
    "}\n"
   ]
  },
  {
   "cell_type": "code",
   "execution_count": 29,
   "metadata": {},
   "outputs": [
    {
     "data": {
      "text/plain": [
       "{'V2': 0.9481819820508585,\n",
       " 'V3': 0.9706856236402175,\n",
       " 'V4': 0.9598048075295792,\n",
       " 'V5': 0.8020720866376663,\n",
       " 'V6': 0.0936764080878342,\n",
       " 'V7': 0.985614556440912,\n",
       " 'V8': 0.9008391793623238,\n",
       " 'V9': 0.7652545477214082,\n",
       " 'V10': 0.5796326410530734,\n",
       " 'V11': 0.9906408439717118,\n",
       " 'V12': 0.9000200155271751,\n",
       " 'V13': 0.7123344009353176,\n",
       " 'V14': 0.7251234494718017,\n",
       " 'V15': 0.740183055733386,\n",
       " 'V16': 0.7539623818104584,\n",
       " 'V17': 0.9992039001672588,\n",
       " 'V18': 0.9742544742655131,\n",
       " 'V19': 0.9584587120563235,\n",
       " 'V20': 0.6705382797330776,\n",
       " 'V21': 0.5133214709760068,\n",
       " 'V22': 0.8070132010258532,\n",
       " 'V23': 0.8422474144519138}"
      ]
     },
     "execution_count": 29,
     "metadata": {},
     "output_type": "execute_result"
    }
   ],
   "source": [
    "f"
   ]
  },
  {
   "cell_type": "code",
   "execution_count": 96,
   "metadata": {},
   "outputs": [
    {
     "data": {
      "text/plain": [
       "'V6'"
      ]
     },
     "execution_count": 96,
     "metadata": {},
     "output_type": "execute_result"
    }
   ],
   "source": [
    "min(f, key=f.get) ###the best attribute is V6 using entropy"
   ]
  },
  {
   "cell_type": "code",
   "execution_count": 58,
   "metadata": {},
   "outputs": [],
   "source": [
    "mushroom_train = pd.DataFrame(mushroom_train)"
   ]
  },
  {
   "cell_type": "code",
   "execution_count": 53,
   "metadata": {},
   "outputs": [
    {
     "data": {
      "text/plain": [
       "0.49944828715265543"
      ]
     },
     "execution_count": 53,
     "metadata": {},
     "output_type": "execute_result"
    }
   ],
   "source": [
    "gini_index(mushroom_train.target)"
   ]
  },
  {
   "cell_type": "code",
   "execution_count": 30,
   "metadata": {},
   "outputs": [],
   "source": [
    "def gini_index(target_col):\n",
    "\n",
    "    elements,counts = np.unique(target_col,return_counts = True)\n",
    "    gini = 1 - np.sum([(counts[i]/np.sum(counts))*(counts[i]/np.sum(counts)) for i in range(len(elements))])\n",
    "    return gini"
   ]
  },
  {
   "cell_type": "code",
   "execution_count": 62,
   "metadata": {},
   "outputs": [
    {
     "data": {
      "text/plain": [
       "0.6324059958679575"
      ]
     },
     "execution_count": 62,
     "metadata": {},
     "output_type": "execute_result"
    }
   ],
   "source": [
    "gini_index(V2)"
   ]
  },
  {
   "cell_type": "code",
   "execution_count": 61,
   "metadata": {},
   "outputs": [],
   "source": [
    "V2 = mushroom_train['V2']"
   ]
  },
  {
   "cell_type": "code",
   "execution_count": 70,
   "metadata": {},
   "outputs": [],
   "source": [
    "target = mushroom_train['target']"
   ]
  },
  {
   "cell_type": "code",
   "execution_count": 31,
   "metadata": {},
   "outputs": [],
   "source": [
    "def Info(data,split_attribute_name,target_name):\n",
    "    #Calculate the entropy of the total dataset\n",
    "    total_gini = gini_index(target_name)\n",
    "\n",
    "    #Calculate the values and the corresponding counts for the split attribute \n",
    "    vals,counts= np.unique(data[split_attribute_name],return_counts=True)\n",
    "    \n",
    "    ##weighted gini index\n",
    "    Weighted_gini = np.sum([(counts[i]/np.sum(counts))*gini_index(data.where(data[split_attribute_name]==vals[i]).dropna()[target_name]) for i in range(len(vals))])\n",
    "     \n",
    "    #Calculate the information gain\n",
    "    #Information_Gain = total_gini - Weighted_gini\n",
    "    return Weighted_gini"
   ]
  },
  {
   "cell_type": "code",
   "execution_count": 64,
   "metadata": {},
   "outputs": [],
   "source": [
    "V3 = Info(mushroom_train,split_attribute_name = 'V3',target_name='target')"
   ]
  },
  {
   "cell_type": "code",
   "execution_count": 65,
   "metadata": {},
   "outputs": [
    {
     "data": {
      "text/plain": [
       "0.4800965134909827"
      ]
     },
     "execution_count": 65,
     "metadata": {},
     "output_type": "execute_result"
    }
   ],
   "source": [
    "V3"
   ]
  },
  {
   "cell_type": "code",
   "execution_count": 32,
   "metadata": {},
   "outputs": [],
   "source": [
    "V2 = Info(mushroom_train,split_attribute_name = 'V2',target_name='target')\n",
    "V3 = Info(mushroom_train,split_attribute_name = 'V3',target_name='target')\n",
    "V4 = Info(mushroom_train,split_attribute_name = 'V4',target_name='target')\n",
    "V5 = Info(mushroom_train,split_attribute_name = 'V5',target_name='target')\n",
    "V6 = Info(mushroom_train,split_attribute_name = 'V6',target_name='target')\n",
    "V7 = Info(mushroom_train,split_attribute_name = 'V7',target_name='target')\n",
    "V8 = Info(mushroom_train,split_attribute_name = 'V8',target_name='target')\n",
    "V9 = Info(mushroom_train,split_attribute_name = 'V9',target_name='target')\n",
    "V10 = Info(mushroom_train,split_attribute_name = 'V10',target_name='target')\n",
    "V11 = Info(mushroom_train,split_attribute_name = 'V11',target_name='target')\n",
    "V12 = Info(mushroom_train,split_attribute_name = 'V12',target_name='target')\n",
    "V13 = Info(mushroom_train,split_attribute_name = 'V13',target_name='target')\n",
    "V14 = Info(mushroom_train,split_attribute_name = 'V14',target_name='target')\n",
    "V15 = Info(mushroom_train,split_attribute_name = 'V15',target_name='target')\n",
    "V16 = Info(mushroom_train,split_attribute_name = 'V16',target_name='target')\n",
    "V17 = Info(mushroom_train,split_attribute_name = 'V17',target_name='target')\n",
    "V18 = Info(mushroom_train,split_attribute_name = 'V18',target_name='target')\n",
    "V19 = Info(mushroom_train,split_attribute_name = 'V19', target_name='target')\n",
    "V20 = Info(mushroom_train,split_attribute_name = 'V20',target_name='target')\n",
    "V21 = Info(mushroom_train,split_attribute_name = 'V21',target_name='target')\n",
    "V22 = Info(mushroom_train,split_attribute_name = 'V22',target_name='target')\n",
    "V23 = Info(mushroom_train,split_attribute_name = 'V23',target_name='target')"
   ]
  },
  {
   "cell_type": "code",
   "execution_count": 33,
   "metadata": {},
   "outputs": [],
   "source": [
    "gini = {\n",
    "    \"V2\":V2,\n",
    "    \"V3\":V3,\n",
    "    \"V4\":V4,\n",
    "    \"V5\":V5,\n",
    "    \"V6\":V6,\n",
    "    \"V7\":V7,\n",
    "    \"V8\":V8,\n",
    "    \"V9\":V9,\n",
    "    \"V10\":V10,\n",
    "    \"V11\":V11,\n",
    "    \"V12\":V12,\n",
    "    \"V13\":V13,\n",
    "    \"V14\":V14,\n",
    "    \"V15\":V15,\n",
    "    \"V16\":V16,\n",
    "    \"V17\":V17,\n",
    "    \"V18\":V18,\n",
    "    \"V19\":V19,\n",
    "    \"V20\":V20,\n",
    "    \"V21\":V21,\n",
    "    \"V22\":V22,\n",
    "    \"V23\":V23\n",
    "}\n"
   ]
  },
  {
   "cell_type": "code",
   "execution_count": 34,
   "metadata": {},
   "outputs": [
    {
     "data": {
      "text/plain": [
       "{'V2': 0.4681902365856444,\n",
       " 'V3': 0.4800965134909827,\n",
       " 'V4': 0.4732295149922768,\n",
       " 'V5': 0.3708173658676361,\n",
       " 'V6': 0.028742240686071896,\n",
       " 'V7': 0.49129156570065435,\n",
       " 'V8': 0.44033063996991456,\n",
       " 'V9': 0.3523441387568093,\n",
       " 'V10': 0.26657374009468215,\n",
       " 'V11': 0.4935281290258776,\n",
       " 'V12': 0.43968496422168846,\n",
       " 'V13': 0.3248754916374601,\n",
       " 'V14': 0.33264665139723,\n",
       " 'V15': 0.3595644142997843,\n",
       " 'V16': 0.36534581041892467,\n",
       " 'V17': 0.49944828715265543,\n",
       " 'V18': 0.4871141188882509,\n",
       " 'V19': 0.47506888795871177,\n",
       " 'V20': 0.31141968590197694,\n",
       " 'V21': 0.21469095504935756,\n",
       " 'V22': 0.3871157557657242,\n",
       " 'V23': 0.40240311452479166}"
      ]
     },
     "execution_count": 34,
     "metadata": {},
     "output_type": "execute_result"
    }
   ],
   "source": [
    "gini"
   ]
  },
  {
   "cell_type": "code",
   "execution_count": 69,
   "metadata": {},
   "outputs": [
    {
     "data": {
      "text/plain": [
       "'V6'"
      ]
     },
     "execution_count": 69,
     "metadata": {},
     "output_type": "execute_result"
    }
   ],
   "source": [
    "min(gini, key=gini.get) ###the best attribute is V6 using gain-  it has minimum gain"
   ]
  },
  {
   "cell_type": "code",
   "execution_count": 36,
   "metadata": {},
   "outputs": [],
   "source": [
    "##Accuracy - Classification error:\n",
    "def accuracy(target_col):\n",
    "\n",
    "    elements,counts = np.unique(target_col,return_counts = True)\n",
    "    acc = 1 - np.max([(counts[i]/np.sum(counts)) for i in range(len(elements))])\n",
    "    return acc"
   ]
  },
  {
   "cell_type": "code",
   "execution_count": 37,
   "metadata": {},
   "outputs": [
    {
     "data": {
      "text/plain": [
       "0.5520684736091298"
      ]
     },
     "execution_count": 37,
     "metadata": {},
     "output_type": "execute_result"
    }
   ],
   "source": [
    "V2a = accuracy(mushroom_train['V2'])\n",
    "V2a"
   ]
  },
  {
   "cell_type": "code",
   "execution_count": 38,
   "metadata": {},
   "outputs": [],
   "source": [
    "V2a = accuracy(mushroom_train['V2'])\n",
    "V3a = accuracy(mushroom_train['V3'])\n",
    "V4a = accuracy(mushroom_train['V4'])\n",
    "V5a = accuracy(mushroom_train['V5'])\n",
    "V6a = accuracy(mushroom_train['V6'])\n",
    "V7a = accuracy(mushroom_train['V7'])\n",
    "V8a = accuracy(mushroom_train['V8'])\n",
    "V9a = accuracy(mushroom_train['V9'])\n",
    "V10a = accuracy(mushroom_train['V10'])\n",
    "V11a = accuracy(mushroom_train['V11'])\n",
    "V12a = accuracy(mushroom_train['V12'])\n",
    "V13a = accuracy(mushroom_train['V13'])\n",
    "V14a = accuracy(mushroom_train['V14'])\n",
    "V15a = accuracy(mushroom_train['V15'])\n",
    "V16a = accuracy(mushroom_train['V16'])\n",
    "V17a = accuracy(mushroom_train['V17'])\n",
    "V18a = accuracy(mushroom_train['V18'])\n",
    "V19a = accuracy(mushroom_train['V19'])\n",
    "V20a = accuracy(mushroom_train['V20'])\n",
    "V21a = accuracy(mushroom_train['V21'])\n",
    "V22a = accuracy(mushroom_train['V22'])\n",
    "V23a = accuracy(mushroom_train['V23'])"
   ]
  },
  {
   "cell_type": "code",
   "execution_count": 39,
   "metadata": {},
   "outputs": [],
   "source": [
    "Accuracy = {\n",
    "    \"V2\":V2a,\n",
    "    \"V3\":V3a,\n",
    "    \"V4\":V4a,\n",
    "    \"V5\":V5a,\n",
    "    \"V6\":V6a,\n",
    "    \"V7\":V7a,\n",
    "    \"V8\":V8a,\n",
    "    \"V9\":V9a,\n",
    "    \"V10\":V10a,\n",
    "    \"V11\":V11a,\n",
    "    \"V12\":V12a,\n",
    "    \"V13\":V13a,\n",
    "    \"V14\":V14a,\n",
    "    \"V15\":V15a,\n",
    "    \"V16\":V16a,\n",
    "    \"V17\":V17a,\n",
    "    \"V18\":V18a,\n",
    "    \"V19\":V19a,\n",
    "    \"V20\":V20a,\n",
    "    \"V21\":V21a,\n",
    "    \"V22\":V22a,\n",
    "    \"V23\":V23a\n",
    "}\n"
   ]
  },
  {
   "cell_type": "code",
   "execution_count": 40,
   "metadata": {},
   "outputs": [
    {
     "data": {
      "text/plain": [
       "{'V2': 0.5520684736091298,\n",
       " 'V3': 0.5928265742816385,\n",
       " 'V4': 0.7203994293865905,\n",
       " 'V5': 0.41675157937640106,\n",
       " 'V6': 0.5622579987772569,\n",
       " 'V7': 0.02751171795394336,\n",
       " 'V8': 0.1573262685958834,\n",
       " 'V9': 0.30324026900346446,\n",
       " 'V10': 0.788057876502955,\n",
       " 'V11': 0.432851029142042,\n",
       " 'V12': 0.2215202771550846,\n",
       " 'V13': 0.3686570205828409,\n",
       " 'V14': 0.3955573670266965,\n",
       " 'V15': 0.45975137558589774,\n",
       " 'V16': 0.47116364377420017,\n",
       " 'V17': 0.0,\n",
       " 'V18': 0.025677603423680417,\n",
       " 'V19': 0.08171999184837986,\n",
       " 'V20': 0.5086610963929081,\n",
       " 'V21': 0.7047075606276747,\n",
       " 'V22': 0.5027511717953943,\n",
       " 'V23': 0.6050540044833911}"
      ]
     },
     "execution_count": 40,
     "metadata": {},
     "output_type": "execute_result"
    }
   ],
   "source": [
    "Accuracy"
   ]
  },
  {
   "cell_type": "code",
   "execution_count": 80,
   "metadata": {},
   "outputs": [
    {
     "data": {
      "text/plain": [
       "'V10'"
      ]
     },
     "execution_count": 80,
     "metadata": {},
     "output_type": "execute_result"
    }
   ],
   "source": [
    "max(Accuracy, key=Accuracy.get) ###the best attribute is V10 using accuracy-  it has minimum error"
   ]
  },
  {
   "cell_type": "code",
   "execution_count": 41,
   "metadata": {},
   "outputs": [],
   "source": [
    "acc = list(Accuracy.values())"
   ]
  },
  {
   "cell_type": "code",
   "execution_count": 42,
   "metadata": {},
   "outputs": [],
   "source": [
    "f1 = list(f.values())"
   ]
  },
  {
   "cell_type": "code",
   "execution_count": 45,
   "metadata": {},
   "outputs": [],
   "source": [
    "gin = list(gini.values())\n",
    "ent = list(f.values())"
   ]
  },
  {
   "cell_type": "code",
   "execution_count": 43,
   "metadata": {},
   "outputs": [],
   "source": [
    "for i in range(len(f1)):\n",
    "    f1[i] = 1 - f1[i] "
   ]
  },
  {
   "cell_type": "code",
   "execution_count": 44,
   "metadata": {},
   "outputs": [
    {
     "data": {
      "text/plain": [
       "[0.05181801794914154,\n",
       " 0.029314376359782512,\n",
       " 0.040195192470420804,\n",
       " 0.19792791336233373,\n",
       " 0.9063235919121658,\n",
       " 0.014385443559087996,\n",
       " 0.09916082063767617,\n",
       " 0.23474545227859178,\n",
       " 0.42036735894692656,\n",
       " 0.009359156028288185,\n",
       " 0.09997998447282486,\n",
       " 0.28766559906468236,\n",
       " 0.27487655052819826,\n",
       " 0.25981694426661395,\n",
       " 0.24603761818954162,\n",
       " 0.0007960998327412039,\n",
       " 0.02574552573448685,\n",
       " 0.04154128794367651,\n",
       " 0.32946172026692244,\n",
       " 0.4866785290239932,\n",
       " 0.19298679897414683,\n",
       " 0.15775258554808624]"
      ]
     },
     "execution_count": 44,
     "metadata": {},
     "output_type": "execute_result"
    }
   ],
   "source": [
    "f1"
   ]
  },
  {
   "cell_type": "code",
   "execution_count": 101,
   "metadata": {},
   "outputs": [],
   "source": [
    "\n",
    "df_final = pd.DataFrame()\n",
    "df_final['entropy'] = f1\n",
    "df_final['accuracy'] = acc"
   ]
  },
  {
   "cell_type": "code",
   "execution_count": 103,
   "metadata": {},
   "outputs": [],
   "source": [
    "df_final = df_final.reset_index()"
   ]
  },
  {
   "cell_type": "code",
   "execution_count": 104,
   "metadata": {},
   "outputs": [
    {
     "data": {
      "text/html": [
       "<div>\n",
       "<style scoped>\n",
       "    .dataframe tbody tr th:only-of-type {\n",
       "        vertical-align: middle;\n",
       "    }\n",
       "\n",
       "    .dataframe tbody tr th {\n",
       "        vertical-align: top;\n",
       "    }\n",
       "\n",
       "    .dataframe thead th {\n",
       "        text-align: right;\n",
       "    }\n",
       "</style>\n",
       "<table border=\"1\" class=\"dataframe\">\n",
       "  <thead>\n",
       "    <tr style=\"text-align: right;\">\n",
       "      <th></th>\n",
       "      <th>index</th>\n",
       "      <th>entropy</th>\n",
       "      <th>accuracy</th>\n",
       "    </tr>\n",
       "  </thead>\n",
       "  <tbody>\n",
       "    <tr>\n",
       "      <th>0</th>\n",
       "      <td>0</td>\n",
       "      <td>0.051818</td>\n",
       "      <td>0.552068</td>\n",
       "    </tr>\n",
       "    <tr>\n",
       "      <th>1</th>\n",
       "      <td>1</td>\n",
       "      <td>0.029314</td>\n",
       "      <td>0.592827</td>\n",
       "    </tr>\n",
       "    <tr>\n",
       "      <th>2</th>\n",
       "      <td>2</td>\n",
       "      <td>0.040195</td>\n",
       "      <td>0.720399</td>\n",
       "    </tr>\n",
       "    <tr>\n",
       "      <th>3</th>\n",
       "      <td>3</td>\n",
       "      <td>0.197928</td>\n",
       "      <td>0.416752</td>\n",
       "    </tr>\n",
       "    <tr>\n",
       "      <th>4</th>\n",
       "      <td>4</td>\n",
       "      <td>0.906324</td>\n",
       "      <td>0.562258</td>\n",
       "    </tr>\n",
       "    <tr>\n",
       "      <th>5</th>\n",
       "      <td>5</td>\n",
       "      <td>0.014385</td>\n",
       "      <td>0.027512</td>\n",
       "    </tr>\n",
       "    <tr>\n",
       "      <th>6</th>\n",
       "      <td>6</td>\n",
       "      <td>0.099161</td>\n",
       "      <td>0.157326</td>\n",
       "    </tr>\n",
       "    <tr>\n",
       "      <th>7</th>\n",
       "      <td>7</td>\n",
       "      <td>0.234745</td>\n",
       "      <td>0.303240</td>\n",
       "    </tr>\n",
       "    <tr>\n",
       "      <th>8</th>\n",
       "      <td>8</td>\n",
       "      <td>0.420367</td>\n",
       "      <td>0.788058</td>\n",
       "    </tr>\n",
       "    <tr>\n",
       "      <th>9</th>\n",
       "      <td>9</td>\n",
       "      <td>0.009359</td>\n",
       "      <td>0.432851</td>\n",
       "    </tr>\n",
       "    <tr>\n",
       "      <th>10</th>\n",
       "      <td>10</td>\n",
       "      <td>0.099980</td>\n",
       "      <td>0.221520</td>\n",
       "    </tr>\n",
       "    <tr>\n",
       "      <th>11</th>\n",
       "      <td>11</td>\n",
       "      <td>0.287666</td>\n",
       "      <td>0.368657</td>\n",
       "    </tr>\n",
       "    <tr>\n",
       "      <th>12</th>\n",
       "      <td>12</td>\n",
       "      <td>0.274877</td>\n",
       "      <td>0.395557</td>\n",
       "    </tr>\n",
       "    <tr>\n",
       "      <th>13</th>\n",
       "      <td>13</td>\n",
       "      <td>0.259817</td>\n",
       "      <td>0.459751</td>\n",
       "    </tr>\n",
       "    <tr>\n",
       "      <th>14</th>\n",
       "      <td>14</td>\n",
       "      <td>0.246038</td>\n",
       "      <td>0.471164</td>\n",
       "    </tr>\n",
       "    <tr>\n",
       "      <th>15</th>\n",
       "      <td>15</td>\n",
       "      <td>0.000796</td>\n",
       "      <td>0.000000</td>\n",
       "    </tr>\n",
       "    <tr>\n",
       "      <th>16</th>\n",
       "      <td>16</td>\n",
       "      <td>0.025746</td>\n",
       "      <td>0.025678</td>\n",
       "    </tr>\n",
       "    <tr>\n",
       "      <th>17</th>\n",
       "      <td>17</td>\n",
       "      <td>0.041541</td>\n",
       "      <td>0.081720</td>\n",
       "    </tr>\n",
       "    <tr>\n",
       "      <th>18</th>\n",
       "      <td>18</td>\n",
       "      <td>0.329462</td>\n",
       "      <td>0.508661</td>\n",
       "    </tr>\n",
       "    <tr>\n",
       "      <th>19</th>\n",
       "      <td>19</td>\n",
       "      <td>0.486679</td>\n",
       "      <td>0.704708</td>\n",
       "    </tr>\n",
       "    <tr>\n",
       "      <th>20</th>\n",
       "      <td>20</td>\n",
       "      <td>0.192987</td>\n",
       "      <td>0.502751</td>\n",
       "    </tr>\n",
       "    <tr>\n",
       "      <th>21</th>\n",
       "      <td>21</td>\n",
       "      <td>0.157753</td>\n",
       "      <td>0.605054</td>\n",
       "    </tr>\n",
       "  </tbody>\n",
       "</table>\n",
       "</div>"
      ],
      "text/plain": [
       "    index   entropy  accuracy\n",
       "0       0  0.051818  0.552068\n",
       "1       1  0.029314  0.592827\n",
       "2       2  0.040195  0.720399\n",
       "3       3  0.197928  0.416752\n",
       "4       4  0.906324  0.562258\n",
       "5       5  0.014385  0.027512\n",
       "6       6  0.099161  0.157326\n",
       "7       7  0.234745  0.303240\n",
       "8       8  0.420367  0.788058\n",
       "9       9  0.009359  0.432851\n",
       "10     10  0.099980  0.221520\n",
       "11     11  0.287666  0.368657\n",
       "12     12  0.274877  0.395557\n",
       "13     13  0.259817  0.459751\n",
       "14     14  0.246038  0.471164\n",
       "15     15  0.000796  0.000000\n",
       "16     16  0.025746  0.025678\n",
       "17     17  0.041541  0.081720\n",
       "18     18  0.329462  0.508661\n",
       "19     19  0.486679  0.704708\n",
       "20     20  0.192987  0.502751\n",
       "21     21  0.157753  0.605054"
      ]
     },
     "execution_count": 104,
     "metadata": {},
     "output_type": "execute_result"
    }
   ],
   "source": [
    "df_final"
   ]
  },
  {
   "cell_type": "code",
   "execution_count": 105,
   "metadata": {},
   "outputs": [
    {
     "data": {
      "text/plain": [
       "<matplotlib.legend.Legend at 0x21a452bf8d0>"
      ]
     },
     "execution_count": 105,
     "metadata": {},
     "output_type": "execute_result"
    },
    {
     "data": {
      "image/png": "[encoded data removed]",
      "text/plain": [
       "<Figure size 432x288 with 1 Axes>"
      ]
     },
     "metadata": {
      "needs_background": "light"
     },
     "output_type": "display_data"
    }
   ],
   "source": [
    "plt.plot( 'index', 'entropy', data=df_final , markerfacecolor='blue', markersize=6, color='green', linewidth=4)\n",
    "plt.plot( 'index', 'accuracy', data=df_final, marker='', color='olive', linewidth=4, linestyle='dashed')\n",
    "plt.legend()"
   ]
  },
  {
   "cell_type": "code",
   "execution_count": 88,
   "metadata": {},
   "outputs": [],
   "source": [
    "import matplotlib.pyplot as plt"
   ]
  },
  {
   "cell_type": "code",
   "execution_count": 18,
   "metadata": {},
   "outputs": [],
   "source": [
    "##Information gain due to each feature\n",
    "\n",
    "def Info(data,split_attribute_name,target_name):\n",
    "    #Calculate the entropy of the total dataset\n",
    "    total_entropy = entropy(data[target_name])\n",
    "    \n",
    "    ##Calculate the entropy of the dataset\n",
    "    \n",
    "    #Calculate the values and the corresponding counts for the split attribute \n",
    "    vals,counts= np.unique(data[split_attribute_name],return_counts=True)\n",
    "    \n",
    "    #Calculate the weighted entropy\n",
    "    Weighted_Entropy = np.sum([(counts[i]/np.sum(counts))*entropy(data.where(data[split_attribute_name]==vals[i]).dropna()[target_name]) for i in range(len(vals))])\n",
    "    \n",
    "    #Calculate the information gain\n",
    "    Information_Gain = total_entropy - Weighted_Entropy\n",
    "    return Information_Gain"
   ]
  },
  {
   "cell_type": "code",
   "execution_count": 21,
   "metadata": {},
   "outputs": [],
   "source": [
    "V2i = Info(mushroom_train,'V2','target')\n",
    "V3i = Info(mushroom_train,'V3','target')\n",
    "V4i = Info(mushroom_train,'V4','target')\n",
    "V5i = Info(mushroom_train,'V5','target')\n",
    "V6i = Info(mushroom_train,'V6','target')\n",
    "V7i = Info(mushroom_train,'V7','target')\n",
    "V8i = Info(mushroom_train,'V8','target')\n",
    "V9i = Info(mushroom_train,'V9','target')\n",
    "V10i = Info(mushroom_train,'V10','target')\n",
    "V11i = Info(mushroom_train,'V11','target')\n",
    "V12i = Info(mushroom_train,'V12','target')\n",
    "V13i= Info(mushroom_train,'V13','target')\n",
    "V14i = Info(mushroom_train,'V14','target')\n",
    "V15i = Info(mushroom_train,'V15','target')\n",
    "V16i = Info(mushroom_train,'V16','target')\n",
    "V17i = Info(mushroom_train,'V17','target')\n",
    "V18i = Info(mushroom_train,'V18','target')\n",
    "V19i = Info(mushroom_train,'V19','target')\n",
    "V20i = Info(mushroom_train,'V20','target')\n",
    "V21i = Info(mushroom_train,'V21','target')\n",
    "V22i = Info(mushroom_train,'V22','target')\n",
    "V23i = Info(mushroom_train,'V23','target')\n"
   ]
  },
  {
   "cell_type": "code",
   "execution_count": 22,
   "metadata": {},
   "outputs": [],
   "source": [
    "infomation_gain = {\n",
    "    \"V2\":V2i,\n",
    "    \"V3\":V3i,\n",
    "    \"V4\":V4i,\n",
    "    \"V5\":V5i,\n",
    "    \"V6\":V6i,\n",
    "    \"V7\":V7i,\n",
    "    \"V8\":V8i,\n",
    "    \"V9\":V9i,\n",
    "    \"V10\":V10i,\n",
    "    \"V11\":V11i,\n",
    "    \"V12\":V12i,\n",
    "    \"V13\":V13i,\n",
    "    \"V14\":V14i,\n",
    "    \"V15\":V15i,\n",
    "    \"V16\":V16i,\n",
    "    \"V17\":V17i,\n",
    "    \"V18\":V18i,\n",
    "    \"V19\":V19i,\n",
    "    \"V20\":V20i,\n",
    "    \"V21\":V21i,\n",
    "    \"V22\":V22i,\n",
    "    \"V23\":V23i\n",
    "}\n"
   ]
  },
  {
   "cell_type": "code",
   "execution_count": 23,
   "metadata": {},
   "outputs": [],
   "source": [
    "info = list(infomation_gain.values())"
   ]
  },
  {
   "cell_type": "code",
   "execution_count": 46,
   "metadata": {},
   "outputs": [
    {
     "data": {
      "text/plain": [
       "Index(['target', 'V2', 'V3', 'V4', 'V5', 'V6', 'V7', 'V8', 'V9', 'V10', 'V11',\n",
       "       'V12', 'V13', 'V14', 'V15', 'V16', 'V17', 'V18', 'V19', 'V20', 'V21',\n",
       "       'V22', 'V23'],\n",
       "      dtype='object')"
      ]
     },
     "execution_count": 46,
     "metadata": {},
     "output_type": "execute_result"
    }
   ],
   "source": []
  },
  {
   "cell_type": "code",
   "execution_count": 48,
   "metadata": {},
   "outputs": [],
   "source": [
    "feature = ['V2', 'V3', 'V4', 'V5', 'V6', 'V7', 'V8', 'V9', 'V10', 'V11',\n",
    "       'V12', 'V13', 'V14', 'V15', 'V16', 'V17', 'V18', 'V19', 'V20', 'V21',\n",
    "       'V22', 'V23']"
   ]
  },
  {
   "cell_type": "code",
   "execution_count": 49,
   "metadata": {},
   "outputs": [],
   "source": [
    "df_table = pd.DataFrame()\n",
    "df_table['information gain'] = info\n",
    "df_table['accuracy'] = acc\n",
    "df_table['Gini index'] = gin\n",
    "df_table['feature'] = feature\n",
    "df_table['1 - Entropy'] = f1"
   ]
  },
  {
   "cell_type": "code",
   "execution_count": 50,
   "metadata": {},
   "outputs": [
    {
     "data": {
      "text/html": [
       "<div>\n",
       "<style scoped>\n",
       "    .dataframe tbody tr th:only-of-type {\n",
       "        vertical-align: middle;\n",
       "    }\n",
       "\n",
       "    .dataframe tbody tr th {\n",
       "        vertical-align: top;\n",
       "    }\n",
       "\n",
       "    .dataframe thead th {\n",
       "        text-align: right;\n",
       "    }\n",
       "</style>\n",
       "<table border=\"1\" class=\"dataframe\">\n",
       "  <thead>\n",
       "    <tr style=\"text-align: right;\">\n",
       "      <th></th>\n",
       "      <th>information gain</th>\n",
       "      <th>accuracy</th>\n",
       "      <th>Gini index</th>\n",
       "      <th>feature</th>\n",
       "      <th>1 - Entropy</th>\n",
       "    </tr>\n",
       "  </thead>\n",
       "  <tbody>\n",
       "    <tr>\n",
       "      <th>0</th>\n",
       "      <td>0.051022</td>\n",
       "      <td>0.552068</td>\n",
       "      <td>0.468190</td>\n",
       "      <td>V2</td>\n",
       "      <td>0.051818</td>\n",
       "    </tr>\n",
       "    <tr>\n",
       "      <th>1</th>\n",
       "      <td>0.028518</td>\n",
       "      <td>0.592827</td>\n",
       "      <td>0.480097</td>\n",
       "      <td>V3</td>\n",
       "      <td>0.029314</td>\n",
       "    </tr>\n",
       "    <tr>\n",
       "      <th>2</th>\n",
       "      <td>0.039399</td>\n",
       "      <td>0.720399</td>\n",
       "      <td>0.473230</td>\n",
       "      <td>V4</td>\n",
       "      <td>0.040195</td>\n",
       "    </tr>\n",
       "    <tr>\n",
       "      <th>3</th>\n",
       "      <td>0.197132</td>\n",
       "      <td>0.416752</td>\n",
       "      <td>0.370817</td>\n",
       "      <td>V5</td>\n",
       "      <td>0.197928</td>\n",
       "    </tr>\n",
       "    <tr>\n",
       "      <th>4</th>\n",
       "      <td>0.905527</td>\n",
       "      <td>0.562258</td>\n",
       "      <td>0.028742</td>\n",
       "      <td>V6</td>\n",
       "      <td>0.906324</td>\n",
       "    </tr>\n",
       "    <tr>\n",
       "      <th>5</th>\n",
       "      <td>0.013589</td>\n",
       "      <td>0.027512</td>\n",
       "      <td>0.491292</td>\n",
       "      <td>V7</td>\n",
       "      <td>0.014385</td>\n",
       "    </tr>\n",
       "    <tr>\n",
       "      <th>6</th>\n",
       "      <td>0.098365</td>\n",
       "      <td>0.157326</td>\n",
       "      <td>0.440331</td>\n",
       "      <td>V8</td>\n",
       "      <td>0.099161</td>\n",
       "    </tr>\n",
       "    <tr>\n",
       "      <th>7</th>\n",
       "      <td>0.233949</td>\n",
       "      <td>0.303240</td>\n",
       "      <td>0.352344</td>\n",
       "      <td>V9</td>\n",
       "      <td>0.234745</td>\n",
       "    </tr>\n",
       "    <tr>\n",
       "      <th>8</th>\n",
       "      <td>0.419571</td>\n",
       "      <td>0.788058</td>\n",
       "      <td>0.266574</td>\n",
       "      <td>V10</td>\n",
       "      <td>0.420367</td>\n",
       "    </tr>\n",
       "    <tr>\n",
       "      <th>9</th>\n",
       "      <td>0.008563</td>\n",
       "      <td>0.432851</td>\n",
       "      <td>0.493528</td>\n",
       "      <td>V11</td>\n",
       "      <td>0.009359</td>\n",
       "    </tr>\n",
       "    <tr>\n",
       "      <th>10</th>\n",
       "      <td>0.099184</td>\n",
       "      <td>0.221520</td>\n",
       "      <td>0.439685</td>\n",
       "      <td>V12</td>\n",
       "      <td>0.099980</td>\n",
       "    </tr>\n",
       "    <tr>\n",
       "      <th>11</th>\n",
       "      <td>0.286869</td>\n",
       "      <td>0.368657</td>\n",
       "      <td>0.324875</td>\n",
       "      <td>V13</td>\n",
       "      <td>0.287666</td>\n",
       "    </tr>\n",
       "    <tr>\n",
       "      <th>12</th>\n",
       "      <td>0.274080</td>\n",
       "      <td>0.395557</td>\n",
       "      <td>0.332647</td>\n",
       "      <td>V14</td>\n",
       "      <td>0.274877</td>\n",
       "    </tr>\n",
       "    <tr>\n",
       "      <th>13</th>\n",
       "      <td>0.259021</td>\n",
       "      <td>0.459751</td>\n",
       "      <td>0.359564</td>\n",
       "      <td>V15</td>\n",
       "      <td>0.259817</td>\n",
       "    </tr>\n",
       "    <tr>\n",
       "      <th>14</th>\n",
       "      <td>0.245242</td>\n",
       "      <td>0.471164</td>\n",
       "      <td>0.365346</td>\n",
       "      <td>V16</td>\n",
       "      <td>0.246038</td>\n",
       "    </tr>\n",
       "    <tr>\n",
       "      <th>15</th>\n",
       "      <td>0.000000</td>\n",
       "      <td>0.000000</td>\n",
       "      <td>0.499448</td>\n",
       "      <td>V17</td>\n",
       "      <td>0.000796</td>\n",
       "    </tr>\n",
       "    <tr>\n",
       "      <th>16</th>\n",
       "      <td>0.024949</td>\n",
       "      <td>0.025678</td>\n",
       "      <td>0.487114</td>\n",
       "      <td>V18</td>\n",
       "      <td>0.025746</td>\n",
       "    </tr>\n",
       "    <tr>\n",
       "      <th>17</th>\n",
       "      <td>0.040745</td>\n",
       "      <td>0.081720</td>\n",
       "      <td>0.475069</td>\n",
       "      <td>V19</td>\n",
       "      <td>0.041541</td>\n",
       "    </tr>\n",
       "    <tr>\n",
       "      <th>18</th>\n",
       "      <td>0.328666</td>\n",
       "      <td>0.508661</td>\n",
       "      <td>0.311420</td>\n",
       "      <td>V20</td>\n",
       "      <td>0.329462</td>\n",
       "    </tr>\n",
       "    <tr>\n",
       "      <th>19</th>\n",
       "      <td>0.485882</td>\n",
       "      <td>0.704708</td>\n",
       "      <td>0.214691</td>\n",
       "      <td>V21</td>\n",
       "      <td>0.486679</td>\n",
       "    </tr>\n",
       "    <tr>\n",
       "      <th>20</th>\n",
       "      <td>0.192191</td>\n",
       "      <td>0.502751</td>\n",
       "      <td>0.387116</td>\n",
       "      <td>V22</td>\n",
       "      <td>0.192987</td>\n",
       "    </tr>\n",
       "    <tr>\n",
       "      <th>21</th>\n",
       "      <td>0.156956</td>\n",
       "      <td>0.605054</td>\n",
       "      <td>0.402403</td>\n",
       "      <td>V23</td>\n",
       "      <td>0.157753</td>\n",
       "    </tr>\n",
       "  </tbody>\n",
       "</table>\n",
       "</div>"
      ],
      "text/plain": [
       "    information gain  accuracy  Gini index feature  1 - Entropy\n",
       "0           0.051022  0.552068    0.468190      V2     0.051818\n",
       "1           0.028518  0.592827    0.480097      V3     0.029314\n",
       "2           0.039399  0.720399    0.473230      V4     0.040195\n",
       "3           0.197132  0.416752    0.370817      V5     0.197928\n",
       "4           0.905527  0.562258    0.028742      V6     0.906324\n",
       "5           0.013589  0.027512    0.491292      V7     0.014385\n",
       "6           0.098365  0.157326    0.440331      V8     0.099161\n",
       "7           0.233949  0.303240    0.352344      V9     0.234745\n",
       "8           0.419571  0.788058    0.266574     V10     0.420367\n",
       "9           0.008563  0.432851    0.493528     V11     0.009359\n",
       "10          0.099184  0.221520    0.439685     V12     0.099980\n",
       "11          0.286869  0.368657    0.324875     V13     0.287666\n",
       "12          0.274080  0.395557    0.332647     V14     0.274877\n",
       "13          0.259021  0.459751    0.359564     V15     0.259817\n",
       "14          0.245242  0.471164    0.365346     V16     0.246038\n",
       "15          0.000000  0.000000    0.499448     V17     0.000796\n",
       "16          0.024949  0.025678    0.487114     V18     0.025746\n",
       "17          0.040745  0.081720    0.475069     V19     0.041541\n",
       "18          0.328666  0.508661    0.311420     V20     0.329462\n",
       "19          0.485882  0.704708    0.214691     V21     0.486679\n",
       "20          0.192191  0.502751    0.387116     V22     0.192987\n",
       "21          0.156956  0.605054    0.402403     V23     0.157753"
      ]
     },
     "execution_count": 50,
     "metadata": {},
     "output_type": "execute_result"
    }
   ],
   "source": [
    "df_table"
   ]
  },
  {
   "cell_type": "code",
   "execution_count": 103,
   "metadata": {},
   "outputs": [
    {
     "data": {
      "text/plain": [
       "<matplotlib.legend.Legend at 0x20662eec2e8>"
      ]
     },
     "execution_count": 103,
     "metadata": {},
     "output_type": "execute_result"
    },
    {
     "data": {
      "image/png": "[encoded data removed]",
      "text/plain": [
       "<Figure size 864x432 with 1 Axes>"
      ]
     },
     "metadata": {
      "needs_background": "light"
     },
     "output_type": "display_data"
    }
   ],
   "source": [
    "plt.figure(figsize=(12,6))\n",
    "plt.plot( 'feature', '1 - Entropy', data=df_table , markerfacecolor='blue', markersize=6, color='green', linewidth=4)\n",
    "plt.plot( 'feature', 'accuracy', data=df_table, marker='', color='olive', linewidth=4, linestyle='dashed')\n",
    "plt.legend()"
   ]
  },
  {
   "cell_type": "code",
   "execution_count": null,
   "metadata": {},
   "outputs": [],
   "source": [
    "Question -  P3  - creating Naive Bayes and Decision Tree classifier"
   ]
  },
  {
   "cell_type": "code",
   "execution_count": 127,
   "metadata": {},
   "outputs": [],
   "source": [
    "from sklearn.preprocessing import LabelEncoder\n",
    "labelencoder=LabelEncoder()\n",
    "for col in mushroom_train.columns:\n",
    "    mushroom_train[col] = labelencoder.fit_transform(mushroom_train[col])"
   ]
  },
  {
   "cell_type": "code",
   "execution_count": 51,
   "metadata": {},
   "outputs": [],
   "source": [
    "##creating dummy variables\n",
    "mushroom_train= mushroom_train.iloc[:,1:]\n",
    "\n",
    "\n",
    "#X_test=pd.get_dummies(X_test,columns=X_test.columns,drop_first=True)"
   ]
  },
  {
   "cell_type": "code",
   "execution_count": 52,
   "metadata": {},
   "outputs": [],
   "source": [
    "predictors=pd.get_dummies(mushroom_train,columns=mushroom_train.columns,drop_first=True)"
   ]
  },
  {
   "cell_type": "code",
   "execution_count": 167,
   "metadata": {},
   "outputs": [],
   "source": [
    "#predictors = predictors.iloc[:,1:]"
   ]
  },
  {
   "cell_type": "code",
   "execution_count": 54,
   "metadata": {},
   "outputs": [],
   "source": [
    "from sklearn.metrics import accuracy_score"
   ]
  },
  {
   "cell_type": "code",
   "execution_count": 55,
   "metadata": {},
   "outputs": [],
   "source": [
    "import numpy as np\n",
    "from sklearn.naive_bayes import MultinomialNB\n",
    "\n"
   ]
  },
  {
   "cell_type": "code",
   "execution_count": 57,
   "metadata": {},
   "outputs": [
    {
     "data": {
      "text/html": [
       "<div>\n",
       "<style scoped>\n",
       "    .dataframe tbody tr th:only-of-type {\n",
       "        vertical-align: middle;\n",
       "    }\n",
       "\n",
       "    .dataframe tbody tr th {\n",
       "        vertical-align: top;\n",
       "    }\n",
       "\n",
       "    .dataframe thead th {\n",
       "        text-align: right;\n",
       "    }\n",
       "</style>\n",
       "<table border=\"1\" class=\"dataframe\">\n",
       "  <thead>\n",
       "    <tr style=\"text-align: right;\">\n",
       "      <th></th>\n",
       "      <th>V1</th>\n",
       "      <th>V2</th>\n",
       "      <th>V3</th>\n",
       "      <th>V4</th>\n",
       "      <th>V5</th>\n",
       "      <th>V6</th>\n",
       "      <th>V7</th>\n",
       "      <th>V8</th>\n",
       "      <th>V9</th>\n",
       "      <th>V10</th>\n",
       "      <th>...</th>\n",
       "      <th>V14</th>\n",
       "      <th>V15</th>\n",
       "      <th>V16</th>\n",
       "      <th>V17</th>\n",
       "      <th>V18</th>\n",
       "      <th>V19</th>\n",
       "      <th>V20</th>\n",
       "      <th>V21</th>\n",
       "      <th>V22</th>\n",
       "      <th>V23</th>\n",
       "    </tr>\n",
       "  </thead>\n",
       "  <tbody>\n",
       "    <tr>\n",
       "      <th>0</th>\n",
       "      <td>e</td>\n",
       "      <td>b</td>\n",
       "      <td>s</td>\n",
       "      <td>w</td>\n",
       "      <td>t</td>\n",
       "      <td>l</td>\n",
       "      <td>f</td>\n",
       "      <td>c</td>\n",
       "      <td>b</td>\n",
       "      <td>n</td>\n",
       "      <td>...</td>\n",
       "      <td>s</td>\n",
       "      <td>w</td>\n",
       "      <td>w</td>\n",
       "      <td>p</td>\n",
       "      <td>w</td>\n",
       "      <td>o</td>\n",
       "      <td>p</td>\n",
       "      <td>n</td>\n",
       "      <td>n</td>\n",
       "      <td>m</td>\n",
       "    </tr>\n",
       "    <tr>\n",
       "      <th>1</th>\n",
       "      <td>p</td>\n",
       "      <td>x</td>\n",
       "      <td>y</td>\n",
       "      <td>w</td>\n",
       "      <td>t</td>\n",
       "      <td>p</td>\n",
       "      <td>f</td>\n",
       "      <td>c</td>\n",
       "      <td>n</td>\n",
       "      <td>n</td>\n",
       "      <td>...</td>\n",
       "      <td>s</td>\n",
       "      <td>w</td>\n",
       "      <td>w</td>\n",
       "      <td>p</td>\n",
       "      <td>w</td>\n",
       "      <td>o</td>\n",
       "      <td>p</td>\n",
       "      <td>k</td>\n",
       "      <td>s</td>\n",
       "      <td>u</td>\n",
       "    </tr>\n",
       "    <tr>\n",
       "      <th>2</th>\n",
       "      <td>e</td>\n",
       "      <td>x</td>\n",
       "      <td>y</td>\n",
       "      <td>y</td>\n",
       "      <td>t</td>\n",
       "      <td>a</td>\n",
       "      <td>f</td>\n",
       "      <td>c</td>\n",
       "      <td>b</td>\n",
       "      <td>n</td>\n",
       "      <td>...</td>\n",
       "      <td>s</td>\n",
       "      <td>w</td>\n",
       "      <td>w</td>\n",
       "      <td>p</td>\n",
       "      <td>w</td>\n",
       "      <td>o</td>\n",
       "      <td>p</td>\n",
       "      <td>k</td>\n",
       "      <td>n</td>\n",
       "      <td>g</td>\n",
       "    </tr>\n",
       "    <tr>\n",
       "      <th>3</th>\n",
       "      <td>e</td>\n",
       "      <td>b</td>\n",
       "      <td>s</td>\n",
       "      <td>w</td>\n",
       "      <td>t</td>\n",
       "      <td>a</td>\n",
       "      <td>f</td>\n",
       "      <td>c</td>\n",
       "      <td>b</td>\n",
       "      <td>g</td>\n",
       "      <td>...</td>\n",
       "      <td>s</td>\n",
       "      <td>w</td>\n",
       "      <td>w</td>\n",
       "      <td>p</td>\n",
       "      <td>w</td>\n",
       "      <td>o</td>\n",
       "      <td>p</td>\n",
       "      <td>k</td>\n",
       "      <td>n</td>\n",
       "      <td>m</td>\n",
       "    </tr>\n",
       "    <tr>\n",
       "      <th>4</th>\n",
       "      <td>e</td>\n",
       "      <td>b</td>\n",
       "      <td>y</td>\n",
       "      <td>w</td>\n",
       "      <td>t</td>\n",
       "      <td>l</td>\n",
       "      <td>f</td>\n",
       "      <td>c</td>\n",
       "      <td>b</td>\n",
       "      <td>n</td>\n",
       "      <td>...</td>\n",
       "      <td>s</td>\n",
       "      <td>w</td>\n",
       "      <td>w</td>\n",
       "      <td>p</td>\n",
       "      <td>w</td>\n",
       "      <td>o</td>\n",
       "      <td>p</td>\n",
       "      <td>n</td>\n",
       "      <td>s</td>\n",
       "      <td>m</td>\n",
       "    </tr>\n",
       "  </tbody>\n",
       "</table>\n",
       "<p>5 rows × 23 columns</p>\n",
       "</div>"
      ],
      "text/plain": [
       "  V1 V2 V3 V4 V5 V6 V7 V8 V9 V10 ... V14 V15 V16 V17 V18 V19 V20 V21 V22 V23\n",
       "0  e  b  s  w  t  l  f  c  b   n ...   s   w   w   p   w   o   p   n   n   m\n",
       "1  p  x  y  w  t  p  f  c  n   n ...   s   w   w   p   w   o   p   k   s   u\n",
       "2  e  x  y  y  t  a  f  c  b   n ...   s   w   w   p   w   o   p   k   n   g\n",
       "3  e  b  s  w  t  a  f  c  b   g ...   s   w   w   p   w   o   p   k   n   m\n",
       "4  e  b  y  w  t  l  f  c  b   n ...   s   w   w   p   w   o   p   n   s   m\n",
       "\n",
       "[5 rows x 23 columns]"
      ]
     },
     "execution_count": 57,
     "metadata": {},
     "output_type": "execute_result"
    }
   ],
   "source": [
    "mushroom_test = pd.read_csv('test.csv')\n",
    "\n",
    "mushroom_test= mushroom_test.iloc[:,1:]\n",
    "mushroom_test.head()"
   ]
  },
  {
   "cell_type": "code",
   "execution_count": 58,
   "metadata": {},
   "outputs": [],
   "source": [
    "y_test = mushroom_test.iloc[:,0]\n",
    "mushroom_test = mushroom_test.iloc[:,1:]"
   ]
  },
  {
   "cell_type": "code",
   "execution_count": 59,
   "metadata": {},
   "outputs": [],
   "source": [
    "predictors_test=pd.get_dummies(mushroom_test,columns=mushroom_test.columns,drop_first=True)"
   ]
  },
  {
   "cell_type": "code",
   "execution_count": 68,
   "metadata": {},
   "outputs": [],
   "source": [
    "X_test = predictors_test"
   ]
  },
  {
   "cell_type": "code",
   "execution_count": 76,
   "metadata": {},
   "outputs": [],
   "source": [
    "X = predictors"
   ]
  },
  {
   "cell_type": "code",
   "execution_count": 80,
   "metadata": {},
   "outputs": [
    {
     "data": {
      "text/plain": [
       "(4907,)"
      ]
     },
     "execution_count": 80,
     "metadata": {},
     "output_type": "execute_result"
    }
   ],
   "source": [
    "Y.shape"
   ]
  },
  {
   "cell_type": "code",
   "execution_count": 81,
   "metadata": {},
   "outputs": [
    {
     "name": "stderr",
     "output_type": "stream",
     "text": [
      "C:\\Users\\703222761\\Anaconda3\\envs\\py36\\lib\\site-packages\\sklearn\\naive_bayes.py:480: UserWarning: alpha too small will result in numeric errors, setting alpha = 1.0e-10\n",
      "  'setting alpha = %.1e' % _ALPHA_MIN)\n"
     ]
    },
    {
     "name": "stdout",
     "output_type": "stream",
     "text": [
      "Predictions form the classifier:\n",
      "['e' 'e' 'e' ... 'p' 'e' 'e']\n"
     ]
    }
   ],
   "source": [
    "score_train_NB = []\n",
    "score_test_NB = []\n",
    "factor = []\n",
    "for i in range(50):\n",
    "    clf = MultinomialNB(alpha=i, class_prior=None, fit_prior=True)\n",
    "    clf.fit(X,Y)\n",
    "    y_pred_NB = clf.predict(X_test)\n",
    "    factor.append(i)\n",
    "    score_train_NB.append(accuracy_score(Y,clf.predict(X)))\n",
    "    score_test_NB.append(accuracy_score(y_test,clf.predict(X_test)))\n",
    "    \n",
    "    \n",
    "print(\"Predictions form the classifier:\")\n",
    "print(clf.predict(X_test))    "
   ]
  },
  {
   "cell_type": "code",
   "execution_count": 83,
   "metadata": {},
   "outputs": [],
   "source": [
    "df_NB = pd.DataFrame()\n",
    "df_NB['Training_accuracy'] = score_train_NB\n",
    "df_NB['Test_accuracy'] = score_test_NB\n",
    "df_NB['K'] =factor"
   ]
  },
  {
   "cell_type": "code",
   "execution_count": 84,
   "metadata": {},
   "outputs": [
    {
     "data": {
      "text/html": [
       "<div>\n",
       "<style scoped>\n",
       "    .dataframe tbody tr th:only-of-type {\n",
       "        vertical-align: middle;\n",
       "    }\n",
       "\n",
       "    .dataframe tbody tr th {\n",
       "        vertical-align: top;\n",
       "    }\n",
       "\n",
       "    .dataframe thead th {\n",
       "        text-align: right;\n",
       "    }\n",
       "</style>\n",
       "<table border=\"1\" class=\"dataframe\">\n",
       "  <thead>\n",
       "    <tr style=\"text-align: right;\">\n",
       "      <th></th>\n",
       "      <th>Training_accuracy</th>\n",
       "      <th>Test_accuracy</th>\n",
       "      <th>K</th>\n",
       "    </tr>\n",
       "  </thead>\n",
       "  <tbody>\n",
       "    <tr>\n",
       "      <th>0</th>\n",
       "      <td>0.996943</td>\n",
       "      <td>0.994716</td>\n",
       "      <td>0</td>\n",
       "    </tr>\n",
       "    <tr>\n",
       "      <th>1</th>\n",
       "      <td>0.953128</td>\n",
       "      <td>0.952440</td>\n",
       "      <td>1</td>\n",
       "    </tr>\n",
       "    <tr>\n",
       "      <th>2</th>\n",
       "      <td>0.945180</td>\n",
       "      <td>0.941871</td>\n",
       "      <td>2</td>\n",
       "    </tr>\n",
       "    <tr>\n",
       "      <th>3</th>\n",
       "      <td>0.941716</td>\n",
       "      <td>0.936898</td>\n",
       "      <td>3</td>\n",
       "    </tr>\n",
       "    <tr>\n",
       "      <th>4</th>\n",
       "      <td>0.940901</td>\n",
       "      <td>0.934722</td>\n",
       "      <td>4</td>\n",
       "    </tr>\n",
       "    <tr>\n",
       "      <th>5</th>\n",
       "      <td>0.937844</td>\n",
       "      <td>0.933478</td>\n",
       "      <td>5</td>\n",
       "    </tr>\n",
       "    <tr>\n",
       "      <th>6</th>\n",
       "      <td>0.936010</td>\n",
       "      <td>0.932235</td>\n",
       "      <td>6</td>\n",
       "    </tr>\n",
       "    <tr>\n",
       "      <th>7</th>\n",
       "      <td>0.935602</td>\n",
       "      <td>0.931302</td>\n",
       "      <td>7</td>\n",
       "    </tr>\n",
       "    <tr>\n",
       "      <th>8</th>\n",
       "      <td>0.934991</td>\n",
       "      <td>0.930370</td>\n",
       "      <td>8</td>\n",
       "    </tr>\n",
       "    <tr>\n",
       "      <th>9</th>\n",
       "      <td>0.934379</td>\n",
       "      <td>0.929127</td>\n",
       "      <td>9</td>\n",
       "    </tr>\n",
       "    <tr>\n",
       "      <th>10</th>\n",
       "      <td>0.933972</td>\n",
       "      <td>0.928505</td>\n",
       "      <td>10</td>\n",
       "    </tr>\n",
       "    <tr>\n",
       "      <th>11</th>\n",
       "      <td>0.933564</td>\n",
       "      <td>0.928505</td>\n",
       "      <td>11</td>\n",
       "    </tr>\n",
       "    <tr>\n",
       "      <th>12</th>\n",
       "      <td>0.933361</td>\n",
       "      <td>0.928505</td>\n",
       "      <td>12</td>\n",
       "    </tr>\n",
       "    <tr>\n",
       "      <th>13</th>\n",
       "      <td>0.933361</td>\n",
       "      <td>0.927572</td>\n",
       "      <td>13</td>\n",
       "    </tr>\n",
       "    <tr>\n",
       "      <th>14</th>\n",
       "      <td>0.933157</td>\n",
       "      <td>0.927261</td>\n",
       "      <td>14</td>\n",
       "    </tr>\n",
       "    <tr>\n",
       "      <th>15</th>\n",
       "      <td>0.932749</td>\n",
       "      <td>0.926329</td>\n",
       "      <td>15</td>\n",
       "    </tr>\n",
       "    <tr>\n",
       "      <th>16</th>\n",
       "      <td>0.932342</td>\n",
       "      <td>0.926018</td>\n",
       "      <td>16</td>\n",
       "    </tr>\n",
       "    <tr>\n",
       "      <th>17</th>\n",
       "      <td>0.932342</td>\n",
       "      <td>0.926018</td>\n",
       "      <td>17</td>\n",
       "    </tr>\n",
       "    <tr>\n",
       "      <th>18</th>\n",
       "      <td>0.932342</td>\n",
       "      <td>0.925707</td>\n",
       "      <td>18</td>\n",
       "    </tr>\n",
       "    <tr>\n",
       "      <th>19</th>\n",
       "      <td>0.931934</td>\n",
       "      <td>0.925707</td>\n",
       "      <td>19</td>\n",
       "    </tr>\n",
       "    <tr>\n",
       "      <th>20</th>\n",
       "      <td>0.931526</td>\n",
       "      <td>0.925707</td>\n",
       "      <td>20</td>\n",
       "    </tr>\n",
       "    <tr>\n",
       "      <th>21</th>\n",
       "      <td>0.931526</td>\n",
       "      <td>0.925085</td>\n",
       "      <td>21</td>\n",
       "    </tr>\n",
       "    <tr>\n",
       "      <th>22</th>\n",
       "      <td>0.931526</td>\n",
       "      <td>0.924775</td>\n",
       "      <td>22</td>\n",
       "    </tr>\n",
       "    <tr>\n",
       "      <th>23</th>\n",
       "      <td>0.931526</td>\n",
       "      <td>0.924775</td>\n",
       "      <td>23</td>\n",
       "    </tr>\n",
       "    <tr>\n",
       "      <th>24</th>\n",
       "      <td>0.931323</td>\n",
       "      <td>0.924464</td>\n",
       "      <td>24</td>\n",
       "    </tr>\n",
       "    <tr>\n",
       "      <th>25</th>\n",
       "      <td>0.931119</td>\n",
       "      <td>0.924464</td>\n",
       "      <td>25</td>\n",
       "    </tr>\n",
       "    <tr>\n",
       "      <th>26</th>\n",
       "      <td>0.930915</td>\n",
       "      <td>0.924464</td>\n",
       "      <td>26</td>\n",
       "    </tr>\n",
       "    <tr>\n",
       "      <th>27</th>\n",
       "      <td>0.930915</td>\n",
       "      <td>0.924153</td>\n",
       "      <td>27</td>\n",
       "    </tr>\n",
       "    <tr>\n",
       "      <th>28</th>\n",
       "      <td>0.930915</td>\n",
       "      <td>0.923842</td>\n",
       "      <td>28</td>\n",
       "    </tr>\n",
       "    <tr>\n",
       "      <th>29</th>\n",
       "      <td>0.930915</td>\n",
       "      <td>0.923842</td>\n",
       "      <td>29</td>\n",
       "    </tr>\n",
       "    <tr>\n",
       "      <th>30</th>\n",
       "      <td>0.930915</td>\n",
       "      <td>0.923531</td>\n",
       "      <td>30</td>\n",
       "    </tr>\n",
       "    <tr>\n",
       "      <th>31</th>\n",
       "      <td>0.930711</td>\n",
       "      <td>0.923531</td>\n",
       "      <td>31</td>\n",
       "    </tr>\n",
       "    <tr>\n",
       "      <th>32</th>\n",
       "      <td>0.930711</td>\n",
       "      <td>0.923531</td>\n",
       "      <td>32</td>\n",
       "    </tr>\n",
       "    <tr>\n",
       "      <th>33</th>\n",
       "      <td>0.930507</td>\n",
       "      <td>0.923531</td>\n",
       "      <td>33</td>\n",
       "    </tr>\n",
       "    <tr>\n",
       "      <th>34</th>\n",
       "      <td>0.930507</td>\n",
       "      <td>0.923531</td>\n",
       "      <td>34</td>\n",
       "    </tr>\n",
       "    <tr>\n",
       "      <th>35</th>\n",
       "      <td>0.930507</td>\n",
       "      <td>0.923220</td>\n",
       "      <td>35</td>\n",
       "    </tr>\n",
       "    <tr>\n",
       "      <th>36</th>\n",
       "      <td>0.930304</td>\n",
       "      <td>0.922910</td>\n",
       "      <td>36</td>\n",
       "    </tr>\n",
       "    <tr>\n",
       "      <th>37</th>\n",
       "      <td>0.929896</td>\n",
       "      <td>0.922910</td>\n",
       "      <td>37</td>\n",
       "    </tr>\n",
       "    <tr>\n",
       "      <th>38</th>\n",
       "      <td>0.929896</td>\n",
       "      <td>0.922910</td>\n",
       "      <td>38</td>\n",
       "    </tr>\n",
       "    <tr>\n",
       "      <th>39</th>\n",
       "      <td>0.929896</td>\n",
       "      <td>0.922599</td>\n",
       "      <td>39</td>\n",
       "    </tr>\n",
       "    <tr>\n",
       "      <th>40</th>\n",
       "      <td>0.929896</td>\n",
       "      <td>0.922599</td>\n",
       "      <td>40</td>\n",
       "    </tr>\n",
       "    <tr>\n",
       "      <th>41</th>\n",
       "      <td>0.929692</td>\n",
       "      <td>0.922288</td>\n",
       "      <td>41</td>\n",
       "    </tr>\n",
       "    <tr>\n",
       "      <th>42</th>\n",
       "      <td>0.929488</td>\n",
       "      <td>0.922288</td>\n",
       "      <td>42</td>\n",
       "    </tr>\n",
       "    <tr>\n",
       "      <th>43</th>\n",
       "      <td>0.929488</td>\n",
       "      <td>0.922288</td>\n",
       "      <td>43</td>\n",
       "    </tr>\n",
       "    <tr>\n",
       "      <th>44</th>\n",
       "      <td>0.929285</td>\n",
       "      <td>0.921977</td>\n",
       "      <td>44</td>\n",
       "    </tr>\n",
       "    <tr>\n",
       "      <th>45</th>\n",
       "      <td>0.929081</td>\n",
       "      <td>0.921977</td>\n",
       "      <td>45</td>\n",
       "    </tr>\n",
       "    <tr>\n",
       "      <th>46</th>\n",
       "      <td>0.928470</td>\n",
       "      <td>0.921977</td>\n",
       "      <td>46</td>\n",
       "    </tr>\n",
       "    <tr>\n",
       "      <th>47</th>\n",
       "      <td>0.928470</td>\n",
       "      <td>0.921977</td>\n",
       "      <td>47</td>\n",
       "    </tr>\n",
       "    <tr>\n",
       "      <th>48</th>\n",
       "      <td>0.928266</td>\n",
       "      <td>0.921977</td>\n",
       "      <td>48</td>\n",
       "    </tr>\n",
       "    <tr>\n",
       "      <th>49</th>\n",
       "      <td>0.928470</td>\n",
       "      <td>0.921977</td>\n",
       "      <td>49</td>\n",
       "    </tr>\n",
       "  </tbody>\n",
       "</table>\n",
       "</div>"
      ],
      "text/plain": [
       "    Training_accuracy  Test_accuracy   K\n",
       "0            0.996943       0.994716   0\n",
       "1            0.953128       0.952440   1\n",
       "2            0.945180       0.941871   2\n",
       "3            0.941716       0.936898   3\n",
       "4            0.940901       0.934722   4\n",
       "5            0.937844       0.933478   5\n",
       "6            0.936010       0.932235   6\n",
       "7            0.935602       0.931302   7\n",
       "8            0.934991       0.930370   8\n",
       "9            0.934379       0.929127   9\n",
       "10           0.933972       0.928505  10\n",
       "11           0.933564       0.928505  11\n",
       "12           0.933361       0.928505  12\n",
       "13           0.933361       0.927572  13\n",
       "14           0.933157       0.927261  14\n",
       "15           0.932749       0.926329  15\n",
       "16           0.932342       0.926018  16\n",
       "17           0.932342       0.926018  17\n",
       "18           0.932342       0.925707  18\n",
       "19           0.931934       0.925707  19\n",
       "20           0.931526       0.925707  20\n",
       "21           0.931526       0.925085  21\n",
       "22           0.931526       0.924775  22\n",
       "23           0.931526       0.924775  23\n",
       "24           0.931323       0.924464  24\n",
       "25           0.931119       0.924464  25\n",
       "26           0.930915       0.924464  26\n",
       "27           0.930915       0.924153  27\n",
       "28           0.930915       0.923842  28\n",
       "29           0.930915       0.923842  29\n",
       "30           0.930915       0.923531  30\n",
       "31           0.930711       0.923531  31\n",
       "32           0.930711       0.923531  32\n",
       "33           0.930507       0.923531  33\n",
       "34           0.930507       0.923531  34\n",
       "35           0.930507       0.923220  35\n",
       "36           0.930304       0.922910  36\n",
       "37           0.929896       0.922910  37\n",
       "38           0.929896       0.922910  38\n",
       "39           0.929896       0.922599  39\n",
       "40           0.929896       0.922599  40\n",
       "41           0.929692       0.922288  41\n",
       "42           0.929488       0.922288  42\n",
       "43           0.929488       0.922288  43\n",
       "44           0.929285       0.921977  44\n",
       "45           0.929081       0.921977  45\n",
       "46           0.928470       0.921977  46\n",
       "47           0.928470       0.921977  47\n",
       "48           0.928266       0.921977  48\n",
       "49           0.928470       0.921977  49"
      ]
     },
     "execution_count": 84,
     "metadata": {},
     "output_type": "execute_result"
    }
   ],
   "source": [
    "df_NB"
   ]
  },
  {
   "cell_type": "code",
   "execution_count": 88,
   "metadata": {},
   "outputs": [
    {
     "data": {
      "text/plain": [
       "<matplotlib.legend.Legend at 0x20662a16940>"
      ]
     },
     "execution_count": 88,
     "metadata": {},
     "output_type": "execute_result"
    },
    {
     "data": {
      "image/png": "[encoded data removed]",
      "text/plain": [
       "<Figure size 432x288 with 1 Axes>"
      ]
     },
     "metadata": {
      "needs_background": "light"
     },
     "output_type": "display_data"
    }
   ],
   "source": [
    "import matplotlib.pyplot as plt\n",
    "%matplotlib inline\n",
    "plt.plot( 'K', 'Training_accuracy', data=df_NB , markerfacecolor='blue', markersize=6, color='green', linewidth=4)\n",
    "plt.plot( 'K', 'Test_accuracy', data=df_NB, marker='', color='olive', linewidth=4, linestyle='dashed')\n",
    "plt.legend()"
   ]
  },
  {
   "cell_type": "code",
   "execution_count": 178,
   "metadata": {},
   "outputs": [],
   "source": [
    "mushroom_test = pd.read_csv('test.csv')\n",
    "mushroom_test = mushroom_test.iloc[:,1:24]"
   ]
  },
  {
   "cell_type": "code",
   "execution_count": 179,
   "metadata": {},
   "outputs": [],
   "source": [
    "X_test = mushroom_test.drop('V1',axis =  1)\n",
    "y_test = mushroom_test['V1']"
   ]
  },
  {
   "cell_type": "code",
   "execution_count": 180,
   "metadata": {},
   "outputs": [],
   "source": [
    "from sklearn.preprocessing import LabelEncoder\n",
    "labelencoder=LabelEncoder()\n",
    "for col in X_test.columns:\n",
    "    X_test[col] = labelencoder.fit_transform(X_test[col])"
   ]
  },
  {
   "cell_type": "code",
   "execution_count": 181,
   "metadata": {},
   "outputs": [],
   "source": [
    "X_test=pd.get_dummies(X_test,columns=X_test.columns,drop_first=True)"
   ]
  },
  {
   "cell_type": "code",
   "execution_count": 183,
   "metadata": {},
   "outputs": [],
   "source": [
    "\n",
    "y_pred_NB = clf.predict(X_test)"
   ]
  },
  {
   "cell_type": "code",
   "execution_count": 184,
   "metadata": {},
   "outputs": [
    {
     "data": {
      "text/plain": [
       "array([0, 0, 0, ..., 1, 0, 0], dtype=int64)"
      ]
     },
     "execution_count": 184,
     "metadata": {},
     "output_type": "execute_result"
    }
   ],
   "source": [
    "y_pred_NB"
   ]
  },
  {
   "cell_type": "code",
   "execution_count": 187,
   "metadata": {},
   "outputs": [],
   "source": [
    "score_test_NB = accuracy_score(y_pred_NB,clf.predict(X_test))"
   ]
  },
  {
   "cell_type": "code",
   "execution_count": 188,
   "metadata": {},
   "outputs": [
    {
     "data": {
      "text/plain": [
       "1.0"
      ]
     },
     "execution_count": 188,
     "metadata": {},
     "output_type": "execute_result"
    }
   ],
   "source": [
    "score_test_NB"
   ]
  },
  {
   "cell_type": "code",
   "execution_count": 217,
   "metadata": {},
   "outputs": [],
   "source": [
    "y_test = pd.DataFrame(y_test)"
   ]
  },
  {
   "cell_type": "code",
   "execution_count": 220,
   "metadata": {},
   "outputs": [],
   "source": [
    "from sklearn.preprocessing import LabelEncoder\n",
    "labelencoder=LabelEncoder()\n",
    "for col in y_test.columns:\n",
    "    y_test[col] = labelencoder.fit_transform(y_test[col])"
   ]
  },
  {
   "cell_type": "code",
   "execution_count": null,
   "metadata": {},
   "outputs": [],
   "source": []
  },
  {
   "cell_type": "code",
   "execution_count": null,
   "metadata": {},
   "outputs": [],
   "source": []
  },
  {
   "cell_type": "code",
   "execution_count": 93,
   "metadata": {},
   "outputs": [
    {
     "name": "stdout",
     "output_type": "stream",
     "text": [
      "Predictions form the classifier:\n",
      "['e' 'p' 'e' ... 'p' 'e' 'e']\n"
     ]
    }
   ],
   "source": [
    "#Decision Tree classifier\n",
    "from sklearn import tree\n",
    "from sklearn.tree import DecisionTreeClassifier \n",
    "score_train_DT = []\n",
    "score_test_DT = []\n",
    "factor = []\n",
    "for i in range(4,65,4):\n",
    "    clf_dt = DecisionTreeClassifier(criterion = \"gini\", splitter=\"best\", max_depth = i)\n",
    "    clf_dt = clf_dt.fit(X,Y)\n",
    "    y_pred_DT = clf_dt.predict(X_test)\n",
    "    factor.append(i)\n",
    "    score_train_DT.append(accuracy_score(Y,clf_dt.predict(X)))\n",
    "    score_test_DT.append(accuracy_score(y_test,clf_dt.predict(X_test)))\n",
    "    \n",
    "    \n",
    "    \n",
    "print(\"Predictions form the classifier:\")\n",
    "print(clf_dt.predict(X_test))"
   ]
  },
  {
   "cell_type": "code",
   "execution_count": 94,
   "metadata": {},
   "outputs": [],
   "source": [
    "df_DT = pd.DataFrame()\n",
    "df_DT['Training_accuracy'] = score_train_DT\n",
    "df_DT['Test_accuracy'] = score_test_DT\n",
    "df_DT['K'] =factor"
   ]
  },
  {
   "cell_type": "code",
   "execution_count": 95,
   "metadata": {},
   "outputs": [
    {
     "data": {
      "text/html": [
       "<div>\n",
       "<style scoped>\n",
       "    .dataframe tbody tr th:only-of-type {\n",
       "        vertical-align: middle;\n",
       "    }\n",
       "\n",
       "    .dataframe tbody tr th {\n",
       "        vertical-align: top;\n",
       "    }\n",
       "\n",
       "    .dataframe thead th {\n",
       "        text-align: right;\n",
       "    }\n",
       "</style>\n",
       "<table border=\"1\" class=\"dataframe\">\n",
       "  <thead>\n",
       "    <tr style=\"text-align: right;\">\n",
       "      <th></th>\n",
       "      <th>Training_accuracy</th>\n",
       "      <th>Test_accuracy</th>\n",
       "      <th>K</th>\n",
       "    </tr>\n",
       "  </thead>\n",
       "  <tbody>\n",
       "    <tr>\n",
       "      <th>0</th>\n",
       "      <td>0.988995</td>\n",
       "      <td>0.985701</td>\n",
       "      <td>4</td>\n",
       "    </tr>\n",
       "    <tr>\n",
       "      <th>1</th>\n",
       "      <td>1.000000</td>\n",
       "      <td>1.000000</td>\n",
       "      <td>8</td>\n",
       "    </tr>\n",
       "    <tr>\n",
       "      <th>2</th>\n",
       "      <td>1.000000</td>\n",
       "      <td>1.000000</td>\n",
       "      <td>12</td>\n",
       "    </tr>\n",
       "    <tr>\n",
       "      <th>3</th>\n",
       "      <td>1.000000</td>\n",
       "      <td>1.000000</td>\n",
       "      <td>16</td>\n",
       "    </tr>\n",
       "    <tr>\n",
       "      <th>4</th>\n",
       "      <td>1.000000</td>\n",
       "      <td>1.000000</td>\n",
       "      <td>20</td>\n",
       "    </tr>\n",
       "    <tr>\n",
       "      <th>5</th>\n",
       "      <td>1.000000</td>\n",
       "      <td>1.000000</td>\n",
       "      <td>24</td>\n",
       "    </tr>\n",
       "    <tr>\n",
       "      <th>6</th>\n",
       "      <td>1.000000</td>\n",
       "      <td>1.000000</td>\n",
       "      <td>28</td>\n",
       "    </tr>\n",
       "    <tr>\n",
       "      <th>7</th>\n",
       "      <td>1.000000</td>\n",
       "      <td>1.000000</td>\n",
       "      <td>32</td>\n",
       "    </tr>\n",
       "    <tr>\n",
       "      <th>8</th>\n",
       "      <td>1.000000</td>\n",
       "      <td>1.000000</td>\n",
       "      <td>36</td>\n",
       "    </tr>\n",
       "    <tr>\n",
       "      <th>9</th>\n",
       "      <td>1.000000</td>\n",
       "      <td>1.000000</td>\n",
       "      <td>40</td>\n",
       "    </tr>\n",
       "    <tr>\n",
       "      <th>10</th>\n",
       "      <td>1.000000</td>\n",
       "      <td>1.000000</td>\n",
       "      <td>44</td>\n",
       "    </tr>\n",
       "    <tr>\n",
       "      <th>11</th>\n",
       "      <td>1.000000</td>\n",
       "      <td>1.000000</td>\n",
       "      <td>48</td>\n",
       "    </tr>\n",
       "    <tr>\n",
       "      <th>12</th>\n",
       "      <td>1.000000</td>\n",
       "      <td>1.000000</td>\n",
       "      <td>52</td>\n",
       "    </tr>\n",
       "    <tr>\n",
       "      <th>13</th>\n",
       "      <td>1.000000</td>\n",
       "      <td>1.000000</td>\n",
       "      <td>56</td>\n",
       "    </tr>\n",
       "    <tr>\n",
       "      <th>14</th>\n",
       "      <td>1.000000</td>\n",
       "      <td>1.000000</td>\n",
       "      <td>60</td>\n",
       "    </tr>\n",
       "    <tr>\n",
       "      <th>15</th>\n",
       "      <td>1.000000</td>\n",
       "      <td>1.000000</td>\n",
       "      <td>64</td>\n",
       "    </tr>\n",
       "  </tbody>\n",
       "</table>\n",
       "</div>"
      ],
      "text/plain": [
       "    Training_accuracy  Test_accuracy   K\n",
       "0            0.988995       0.985701   4\n",
       "1            1.000000       1.000000   8\n",
       "2            1.000000       1.000000  12\n",
       "3            1.000000       1.000000  16\n",
       "4            1.000000       1.000000  20\n",
       "5            1.000000       1.000000  24\n",
       "6            1.000000       1.000000  28\n",
       "7            1.000000       1.000000  32\n",
       "8            1.000000       1.000000  36\n",
       "9            1.000000       1.000000  40\n",
       "10           1.000000       1.000000  44\n",
       "11           1.000000       1.000000  48\n",
       "12           1.000000       1.000000  52\n",
       "13           1.000000       1.000000  56\n",
       "14           1.000000       1.000000  60\n",
       "15           1.000000       1.000000  64"
      ]
     },
     "execution_count": 95,
     "metadata": {},
     "output_type": "execute_result"
    }
   ],
   "source": [
    "df_DT"
   ]
  },
  {
   "cell_type": "code",
   "execution_count": 96,
   "metadata": {},
   "outputs": [
    {
     "data": {
      "text/plain": [
       "<matplotlib.legend.Legend at 0x20662b01780>"
      ]
     },
     "execution_count": 96,
     "metadata": {},
     "output_type": "execute_result"
    },
    {
     "data": {
      "image/png": "[encoded data removed]",
      "text/plain": [
       "<Figure size 432x288 with 1 Axes>"
      ]
     },
     "metadata": {
      "needs_background": "light"
     },
     "output_type": "display_data"
    }
   ],
   "source": [
    "import matplotlib.pyplot as plt\n",
    "%matplotlib inline\n",
    "plt.plot( 'K', 'Training_accuracy', data=df_DT , markerfacecolor='blue', markersize=6, color='green', linewidth=4)\n",
    "plt.plot( 'K', 'Test_accuracy', data=df_DT, marker='', color='olive', linewidth=4, linestyle='dashed')\n",
    "plt.legend()"
   ]
  },
  {
   "cell_type": "code",
   "execution_count": null,
   "metadata": {},
   "outputs": [],
   "source": []
  },
  {
   "cell_type": "code",
   "execution_count": 14,
   "metadata": {},
   "outputs": [],
   "source": [
    "mushroom_test = pd.read_csv('test.csv')\n",
    "mushroom_train = mushroom_train.iloc[:,1:24]\n",
    "mushroom_test = mushroom_test.iloc[:,1:24]\n"
   ]
  },
  {
   "cell_type": "code",
   "execution_count": 16,
   "metadata": {},
   "outputs": [],
   "source": [
    "X_test = mushroom_test.drop('V1',axis =  1)\n",
    "y_test = mushroom_test['V1']\n",
    "X = mushroom_train.drop('V1', axis=1)  \n",
    "y = mushroom_train['V1'] "
   ]
  },
  {
   "cell_type": "code",
   "execution_count": 18,
   "metadata": {},
   "outputs": [],
   "source": [
    "##creating dummy variables\n",
    "\n",
    "X=pd.get_dummies(X,columns=X.columns,drop_first=True)\n",
    "\n",
    "X_test=pd.get_dummies(X_test,columns=X_test.columns,drop_first=True)\n"
   ]
  },
  {
   "cell_type": "code",
   "execution_count": 19,
   "metadata": {},
   "outputs": [],
   "source": [
    "from sklearn import tree\n",
    "from sklearn.tree import DecisionTreeClassifier \n",
    "classifier = DecisionTreeClassifier()  \n",
    "clf = DecisionTreeClassifier()\n",
    "clf = clf.fit(X,y)\n"
   ]
  },
  {
   "cell_type": "code",
   "execution_count": 7,
   "metadata": {},
   "outputs": [],
   "source": [
    "y_pred = clf.predict(X_test)"
   ]
  },
  {
   "cell_type": "code",
   "execution_count": 8,
   "metadata": {},
   "outputs": [
    {
     "name": "stdout",
     "output_type": "stream",
     "text": [
      "[[263   0]\n",
      " [  0 228]]\n",
      "             precision    recall  f1-score   support\n",
      "\n",
      "          e       1.00      1.00      1.00       263\n",
      "          p       1.00      1.00      1.00       228\n",
      "\n",
      "avg / total       1.00      1.00      1.00       491\n",
      "\n"
     ]
    }
   ],
   "source": [
    "from sklearn.metrics import classification_report, confusion_matrix  \n",
    "print(confusion_matrix(y_test, y_pred))  \n",
    "print(classification_report(y_test, y_pred))  "
   ]
  },
  {
   "cell_type": "code",
   "execution_count": null,
   "metadata": {},
   "outputs": [],
   "source": [
    " #Calculate the weighted entropy\n",
    "Weighted_Entropy = np.sum([(counts[i]/np.sum(counts))*entropy(data.where(data[split_attribute_name]==vals[i]).dropna()[target_name]) for i in range(len(vals))])"
   ]
  },
  {
   "cell_type": "code",
   "execution_count": 4,
   "metadata": {},
   "outputs": [
    {
     "data": {
      "text/html": [
       "<div>\n",
       "<style scoped>\n",
       "    .dataframe tbody tr th:only-of-type {\n",
       "        vertical-align: middle;\n",
       "    }\n",
       "\n",
       "    .dataframe tbody tr th {\n",
       "        vertical-align: top;\n",
       "    }\n",
       "\n",
       "    .dataframe thead th {\n",
       "        text-align: right;\n",
       "    }\n",
       "</style>\n",
       "<table border=\"1\" class=\"dataframe\">\n",
       "  <thead>\n",
       "    <tr style=\"text-align: right;\">\n",
       "      <th></th>\n",
       "      <th>V2_c</th>\n",
       "      <th>V2_f</th>\n",
       "      <th>V2_k</th>\n",
       "      <th>V2_s</th>\n",
       "      <th>V2_x</th>\n",
       "      <th>V3_g</th>\n",
       "      <th>V3_s</th>\n",
       "      <th>V3_y</th>\n",
       "      <th>V4_c</th>\n",
       "      <th>V4_e</th>\n",
       "      <th>...</th>\n",
       "      <th>V22_n</th>\n",
       "      <th>V22_s</th>\n",
       "      <th>V22_v</th>\n",
       "      <th>V22_y</th>\n",
       "      <th>V23_g</th>\n",
       "      <th>V23_l</th>\n",
       "      <th>V23_m</th>\n",
       "      <th>V23_p</th>\n",
       "      <th>V23_u</th>\n",
       "      <th>V23_w</th>\n",
       "    </tr>\n",
       "  </thead>\n",
       "  <tbody>\n",
       "    <tr>\n",
       "      <th>0</th>\n",
       "      <td>0</td>\n",
       "      <td>0</td>\n",
       "      <td>0</td>\n",
       "      <td>0</td>\n",
       "      <td>1</td>\n",
       "      <td>0</td>\n",
       "      <td>1</td>\n",
       "      <td>0</td>\n",
       "      <td>0</td>\n",
       "      <td>0</td>\n",
       "      <td>...</td>\n",
       "      <td>0</td>\n",
       "      <td>1</td>\n",
       "      <td>0</td>\n",
       "      <td>0</td>\n",
       "      <td>0</td>\n",
       "      <td>0</td>\n",
       "      <td>0</td>\n",
       "      <td>0</td>\n",
       "      <td>1</td>\n",
       "      <td>0</td>\n",
       "    </tr>\n",
       "    <tr>\n",
       "      <th>1</th>\n",
       "      <td>0</td>\n",
       "      <td>0</td>\n",
       "      <td>0</td>\n",
       "      <td>0</td>\n",
       "      <td>1</td>\n",
       "      <td>0</td>\n",
       "      <td>1</td>\n",
       "      <td>0</td>\n",
       "      <td>0</td>\n",
       "      <td>0</td>\n",
       "      <td>...</td>\n",
       "      <td>1</td>\n",
       "      <td>0</td>\n",
       "      <td>0</td>\n",
       "      <td>0</td>\n",
       "      <td>1</td>\n",
       "      <td>0</td>\n",
       "      <td>0</td>\n",
       "      <td>0</td>\n",
       "      <td>0</td>\n",
       "      <td>0</td>\n",
       "    </tr>\n",
       "    <tr>\n",
       "      <th>2</th>\n",
       "      <td>0</td>\n",
       "      <td>0</td>\n",
       "      <td>0</td>\n",
       "      <td>0</td>\n",
       "      <td>1</td>\n",
       "      <td>0</td>\n",
       "      <td>1</td>\n",
       "      <td>0</td>\n",
       "      <td>0</td>\n",
       "      <td>0</td>\n",
       "      <td>...</td>\n",
       "      <td>0</td>\n",
       "      <td>0</td>\n",
       "      <td>0</td>\n",
       "      <td>0</td>\n",
       "      <td>1</td>\n",
       "      <td>0</td>\n",
       "      <td>0</td>\n",
       "      <td>0</td>\n",
       "      <td>0</td>\n",
       "      <td>0</td>\n",
       "    </tr>\n",
       "    <tr>\n",
       "      <th>3</th>\n",
       "      <td>0</td>\n",
       "      <td>0</td>\n",
       "      <td>0</td>\n",
       "      <td>0</td>\n",
       "      <td>1</td>\n",
       "      <td>0</td>\n",
       "      <td>0</td>\n",
       "      <td>1</td>\n",
       "      <td>0</td>\n",
       "      <td>0</td>\n",
       "      <td>...</td>\n",
       "      <td>0</td>\n",
       "      <td>0</td>\n",
       "      <td>1</td>\n",
       "      <td>0</td>\n",
       "      <td>1</td>\n",
       "      <td>0</td>\n",
       "      <td>0</td>\n",
       "      <td>0</td>\n",
       "      <td>0</td>\n",
       "      <td>0</td>\n",
       "    </tr>\n",
       "    <tr>\n",
       "      <th>4</th>\n",
       "      <td>0</td>\n",
       "      <td>0</td>\n",
       "      <td>0</td>\n",
       "      <td>0</td>\n",
       "      <td>1</td>\n",
       "      <td>0</td>\n",
       "      <td>0</td>\n",
       "      <td>1</td>\n",
       "      <td>0</td>\n",
       "      <td>0</td>\n",
       "      <td>...</td>\n",
       "      <td>0</td>\n",
       "      <td>1</td>\n",
       "      <td>0</td>\n",
       "      <td>0</td>\n",
       "      <td>0</td>\n",
       "      <td>0</td>\n",
       "      <td>1</td>\n",
       "      <td>0</td>\n",
       "      <td>0</td>\n",
       "      <td>0</td>\n",
       "    </tr>\n",
       "  </tbody>\n",
       "</table>\n",
       "<p>5 rows × 94 columns</p>\n",
       "</div>"
      ],
      "text/plain": [
       "   V2_c  V2_f  V2_k  V2_s  V2_x  V3_g  V3_s  V3_y  V4_c  V4_e  ...    V22_n  \\\n",
       "0     0     0     0     0     1     0     1     0     0     0  ...        0   \n",
       "1     0     0     0     0     1     0     1     0     0     0  ...        1   \n",
       "2     0     0     0     0     1     0     1     0     0     0  ...        0   \n",
       "3     0     0     0     0     1     0     0     1     0     0  ...        0   \n",
       "4     0     0     0     0     1     0     0     1     0     0  ...        0   \n",
       "\n",
       "   V22_s  V22_v  V22_y  V23_g  V23_l  V23_m  V23_p  V23_u  V23_w  \n",
       "0      1      0      0      0      0      0      0      1      0  \n",
       "1      0      0      0      1      0      0      0      0      0  \n",
       "2      0      0      0      1      0      0      0      0      0  \n",
       "3      0      1      0      1      0      0      0      0      0  \n",
       "4      1      0      0      0      0      1      0      0      0  \n",
       "\n",
       "[5 rows x 94 columns]"
      ]
     },
     "execution_count": 4,
     "metadata": {},
     "output_type": "execute_result"
    }
   ],
   "source": [
    "\n",
    "##creting dummy vars\n",
    "X=pd.get_dummies(X,columns=X.columns,drop_first=True)\n",
    "X.head()"
   ]
  },
  {
   "cell_type": "code",
   "execution_count": 5,
   "metadata": {},
   "outputs": [],
   "source": [
    "from sklearn.model_selection import train_test_split  \n",
    "X_train, X_test, y_train, y_test = train_test_split(X, y, test_size=0.10) "
   ]
  },
  {
   "cell_type": "code",
   "execution_count": 6,
   "metadata": {},
   "outputs": [],
   "source": [
    "from sklearn import tree\n",
    "from sklearn.tree import DecisionTreeClassifier  \n",
    "classifier = DecisionTreeClassifier()  \n",
    "clf = DecisionTreeClassifier()\n",
    "clf = clf.fit(X_train, y_train)\n"
   ]
  },
  {
   "cell_type": "code",
   "execution_count": null,
   "metadata": {},
   "outputs": [],
   "source": []
  },
  {
   "cell_type": "code",
   "execution_count": null,
   "metadata": {},
   "outputs": [],
   "source": []
  },
  {
   "cell_type": "code",
   "execution_count": null,
   "metadata": {},
   "outputs": [],
   "source": []
  },
  {
   "cell_type": "code",
   "execution_count": null,
   "metadata": {},
   "outputs": [],
   "source": []
  },
  {
   "cell_type": "code",
   "execution_count": null,
   "metadata": {},
   "outputs": [],
   "source": []
  },
  {
   "cell_type": "code",
   "execution_count": null,
   "metadata": {},
   "outputs": [],
   "source": []
  },
  {
   "cell_type": "code",
   "execution_count": null,
   "metadata": {},
   "outputs": [],
   "source": []
  },
  {
   "cell_type": "code",
   "execution_count": null,
   "metadata": {},
   "outputs": [],
   "source": []
  }
 ],
 "metadata": {
  "kernelspec": {
   "display_name": "Python 3",
   "language": "python",
   "name": "python3"
  },
  "language_info": {
   "codemirror_mode": {
    "name": "ipython",
    "version": 3
   },
   "file_extension": ".py",
   "mimetype": "text/x-python",
   "name": "python",
   "nbconvert_exporter": "python",
   "pygments_lexer": "ipython3",
   "version": "3.7.0"
  }
 },
 "nbformat": 4,
 "nbformat_minor": 2
}
