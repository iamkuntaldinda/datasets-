{
 "cells": [
  {
   "cell_type": "markdown",
   "metadata": {},
   "source": [
    "### Installing required Packages"
   ]
  },
  {
   "cell_type": "code",
   "execution_count": 1,
   "metadata": {},
   "outputs": [],
   "source": [
    "from scipy.io import arff"
   ]
  },
  {
   "cell_type": "code",
   "execution_count": 5,
   "metadata": {},
   "outputs": [],
   "source": [
    "import pandas as pd\n",
    "import numpy as np\n",
    "import matplotlib.pyplot as plt\n",
    "import seaborn as sns\n",
    "import numpy as np\n",
    "from scipy.stats import norm\n",
    "from sklearn.preprocessing import StandardScaler\n",
    "from scipy import stats\n",
    "import warnings\n",
    "import scipy, scipy.stats\n",
    "#import statsmodels.formula.api as sm\n",
    "from sklearn import linear_model\n",
    "warnings.filterwarnings('ignore')\n",
    "%matplotlib inline"
   ]
  },
  {
   "cell_type": "code",
   "execution_count": 6,
   "metadata": {},
   "outputs": [
    {
     "data": {
      "text/html": [
       "<div>\n",
       "<style scoped>\n",
       "    .dataframe tbody tr th:only-of-type {\n",
       "        vertical-align: middle;\n",
       "    }\n",
       "\n",
       "    .dataframe tbody tr th {\n",
       "        vertical-align: top;\n",
       "    }\n",
       "\n",
       "    .dataframe thead th {\n",
       "        text-align: right;\n",
       "    }\n",
       "</style>\n",
       "<table border=\"1\" class=\"dataframe\">\n",
       "  <thead>\n",
       "    <tr style=\"text-align: right;\">\n",
       "      <th></th>\n",
       "      <th>Attr1</th>\n",
       "      <th>Attr2</th>\n",
       "      <th>Attr3</th>\n",
       "      <th>Attr4</th>\n",
       "      <th>Attr5</th>\n",
       "      <th>Attr6</th>\n",
       "      <th>Attr7</th>\n",
       "      <th>Attr8</th>\n",
       "      <th>Attr9</th>\n",
       "      <th>Attr10</th>\n",
       "      <th>...</th>\n",
       "      <th>Attr56</th>\n",
       "      <th>Attr57</th>\n",
       "      <th>Attr58</th>\n",
       "      <th>Attr59</th>\n",
       "      <th>Attr60</th>\n",
       "      <th>Attr61</th>\n",
       "      <th>Attr62</th>\n",
       "      <th>Attr63</th>\n",
       "      <th>Attr64</th>\n",
       "      <th>class</th>\n",
       "    </tr>\n",
       "  </thead>\n",
       "  <tbody>\n",
       "    <tr>\n",
       "      <th>0</th>\n",
       "      <td>0.174190</td>\n",
       "      <td>0.41299</td>\n",
       "      <td>0.14371</td>\n",
       "      <td>1.3480</td>\n",
       "      <td>-28.9820</td>\n",
       "      <td>0.60383</td>\n",
       "      <td>0.219460</td>\n",
       "      <td>1.1225</td>\n",
       "      <td>1.1961</td>\n",
       "      <td>0.46359</td>\n",
       "      <td>...</td>\n",
       "      <td>0.163960</td>\n",
       "      <td>0.375740</td>\n",
       "      <td>0.83604</td>\n",
       "      <td>0.000007</td>\n",
       "      <td>9.7145</td>\n",
       "      <td>6.2813</td>\n",
       "      <td>84.291</td>\n",
       "      <td>4.3303</td>\n",
       "      <td>4.0341</td>\n",
       "      <td>b'0'</td>\n",
       "    </tr>\n",
       "    <tr>\n",
       "      <th>1</th>\n",
       "      <td>0.146240</td>\n",
       "      <td>0.46038</td>\n",
       "      <td>0.28230</td>\n",
       "      <td>1.6294</td>\n",
       "      <td>2.5952</td>\n",
       "      <td>0.00000</td>\n",
       "      <td>0.171850</td>\n",
       "      <td>1.1721</td>\n",
       "      <td>1.6018</td>\n",
       "      <td>0.53962</td>\n",
       "      <td>...</td>\n",
       "      <td>0.027516</td>\n",
       "      <td>0.271000</td>\n",
       "      <td>0.90108</td>\n",
       "      <td>0.000000</td>\n",
       "      <td>5.9882</td>\n",
       "      <td>4.1103</td>\n",
       "      <td>102.190</td>\n",
       "      <td>3.5716</td>\n",
       "      <td>5.9500</td>\n",
       "      <td>b'0'</td>\n",
       "    </tr>\n",
       "    <tr>\n",
       "      <th>2</th>\n",
       "      <td>0.000595</td>\n",
       "      <td>0.22612</td>\n",
       "      <td>0.48839</td>\n",
       "      <td>3.1599</td>\n",
       "      <td>84.8740</td>\n",
       "      <td>0.19114</td>\n",
       "      <td>0.004572</td>\n",
       "      <td>2.9881</td>\n",
       "      <td>1.0077</td>\n",
       "      <td>0.67566</td>\n",
       "      <td>...</td>\n",
       "      <td>0.007639</td>\n",
       "      <td>0.000881</td>\n",
       "      <td>0.99236</td>\n",
       "      <td>0.000000</td>\n",
       "      <td>6.7742</td>\n",
       "      <td>3.7922</td>\n",
       "      <td>64.846</td>\n",
       "      <td>5.6287</td>\n",
       "      <td>4.4581</td>\n",
       "      <td>b'0'</td>\n",
       "    </tr>\n",
       "    <tr>\n",
       "      <th>3</th>\n",
       "      <td>0.024526</td>\n",
       "      <td>0.43236</td>\n",
       "      <td>0.27546</td>\n",
       "      <td>1.7833</td>\n",
       "      <td>-10.1050</td>\n",
       "      <td>0.56944</td>\n",
       "      <td>0.024526</td>\n",
       "      <td>1.3057</td>\n",
       "      <td>1.0509</td>\n",
       "      <td>0.56453</td>\n",
       "      <td>...</td>\n",
       "      <td>0.048398</td>\n",
       "      <td>0.043445</td>\n",
       "      <td>0.95160</td>\n",
       "      <td>0.142980</td>\n",
       "      <td>4.2286</td>\n",
       "      <td>5.0528</td>\n",
       "      <td>98.783</td>\n",
       "      <td>3.6950</td>\n",
       "      <td>3.4844</td>\n",
       "      <td>b'0'</td>\n",
       "    </tr>\n",
       "    <tr>\n",
       "      <th>4</th>\n",
       "      <td>0.188290</td>\n",
       "      <td>0.41504</td>\n",
       "      <td>0.34231</td>\n",
       "      <td>1.9279</td>\n",
       "      <td>-58.2740</td>\n",
       "      <td>0.00000</td>\n",
       "      <td>0.233580</td>\n",
       "      <td>1.4094</td>\n",
       "      <td>1.3393</td>\n",
       "      <td>0.58496</td>\n",
       "      <td>...</td>\n",
       "      <td>0.176480</td>\n",
       "      <td>0.321880</td>\n",
       "      <td>0.82635</td>\n",
       "      <td>0.073039</td>\n",
       "      <td>2.5912</td>\n",
       "      <td>7.0756</td>\n",
       "      <td>100.540</td>\n",
       "      <td>3.6303</td>\n",
       "      <td>4.6375</td>\n",
       "      <td>b'0'</td>\n",
       "    </tr>\n",
       "  </tbody>\n",
       "</table>\n",
       "<p>5 rows × 65 columns</p>\n",
       "</div>"
      ],
      "text/plain": [
       "      Attr1    Attr2    Attr3   Attr4    Attr5    Attr6     Attr7   Attr8  \\\n",
       "0  0.174190  0.41299  0.14371  1.3480 -28.9820  0.60383  0.219460  1.1225   \n",
       "1  0.146240  0.46038  0.28230  1.6294   2.5952  0.00000  0.171850  1.1721   \n",
       "2  0.000595  0.22612  0.48839  3.1599  84.8740  0.19114  0.004572  2.9881   \n",
       "3  0.024526  0.43236  0.27546  1.7833 -10.1050  0.56944  0.024526  1.3057   \n",
       "4  0.188290  0.41504  0.34231  1.9279 -58.2740  0.00000  0.233580  1.4094   \n",
       "\n",
       "    Attr9   Attr10  ...      Attr56    Attr57   Attr58    Attr59  Attr60  \\\n",
       "0  1.1961  0.46359  ...    0.163960  0.375740  0.83604  0.000007  9.7145   \n",
       "1  1.6018  0.53962  ...    0.027516  0.271000  0.90108  0.000000  5.9882   \n",
       "2  1.0077  0.67566  ...    0.007639  0.000881  0.99236  0.000000  6.7742   \n",
       "3  1.0509  0.56453  ...    0.048398  0.043445  0.95160  0.142980  4.2286   \n",
       "4  1.3393  0.58496  ...    0.176480  0.321880  0.82635  0.073039  2.5912   \n",
       "\n",
       "   Attr61   Attr62  Attr63  Attr64  class  \n",
       "0  6.2813   84.291  4.3303  4.0341   b'0'  \n",
       "1  4.1103  102.190  3.5716  5.9500   b'0'  \n",
       "2  3.7922   64.846  5.6287  4.4581   b'0'  \n",
       "3  5.0528   98.783  3.6950  3.4844   b'0'  \n",
       "4  7.0756  100.540  3.6303  4.6375   b'0'  \n",
       "\n",
       "[5 rows x 65 columns]"
      ]
     },
     "execution_count": 6,
     "metadata": {},
     "output_type": "execute_result"
    }
   ],
   "source": [
    "from scipy.io import arff\n",
    "import pandas as pd\n",
    "\n",
    "data = arff.loadarff('3year.arff')\n",
    "df = pd.DataFrame(data[0])\n",
    "\n",
    "df.head()"
   ]
  },
  {
   "cell_type": "code",
   "execution_count": 4,
   "metadata": {},
   "outputs": [],
   "source": [
    "data2 = arff.loadarff('2year.arff')\n",
    "df2 = pd.DataFrame(data2[0])\n",
    "\n",
    "data3 = arff.loadarff('3year.arff')\n",
    "df = pd.DataFrame(data3[0])\n",
    "\n",
    "data4 = arff.loadarff('4year.arff')\n",
    "df4 = pd.DataFrame(data4[0])\n",
    "\n",
    "data5 = arff.loadarff('5year.arff')\n",
    "df5 = pd.DataFrame(data5[0])"
   ]
  },
  {
   "cell_type": "code",
   "execution_count": 41,
   "metadata": {},
   "outputs": [],
   "source": [
    "final = df.append([df2,df3,df4,df5])"
   ]
  },
  {
   "cell_type": "code",
   "execution_count": 42,
   "metadata": {},
   "outputs": [
    {
     "data": {
      "text/plain": [
       "(43405, 65)"
      ]
     },
     "execution_count": 42,
     "metadata": {},
     "output_type": "execute_result"
    }
   ],
   "source": [
    "final.shape"
   ]
  },
  {
   "cell_type": "code",
   "execution_count": 82,
   "metadata": {},
   "outputs": [],
   "source": [
    "df.to_csv('df.csv')"
   ]
  },
  {
   "cell_type": "code",
   "execution_count": null,
   "metadata": {},
   "outputs": [],
   "source": []
  },
  {
   "cell_type": "code",
   "execution_count": 1,
   "metadata": {},
   "outputs": [],
   "source": [
    "import matplotlib\n",
    "import missingno as msno\n",
    "%matplotlib inline"
   ]
  },
  {
   "cell_type": "code",
   "execution_count": null,
   "metadata": {},
   "outputs": [],
   "source": [
    "#df.rename(columns={'Attr1': 'newName1', 'oldName2': 'newName2'}, inplace=True)"
   ]
  },
  {
   "cell_type": "code",
   "execution_count": 5,
   "metadata": {},
   "outputs": [],
   "source": [
    "train = df.iloc[:,:64]\n",
    "train_labels = df.iloc[:,np.r_[64]]"
   ]
  },
  {
   "cell_type": "code",
   "execution_count": 6,
   "metadata": {},
   "outputs": [],
   "source": [
    "missingdata_df = df.isnull().any()"
   ]
  },
  {
   "cell_type": "code",
   "execution_count": 7,
   "metadata": {},
   "outputs": [
    {
     "data": {
      "text/plain": [
       "[True,\n",
       " True,\n",
       " True,\n",
       " True,\n",
       " True,\n",
       " True,\n",
       " True,\n",
       " True,\n",
       " True,\n",
       " True,\n",
       " True,\n",
       " True,\n",
       " False,\n",
       " True,\n",
       " True,\n",
       " True,\n",
       " True,\n",
       " True,\n",
       " False,\n",
       " False,\n",
       " True,\n",
       " True,\n",
       " False,\n",
       " True,\n",
       " True,\n",
       " True,\n",
       " True,\n",
       " True,\n",
       " True,\n",
       " False,\n",
       " False,\n",
       " True,\n",
       " True,\n",
       " True,\n",
       " True,\n",
       " True,\n",
       " True,\n",
       " True,\n",
       " False,\n",
       " True,\n",
       " True,\n",
       " False,\n",
       " False,\n",
       " False,\n",
       " True,\n",
       " True,\n",
       " True,\n",
       " True,\n",
       " False,\n",
       " True,\n",
       " True,\n",
       " True,\n",
       " True,\n",
       " True,\n",
       " False,\n",
       " False,\n",
       " True,\n",
       " False,\n",
       " True,\n",
       " True,\n",
       " True,\n",
       " False,\n",
       " True,\n",
       " True,\n",
       " False]"
      ]
     },
     "execution_count": 7,
     "metadata": {},
     "output_type": "execute_result"
    }
   ],
   "source": [
    "columns_missing  =  list(missingdata_df)\n",
    "columns_missing"
   ]
  },
  {
   "cell_type": "code",
   "execution_count": 6,
   "metadata": {},
   "outputs": [
    {
     "data": {
      "text/plain": [
       "<matplotlib.axes._subplots.AxesSubplot at 0x1ad99fcf3c8>"
      ]
     },
     "execution_count": 6,
     "metadata": {},
     "output_type": "execute_result"
    },
    {
     "data": {
      "image/png": "[encoded data removed]",
      "text/plain": [
       "<Figure size 1800x720 with 2 Axes>"
      ]
     },
     "metadata": {
      "needs_background": "light"
     },
     "output_type": "display_data"
    }
   ],
   "source": [
    "msno.matrix(df)"
   ]
  },
  {
   "cell_type": "code",
   "execution_count": 7,
   "metadata": {},
   "outputs": [
    {
     "data": {
      "text/plain": [
       "<matplotlib.axes._subplots.AxesSubplot at 0x1ad9ab901d0>"
      ]
     },
     "execution_count": 7,
     "metadata": {},
     "output_type": "execute_result"
    },
    {
     "data": {
      "image/png": "[encoded data removed]",
      "text/plain": [
       "<Figure size 1440x720 with 2 Axes>"
      ]
     },
     "metadata": {
      "needs_background": "light"
     },
     "output_type": "display_data"
    }
   ],
   "source": [
    "msno.bar(df,color = \"green\",figsize = (20,10))"
   ]
  },
  {
   "cell_type": "markdown",
   "metadata": {},
   "source": [
    "# only Attr 3,6,7,8,9"
   ]
  },
  {
   "cell_type": "code",
   "execution_count": 134,
   "metadata": {},
   "outputs": [],
   "source": [
    "df_sub = df.iloc[:,np.r_[2,5:9]]"
   ]
  },
  {
   "cell_type": "code",
   "execution_count": 135,
   "metadata": {},
   "outputs": [
    {
     "data": {
      "text/plain": [
       "<matplotlib.axes._subplots.AxesSubplot at 0x267f6f5b1d0>"
      ]
     },
     "execution_count": 135,
     "metadata": {},
     "output_type": "execute_result"
    },
    {
     "data": {
      "image/png": "[encoded data removed]",
      "text/plain": [
       "<Figure size 1440x720 with 3 Axes>"
      ]
     },
     "metadata": {
      "needs_background": "light"
     },
     "output_type": "display_data"
    }
   ],
   "source": [
    "msno.bar(df_sub,color = \"green\",figsize = (20,10))"
   ]
  },
  {
   "cell_type": "code",
   "execution_count": null,
   "metadata": {},
   "outputs": [],
   "source": []
  },
  {
   "cell_type": "code",
   "execution_count": null,
   "metadata": {},
   "outputs": [],
   "source": []
  },
  {
   "cell_type": "code",
   "execution_count": null,
   "metadata": {},
   "outputs": [],
   "source": []
  },
  {
   "cell_type": "code",
   "execution_count": null,
   "metadata": {},
   "outputs": [],
   "source": []
  },
  {
   "cell_type": "code",
   "execution_count": null,
   "metadata": {},
   "outputs": [],
   "source": []
  },
  {
   "cell_type": "code",
   "execution_count": 7,
   "metadata": {},
   "outputs": [],
   "source": [
    "##one column dropped\n",
    "df_new = df.iloc[:,np.r_[0:36,37:65]]"
   ]
  },
  {
   "cell_type": "code",
   "execution_count": 8,
   "metadata": {},
   "outputs": [
    {
     "data": {
      "text/html": [
       "<div>\n",
       "<style scoped>\n",
       "    .dataframe tbody tr th:only-of-type {\n",
       "        vertical-align: middle;\n",
       "    }\n",
       "\n",
       "    .dataframe tbody tr th {\n",
       "        vertical-align: top;\n",
       "    }\n",
       "\n",
       "    .dataframe thead th {\n",
       "        text-align: right;\n",
       "    }\n",
       "</style>\n",
       "<table border=\"1\" class=\"dataframe\">\n",
       "  <thead>\n",
       "    <tr style=\"text-align: right;\">\n",
       "      <th></th>\n",
       "      <th>Attr1</th>\n",
       "      <th>Attr2</th>\n",
       "      <th>Attr3</th>\n",
       "      <th>Attr4</th>\n",
       "      <th>Attr5</th>\n",
       "      <th>Attr6</th>\n",
       "      <th>Attr7</th>\n",
       "      <th>Attr8</th>\n",
       "      <th>Attr9</th>\n",
       "      <th>Attr10</th>\n",
       "      <th>...</th>\n",
       "      <th>Attr56</th>\n",
       "      <th>Attr57</th>\n",
       "      <th>Attr58</th>\n",
       "      <th>Attr59</th>\n",
       "      <th>Attr60</th>\n",
       "      <th>Attr61</th>\n",
       "      <th>Attr62</th>\n",
       "      <th>Attr63</th>\n",
       "      <th>Attr64</th>\n",
       "      <th>class</th>\n",
       "    </tr>\n",
       "  </thead>\n",
       "  <tbody>\n",
       "    <tr>\n",
       "      <th>0</th>\n",
       "      <td>0.174190</td>\n",
       "      <td>0.412990</td>\n",
       "      <td>0.143710</td>\n",
       "      <td>1.34800</td>\n",
       "      <td>-28.98200</td>\n",
       "      <td>0.603830</td>\n",
       "      <td>0.219460</td>\n",
       "      <td>1.122500</td>\n",
       "      <td>1.19610</td>\n",
       "      <td>0.463590</td>\n",
       "      <td>...</td>\n",
       "      <td>0.163960</td>\n",
       "      <td>0.375740</td>\n",
       "      <td>0.83604</td>\n",
       "      <td>0.000007</td>\n",
       "      <td>9.71450</td>\n",
       "      <td>6.28130</td>\n",
       "      <td>84.2910</td>\n",
       "      <td>4.33030</td>\n",
       "      <td>4.03410</td>\n",
       "      <td>b'0'</td>\n",
       "    </tr>\n",
       "    <tr>\n",
       "      <th>1</th>\n",
       "      <td>0.146240</td>\n",
       "      <td>0.460380</td>\n",
       "      <td>0.282300</td>\n",
       "      <td>1.62940</td>\n",
       "      <td>2.59520</td>\n",
       "      <td>0.000000</td>\n",
       "      <td>0.171850</td>\n",
       "      <td>1.172100</td>\n",
       "      <td>1.60180</td>\n",
       "      <td>0.539620</td>\n",
       "      <td>...</td>\n",
       "      <td>0.027516</td>\n",
       "      <td>0.271000</td>\n",
       "      <td>0.90108</td>\n",
       "      <td>0.000000</td>\n",
       "      <td>5.98820</td>\n",
       "      <td>4.11030</td>\n",
       "      <td>102.1900</td>\n",
       "      <td>3.57160</td>\n",
       "      <td>5.95000</td>\n",
       "      <td>b'0'</td>\n",
       "    </tr>\n",
       "    <tr>\n",
       "      <th>2</th>\n",
       "      <td>0.000595</td>\n",
       "      <td>0.226120</td>\n",
       "      <td>0.488390</td>\n",
       "      <td>3.15990</td>\n",
       "      <td>84.87400</td>\n",
       "      <td>0.191140</td>\n",
       "      <td>0.004572</td>\n",
       "      <td>2.988100</td>\n",
       "      <td>1.00770</td>\n",
       "      <td>0.675660</td>\n",
       "      <td>...</td>\n",
       "      <td>0.007639</td>\n",
       "      <td>0.000881</td>\n",
       "      <td>0.99236</td>\n",
       "      <td>0.000000</td>\n",
       "      <td>6.77420</td>\n",
       "      <td>3.79220</td>\n",
       "      <td>64.8460</td>\n",
       "      <td>5.62870</td>\n",
       "      <td>4.45810</td>\n",
       "      <td>b'0'</td>\n",
       "    </tr>\n",
       "    <tr>\n",
       "      <th>3</th>\n",
       "      <td>0.024526</td>\n",
       "      <td>0.432360</td>\n",
       "      <td>0.275460</td>\n",
       "      <td>1.78330</td>\n",
       "      <td>-10.10500</td>\n",
       "      <td>0.569440</td>\n",
       "      <td>0.024526</td>\n",
       "      <td>1.305700</td>\n",
       "      <td>1.05090</td>\n",
       "      <td>0.564530</td>\n",
       "      <td>...</td>\n",
       "      <td>0.048398</td>\n",
       "      <td>0.043445</td>\n",
       "      <td>0.95160</td>\n",
       "      <td>0.142980</td>\n",
       "      <td>4.22860</td>\n",
       "      <td>5.05280</td>\n",
       "      <td>98.7830</td>\n",
       "      <td>3.69500</td>\n",
       "      <td>3.48440</td>\n",
       "      <td>b'0'</td>\n",
       "    </tr>\n",
       "    <tr>\n",
       "      <th>4</th>\n",
       "      <td>0.188290</td>\n",
       "      <td>0.415040</td>\n",
       "      <td>0.342310</td>\n",
       "      <td>1.92790</td>\n",
       "      <td>-58.27400</td>\n",
       "      <td>0.000000</td>\n",
       "      <td>0.233580</td>\n",
       "      <td>1.409400</td>\n",
       "      <td>1.33930</td>\n",
       "      <td>0.584960</td>\n",
       "      <td>...</td>\n",
       "      <td>0.176480</td>\n",
       "      <td>0.321880</td>\n",
       "      <td>0.82635</td>\n",
       "      <td>0.073039</td>\n",
       "      <td>2.59120</td>\n",
       "      <td>7.07560</td>\n",
       "      <td>100.5400</td>\n",
       "      <td>3.63030</td>\n",
       "      <td>4.63750</td>\n",
       "      <td>b'0'</td>\n",
       "    </tr>\n",
       "    <tr>\n",
       "      <th>5</th>\n",
       "      <td>0.182060</td>\n",
       "      <td>0.556150</td>\n",
       "      <td>0.321910</td>\n",
       "      <td>1.60450</td>\n",
       "      <td>16.31400</td>\n",
       "      <td>0.000000</td>\n",
       "      <td>0.182060</td>\n",
       "      <td>0.798080</td>\n",
       "      <td>1.81260</td>\n",
       "      <td>0.443850</td>\n",
       "      <td>...</td>\n",
       "      <td>0.555770</td>\n",
       "      <td>0.410190</td>\n",
       "      <td>0.46957</td>\n",
       "      <td>0.029421</td>\n",
       "      <td>8.45530</td>\n",
       "      <td>3.34880</td>\n",
       "      <td>107.2400</td>\n",
       "      <td>3.40360</td>\n",
       "      <td>12.45400</td>\n",
       "      <td>b'0'</td>\n",
       "    </tr>\n",
       "    <tr>\n",
       "      <th>6</th>\n",
       "      <td>0.115030</td>\n",
       "      <td>0.036659</td>\n",
       "      <td>0.923450</td>\n",
       "      <td>112.63000</td>\n",
       "      <td>55.58000</td>\n",
       "      <td>0.000000</td>\n",
       "      <td>0.142150</td>\n",
       "      <td>26.279000</td>\n",
       "      <td>0.44339</td>\n",
       "      <td>0.963340</td>\n",
       "      <td>...</td>\n",
       "      <td>0.067038</td>\n",
       "      <td>0.119400</td>\n",
       "      <td>0.75777</td>\n",
       "      <td>0.015995</td>\n",
       "      <td>18.43300</td>\n",
       "      <td>41.78300</td>\n",
       "      <td>6.8102</td>\n",
       "      <td>53.59600</td>\n",
       "      <td>6.49420</td>\n",
       "      <td>b'0'</td>\n",
       "    </tr>\n",
       "    <tr>\n",
       "      <th>7</th>\n",
       "      <td>0.009832</td>\n",
       "      <td>0.670660</td>\n",
       "      <td>0.135460</td>\n",
       "      <td>1.23930</td>\n",
       "      <td>-107.73000</td>\n",
       "      <td>-0.001401</td>\n",
       "      <td>0.013422</td>\n",
       "      <td>0.491080</td>\n",
       "      <td>1.18250</td>\n",
       "      <td>0.329340</td>\n",
       "      <td>...</td>\n",
       "      <td>0.197800</td>\n",
       "      <td>0.029854</td>\n",
       "      <td>0.83478</td>\n",
       "      <td>0.143940</td>\n",
       "      <td>8.18130</td>\n",
       "      <td>4.00840</td>\n",
       "      <td>174.7300</td>\n",
       "      <td>2.08890</td>\n",
       "      <td>3.96160</td>\n",
       "      <td>b'0'</td>\n",
       "    </tr>\n",
       "    <tr>\n",
       "      <th>8</th>\n",
       "      <td>0.238950</td>\n",
       "      <td>0.554730</td>\n",
       "      <td>0.406970</td>\n",
       "      <td>1.76090</td>\n",
       "      <td>-22.90700</td>\n",
       "      <td>0.000000</td>\n",
       "      <td>0.297140</td>\n",
       "      <td>0.802680</td>\n",
       "      <td>2.33170</td>\n",
       "      <td>0.445270</td>\n",
       "      <td>...</td>\n",
       "      <td>0.140380</td>\n",
       "      <td>0.536630</td>\n",
       "      <td>0.87292</td>\n",
       "      <td>0.044584</td>\n",
       "      <td>4.45270</td>\n",
       "      <td>7.18470</td>\n",
       "      <td>83.7270</td>\n",
       "      <td>4.35940</td>\n",
       "      <td>40.09700</td>\n",
       "      <td>b'0'</td>\n",
       "    </tr>\n",
       "    <tr>\n",
       "      <th>9</th>\n",
       "      <td>-0.119860</td>\n",
       "      <td>0.607330</td>\n",
       "      <td>0.041368</td>\n",
       "      <td>1.06880</td>\n",
       "      <td>-37.59500</td>\n",
       "      <td>-0.447970</td>\n",
       "      <td>-0.119860</td>\n",
       "      <td>0.646550</td>\n",
       "      <td>3.00000</td>\n",
       "      <td>0.392670</td>\n",
       "      <td>...</td>\n",
       "      <td>0.264280</td>\n",
       "      <td>-0.305250</td>\n",
       "      <td>0.73749</td>\n",
       "      <td>0.000000</td>\n",
       "      <td>12.84400</td>\n",
       "      <td>8.30430</td>\n",
       "      <td>73.1720</td>\n",
       "      <td>4.98830</td>\n",
       "      <td>8.39840</td>\n",
       "      <td>b'0'</td>\n",
       "    </tr>\n",
       "    <tr>\n",
       "      <th>10</th>\n",
       "      <td>-0.130350</td>\n",
       "      <td>0.089680</td>\n",
       "      <td>0.149070</td>\n",
       "      <td>2.66220</td>\n",
       "      <td>-34.00300</td>\n",
       "      <td>-0.208560</td>\n",
       "      <td>-0.124780</td>\n",
       "      <td>8.979100</td>\n",
       "      <td>0.76134</td>\n",
       "      <td>0.805240</td>\n",
       "      <td>...</td>\n",
       "      <td>-0.313470</td>\n",
       "      <td>-0.161870</td>\n",
       "      <td>1.31350</td>\n",
       "      <td>0.000000</td>\n",
       "      <td>2.46550</td>\n",
       "      <td>11.59700</td>\n",
       "      <td>72.0740</td>\n",
       "      <td>5.06420</td>\n",
       "      <td>0.59659</td>\n",
       "      <td>b'0'</td>\n",
       "    </tr>\n",
       "    <tr>\n",
       "      <th>11</th>\n",
       "      <td>0.083519</td>\n",
       "      <td>0.402860</td>\n",
       "      <td>0.583800</td>\n",
       "      <td>2.69400</td>\n",
       "      <td>35.96600</td>\n",
       "      <td>0.638970</td>\n",
       "      <td>0.107280</td>\n",
       "      <td>1.482200</td>\n",
       "      <td>1.04750</td>\n",
       "      <td>0.597140</td>\n",
       "      <td>...</td>\n",
       "      <td>0.045381</td>\n",
       "      <td>0.139870</td>\n",
       "      <td>0.95462</td>\n",
       "      <td>0.097510</td>\n",
       "      <td>6.50560</td>\n",
       "      <td>5.44280</td>\n",
       "      <td>53.9100</td>\n",
       "      <td>6.77060</td>\n",
       "      <td>32.60400</td>\n",
       "      <td>b'0'</td>\n",
       "    </tr>\n",
       "    <tr>\n",
       "      <th>12</th>\n",
       "      <td>0.083597</td>\n",
       "      <td>0.191990</td>\n",
       "      <td>0.128700</td>\n",
       "      <td>3.63960</td>\n",
       "      <td>105.17000</td>\n",
       "      <td>0.261360</td>\n",
       "      <td>0.098854</td>\n",
       "      <td>4.208500</td>\n",
       "      <td>1.26200</td>\n",
       "      <td>0.808010</td>\n",
       "      <td>...</td>\n",
       "      <td>0.207600</td>\n",
       "      <td>0.103460</td>\n",
       "      <td>0.79240</td>\n",
       "      <td>0.177270</td>\n",
       "      <td>7.93810</td>\n",
       "      <td>2.76740</td>\n",
       "      <td>49.6400</td>\n",
       "      <td>7.35290</td>\n",
       "      <td>0.43586</td>\n",
       "      <td>b'0'</td>\n",
       "    </tr>\n",
       "    <tr>\n",
       "      <th>13</th>\n",
       "      <td>0.081951</td>\n",
       "      <td>0.246080</td>\n",
       "      <td>0.312730</td>\n",
       "      <td>3.56540</td>\n",
       "      <td>29.45000</td>\n",
       "      <td>0.011692</td>\n",
       "      <td>0.094949</td>\n",
       "      <td>3.063800</td>\n",
       "      <td>1.11170</td>\n",
       "      <td>0.753920</td>\n",
       "      <td>...</td>\n",
       "      <td>0.100510</td>\n",
       "      <td>0.108700</td>\n",
       "      <td>0.89949</td>\n",
       "      <td>0.164700</td>\n",
       "      <td>4.02450</td>\n",
       "      <td>7.24490</td>\n",
       "      <td>52.0220</td>\n",
       "      <td>7.01630</td>\n",
       "      <td>1.51290</td>\n",
       "      <td>b'0'</td>\n",
       "    </tr>\n",
       "    <tr>\n",
       "      <th>14</th>\n",
       "      <td>-0.208780</td>\n",
       "      <td>1.002400</td>\n",
       "      <td>-0.389570</td>\n",
       "      <td>0.57408</td>\n",
       "      <td>-253.85000</td>\n",
       "      <td>-0.201430</td>\n",
       "      <td>-0.208780</td>\n",
       "      <td>-0.002441</td>\n",
       "      <td>1.05360</td>\n",
       "      <td>-0.002447</td>\n",
       "      <td>...</td>\n",
       "      <td>0.194060</td>\n",
       "      <td>85.308000</td>\n",
       "      <td>0.83631</td>\n",
       "      <td>-9.026900</td>\n",
       "      <td>9.35880</td>\n",
       "      <td>3.20830</td>\n",
       "      <td>316.8800</td>\n",
       "      <td>1.15190</td>\n",
       "      <td>2.21850</td>\n",
       "      <td>b'0'</td>\n",
       "    </tr>\n",
       "    <tr>\n",
       "      <th>15</th>\n",
       "      <td>0.013800</td>\n",
       "      <td>0.873730</td>\n",
       "      <td>-0.119860</td>\n",
       "      <td>0.86281</td>\n",
       "      <td>-125.35000</td>\n",
       "      <td>-0.721450</td>\n",
       "      <td>0.013800</td>\n",
       "      <td>0.088591</td>\n",
       "      <td>0.91784</td>\n",
       "      <td>0.077405</td>\n",
       "      <td>...</td>\n",
       "      <td>-0.089510</td>\n",
       "      <td>0.178280</td>\n",
       "      <td>1.08950</td>\n",
       "      <td>0.000000</td>\n",
       "      <td>3.79740</td>\n",
       "      <td>3.71530</td>\n",
       "      <td>305.6300</td>\n",
       "      <td>1.19430</td>\n",
       "      <td>4.23950</td>\n",
       "      <td>b'0'</td>\n",
       "    </tr>\n",
       "    <tr>\n",
       "      <th>16</th>\n",
       "      <td>0.275480</td>\n",
       "      <td>0.226520</td>\n",
       "      <td>0.563080</td>\n",
       "      <td>3.48570</td>\n",
       "      <td>120.27000</td>\n",
       "      <td>0.885430</td>\n",
       "      <td>0.341540</td>\n",
       "      <td>3.236800</td>\n",
       "      <td>1.23660</td>\n",
       "      <td>0.733230</td>\n",
       "      <td>...</td>\n",
       "      <td>0.191360</td>\n",
       "      <td>0.375710</td>\n",
       "      <td>0.80864</td>\n",
       "      <td>0.000000</td>\n",
       "      <td>15.12600</td>\n",
       "      <td>4.46560</td>\n",
       "      <td>48.8970</td>\n",
       "      <td>7.46470</td>\n",
       "      <td>8.03680</td>\n",
       "      <td>b'0'</td>\n",
       "    </tr>\n",
       "    <tr>\n",
       "      <th>17</th>\n",
       "      <td>-0.093880</td>\n",
       "      <td>0.248910</td>\n",
       "      <td>0.374170</td>\n",
       "      <td>2.50320</td>\n",
       "      <td>35.00600</td>\n",
       "      <td>0.084199</td>\n",
       "      <td>-0.089098</td>\n",
       "      <td>3.002100</td>\n",
       "      <td>0.92569</td>\n",
       "      <td>0.747250</td>\n",
       "      <td>...</td>\n",
       "      <td>-0.080281</td>\n",
       "      <td>-0.125630</td>\n",
       "      <td>1.08030</td>\n",
       "      <td>0.000000</td>\n",
       "      <td>7.02740</td>\n",
       "      <td>7.09320</td>\n",
       "      <td>59.9040</td>\n",
       "      <td>6.09310</td>\n",
       "      <td>4.02380</td>\n",
       "      <td>b'0'</td>\n",
       "    </tr>\n",
       "    <tr>\n",
       "      <th>18</th>\n",
       "      <td>0.165450</td>\n",
       "      <td>0.252790</td>\n",
       "      <td>0.365110</td>\n",
       "      <td>2.44430</td>\n",
       "      <td>28.19700</td>\n",
       "      <td>0.000000</td>\n",
       "      <td>0.203540</td>\n",
       "      <td>2.955900</td>\n",
       "      <td>2.36410</td>\n",
       "      <td>0.747210</td>\n",
       "      <td>...</td>\n",
       "      <td>0.089584</td>\n",
       "      <td>0.221430</td>\n",
       "      <td>0.91439</td>\n",
       "      <td>0.000000</td>\n",
       "      <td>14.10300</td>\n",
       "      <td>6.83860</td>\n",
       "      <td>39.0280</td>\n",
       "      <td>9.35220</td>\n",
       "      <td>6.18730</td>\n",
       "      <td>b'0'</td>\n",
       "    </tr>\n",
       "    <tr>\n",
       "      <th>19</th>\n",
       "      <td>0.090415</td>\n",
       "      <td>0.468540</td>\n",
       "      <td>0.445050</td>\n",
       "      <td>2.20610</td>\n",
       "      <td>37.25700</td>\n",
       "      <td>0.005443</td>\n",
       "      <td>0.113600</td>\n",
       "      <td>1.134300</td>\n",
       "      <td>2.03980</td>\n",
       "      <td>0.531460</td>\n",
       "      <td>...</td>\n",
       "      <td>0.064679</td>\n",
       "      <td>0.170120</td>\n",
       "      <td>0.94475</td>\n",
       "      <td>0.008381</td>\n",
       "      <td>9.60290</td>\n",
       "      <td>4.62140</td>\n",
       "      <td>66.0270</td>\n",
       "      <td>5.52810</td>\n",
       "      <td>10.96900</td>\n",
       "      <td>b'0'</td>\n",
       "    </tr>\n",
       "    <tr>\n",
       "      <th>20</th>\n",
       "      <td>-0.132210</td>\n",
       "      <td>0.476820</td>\n",
       "      <td>0.342430</td>\n",
       "      <td>1.71810</td>\n",
       "      <td>79.12500</td>\n",
       "      <td>0.000000</td>\n",
       "      <td>-0.132210</td>\n",
       "      <td>1.097200</td>\n",
       "      <td>1.43430</td>\n",
       "      <td>0.523180</td>\n",
       "      <td>...</td>\n",
       "      <td>-0.093488</td>\n",
       "      <td>-0.252700</td>\n",
       "      <td>1.09210</td>\n",
       "      <td>0.000000</td>\n",
       "      <td>NaN</td>\n",
       "      <td>1.88230</td>\n",
       "      <td>121.3500</td>\n",
       "      <td>3.00790</td>\n",
       "      <td>7.93500</td>\n",
       "      <td>b'0'</td>\n",
       "    </tr>\n",
       "    <tr>\n",
       "      <th>21</th>\n",
       "      <td>0.001137</td>\n",
       "      <td>0.414240</td>\n",
       "      <td>0.225920</td>\n",
       "      <td>2.78980</td>\n",
       "      <td>63.68300</td>\n",
       "      <td>0.000000</td>\n",
       "      <td>0.004218</td>\n",
       "      <td>1.414100</td>\n",
       "      <td>0.71197</td>\n",
       "      <td>0.585760</td>\n",
       "      <td>...</td>\n",
       "      <td>0.049682</td>\n",
       "      <td>0.001941</td>\n",
       "      <td>0.99420</td>\n",
       "      <td>0.486310</td>\n",
       "      <td>7.20690</td>\n",
       "      <td>3.03740</td>\n",
       "      <td>64.7130</td>\n",
       "      <td>5.64030</td>\n",
       "      <td>1.09900</td>\n",
       "      <td>b'0'</td>\n",
       "    </tr>\n",
       "    <tr>\n",
       "      <th>22</th>\n",
       "      <td>0.029986</td>\n",
       "      <td>0.794480</td>\n",
       "      <td>-0.014255</td>\n",
       "      <td>0.97797</td>\n",
       "      <td>-39.99600</td>\n",
       "      <td>-0.119500</td>\n",
       "      <td>0.029986</td>\n",
       "      <td>0.215610</td>\n",
       "      <td>1.08400</td>\n",
       "      <td>0.171300</td>\n",
       "      <td>...</td>\n",
       "      <td>0.077483</td>\n",
       "      <td>0.175050</td>\n",
       "      <td>0.92252</td>\n",
       "      <td>0.859700</td>\n",
       "      <td>11.68600</td>\n",
       "      <td>1.69140</td>\n",
       "      <td>253.4100</td>\n",
       "      <td>1.44030</td>\n",
       "      <td>2.53980</td>\n",
       "      <td>b'0'</td>\n",
       "    </tr>\n",
       "    <tr>\n",
       "      <th>23</th>\n",
       "      <td>0.032767</td>\n",
       "      <td>0.308310</td>\n",
       "      <td>0.447640</td>\n",
       "      <td>2.45930</td>\n",
       "      <td>35.24000</td>\n",
       "      <td>0.384540</td>\n",
       "      <td>0.032767</td>\n",
       "      <td>2.243500</td>\n",
       "      <td>2.77940</td>\n",
       "      <td>0.691690</td>\n",
       "      <td>...</td>\n",
       "      <td>0.010514</td>\n",
       "      <td>0.047372</td>\n",
       "      <td>0.98849</td>\n",
       "      <td>0.000000</td>\n",
       "      <td>17.94600</td>\n",
       "      <td>9.57150</td>\n",
       "      <td>40.2810</td>\n",
       "      <td>9.06130</td>\n",
       "      <td>11.31600</td>\n",
       "      <td>b'0'</td>\n",
       "    </tr>\n",
       "    <tr>\n",
       "      <th>24</th>\n",
       "      <td>0.072227</td>\n",
       "      <td>0.359310</td>\n",
       "      <td>0.616770</td>\n",
       "      <td>2.85770</td>\n",
       "      <td>32.07600</td>\n",
       "      <td>0.000000</td>\n",
       "      <td>0.075139</td>\n",
       "      <td>1.783100</td>\n",
       "      <td>2.00790</td>\n",
       "      <td>0.640690</td>\n",
       "      <td>...</td>\n",
       "      <td>0.041917</td>\n",
       "      <td>0.112730</td>\n",
       "      <td>0.96530</td>\n",
       "      <td>0.000000</td>\n",
       "      <td>4.48670</td>\n",
       "      <td>4.14760</td>\n",
       "      <td>60.3520</td>\n",
       "      <td>6.04780</td>\n",
       "      <td>39.20400</td>\n",
       "      <td>b'0'</td>\n",
       "    </tr>\n",
       "    <tr>\n",
       "      <th>25</th>\n",
       "      <td>0.278080</td>\n",
       "      <td>0.221500</td>\n",
       "      <td>0.723170</td>\n",
       "      <td>4.98880</td>\n",
       "      <td>122.53000</td>\n",
       "      <td>0.020789</td>\n",
       "      <td>0.346920</td>\n",
       "      <td>3.514800</td>\n",
       "      <td>2.13620</td>\n",
       "      <td>0.778500</td>\n",
       "      <td>...</td>\n",
       "      <td>0.168180</td>\n",
       "      <td>0.357200</td>\n",
       "      <td>0.83763</td>\n",
       "      <td>0.047519</td>\n",
       "      <td>16.61900</td>\n",
       "      <td>4.46400</td>\n",
       "      <td>30.9780</td>\n",
       "      <td>11.78200</td>\n",
       "      <td>22.36200</td>\n",
       "      <td>b'0'</td>\n",
       "    </tr>\n",
       "    <tr>\n",
       "      <th>26</th>\n",
       "      <td>-0.026983</td>\n",
       "      <td>0.763120</td>\n",
       "      <td>0.043526</td>\n",
       "      <td>1.05720</td>\n",
       "      <td>-53.79200</td>\n",
       "      <td>-0.288110</td>\n",
       "      <td>-0.026983</td>\n",
       "      <td>0.310420</td>\n",
       "      <td>2.07820</td>\n",
       "      <td>0.236880</td>\n",
       "      <td>...</td>\n",
       "      <td>-0.006273</td>\n",
       "      <td>-0.113910</td>\n",
       "      <td>1.01270</td>\n",
       "      <td>0.000000</td>\n",
       "      <td>5.96530</td>\n",
       "      <td>4.70600</td>\n",
       "      <td>133.6500</td>\n",
       "      <td>2.73100</td>\n",
       "      <td>10.62900</td>\n",
       "      <td>b'0'</td>\n",
       "    </tr>\n",
       "    <tr>\n",
       "      <th>27</th>\n",
       "      <td>0.150790</td>\n",
       "      <td>0.584200</td>\n",
       "      <td>0.230910</td>\n",
       "      <td>1.44850</td>\n",
       "      <td>85.88900</td>\n",
       "      <td>0.000000</td>\n",
       "      <td>0.185430</td>\n",
       "      <td>0.711740</td>\n",
       "      <td>0.87949</td>\n",
       "      <td>0.415800</td>\n",
       "      <td>...</td>\n",
       "      <td>0.215930</td>\n",
       "      <td>0.362660</td>\n",
       "      <td>0.79215</td>\n",
       "      <td>0.000000</td>\n",
       "      <td>12.09400</td>\n",
       "      <td>1.30800</td>\n",
       "      <td>213.6600</td>\n",
       "      <td>1.70830</td>\n",
       "      <td>3.45900</td>\n",
       "      <td>b'0'</td>\n",
       "    </tr>\n",
       "    <tr>\n",
       "      <th>28</th>\n",
       "      <td>0.006135</td>\n",
       "      <td>0.694890</td>\n",
       "      <td>0.298240</td>\n",
       "      <td>1.43600</td>\n",
       "      <td>8.31280</td>\n",
       "      <td>0.131150</td>\n",
       "      <td>0.006135</td>\n",
       "      <td>0.439070</td>\n",
       "      <td>3.71780</td>\n",
       "      <td>0.305110</td>\n",
       "      <td>...</td>\n",
       "      <td>0.013016</td>\n",
       "      <td>0.020107</td>\n",
       "      <td>0.99835</td>\n",
       "      <td>0.035562</td>\n",
       "      <td>17.60500</td>\n",
       "      <td>5.69180</td>\n",
       "      <td>67.1570</td>\n",
       "      <td>5.43500</td>\n",
       "      <td>209.84000</td>\n",
       "      <td>b'0'</td>\n",
       "    </tr>\n",
       "    <tr>\n",
       "      <th>29</th>\n",
       "      <td>0.057159</td>\n",
       "      <td>0.721840</td>\n",
       "      <td>0.384100</td>\n",
       "      <td>1.65330</td>\n",
       "      <td>32.60600</td>\n",
       "      <td>0.000000</td>\n",
       "      <td>0.069934</td>\n",
       "      <td>0.385350</td>\n",
       "      <td>2.49970</td>\n",
       "      <td>0.278160</td>\n",
       "      <td>...</td>\n",
       "      <td>0.037272</td>\n",
       "      <td>0.205490</td>\n",
       "      <td>0.97232</td>\n",
       "      <td>0.000000</td>\n",
       "      <td>15.07100</td>\n",
       "      <td>5.15370</td>\n",
       "      <td>85.8420</td>\n",
       "      <td>4.25200</td>\n",
       "      <td>89.24400</td>\n",
       "      <td>b'0'</td>\n",
       "    </tr>\n",
       "    <tr>\n",
       "      <th>...</th>\n",
       "      <td>...</td>\n",
       "      <td>...</td>\n",
       "      <td>...</td>\n",
       "      <td>...</td>\n",
       "      <td>...</td>\n",
       "      <td>...</td>\n",
       "      <td>...</td>\n",
       "      <td>...</td>\n",
       "      <td>...</td>\n",
       "      <td>...</td>\n",
       "      <td>...</td>\n",
       "      <td>...</td>\n",
       "      <td>...</td>\n",
       "      <td>...</td>\n",
       "      <td>...</td>\n",
       "      <td>...</td>\n",
       "      <td>...</td>\n",
       "      <td>...</td>\n",
       "      <td>...</td>\n",
       "      <td>...</td>\n",
       "      <td>...</td>\n",
       "    </tr>\n",
       "    <tr>\n",
       "      <th>10473</th>\n",
       "      <td>0.021065</td>\n",
       "      <td>0.688650</td>\n",
       "      <td>0.155140</td>\n",
       "      <td>1.22850</td>\n",
       "      <td>-51.86300</td>\n",
       "      <td>0.000000</td>\n",
       "      <td>0.021065</td>\n",
       "      <td>0.452120</td>\n",
       "      <td>3.48950</td>\n",
       "      <td>0.311350</td>\n",
       "      <td>...</td>\n",
       "      <td>-0.001793</td>\n",
       "      <td>0.067658</td>\n",
       "      <td>0.97663</td>\n",
       "      <td>0.000918</td>\n",
       "      <td>5.43090</td>\n",
       "      <td>20.89100</td>\n",
       "      <td>71.0220</td>\n",
       "      <td>5.13920</td>\n",
       "      <td>21.03700</td>\n",
       "      <td>b'1'</td>\n",
       "    </tr>\n",
       "    <tr>\n",
       "      <th>10474</th>\n",
       "      <td>0.026163</td>\n",
       "      <td>1.254800</td>\n",
       "      <td>-0.823510</td>\n",
       "      <td>0.34372</td>\n",
       "      <td>-375.16000</td>\n",
       "      <td>0.026163</td>\n",
       "      <td>0.026163</td>\n",
       "      <td>-0.247810</td>\n",
       "      <td>0.88300</td>\n",
       "      <td>-0.310960</td>\n",
       "      <td>...</td>\n",
       "      <td>-0.132500</td>\n",
       "      <td>-0.084134</td>\n",
       "      <td>1.13250</td>\n",
       "      <td>0.000000</td>\n",
       "      <td>3.05520</td>\n",
       "      <td>17.41000</td>\n",
       "      <td>426.6300</td>\n",
       "      <td>0.85555</td>\n",
       "      <td>1.88780</td>\n",
       "      <td>b'1'</td>\n",
       "    </tr>\n",
       "    <tr>\n",
       "      <th>10475</th>\n",
       "      <td>-0.098326</td>\n",
       "      <td>0.124810</td>\n",
       "      <td>0.875190</td>\n",
       "      <td>8.01250</td>\n",
       "      <td>42.67600</td>\n",
       "      <td>0.000000</td>\n",
       "      <td>-0.098326</td>\n",
       "      <td>7.012500</td>\n",
       "      <td>6.80820</td>\n",
       "      <td>0.875190</td>\n",
       "      <td>...</td>\n",
       "      <td>-0.014442</td>\n",
       "      <td>-0.112350</td>\n",
       "      <td>1.01440</td>\n",
       "      <td>0.000000</td>\n",
       "      <td>NaN</td>\n",
       "      <td>16.48600</td>\n",
       "      <td>6.6910</td>\n",
       "      <td>54.55100</td>\n",
       "      <td>NaN</td>\n",
       "      <td>b'1'</td>\n",
       "    </tr>\n",
       "    <tr>\n",
       "      <th>10476</th>\n",
       "      <td>0.003603</td>\n",
       "      <td>0.824060</td>\n",
       "      <td>-0.049051</td>\n",
       "      <td>0.89208</td>\n",
       "      <td>-111.35000</td>\n",
       "      <td>0.000000</td>\n",
       "      <td>0.008453</td>\n",
       "      <td>0.213440</td>\n",
       "      <td>0.87744</td>\n",
       "      <td>0.175890</td>\n",
       "      <td>...</td>\n",
       "      <td>0.030310</td>\n",
       "      <td>0.020487</td>\n",
       "      <td>0.94317</td>\n",
       "      <td>1.477100</td>\n",
       "      <td>4.63390</td>\n",
       "      <td>6.99920</td>\n",
       "      <td>189.0600</td>\n",
       "      <td>1.93060</td>\n",
       "      <td>1.47590</td>\n",
       "      <td>b'1'</td>\n",
       "    </tr>\n",
       "    <tr>\n",
       "      <th>10477</th>\n",
       "      <td>-0.060721</td>\n",
       "      <td>0.142060</td>\n",
       "      <td>0.221660</td>\n",
       "      <td>2.56030</td>\n",
       "      <td>-0.57982</td>\n",
       "      <td>0.000000</td>\n",
       "      <td>-0.060721</td>\n",
       "      <td>6.039100</td>\n",
       "      <td>2.85010</td>\n",
       "      <td>0.857940</td>\n",
       "      <td>...</td>\n",
       "      <td>-0.027066</td>\n",
       "      <td>-0.070776</td>\n",
       "      <td>1.01550</td>\n",
       "      <td>0.000000</td>\n",
       "      <td>12.64500</td>\n",
       "      <td>20.84800</td>\n",
       "      <td>18.1940</td>\n",
       "      <td>20.06200</td>\n",
       "      <td>4.47920</td>\n",
       "      <td>b'1'</td>\n",
       "    </tr>\n",
       "    <tr>\n",
       "      <th>10478</th>\n",
       "      <td>0.001236</td>\n",
       "      <td>0.063954</td>\n",
       "      <td>0.350590</td>\n",
       "      <td>6.48190</td>\n",
       "      <td>161.95000</td>\n",
       "      <td>0.001236</td>\n",
       "      <td>0.009518</td>\n",
       "      <td>13.101000</td>\n",
       "      <td>0.79498</td>\n",
       "      <td>0.837840</td>\n",
       "      <td>...</td>\n",
       "      <td>-0.257890</td>\n",
       "      <td>0.001475</td>\n",
       "      <td>1.25790</td>\n",
       "      <td>0.000000</td>\n",
       "      <td>0.90363</td>\n",
       "      <td>2.95820</td>\n",
       "      <td>111.2200</td>\n",
       "      <td>3.28190</td>\n",
       "      <td>0.35853</td>\n",
       "      <td>b'1'</td>\n",
       "    </tr>\n",
       "    <tr>\n",
       "      <th>10479</th>\n",
       "      <td>0.011971</td>\n",
       "      <td>1.064200</td>\n",
       "      <td>-0.054751</td>\n",
       "      <td>0.94721</td>\n",
       "      <td>-27.62400</td>\n",
       "      <td>-0.081677</td>\n",
       "      <td>0.024039</td>\n",
       "      <td>-0.060346</td>\n",
       "      <td>1.31520</td>\n",
       "      <td>-0.064220</td>\n",
       "      <td>...</td>\n",
       "      <td>0.018437</td>\n",
       "      <td>-0.186400</td>\n",
       "      <td>0.98168</td>\n",
       "      <td>0.000000</td>\n",
       "      <td>32.33500</td>\n",
       "      <td>1.59020</td>\n",
       "      <td>287.8400</td>\n",
       "      <td>1.26810</td>\n",
       "      <td>75.05000</td>\n",
       "      <td>b'1'</td>\n",
       "    </tr>\n",
       "    <tr>\n",
       "      <th>10480</th>\n",
       "      <td>-0.034567</td>\n",
       "      <td>0.447980</td>\n",
       "      <td>0.420320</td>\n",
       "      <td>1.93830</td>\n",
       "      <td>345.77000</td>\n",
       "      <td>-0.290290</td>\n",
       "      <td>-0.034567</td>\n",
       "      <td>1.233400</td>\n",
       "      <td>0.37662</td>\n",
       "      <td>0.552550</td>\n",
       "      <td>...</td>\n",
       "      <td>-0.364230</td>\n",
       "      <td>-0.062559</td>\n",
       "      <td>1.07090</td>\n",
       "      <td>0.000000</td>\n",
       "      <td>NaN</td>\n",
       "      <td>0.43403</td>\n",
       "      <td>434.1500</td>\n",
       "      <td>0.84073</td>\n",
       "      <td>2.85580</td>\n",
       "      <td>b'1'</td>\n",
       "    </tr>\n",
       "    <tr>\n",
       "      <th>10481</th>\n",
       "      <td>0.068664</td>\n",
       "      <td>0.622330</td>\n",
       "      <td>-0.121520</td>\n",
       "      <td>0.79321</td>\n",
       "      <td>-7.73950</td>\n",
       "      <td>0.000000</td>\n",
       "      <td>0.068664</td>\n",
       "      <td>0.606870</td>\n",
       "      <td>10.43500</td>\n",
       "      <td>0.377670</td>\n",
       "      <td>...</td>\n",
       "      <td>0.007873</td>\n",
       "      <td>0.181810</td>\n",
       "      <td>0.98437</td>\n",
       "      <td>0.000000</td>\n",
       "      <td>130.99000</td>\n",
       "      <td>30.86100</td>\n",
       "      <td>20.5550</td>\n",
       "      <td>17.75700</td>\n",
       "      <td>19.54500</td>\n",
       "      <td>b'1'</td>\n",
       "    </tr>\n",
       "    <tr>\n",
       "      <th>10482</th>\n",
       "      <td>-0.039539</td>\n",
       "      <td>1.467400</td>\n",
       "      <td>-0.467370</td>\n",
       "      <td>0.68149</td>\n",
       "      <td>-65.81200</td>\n",
       "      <td>-0.811710</td>\n",
       "      <td>-0.039539</td>\n",
       "      <td>-0.318510</td>\n",
       "      <td>4.03190</td>\n",
       "      <td>-0.467370</td>\n",
       "      <td>...</td>\n",
       "      <td>0.004499</td>\n",
       "      <td>0.084600</td>\n",
       "      <td>0.99542</td>\n",
       "      <td>0.000000</td>\n",
       "      <td>16.08400</td>\n",
       "      <td>5.55790</td>\n",
       "      <td>132.8400</td>\n",
       "      <td>2.74770</td>\n",
       "      <td>NaN</td>\n",
       "      <td>b'1'</td>\n",
       "    </tr>\n",
       "    <tr>\n",
       "      <th>10483</th>\n",
       "      <td>0.009429</td>\n",
       "      <td>0.670050</td>\n",
       "      <td>0.311190</td>\n",
       "      <td>1.46440</td>\n",
       "      <td>-77.77200</td>\n",
       "      <td>0.000000</td>\n",
       "      <td>0.009628</td>\n",
       "      <td>0.492400</td>\n",
       "      <td>2.05890</td>\n",
       "      <td>0.329930</td>\n",
       "      <td>...</td>\n",
       "      <td>0.080219</td>\n",
       "      <td>0.028580</td>\n",
       "      <td>0.82989</td>\n",
       "      <td>0.000000</td>\n",
       "      <td>2.55120</td>\n",
       "      <td>14.44400</td>\n",
       "      <td>118.7800</td>\n",
       "      <td>3.07280</td>\n",
       "      <td>109.68000</td>\n",
       "      <td>b'1'</td>\n",
       "    </tr>\n",
       "    <tr>\n",
       "      <th>10484</th>\n",
       "      <td>-0.044808</td>\n",
       "      <td>0.709740</td>\n",
       "      <td>-0.257520</td>\n",
       "      <td>0.62491</td>\n",
       "      <td>-91.56900</td>\n",
       "      <td>0.000000</td>\n",
       "      <td>-0.052481</td>\n",
       "      <td>0.408920</td>\n",
       "      <td>1.66010</td>\n",
       "      <td>0.290230</td>\n",
       "      <td>...</td>\n",
       "      <td>0.165650</td>\n",
       "      <td>-0.154390</td>\n",
       "      <td>0.78004</td>\n",
       "      <td>0.000000</td>\n",
       "      <td>9.45500</td>\n",
       "      <td>6.78090</td>\n",
       "      <td>150.9500</td>\n",
       "      <td>2.41800</td>\n",
       "      <td>2.90780</td>\n",
       "      <td>b'1'</td>\n",
       "    </tr>\n",
       "    <tr>\n",
       "      <th>10485</th>\n",
       "      <td>-0.047665</td>\n",
       "      <td>0.374370</td>\n",
       "      <td>0.387020</td>\n",
       "      <td>6.28570</td>\n",
       "      <td>101.48000</td>\n",
       "      <td>-0.120250</td>\n",
       "      <td>-0.047665</td>\n",
       "      <td>1.670600</td>\n",
       "      <td>1.00250</td>\n",
       "      <td>0.625420</td>\n",
       "      <td>...</td>\n",
       "      <td>-0.012025</td>\n",
       "      <td>-0.076212</td>\n",
       "      <td>1.03960</td>\n",
       "      <td>0.000000</td>\n",
       "      <td>9.90000</td>\n",
       "      <td>4.43410</td>\n",
       "      <td>26.6570</td>\n",
       "      <td>13.69200</td>\n",
       "      <td>1.85810</td>\n",
       "      <td>b'1'</td>\n",
       "    </tr>\n",
       "    <tr>\n",
       "      <th>10486</th>\n",
       "      <td>-0.052168</td>\n",
       "      <td>0.106620</td>\n",
       "      <td>0.258450</td>\n",
       "      <td>3.42400</td>\n",
       "      <td>2.34730</td>\n",
       "      <td>-0.052168</td>\n",
       "      <td>-0.045162</td>\n",
       "      <td>8.094400</td>\n",
       "      <td>0.87396</td>\n",
       "      <td>0.863040</td>\n",
       "      <td>...</td>\n",
       "      <td>-0.144220</td>\n",
       "      <td>-0.060447</td>\n",
       "      <td>1.14420</td>\n",
       "      <td>0.000000</td>\n",
       "      <td>2.33390</td>\n",
       "      <td>9.41230</td>\n",
       "      <td>65.6320</td>\n",
       "      <td>5.56130</td>\n",
       "      <td>0.93390</td>\n",
       "      <td>b'1'</td>\n",
       "    </tr>\n",
       "    <tr>\n",
       "      <th>10487</th>\n",
       "      <td>-0.242060</td>\n",
       "      <td>0.133010</td>\n",
       "      <td>0.329650</td>\n",
       "      <td>3.98950</td>\n",
       "      <td>29.35700</td>\n",
       "      <td>0.000000</td>\n",
       "      <td>-0.223310</td>\n",
       "      <td>6.518300</td>\n",
       "      <td>1.87830</td>\n",
       "      <td>0.867010</td>\n",
       "      <td>...</td>\n",
       "      <td>0.042787</td>\n",
       "      <td>-0.279190</td>\n",
       "      <td>1.11630</td>\n",
       "      <td>0.000000</td>\n",
       "      <td>11.60700</td>\n",
       "      <td>26.78500</td>\n",
       "      <td>21.4280</td>\n",
       "      <td>17.03400</td>\n",
       "      <td>3.35480</td>\n",
       "      <td>b'1'</td>\n",
       "    </tr>\n",
       "    <tr>\n",
       "      <th>10488</th>\n",
       "      <td>0.058280</td>\n",
       "      <td>0.480860</td>\n",
       "      <td>0.196150</td>\n",
       "      <td>1.45710</td>\n",
       "      <td>-134.67000</td>\n",
       "      <td>0.058280</td>\n",
       "      <td>0.068763</td>\n",
       "      <td>-0.035204</td>\n",
       "      <td>1.12060</td>\n",
       "      <td>-0.016928</td>\n",
       "      <td>...</td>\n",
       "      <td>0.107600</td>\n",
       "      <td>-3.442800</td>\n",
       "      <td>0.89240</td>\n",
       "      <td>-3.056500</td>\n",
       "      <td>2.03710</td>\n",
       "      <td>22.19000</td>\n",
       "      <td>136.4400</td>\n",
       "      <td>2.67510</td>\n",
       "      <td>3.06340</td>\n",
       "      <td>b'1'</td>\n",
       "    </tr>\n",
       "    <tr>\n",
       "      <th>10489</th>\n",
       "      <td>-0.019001</td>\n",
       "      <td>1.271300</td>\n",
       "      <td>-0.047473</td>\n",
       "      <td>0.95317</td>\n",
       "      <td>-6.31050</td>\n",
       "      <td>-0.546160</td>\n",
       "      <td>-0.019001</td>\n",
       "      <td>-0.213430</td>\n",
       "      <td>3.15670</td>\n",
       "      <td>-0.271330</td>\n",
       "      <td>...</td>\n",
       "      <td>0.000310</td>\n",
       "      <td>0.070029</td>\n",
       "      <td>1.00070</td>\n",
       "      <td>-0.759990</td>\n",
       "      <td>852.65000</td>\n",
       "      <td>5.16690</td>\n",
       "      <td>117.2100</td>\n",
       "      <td>3.11400</td>\n",
       "      <td>92.85500</td>\n",
       "      <td>b'1'</td>\n",
       "    </tr>\n",
       "    <tr>\n",
       "      <th>10490</th>\n",
       "      <td>0.180780</td>\n",
       "      <td>1.014800</td>\n",
       "      <td>-0.118940</td>\n",
       "      <td>0.86624</td>\n",
       "      <td>-61.12400</td>\n",
       "      <td>-7.664900</td>\n",
       "      <td>0.186250</td>\n",
       "      <td>-0.014645</td>\n",
       "      <td>3.38170</td>\n",
       "      <td>-0.014862</td>\n",
       "      <td>...</td>\n",
       "      <td>0.155020</td>\n",
       "      <td>-12.164000</td>\n",
       "      <td>0.76623</td>\n",
       "      <td>-1.507300</td>\n",
       "      <td>7.31090</td>\n",
       "      <td>21.97000</td>\n",
       "      <td>95.9790</td>\n",
       "      <td>3.80290</td>\n",
       "      <td>14.73000</td>\n",
       "      <td>b'1'</td>\n",
       "    </tr>\n",
       "    <tr>\n",
       "      <th>10491</th>\n",
       "      <td>0.014359</td>\n",
       "      <td>0.534250</td>\n",
       "      <td>-0.171340</td>\n",
       "      <td>0.62102</td>\n",
       "      <td>-28.84200</td>\n",
       "      <td>0.014359</td>\n",
       "      <td>0.018116</td>\n",
       "      <td>0.852310</td>\n",
       "      <td>1.00160</td>\n",
       "      <td>0.455340</td>\n",
       "      <td>...</td>\n",
       "      <td>0.001646</td>\n",
       "      <td>0.031534</td>\n",
       "      <td>0.99835</td>\n",
       "      <td>0.180370</td>\n",
       "      <td>34.43900</td>\n",
       "      <td>21.91900</td>\n",
       "      <td>45.8960</td>\n",
       "      <td>7.95280</td>\n",
       "      <td>4.99920</td>\n",
       "      <td>b'1'</td>\n",
       "    </tr>\n",
       "    <tr>\n",
       "      <th>10492</th>\n",
       "      <td>0.004696</td>\n",
       "      <td>0.196280</td>\n",
       "      <td>-0.125790</td>\n",
       "      <td>0.35822</td>\n",
       "      <td>-3075.50000</td>\n",
       "      <td>0.004696</td>\n",
       "      <td>0.004696</td>\n",
       "      <td>4.094200</td>\n",
       "      <td>0.00000</td>\n",
       "      <td>0.803610</td>\n",
       "      <td>...</td>\n",
       "      <td>NaN</td>\n",
       "      <td>0.005844</td>\n",
       "      <td>NaN</td>\n",
       "      <td>0.000348</td>\n",
       "      <td>0.00000</td>\n",
       "      <td>0.00000</td>\n",
       "      <td>NaN</td>\n",
       "      <td>0.00000</td>\n",
       "      <td>0.00000</td>\n",
       "      <td>b'1'</td>\n",
       "    </tr>\n",
       "    <tr>\n",
       "      <th>10493</th>\n",
       "      <td>-0.019241</td>\n",
       "      <td>0.698810</td>\n",
       "      <td>0.050157</td>\n",
       "      <td>1.25360</td>\n",
       "      <td>-12.66900</td>\n",
       "      <td>0.000000</td>\n",
       "      <td>-0.020521</td>\n",
       "      <td>0.431000</td>\n",
       "      <td>1.56360</td>\n",
       "      <td>0.301190</td>\n",
       "      <td>...</td>\n",
       "      <td>0.017165</td>\n",
       "      <td>-0.063883</td>\n",
       "      <td>1.02570</td>\n",
       "      <td>1.296700</td>\n",
       "      <td>15.28200</td>\n",
       "      <td>11.54400</td>\n",
       "      <td>46.1730</td>\n",
       "      <td>7.90510</td>\n",
       "      <td>2.07920</td>\n",
       "      <td>b'1'</td>\n",
       "    </tr>\n",
       "    <tr>\n",
       "      <th>10494</th>\n",
       "      <td>-0.119170</td>\n",
       "      <td>0.652420</td>\n",
       "      <td>-0.267740</td>\n",
       "      <td>0.57507</td>\n",
       "      <td>-36.82800</td>\n",
       "      <td>-0.119170</td>\n",
       "      <td>-0.119170</td>\n",
       "      <td>0.391170</td>\n",
       "      <td>0.96762</td>\n",
       "      <td>0.255210</td>\n",
       "      <td>...</td>\n",
       "      <td>-0.033468</td>\n",
       "      <td>-0.466930</td>\n",
       "      <td>1.03350</td>\n",
       "      <td>0.087554</td>\n",
       "      <td>24.36200</td>\n",
       "      <td>24.40300</td>\n",
       "      <td>53.9960</td>\n",
       "      <td>6.75970</td>\n",
       "      <td>6.67930</td>\n",
       "      <td>b'1'</td>\n",
       "    </tr>\n",
       "    <tr>\n",
       "      <th>10495</th>\n",
       "      <td>0.062089</td>\n",
       "      <td>0.768410</td>\n",
       "      <td>-0.188140</td>\n",
       "      <td>0.64101</td>\n",
       "      <td>-39.50500</td>\n",
       "      <td>0.000000</td>\n",
       "      <td>0.062089</td>\n",
       "      <td>0.301390</td>\n",
       "      <td>3.17260</td>\n",
       "      <td>0.231590</td>\n",
       "      <td>...</td>\n",
       "      <td>0.046701</td>\n",
       "      <td>0.268100</td>\n",
       "      <td>0.96936</td>\n",
       "      <td>0.667000</td>\n",
       "      <td>23.10100</td>\n",
       "      <td>17.77400</td>\n",
       "      <td>60.2940</td>\n",
       "      <td>6.05370</td>\n",
       "      <td>4.77760</td>\n",
       "      <td>b'1'</td>\n",
       "    </tr>\n",
       "    <tr>\n",
       "      <th>10496</th>\n",
       "      <td>0.057519</td>\n",
       "      <td>0.739930</td>\n",
       "      <td>0.154370</td>\n",
       "      <td>1.23730</td>\n",
       "      <td>-15.79900</td>\n",
       "      <td>0.057519</td>\n",
       "      <td>0.073025</td>\n",
       "      <td>0.270600</td>\n",
       "      <td>1.01480</td>\n",
       "      <td>0.200230</td>\n",
       "      <td>...</td>\n",
       "      <td>0.014604</td>\n",
       "      <td>0.287270</td>\n",
       "      <td>0.98540</td>\n",
       "      <td>0.446830</td>\n",
       "      <td>7.96960</td>\n",
       "      <td>2.26520</td>\n",
       "      <td>193.9600</td>\n",
       "      <td>1.88180</td>\n",
       "      <td>6.27170</td>\n",
       "      <td>b'1'</td>\n",
       "    </tr>\n",
       "    <tr>\n",
       "      <th>10497</th>\n",
       "      <td>0.003840</td>\n",
       "      <td>0.627830</td>\n",
       "      <td>0.113260</td>\n",
       "      <td>1.19970</td>\n",
       "      <td>-74.43700</td>\n",
       "      <td>0.003840</td>\n",
       "      <td>0.008917</td>\n",
       "      <td>0.586250</td>\n",
       "      <td>0.95419</td>\n",
       "      <td>0.368060</td>\n",
       "      <td>...</td>\n",
       "      <td>-0.048013</td>\n",
       "      <td>0.010434</td>\n",
       "      <td>1.04800</td>\n",
       "      <td>0.164940</td>\n",
       "      <td>3.25440</td>\n",
       "      <td>3.21630</td>\n",
       "      <td>190.3600</td>\n",
       "      <td>1.91750</td>\n",
       "      <td>3.40240</td>\n",
       "      <td>b'1'</td>\n",
       "    </tr>\n",
       "    <tr>\n",
       "      <th>10498</th>\n",
       "      <td>0.002861</td>\n",
       "      <td>0.580670</td>\n",
       "      <td>-0.223860</td>\n",
       "      <td>0.51658</td>\n",
       "      <td>-31.86600</td>\n",
       "      <td>0.002861</td>\n",
       "      <td>0.002861</td>\n",
       "      <td>0.618550</td>\n",
       "      <td>1.01200</td>\n",
       "      <td>0.359170</td>\n",
       "      <td>...</td>\n",
       "      <td>0.011834</td>\n",
       "      <td>0.007966</td>\n",
       "      <td>0.98817</td>\n",
       "      <td>0.327360</td>\n",
       "      <td>38.14200</td>\n",
       "      <td>39.15000</td>\n",
       "      <td>42.2020</td>\n",
       "      <td>8.64890</td>\n",
       "      <td>5.26460</td>\n",
       "      <td>b'1'</td>\n",
       "    </tr>\n",
       "    <tr>\n",
       "      <th>10499</th>\n",
       "      <td>-0.051968</td>\n",
       "      <td>0.552540</td>\n",
       "      <td>0.147150</td>\n",
       "      <td>2.16980</td>\n",
       "      <td>12.74800</td>\n",
       "      <td>-0.051968</td>\n",
       "      <td>-0.034361</td>\n",
       "      <td>0.669830</td>\n",
       "      <td>0.94694</td>\n",
       "      <td>0.370110</td>\n",
       "      <td>...</td>\n",
       "      <td>-0.056037</td>\n",
       "      <td>-0.140410</td>\n",
       "      <td>1.05600</td>\n",
       "      <td>1.153000</td>\n",
       "      <td>14.49300</td>\n",
       "      <td>9.28510</td>\n",
       "      <td>32.7610</td>\n",
       "      <td>11.14100</td>\n",
       "      <td>1.92760</td>\n",
       "      <td>b'1'</td>\n",
       "    </tr>\n",
       "    <tr>\n",
       "      <th>10500</th>\n",
       "      <td>-0.135900</td>\n",
       "      <td>0.839540</td>\n",
       "      <td>-0.342010</td>\n",
       "      <td>0.46526</td>\n",
       "      <td>-145.31000</td>\n",
       "      <td>-0.219120</td>\n",
       "      <td>-0.131860</td>\n",
       "      <td>0.191130</td>\n",
       "      <td>1.09990</td>\n",
       "      <td>0.160460</td>\n",
       "      <td>...</td>\n",
       "      <td>0.144120</td>\n",
       "      <td>-0.846930</td>\n",
       "      <td>0.85427</td>\n",
       "      <td>0.814200</td>\n",
       "      <td>6.27370</td>\n",
       "      <td>9.69660</td>\n",
       "      <td>212.2300</td>\n",
       "      <td>1.71980</td>\n",
       "      <td>1.56590</td>\n",
       "      <td>b'1'</td>\n",
       "    </tr>\n",
       "    <tr>\n",
       "      <th>10501</th>\n",
       "      <td>0.009423</td>\n",
       "      <td>0.500280</td>\n",
       "      <td>0.261630</td>\n",
       "      <td>1.52300</td>\n",
       "      <td>-10.15800</td>\n",
       "      <td>0.009423</td>\n",
       "      <td>0.007700</td>\n",
       "      <td>0.989900</td>\n",
       "      <td>1.01230</td>\n",
       "      <td>0.495230</td>\n",
       "      <td>...</td>\n",
       "      <td>0.012186</td>\n",
       "      <td>0.019027</td>\n",
       "      <td>0.98781</td>\n",
       "      <td>0.000000</td>\n",
       "      <td>5.96750</td>\n",
       "      <td>4.35360</td>\n",
       "      <td>98.2400</td>\n",
       "      <td>3.71540</td>\n",
       "      <td>7.80680</td>\n",
       "      <td>b'1'</td>\n",
       "    </tr>\n",
       "    <tr>\n",
       "      <th>10502</th>\n",
       "      <td>-0.001775</td>\n",
       "      <td>0.947800</td>\n",
       "      <td>0.003729</td>\n",
       "      <td>1.00450</td>\n",
       "      <td>-50.22100</td>\n",
       "      <td>0.000000</td>\n",
       "      <td>0.002565</td>\n",
       "      <td>0.055122</td>\n",
       "      <td>2.12680</td>\n",
       "      <td>0.052245</td>\n",
       "      <td>...</td>\n",
       "      <td>0.023492</td>\n",
       "      <td>-0.033971</td>\n",
       "      <td>0.97208</td>\n",
       "      <td>2.398500</td>\n",
       "      <td>7.55120</td>\n",
       "      <td>3.99600</td>\n",
       "      <td>141.1600</td>\n",
       "      <td>2.58570</td>\n",
       "      <td>12.22500</td>\n",
       "      <td>b'1'</td>\n",
       "    </tr>\n",
       "  </tbody>\n",
       "</table>\n",
       "<p>10503 rows × 64 columns</p>\n",
       "</div>"
      ],
      "text/plain": [
       "          Attr1     Attr2     Attr3      Attr4       Attr5     Attr6  \\\n",
       "0      0.174190  0.412990  0.143710    1.34800   -28.98200  0.603830   \n",
       "1      0.146240  0.460380  0.282300    1.62940     2.59520  0.000000   \n",
       "2      0.000595  0.226120  0.488390    3.15990    84.87400  0.191140   \n",
       "3      0.024526  0.432360  0.275460    1.78330   -10.10500  0.569440   \n",
       "4      0.188290  0.415040  0.342310    1.92790   -58.27400  0.000000   \n",
       "5      0.182060  0.556150  0.321910    1.60450    16.31400  0.000000   \n",
       "6      0.115030  0.036659  0.923450  112.63000    55.58000  0.000000   \n",
       "7      0.009832  0.670660  0.135460    1.23930  -107.73000 -0.001401   \n",
       "8      0.238950  0.554730  0.406970    1.76090   -22.90700  0.000000   \n",
       "9     -0.119860  0.607330  0.041368    1.06880   -37.59500 -0.447970   \n",
       "10    -0.130350  0.089680  0.149070    2.66220   -34.00300 -0.208560   \n",
       "11     0.083519  0.402860  0.583800    2.69400    35.96600  0.638970   \n",
       "12     0.083597  0.191990  0.128700    3.63960   105.17000  0.261360   \n",
       "13     0.081951  0.246080  0.312730    3.56540    29.45000  0.011692   \n",
       "14    -0.208780  1.002400 -0.389570    0.57408  -253.85000 -0.201430   \n",
       "15     0.013800  0.873730 -0.119860    0.86281  -125.35000 -0.721450   \n",
       "16     0.275480  0.226520  0.563080    3.48570   120.27000  0.885430   \n",
       "17    -0.093880  0.248910  0.374170    2.50320    35.00600  0.084199   \n",
       "18     0.165450  0.252790  0.365110    2.44430    28.19700  0.000000   \n",
       "19     0.090415  0.468540  0.445050    2.20610    37.25700  0.005443   \n",
       "20    -0.132210  0.476820  0.342430    1.71810    79.12500  0.000000   \n",
       "21     0.001137  0.414240  0.225920    2.78980    63.68300  0.000000   \n",
       "22     0.029986  0.794480 -0.014255    0.97797   -39.99600 -0.119500   \n",
       "23     0.032767  0.308310  0.447640    2.45930    35.24000  0.384540   \n",
       "24     0.072227  0.359310  0.616770    2.85770    32.07600  0.000000   \n",
       "25     0.278080  0.221500  0.723170    4.98880   122.53000  0.020789   \n",
       "26    -0.026983  0.763120  0.043526    1.05720   -53.79200 -0.288110   \n",
       "27     0.150790  0.584200  0.230910    1.44850    85.88900  0.000000   \n",
       "28     0.006135  0.694890  0.298240    1.43600     8.31280  0.131150   \n",
       "29     0.057159  0.721840  0.384100    1.65330    32.60600  0.000000   \n",
       "...         ...       ...       ...        ...         ...       ...   \n",
       "10473  0.021065  0.688650  0.155140    1.22850   -51.86300  0.000000   \n",
       "10474  0.026163  1.254800 -0.823510    0.34372  -375.16000  0.026163   \n",
       "10475 -0.098326  0.124810  0.875190    8.01250    42.67600  0.000000   \n",
       "10476  0.003603  0.824060 -0.049051    0.89208  -111.35000  0.000000   \n",
       "10477 -0.060721  0.142060  0.221660    2.56030    -0.57982  0.000000   \n",
       "10478  0.001236  0.063954  0.350590    6.48190   161.95000  0.001236   \n",
       "10479  0.011971  1.064200 -0.054751    0.94721   -27.62400 -0.081677   \n",
       "10480 -0.034567  0.447980  0.420320    1.93830   345.77000 -0.290290   \n",
       "10481  0.068664  0.622330 -0.121520    0.79321    -7.73950  0.000000   \n",
       "10482 -0.039539  1.467400 -0.467370    0.68149   -65.81200 -0.811710   \n",
       "10483  0.009429  0.670050  0.311190    1.46440   -77.77200  0.000000   \n",
       "10484 -0.044808  0.709740 -0.257520    0.62491   -91.56900  0.000000   \n",
       "10485 -0.047665  0.374370  0.387020    6.28570   101.48000 -0.120250   \n",
       "10486 -0.052168  0.106620  0.258450    3.42400     2.34730 -0.052168   \n",
       "10487 -0.242060  0.133010  0.329650    3.98950    29.35700  0.000000   \n",
       "10488  0.058280  0.480860  0.196150    1.45710  -134.67000  0.058280   \n",
       "10489 -0.019001  1.271300 -0.047473    0.95317    -6.31050 -0.546160   \n",
       "10490  0.180780  1.014800 -0.118940    0.86624   -61.12400 -7.664900   \n",
       "10491  0.014359  0.534250 -0.171340    0.62102   -28.84200  0.014359   \n",
       "10492  0.004696  0.196280 -0.125790    0.35822 -3075.50000  0.004696   \n",
       "10493 -0.019241  0.698810  0.050157    1.25360   -12.66900  0.000000   \n",
       "10494 -0.119170  0.652420 -0.267740    0.57507   -36.82800 -0.119170   \n",
       "10495  0.062089  0.768410 -0.188140    0.64101   -39.50500  0.000000   \n",
       "10496  0.057519  0.739930  0.154370    1.23730   -15.79900  0.057519   \n",
       "10497  0.003840  0.627830  0.113260    1.19970   -74.43700  0.003840   \n",
       "10498  0.002861  0.580670 -0.223860    0.51658   -31.86600  0.002861   \n",
       "10499 -0.051968  0.552540  0.147150    2.16980    12.74800 -0.051968   \n",
       "10500 -0.135900  0.839540 -0.342010    0.46526  -145.31000 -0.219120   \n",
       "10501  0.009423  0.500280  0.261630    1.52300   -10.15800  0.009423   \n",
       "10502 -0.001775  0.947800  0.003729    1.00450   -50.22100  0.000000   \n",
       "\n",
       "          Attr7      Attr8     Attr9    Attr10  ...      Attr56     Attr57  \\\n",
       "0      0.219460   1.122500   1.19610  0.463590  ...    0.163960   0.375740   \n",
       "1      0.171850   1.172100   1.60180  0.539620  ...    0.027516   0.271000   \n",
       "2      0.004572   2.988100   1.00770  0.675660  ...    0.007639   0.000881   \n",
       "3      0.024526   1.305700   1.05090  0.564530  ...    0.048398   0.043445   \n",
       "4      0.233580   1.409400   1.33930  0.584960  ...    0.176480   0.321880   \n",
       "5      0.182060   0.798080   1.81260  0.443850  ...    0.555770   0.410190   \n",
       "6      0.142150  26.279000   0.44339  0.963340  ...    0.067038   0.119400   \n",
       "7      0.013422   0.491080   1.18250  0.329340  ...    0.197800   0.029854   \n",
       "8      0.297140   0.802680   2.33170  0.445270  ...    0.140380   0.536630   \n",
       "9     -0.119860   0.646550   3.00000  0.392670  ...    0.264280  -0.305250   \n",
       "10    -0.124780   8.979100   0.76134  0.805240  ...   -0.313470  -0.161870   \n",
       "11     0.107280   1.482200   1.04750  0.597140  ...    0.045381   0.139870   \n",
       "12     0.098854   4.208500   1.26200  0.808010  ...    0.207600   0.103460   \n",
       "13     0.094949   3.063800   1.11170  0.753920  ...    0.100510   0.108700   \n",
       "14    -0.208780  -0.002441   1.05360 -0.002447  ...    0.194060  85.308000   \n",
       "15     0.013800   0.088591   0.91784  0.077405  ...   -0.089510   0.178280   \n",
       "16     0.341540   3.236800   1.23660  0.733230  ...    0.191360   0.375710   \n",
       "17    -0.089098   3.002100   0.92569  0.747250  ...   -0.080281  -0.125630   \n",
       "18     0.203540   2.955900   2.36410  0.747210  ...    0.089584   0.221430   \n",
       "19     0.113600   1.134300   2.03980  0.531460  ...    0.064679   0.170120   \n",
       "20    -0.132210   1.097200   1.43430  0.523180  ...   -0.093488  -0.252700   \n",
       "21     0.004218   1.414100   0.71197  0.585760  ...    0.049682   0.001941   \n",
       "22     0.029986   0.215610   1.08400  0.171300  ...    0.077483   0.175050   \n",
       "23     0.032767   2.243500   2.77940  0.691690  ...    0.010514   0.047372   \n",
       "24     0.075139   1.783100   2.00790  0.640690  ...    0.041917   0.112730   \n",
       "25     0.346920   3.514800   2.13620  0.778500  ...    0.168180   0.357200   \n",
       "26    -0.026983   0.310420   2.07820  0.236880  ...   -0.006273  -0.113910   \n",
       "27     0.185430   0.711740   0.87949  0.415800  ...    0.215930   0.362660   \n",
       "28     0.006135   0.439070   3.71780  0.305110  ...    0.013016   0.020107   \n",
       "29     0.069934   0.385350   2.49970  0.278160  ...    0.037272   0.205490   \n",
       "...         ...        ...       ...       ...  ...         ...        ...   \n",
       "10473  0.021065   0.452120   3.48950  0.311350  ...   -0.001793   0.067658   \n",
       "10474  0.026163  -0.247810   0.88300 -0.310960  ...   -0.132500  -0.084134   \n",
       "10475 -0.098326   7.012500   6.80820  0.875190  ...   -0.014442  -0.112350   \n",
       "10476  0.008453   0.213440   0.87744  0.175890  ...    0.030310   0.020487   \n",
       "10477 -0.060721   6.039100   2.85010  0.857940  ...   -0.027066  -0.070776   \n",
       "10478  0.009518  13.101000   0.79498  0.837840  ...   -0.257890   0.001475   \n",
       "10479  0.024039  -0.060346   1.31520 -0.064220  ...    0.018437  -0.186400   \n",
       "10480 -0.034567   1.233400   0.37662  0.552550  ...   -0.364230  -0.062559   \n",
       "10481  0.068664   0.606870  10.43500  0.377670  ...    0.007873   0.181810   \n",
       "10482 -0.039539  -0.318510   4.03190 -0.467370  ...    0.004499   0.084600   \n",
       "10483  0.009628   0.492400   2.05890  0.329930  ...    0.080219   0.028580   \n",
       "10484 -0.052481   0.408920   1.66010  0.290230  ...    0.165650  -0.154390   \n",
       "10485 -0.047665   1.670600   1.00250  0.625420  ...   -0.012025  -0.076212   \n",
       "10486 -0.045162   8.094400   0.87396  0.863040  ...   -0.144220  -0.060447   \n",
       "10487 -0.223310   6.518300   1.87830  0.867010  ...    0.042787  -0.279190   \n",
       "10488  0.068763  -0.035204   1.12060 -0.016928  ...    0.107600  -3.442800   \n",
       "10489 -0.019001  -0.213430   3.15670 -0.271330  ...    0.000310   0.070029   \n",
       "10490  0.186250  -0.014645   3.38170 -0.014862  ...    0.155020 -12.164000   \n",
       "10491  0.018116   0.852310   1.00160  0.455340  ...    0.001646   0.031534   \n",
       "10492  0.004696   4.094200   0.00000  0.803610  ...         NaN   0.005844   \n",
       "10493 -0.020521   0.431000   1.56360  0.301190  ...    0.017165  -0.063883   \n",
       "10494 -0.119170   0.391170   0.96762  0.255210  ...   -0.033468  -0.466930   \n",
       "10495  0.062089   0.301390   3.17260  0.231590  ...    0.046701   0.268100   \n",
       "10496  0.073025   0.270600   1.01480  0.200230  ...    0.014604   0.287270   \n",
       "10497  0.008917   0.586250   0.95419  0.368060  ...   -0.048013   0.010434   \n",
       "10498  0.002861   0.618550   1.01200  0.359170  ...    0.011834   0.007966   \n",
       "10499 -0.034361   0.669830   0.94694  0.370110  ...   -0.056037  -0.140410   \n",
       "10500 -0.131860   0.191130   1.09990  0.160460  ...    0.144120  -0.846930   \n",
       "10501  0.007700   0.989900   1.01230  0.495230  ...    0.012186   0.019027   \n",
       "10502  0.002565   0.055122   2.12680  0.052245  ...    0.023492  -0.033971   \n",
       "\n",
       "        Attr58    Attr59     Attr60    Attr61    Attr62    Attr63     Attr64  \\\n",
       "0      0.83604  0.000007    9.71450   6.28130   84.2910   4.33030    4.03410   \n",
       "1      0.90108  0.000000    5.98820   4.11030  102.1900   3.57160    5.95000   \n",
       "2      0.99236  0.000000    6.77420   3.79220   64.8460   5.62870    4.45810   \n",
       "3      0.95160  0.142980    4.22860   5.05280   98.7830   3.69500    3.48440   \n",
       "4      0.82635  0.073039    2.59120   7.07560  100.5400   3.63030    4.63750   \n",
       "5      0.46957  0.029421    8.45530   3.34880  107.2400   3.40360   12.45400   \n",
       "6      0.75777  0.015995   18.43300  41.78300    6.8102  53.59600    6.49420   \n",
       "7      0.83478  0.143940    8.18130   4.00840  174.7300   2.08890    3.96160   \n",
       "8      0.87292  0.044584    4.45270   7.18470   83.7270   4.35940   40.09700   \n",
       "9      0.73749  0.000000   12.84400   8.30430   73.1720   4.98830    8.39840   \n",
       "10     1.31350  0.000000    2.46550  11.59700   72.0740   5.06420    0.59659   \n",
       "11     0.95462  0.097510    6.50560   5.44280   53.9100   6.77060   32.60400   \n",
       "12     0.79240  0.177270    7.93810   2.76740   49.6400   7.35290    0.43586   \n",
       "13     0.89949  0.164700    4.02450   7.24490   52.0220   7.01630    1.51290   \n",
       "14     0.83631 -9.026900    9.35880   3.20830  316.8800   1.15190    2.21850   \n",
       "15     1.08950  0.000000    3.79740   3.71530  305.6300   1.19430    4.23950   \n",
       "16     0.80864  0.000000   15.12600   4.46560   48.8970   7.46470    8.03680   \n",
       "17     1.08030  0.000000    7.02740   7.09320   59.9040   6.09310    4.02380   \n",
       "18     0.91439  0.000000   14.10300   6.83860   39.0280   9.35220    6.18730   \n",
       "19     0.94475  0.008381    9.60290   4.62140   66.0270   5.52810   10.96900   \n",
       "20     1.09210  0.000000        NaN   1.88230  121.3500   3.00790    7.93500   \n",
       "21     0.99420  0.486310    7.20690   3.03740   64.7130   5.64030    1.09900   \n",
       "22     0.92252  0.859700   11.68600   1.69140  253.4100   1.44030    2.53980   \n",
       "23     0.98849  0.000000   17.94600   9.57150   40.2810   9.06130   11.31600   \n",
       "24     0.96530  0.000000    4.48670   4.14760   60.3520   6.04780   39.20400   \n",
       "25     0.83763  0.047519   16.61900   4.46400   30.9780  11.78200   22.36200   \n",
       "26     1.01270  0.000000    5.96530   4.70600  133.6500   2.73100   10.62900   \n",
       "27     0.79215  0.000000   12.09400   1.30800  213.6600   1.70830    3.45900   \n",
       "28     0.99835  0.035562   17.60500   5.69180   67.1570   5.43500  209.84000   \n",
       "29     0.97232  0.000000   15.07100   5.15370   85.8420   4.25200   89.24400   \n",
       "...        ...       ...        ...       ...       ...       ...        ...   \n",
       "10473  0.97663  0.000918    5.43090  20.89100   71.0220   5.13920   21.03700   \n",
       "10474  1.13250  0.000000    3.05520  17.41000  426.6300   0.85555    1.88780   \n",
       "10475  1.01440  0.000000        NaN  16.48600    6.6910  54.55100        NaN   \n",
       "10476  0.94317  1.477100    4.63390   6.99920  189.0600   1.93060    1.47590   \n",
       "10477  1.01550  0.000000   12.64500  20.84800   18.1940  20.06200    4.47920   \n",
       "10478  1.25790  0.000000    0.90363   2.95820  111.2200   3.28190    0.35853   \n",
       "10479  0.98168  0.000000   32.33500   1.59020  287.8400   1.26810   75.05000   \n",
       "10480  1.07090  0.000000        NaN   0.43403  434.1500   0.84073    2.85580   \n",
       "10481  0.98437  0.000000  130.99000  30.86100   20.5550  17.75700   19.54500   \n",
       "10482  0.99542  0.000000   16.08400   5.55790  132.8400   2.74770        NaN   \n",
       "10483  0.82989  0.000000    2.55120  14.44400  118.7800   3.07280  109.68000   \n",
       "10484  0.78004  0.000000    9.45500   6.78090  150.9500   2.41800    2.90780   \n",
       "10485  1.03960  0.000000    9.90000   4.43410   26.6570  13.69200    1.85810   \n",
       "10486  1.14420  0.000000    2.33390   9.41230   65.6320   5.56130    0.93390   \n",
       "10487  1.11630  0.000000   11.60700  26.78500   21.4280  17.03400    3.35480   \n",
       "10488  0.89240 -3.056500    2.03710  22.19000  136.4400   2.67510    3.06340   \n",
       "10489  1.00070 -0.759990  852.65000   5.16690  117.2100   3.11400   92.85500   \n",
       "10490  0.76623 -1.507300    7.31090  21.97000   95.9790   3.80290   14.73000   \n",
       "10491  0.99835  0.180370   34.43900  21.91900   45.8960   7.95280    4.99920   \n",
       "10492      NaN  0.000348    0.00000   0.00000       NaN   0.00000    0.00000   \n",
       "10493  1.02570  1.296700   15.28200  11.54400   46.1730   7.90510    2.07920   \n",
       "10494  1.03350  0.087554   24.36200  24.40300   53.9960   6.75970    6.67930   \n",
       "10495  0.96936  0.667000   23.10100  17.77400   60.2940   6.05370    4.77760   \n",
       "10496  0.98540  0.446830    7.96960   2.26520  193.9600   1.88180    6.27170   \n",
       "10497  1.04800  0.164940    3.25440   3.21630  190.3600   1.91750    3.40240   \n",
       "10498  0.98817  0.327360   38.14200  39.15000   42.2020   8.64890    5.26460   \n",
       "10499  1.05600  1.153000   14.49300   9.28510   32.7610  11.14100    1.92760   \n",
       "10500  0.85427  0.814200    6.27370   9.69660  212.2300   1.71980    1.56590   \n",
       "10501  0.98781  0.000000    5.96750   4.35360   98.2400   3.71540    7.80680   \n",
       "10502  0.97208  2.398500    7.55120   3.99600  141.1600   2.58570   12.22500   \n",
       "\n",
       "       class  \n",
       "0       b'0'  \n",
       "1       b'0'  \n",
       "2       b'0'  \n",
       "3       b'0'  \n",
       "4       b'0'  \n",
       "5       b'0'  \n",
       "6       b'0'  \n",
       "7       b'0'  \n",
       "8       b'0'  \n",
       "9       b'0'  \n",
       "10      b'0'  \n",
       "11      b'0'  \n",
       "12      b'0'  \n",
       "13      b'0'  \n",
       "14      b'0'  \n",
       "15      b'0'  \n",
       "16      b'0'  \n",
       "17      b'0'  \n",
       "18      b'0'  \n",
       "19      b'0'  \n",
       "20      b'0'  \n",
       "21      b'0'  \n",
       "22      b'0'  \n",
       "23      b'0'  \n",
       "24      b'0'  \n",
       "25      b'0'  \n",
       "26      b'0'  \n",
       "27      b'0'  \n",
       "28      b'0'  \n",
       "29      b'0'  \n",
       "...      ...  \n",
       "10473   b'1'  \n",
       "10474   b'1'  \n",
       "10475   b'1'  \n",
       "10476   b'1'  \n",
       "10477   b'1'  \n",
       "10478   b'1'  \n",
       "10479   b'1'  \n",
       "10480   b'1'  \n",
       "10481   b'1'  \n",
       "10482   b'1'  \n",
       "10483   b'1'  \n",
       "10484   b'1'  \n",
       "10485   b'1'  \n",
       "10486   b'1'  \n",
       "10487   b'1'  \n",
       "10488   b'1'  \n",
       "10489   b'1'  \n",
       "10490   b'1'  \n",
       "10491   b'1'  \n",
       "10492   b'1'  \n",
       "10493   b'1'  \n",
       "10494   b'1'  \n",
       "10495   b'1'  \n",
       "10496   b'1'  \n",
       "10497   b'1'  \n",
       "10498   b'1'  \n",
       "10499   b'1'  \n",
       "10500   b'1'  \n",
       "10501   b'1'  \n",
       "10502   b'1'  \n",
       "\n",
       "[10503 rows x 64 columns]"
      ]
     },
     "execution_count": 8,
     "metadata": {},
     "output_type": "execute_result"
    }
   ],
   "source": [
    "df_new"
   ]
  },
  {
   "cell_type": "code",
   "execution_count": 9,
   "metadata": {
    "scrolled": true
   },
   "outputs": [
    {
     "data": {
      "text/plain": [
       "<matplotlib.axes._subplots.AxesSubplot at 0x27ae4dcf0f0>"
      ]
     },
     "execution_count": 9,
     "metadata": {},
     "output_type": "execute_result"
    },
    {
     "data": {
      "image/png": "[encoded data removed]",
      "text/plain": [
       "<Figure size 1728x720 with 2 Axes>"
      ]
     },
     "metadata": {
      "needs_background": "light"
     },
     "output_type": "display_data"
    }
   ],
   "source": [
    "msno.bar(df_new) ##21,24,27,28,60,64,53,54,41"
   ]
  },
  {
   "cell_type": "code",
   "execution_count": 54,
   "metadata": {},
   "outputs": [
    {
     "data": {
      "text/html": [
       "<div>\n",
       "<style scoped>\n",
       "    .dataframe tbody tr th:only-of-type {\n",
       "        vertical-align: middle;\n",
       "    }\n",
       "\n",
       "    .dataframe tbody tr th {\n",
       "        vertical-align: top;\n",
       "    }\n",
       "\n",
       "    .dataframe thead th {\n",
       "        text-align: right;\n",
       "    }\n",
       "</style>\n",
       "<table border=\"1\" class=\"dataframe\">\n",
       "  <thead>\n",
       "    <tr style=\"text-align: right;\">\n",
       "      <th></th>\n",
       "      <th>Attr1</th>\n",
       "      <th>Attr2</th>\n",
       "      <th>Attr3</th>\n",
       "      <th>Attr4</th>\n",
       "      <th>Attr5</th>\n",
       "      <th>Attr6</th>\n",
       "      <th>Attr7</th>\n",
       "      <th>Attr8</th>\n",
       "      <th>Attr9</th>\n",
       "      <th>Attr10</th>\n",
       "      <th>...</th>\n",
       "      <th>Attr55</th>\n",
       "      <th>Attr56</th>\n",
       "      <th>Attr57</th>\n",
       "      <th>Attr58</th>\n",
       "      <th>Attr59</th>\n",
       "      <th>Attr60</th>\n",
       "      <th>Attr61</th>\n",
       "      <th>Attr62</th>\n",
       "      <th>Attr63</th>\n",
       "      <th>Attr64</th>\n",
       "    </tr>\n",
       "  </thead>\n",
       "  <tbody>\n",
       "    <tr>\n",
       "      <th>count</th>\n",
       "      <td>7024.000000</td>\n",
       "      <td>7024.000000</td>\n",
       "      <td>7024.000000</td>\n",
       "      <td>6997.000000</td>\n",
       "      <td>7.019000e+03</td>\n",
       "      <td>7024.000000</td>\n",
       "      <td>7024.000000</td>\n",
       "      <td>7002.000000</td>\n",
       "      <td>7026.000000</td>\n",
       "      <td>7024.000000</td>\n",
       "      <td>...</td>\n",
       "      <td>7.027000e+03</td>\n",
       "      <td>7.027000e+03</td>\n",
       "      <td>7026.000000</td>\n",
       "      <td>7.027000e+03</td>\n",
       "      <td>7026.000000</td>\n",
       "      <td>6.892000e+03</td>\n",
       "      <td>7005.000000</td>\n",
       "      <td>7.027000e+03</td>\n",
       "      <td>6997.000000</td>\n",
       "      <td>6993.000000</td>\n",
       "    </tr>\n",
       "    <tr>\n",
       "      <th>mean</th>\n",
       "      <td>0.034660</td>\n",
       "      <td>0.560215</td>\n",
       "      <td>0.119969</td>\n",
       "      <td>2.629143</td>\n",
       "      <td>-2.631672e+02</td>\n",
       "      <td>0.059712</td>\n",
       "      <td>0.313876</td>\n",
       "      <td>2.623996</td>\n",
       "      <td>5.552855</td>\n",
       "      <td>1.825832</td>\n",
       "      <td>...</td>\n",
       "      <td>8.855693e+03</td>\n",
       "      <td>-1.577367e+02</td>\n",
       "      <td>0.193243</td>\n",
       "      <td>1.587409e+02</td>\n",
       "      <td>0.277829</td>\n",
       "      <td>4.328830e+02</td>\n",
       "      <td>15.642228</td>\n",
       "      <td>4.763202e+03</td>\n",
       "      <td>8.126852</td>\n",
       "      <td>208.731950</td>\n",
       "    </tr>\n",
       "    <tr>\n",
       "      <th>std</th>\n",
       "      <td>4.565504</td>\n",
       "      <td>5.350084</td>\n",
       "      <td>5.275459</td>\n",
       "      <td>13.257356</td>\n",
       "      <td>3.707460e+04</td>\n",
       "      <td>6.051113</td>\n",
       "      <td>8.353274</td>\n",
       "      <td>18.708327</td>\n",
       "      <td>101.995448</td>\n",
       "      <td>33.836452</td>\n",
       "      <td>...</td>\n",
       "      <td>7.247527e+04</td>\n",
       "      <td>1.322125e+04</td>\n",
       "      <td>4.344046</td>\n",
       "      <td>1.322124e+04</td>\n",
       "      <td>6.339149</td>\n",
       "      <td>2.612802e+04</td>\n",
       "      <td>261.554534</td>\n",
       "      <td>3.107835e+05</td>\n",
       "      <td>19.996419</td>\n",
       "      <td>5140.708804</td>\n",
       "    </tr>\n",
       "    <tr>\n",
       "      <th>min</th>\n",
       "      <td>-256.890000</td>\n",
       "      <td>-72.162000</td>\n",
       "      <td>-440.500000</td>\n",
       "      <td>0.000000</td>\n",
       "      <td>-2.722100e+06</td>\n",
       "      <td>-397.890000</td>\n",
       "      <td>-189.560000</td>\n",
       "      <td>-141.410000</td>\n",
       "      <td>0.000005</td>\n",
       "      <td>-440.550000</td>\n",
       "      <td>...</td>\n",
       "      <td>-8.004700e+05</td>\n",
       "      <td>-1.108300e+06</td>\n",
       "      <td>-315.370000</td>\n",
       "      <td>-4.194000e-03</td>\n",
       "      <td>-327.970000</td>\n",
       "      <td>4.700000e-05</td>\n",
       "      <td>0.000016</td>\n",
       "      <td>0.000000e+00</td>\n",
       "      <td>0.000015</td>\n",
       "      <td>0.000010</td>\n",
       "    </tr>\n",
       "    <tr>\n",
       "      <th>25%</th>\n",
       "      <td>0.021182</td>\n",
       "      <td>0.296678</td>\n",
       "      <td>0.026968</td>\n",
       "      <td>1.063100</td>\n",
       "      <td>-4.449800e+01</td>\n",
       "      <td>0.000000</td>\n",
       "      <td>0.028023</td>\n",
       "      <td>0.445710</td>\n",
       "      <td>1.037225</td>\n",
       "      <td>0.300785</td>\n",
       "      <td>...</td>\n",
       "      <td>9.712000e+01</td>\n",
       "      <td>2.031450e-02</td>\n",
       "      <td>0.056772</td>\n",
       "      <td>8.647650e-01</td>\n",
       "      <td>0.000000</td>\n",
       "      <td>5.923950e+00</td>\n",
       "      <td>4.829000</td>\n",
       "      <td>4.322250e+01</td>\n",
       "      <td>3.425400</td>\n",
       "      <td>2.538600</td>\n",
       "    </tr>\n",
       "    <tr>\n",
       "      <th>50%</th>\n",
       "      <td>0.075802</td>\n",
       "      <td>0.482960</td>\n",
       "      <td>0.181275</td>\n",
       "      <td>1.502000</td>\n",
       "      <td>-5.373900e+00</td>\n",
       "      <td>0.000000</td>\n",
       "      <td>0.090109</td>\n",
       "      <td>1.015100</td>\n",
       "      <td>1.205750</td>\n",
       "      <td>0.492235</td>\n",
       "      <td>...</td>\n",
       "      <td>1.604800e+03</td>\n",
       "      <td>6.338200e-02</td>\n",
       "      <td>0.175745</td>\n",
       "      <td>9.388100e-01</td>\n",
       "      <td>0.028438</td>\n",
       "      <td>1.004050e+01</td>\n",
       "      <td>7.033700</td>\n",
       "      <td>6.850900e+01</td>\n",
       "      <td>5.303200</td>\n",
       "      <td>4.637700</td>\n",
       "    </tr>\n",
       "    <tr>\n",
       "      <th>75%</th>\n",
       "      <td>0.160268</td>\n",
       "      <td>0.680233</td>\n",
       "      <td>0.362548</td>\n",
       "      <td>2.460700</td>\n",
       "      <td>3.777050e+01</td>\n",
       "      <td>0.146660</td>\n",
       "      <td>0.188667</td>\n",
       "      <td>2.267675</td>\n",
       "      <td>2.132975</td>\n",
       "      <td>0.675677</td>\n",
       "      <td>...</td>\n",
       "      <td>5.955900e+03</td>\n",
       "      <td>1.376950e-01</td>\n",
       "      <td>0.351922</td>\n",
       "      <td>9.820150e-01</td>\n",
       "      <td>0.273867</td>\n",
       "      <td>2.013900e+01</td>\n",
       "      <td>10.703000</td>\n",
       "      <td>1.063350e+02</td>\n",
       "      <td>8.357900</td>\n",
       "      <td>9.782200</td>\n",
       "    </tr>\n",
       "    <tr>\n",
       "      <th>max</th>\n",
       "      <td>94.280000</td>\n",
       "      <td>441.500000</td>\n",
       "      <td>1.000000</td>\n",
       "      <td>1017.800000</td>\n",
       "      <td>9.909000e+05</td>\n",
       "      <td>303.670000</td>\n",
       "      <td>453.770000</td>\n",
       "      <td>1452.200000</td>\n",
       "      <td>3876.100000</td>\n",
       "      <td>1099.500000</td>\n",
       "      <td>...</td>\n",
       "      <td>4.398400e+06</td>\n",
       "      <td>1.000000e+00</td>\n",
       "      <td>126.670000</td>\n",
       "      <td>1.108300e+06</td>\n",
       "      <td>119.580000</td>\n",
       "      <td>2.137800e+06</td>\n",
       "      <td>21110.000000</td>\n",
       "      <td>2.501600e+07</td>\n",
       "      <td>1042.200000</td>\n",
       "      <td>294770.000000</td>\n",
       "    </tr>\n",
       "  </tbody>\n",
       "</table>\n",
       "<p>8 rows × 64 columns</p>\n",
       "</div>"
      ],
      "text/plain": [
       "             Attr1        Attr2        Attr3        Attr4         Attr5  \\\n",
       "count  7024.000000  7024.000000  7024.000000  6997.000000  7.019000e+03   \n",
       "mean      0.034660     0.560215     0.119969     2.629143 -2.631672e+02   \n",
       "std       4.565504     5.350084     5.275459    13.257356  3.707460e+04   \n",
       "min    -256.890000   -72.162000  -440.500000     0.000000 -2.722100e+06   \n",
       "25%       0.021182     0.296678     0.026968     1.063100 -4.449800e+01   \n",
       "50%       0.075802     0.482960     0.181275     1.502000 -5.373900e+00   \n",
       "75%       0.160268     0.680233     0.362548     2.460700  3.777050e+01   \n",
       "max      94.280000   441.500000     1.000000  1017.800000  9.909000e+05   \n",
       "\n",
       "             Attr6        Attr7        Attr8        Attr9       Attr10  \\\n",
       "count  7024.000000  7024.000000  7002.000000  7026.000000  7024.000000   \n",
       "mean      0.059712     0.313876     2.623996     5.552855     1.825832   \n",
       "std       6.051113     8.353274    18.708327   101.995448    33.836452   \n",
       "min    -397.890000  -189.560000  -141.410000     0.000005  -440.550000   \n",
       "25%       0.000000     0.028023     0.445710     1.037225     0.300785   \n",
       "50%       0.000000     0.090109     1.015100     1.205750     0.492235   \n",
       "75%       0.146660     0.188667     2.267675     2.132975     0.675677   \n",
       "max     303.670000   453.770000  1452.200000  3876.100000  1099.500000   \n",
       "\n",
       "           ...              Attr55        Attr56       Attr57        Attr58  \\\n",
       "count      ...        7.027000e+03  7.027000e+03  7026.000000  7.027000e+03   \n",
       "mean       ...        8.855693e+03 -1.577367e+02     0.193243  1.587409e+02   \n",
       "std        ...        7.247527e+04  1.322125e+04     4.344046  1.322124e+04   \n",
       "min        ...       -8.004700e+05 -1.108300e+06  -315.370000 -4.194000e-03   \n",
       "25%        ...        9.712000e+01  2.031450e-02     0.056772  8.647650e-01   \n",
       "50%        ...        1.604800e+03  6.338200e-02     0.175745  9.388100e-01   \n",
       "75%        ...        5.955900e+03  1.376950e-01     0.351922  9.820150e-01   \n",
       "max        ...        4.398400e+06  1.000000e+00   126.670000  1.108300e+06   \n",
       "\n",
       "            Attr59        Attr60        Attr61        Attr62       Attr63  \\\n",
       "count  7026.000000  6.892000e+03   7005.000000  7.027000e+03  6997.000000   \n",
       "mean      0.277829  4.328830e+02     15.642228  4.763202e+03     8.126852   \n",
       "std       6.339149  2.612802e+04    261.554534  3.107835e+05    19.996419   \n",
       "min    -327.970000  4.700000e-05      0.000016  0.000000e+00     0.000015   \n",
       "25%       0.000000  5.923950e+00      4.829000  4.322250e+01     3.425400   \n",
       "50%       0.028438  1.004050e+01      7.033700  6.850900e+01     5.303200   \n",
       "75%       0.273867  2.013900e+01     10.703000  1.063350e+02     8.357900   \n",
       "max     119.580000  2.137800e+06  21110.000000  2.501600e+07  1042.200000   \n",
       "\n",
       "              Attr64  \n",
       "count    6993.000000  \n",
       "mean      208.731950  \n",
       "std      5140.708804  \n",
       "min         0.000010  \n",
       "25%         2.538600  \n",
       "50%         4.637700  \n",
       "75%         9.782200  \n",
       "max    294770.000000  \n",
       "\n",
       "[8 rows x 64 columns]"
      ]
     },
     "execution_count": 54,
     "metadata": {},
     "output_type": "execute_result"
    }
   ],
   "source": [
    "df.describe()"
   ]
  },
  {
   "cell_type": "code",
   "execution_count": 14,
   "metadata": {},
   "outputs": [
    {
     "data": {
      "text/plain": [
       "Index(['Attr1', 'Attr2', 'Attr3', 'Attr4', 'Attr5', 'Attr6', 'Attr7', 'Attr8',\n",
       "       'Attr9', 'Attr10', 'Attr11', 'Attr12', 'Attr13', 'Attr14', 'Attr15',\n",
       "       'Attr16', 'Attr17', 'Attr18', 'Attr19', 'Attr20', 'Attr22', 'Attr23',\n",
       "       'Attr24', 'Attr25', 'Attr26', 'Attr27', 'Attr28', 'Attr29', 'Attr30',\n",
       "       'Attr31', 'Attr32', 'Attr33', 'Attr34', 'Attr35', 'Attr36', 'Attr38',\n",
       "       'Attr39', 'Attr40', 'Attr41', 'Attr42', 'Attr43', 'Attr44', 'Attr45',\n",
       "       'Attr46', 'Attr47', 'Attr48', 'Attr49', 'Attr50', 'Attr51', 'Attr52',\n",
       "       'Attr53', 'Attr54', 'Attr55', 'Attr56', 'Attr57', 'Attr58', 'Attr59',\n",
       "       'Attr60', 'Attr61', 'Attr62', 'Attr63', 'Attr64', 'class'],\n",
       "      dtype='object')"
      ]
     },
     "execution_count": 14,
     "metadata": {},
     "output_type": "execute_result"
    }
   ],
   "source": [
    "df_new.columns"
   ]
  },
  {
   "cell_type": "code",
   "execution_count": null,
   "metadata": {},
   "outputs": [],
   "source": []
  },
  {
   "cell_type": "code",
   "execution_count": 11,
   "metadata": {},
   "outputs": [
    {
     "data": {
      "image/png": "[encoded data removed]",
      "text/plain": [
       "<Figure size 1440x1224 with 2 Axes>"
      ]
     },
     "metadata": {
      "needs_background": "light"
     },
     "output_type": "display_data"
    }
   ],
   "source": [
    "corrmat = df_new.corr()\n",
    "f, ax = plt.subplots(figsize=(20, 17))\n",
    "sns.heatmap(corrmat, vmax=.5);"
   ]
  },
  {
   "cell_type": "code",
   "execution_count": 100,
   "metadata": {},
   "outputs": [
    {
     "data": {
      "text/plain": [
       "(7027, 63)"
      ]
     },
     "execution_count": 100,
     "metadata": {},
     "output_type": "execute_result"
    }
   ],
   "source": [
    "df_new.shape"
   ]
  },
  {
   "cell_type": "code",
   "execution_count": null,
   "metadata": {},
   "outputs": [],
   "source": [
    "Data PreProcessing"
   ]
  },
  {
   "cell_type": "markdown",
   "metadata": {},
   "source": [
    "### Skewness before feature scaling"
   ]
  },
  {
   "cell_type": "markdown",
   "metadata": {},
   "source": [
    "### Feature scaling using log(x+1)"
   ]
  },
  {
   "cell_type": "code",
   "execution_count": 25,
   "metadata": {},
   "outputs": [
    {
     "data": {
      "text/plain": [
       "<matplotlib.axes._subplots.AxesSubplot at 0x1bc91908b70>"
      ]
     },
     "execution_count": 25,
     "metadata": {},
     "output_type": "execute_result"
    },
    {
     "data": {
      "image/png": "[encoded data removed]",
      "text/plain": [
       "<Figure size 1728x720 with 2 Axes>"
      ]
     },
     "metadata": {
      "needs_background": "light"
     },
     "output_type": "display_data"
    }
   ],
   "source": [
    "msno.bar(df_new)"
   ]
  },
  {
   "cell_type": "markdown",
   "metadata": {},
   "source": [
    "### clean data - remove missing terms or impute them  ###27,45,60,24,41\n"
   ]
  },
  {
   "cell_type": "code",
   "execution_count": null,
   "metadata": {},
   "outputs": [],
   "source": []
  },
  {
   "cell_type": "code",
   "execution_count": 10,
   "metadata": {},
   "outputs": [],
   "source": [
    "#Treating Missing Values using scikit learn imputation Median imputation for four variables\n",
    "#21,24,27,28,60,64,53,54,41\n",
    "#Treating Missing Values\n",
    "df_new['Attr21'].fillna(df_new['Attr21'].median(), inplace=True)#Treating Missing Values\n",
    "df_new['Attr28'].fillna(df_new['Attr28'].median(), inplace=True)#Treating Missing Values\n",
    "df_new['Attr60'].fillna(df_new['Attr60'].median(), inplace=True)#Treating Missing Values\n",
    "df_new['Attr64'].fillna(df_new['Attr64'].median(), inplace=True)#Treating Missing Values\n",
    "df_new['Attr27'].fillna(df_new['Attr27'].median(), inplace=True)\n",
    "#Treating Missing Values\n",
    "df_new['Attr24'].fillna(df_new['Attr24'].median(), inplace=True)\n",
    "#Treating Missing Values\n",
    "df_new['Attr41'].fillna(df_new['Attr41'].median(), inplace=True)\n",
    "#Treating Missing Values\n",
    "df_new['Attr53'].fillna(df_new['Attr53'].median(), inplace=True)\n",
    "df_new['Attr54'].fillna(df_new['Attr54'].median(), inplace=True)"
   ]
  },
  {
   "cell_type": "code",
   "execution_count": 17,
   "metadata": {},
   "outputs": [
    {
     "data": {
      "text/plain": [
       "(10503, 64)"
      ]
     },
     "execution_count": 17,
     "metadata": {},
     "output_type": "execute_result"
    }
   ],
   "source": [
    "df_new.shape"
   ]
  },
  {
   "cell_type": "code",
   "execution_count": null,
   "metadata": {},
   "outputs": [],
   "source": []
  },
  {
   "cell_type": "code",
   "execution_count": null,
   "metadata": {},
   "outputs": [],
   "source": [
    "##removing rows which have atleast one missing value"
   ]
  },
  {
   "cell_type": "code",
   "execution_count": 50,
   "metadata": {},
   "outputs": [],
   "source": [
    "dfy1 = df_new.dropna(axis =0)"
   ]
  },
  {
   "cell_type": "code",
   "execution_count": 51,
   "metadata": {},
   "outputs": [
    {
     "data": {
      "text/plain": [
       "(9799, 64)"
      ]
     },
     "execution_count": 51,
     "metadata": {},
     "output_type": "execute_result"
    }
   ],
   "source": [
    "dfy1.shape"
   ]
  },
  {
   "cell_type": "code",
   "execution_count": 30,
   "metadata": {},
   "outputs": [
    {
     "data": {
      "text/plain": [
       "<matplotlib.axes._subplots.AxesSubplot at 0x27aea1c70f0>"
      ]
     },
     "execution_count": 30,
     "metadata": {},
     "output_type": "execute_result"
    },
    {
     "data": {
      "image/png": "[encoded data removed]",
      "text/plain": [
       "<Figure size 1728x720 with 2 Axes>"
      ]
     },
     "metadata": {
      "needs_background": "light"
     },
     "output_type": "display_data"
    }
   ],
   "source": [
    "msno.bar(dfy1) #"
   ]
  },
  {
   "cell_type": "code",
   "execution_count": 41,
   "metadata": {},
   "outputs": [
    {
     "data": {
      "text/plain": [
       "(9799, 64)"
      ]
     },
     "execution_count": 41,
     "metadata": {},
     "output_type": "execute_result"
    }
   ],
   "source": [
    "dfy1.shape  ###704 rows deleted"
   ]
  },
  {
   "cell_type": "code",
   "execution_count": 13,
   "metadata": {},
   "outputs": [
    {
     "name": "stdout",
     "output_type": "stream",
     "text": [
      "Just finished Attr1 with skew 5.32582399384211\n",
      "Just finished Attr2 with skew 17.57476337655084\n",
      "Just finished Attr3 with skew -17.439849303525452\n",
      "Just finished Attr4 with skew 35.943161805238546\n",
      "Just finished Attr5 with skew -93.73497313300582\n",
      "Just finished Attr6 with skew -43.03120885730525\n",
      "Just finished Attr7 with skew 4.7641146130746295\n",
      "Just finished Attr8 with skew 69.82209406022221\n",
      "Just finished Attr9 with skew 3.5041024058647827\n",
      "Just finished Attr10 with skew -15.318516442500941\n",
      "Just finished Attr11 with skew 4.982390792311083\n",
      "Just finished Attr12 with skew 45.567135848469114\n",
      "Just finished Attr13 with skew 98.89146734291599\n",
      "Just finished Attr14 with skew 4.764094269983953\n",
      "Just finished Attr15 with skew 75.71301099944577\n",
      "Just finished Attr16 with skew 50.7772529762574\n",
      "Just finished Attr17 with skew 69.82113283115707\n",
      "Just finished Attr18 with skew 74.50784372578272\n",
      "Just finished Attr19 with skew 11.130380253878082\n",
      "Just finished Attr20 with skew 88.4988877857368\n",
      "Just finished Attr21 with skew 97.02891847803224\n",
      "Just finished Attr22 with skew 6.251553687074916\n",
      "Just finished Attr23 with skew 11.493230202228867\n",
      "Just finished Attr24 with skew 11.62373181912234\n",
      "Just finished Attr25 with skew -13.589387477440436\n",
      "Just finished Attr26 with skew 52.174661178385776\n",
      "Just finished Attr27 with skew 65.11260800537279\n",
      "Just finished Attr28 with skew 44.90835080666715\n",
      "Just finished Attr29 with skew 0.052805264730318886\n",
      "Just finished Attr30 with skew 64.21890246071142\n",
      "Just finished Attr31 with skew 11.036059725448213\n",
      "Just finished Attr32 with skew 96.37460199929619\n",
      "Just finished Attr33 with skew 20.94368186223278\n",
      "Just finished Attr34 with skew 21.96615433857672\n",
      "Just finished Attr35 with skew 6.398043040198122\n",
      "Just finished Attr36 with skew 3.3314704468635905\n",
      "Just finished Attr38 with skew -16.986666810360695\n",
      "Just finished Attr39 with skew -75.70651136295861\n",
      "Just finished Attr40 with skew 41.89161738267764\n",
      "Just finished Attr41 with skew 98.97962283527177\n",
      "Just finished Attr42 with skew -28.71357053075989\n",
      "Just finished Attr43 with skew 92.34177660030856\n",
      "Just finished Attr44 with skew 87.56293300751955\n",
      "Just finished Attr45 with skew 39.17949039077837\n",
      "Just finished Attr46 with skew 40.36717180806081\n",
      "Just finished Attr47 with skew 96.98963849394906\n",
      "Just finished Attr48 with skew 1.3425080683813737\n",
      "Just finished Attr49 with skew -59.208071325534455\n",
      "Just finished Attr50 with skew 47.83752816151371\n",
      "Just finished Attr51 with skew 21.20515506158495\n",
      "Just finished Attr52 with skew 96.3769164500537\n",
      "Just finished Attr53 with skew 48.875792020749074\n",
      "Just finished Attr54 with skew 46.33006074292315\n",
      "Just finished Attr55 with skew 29.39233175744902\n",
      "Just finished Attr56 with skew -98.97041730966481\n",
      "Just finished Attr57 with skew -61.88417954399098\n",
      "Just finished Attr58 with skew 98.97120635523966\n",
      "Just finished Attr59 with skew 89.51549636128547\n",
      "Just finished Attr60 with skew 96.00308222083792\n",
      "Just finished Attr61 with skew 44.10770890355632\n",
      "Just finished Attr62 with skew 82.79145106051696\n",
      "Just finished Attr63 with skew 20.364679850707688\n",
      "Just finished Attr64 with skew 34.14121977860156\n",
      "Just finished class with skew 4.333736044131764\n"
     ]
    }
   ],
   "source": [
    "for i in dfy1.skew().keys():        \n",
    "        dfy1[i] = dfy1[i]\n",
    "        print(\"Just finished {} with skew {}\".format(str(i), str(dfy1.skew()[i])))"
   ]
  },
  {
   "cell_type": "code",
   "execution_count": 52,
   "metadata": {},
   "outputs": [
    {
     "name": "stdout",
     "output_type": "stream",
     "text": [
      "Just finished Attr1 with skew -4.865391544324498\n",
      "Just finished Attr2 with skew 1.5740662089231443\n",
      "Just finished Attr3 with skew -3.4455870716665085\n",
      "Just finished Attr4 with skew 2.051007202895825\n",
      "Just finished Attr5 with skew 0.27986555058986007\n",
      "Just finished Attr6 with skew -4.2569866209535165\n",
      "Just finished Attr7 with skew -4.2045971700135985\n",
      "Just finished Attr8 with skew 1.3519927384393118\n",
      "Just finished Attr9 with skew 1.155907623678035\n",
      "Just finished Attr10 with skew -4.237373603712102\n",
      "Just finished Attr11 with skew -4.595666022019705\n",
      "Just finished Attr12 with skew 0.25299207644375593\n",
      "Just finished Attr13 with skew 6.015211258877761\n",
      "Just finished Attr14 with skew -4.204821629223752\n",
      "Just finished Attr15 with skew 0.2683498779234359\n",
      "Just finished Attr16 with skew 0.6302228844771148\n",
      "Just finished Attr17 with skew 2.2918397495524254\n",
      "Just finished Attr18 with skew -3.3906485311189734\n",
      "Just finished Attr19 with skew -4.309897122110709\n",
      "Just finished Attr20 with skew -0.5111540866282392\n",
      "Just finished Attr21 with skew 15.798433225089008\n",
      "Just finished Attr22 with skew -2.7132041406799035\n",
      "Just finished Attr23 with skew -4.507516686258113\n",
      "Just finished Attr24 with skew -2.126760529437905\n",
      "Just finished Attr25 with skew -4.260292254045261\n",
      "Just finished Attr26 with skew 0.8466641206016102\n",
      "Just finished Attr27 with skew 2.279488291908611\n",
      "Just finished Attr28 with skew 1.4648965773371425\n",
      "Just finished Attr29 with skew -0.644197959057902\n",
      "Just finished Attr30 with skew 1.9322710608818425\n",
      "Just finished Attr31 with skew -2.5090578064630944\n",
      "Just finished Attr32 with skew 0.7646467817250879\n",
      "Just finished Attr33 with skew 0.8327492264858964\n",
      "Just finished Attr34 with skew 0.4994347122441121\n",
      "Just finished Attr35 with skew -4.193222451604263\n",
      "Just finished Attr36 with skew 0.6534550935061747\n",
      "Just finished Attr38 with skew -5.07849832550603\n",
      "Just finished Attr39 with skew -6.601918435592773\n",
      "Just finished Attr40 with skew 3.0707743603728224\n",
      "Just finished Attr41 with skew 4.512762714759437\n",
      "Just finished Attr42 with skew -5.2811770752748\n",
      "Just finished Attr43 with skew -0.042235914741110096\n",
      "Just finished Attr44 with skew -0.46230273700482605\n",
      "Just finished Attr45 with skew 2.0685620541840666\n",
      "Just finished Attr46 with skew 2.191561238101224\n",
      "Just finished Attr47 with skew -0.21073685834535155\n",
      "Just finished Attr48 with skew -5.182721757316001\n",
      "Just finished Attr49 with skew -8.253551983563158\n",
      "Just finished Attr50 with skew 2.0279090280181293\n",
      "Just finished Attr51 with skew 1.9940418640499968\n",
      "Just finished Attr52 with skew 11.276343824049654\n",
      "Just finished Attr53 with skew 2.108394477430697\n",
      "Just finished Attr54 with skew 2.4361598735158236\n",
      "Just finished Attr55 with skew -0.5947870087511925\n",
      "Just finished Attr56 with skew -4.591582580700323\n",
      "Just finished Attr57 with skew -0.007109935694628996\n",
      "Just finished Attr58 with skew 20.668217319059227\n",
      "Just finished Attr59 with skew 4.577866576454714\n",
      "Just finished Attr60 with skew 2.003138783162795\n",
      "Just finished Attr61 with skew 1.526383716833379\n",
      "Just finished Attr62 with skew 0.21145533050163898\n",
      "Just finished Attr63 with skew 0.8187274564109969\n",
      "Just finished Attr64 with skew 1.6828628368126244\n"
     ]
    },
    {
     "ename": "AttributeError",
     "evalue": "'bytes' object has no attribute 'log1p'",
     "output_type": "error",
     "traceback": [
      "\u001b[1;31m---------------------------------------------------------------------------\u001b[0m",
      "\u001b[1;31mAttributeError\u001b[0m                            Traceback (most recent call last)",
      "\u001b[1;32m<ipython-input-52-ce42b2f817e1>\u001b[0m in \u001b[0;36m<module>\u001b[1;34m\u001b[0m\n\u001b[0;32m      1\u001b[0m \u001b[1;32mfor\u001b[0m \u001b[0mi\u001b[0m \u001b[1;32min\u001b[0m \u001b[0mdfy1\u001b[0m\u001b[1;33m.\u001b[0m\u001b[0mskew\u001b[0m\u001b[1;33m(\u001b[0m\u001b[1;33m)\u001b[0m\u001b[1;33m.\u001b[0m\u001b[0mkeys\u001b[0m\u001b[1;33m(\u001b[0m\u001b[1;33m)\u001b[0m\u001b[1;33m:\u001b[0m\u001b[1;33m\u001b[0m\u001b[0m\n\u001b[1;32m----> 2\u001b[1;33m         \u001b[0mdfy1\u001b[0m\u001b[1;33m[\u001b[0m\u001b[0mi\u001b[0m\u001b[1;33m]\u001b[0m \u001b[1;33m=\u001b[0m \u001b[0mnp\u001b[0m\u001b[1;33m.\u001b[0m\u001b[0mlog1p\u001b[0m\u001b[1;33m(\u001b[0m\u001b[0mdfy1\u001b[0m\u001b[1;33m[\u001b[0m\u001b[0mi\u001b[0m\u001b[1;33m]\u001b[0m\u001b[1;33m)\u001b[0m\u001b[1;33m\u001b[0m\u001b[0m\n\u001b[0m\u001b[0;32m      3\u001b[0m         \u001b[0mprint\u001b[0m\u001b[1;33m(\u001b[0m\u001b[1;34m\"Just finished {} with skew {}\"\u001b[0m\u001b[1;33m.\u001b[0m\u001b[0mformat\u001b[0m\u001b[1;33m(\u001b[0m\u001b[0mstr\u001b[0m\u001b[1;33m(\u001b[0m\u001b[0mi\u001b[0m\u001b[1;33m)\u001b[0m\u001b[1;33m,\u001b[0m \u001b[0mstr\u001b[0m\u001b[1;33m(\u001b[0m\u001b[0mdfy1\u001b[0m\u001b[1;33m.\u001b[0m\u001b[0mskew\u001b[0m\u001b[1;33m(\u001b[0m\u001b[1;33m)\u001b[0m\u001b[1;33m[\u001b[0m\u001b[0mi\u001b[0m\u001b[1;33m]\u001b[0m\u001b[1;33m)\u001b[0m\u001b[1;33m)\u001b[0m\u001b[1;33m)\u001b[0m\u001b[1;33m\u001b[0m\u001b[0m\n",
      "\u001b[1;31mAttributeError\u001b[0m: 'bytes' object has no attribute 'log1p'"
     ]
    }
   ],
   "source": [
    "for i in dfy1.skew().keys():        \n",
    "        dfy1[i] = np.log1p(dfy1[i])\n",
    "        print(\"Just finished {} with skew {}\".format(str(i), str(dfy1.skew()[i])))"
   ]
  },
  {
   "cell_type": "code",
   "execution_count": 32,
   "metadata": {},
   "outputs": [
    {
     "data": {
      "text/plain": [
       "<matplotlib.axes._subplots.AxesSubplot at 0x27aea1c7400>"
      ]
     },
     "execution_count": 32,
     "metadata": {},
     "output_type": "execute_result"
    },
    {
     "data": {
      "image/png": "[encoded data removed]",
      "text/plain": [
       "<Figure size 1728x720 with 2 Axes>"
      ]
     },
     "metadata": {
      "needs_background": "light"
     },
     "output_type": "display_data"
    }
   ],
   "source": [
    "msno.bar(dfy1) #"
   ]
  },
  {
   "cell_type": "code",
   "execution_count": 55,
   "metadata": {},
   "outputs": [
    {
     "data": {
      "text/plain": [
       "<matplotlib.axes._subplots.AxesSubplot at 0x25b35803ac8>"
      ]
     },
     "execution_count": 55,
     "metadata": {},
     "output_type": "execute_result"
    },
    {
     "data": {
      "image/png": "[encoded data removed]",
      "text/plain": [
       "<Figure size 432x288 with 1 Axes>"
      ]
     },
     "metadata": {},
     "output_type": "display_data"
    }
   ],
   "source": [
    "import seaborn as sns\n",
    "plt.xlim([-1,1])\n",
    "sns.set(style=\"whitegrid\")\n",
    "sns.boxplot(x=dfy1['Attr13'],palette=\"Set2\")\n",
    "#sns.swarmplot(x=df_new['Attr13'], color=\".25\")"
   ]
  },
  {
   "cell_type": "code",
   "execution_count": 58,
   "metadata": {},
   "outputs": [
    {
     "data": {
      "text/plain": [
       "(8575, 24)"
      ]
     },
     "execution_count": 58,
     "metadata": {},
     "output_type": "execute_result"
    }
   ],
   "source": [
    "X_new.shape"
   ]
  },
  {
   "cell_type": "code",
   "execution_count": 63,
   "metadata": {},
   "outputs": [
    {
     "data": {
      "text/plain": [
       "b'0'    8244\n",
       "b'1'     331\n",
       "Name: class, dtype: int64"
      ]
     },
     "execution_count": 63,
     "metadata": {},
     "output_type": "execute_result"
    }
   ],
   "source": [
    "X_new['class'].value_counts()"
   ]
  },
  {
   "cell_type": "code",
   "execution_count": 57,
   "metadata": {},
   "outputs": [
    {
     "data": {
      "text/html": [
       "<div>\n",
       "<style scoped>\n",
       "    .dataframe tbody tr th:only-of-type {\n",
       "        vertical-align: middle;\n",
       "    }\n",
       "\n",
       "    .dataframe tbody tr th {\n",
       "        vertical-align: top;\n",
       "    }\n",
       "\n",
       "    .dataframe thead th {\n",
       "        text-align: right;\n",
       "    }\n",
       "</style>\n",
       "<table border=\"1\" class=\"dataframe\">\n",
       "  <thead>\n",
       "    <tr style=\"text-align: right;\">\n",
       "      <th></th>\n",
       "      <th>Attr2</th>\n",
       "      <th>Attr6</th>\n",
       "      <th>Attr7</th>\n",
       "      <th>Attr8</th>\n",
       "      <th>Attr10</th>\n",
       "      <th>Attr13</th>\n",
       "      <th>Attr21</th>\n",
       "      <th>Attr25</th>\n",
       "      <th>Attr26</th>\n",
       "      <th>Attr28</th>\n",
       "      <th>...</th>\n",
       "      <th>Attr41</th>\n",
       "      <th>Attr42</th>\n",
       "      <th>Attr45</th>\n",
       "      <th>Attr48</th>\n",
       "      <th>Attr49</th>\n",
       "      <th>Attr56</th>\n",
       "      <th>Attr60</th>\n",
       "      <th>Attr62</th>\n",
       "      <th>Attr63</th>\n",
       "      <th>class</th>\n",
       "    </tr>\n",
       "  </thead>\n",
       "  <tbody>\n",
       "    <tr>\n",
       "      <th>10498</th>\n",
       "      <td>0.457849</td>\n",
       "      <td>0.002857</td>\n",
       "      <td>0.002857</td>\n",
       "      <td>0.481531</td>\n",
       "      <td>0.306874</td>\n",
       "      <td>0.018211</td>\n",
       "      <td>0.685055</td>\n",
       "      <td>0.306874</td>\n",
       "      <td>0.119355</td>\n",
       "      <td>-0.348508</td>\n",
       "      <td>...</td>\n",
       "      <td>0.178498</td>\n",
       "      <td>0.006704</td>\n",
       "      <td>0.026881</td>\n",
       "      <td>-0.044793</td>\n",
       "      <td>-0.010997</td>\n",
       "      <td>0.011765</td>\n",
       "      <td>3.667196</td>\n",
       "      <td>3.765887</td>\n",
       "      <td>2.266844</td>\n",
       "      <td>b'1'</td>\n",
       "    </tr>\n",
       "    <tr>\n",
       "      <th>10499</th>\n",
       "      <td>0.439892</td>\n",
       "      <td>-0.053367</td>\n",
       "      <td>-0.034965</td>\n",
       "      <td>0.512722</td>\n",
       "      <td>0.314891</td>\n",
       "      <td>0.020712</td>\n",
       "      <td>0.546571</td>\n",
       "      <td>0.314891</td>\n",
       "      <td>0.020998</td>\n",
       "      <td>0.184311</td>\n",
       "      <td>...</td>\n",
       "      <td>0.643778</td>\n",
       "      <td>-0.031597</td>\n",
       "      <td>-0.770871</td>\n",
       "      <td>-0.113482</td>\n",
       "      <td>-0.079638</td>\n",
       "      <td>-0.057668</td>\n",
       "      <td>2.740388</td>\n",
       "      <td>3.519306</td>\n",
       "      <td>2.496588</td>\n",
       "      <td>b'1'</td>\n",
       "    </tr>\n",
       "    <tr>\n",
       "      <th>10500</th>\n",
       "      <td>0.609516</td>\n",
       "      <td>-0.247334</td>\n",
       "      <td>-0.141402</td>\n",
       "      <td>0.174902</td>\n",
       "      <td>0.148816</td>\n",
       "      <td>-0.127697</td>\n",
       "      <td>0.670408</td>\n",
       "      <td>-0.322729</td>\n",
       "      <td>-0.176582</td>\n",
       "      <td>-0.667265</td>\n",
       "      <td>...</td>\n",
       "      <td>-0.338891</td>\n",
       "      <td>-0.092677</td>\n",
       "      <td>-1.492188</td>\n",
       "      <td>-0.102429</td>\n",
       "      <td>-0.092677</td>\n",
       "      <td>0.134636</td>\n",
       "      <td>1.984265</td>\n",
       "      <td>5.362371</td>\n",
       "      <td>1.000558</td>\n",
       "      <td>b'1'</td>\n",
       "    </tr>\n",
       "    <tr>\n",
       "      <th>10501</th>\n",
       "      <td>0.405652</td>\n",
       "      <td>0.009378</td>\n",
       "      <td>0.007671</td>\n",
       "      <td>0.688084</td>\n",
       "      <td>0.402280</td>\n",
       "      <td>0.014366</td>\n",
       "      <td>0.560221</td>\n",
       "      <td>0.402280</td>\n",
       "      <td>0.055630</td>\n",
       "      <td>0.741413</td>\n",
       "      <td>...</td>\n",
       "      <td>0.326710</td>\n",
       "      <td>0.012495</td>\n",
       "      <td>0.029802</td>\n",
       "      <td>0.004165</td>\n",
       "      <td>0.002243</td>\n",
       "      <td>0.012112</td>\n",
       "      <td>1.941256</td>\n",
       "      <td>4.597541</td>\n",
       "      <td>1.550834</td>\n",
       "      <td>b'1'</td>\n",
       "    </tr>\n",
       "    <tr>\n",
       "      <th>10502</th>\n",
       "      <td>0.666701</td>\n",
       "      <td>0.000000</td>\n",
       "      <td>0.002562</td>\n",
       "      <td>0.053656</td>\n",
       "      <td>0.050926</td>\n",
       "      <td>0.011234</td>\n",
       "      <td>0.811552</td>\n",
       "      <td>0.014848</td>\n",
       "      <td>0.020558</td>\n",
       "      <td>0.021207</td>\n",
       "      <td>...</td>\n",
       "      <td>0.361332</td>\n",
       "      <td>0.023755</td>\n",
       "      <td>-0.006321</td>\n",
       "      <td>0.029233</td>\n",
       "      <td>0.013852</td>\n",
       "      <td>0.023220</td>\n",
       "      <td>2.146072</td>\n",
       "      <td>4.956953</td>\n",
       "      <td>1.276954</td>\n",
       "      <td>b'1'</td>\n",
       "    </tr>\n",
       "  </tbody>\n",
       "</table>\n",
       "<p>5 rows × 24 columns</p>\n",
       "</div>"
      ],
      "text/plain": [
       "          Attr2     Attr6     Attr7     Attr8    Attr10    Attr13    Attr21  \\\n",
       "10498  0.457849  0.002857  0.002857  0.481531  0.306874  0.018211  0.685055   \n",
       "10499  0.439892 -0.053367 -0.034965  0.512722  0.314891  0.020712  0.546571   \n",
       "10500  0.609516 -0.247334 -0.141402  0.174902  0.148816 -0.127697  0.670408   \n",
       "10501  0.405652  0.009378  0.007671  0.688084  0.402280  0.014366  0.560221   \n",
       "10502  0.666701  0.000000  0.002562  0.053656  0.050926  0.011234  0.811552   \n",
       "\n",
       "         Attr25    Attr26    Attr28  ...      Attr41    Attr42    Attr45  \\\n",
       "10498  0.306874  0.119355 -0.348508  ...    0.178498  0.006704  0.026881   \n",
       "10499  0.314891  0.020998  0.184311  ...    0.643778 -0.031597 -0.770871   \n",
       "10500 -0.322729 -0.176582 -0.667265  ...   -0.338891 -0.092677 -1.492188   \n",
       "10501  0.402280  0.055630  0.741413  ...    0.326710  0.012495  0.029802   \n",
       "10502  0.014848  0.020558  0.021207  ...    0.361332  0.023755 -0.006321   \n",
       "\n",
       "         Attr48    Attr49    Attr56    Attr60    Attr62    Attr63  class  \n",
       "10498 -0.044793 -0.010997  0.011765  3.667196  3.765887  2.266844   b'1'  \n",
       "10499 -0.113482 -0.079638 -0.057668  2.740388  3.519306  2.496588   b'1'  \n",
       "10500 -0.102429 -0.092677  0.134636  1.984265  5.362371  1.000558   b'1'  \n",
       "10501  0.004165  0.002243  0.012112  1.941256  4.597541  1.550834   b'1'  \n",
       "10502  0.029233  0.013852  0.023220  2.146072  4.956953  1.276954   b'1'  \n",
       "\n",
       "[5 rows x 24 columns]"
      ]
     },
     "execution_count": 57,
     "metadata": {},
     "output_type": "execute_result"
    }
   ],
   "source": [
    "X_new.tail()"
   ]
  },
  {
   "cell_type": "code",
   "execution_count": 67,
   "metadata": {},
   "outputs": [],
   "source": [
    "\n",
    "X_new.to_csv('X_new.csv')\n"
   ]
  },
  {
   "cell_type": "code",
   "execution_count": 64,
   "metadata": {},
   "outputs": [],
   "source": [
    "df_0 =X_new.iloc[:8245,63:]\n",
    "df_0['new_class'] = '0'"
   ]
  },
  {
   "cell_type": "code",
   "execution_count": 68,
   "metadata": {},
   "outputs": [],
   "source": [
    "df_1 = X_new.iloc[8245:,63:]\n",
    "df_1['new_class'] = '1'"
   ]
  },
  {
   "cell_type": "code",
   "execution_count": 69,
   "metadata": {},
   "outputs": [
    {
     "data": {
      "text/html": [
       "<div>\n",
       "<style scoped>\n",
       "    .dataframe tbody tr th:only-of-type {\n",
       "        vertical-align: middle;\n",
       "    }\n",
       "\n",
       "    .dataframe tbody tr th {\n",
       "        vertical-align: top;\n",
       "    }\n",
       "\n",
       "    .dataframe thead th {\n",
       "        text-align: right;\n",
       "    }\n",
       "</style>\n",
       "<table border=\"1\" class=\"dataframe\">\n",
       "  <thead>\n",
       "    <tr style=\"text-align: right;\">\n",
       "      <th></th>\n",
       "      <th>new_class</th>\n",
       "    </tr>\n",
       "  </thead>\n",
       "  <tbody>\n",
       "    <tr>\n",
       "      <th>10010</th>\n",
       "      <td>1</td>\n",
       "    </tr>\n",
       "    <tr>\n",
       "      <th>10012</th>\n",
       "      <td>1</td>\n",
       "    </tr>\n",
       "    <tr>\n",
       "      <th>10014</th>\n",
       "      <td>1</td>\n",
       "    </tr>\n",
       "    <tr>\n",
       "      <th>10015</th>\n",
       "      <td>1</td>\n",
       "    </tr>\n",
       "    <tr>\n",
       "      <th>10016</th>\n",
       "      <td>1</td>\n",
       "    </tr>\n",
       "    <tr>\n",
       "      <th>10017</th>\n",
       "      <td>1</td>\n",
       "    </tr>\n",
       "    <tr>\n",
       "      <th>10018</th>\n",
       "      <td>1</td>\n",
       "    </tr>\n",
       "    <tr>\n",
       "      <th>10020</th>\n",
       "      <td>1</td>\n",
       "    </tr>\n",
       "    <tr>\n",
       "      <th>10022</th>\n",
       "      <td>1</td>\n",
       "    </tr>\n",
       "    <tr>\n",
       "      <th>10025</th>\n",
       "      <td>1</td>\n",
       "    </tr>\n",
       "    <tr>\n",
       "      <th>10026</th>\n",
       "      <td>1</td>\n",
       "    </tr>\n",
       "    <tr>\n",
       "      <th>10027</th>\n",
       "      <td>1</td>\n",
       "    </tr>\n",
       "    <tr>\n",
       "      <th>10028</th>\n",
       "      <td>1</td>\n",
       "    </tr>\n",
       "    <tr>\n",
       "      <th>10029</th>\n",
       "      <td>1</td>\n",
       "    </tr>\n",
       "    <tr>\n",
       "      <th>10032</th>\n",
       "      <td>1</td>\n",
       "    </tr>\n",
       "    <tr>\n",
       "      <th>10033</th>\n",
       "      <td>1</td>\n",
       "    </tr>\n",
       "    <tr>\n",
       "      <th>10034</th>\n",
       "      <td>1</td>\n",
       "    </tr>\n",
       "    <tr>\n",
       "      <th>10035</th>\n",
       "      <td>1</td>\n",
       "    </tr>\n",
       "    <tr>\n",
       "      <th>10036</th>\n",
       "      <td>1</td>\n",
       "    </tr>\n",
       "    <tr>\n",
       "      <th>10040</th>\n",
       "      <td>1</td>\n",
       "    </tr>\n",
       "    <tr>\n",
       "      <th>10041</th>\n",
       "      <td>1</td>\n",
       "    </tr>\n",
       "    <tr>\n",
       "      <th>10043</th>\n",
       "      <td>1</td>\n",
       "    </tr>\n",
       "    <tr>\n",
       "      <th>10044</th>\n",
       "      <td>1</td>\n",
       "    </tr>\n",
       "    <tr>\n",
       "      <th>10045</th>\n",
       "      <td>1</td>\n",
       "    </tr>\n",
       "    <tr>\n",
       "      <th>10046</th>\n",
       "      <td>1</td>\n",
       "    </tr>\n",
       "    <tr>\n",
       "      <th>10049</th>\n",
       "      <td>1</td>\n",
       "    </tr>\n",
       "    <tr>\n",
       "      <th>10050</th>\n",
       "      <td>1</td>\n",
       "    </tr>\n",
       "    <tr>\n",
       "      <th>10051</th>\n",
       "      <td>1</td>\n",
       "    </tr>\n",
       "    <tr>\n",
       "      <th>10052</th>\n",
       "      <td>1</td>\n",
       "    </tr>\n",
       "    <tr>\n",
       "      <th>10054</th>\n",
       "      <td>1</td>\n",
       "    </tr>\n",
       "    <tr>\n",
       "      <th>...</th>\n",
       "      <td>...</td>\n",
       "    </tr>\n",
       "    <tr>\n",
       "      <th>10458</th>\n",
       "      <td>1</td>\n",
       "    </tr>\n",
       "    <tr>\n",
       "      <th>10459</th>\n",
       "      <td>1</td>\n",
       "    </tr>\n",
       "    <tr>\n",
       "      <th>10460</th>\n",
       "      <td>1</td>\n",
       "    </tr>\n",
       "    <tr>\n",
       "      <th>10462</th>\n",
       "      <td>1</td>\n",
       "    </tr>\n",
       "    <tr>\n",
       "      <th>10463</th>\n",
       "      <td>1</td>\n",
       "    </tr>\n",
       "    <tr>\n",
       "      <th>10465</th>\n",
       "      <td>1</td>\n",
       "    </tr>\n",
       "    <tr>\n",
       "      <th>10467</th>\n",
       "      <td>1</td>\n",
       "    </tr>\n",
       "    <tr>\n",
       "      <th>10468</th>\n",
       "      <td>1</td>\n",
       "    </tr>\n",
       "    <tr>\n",
       "      <th>10471</th>\n",
       "      <td>1</td>\n",
       "    </tr>\n",
       "    <tr>\n",
       "      <th>10473</th>\n",
       "      <td>1</td>\n",
       "    </tr>\n",
       "    <tr>\n",
       "      <th>10476</th>\n",
       "      <td>1</td>\n",
       "    </tr>\n",
       "    <tr>\n",
       "      <th>10477</th>\n",
       "      <td>1</td>\n",
       "    </tr>\n",
       "    <tr>\n",
       "      <th>10478</th>\n",
       "      <td>1</td>\n",
       "    </tr>\n",
       "    <tr>\n",
       "      <th>10481</th>\n",
       "      <td>1</td>\n",
       "    </tr>\n",
       "    <tr>\n",
       "      <th>10482</th>\n",
       "      <td>1</td>\n",
       "    </tr>\n",
       "    <tr>\n",
       "      <th>10483</th>\n",
       "      <td>1</td>\n",
       "    </tr>\n",
       "    <tr>\n",
       "      <th>10484</th>\n",
       "      <td>1</td>\n",
       "    </tr>\n",
       "    <tr>\n",
       "      <th>10486</th>\n",
       "      <td>1</td>\n",
       "    </tr>\n",
       "    <tr>\n",
       "      <th>10488</th>\n",
       "      <td>1</td>\n",
       "    </tr>\n",
       "    <tr>\n",
       "      <th>10491</th>\n",
       "      <td>1</td>\n",
       "    </tr>\n",
       "    <tr>\n",
       "      <th>10493</th>\n",
       "      <td>1</td>\n",
       "    </tr>\n",
       "    <tr>\n",
       "      <th>10494</th>\n",
       "      <td>1</td>\n",
       "    </tr>\n",
       "    <tr>\n",
       "      <th>10495</th>\n",
       "      <td>1</td>\n",
       "    </tr>\n",
       "    <tr>\n",
       "      <th>10496</th>\n",
       "      <td>1</td>\n",
       "    </tr>\n",
       "    <tr>\n",
       "      <th>10497</th>\n",
       "      <td>1</td>\n",
       "    </tr>\n",
       "    <tr>\n",
       "      <th>10498</th>\n",
       "      <td>1</td>\n",
       "    </tr>\n",
       "    <tr>\n",
       "      <th>10499</th>\n",
       "      <td>1</td>\n",
       "    </tr>\n",
       "    <tr>\n",
       "      <th>10500</th>\n",
       "      <td>1</td>\n",
       "    </tr>\n",
       "    <tr>\n",
       "      <th>10501</th>\n",
       "      <td>1</td>\n",
       "    </tr>\n",
       "    <tr>\n",
       "      <th>10502</th>\n",
       "      <td>1</td>\n",
       "    </tr>\n",
       "  </tbody>\n",
       "</table>\n",
       "<p>330 rows × 1 columns</p>\n",
       "</div>"
      ],
      "text/plain": [
       "      new_class\n",
       "10010         1\n",
       "10012         1\n",
       "10014         1\n",
       "10015         1\n",
       "10016         1\n",
       "10017         1\n",
       "10018         1\n",
       "10020         1\n",
       "10022         1\n",
       "10025         1\n",
       "10026         1\n",
       "10027         1\n",
       "10028         1\n",
       "10029         1\n",
       "10032         1\n",
       "10033         1\n",
       "10034         1\n",
       "10035         1\n",
       "10036         1\n",
       "10040         1\n",
       "10041         1\n",
       "10043         1\n",
       "10044         1\n",
       "10045         1\n",
       "10046         1\n",
       "10049         1\n",
       "10050         1\n",
       "10051         1\n",
       "10052         1\n",
       "10054         1\n",
       "...         ...\n",
       "10458         1\n",
       "10459         1\n",
       "10460         1\n",
       "10462         1\n",
       "10463         1\n",
       "10465         1\n",
       "10467         1\n",
       "10468         1\n",
       "10471         1\n",
       "10473         1\n",
       "10476         1\n",
       "10477         1\n",
       "10478         1\n",
       "10481         1\n",
       "10482         1\n",
       "10483         1\n",
       "10484         1\n",
       "10486         1\n",
       "10488         1\n",
       "10491         1\n",
       "10493         1\n",
       "10494         1\n",
       "10495         1\n",
       "10496         1\n",
       "10497         1\n",
       "10498         1\n",
       "10499         1\n",
       "10500         1\n",
       "10501         1\n",
       "10502         1\n",
       "\n",
       "[330 rows x 1 columns]"
      ]
     },
     "execution_count": 69,
     "metadata": {},
     "output_type": "execute_result"
    }
   ],
   "source": [
    "df_1"
   ]
  },
  {
   "cell_type": "code",
   "execution_count": 74,
   "metadata": {},
   "outputs": [],
   "source": [
    "y = df_0.append([df_1])"
   ]
  },
  {
   "cell_type": "code",
   "execution_count": 75,
   "metadata": {},
   "outputs": [
    {
     "data": {
      "text/plain": [
       "(8575, 1)"
      ]
     },
     "execution_count": 75,
     "metadata": {},
     "output_type": "execute_result"
    }
   ],
   "source": [
    "y.shape"
   ]
  },
  {
   "cell_type": "code",
   "execution_count": 76,
   "metadata": {},
   "outputs": [
    {
     "data": {
      "text/plain": [
       "(8245, 1)"
      ]
     },
     "execution_count": 76,
     "metadata": {},
     "output_type": "execute_result"
    }
   ],
   "source": [
    "df_0.shape"
   ]
  },
  {
   "cell_type": "code",
   "execution_count": 77,
   "metadata": {},
   "outputs": [
    {
     "data": {
      "text/html": [
       "<div>\n",
       "<style scoped>\n",
       "    .dataframe tbody tr th:only-of-type {\n",
       "        vertical-align: middle;\n",
       "    }\n",
       "\n",
       "    .dataframe tbody tr th {\n",
       "        vertical-align: top;\n",
       "    }\n",
       "\n",
       "    .dataframe thead th {\n",
       "        text-align: right;\n",
       "    }\n",
       "</style>\n",
       "<table border=\"1\" class=\"dataframe\">\n",
       "  <thead>\n",
       "    <tr style=\"text-align: right;\">\n",
       "      <th></th>\n",
       "      <th>new_class</th>\n",
       "    </tr>\n",
       "  </thead>\n",
       "  <tbody>\n",
       "    <tr>\n",
       "      <th>10498</th>\n",
       "      <td>1</td>\n",
       "    </tr>\n",
       "    <tr>\n",
       "      <th>10499</th>\n",
       "      <td>1</td>\n",
       "    </tr>\n",
       "    <tr>\n",
       "      <th>10500</th>\n",
       "      <td>1</td>\n",
       "    </tr>\n",
       "    <tr>\n",
       "      <th>10501</th>\n",
       "      <td>1</td>\n",
       "    </tr>\n",
       "    <tr>\n",
       "      <th>10502</th>\n",
       "      <td>1</td>\n",
       "    </tr>\n",
       "  </tbody>\n",
       "</table>\n",
       "</div>"
      ],
      "text/plain": [
       "      new_class\n",
       "10498         1\n",
       "10499         1\n",
       "10500         1\n",
       "10501         1\n",
       "10502         1"
      ]
     },
     "execution_count": 77,
     "metadata": {},
     "output_type": "execute_result"
    }
   ],
   "source": [
    "y.tail()"
   ]
  },
  {
   "cell_type": "code",
   "execution_count": 78,
   "metadata": {},
   "outputs": [],
   "source": [
    "X_new = X_new.iloc[:,0:23]"
   ]
  },
  {
   "cell_type": "code",
   "execution_count": 53,
   "metadata": {},
   "outputs": [],
   "source": [
    "X_new = dfy1.iloc[:,np.r_[1,5:8,9,12,20,24,25,27:30,36,32,39,40,43,46,47,54,58,60,61,63]]\n"
   ]
  },
  {
   "cell_type": "code",
   "execution_count": 79,
   "metadata": {},
   "outputs": [
    {
     "data": {
      "text/plain": [
       "(8575, 23)"
      ]
     },
     "execution_count": 79,
     "metadata": {},
     "output_type": "execute_result"
    }
   ],
   "source": [
    "X_new.shape"
   ]
  },
  {
   "cell_type": "code",
   "execution_count": 55,
   "metadata": {},
   "outputs": [],
   "source": [
    "X_new = X_new.dropna(axis =0)"
   ]
  },
  {
   "cell_type": "code",
   "execution_count": 56,
   "metadata": {},
   "outputs": [
    {
     "data": {
      "text/plain": [
       "(8575, 24)"
      ]
     },
     "execution_count": 56,
     "metadata": {},
     "output_type": "execute_result"
    }
   ],
   "source": [
    "X_new.shape"
   ]
  },
  {
   "cell_type": "code",
   "execution_count": 80,
   "metadata": {},
   "outputs": [
    {
     "name": "stdout",
     "output_type": "stream",
     "text": [
      "Original dataset shape Counter({'new_class': 1})\n"
     ]
    }
   ],
   "source": [
    "from collections import Counter\n",
    "from sklearn.datasets import make_classification\n",
    "from imblearn.over_sampling import SMOTE\n",
    "print('Original dataset shape %s' % Counter(y))"
   ]
  },
  {
   "cell_type": "code",
   "execution_count": 81,
   "metadata": {},
   "outputs": [
    {
     "name": "stdout",
     "output_type": "stream",
     "text": [
      "Resampled dataset shape Counter({'0': 8245, '1': 8245})\n"
     ]
    }
   ],
   "source": [
    "smote = SMOTE(sampling_strategy='minority', n_jobs=1)\n",
    "X_res_new, y_res_new = smote.fit_resample(X_new, y)\n",
    "print('Resampled dataset shape %s' % Counter(y_res_new))"
   ]
  },
  {
   "cell_type": "code",
   "execution_count": 82,
   "metadata": {},
   "outputs": [],
   "source": [
    "scaler = StandardScaler()\n",
    "X_res_new = scaler.fit_transform(X_res_new)\n",
    "#y = scaler.fit_transform(y)\n",
    "\n",
    "import numpy as np\n",
    "from sklearn.model_selection import train_test_split\n",
    "\n",
    "X_train_new, X_test_new, y_train_new, y_test_new = train_test_split(X_res_new, y_res_new, test_size=0.30, random_state=42)"
   ]
  },
  {
   "cell_type": "code",
   "execution_count": 244,
   "metadata": {},
   "outputs": [],
   "source": [
    "\n",
    "from keras import Sequential\n",
    "from keras.layers import Dense\n",
    "from keras.layers import Dense, Dropout\n",
    "\n",
    "\n",
    "classifier = Sequential()\n",
    "#First Hidden Layer\n",
    "classifier.add(Dense(56, activation='relu', kernel_initializer='random_normal', input_dim=28))\n",
    "classifier.add(Dropout(rate=0.2))\n",
    "#Second  Hidden Layer\n",
    "classifier.add(Dense(56, activation='relu', kernel_initializer='random_normal'))\n",
    "classifier.add(Dropout(rate=0.2))\n",
    "#third hidden layer\n",
    "classifier.add(Dense(56, activation='relu', kernel_initializer='random_normal'))\n",
    "#Output Layer\n",
    "classifier.add(Dense(1, activation='sigmoid', kernel_initializer='random_normal'))\n",
    "\n",
    "\n",
    "\n"
   ]
  },
  {
   "cell_type": "code",
   "execution_count": 245,
   "metadata": {},
   "outputs": [],
   "source": [
    "#Compiling the neural network\n",
    "classifier.compile(optimizer ='adam',loss='binary_crossentropy', metrics =['accuracy'])"
   ]
  },
  {
   "cell_type": "code",
   "execution_count": 247,
   "metadata": {},
   "outputs": [],
   "source": [
    "y_pred_new = classifier.predict(X_test_new)\n",
    "\n",
    "\n",
    "y__test_new = y_test_new.astype(int)\n",
    "\n",
    "\n",
    "y__pred_new = (y_pred_new>0.6)\n",
    "ypred_new = y__pred_new.astype(int)"
   ]
  },
  {
   "cell_type": "code",
   "execution_count": 246,
   "metadata": {},
   "outputs": [
    {
     "name": "stdout",
     "output_type": "stream",
     "text": [
      "Train on 14022 samples, validate on 4674 samples\n",
      "Epoch 1/50\n",
      "14022/14022 [==============================] - 8s 589us/step - loss: 0.5378 - acc: 0.7115 - val_loss: 0.8593 - val_acc: 0.5128\n",
      "Epoch 2/50\n",
      "14022/14022 [==============================] - 7s 530us/step - loss: 0.4902 - acc: 0.7510 - val_loss: 0.7016 - val_acc: 0.7018\n",
      "Epoch 3/50\n",
      "14022/14022 [==============================] - 6s 425us/step - loss: 0.4727 - acc: 0.7597 - val_loss: 0.7304 - val_acc: 0.6307\n",
      "Epoch 4/50\n",
      "14022/14022 [==============================] - 6s 438us/step - loss: 0.4559 - acc: 0.7718 - val_loss: 0.6240 - val_acc: 0.6878\n",
      "Epoch 5/50\n",
      "14022/14022 [==============================] - 6s 446us/step - loss: 0.4415 - acc: 0.7768 - val_loss: 0.6743 - val_acc: 0.6949\n",
      "Epoch 6/50\n",
      "14022/14022 [==============================] - 6s 449us/step - loss: 0.4268 - acc: 0.7938 - val_loss: 0.6577 - val_acc: 0.6898\n",
      "Epoch 7/50\n",
      "14022/14022 [==============================] - 6s 453us/step - loss: 0.4175 - acc: 0.7914 - val_loss: 0.5884 - val_acc: 0.7516\n",
      "Epoch 8/50\n",
      "14022/14022 [==============================] - 6s 426us/step - loss: 0.4053 - acc: 0.8043 - val_loss: 0.6243 - val_acc: 0.7217\n",
      "Epoch 9/50\n",
      "14022/14022 [==============================] - 6s 447us/step - loss: 0.4023 - acc: 0.8073 - val_loss: 0.7188 - val_acc: 0.6104\n",
      "Epoch 10/50\n",
      "14022/14022 [==============================] - 6s 455us/step - loss: 0.3949 - acc: 0.8087 - val_loss: 0.5963 - val_acc: 0.7349\n",
      "Epoch 11/50\n",
      "14022/14022 [==============================] - 6s 420us/step - loss: 0.3860 - acc: 0.8134 - val_loss: 0.4949 - val_acc: 0.7852\n",
      "Epoch 12/50\n",
      "14022/14022 [==============================] - 7s 471us/step - loss: 0.3846 - acc: 0.8166 - val_loss: 0.5647 - val_acc: 0.7398\n",
      "Epoch 13/50\n",
      "14022/14022 [==============================] - 7s 464us/step - loss: 0.3732 - acc: 0.8205 - val_loss: 0.5662 - val_acc: 0.7368\n",
      "Epoch 14/50\n",
      "14022/14022 [==============================] - 7s 467us/step - loss: 0.3715 - acc: 0.8236 - val_loss: 0.5032 - val_acc: 0.7908\n",
      "Epoch 15/50\n",
      "14022/14022 [==============================] - 6s 449us/step - loss: 0.3647 - acc: 0.8270 - val_loss: 0.5346 - val_acc: 0.7270\n",
      "Epoch 16/50\n",
      "14022/14022 [==============================] - 7s 468us/step - loss: 0.3606 - acc: 0.8271 - val_loss: 0.4989 - val_acc: 0.7713\n",
      "Epoch 17/50\n",
      "14022/14022 [==============================] - 6s 448us/step - loss: 0.3552 - acc: 0.8302 - val_loss: 0.4770 - val_acc: 0.8015\n",
      "Epoch 18/50\n",
      "14022/14022 [==============================] - 6s 445us/step - loss: 0.3509 - acc: 0.8350 - val_loss: 0.4183 - val_acc: 0.8361\n",
      "Epoch 19/50\n",
      "14022/14022 [==============================] - 6s 439us/step - loss: 0.3445 - acc: 0.8410 - val_loss: 0.4245 - val_acc: 0.8010\n",
      "Epoch 20/50\n",
      "14022/14022 [==============================] - 6s 455us/step - loss: 0.3443 - acc: 0.8404 - val_loss: 0.5356 - val_acc: 0.7426\n",
      "Epoch 21/50\n",
      "14022/14022 [==============================] - 6s 409us/step - loss: 0.3392 - acc: 0.8415 - val_loss: 0.3643 - val_acc: 0.8804\n",
      "Epoch 22/50\n",
      "14022/14022 [==============================] - 7s 471us/step - loss: 0.3389 - acc: 0.8445 - val_loss: 0.4794 - val_acc: 0.7965\n",
      "Epoch 23/50\n",
      "14022/14022 [==============================] - 5s 389us/step - loss: 0.3345 - acc: 0.8436 - val_loss: 0.4661 - val_acc: 0.7931\n",
      "Epoch 24/50\n",
      "14022/14022 [==============================] - 6s 416us/step - loss: 0.3246 - acc: 0.8509 - val_loss: 0.3664 - val_acc: 0.8648\n",
      "Epoch 25/50\n",
      "14022/14022 [==============================] - 6s 459us/step - loss: 0.3239 - acc: 0.8497 - val_loss: 0.3716 - val_acc: 0.8569\n",
      "Epoch 26/50\n",
      "14022/14022 [==============================] - 6s 447us/step - loss: 0.3291 - acc: 0.8485 - val_loss: 0.3441 - val_acc: 0.8751\n",
      "Epoch 27/50\n",
      "14022/14022 [==============================] - 6s 453us/step - loss: 0.3209 - acc: 0.8563 - val_loss: 0.3214 - val_acc: 0.8900\n",
      "Epoch 28/50\n",
      "14022/14022 [==============================] - 6s 431us/step - loss: 0.3177 - acc: 0.8552 - val_loss: 0.3598 - val_acc: 0.8571\n",
      "Epoch 29/50\n",
      "14022/14022 [==============================] - 5s 381us/step - loss: 0.3167 - acc: 0.8524 - val_loss: 0.4138 - val_acc: 0.8340\n",
      "Epoch 30/50\n",
      "14022/14022 [==============================] - 6s 417us/step - loss: 0.3195 - acc: 0.8540 - val_loss: 0.5257 - val_acc: 0.7257\n",
      "Epoch 31/50\n",
      "14022/14022 [==============================] - 6s 425us/step - loss: 0.3177 - acc: 0.8559 - val_loss: 0.3010 - val_acc: 0.8926\n",
      "Epoch 32/50\n",
      "14022/14022 [==============================] - 5s 389us/step - loss: 0.3070 - acc: 0.8596 - val_loss: 0.3968 - val_acc: 0.8380\n",
      "Epoch 33/50\n",
      "14022/14022 [==============================] - 6s 429us/step - loss: 0.3091 - acc: 0.8580 - val_loss: 0.3466 - val_acc: 0.8701\n",
      "Epoch 34/50\n",
      "14022/14022 [==============================] - 6s 429us/step - loss: 0.3042 - acc: 0.8616 - val_loss: 0.4056 - val_acc: 0.8425\n",
      "Epoch 35/50\n",
      "14022/14022 [==============================] - 5s 392us/step - loss: 0.3077 - acc: 0.8591 - val_loss: 0.4038 - val_acc: 0.8406\n",
      "Epoch 36/50\n",
      "14022/14022 [==============================] - 5s 386us/step - loss: 0.3016 - acc: 0.8634 - val_loss: 0.3529 - val_acc: 0.8691\n",
      "Epoch 37/50\n",
      "14022/14022 [==============================] - 6s 426us/step - loss: 0.3024 - acc: 0.8616 - val_loss: 0.3459 - val_acc: 0.8744\n",
      "Epoch 38/50\n",
      "14022/14022 [==============================] - 6s 398us/step - loss: 0.2976 - acc: 0.8647 - val_loss: 0.3336 - val_acc: 0.8802\n",
      "Epoch 39/50\n",
      "14022/14022 [==============================] - 6s 422us/step - loss: 0.2979 - acc: 0.8654 - val_loss: 0.3097 - val_acc: 0.9082\n",
      "Epoch 40/50\n",
      "14022/14022 [==============================] - 5s 382us/step - loss: 0.2986 - acc: 0.8686 - val_loss: 0.3804 - val_acc: 0.8596\n",
      "Epoch 41/50\n",
      "14022/14022 [==============================] - 6s 431us/step - loss: 0.2921 - acc: 0.8711 - val_loss: 0.3719 - val_acc: 0.8562\n",
      "Epoch 42/50\n",
      "14022/14022 [==============================] - 7s 488us/step - loss: 0.2939 - acc: 0.8696 - val_loss: 0.3478 - val_acc: 0.8843\n",
      "Epoch 43/50\n",
      "14022/14022 [==============================] - 6s 463us/step - loss: 0.2945 - acc: 0.8698 - val_loss: 0.2865 - val_acc: 0.9022\n",
      "Epoch 44/50\n",
      "14022/14022 [==============================] - 9s 623us/step - loss: 0.2921 - acc: 0.8667 - val_loss: 0.3482 - val_acc: 0.8810\n",
      "Epoch 45/50\n",
      "14022/14022 [==============================] - 8s 556us/step - loss: 0.2912 - acc: 0.8688 - val_loss: 0.3205 - val_acc: 0.8864\n",
      "Epoch 46/50\n",
      "14022/14022 [==============================] - 9s 620us/step - loss: 0.2787 - acc: 0.8775 - val_loss: 0.3066 - val_acc: 0.8943\n",
      "Epoch 47/50\n",
      "14022/14022 [==============================] - 7s 519us/step - loss: 0.2829 - acc: 0.8744 - val_loss: 0.3005 - val_acc: 0.8964\n",
      "Epoch 48/50\n",
      "14022/14022 [==============================] - 9s 629us/step - loss: 0.2823 - acc: 0.8748 - val_loss: 0.2798 - val_acc: 0.9078\n",
      "Epoch 49/50\n",
      "14022/14022 [==============================] - 7s 510us/step - loss: 0.2862 - acc: 0.8739 - val_loss: 0.3095 - val_acc: 0.8930\n",
      "Epoch 50/50\n",
      "14022/14022 [==============================] - 8s 606us/step - loss: 0.2790 - acc: 0.8778 - val_loss: 0.3952 - val_acc: 0.8355\n"
     ]
    }
   ],
   "source": [
    "history = classifier.fit(X_res_new, y_res_new, validation_split=0.25, epochs=50, batch_size=10)"
   ]
  },
  {
   "cell_type": "markdown",
   "metadata": {},
   "source": [
    "from sklearn.metrics import confusion_matrix\n",
    "cm2 = confusion_matrix(y__test_new, ypred_new)\n",
    "print(cm2)"
   ]
  },
  {
   "cell_type": "code",
   "execution_count": 249,
   "metadata": {},
   "outputs": [
    {
     "name": "stdout",
     "output_type": "stream",
     "text": [
      "Accuracy is: 86.77126047423783%\n"
     ]
    }
   ],
   "source": [
    "accuracy = (cm2[0][0]+cm2[1][1])/(cm2[0][0]+cm2[0][1]+cm2[1][0]+cm2[1][1])\n",
    "print(\"Accuracy is: \"+ str(accuracy*100)+\"%\")"
   ]
  },
  {
   "cell_type": "code",
   "execution_count": 250,
   "metadata": {},
   "outputs": [
    {
     "name": "stdout",
     "output_type": "stream",
     "text": [
      "dict_keys(['val_loss', 'val_acc', 'loss', 'acc'])\n"
     ]
    }
   ],
   "source": [
    "print(history.history.keys())"
   ]
  },
  {
   "cell_type": "code",
   "execution_count": 251,
   "metadata": {},
   "outputs": [
    {
     "data": {
      "image/png": "[encoded data removed]",
      "text/plain": [
       "<Figure size 432x288 with 1 Axes>"
      ]
     },
     "metadata": {
      "needs_background": "light"
     },
     "output_type": "display_data"
    },
    {
     "data": {
      "image/png": "[encoded data removed]",
      "text/plain": [
       "<Figure size 432x288 with 1 Axes>"
      ]
     },
     "metadata": {
      "needs_background": "light"
     },
     "output_type": "display_data"
    }
   ],
   "source": [
    "# summarize history for accuracy\n",
    "plt.plot(history.history['acc'])\n",
    "plt.plot(history.history['val_acc'])\n",
    "plt.title('Model accuracy')\n",
    "plt.ylabel('Accuracy')\n",
    "plt.xlabel('Epoch')\n",
    "plt.legend(['Train', 'Test'], loc='upper left')\n",
    "plt.show()\n",
    "\n",
    "# Plot training & validation loss values\n",
    "plt.plot(history.history['loss'])\n",
    "plt.plot(history.history['val_loss'])\n",
    "plt.title('Model loss')\n",
    "plt.ylabel('Loss')\n",
    "plt.xlabel('Epoch')\n",
    "plt.legend(['Train', 'Test'], loc='upper left')\n",
    "plt.show()"
   ]
  },
  {
   "cell_type": "code",
   "execution_count": 252,
   "metadata": {},
   "outputs": [],
   "source": [
    "from sklearn.metrics import classification_report"
   ]
  },
  {
   "cell_type": "code",
   "execution_count": 256,
   "metadata": {},
   "outputs": [
    {
     "name": "stdout",
     "output_type": "stream",
     "text": [
      "              precision    recall  f1-score   support\n",
      "\n",
      "           0       0.81      0.96      0.88      2783\n",
      "           1       0.95      0.78      0.86      2826\n",
      "\n",
      "   micro avg       0.87      0.87      0.87      5609\n",
      "   macro avg       0.88      0.87      0.87      5609\n",
      "weighted avg       0.88      0.87      0.87      5609\n",
      "\n"
     ]
    }
   ],
   "source": [
    "print(classification_report(y__test_new, ypred_new))"
   ]
  },
  {
   "cell_type": "code",
   "execution_count": 259,
   "metadata": {},
   "outputs": [],
   "source": [
    "from sklearn import metrics\n",
    "fpr, tpr, thresholds = metrics.roc_curve(y__test_new, ypred_new)"
   ]
  },
  {
   "cell_type": "code",
   "execution_count": 260,
   "metadata": {},
   "outputs": [
    {
     "data": {
      "text/plain": [
       "0.8683855243861286"
      ]
     },
     "execution_count": 260,
     "metadata": {},
     "output_type": "execute_result"
    }
   ],
   "source": [
    "metrics.auc(fpr,tpr)"
   ]
  },
  {
   "cell_type": "code",
   "execution_count": null,
   "metadata": {},
   "outputs": [],
   "source": []
  },
  {
   "cell_type": "code",
   "execution_count": null,
   "metadata": {},
   "outputs": [],
   "source": []
  },
  {
   "cell_type": "code",
   "execution_count": null,
   "metadata": {},
   "outputs": [],
   "source": [
    "##class imbalance\n",
    "##concatenate data and do seperately also\n",
    "##classification models\n",
    "##ANN\n",
    "##xgboost\n",
    "##missing data handling"
   ]
  },
  {
   "cell_type": "code",
   "execution_count": 78,
   "metadata": {},
   "outputs": [
    {
     "name": "stdout",
     "output_type": "stream",
     "text": [
      "Original dataset shape Counter({'new_class': 1})\n"
     ]
    }
   ],
   "source": [
    "from collections import Counter\n",
    "from sklearn.datasets import make_classification\n",
    "from imblearn.over_sampling import SMOTE\n",
    "print('Original dataset shape %s' % Counter(y))"
   ]
  },
  {
   "cell_type": "code",
   "execution_count": 79,
   "metadata": {},
   "outputs": [
    {
     "name": "stdout",
     "output_type": "stream",
     "text": [
      "Resampled dataset shape Counter({'0': 9348, '1': 9348})\n"
     ]
    }
   ],
   "source": [
    "smote = SMOTE(sampling_strategy='minority', n_jobs=1)\n",
    "X_res, y_res = smote.fit_resample(X, y)\n",
    "print('Resampled dataset shape %s' % Counter(y_res))"
   ]
  },
  {
   "cell_type": "code",
   "execution_count": 80,
   "metadata": {},
   "outputs": [
    {
     "data": {
      "text/plain": [
       "array(['0', '0', '0', ..., '1', '1', '1'], dtype=object)"
      ]
     },
     "execution_count": 80,
     "metadata": {},
     "output_type": "execute_result"
    }
   ],
   "source": [
    "y_res"
   ]
  },
  {
   "cell_type": "code",
   "execution_count": 173,
   "metadata": {},
   "outputs": [
    {
     "name": "stdout",
     "output_type": "stream",
     "text": [
      "Resampled dataset shape Counter({'new_class': 1})\n"
     ]
    }
   ],
   "source": [
    "from imblearn.over_sampling import ADASYN # doctest: +NORMALIZE_WHITESPACE\n",
    "ada = ADASYN(sampling_strategy='auto',n_neighbors=5,random_state=42)\n",
    "X_res1, y_res1 = ada.fit_resample(X, y)"
   ]
  },
  {
   "cell_type": "code",
   "execution_count": 172,
   "metadata": {},
   "outputs": [
    {
     "name": "stdout",
     "output_type": "stream",
     "text": [
      "Resampled dataset shape Counter({'1': 6690, '0': 6658})\n"
     ]
    }
   ],
   "source": [
    "print('Resampled dataset shape %s' % Counter(y_res1))"
   ]
  },
  {
   "cell_type": "code",
   "execution_count": 174,
   "metadata": {},
   "outputs": [
    {
     "data": {
      "text/plain": [
       "array(['0', '0', '0', ..., '1', '1', '1'], dtype=object)"
      ]
     },
     "execution_count": 174,
     "metadata": {},
     "output_type": "execute_result"
    }
   ],
   "source": [
    "###Creating the dataset again\n",
    "##random sampling\n",
    "##leaving out 10% for validation\n"
   ]
  },
  {
   "cell_type": "code",
   "execution_count": 81,
   "metadata": {},
   "outputs": [],
   "source": [
    "scaler = StandardScaler()\n",
    "X_res = scaler.fit_transform(X_res)\n",
    "#y = scaler.fit_transform(y)"
   ]
  },
  {
   "cell_type": "code",
   "execution_count": 82,
   "metadata": {},
   "outputs": [],
   "source": [
    "import numpy as np\n",
    "from sklearn.model_selection import train_test_split"
   ]
  },
  {
   "cell_type": "code",
   "execution_count": 83,
   "metadata": {},
   "outputs": [],
   "source": [
    "X_train, X_test, y_train, y_test = train_test_split(X_res, y_res, test_size=0.30, random_state=42)"
   ]
  },
  {
   "cell_type": "markdown",
   "metadata": {},
   "source": [
    "# ANN using keras "
   ]
  },
  {
   "cell_type": "code",
   "execution_count": 86,
   "metadata": {},
   "outputs": [],
   "source": [
    "from keras import Sequential\n",
    "from keras.layers import Dense\n",
    "from keras.layers import Dense, Dropout"
   ]
  },
  {
   "cell_type": "code",
   "execution_count": 87,
   "metadata": {},
   "outputs": [],
   "source": [
    "classifier = Sequential()\n",
    "#First Hidden Layer\n",
    "classifier.add(Dense(31, activation='relu', kernel_initializer='random_normal', input_dim=63))\n",
    "classifier.add(Dropout(rate=0.2))\n",
    "#Second  Hidden Layer\n",
    "classifier.add(Dense(15, activation='relu', kernel_initializer='random_normal'))\n",
    "classifier.add(Dropout(rate=0.2))\n",
    "#Output Layer\n",
    "classifier.add(Dense(1, activation='sigmoid', kernel_initializer='random_normal'))"
   ]
  },
  {
   "cell_type": "code",
   "execution_count": 88,
   "metadata": {},
   "outputs": [],
   "source": [
    "#Compiling the neural network\n",
    "classifier.compile(optimizer ='adam',loss='binary_crossentropy', metrics =['accuracy'])"
   ]
  },
  {
   "cell_type": "code",
   "execution_count": 89,
   "metadata": {
    "scrolled": true
   },
   "outputs": [
    {
     "name": "stdout",
     "output_type": "stream",
     "text": [
      "Epoch 1/50\n",
      "13087/13087 [==============================] - 6s 463us/step - loss: 0.5927 - acc: 0.7042\n",
      "Epoch 2/50\n",
      "13087/13087 [==============================] - 4s 342us/step - loss: 0.5385 - acc: 0.7381\n",
      "Epoch 3/50\n",
      "13087/13087 [==============================] - 5s 383us/step - loss: 0.5084 - acc: 0.7554\n",
      "Epoch 4/50\n",
      "13087/13087 [==============================] - 4s 305us/step - loss: 0.4877 - acc: 0.7698\n",
      "Epoch 5/50\n",
      "13087/13087 [==============================] - 3s 261us/step - loss: 0.4683 - acc: 0.7802\n",
      "Epoch 6/50\n",
      "13087/13087 [==============================] - 3s 246us/step - loss: 0.4529 - acc: 0.7902\n",
      "Epoch 7/50\n",
      "13087/13087 [==============================] - 4s 313us/step - loss: 0.4407 - acc: 0.7962\n",
      "Epoch 8/50\n",
      "13087/13087 [==============================] - 4s 279us/step - loss: 0.4249 - acc: 0.8043\n",
      "Epoch 9/50\n",
      "13087/13087 [==============================] - 4s 314us/step - loss: 0.4125 - acc: 0.8118\n",
      "Epoch 10/50\n",
      "13087/13087 [==============================] - 4s 292us/step - loss: 0.3986 - acc: 0.8190\n",
      "Epoch 11/50\n",
      "13087/13087 [==============================] - 4s 324us/step - loss: 0.3885 - acc: 0.8255\n",
      "Epoch 12/50\n",
      "13087/13087 [==============================] - 5s 408us/step - loss: 0.3847 - acc: 0.8259\n",
      "Epoch 13/50\n",
      "13087/13087 [==============================] - 5s 400us/step - loss: 0.3754 - acc: 0.8331\n",
      "Epoch 14/50\n",
      "13087/13087 [==============================] - 4s 326us/step - loss: 0.3638 - acc: 0.8400\n",
      "Epoch 15/50\n",
      "13087/13087 [==============================] - 5s 361us/step - loss: 0.3571 - acc: 0.8441\n",
      "Epoch 16/50\n",
      "13087/13087 [==============================] - 4s 335us/step - loss: 0.3436 - acc: 0.8531\n",
      "Epoch 17/50\n",
      "13087/13087 [==============================] - 4s 318us/step - loss: 0.3439 - acc: 0.8540\n",
      "Epoch 18/50\n",
      "13087/13087 [==============================] - 6s 436us/step - loss: 0.3362 - acc: 0.8511\n",
      "Epoch 19/50\n",
      "13087/13087 [==============================] - 5s 391us/step - loss: 0.3331 - acc: 0.8528\n",
      "Epoch 20/50\n",
      "13087/13087 [==============================] - 5s 378us/step - loss: 0.3223 - acc: 0.8629\n",
      "Epoch 21/50\n",
      "13087/13087 [==============================] - 5s 383us/step - loss: 0.3162 - acc: 0.8639\n",
      "Epoch 22/50\n",
      "13087/13087 [==============================] - 4s 339us/step - loss: 0.3119 - acc: 0.8660\n",
      "Epoch 23/50\n",
      "13087/13087 [==============================] - 4s 284us/step - loss: 0.3131 - acc: 0.8683\n",
      "Epoch 24/50\n",
      "13087/13087 [==============================] - 4s 279us/step - loss: 0.3067 - acc: 0.8735\n",
      "Epoch 25/50\n",
      "13087/13087 [==============================] - 4s 289us/step - loss: 0.3038 - acc: 0.8719\n",
      "Epoch 26/50\n",
      "13087/13087 [==============================] - 5s 357us/step - loss: 0.2974 - acc: 0.8735\n",
      "Epoch 27/50\n",
      "13087/13087 [==============================] - 4s 302us/step - loss: 0.2915 - acc: 0.8777\n",
      "Epoch 28/50\n",
      "13087/13087 [==============================] - 4s 295us/step - loss: 0.2897 - acc: 0.8774\n",
      "Epoch 29/50\n",
      "13087/13087 [==============================] - 5s 361us/step - loss: 0.2884 - acc: 0.8796\n",
      "Epoch 30/50\n",
      "13087/13087 [==============================] - 5s 385us/step - loss: 0.2834 - acc: 0.8828\n",
      "Epoch 31/50\n",
      "13087/13087 [==============================] - 5s 360us/step - loss: 0.2807 - acc: 0.8823\n",
      "Epoch 32/50\n",
      "13087/13087 [==============================] - 4s 324us/step - loss: 0.2821 - acc: 0.8829\n",
      "Epoch 33/50\n",
      "13087/13087 [==============================] - 5s 410us/step - loss: 0.2734 - acc: 0.8874\n",
      "Epoch 34/50\n",
      "13087/13087 [==============================] - 4s 325us/step - loss: 0.2736 - acc: 0.8898\n",
      "Epoch 35/50\n",
      "13087/13087 [==============================] - 4s 305us/step - loss: 0.2716 - acc: 0.8881\n",
      "Epoch 36/50\n",
      "13087/13087 [==============================] - 3s 266us/step - loss: 0.2719 - acc: 0.8881\n",
      "Epoch 37/50\n",
      "13087/13087 [==============================] - 4s 325us/step - loss: 0.2699 - acc: 0.8904\n",
      "Epoch 38/50\n",
      "13087/13087 [==============================] - 4s 290us/step - loss: 0.2635 - acc: 0.8949\n",
      "Epoch 39/50\n",
      "13087/13087 [==============================] - 4s 324us/step - loss: 0.2546 - acc: 0.8992\n",
      "Epoch 40/50\n",
      "13087/13087 [==============================] - 5s 381us/step - loss: 0.2594 - acc: 0.8957\n",
      "Epoch 41/50\n",
      "13087/13087 [==============================] - 4s 276us/step - loss: 0.2617 - acc: 0.8946\n",
      "Epoch 42/50\n",
      "13087/13087 [==============================] - 3s 225us/step - loss: 0.2547 - acc: 0.8985\n",
      "Epoch 43/50\n",
      "13087/13087 [==============================] - 3s 266us/step - loss: 0.2481 - acc: 0.9001\n",
      "Epoch 44/50\n",
      "13087/13087 [==============================] - 4s 289us/step - loss: 0.2597 - acc: 0.8965\n",
      "Epoch 45/50\n",
      "13087/13087 [==============================] - 4s 302us/step - loss: 0.2608 - acc: 0.8950\n",
      "Epoch 46/50\n",
      "13087/13087 [==============================] - 4s 269us/step - loss: 0.2482 - acc: 0.9003\n",
      "Epoch 47/50\n",
      "13087/13087 [==============================] - 3s 198us/step - loss: 0.2514 - acc: 0.8994\n",
      "Epoch 48/50\n",
      "13087/13087 [==============================] - 4s 274us/step - loss: 0.2441 - acc: 0.9027\n",
      "Epoch 49/50\n",
      "13087/13087 [==============================] - 4s 283us/step - loss: 0.2542 - acc: 0.9001\n",
      "Epoch 50/50\n",
      "13087/13087 [==============================] - 3s 267us/step - loss: 0.2510 - acc: 0.9021\n"
     ]
    },
    {
     "data": {
      "text/plain": [
       "<keras.callbacks.History at 0x267f2006c50>"
      ]
     },
     "execution_count": 89,
     "metadata": {},
     "output_type": "execute_result"
    }
   ],
   "source": [
    "#Fitting the data to the training dataset\n",
    "classifier.fit(X_train,y_train, batch_size=10, epochs=50)"
   ]
  },
  {
   "cell_type": "code",
   "execution_count": 96,
   "metadata": {},
   "outputs": [
    {
     "data": {
      "text/plain": [
       "(-1, 1)"
      ]
     },
     "execution_count": 96,
     "metadata": {},
     "output_type": "execute_result"
    },
    {
     "data": {
      "image/png": "[encoded data removed]",
      "text/plain": [
       "<Figure size 432x288 with 1 Axes>"
      ]
     },
     "metadata": {
      "needs_background": "light"
     },
     "output_type": "display_data"
    }
   ],
   "source": [
    "ax = sns.boxplot(x=\"class\", y=\"Attr1\", hue=\"class\",data=df_new, palette=\"Set3\")\n",
    "plt.ylim([-1,1])"
   ]
  },
  {
   "cell_type": "code",
   "execution_count": 112,
   "metadata": {},
   "outputs": [
    {
     "data": {
      "text/plain": [
       "(-1, 1)"
      ]
     },
     "execution_count": 112,
     "metadata": {},
     "output_type": "execute_result"
    },
    {
     "data": {
      "image/png": "[encoded data removed]",
      "text/plain": [
       "<Figure size 432x288 with 1 Axes>"
      ]
     },
     "metadata": {
      "needs_background": "light"
     },
     "output_type": "display_data"
    }
   ],
   "source": [
    "ax = sns.boxplot(x=\"class\", y=\"Attr59\", hue=\"class\",data=df_new, palette=\"Set3\")\n",
    "plt.ylim([-1,1])"
   ]
  },
  {
   "cell_type": "code",
   "execution_count": 111,
   "metadata": {},
   "outputs": [
    {
     "data": {
      "text/plain": [
       "(-1, 1)"
      ]
     },
     "execution_count": 111,
     "metadata": {},
     "output_type": "execute_result"
    },
    {
     "data": {
      "image/png": "[encoded data removed]",
      "text/plain": [
       "<Figure size 432x288 with 1 Axes>"
      ]
     },
     "metadata": {
      "needs_background": "light"
     },
     "output_type": "display_data"
    }
   ],
   "source": [
    "ax = sns.boxplot(x=\"class\", y=\"Attr51\", hue=\"class\",data=df_new, palette=\"Set3\")\n",
    "plt.ylim([-1,1])"
   ]
  },
  {
   "cell_type": "code",
   "execution_count": 110,
   "metadata": {},
   "outputs": [
    {
     "data": {
      "text/plain": [
       "(-1, 1)"
      ]
     },
     "execution_count": 110,
     "metadata": {},
     "output_type": "execute_result"
    },
    {
     "data": {
      "image/png": "[encoded data removed]",
      "text/plain": [
       "<Figure size 432x288 with 1 Axes>"
      ]
     },
     "metadata": {
      "needs_background": "light"
     },
     "output_type": "display_data"
    }
   ],
   "source": [
    "ax = sns.boxplot(x=\"class\", y=\"Attr49\", hue=\"class\",data=df_new, palette=\"Set3\")\n",
    "plt.ylim([-1,1])"
   ]
  },
  {
   "cell_type": "code",
   "execution_count": 109,
   "metadata": {},
   "outputs": [
    {
     "data": {
      "text/plain": [
       "(-2, 2)"
      ]
     },
     "execution_count": 109,
     "metadata": {},
     "output_type": "execute_result"
    },
    {
     "data": {
      "image/png": "[encoded data removed]",
      "text/plain": [
       "<Figure size 432x288 with 1 Axes>"
      ]
     },
     "metadata": {
      "needs_background": "light"
     },
     "output_type": "display_data"
    }
   ],
   "source": [
    "ax = sns.boxplot(x=\"class\", y=\"Attr48\", hue=\"class\",data=df_new, palette=\"Set3\")\n",
    "plt.ylim([-2,2])"
   ]
  },
  {
   "cell_type": "code",
   "execution_count": 108,
   "metadata": {},
   "outputs": [
    {
     "data": {
      "text/plain": [
       "(-10, 10)"
      ]
     },
     "execution_count": 108,
     "metadata": {},
     "output_type": "execute_result"
    },
    {
     "data": {
      "image/png": "[encoded data removed]",
      "text/plain": [
       "<Figure size 432x288 with 1 Axes>"
      ]
     },
     "metadata": {
      "needs_background": "light"
     },
     "output_type": "display_data"
    }
   ],
   "source": [
    "ax = sns.boxplot(x=\"class\", y=\"Attr29\", hue=\"class\",data=df_new, palette=\"Set3\")\n",
    "plt.ylim([-10,10])"
   ]
  },
  {
   "cell_type": "code",
   "execution_count": 106,
   "metadata": {},
   "outputs": [
    {
     "data": {
      "text/plain": [
       "(-2, 2)"
      ]
     },
     "execution_count": 106,
     "metadata": {},
     "output_type": "execute_result"
    },
    {
     "data": {
      "image/png": "[encoded data removed]",
      "text/plain": [
       "<Figure size 432x288 with 1 Axes>"
      ]
     },
     "metadata": {
      "needs_background": "light"
     },
     "output_type": "display_data"
    }
   ],
   "source": [
    "ax = sns.boxplot(x=\"class\", y=\"Attr7\", hue=\"class\",data=df_new, palette=\"Set3\")\n",
    "plt.ylim([-2,2])"
   ]
  },
  {
   "cell_type": "code",
   "execution_count": 104,
   "metadata": {},
   "outputs": [
    {
     "data": {
      "text/plain": [
       "(-8, 8)"
      ]
     },
     "execution_count": 104,
     "metadata": {},
     "output_type": "execute_result"
    },
    {
     "data": {
      "image/png": "[encoded data removed]",
      "text/plain": [
       "<Figure size 432x288 with 1 Axes>"
      ]
     },
     "metadata": {
      "needs_background": "light"
     },
     "output_type": "display_data"
    }
   ],
   "source": [
    "ax = sns.boxplot(x=\"class\", y=\"Attr25\", hue=\"class\",data=df_new, palette=\"Set3\")\n",
    "plt.ylim([-8,8])"
   ]
  },
  {
   "cell_type": "code",
   "execution_count": 102,
   "metadata": {},
   "outputs": [
    {
     "data": {
      "text/plain": [
       "(-10, 10)"
      ]
     },
     "execution_count": 102,
     "metadata": {},
     "output_type": "execute_result"
    },
    {
     "data": {
      "image/png": "[encoded data removed]",
      "text/plain": [
       "<Figure size 432x288 with 1 Axes>"
      ]
     },
     "metadata": {
      "needs_background": "light"
     },
     "output_type": "display_data"
    }
   ],
   "source": [
    "ax = sns.boxplot(x=\"class\", y=\"Attr4\", hue=\"class\",data=df_new, palette=\"Set3\")\n",
    "plt.ylim([-10,10])"
   ]
  },
  {
   "cell_type": "code",
   "execution_count": 100,
   "metadata": {},
   "outputs": [
    {
     "data": {
      "text/plain": [
       "(-8, 8)"
      ]
     },
     "execution_count": 100,
     "metadata": {},
     "output_type": "execute_result"
    },
    {
     "data": {
      "image/png": "[encoded data removed]",
      "text/plain": [
       "<Figure size 432x288 with 1 Axes>"
      ]
     },
     "metadata": {
      "needs_background": "light"
     },
     "output_type": "display_data"
    }
   ],
   "source": [
    "ax = sns.boxplot(x=\"class\", y=\"Attr27\", hue=\"class\",data=df_new, palette=\"Set3\")\n",
    "plt.ylim([-8,8])"
   ]
  },
  {
   "cell_type": "code",
   "execution_count": 144,
   "metadata": {},
   "outputs": [
    {
     "data": {
      "text/plain": [
       "(-2, 2)"
      ]
     },
     "execution_count": 144,
     "metadata": {},
     "output_type": "execute_result"
    },
    {
     "data": {
      "image/png": "[encoded data removed]",
      "text/plain": [
       "<Figure size 432x288 with 1 Axes>"
      ]
     },
     "metadata": {
      "needs_background": "light"
     },
     "output_type": "display_data"
    }
   ],
   "source": [
    "ax = sns.boxplot(x=\"class\", y=\"Attr3\", hue=\"class\",data=df_new, palette=\"Set3\")\n",
    "plt.ylim([-2,2])"
   ]
  },
  {
   "cell_type": "code",
   "execution_count": 146,
   "metadata": {},
   "outputs": [
    {
     "data": {
      "text/plain": [
       "(-2, 2)"
      ]
     },
     "execution_count": 146,
     "metadata": {},
     "output_type": "execute_result"
    },
    {
     "data": {
      "image/png": "[encoded data removed]",
      "text/plain": [
       "<Figure size 432x288 with 1 Axes>"
      ]
     },
     "metadata": {
      "needs_background": "light"
     },
     "output_type": "display_data"
    }
   ],
   "source": [
    "ax = sns.boxplot(x=\"class\", y=\"Attr6\", hue=\"class\",data=df_new, palette=\"Set3\")\n",
    "plt.ylim([-2,2])"
   ]
  },
  {
   "cell_type": "code",
   "execution_count": 148,
   "metadata": {},
   "outputs": [
    {
     "data": {
      "text/plain": [
       "(-5, 5)"
      ]
     },
     "execution_count": 148,
     "metadata": {},
     "output_type": "execute_result"
    },
    {
     "data": {
      "image/png": "[encoded data removed]",
      "text/plain": [
       "<Figure size 432x288 with 1 Axes>"
      ]
     },
     "metadata": {
      "needs_background": "light"
     },
     "output_type": "display_data"
    }
   ],
   "source": [
    "ax = sns.boxplot(x=\"class\", y=\"Attr9\", hue=\"class\",data=df_new, palette=\"Set3\")\n",
    "plt.ylim([-5,5])"
   ]
  },
  {
   "cell_type": "code",
   "execution_count": 36,
   "metadata": {},
   "outputs": [
    {
     "name": "stdout",
     "output_type": "stream",
     "text": [
      "9321/9321 [==============================] - 0s 21us/step\n"
     ]
    },
    {
     "data": {
      "text/plain": [
       "[0.34502863763113056, 0.8417551764896046]"
      ]
     },
     "execution_count": 36,
     "metadata": {},
     "output_type": "execute_result"
    }
   ],
   "source": [
    "eval_model=classifier.evaluate(X_train, y_train)\n",
    "eval_model"
   ]
  },
  {
   "cell_type": "code",
   "execution_count": 39,
   "metadata": {},
   "outputs": [],
   "source": [
    "y_pred = classifier.predict(X_test)\n"
   ]
  },
  {
   "cell_type": "code",
   "execution_count": 43,
   "metadata": {},
   "outputs": [],
   "source": [
    "y__test = y_test.astype(int)"
   ]
  },
  {
   "cell_type": "code",
   "execution_count": 44,
   "metadata": {},
   "outputs": [],
   "source": [
    "y__pred = (y_pred>0.5)\n",
    "ypred = y__pred.astype(int)"
   ]
  },
  {
   "cell_type": "code",
   "execution_count": 68,
   "metadata": {},
   "outputs": [],
   "source": [
    "ypred = np.array(ypred)"
   ]
  },
  {
   "cell_type": "code",
   "execution_count": 46,
   "metadata": {},
   "outputs": [
    {
     "data": {
      "text/plain": [
       "array([0, 1, 1, ..., 0, 0, 1])"
      ]
     },
     "execution_count": 46,
     "metadata": {},
     "output_type": "execute_result"
    }
   ],
   "source": [
    "y__test"
   ]
  },
  {
   "cell_type": "code",
   "execution_count": 47,
   "metadata": {},
   "outputs": [
    {
     "name": "stdout",
     "output_type": "stream",
     "text": [
      "[[1554  449]\n",
      " [ 195 1797]]\n"
     ]
    }
   ],
   "source": [
    "from sklearn.metrics import confusion_matrix\n",
    "cm1 = confusion_matrix(y__test, ypred)\n",
    "print(cm1)"
   ]
  },
  {
   "cell_type": "code",
   "execution_count": 48,
   "metadata": {},
   "outputs": [
    {
     "name": "stdout",
     "output_type": "stream",
     "text": [
      "Accuracy: 83.87984981226533%\n"
     ]
    }
   ],
   "source": [
    "accuracy = (cm1[0][0]+cm1[1][1])/(cm1[0][0]+cm1[0][1]+cm1[1][0]+cm1[1][1])\n",
    "print(\"Accuracy is: \"+ str(accuracy*100)+\"%\")"
   ]
  },
  {
   "cell_type": "code",
   "execution_count": null,
   "metadata": {},
   "outputs": [],
   "source": []
  },
  {
   "cell_type": "code",
   "execution_count": 29,
   "metadata": {},
   "outputs": [],
   "source": [
    "#from sklearn.model_selection import StratifiedShuffleSplit\n",
    "#sss = StratifiedShuffleSplit(n_splits=5, test_size=0.5, random_state=0)"
   ]
  },
  {
   "cell_type": "markdown",
   "metadata": {},
   "source": [
    "# Random forest classification using scikit-learn"
   ]
  },
  {
   "cell_type": "code",
   "execution_count": 83,
   "metadata": {},
   "outputs": [],
   "source": [
    "from sklearn.ensemble import RandomForestClassifier"
   ]
  },
  {
   "cell_type": "code",
   "execution_count": 84,
   "metadata": {},
   "outputs": [
    {
     "data": {
      "text/plain": [
       "RandomForestClassifier(bootstrap=True, class_weight=None, criterion='gini',\n",
       "            max_depth=2, max_features='auto', max_leaf_nodes=None,\n",
       "            min_impurity_decrease=0.0, min_impurity_split=None,\n",
       "            min_samples_leaf=1, min_samples_split=2,\n",
       "            min_weight_fraction_leaf=0.0, n_estimators=100, n_jobs=None,\n",
       "            oob_score=False, random_state=0, verbose=0, warm_start=False)"
      ]
     },
     "execution_count": 84,
     "metadata": {},
     "output_type": "execute_result"
    }
   ],
   "source": [
    "clf = RandomForestClassifier(n_estimators=100, max_depth=2,\n",
    "                              random_state=0)\n",
    "clf.fit(X_train_new, y_train_new)"
   ]
  },
  {
   "cell_type": "code",
   "execution_count": 87,
   "metadata": {},
   "outputs": [],
   "source": [
    "X_train_new1 = pd.DataFrame(X_train_new)"
   ]
  },
  {
   "cell_type": "code",
   "execution_count": 91,
   "metadata": {},
   "outputs": [
    {
     "data": {
      "text/html": [
       "<div>\n",
       "<style scoped>\n",
       "    .dataframe tbody tr th:only-of-type {\n",
       "        vertical-align: middle;\n",
       "    }\n",
       "\n",
       "    .dataframe tbody tr th {\n",
       "        vertical-align: top;\n",
       "    }\n",
       "\n",
       "    .dataframe thead th {\n",
       "        text-align: right;\n",
       "    }\n",
       "</style>\n",
       "<table border=\"1\" class=\"dataframe\">\n",
       "  <thead>\n",
       "    <tr style=\"text-align: right;\">\n",
       "      <th></th>\n",
       "      <th>importance%</th>\n",
       "    </tr>\n",
       "  </thead>\n",
       "  <tbody>\n",
       "    <tr>\n",
       "      <th>5</th>\n",
       "      <td>0.160877</td>\n",
       "    </tr>\n",
       "    <tr>\n",
       "      <th>12</th>\n",
       "      <td>0.157090</td>\n",
       "    </tr>\n",
       "    <tr>\n",
       "      <th>8</th>\n",
       "      <td>0.150929</td>\n",
       "    </tr>\n",
       "    <tr>\n",
       "      <th>7</th>\n",
       "      <td>0.115746</td>\n",
       "    </tr>\n",
       "    <tr>\n",
       "      <th>0</th>\n",
       "      <td>0.078643</td>\n",
       "    </tr>\n",
       "    <tr>\n",
       "      <th>1</th>\n",
       "      <td>0.074035</td>\n",
       "    </tr>\n",
       "    <tr>\n",
       "      <th>3</th>\n",
       "      <td>0.064579</td>\n",
       "    </tr>\n",
       "    <tr>\n",
       "      <th>4</th>\n",
       "      <td>0.051125</td>\n",
       "    </tr>\n",
       "    <tr>\n",
       "      <th>15</th>\n",
       "      <td>0.037427</td>\n",
       "    </tr>\n",
       "    <tr>\n",
       "      <th>14</th>\n",
       "      <td>0.032552</td>\n",
       "    </tr>\n",
       "    <tr>\n",
       "      <th>16</th>\n",
       "      <td>0.022527</td>\n",
       "    </tr>\n",
       "    <tr>\n",
       "      <th>2</th>\n",
       "      <td>0.014021</td>\n",
       "    </tr>\n",
       "    <tr>\n",
       "      <th>11</th>\n",
       "      <td>0.013012</td>\n",
       "    </tr>\n",
       "    <tr>\n",
       "      <th>10</th>\n",
       "      <td>0.006609</td>\n",
       "    </tr>\n",
       "    <tr>\n",
       "      <th>22</th>\n",
       "      <td>0.006014</td>\n",
       "    </tr>\n",
       "    <tr>\n",
       "      <th>21</th>\n",
       "      <td>0.005805</td>\n",
       "    </tr>\n",
       "    <tr>\n",
       "      <th>19</th>\n",
       "      <td>0.005177</td>\n",
       "    </tr>\n",
       "    <tr>\n",
       "      <th>6</th>\n",
       "      <td>0.002284</td>\n",
       "    </tr>\n",
       "    <tr>\n",
       "      <th>17</th>\n",
       "      <td>0.000993</td>\n",
       "    </tr>\n",
       "    <tr>\n",
       "      <th>9</th>\n",
       "      <td>0.000318</td>\n",
       "    </tr>\n",
       "    <tr>\n",
       "      <th>20</th>\n",
       "      <td>0.000237</td>\n",
       "    </tr>\n",
       "    <tr>\n",
       "      <th>13</th>\n",
       "      <td>0.000000</td>\n",
       "    </tr>\n",
       "    <tr>\n",
       "      <th>18</th>\n",
       "      <td>0.000000</td>\n",
       "    </tr>\n",
       "  </tbody>\n",
       "</table>\n",
       "</div>"
      ],
      "text/plain": [
       "    importance%\n",
       "5      0.160877\n",
       "12     0.157090\n",
       "8      0.150929\n",
       "7      0.115746\n",
       "0      0.078643\n",
       "1      0.074035\n",
       "3      0.064579\n",
       "4      0.051125\n",
       "15     0.037427\n",
       "14     0.032552\n",
       "16     0.022527\n",
       "2      0.014021\n",
       "11     0.013012\n",
       "10     0.006609\n",
       "22     0.006014\n",
       "21     0.005805\n",
       "19     0.005177\n",
       "6      0.002284\n",
       "17     0.000993\n",
       "9      0.000318\n",
       "20     0.000237\n",
       "13     0.000000\n",
       "18     0.000000"
      ]
     },
     "execution_count": 91,
     "metadata": {},
     "output_type": "execute_result"
    }
   ],
   "source": [
    "feature_imp = pd.DataFrame(clf.feature_importances_,\n",
    "                                   index = X_train_new1.columns,\n",
    "                                    columns=['importance%']).sort_values('importance%',ascending=False)\n",
    "feature_imp"
   ]
  },
  {
   "cell_type": "code",
   "execution_count": 70,
   "metadata": {},
   "outputs": [
    {
     "name": "stdout",
     "output_type": "stream",
     "text": [
      "['1' '1' '0' ... '1' '0' '1']\n"
     ]
    }
   ],
   "source": [
    "print(clf.predict(X_test_new))"
   ]
  },
  {
   "cell_type": "code",
   "execution_count": null,
   "metadata": {},
   "outputs": [],
   "source": [
    "print(clf.predict(X_test_new))"
   ]
  },
  {
   "cell_type": "code",
   "execution_count": 116,
   "metadata": {},
   "outputs": [
    {
     "name": "stdout",
     "output_type": "stream",
     "text": [
      "0.7181315742556605\n"
     ]
    }
   ],
   "source": [
    "print(clf.score(X_test_new,y_test_new))"
   ]
  },
  {
   "cell_type": "code",
   "execution_count": 76,
   "metadata": {},
   "outputs": [
    {
     "name": "stdout",
     "output_type": "stream",
     "text": [
      "2\n"
     ]
    }
   ],
   "source": [
    "print(clf.n_classes_)"
   ]
  },
  {
   "cell_type": "code",
   "execution_count": 93,
   "metadata": {},
   "outputs": [],
   "source": [
    "from sklearn.metrics import accuracy_score\n",
    "score_train_RF = []\n",
    "score_test_RF = []\n",
    "factor = []\n",
    "for i in range(4,30,4):\n",
    "    clf_rf = RandomForestClassifier(bootstrap=True, class_weight=None, criterion='gini',\n",
    "            max_depth=i, max_features='auto', max_leaf_nodes=None,\n",
    "            min_impurity_decrease=0.0, min_impurity_split=None,\n",
    "            min_samples_leaf=2, min_samples_split=3,\n",
    "            min_weight_fraction_leaf=0.0, n_estimators=100, n_jobs=None,\n",
    "            oob_score=False, random_state=0, verbose=0, warm_start=False)\n",
    "    clf_rf = clf_rf.fit(X_train_new, y_train_new)\n",
    "    y_pred_rf = clf_rf.predict(X_test_new)\n",
    "    factor.append(i)\n",
    "    score_train_RF.append(accuracy_score(y_train_new,clf_rf.predict(X_train_new)))\n",
    "    score_test_RF.append(accuracy_score(y_test_new,clf_rf.predict(X_test_new)))\n"
   ]
  },
  {
   "cell_type": "code",
   "execution_count": 94,
   "metadata": {},
   "outputs": [],
   "source": [
    "df_RF = pd.DataFrame()\n",
    "df_RF['Training_accuracy'] = score_train_RF\n",
    "df_RF['Test_accuracy'] = score_test_RF\n",
    "df_RF['K'] =factor"
   ]
  },
  {
   "cell_type": "code",
   "execution_count": 95,
   "metadata": {},
   "outputs": [
    {
     "data": {
      "text/plain": [
       "<matplotlib.legend.Legend at 0x27aeceb88d0>"
      ]
     },
     "execution_count": 95,
     "metadata": {},
     "output_type": "execute_result"
    },
    {
     "data": {
      "image/png": "[encoded data removed]",
      "text/plain": [
       "<Figure size 432x288 with 1 Axes>"
      ]
     },
     "metadata": {
      "needs_background": "light"
     },
     "output_type": "display_data"
    }
   ],
   "source": [
    "import matplotlib.pyplot as plt\n",
    "%matplotlib inline\n",
    "plt.plot( 'K', 'Training_accuracy', data=df_RF , markerfacecolor='blue', markersize=6, color='green', linewidth=4)\n",
    "plt.plot( 'K', 'Test_accuracy', data=df_RF, marker='', color='olive', linewidth=4, linestyle='dashed')\n",
    "plt.legend()"
   ]
  },
  {
   "cell_type": "code",
   "execution_count": 120,
   "metadata": {},
   "outputs": [],
   "source": [
    "y_t_int = y_test_new.astype(np.int)"
   ]
  },
  {
   "cell_type": "code",
   "execution_count": 121,
   "metadata": {},
   "outputs": [],
   "source": [
    "y_p_int = y_pred_rf.astype(np.int)"
   ]
  },
  {
   "cell_type": "code",
   "execution_count": null,
   "metadata": {},
   "outputs": [],
   "source": [
    "##AUROC curve"
   ]
  },
  {
   "cell_type": "code",
   "execution_count": 122,
   "metadata": {},
   "outputs": [],
   "source": [
    "from sklearn import metrics\n",
    "fpr, tpr, thresholds = metrics.roc_curve(y_t_int, y_p_int)"
   ]
  },
  {
   "cell_type": "code",
   "execution_count": 123,
   "metadata": {},
   "outputs": [
    {
     "data": {
      "text/plain": [
       "0.9703455592657777"
      ]
     },
     "execution_count": 123,
     "metadata": {},
     "output_type": "execute_result"
    }
   ],
   "source": [
    "metrics.auc(fpr, tpr)"
   ]
  },
  {
   "cell_type": "code",
   "execution_count": 109,
   "metadata": {},
   "outputs": [
    {
     "data": {
      "text/plain": [
       "array(['0', '1', '1', ..., '1', '0', '1'], dtype=object)"
      ]
     },
     "execution_count": 109,
     "metadata": {},
     "output_type": "execute_result"
    }
   ],
   "source": [
    "y_pred_rf"
   ]
  },
  {
   "cell_type": "code",
   "execution_count": 124,
   "metadata": {},
   "outputs": [
    {
     "data": {
      "text/plain": [
       "0.9703455592657777"
      ]
     },
     "execution_count": 124,
     "metadata": {},
     "output_type": "execute_result"
    }
   ],
   "source": [
    "import numpy as np\n",
    "from sklearn.metrics import roc_auc_score\n",
    "roc_auc_score(y_t_int, y_p_int)"
   ]
  },
  {
   "cell_type": "code",
   "execution_count": null,
   "metadata": {},
   "outputs": [],
   "source": [
    "F1 = 2 * (precision * recall) / (precision + recall)"
   ]
  },
  {
   "cell_type": "code",
   "execution_count": 125,
   "metadata": {},
   "outputs": [],
   "source": [
    "from sklearn.metrics import f1_score"
   ]
  },
  {
   "cell_type": "code",
   "execution_count": 126,
   "metadata": {},
   "outputs": [
    {
     "data": {
      "text/plain": [
       "0.970401347646103"
      ]
     },
     "execution_count": 126,
     "metadata": {},
     "output_type": "execute_result"
    }
   ],
   "source": [
    "f1_score(y_t_int, y_p_int, average='weighted')  "
   ]
  },
  {
   "cell_type": "code",
   "execution_count": 149,
   "metadata": {},
   "outputs": [
    {
     "data": {
      "text/plain": [
       "(18696, 63)"
      ]
     },
     "execution_count": 149,
     "metadata": {},
     "output_type": "execute_result"
    }
   ],
   "source": [
    "X_res.shape"
   ]
  },
  {
   "cell_type": "markdown",
   "metadata": {},
   "source": [
    "# Hyperparameter tuning using Grid Search method"
   ]
  },
  {
   "cell_type": "code",
   "execution_count": 140,
   "metadata": {},
   "outputs": [],
   "source": [
    "from sklearn.model_selection import GridSearchCV\n",
    "parameters = {'criterion':['gini','entropy'],\n",
    "            'max_depth':[1,2,3,4,5], 'max_features':['auto'], 'max_leaf_nodes':[2,3,4]}\n",
    "grid_search = GridSearchCV(estimator = clf_rf, param_grid = parameters, cv = 10, n_jobs = -1,return_train_score=True)\n",
    "grid_search = grid_search.fit(X_train, y_train)\n",
    "best_param = grid_search.best_params_"
   ]
  },
  {
   "cell_type": "code",
   "execution_count": 141,
   "metadata": {},
   "outputs": [
    {
     "data": {
      "text/plain": [
       "{'criterion': 'entropy',\n",
       " 'max_depth': 2,\n",
       " 'max_features': 'auto',\n",
       " 'max_leaf_nodes': 4}"
      ]
     },
     "execution_count": 141,
     "metadata": {},
     "output_type": "execute_result"
    }
   ],
   "source": [
    "best_param"
   ]
  },
  {
   "cell_type": "markdown",
   "metadata": {},
   "source": [
    "# Boosting techniques"
   ]
  },
  {
   "cell_type": "code",
   "execution_count": 127,
   "metadata": {},
   "outputs": [],
   "source": [
    "from sklearn.ensemble import AdaBoostClassifier"
   ]
  },
  {
   "cell_type": "code",
   "execution_count": 129,
   "metadata": {},
   "outputs": [],
   "source": [
    "score_train_ada = []\n",
    "score_test_ada = []\n",
    "factor = []\n",
    "for i in range(1,5,1):\n",
    "    clf_ada = AdaBoostClassifier(n_estimators=10, base_estimator=clf_rf,learning_rate=i)\n",
    "    clf_ada = clf_ada.fit(X_train, y_train_new)\n",
    "    y_pred_ada = clf_ada.predict(X_test_new)\n",
    "    factor.append(i)\n",
    "    score_train_ada.append(accuracy_score(y_train_new,clf_ada.predict(X_train_new)))\n",
    "    score_test_ada.append(accuracy_score(y_test_new,clf_ada.predict(X_test_new)))\n"
   ]
  },
  {
   "cell_type": "code",
   "execution_count": 130,
   "metadata": {},
   "outputs": [
    {
     "name": "stdout",
     "output_type": "stream",
     "text": [
      "0.9812800855767516\n"
     ]
    }
   ],
   "source": [
    "print(clf_ada.score(X_test_new,y_test_new))"
   ]
  },
  {
   "cell_type": "code",
   "execution_count": 131,
   "metadata": {},
   "outputs": [],
   "source": [
    "df_ada = pd.DataFrame()\n",
    "df_ada['Training_accuracy'] = score_train_ada\n",
    "df_ada['Test_accuracy'] = score_test_ada\n",
    "df_ada['K'] =factor"
   ]
  },
  {
   "cell_type": "code",
   "execution_count": 132,
   "metadata": {},
   "outputs": [
    {
     "data": {
      "text/plain": [
       "<matplotlib.legend.Legend at 0x267f6f2fda0>"
      ]
     },
     "execution_count": 132,
     "metadata": {},
     "output_type": "execute_result"
    },
    {
     "data": {
      "image/png": "[encoded data removed]",
      "text/plain": [
       "<Figure size 432x288 with 1 Axes>"
      ]
     },
     "metadata": {
      "needs_background": "light"
     },
     "output_type": "display_data"
    }
   ],
   "source": [
    "import matplotlib.pyplot as plt\n",
    "%matplotlib inline\n",
    "plt.plot( 'K', 'Training_accuracy', data=df_ada , markerfacecolor='blue', markersize=6, color='green', linewidth=4)\n",
    "plt.plot( 'K', 'Test_accuracy', data=df_ada, marker='', color='olive', linewidth=4, linestyle='dashed')\n",
    "plt.legend()"
   ]
  },
  {
   "cell_type": "markdown",
   "metadata": {},
   "source": [
    "# Gradient Boosting method"
   ]
  },
  {
   "cell_type": "code",
   "execution_count": 138,
   "metadata": {},
   "outputs": [],
   "source": [
    "from sklearn.ensemble import GradientBoostingClassifier #For Classification"
   ]
  },
  {
   "cell_type": "code",
   "execution_count": 139,
   "metadata": {},
   "outputs": [
    {
     "data": {
      "text/plain": [
       "GradientBoostingClassifier(criterion='friedman_mse', init=None,\n",
       "              learning_rate=1.0, loss='deviance', max_depth=1,\n",
       "              max_features=None, max_leaf_nodes=None,\n",
       "              min_impurity_decrease=0.0, min_impurity_split=None,\n",
       "              min_samples_leaf=1, min_samples_split=2,\n",
       "              min_weight_fraction_leaf=0.0, n_estimators=100,\n",
       "              n_iter_no_change=None, presort='auto', random_state=None,\n",
       "              subsample=1.0, tol=0.0001, validation_fraction=0.1,\n",
       "              verbose=0, warm_start=False)"
      ]
     },
     "execution_count": 139,
     "metadata": {},
     "output_type": "execute_result"
    }
   ],
   "source": [
    "clf_gbm = GradientBoostingClassifier(n_estimators=100, learning_rate=1.0, max_depth=1)\n",
    "clf_gbm.fit(X_train_new, y_train_new)\n"
   ]
  },
  {
   "cell_type": "code",
   "execution_count": null,
   "metadata": {},
   "outputs": [],
   "source": []
  },
  {
   "cell_type": "code",
   "execution_count": 165,
   "metadata": {},
   "outputs": [],
   "source": [
    "##Bagging classifier\n",
    "from sklearn.ensemble import BaggingClassifier #For Classification\n",
    "score_train_bag = []\n",
    "score_test_bag = []\n",
    "factor = []\n",
    "for i in range(10,100,10):\n",
    "    clf_bag = BaggingClassifier(n_estimators=i, max_samples=1.0, max_features=1.0)\n",
    "    clf_bag.fit(X_train_new, y_train_new)\n",
    "    y_pred_bag = clf_bag.predict(X_test_new)\n",
    "    factor.append(i)\n",
    "    score_train_bag.append(accuracy_score(y_train_new,clf_bag.predict(X_train_new)))\n",
    "    score_test_bag.append(accuracy_score(y_test_new,clf_bag.predict(X_test_new)))\n"
   ]
  },
  {
   "cell_type": "code",
   "execution_count": 185,
   "metadata": {},
   "outputs": [],
   "source": [
    "df_bag = pd.DataFrame()\n",
    "df_bag['Training_accuracy'] = score_train_bag\n",
    "df_bag['Test_accuracy'] = score_test_bag\n",
    "df_bag['K'] =factor"
   ]
  },
  {
   "cell_type": "code",
   "execution_count": 186,
   "metadata": {},
   "outputs": [
    {
     "data": {
      "text/plain": [
       "<matplotlib.legend.Legend at 0x2678a1d66a0>"
      ]
     },
     "execution_count": 186,
     "metadata": {},
     "output_type": "execute_result"
    },
    {
     "data": {
      "image/png": "[encoded data removed]",
      "text/plain": [
       "<Figure size 432x288 with 1 Axes>"
      ]
     },
     "metadata": {
      "needs_background": "light"
     },
     "output_type": "display_data"
    }
   ],
   "source": [
    "import matplotlib.pyplot as plt\n",
    "%matplotlib inline\n",
    "plt.plot( 'K', 'Training_accuracy', data=df_bag , markerfacecolor='blue', markersize=6, color='green', linewidth=4)\n",
    "plt.plot( 'K', 'Test_accuracy', data=df_bag, marker='', color='olive', linewidth=4, linestyle='dashed')\n",
    "plt.legend()"
   ]
  },
  {
   "cell_type": "markdown",
   "metadata": {},
   "source": [
    "# Decision Tree Classifier "
   ]
  },
  {
   "cell_type": "code",
   "execution_count": 91,
   "metadata": {},
   "outputs": [],
   "source": [
    "#Decision Tree classifier\n",
    "from sklearn import tree\n",
    "from sklearn.tree import DecisionTreeClassifier \n",
    "score_train_DT = []\n",
    "score_test_DT = []\n",
    "factor = []\n",
    "for i in range(4,30,4):\n",
    "    clf_dt1 = DecisionTreeClassifier(criterion = \"gini\", splitter=\"best\", max_depth=i)\n",
    "    clf_dt1 = clf_dt1.fit(X_train_new,y_train_new)\n",
    "    y_pred_DT = clf_dt1.predict(X_test_new)\n",
    "    factor.append(i)\n",
    "    score_train_DT.append(accuracy_score(y_train_new,clf_dt1.predict(X_train_new)))\n",
    "    score_test_DT.append(accuracy_score(y_test_new,y_pred_DT))\n"
   ]
  },
  {
   "cell_type": "code",
   "execution_count": 92,
   "metadata": {},
   "outputs": [
    {
     "name": "stdout",
     "output_type": "stream",
     "text": [
      "0.9386733416770964\n"
     ]
    }
   ],
   "source": [
    "print(clf_dt1.score(X_test_new,y_test_new))"
   ]
  },
  {
   "cell_type": "code",
   "execution_count": 93,
   "metadata": {},
   "outputs": [],
   "source": [
    "df_DT = pd.DataFrame()\n",
    "df_DT['Training_accuracy'] = score_train_DT\n",
    "df_DT['Test_accuracy'] = score_test_DT\n",
    "df_DT['K'] =factor"
   ]
  },
  {
   "cell_type": "code",
   "execution_count": 94,
   "metadata": {},
   "outputs": [
    {
     "data": {
      "text/plain": [
       "<matplotlib.legend.Legend at 0x1bc9321f1d0>"
      ]
     },
     "execution_count": 94,
     "metadata": {},
     "output_type": "execute_result"
    },
    {
     "data": {
      "image/png": "[encoded data removed]",
      "text/plain": [
       "<Figure size 432x288 with 1 Axes>"
      ]
     },
     "metadata": {
      "needs_background": "light"
     },
     "output_type": "display_data"
    }
   ],
   "source": [
    "import matplotlib.pyplot as plt\n",
    "%matplotlib inline\n",
    "plt.plot( 'K', 'Training_accuracy', data=df_DT , markerfacecolor='blue', markersize=6, color='green', linewidth=4)\n",
    "plt.plot( 'K', 'Test_accuracy', data=df_DT, marker='', color='olive', linewidth=4, linestyle='dashed')\n",
    "plt.legend()"
   ]
  },
  {
   "cell_type": "markdown",
   "metadata": {},
   "source": [
    "# Naive Bayes Classifier"
   ]
  },
  {
   "cell_type": "code",
   "execution_count": 95,
   "metadata": {},
   "outputs": [],
   "source": [
    "from sklearn.naive_bayes import GaussianNB\n",
    "score_train_NB = []\n",
    "score_test_NB = []\n",
    "factor = []\n",
    "for i in range(20):\n",
    "    clf = GaussianNB(var_smoothing = i)\n",
    "    clf.fit(X_train_new,y_train_new)\n",
    "    y_pred_NB = clf.predict(X_test_new)\n",
    "    factor.append(i)\n",
    "    score_train_NB.append(accuracy_score(y_train_new,clf.predict(X_train_new)))\n",
    "    score_test_NB.append(accuracy_score(y_test_new,y_pred_NB))\n",
    "        "
   ]
  },
  {
   "cell_type": "code",
   "execution_count": 96,
   "metadata": {},
   "outputs": [
    {
     "name": "stdout",
     "output_type": "stream",
     "text": [
      "0.5008760951188986\n"
     ]
    }
   ],
   "source": [
    "print(clf.score(X_test,y_test))"
   ]
  },
  {
   "cell_type": "code",
   "execution_count": 97,
   "metadata": {},
   "outputs": [],
   "source": [
    "df_NB = pd.DataFrame()\n",
    "df_NB['Training_accuracy'] = score_train_NB\n",
    "df_NB['Test_accuracy'] = score_test_NB\n",
    "df_NB['K'] =factor"
   ]
  },
  {
   "cell_type": "code",
   "execution_count": 98,
   "metadata": {},
   "outputs": [
    {
     "data": {
      "text/plain": [
       "<matplotlib.legend.Legend at 0x1bc9329c6a0>"
      ]
     },
     "execution_count": 98,
     "metadata": {},
     "output_type": "execute_result"
    },
    {
     "data": {
      "image/png": "[encoded data removed]",
      "text/plain": [
       "<Figure size 432x288 with 1 Axes>"
      ]
     },
     "metadata": {
      "needs_background": "light"
     },
     "output_type": "display_data"
    }
   ],
   "source": [
    "import matplotlib.pyplot as plt\n",
    "%matplotlib inline\n",
    "plt.plot( 'K', 'Training_accuracy', data=df_NB , markerfacecolor='blue', markersize=6, color='green', linewidth=4)\n",
    "plt.plot( 'K', 'Test_accuracy', data=df_NB, marker='', color='olive', linewidth=4, linestyle='dashed')\n",
    "plt.legend()"
   ]
  },
  {
   "cell_type": "markdown",
   "metadata": {},
   "source": [
    "# KNN classifier"
   ]
  },
  {
   "cell_type": "code",
   "execution_count": 99,
   "metadata": {},
   "outputs": [],
   "source": [
    "# Create and fit a nearest-neighbor classifier on D1 dataset\n",
    "from sklearn.neighbors import KNeighborsClassifier\n",
    "from sklearn.metrics import accuracy_score\n",
    "score_train_KN = []\n",
    "score_test_KN = []\n",
    "factor = []\n",
    "\n",
    "for i in range(1,18,2):\n",
    "    knn = KNeighborsClassifier(algorithm='auto', \n",
    "                     leaf_size=30, \n",
    "                     metric='minkowski',\n",
    "                     metric_params=None, \n",
    "                     n_jobs=1, \n",
    "                     n_neighbors=i, \n",
    "                     p=2,\n",
    "                     weights='uniform')\n",
    "    knn.fit(X_train_new,np.ravel(y_train_new))\n",
    "    factor.append(i)\n",
    "    score_train_KN.append(accuracy_score(np.ravel(y_train_new),knn.predict(X_train_new)))\n",
    "    score_test_KN.append(accuracy_score(y_test_new,knn.predict(X_test_new)))\n"
   ]
  },
  {
   "cell_type": "code",
   "execution_count": 100,
   "metadata": {},
   "outputs": [
    {
     "name": "stdout",
     "output_type": "stream",
     "text": [
      "0.8142678347934919\n"
     ]
    }
   ],
   "source": [
    "print(knn.score(X_test,y_test))"
   ]
  },
  {
   "cell_type": "code",
   "execution_count": 101,
   "metadata": {},
   "outputs": [],
   "source": [
    "df_knn_d1 = pd.DataFrame()\n",
    "df_knn_d1['Training_accuracy'] = score_train_KN\n",
    "df_knn_d1['Test_accuracy'] = score_test_KN\n",
    "df_knn_d1['K'] =factor"
   ]
  },
  {
   "cell_type": "code",
   "execution_count": 102,
   "metadata": {},
   "outputs": [
    {
     "data": {
      "text/plain": [
       "<matplotlib.legend.Legend at 0x1bc93316cf8>"
      ]
     },
     "execution_count": 102,
     "metadata": {},
     "output_type": "execute_result"
    },
    {
     "data": {
      "image/png": "[encoded data removed]",
      "text/plain": [
       "<Figure size 432x288 with 1 Axes>"
      ]
     },
     "metadata": {
      "needs_background": "light"
     },
     "output_type": "display_data"
    }
   ],
   "source": [
    "plt.plot( 'K', 'Training_accuracy', data=df_knn_d1 , markerfacecolor='blue', markersize=6, color='green', linewidth=4)\n",
    "plt.plot( 'K', 'Test_accuracy', data=df_knn_d1, marker='', color='olive', linewidth=4, linestyle='dashed')\n",
    "plt.legend()"
   ]
  },
  {
   "cell_type": "code",
   "execution_count": 163,
   "metadata": {},
   "outputs": [],
   "source": [
    "y_i_tr = y_train.astype(int)"
   ]
  },
  {
   "cell_type": "code",
   "execution_count": 164,
   "metadata": {},
   "outputs": [],
   "source": [
    "y_i_te = y_test.astype(int)"
   ]
  },
  {
   "cell_type": "code",
   "execution_count": null,
   "metadata": {},
   "outputs": [],
   "source": []
  },
  {
   "cell_type": "code",
   "execution_count": null,
   "metadata": {},
   "outputs": [],
   "source": []
  },
  {
   "cell_type": "code",
   "execution_count": null,
   "metadata": {},
   "outputs": [],
   "source": []
  },
  {
   "cell_type": "markdown",
   "metadata": {},
   "source": [
    "# SVM"
   ]
  },
  {
   "cell_type": "code",
   "execution_count": null,
   "metadata": {},
   "outputs": [],
   "source": [
    "print(clf_dt.score(X_test,y_test))"
   ]
  },
  {
   "cell_type": "code",
   "execution_count": null,
   "metadata": {},
   "outputs": [],
   "source": []
  },
  {
   "cell_type": "code",
   "execution_count": null,
   "metadata": {},
   "outputs": [],
   "source": []
  },
  {
   "cell_type": "code",
   "execution_count": null,
   "metadata": {},
   "outputs": [],
   "source": []
  },
  {
   "cell_type": "code",
   "execution_count": null,
   "metadata": {},
   "outputs": [],
   "source": []
  },
  {
   "cell_type": "code",
   "execution_count": null,
   "metadata": {},
   "outputs": [],
   "source": []
  },
  {
   "cell_type": "code",
   "execution_count": null,
   "metadata": {},
   "outputs": [],
   "source": []
  },
  {
   "cell_type": "code",
   "execution_count": null,
   "metadata": {},
   "outputs": [],
   "source": []
  }
 ],
 "metadata": {
  "kernelspec": {
   "display_name": "Python 3",
   "language": "python",
   "name": "python3"
  },
  "language_info": {
   "codemirror_mode": {
    "name": "ipython",
    "version": 3
   },
   "file_extension": ".py",
   "mimetype": "text/x-python",
   "name": "python",
   "nbconvert_exporter": "python",
   "pygments_lexer": "ipython3",
   "version": "3.6.6"
  }
 },
 "nbformat": 4,
 "nbformat_minor": 2
}
