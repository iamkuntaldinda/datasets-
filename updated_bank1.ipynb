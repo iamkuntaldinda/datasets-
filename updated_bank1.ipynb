{
 "cells": [
  {
   "cell_type": "markdown",
   "metadata": {},
   "source": [
    "### Installing required Packages"
   ]
  },
  {
   "cell_type": "code",
   "execution_count": 1,
   "metadata": {},
   "outputs": [],
   "source": [
    "from scipy.io import arff"
   ]
  },
  {
   "cell_type": "code",
   "execution_count": 2,
   "metadata": {},
   "outputs": [],
   "source": [
    "import pandas as pd\n",
    "import matplotlib.pyplot as plt\n",
    "import seaborn as sns\n",
    "import numpy as np\n",
    "from scipy.stats import norm\n",
    "from sklearn.preprocessing import StandardScaler\n",
    "from scipy import stats\n",
    "import warnings\n",
    "from sklearn.linear_model import LinearRegression\n",
    "import scipy, scipy.stats\n",
    "#import statsmodels.formula.api as sm\n",
    "from sklearn import linear_model\n",
    "warnings.filterwarnings('ignore')\n",
    "%matplotlib inline"
   ]
  },
  {
   "cell_type": "code",
   "execution_count": 75,
   "metadata": {},
   "outputs": [
    {
     "data": {
      "text/html": [
       "<div>\n",
       "<style scoped>\n",
       "    .dataframe tbody tr th:only-of-type {\n",
       "        vertical-align: middle;\n",
       "    }\n",
       "\n",
       "    .dataframe tbody tr th {\n",
       "        vertical-align: top;\n",
       "    }\n",
       "\n",
       "    .dataframe thead th {\n",
       "        text-align: right;\n",
       "    }\n",
       "</style>\n",
       "<table border=\"1\" class=\"dataframe\">\n",
       "  <thead>\n",
       "    <tr style=\"text-align: right;\">\n",
       "      <th></th>\n",
       "      <th>Attr1</th>\n",
       "      <th>Attr2</th>\n",
       "      <th>Attr3</th>\n",
       "      <th>Attr4</th>\n",
       "      <th>Attr5</th>\n",
       "      <th>Attr6</th>\n",
       "      <th>Attr7</th>\n",
       "      <th>Attr8</th>\n",
       "      <th>Attr9</th>\n",
       "      <th>Attr10</th>\n",
       "      <th>...</th>\n",
       "      <th>Attr56</th>\n",
       "      <th>Attr57</th>\n",
       "      <th>Attr58</th>\n",
       "      <th>Attr59</th>\n",
       "      <th>Attr60</th>\n",
       "      <th>Attr61</th>\n",
       "      <th>Attr62</th>\n",
       "      <th>Attr63</th>\n",
       "      <th>Attr64</th>\n",
       "      <th>class</th>\n",
       "    </tr>\n",
       "  </thead>\n",
       "  <tbody>\n",
       "    <tr>\n",
       "      <th>0</th>\n",
       "      <td>0.200550</td>\n",
       "      <td>0.37951</td>\n",
       "      <td>0.39641</td>\n",
       "      <td>2.0472</td>\n",
       "      <td>32.3510</td>\n",
       "      <td>0.38825</td>\n",
       "      <td>0.249760</td>\n",
       "      <td>1.33050</td>\n",
       "      <td>1.1389</td>\n",
       "      <td>0.50494</td>\n",
       "      <td>...</td>\n",
       "      <td>0.121960</td>\n",
       "      <td>0.39718</td>\n",
       "      <td>0.87804</td>\n",
       "      <td>0.001924</td>\n",
       "      <td>8.4160</td>\n",
       "      <td>5.1372</td>\n",
       "      <td>82.658</td>\n",
       "      <td>4.4158</td>\n",
       "      <td>7.4277</td>\n",
       "      <td>b'0'</td>\n",
       "    </tr>\n",
       "    <tr>\n",
       "      <th>1</th>\n",
       "      <td>0.209120</td>\n",
       "      <td>0.49988</td>\n",
       "      <td>0.47225</td>\n",
       "      <td>1.9447</td>\n",
       "      <td>14.7860</td>\n",
       "      <td>0.00000</td>\n",
       "      <td>0.258340</td>\n",
       "      <td>0.99601</td>\n",
       "      <td>1.6996</td>\n",
       "      <td>0.49788</td>\n",
       "      <td>...</td>\n",
       "      <td>0.121300</td>\n",
       "      <td>0.42002</td>\n",
       "      <td>0.85300</td>\n",
       "      <td>0.000000</td>\n",
       "      <td>4.1486</td>\n",
       "      <td>3.2732</td>\n",
       "      <td>107.350</td>\n",
       "      <td>3.4000</td>\n",
       "      <td>60.9870</td>\n",
       "      <td>b'0'</td>\n",
       "    </tr>\n",
       "    <tr>\n",
       "      <th>2</th>\n",
       "      <td>0.248660</td>\n",
       "      <td>0.69592</td>\n",
       "      <td>0.26713</td>\n",
       "      <td>1.5548</td>\n",
       "      <td>-1.1523</td>\n",
       "      <td>0.00000</td>\n",
       "      <td>0.309060</td>\n",
       "      <td>0.43695</td>\n",
       "      <td>1.3090</td>\n",
       "      <td>0.30408</td>\n",
       "      <td>...</td>\n",
       "      <td>0.241140</td>\n",
       "      <td>0.81774</td>\n",
       "      <td>0.76599</td>\n",
       "      <td>0.694840</td>\n",
       "      <td>4.9909</td>\n",
       "      <td>3.9510</td>\n",
       "      <td>134.270</td>\n",
       "      <td>2.7185</td>\n",
       "      <td>5.2078</td>\n",
       "      <td>b'0'</td>\n",
       "    </tr>\n",
       "    <tr>\n",
       "      <th>3</th>\n",
       "      <td>0.081483</td>\n",
       "      <td>0.30734</td>\n",
       "      <td>0.45879</td>\n",
       "      <td>2.4928</td>\n",
       "      <td>51.9520</td>\n",
       "      <td>0.14988</td>\n",
       "      <td>0.092704</td>\n",
       "      <td>1.86610</td>\n",
       "      <td>1.0571</td>\n",
       "      <td>0.57353</td>\n",
       "      <td>...</td>\n",
       "      <td>0.054015</td>\n",
       "      <td>0.14207</td>\n",
       "      <td>0.94598</td>\n",
       "      <td>0.000000</td>\n",
       "      <td>4.5746</td>\n",
       "      <td>3.6147</td>\n",
       "      <td>86.435</td>\n",
       "      <td>4.2228</td>\n",
       "      <td>5.5497</td>\n",
       "      <td>b'0'</td>\n",
       "    </tr>\n",
       "    <tr>\n",
       "      <th>4</th>\n",
       "      <td>0.187320</td>\n",
       "      <td>0.61323</td>\n",
       "      <td>0.22960</td>\n",
       "      <td>1.4063</td>\n",
       "      <td>-7.3128</td>\n",
       "      <td>0.18732</td>\n",
       "      <td>0.187320</td>\n",
       "      <td>0.63070</td>\n",
       "      <td>1.1559</td>\n",
       "      <td>0.38677</td>\n",
       "      <td>...</td>\n",
       "      <td>0.134850</td>\n",
       "      <td>0.48431</td>\n",
       "      <td>0.86515</td>\n",
       "      <td>0.124440</td>\n",
       "      <td>6.3985</td>\n",
       "      <td>4.3158</td>\n",
       "      <td>127.210</td>\n",
       "      <td>2.8692</td>\n",
       "      <td>7.8980</td>\n",
       "      <td>b'0'</td>\n",
       "    </tr>\n",
       "  </tbody>\n",
       "</table>\n",
       "<p>5 rows × 65 columns</p>\n",
       "</div>"
      ],
      "text/plain": [
       "      Attr1    Attr2    Attr3   Attr4    Attr5    Attr6     Attr7    Attr8  \\\n",
       "0  0.200550  0.37951  0.39641  2.0472  32.3510  0.38825  0.249760  1.33050   \n",
       "1  0.209120  0.49988  0.47225  1.9447  14.7860  0.00000  0.258340  0.99601   \n",
       "2  0.248660  0.69592  0.26713  1.5548  -1.1523  0.00000  0.309060  0.43695   \n",
       "3  0.081483  0.30734  0.45879  2.4928  51.9520  0.14988  0.092704  1.86610   \n",
       "4  0.187320  0.61323  0.22960  1.4063  -7.3128  0.18732  0.187320  0.63070   \n",
       "\n",
       "    Attr9   Attr10  ...      Attr56   Attr57   Attr58    Attr59  Attr60  \\\n",
       "0  1.1389  0.50494  ...    0.121960  0.39718  0.87804  0.001924  8.4160   \n",
       "1  1.6996  0.49788  ...    0.121300  0.42002  0.85300  0.000000  4.1486   \n",
       "2  1.3090  0.30408  ...    0.241140  0.81774  0.76599  0.694840  4.9909   \n",
       "3  1.0571  0.57353  ...    0.054015  0.14207  0.94598  0.000000  4.5746   \n",
       "4  1.1559  0.38677  ...    0.134850  0.48431  0.86515  0.124440  6.3985   \n",
       "\n",
       "   Attr61   Attr62  Attr63   Attr64  class  \n",
       "0  5.1372   82.658  4.4158   7.4277   b'0'  \n",
       "1  3.2732  107.350  3.4000  60.9870   b'0'  \n",
       "2  3.9510  134.270  2.7185   5.2078   b'0'  \n",
       "3  3.6147   86.435  4.2228   5.5497   b'0'  \n",
       "4  4.3158  127.210  2.8692   7.8980   b'0'  \n",
       "\n",
       "[5 rows x 65 columns]"
      ]
     },
     "execution_count": 75,
     "metadata": {},
     "output_type": "execute_result"
    }
   ],
   "source": [
    "from scipy.io import arff\n",
    "import pandas as pd\n",
    "\n",
    "data = arff.loadarff('1year.arff')\n",
    "df = pd.DataFrame(data[0])\n",
    "\n",
    "df.head()"
   ]
  },
  {
   "cell_type": "code",
   "execution_count": 40,
   "metadata": {},
   "outputs": [],
   "source": [
    "data2 = arff.loadarff('2year.arff')\n",
    "df2 = pd.DataFrame(data2[0])\n",
    "\n",
    "data3 = arff.loadarff('3year.arff')\n",
    "df3 = pd.DataFrame(data3[0])\n",
    "\n",
    "data4 = arff.loadarff('4year.arff')\n",
    "df4 = pd.DataFrame(data4[0])\n",
    "\n",
    "data5 = arff.loadarff('5year.arff')\n",
    "df5 = pd.DataFrame(data5[0])"
   ]
  },
  {
   "cell_type": "code",
   "execution_count": 41,
   "metadata": {},
   "outputs": [],
   "source": [
    "final = df.append([df2,df3,df4,df5])"
   ]
  },
  {
   "cell_type": "code",
   "execution_count": 42,
   "metadata": {},
   "outputs": [
    {
     "data": {
      "text/plain": [
       "(43405, 65)"
      ]
     },
     "execution_count": 42,
     "metadata": {},
     "output_type": "execute_result"
    }
   ],
   "source": [
    "final.shape"
   ]
  },
  {
   "cell_type": "code",
   "execution_count": 82,
   "metadata": {},
   "outputs": [],
   "source": [
    "df.to_csv('df.csv')"
   ]
  },
  {
   "cell_type": "code",
   "execution_count": null,
   "metadata": {},
   "outputs": [],
   "source": []
  },
  {
   "cell_type": "code",
   "execution_count": 5,
   "metadata": {},
   "outputs": [],
   "source": [
    "import matplotlib\n",
    "import missingno as msno\n",
    "%matplotlib inline"
   ]
  },
  {
   "cell_type": "code",
   "execution_count": null,
   "metadata": {},
   "outputs": [],
   "source": [
    "#df.rename(columns={'Attr1': 'newName1', 'oldName2': 'newName2'}, inplace=True)"
   ]
  },
  {
   "cell_type": "code",
   "execution_count": 5,
   "metadata": {},
   "outputs": [],
   "source": [
    "train = df.iloc[:,:64]\n",
    "train_labels = df.iloc[:,np.r_[64]]"
   ]
  },
  {
   "cell_type": "code",
   "execution_count": 6,
   "metadata": {},
   "outputs": [],
   "source": [
    "missingdata_df = df.isnull().any()"
   ]
  },
  {
   "cell_type": "code",
   "execution_count": 7,
   "metadata": {},
   "outputs": [
    {
     "data": {
      "text/plain": [
       "[True,\n",
       " True,\n",
       " True,\n",
       " True,\n",
       " True,\n",
       " True,\n",
       " True,\n",
       " True,\n",
       " True,\n",
       " True,\n",
       " True,\n",
       " True,\n",
       " False,\n",
       " True,\n",
       " True,\n",
       " True,\n",
       " True,\n",
       " True,\n",
       " False,\n",
       " False,\n",
       " True,\n",
       " True,\n",
       " False,\n",
       " True,\n",
       " True,\n",
       " True,\n",
       " True,\n",
       " True,\n",
       " True,\n",
       " False,\n",
       " False,\n",
       " True,\n",
       " True,\n",
       " True,\n",
       " True,\n",
       " True,\n",
       " True,\n",
       " True,\n",
       " False,\n",
       " True,\n",
       " True,\n",
       " False,\n",
       " False,\n",
       " False,\n",
       " True,\n",
       " True,\n",
       " True,\n",
       " True,\n",
       " False,\n",
       " True,\n",
       " True,\n",
       " True,\n",
       " True,\n",
       " True,\n",
       " False,\n",
       " False,\n",
       " True,\n",
       " False,\n",
       " True,\n",
       " True,\n",
       " True,\n",
       " False,\n",
       " True,\n",
       " True,\n",
       " False]"
      ]
     },
     "execution_count": 7,
     "metadata": {},
     "output_type": "execute_result"
    }
   ],
   "source": [
    "columns_missing  =  list(missingdata_df)\n",
    "columns_missing"
   ]
  },
  {
   "cell_type": "code",
   "execution_count": 48,
   "metadata": {},
   "outputs": [
    {
     "data": {
      "text/plain": [
       "<matplotlib.axes._subplots.AxesSubplot at 0x1f695f66828>"
      ]
     },
     "execution_count": 48,
     "metadata": {},
     "output_type": "execute_result"
    },
    {
     "data": {
      "image/png": "[encoded data removed]",
      "text/plain": [
       "<Figure size 1800x720 with 2 Axes>"
      ]
     },
     "metadata": {
      "needs_background": "light"
     },
     "output_type": "display_data"
    }
   ],
   "source": [
    "msno.matrix(df)"
   ]
  },
  {
   "cell_type": "code",
   "execution_count": 87,
   "metadata": {},
   "outputs": [
    {
     "data": {
      "text/plain": [
       "<matplotlib.axes._subplots.AxesSubplot at 0x262acc6b320>"
      ]
     },
     "execution_count": 87,
     "metadata": {},
     "output_type": "execute_result"
    },
    {
     "data": {
      "image/png": "[encoded data removed]",
      "text/plain": [
       "<Figure size 1440x720 with 2 Axes>"
      ]
     },
     "metadata": {
      "needs_background": "light"
     },
     "output_type": "display_data"
    }
   ],
   "source": [
    "msno.bar(df,color = \"green\",figsize = (20,10))"
   ]
  },
  {
   "cell_type": "code",
   "execution_count": null,
   "metadata": {},
   "outputs": [],
   "source": []
  },
  {
   "cell_type": "code",
   "execution_count": null,
   "metadata": {},
   "outputs": [],
   "source": []
  },
  {
   "cell_type": "code",
   "execution_count": 99,
   "metadata": {},
   "outputs": [],
   "source": [
    "##two columns dropped\n",
    "df_new = df.iloc[:,np.r_[0:20,21:36,37:65]]"
   ]
  },
  {
   "cell_type": "code",
   "execution_count": 78,
   "metadata": {},
   "outputs": [
    {
     "data": {
      "text/html": [
       "<div>\n",
       "<style scoped>\n",
       "    .dataframe tbody tr th:only-of-type {\n",
       "        vertical-align: middle;\n",
       "    }\n",
       "\n",
       "    .dataframe tbody tr th {\n",
       "        vertical-align: top;\n",
       "    }\n",
       "\n",
       "    .dataframe thead th {\n",
       "        text-align: right;\n",
       "    }\n",
       "</style>\n",
       "<table border=\"1\" class=\"dataframe\">\n",
       "  <thead>\n",
       "    <tr style=\"text-align: right;\">\n",
       "      <th></th>\n",
       "      <th>Attr1</th>\n",
       "      <th>Attr2</th>\n",
       "      <th>Attr3</th>\n",
       "      <th>Attr4</th>\n",
       "      <th>Attr5</th>\n",
       "      <th>Attr6</th>\n",
       "      <th>Attr7</th>\n",
       "      <th>Attr8</th>\n",
       "      <th>Attr9</th>\n",
       "      <th>Attr10</th>\n",
       "      <th>...</th>\n",
       "      <th>Attr56</th>\n",
       "      <th>Attr57</th>\n",
       "      <th>Attr58</th>\n",
       "      <th>Attr59</th>\n",
       "      <th>Attr60</th>\n",
       "      <th>Attr61</th>\n",
       "      <th>Attr62</th>\n",
       "      <th>Attr63</th>\n",
       "      <th>Attr64</th>\n",
       "      <th>class</th>\n",
       "    </tr>\n",
       "  </thead>\n",
       "  <tbody>\n",
       "    <tr>\n",
       "      <th>0</th>\n",
       "      <td>0.200550</td>\n",
       "      <td>0.379510</td>\n",
       "      <td>0.396410</td>\n",
       "      <td>2.04720</td>\n",
       "      <td>32.3510</td>\n",
       "      <td>0.388250</td>\n",
       "      <td>0.249760</td>\n",
       "      <td>1.330500</td>\n",
       "      <td>1.13890</td>\n",
       "      <td>0.504940</td>\n",
       "      <td>...</td>\n",
       "      <td>0.121960</td>\n",
       "      <td>0.397180</td>\n",
       "      <td>0.87804</td>\n",
       "      <td>0.001924</td>\n",
       "      <td>8.4160</td>\n",
       "      <td>5.1372</td>\n",
       "      <td>82.65800</td>\n",
       "      <td>4.41580</td>\n",
       "      <td>7.42770</td>\n",
       "      <td>b'0'</td>\n",
       "    </tr>\n",
       "    <tr>\n",
       "      <th>1</th>\n",
       "      <td>0.209120</td>\n",
       "      <td>0.499880</td>\n",
       "      <td>0.472250</td>\n",
       "      <td>1.94470</td>\n",
       "      <td>14.7860</td>\n",
       "      <td>0.000000</td>\n",
       "      <td>0.258340</td>\n",
       "      <td>0.996010</td>\n",
       "      <td>1.69960</td>\n",
       "      <td>0.497880</td>\n",
       "      <td>...</td>\n",
       "      <td>0.121300</td>\n",
       "      <td>0.420020</td>\n",
       "      <td>0.85300</td>\n",
       "      <td>0.000000</td>\n",
       "      <td>4.1486</td>\n",
       "      <td>3.2732</td>\n",
       "      <td>107.35000</td>\n",
       "      <td>3.40000</td>\n",
       "      <td>60.98700</td>\n",
       "      <td>b'0'</td>\n",
       "    </tr>\n",
       "    <tr>\n",
       "      <th>2</th>\n",
       "      <td>0.248660</td>\n",
       "      <td>0.695920</td>\n",
       "      <td>0.267130</td>\n",
       "      <td>1.55480</td>\n",
       "      <td>-1.1523</td>\n",
       "      <td>0.000000</td>\n",
       "      <td>0.309060</td>\n",
       "      <td>0.436950</td>\n",
       "      <td>1.30900</td>\n",
       "      <td>0.304080</td>\n",
       "      <td>...</td>\n",
       "      <td>0.241140</td>\n",
       "      <td>0.817740</td>\n",
       "      <td>0.76599</td>\n",
       "      <td>0.694840</td>\n",
       "      <td>4.9909</td>\n",
       "      <td>3.9510</td>\n",
       "      <td>134.27000</td>\n",
       "      <td>2.71850</td>\n",
       "      <td>5.20780</td>\n",
       "      <td>b'0'</td>\n",
       "    </tr>\n",
       "    <tr>\n",
       "      <th>3</th>\n",
       "      <td>0.081483</td>\n",
       "      <td>0.307340</td>\n",
       "      <td>0.458790</td>\n",
       "      <td>2.49280</td>\n",
       "      <td>51.9520</td>\n",
       "      <td>0.149880</td>\n",
       "      <td>0.092704</td>\n",
       "      <td>1.866100</td>\n",
       "      <td>1.05710</td>\n",
       "      <td>0.573530</td>\n",
       "      <td>...</td>\n",
       "      <td>0.054015</td>\n",
       "      <td>0.142070</td>\n",
       "      <td>0.94598</td>\n",
       "      <td>0.000000</td>\n",
       "      <td>4.5746</td>\n",
       "      <td>3.6147</td>\n",
       "      <td>86.43500</td>\n",
       "      <td>4.22280</td>\n",
       "      <td>5.54970</td>\n",
       "      <td>b'0'</td>\n",
       "    </tr>\n",
       "    <tr>\n",
       "      <th>4</th>\n",
       "      <td>0.187320</td>\n",
       "      <td>0.613230</td>\n",
       "      <td>0.229600</td>\n",
       "      <td>1.40630</td>\n",
       "      <td>-7.3128</td>\n",
       "      <td>0.187320</td>\n",
       "      <td>0.187320</td>\n",
       "      <td>0.630700</td>\n",
       "      <td>1.15590</td>\n",
       "      <td>0.386770</td>\n",
       "      <td>...</td>\n",
       "      <td>0.134850</td>\n",
       "      <td>0.484310</td>\n",
       "      <td>0.86515</td>\n",
       "      <td>0.124440</td>\n",
       "      <td>6.3985</td>\n",
       "      <td>4.3158</td>\n",
       "      <td>127.21000</td>\n",
       "      <td>2.86920</td>\n",
       "      <td>7.89800</td>\n",
       "      <td>b'0'</td>\n",
       "    </tr>\n",
       "    <tr>\n",
       "      <th>5</th>\n",
       "      <td>0.228220</td>\n",
       "      <td>0.497940</td>\n",
       "      <td>0.359690</td>\n",
       "      <td>1.75020</td>\n",
       "      <td>-47.7170</td>\n",
       "      <td>0.000000</td>\n",
       "      <td>0.281390</td>\n",
       "      <td>1.008300</td>\n",
       "      <td>1.97860</td>\n",
       "      <td>0.502060</td>\n",
       "      <td>...</td>\n",
       "      <td>0.139320</td>\n",
       "      <td>0.454570</td>\n",
       "      <td>0.85891</td>\n",
       "      <td>0.023002</td>\n",
       "      <td>3.4028</td>\n",
       "      <td>8.9949</td>\n",
       "      <td>88.44400</td>\n",
       "      <td>4.12690</td>\n",
       "      <td>12.29900</td>\n",
       "      <td>b'0'</td>\n",
       "    </tr>\n",
       "    <tr>\n",
       "      <th>6</th>\n",
       "      <td>0.111090</td>\n",
       "      <td>0.647440</td>\n",
       "      <td>0.289710</td>\n",
       "      <td>1.47050</td>\n",
       "      <td>2.5349</td>\n",
       "      <td>0.000000</td>\n",
       "      <td>0.111090</td>\n",
       "      <td>0.544540</td>\n",
       "      <td>1.73480</td>\n",
       "      <td>0.352560</td>\n",
       "      <td>...</td>\n",
       "      <td>0.605900</td>\n",
       "      <td>0.315100</td>\n",
       "      <td>0.40871</td>\n",
       "      <td>0.000000</td>\n",
       "      <td>6.3222</td>\n",
       "      <td>2.9098</td>\n",
       "      <td>129.55000</td>\n",
       "      <td>2.81730</td>\n",
       "      <td>18.35200</td>\n",
       "      <td>b'0'</td>\n",
       "    </tr>\n",
       "    <tr>\n",
       "      <th>7</th>\n",
       "      <td>0.532320</td>\n",
       "      <td>0.027059</td>\n",
       "      <td>0.705540</td>\n",
       "      <td>53.95400</td>\n",
       "      <td>299.5800</td>\n",
       "      <td>0.000000</td>\n",
       "      <td>0.652400</td>\n",
       "      <td>35.957000</td>\n",
       "      <td>0.65273</td>\n",
       "      <td>0.972940</td>\n",
       "      <td>...</td>\n",
       "      <td>0.086730</td>\n",
       "      <td>0.547130</td>\n",
       "      <td>0.49521</td>\n",
       "      <td>0.013194</td>\n",
       "      <td>9.1300</td>\n",
       "      <td>82.0500</td>\n",
       "      <td>7.45030</td>\n",
       "      <td>48.99100</td>\n",
       "      <td>2.32170</td>\n",
       "      <td>b'0'</td>\n",
       "    </tr>\n",
       "    <tr>\n",
       "      <th>8</th>\n",
       "      <td>0.009020</td>\n",
       "      <td>0.632020</td>\n",
       "      <td>0.053735</td>\n",
       "      <td>1.12630</td>\n",
       "      <td>-37.8420</td>\n",
       "      <td>0.000000</td>\n",
       "      <td>0.014434</td>\n",
       "      <td>0.582230</td>\n",
       "      <td>1.33320</td>\n",
       "      <td>0.367980</td>\n",
       "      <td>...</td>\n",
       "      <td>0.180110</td>\n",
       "      <td>0.024512</td>\n",
       "      <td>0.84165</td>\n",
       "      <td>0.340940</td>\n",
       "      <td>9.9665</td>\n",
       "      <td>4.2382</td>\n",
       "      <td>116.50000</td>\n",
       "      <td>3.13300</td>\n",
       "      <td>2.56030</td>\n",
       "      <td>b'0'</td>\n",
       "    </tr>\n",
       "    <tr>\n",
       "      <th>9</th>\n",
       "      <td>0.124080</td>\n",
       "      <td>0.838370</td>\n",
       "      <td>0.142040</td>\n",
       "      <td>1.16940</td>\n",
       "      <td>-91.8830</td>\n",
       "      <td>0.000000</td>\n",
       "      <td>0.153280</td>\n",
       "      <td>0.192790</td>\n",
       "      <td>2.11560</td>\n",
       "      <td>0.161630</td>\n",
       "      <td>...</td>\n",
       "      <td>0.079665</td>\n",
       "      <td>0.767680</td>\n",
       "      <td>0.92847</td>\n",
       "      <td>0.000000</td>\n",
       "      <td>3.3192</td>\n",
       "      <td>6.4994</td>\n",
       "      <td>144.63000</td>\n",
       "      <td>2.52360</td>\n",
       "      <td>107.67000</td>\n",
       "      <td>b'0'</td>\n",
       "    </tr>\n",
       "    <tr>\n",
       "      <th>10</th>\n",
       "      <td>0.240010</td>\n",
       "      <td>0.443550</td>\n",
       "      <td>0.188350</td>\n",
       "      <td>1.44000</td>\n",
       "      <td>-21.1650</td>\n",
       "      <td>-0.931900</td>\n",
       "      <td>0.240010</td>\n",
       "      <td>1.254500</td>\n",
       "      <td>4.74470</td>\n",
       "      <td>0.556450</td>\n",
       "      <td>...</td>\n",
       "      <td>0.353590</td>\n",
       "      <td>0.431320</td>\n",
       "      <td>0.64794</td>\n",
       "      <td>0.000000</td>\n",
       "      <td>16.5710</td>\n",
       "      <td>17.0870</td>\n",
       "      <td>32.92800</td>\n",
       "      <td>11.08500</td>\n",
       "      <td>12.36900</td>\n",
       "      <td>b'0'</td>\n",
       "    </tr>\n",
       "    <tr>\n",
       "      <th>11</th>\n",
       "      <td>-0.027117</td>\n",
       "      <td>0.111480</td>\n",
       "      <td>0.119890</td>\n",
       "      <td>2.07540</td>\n",
       "      <td>-31.6430</td>\n",
       "      <td>-0.084883</td>\n",
       "      <td>-0.024300</td>\n",
       "      <td>7.674100</td>\n",
       "      <td>0.90732</td>\n",
       "      <td>0.855510</td>\n",
       "      <td>...</td>\n",
       "      <td>-0.102140</td>\n",
       "      <td>-0.031697</td>\n",
       "      <td>1.10210</td>\n",
       "      <td>0.000000</td>\n",
       "      <td>3.6683</td>\n",
       "      <td>13.4610</td>\n",
       "      <td>76.73200</td>\n",
       "      <td>4.75680</td>\n",
       "      <td>0.68991</td>\n",
       "      <td>b'0'</td>\n",
       "    </tr>\n",
       "    <tr>\n",
       "      <th>12</th>\n",
       "      <td>0.266690</td>\n",
       "      <td>0.349940</td>\n",
       "      <td>0.611470</td>\n",
       "      <td>3.02430</td>\n",
       "      <td>43.0870</td>\n",
       "      <td>0.559830</td>\n",
       "      <td>0.332070</td>\n",
       "      <td>1.857700</td>\n",
       "      <td>1.12680</td>\n",
       "      <td>0.650060</td>\n",
       "      <td>...</td>\n",
       "      <td>0.112500</td>\n",
       "      <td>0.410250</td>\n",
       "      <td>0.88750</td>\n",
       "      <td>0.073630</td>\n",
       "      <td>9.5593</td>\n",
       "      <td>5.6298</td>\n",
       "      <td>38.16800</td>\n",
       "      <td>9.56290</td>\n",
       "      <td>33.41300</td>\n",
       "      <td>b'0'</td>\n",
       "    </tr>\n",
       "    <tr>\n",
       "      <th>13</th>\n",
       "      <td>0.067731</td>\n",
       "      <td>0.198850</td>\n",
       "      <td>0.081562</td>\n",
       "      <td>2.95760</td>\n",
       "      <td>90.6060</td>\n",
       "      <td>0.212650</td>\n",
       "      <td>0.078063</td>\n",
       "      <td>4.029000</td>\n",
       "      <td>1.25700</td>\n",
       "      <td>0.801150</td>\n",
       "      <td>...</td>\n",
       "      <td>0.204440</td>\n",
       "      <td>0.084542</td>\n",
       "      <td>0.79556</td>\n",
       "      <td>0.196190</td>\n",
       "      <td>8.2122</td>\n",
       "      <td>2.7917</td>\n",
       "      <td>60.21800</td>\n",
       "      <td>6.06130</td>\n",
       "      <td>0.28803</td>\n",
       "      <td>b'0'</td>\n",
       "    </tr>\n",
       "    <tr>\n",
       "      <th>14</th>\n",
       "      <td>-0.029182</td>\n",
       "      <td>0.211310</td>\n",
       "      <td>0.452640</td>\n",
       "      <td>7.57460</td>\n",
       "      <td>57.8440</td>\n",
       "      <td>0.010387</td>\n",
       "      <td>-0.034653</td>\n",
       "      <td>3.732400</td>\n",
       "      <td>1.02410</td>\n",
       "      <td>0.788690</td>\n",
       "      <td>...</td>\n",
       "      <td>0.023565</td>\n",
       "      <td>-0.037001</td>\n",
       "      <td>0.97644</td>\n",
       "      <td>0.180630</td>\n",
       "      <td>3.4646</td>\n",
       "      <td>11.3380</td>\n",
       "      <td>31.80700</td>\n",
       "      <td>11.47500</td>\n",
       "      <td>1.65110</td>\n",
       "      <td>b'0'</td>\n",
       "    </tr>\n",
       "    <tr>\n",
       "      <th>15</th>\n",
       "      <td>-0.033801</td>\n",
       "      <td>1.154000</td>\n",
       "      <td>-0.205990</td>\n",
       "      <td>0.82150</td>\n",
       "      <td>-74.4510</td>\n",
       "      <td>-0.104130</td>\n",
       "      <td>-0.033801</td>\n",
       "      <td>-0.159000</td>\n",
       "      <td>0.97767</td>\n",
       "      <td>-0.183490</td>\n",
       "      <td>...</td>\n",
       "      <td>-0.022837</td>\n",
       "      <td>0.184210</td>\n",
       "      <td>1.02280</td>\n",
       "      <td>0.000000</td>\n",
       "      <td>8.2894</td>\n",
       "      <td>3.9519</td>\n",
       "      <td>182.81000</td>\n",
       "      <td>1.99660</td>\n",
       "      <td>44.29600</td>\n",
       "      <td>b'0'</td>\n",
       "    </tr>\n",
       "    <tr>\n",
       "      <th>16</th>\n",
       "      <td>0.270530</td>\n",
       "      <td>0.299130</td>\n",
       "      <td>0.468700</td>\n",
       "      <td>2.56690</td>\n",
       "      <td>73.3950</td>\n",
       "      <td>0.727930</td>\n",
       "      <td>0.336190</td>\n",
       "      <td>2.231500</td>\n",
       "      <td>1.22140</td>\n",
       "      <td>0.667500</td>\n",
       "      <td>...</td>\n",
       "      <td>0.181270</td>\n",
       "      <td>0.405290</td>\n",
       "      <td>0.81873</td>\n",
       "      <td>0.000000</td>\n",
       "      <td>11.0660</td>\n",
       "      <td>4.1474</td>\n",
       "      <td>60.29700</td>\n",
       "      <td>6.05340</td>\n",
       "      <td>7.79900</td>\n",
       "      <td>b'0'</td>\n",
       "    </tr>\n",
       "    <tr>\n",
       "      <th>17</th>\n",
       "      <td>0.028084</td>\n",
       "      <td>0.242310</td>\n",
       "      <td>0.432240</td>\n",
       "      <td>3.01280</td>\n",
       "      <td>47.9350</td>\n",
       "      <td>0.021598</td>\n",
       "      <td>0.039729</td>\n",
       "      <td>3.103700</td>\n",
       "      <td>1.01250</td>\n",
       "      <td>0.752060</td>\n",
       "      <td>...</td>\n",
       "      <td>0.012367</td>\n",
       "      <td>0.037342</td>\n",
       "      <td>0.98763</td>\n",
       "      <td>0.036647</td>\n",
       "      <td>10.0740</td>\n",
       "      <td>12.3780</td>\n",
       "      <td>41.48500</td>\n",
       "      <td>8.79840</td>\n",
       "      <td>5.35230</td>\n",
       "      <td>b'0'</td>\n",
       "    </tr>\n",
       "    <tr>\n",
       "      <th>18</th>\n",
       "      <td>0.203930</td>\n",
       "      <td>0.560370</td>\n",
       "      <td>0.134950</td>\n",
       "      <td>1.24080</td>\n",
       "      <td>3.1580</td>\n",
       "      <td>0.000000</td>\n",
       "      <td>0.242910</td>\n",
       "      <td>0.784520</td>\n",
       "      <td>2.27060</td>\n",
       "      <td>0.439630</td>\n",
       "      <td>...</td>\n",
       "      <td>0.107700</td>\n",
       "      <td>0.463860</td>\n",
       "      <td>0.89419</td>\n",
       "      <td>0.000000</td>\n",
       "      <td>24.9790</td>\n",
       "      <td>10.7670</td>\n",
       "      <td>90.08000</td>\n",
       "      <td>4.05190</td>\n",
       "      <td>7.45250</td>\n",
       "      <td>b'0'</td>\n",
       "    </tr>\n",
       "    <tr>\n",
       "      <th>19</th>\n",
       "      <td>0.208760</td>\n",
       "      <td>0.496500</td>\n",
       "      <td>0.425480</td>\n",
       "      <td>2.01900</td>\n",
       "      <td>38.9340</td>\n",
       "      <td>0.005436</td>\n",
       "      <td>0.256190</td>\n",
       "      <td>1.014100</td>\n",
       "      <td>2.28270</td>\n",
       "      <td>0.503500</td>\n",
       "      <td>...</td>\n",
       "      <td>0.112990</td>\n",
       "      <td>0.414620</td>\n",
       "      <td>0.88859</td>\n",
       "      <td>0.046947</td>\n",
       "      <td>12.6730</td>\n",
       "      <td>4.5996</td>\n",
       "      <td>66.76400</td>\n",
       "      <td>5.46700</td>\n",
       "      <td>14.54200</td>\n",
       "      <td>b'0'</td>\n",
       "    </tr>\n",
       "    <tr>\n",
       "      <th>20</th>\n",
       "      <td>0.111190</td>\n",
       "      <td>0.631740</td>\n",
       "      <td>0.247960</td>\n",
       "      <td>2.00000</td>\n",
       "      <td>58.1540</td>\n",
       "      <td>0.243470</td>\n",
       "      <td>0.139090</td>\n",
       "      <td>0.582940</td>\n",
       "      <td>0.99034</td>\n",
       "      <td>0.368260</td>\n",
       "      <td>...</td>\n",
       "      <td>0.152540</td>\n",
       "      <td>0.301920</td>\n",
       "      <td>0.86275</td>\n",
       "      <td>1.030700</td>\n",
       "      <td>9.7941</td>\n",
       "      <td>2.6129</td>\n",
       "      <td>91.38800</td>\n",
       "      <td>3.99400</td>\n",
       "      <td>1.96520</td>\n",
       "      <td>b'0'</td>\n",
       "    </tr>\n",
       "    <tr>\n",
       "      <th>21</th>\n",
       "      <td>-0.305050</td>\n",
       "      <td>1.252300</td>\n",
       "      <td>-0.292220</td>\n",
       "      <td>0.71426</td>\n",
       "      <td>-214.9100</td>\n",
       "      <td>-0.305050</td>\n",
       "      <td>-0.305050</td>\n",
       "      <td>-0.253440</td>\n",
       "      <td>0.77037</td>\n",
       "      <td>-0.317380</td>\n",
       "      <td>...</td>\n",
       "      <td>-0.298090</td>\n",
       "      <td>0.961150</td>\n",
       "      <td>1.29810</td>\n",
       "      <td>-0.723530</td>\n",
       "      <td>2.4756</td>\n",
       "      <td>2.3377</td>\n",
       "      <td>447.81000</td>\n",
       "      <td>0.81507</td>\n",
       "      <td>3.09250</td>\n",
       "      <td>b'0'</td>\n",
       "    </tr>\n",
       "    <tr>\n",
       "      <th>22</th>\n",
       "      <td>0.127090</td>\n",
       "      <td>0.530500</td>\n",
       "      <td>0.380690</td>\n",
       "      <td>1.71980</td>\n",
       "      <td>-27.6180</td>\n",
       "      <td>0.000000</td>\n",
       "      <td>0.156110</td>\n",
       "      <td>0.885000</td>\n",
       "      <td>2.13220</td>\n",
       "      <td>0.469500</td>\n",
       "      <td>...</td>\n",
       "      <td>0.053878</td>\n",
       "      <td>0.270680</td>\n",
       "      <td>0.92918</td>\n",
       "      <td>0.000000</td>\n",
       "      <td>4.0360</td>\n",
       "      <td>5.9864</td>\n",
       "      <td>90.54000</td>\n",
       "      <td>4.03140</td>\n",
       "      <td>23.58700</td>\n",
       "      <td>b'0'</td>\n",
       "    </tr>\n",
       "    <tr>\n",
       "      <th>23</th>\n",
       "      <td>0.126240</td>\n",
       "      <td>0.662860</td>\n",
       "      <td>0.219160</td>\n",
       "      <td>1.35530</td>\n",
       "      <td>21.5880</td>\n",
       "      <td>0.020227</td>\n",
       "      <td>0.156330</td>\n",
       "      <td>0.508620</td>\n",
       "      <td>1.71300</td>\n",
       "      <td>0.337140</td>\n",
       "      <td>...</td>\n",
       "      <td>0.089183</td>\n",
       "      <td>0.374450</td>\n",
       "      <td>0.90914</td>\n",
       "      <td>0.110410</td>\n",
       "      <td>13.5630</td>\n",
       "      <td>2.4747</td>\n",
       "      <td>131.42000</td>\n",
       "      <td>2.77740</td>\n",
       "      <td>10.44000</td>\n",
       "      <td>b'0'</td>\n",
       "    </tr>\n",
       "    <tr>\n",
       "      <th>24</th>\n",
       "      <td>0.292640</td>\n",
       "      <td>0.292520</td>\n",
       "      <td>0.344150</td>\n",
       "      <td>2.32700</td>\n",
       "      <td>108.0700</td>\n",
       "      <td>0.000000</td>\n",
       "      <td>0.361310</td>\n",
       "      <td>2.418500</td>\n",
       "      <td>1.25120</td>\n",
       "      <td>0.707480</td>\n",
       "      <td>...</td>\n",
       "      <td>0.286920</td>\n",
       "      <td>0.413650</td>\n",
       "      <td>0.71408</td>\n",
       "      <td>0.000000</td>\n",
       "      <td>15.3400</td>\n",
       "      <td>2.4188</td>\n",
       "      <td>75.65300</td>\n",
       "      <td>4.82470</td>\n",
       "      <td>3.15560</td>\n",
       "      <td>b'0'</td>\n",
       "    </tr>\n",
       "    <tr>\n",
       "      <th>25</th>\n",
       "      <td>0.079997</td>\n",
       "      <td>0.239670</td>\n",
       "      <td>0.321240</td>\n",
       "      <td>2.47390</td>\n",
       "      <td>8.1087</td>\n",
       "      <td>0.207430</td>\n",
       "      <td>0.069715</td>\n",
       "      <td>2.546600</td>\n",
       "      <td>1.05560</td>\n",
       "      <td>0.610340</td>\n",
       "      <td>...</td>\n",
       "      <td>0.052697</td>\n",
       "      <td>0.131070</td>\n",
       "      <td>0.94730</td>\n",
       "      <td>0.035588</td>\n",
       "      <td>6.1579</td>\n",
       "      <td>10.2190</td>\n",
       "      <td>45.42200</td>\n",
       "      <td>8.03580</td>\n",
       "      <td>3.80070</td>\n",
       "      <td>b'0'</td>\n",
       "    </tr>\n",
       "    <tr>\n",
       "      <th>26</th>\n",
       "      <td>0.208170</td>\n",
       "      <td>0.602400</td>\n",
       "      <td>0.479350</td>\n",
       "      <td>2.18830</td>\n",
       "      <td>69.6590</td>\n",
       "      <td>0.000000</td>\n",
       "      <td>0.259110</td>\n",
       "      <td>0.660020</td>\n",
       "      <td>1.69230</td>\n",
       "      <td>0.397600</td>\n",
       "      <td>...</td>\n",
       "      <td>0.182420</td>\n",
       "      <td>0.523570</td>\n",
       "      <td>0.84731</td>\n",
       "      <td>0.000000</td>\n",
       "      <td>8.3634</td>\n",
       "      <td>2.6362</td>\n",
       "      <td>87.01000</td>\n",
       "      <td>4.19490</td>\n",
       "      <td>14.43400</td>\n",
       "      <td>b'0'</td>\n",
       "    </tr>\n",
       "    <tr>\n",
       "      <th>27</th>\n",
       "      <td>0.263450</td>\n",
       "      <td>0.143180</td>\n",
       "      <td>0.619650</td>\n",
       "      <td>5.32770</td>\n",
       "      <td>198.9500</td>\n",
       "      <td>0.559710</td>\n",
       "      <td>0.321420</td>\n",
       "      <td>5.862400</td>\n",
       "      <td>1.34370</td>\n",
       "      <td>0.839400</td>\n",
       "      <td>...</td>\n",
       "      <td>0.255780</td>\n",
       "      <td>0.313850</td>\n",
       "      <td>0.74422</td>\n",
       "      <td>0.000000</td>\n",
       "      <td>8.1287</td>\n",
       "      <td>4.0062</td>\n",
       "      <td>43.82100</td>\n",
       "      <td>8.32940</td>\n",
       "      <td>5.02860</td>\n",
       "      <td>b'0'</td>\n",
       "    </tr>\n",
       "    <tr>\n",
       "      <th>28</th>\n",
       "      <td>-0.054623</td>\n",
       "      <td>0.928570</td>\n",
       "      <td>-0.026927</td>\n",
       "      <td>0.94263</td>\n",
       "      <td>-87.7240</td>\n",
       "      <td>-0.054623</td>\n",
       "      <td>-0.054623</td>\n",
       "      <td>0.074796</td>\n",
       "      <td>0.92301</td>\n",
       "      <td>0.069453</td>\n",
       "      <td>...</td>\n",
       "      <td>-0.083417</td>\n",
       "      <td>-0.786480</td>\n",
       "      <td>1.08340</td>\n",
       "      <td>6.611400</td>\n",
       "      <td>4.7055</td>\n",
       "      <td>3.1662</td>\n",
       "      <td>226.76000</td>\n",
       "      <td>1.60960</td>\n",
       "      <td>1.35510</td>\n",
       "      <td>b'0'</td>\n",
       "    </tr>\n",
       "    <tr>\n",
       "      <th>29</th>\n",
       "      <td>-0.358840</td>\n",
       "      <td>1.117100</td>\n",
       "      <td>-0.465770</td>\n",
       "      <td>0.46115</td>\n",
       "      <td>-152.2100</td>\n",
       "      <td>-1.175200</td>\n",
       "      <td>-0.358840</td>\n",
       "      <td>-0.112060</td>\n",
       "      <td>0.97154</td>\n",
       "      <td>-0.125180</td>\n",
       "      <td>...</td>\n",
       "      <td>-0.029298</td>\n",
       "      <td>2.866600</td>\n",
       "      <td>1.02930</td>\n",
       "      <td>-2.019000</td>\n",
       "      <td>8.9776</td>\n",
       "      <td>11.5070</td>\n",
       "      <td>197.43000</td>\n",
       "      <td>1.84880</td>\n",
       "      <td>2.65720</td>\n",
       "      <td>b'0'</td>\n",
       "    </tr>\n",
       "    <tr>\n",
       "      <th>...</th>\n",
       "      <td>...</td>\n",
       "      <td>...</td>\n",
       "      <td>...</td>\n",
       "      <td>...</td>\n",
       "      <td>...</td>\n",
       "      <td>...</td>\n",
       "      <td>...</td>\n",
       "      <td>...</td>\n",
       "      <td>...</td>\n",
       "      <td>...</td>\n",
       "      <td>...</td>\n",
       "      <td>...</td>\n",
       "      <td>...</td>\n",
       "      <td>...</td>\n",
       "      <td>...</td>\n",
       "      <td>...</td>\n",
       "      <td>...</td>\n",
       "      <td>...</td>\n",
       "      <td>...</td>\n",
       "      <td>...</td>\n",
       "      <td>...</td>\n",
       "    </tr>\n",
       "    <tr>\n",
       "      <th>6997</th>\n",
       "      <td>0.003802</td>\n",
       "      <td>0.141440</td>\n",
       "      <td>0.449040</td>\n",
       "      <td>4.17480</td>\n",
       "      <td>60.8960</td>\n",
       "      <td>0.003802</td>\n",
       "      <td>-0.004791</td>\n",
       "      <td>5.952200</td>\n",
       "      <td>0.99613</td>\n",
       "      <td>0.841880</td>\n",
       "      <td>...</td>\n",
       "      <td>-0.003885</td>\n",
       "      <td>0.004516</td>\n",
       "      <td>1.00390</td>\n",
       "      <td>0.000000</td>\n",
       "      <td>7.5574</td>\n",
       "      <td>4.5153</td>\n",
       "      <td>34.11700</td>\n",
       "      <td>10.69800</td>\n",
       "      <td>3.69500</td>\n",
       "      <td>b'1'</td>\n",
       "    </tr>\n",
       "    <tr>\n",
       "      <th>6998</th>\n",
       "      <td>-0.018516</td>\n",
       "      <td>0.328860</td>\n",
       "      <td>0.069952</td>\n",
       "      <td>1.25700</td>\n",
       "      <td>-29.2980</td>\n",
       "      <td>0.000000</td>\n",
       "      <td>-0.018781</td>\n",
       "      <td>2.040800</td>\n",
       "      <td>1.11420</td>\n",
       "      <td>0.671130</td>\n",
       "      <td>...</td>\n",
       "      <td>-0.031889</td>\n",
       "      <td>-0.027589</td>\n",
       "      <td>1.01620</td>\n",
       "      <td>0.039008</td>\n",
       "      <td>9.3983</td>\n",
       "      <td>6.3408</td>\n",
       "      <td>89.16300</td>\n",
       "      <td>4.09360</td>\n",
       "      <td>1.69370</td>\n",
       "      <td>b'1'</td>\n",
       "    </tr>\n",
       "    <tr>\n",
       "      <th>6999</th>\n",
       "      <td>0.022830</td>\n",
       "      <td>0.711320</td>\n",
       "      <td>-0.060759</td>\n",
       "      <td>0.69120</td>\n",
       "      <td>-14.0810</td>\n",
       "      <td>-0.048958</td>\n",
       "      <td>0.024774</td>\n",
       "      <td>0.405840</td>\n",
       "      <td>2.34630</td>\n",
       "      <td>0.288680</td>\n",
       "      <td>...</td>\n",
       "      <td>0.004260</td>\n",
       "      <td>0.079084</td>\n",
       "      <td>0.97892</td>\n",
       "      <td>0.654850</td>\n",
       "      <td>83.1690</td>\n",
       "      <td>25.4370</td>\n",
       "      <td>30.60800</td>\n",
       "      <td>11.92500</td>\n",
       "      <td>2.71560</td>\n",
       "      <td>b'1'</td>\n",
       "    </tr>\n",
       "    <tr>\n",
       "      <th>7000</th>\n",
       "      <td>-0.000153</td>\n",
       "      <td>0.505820</td>\n",
       "      <td>-0.421270</td>\n",
       "      <td>0.15367</td>\n",
       "      <td>-883.0300</td>\n",
       "      <td>-0.000153</td>\n",
       "      <td>-0.004183</td>\n",
       "      <td>0.451220</td>\n",
       "      <td>0.91488</td>\n",
       "      <td>0.228240</td>\n",
       "      <td>...</td>\n",
       "      <td>-0.093040</td>\n",
       "      <td>-0.000669</td>\n",
       "      <td>1.09300</td>\n",
       "      <td>0.035313</td>\n",
       "      <td>NaN</td>\n",
       "      <td>2.2655</td>\n",
       "      <td>1094.00000</td>\n",
       "      <td>0.33365</td>\n",
       "      <td>0.17983</td>\n",
       "      <td>b'1'</td>\n",
       "    </tr>\n",
       "    <tr>\n",
       "      <th>7001</th>\n",
       "      <td>-0.289710</td>\n",
       "      <td>1.187400</td>\n",
       "      <td>-0.465320</td>\n",
       "      <td>0.53814</td>\n",
       "      <td>-223.2800</td>\n",
       "      <td>-0.289710</td>\n",
       "      <td>-0.289710</td>\n",
       "      <td>-0.158310</td>\n",
       "      <td>0.81801</td>\n",
       "      <td>-0.187980</td>\n",
       "      <td>...</td>\n",
       "      <td>-0.222480</td>\n",
       "      <td>1.541200</td>\n",
       "      <td>1.22250</td>\n",
       "      <td>-0.956790</td>\n",
       "      <td>3.7491</td>\n",
       "      <td>4.1109</td>\n",
       "      <td>354.26000</td>\n",
       "      <td>1.03030</td>\n",
       "      <td>2.28260</td>\n",
       "      <td>b'1'</td>\n",
       "    </tr>\n",
       "    <tr>\n",
       "      <th>7002</th>\n",
       "      <td>0.009313</td>\n",
       "      <td>0.617610</td>\n",
       "      <td>-0.222330</td>\n",
       "      <td>0.60119</td>\n",
       "      <td>-62.6300</td>\n",
       "      <td>0.000000</td>\n",
       "      <td>0.014544</td>\n",
       "      <td>0.619150</td>\n",
       "      <td>2.08020</td>\n",
       "      <td>0.382390</td>\n",
       "      <td>...</td>\n",
       "      <td>0.008170</td>\n",
       "      <td>0.024354</td>\n",
       "      <td>1.00190</td>\n",
       "      <td>0.071883</td>\n",
       "      <td>20.0000</td>\n",
       "      <td>10.0800</td>\n",
       "      <td>97.81900</td>\n",
       "      <td>3.73140</td>\n",
       "      <td>3.12880</td>\n",
       "      <td>b'1'</td>\n",
       "    </tr>\n",
       "    <tr>\n",
       "      <th>7003</th>\n",
       "      <td>0.167730</td>\n",
       "      <td>0.773890</td>\n",
       "      <td>0.166630</td>\n",
       "      <td>1.24140</td>\n",
       "      <td>-28.0390</td>\n",
       "      <td>0.000000</td>\n",
       "      <td>0.217420</td>\n",
       "      <td>0.292170</td>\n",
       "      <td>4.88180</td>\n",
       "      <td>0.226110</td>\n",
       "      <td>...</td>\n",
       "      <td>0.043982</td>\n",
       "      <td>0.741830</td>\n",
       "      <td>0.95170</td>\n",
       "      <td>0.000000</td>\n",
       "      <td>9.3158</td>\n",
       "      <td>15.9310</td>\n",
       "      <td>51.61100</td>\n",
       "      <td>7.07220</td>\n",
       "      <td>34.13400</td>\n",
       "      <td>b'1'</td>\n",
       "    </tr>\n",
       "    <tr>\n",
       "      <th>7004</th>\n",
       "      <td>-0.330330</td>\n",
       "      <td>0.932660</td>\n",
       "      <td>-0.476930</td>\n",
       "      <td>0.48863</td>\n",
       "      <td>-350.8300</td>\n",
       "      <td>-0.330330</td>\n",
       "      <td>-0.330330</td>\n",
       "      <td>0.068734</td>\n",
       "      <td>0.70565</td>\n",
       "      <td>0.064105</td>\n",
       "      <td>...</td>\n",
       "      <td>-0.417130</td>\n",
       "      <td>-5.153000</td>\n",
       "      <td>1.41710</td>\n",
       "      <td>0.000000</td>\n",
       "      <td>1.8878</td>\n",
       "      <td>7.5244</td>\n",
       "      <td>504.65000</td>\n",
       "      <td>0.72328</td>\n",
       "      <td>1.23940</td>\n",
       "      <td>b'1'</td>\n",
       "    </tr>\n",
       "    <tr>\n",
       "      <th>7005</th>\n",
       "      <td>0.046080</td>\n",
       "      <td>0.003824</td>\n",
       "      <td>0.996180</td>\n",
       "      <td>261.50000</td>\n",
       "      <td>174.3300</td>\n",
       "      <td>0.000000</td>\n",
       "      <td>0.046080</td>\n",
       "      <td>260.500000</td>\n",
       "      <td>2.08780</td>\n",
       "      <td>0.996180</td>\n",
       "      <td>...</td>\n",
       "      <td>0.019324</td>\n",
       "      <td>0.046257</td>\n",
       "      <td>0.97800</td>\n",
       "      <td>0.000000</td>\n",
       "      <td>NaN</td>\n",
       "      <td>6.4192</td>\n",
       "      <td>0.66856</td>\n",
       "      <td>545.95000</td>\n",
       "      <td>NaN</td>\n",
       "      <td>b'1'</td>\n",
       "    </tr>\n",
       "    <tr>\n",
       "      <th>7006</th>\n",
       "      <td>0.133310</td>\n",
       "      <td>0.164510</td>\n",
       "      <td>0.400840</td>\n",
       "      <td>3.43660</td>\n",
       "      <td>2.8373</td>\n",
       "      <td>0.000000</td>\n",
       "      <td>0.169280</td>\n",
       "      <td>5.078600</td>\n",
       "      <td>3.65580</td>\n",
       "      <td>0.835490</td>\n",
       "      <td>...</td>\n",
       "      <td>0.066065</td>\n",
       "      <td>0.159550</td>\n",
       "      <td>0.94701</td>\n",
       "      <td>0.000000</td>\n",
       "      <td>9.8104</td>\n",
       "      <td>21.3280</td>\n",
       "      <td>16.42500</td>\n",
       "      <td>22.22200</td>\n",
       "      <td>8.41110</td>\n",
       "      <td>b'1'</td>\n",
       "    </tr>\n",
       "    <tr>\n",
       "      <th>7007</th>\n",
       "      <td>0.038665</td>\n",
       "      <td>0.071884</td>\n",
       "      <td>0.488840</td>\n",
       "      <td>7.80040</td>\n",
       "      <td>221.0100</td>\n",
       "      <td>0.038665</td>\n",
       "      <td>0.045892</td>\n",
       "      <td>11.068000</td>\n",
       "      <td>1.07650</td>\n",
       "      <td>0.795600</td>\n",
       "      <td>...</td>\n",
       "      <td>0.071070</td>\n",
       "      <td>0.048599</td>\n",
       "      <td>0.92893</td>\n",
       "      <td>0.000000</td>\n",
       "      <td>2.1470</td>\n",
       "      <td>1.4679</td>\n",
       "      <td>53.73500</td>\n",
       "      <td>6.79260</td>\n",
       "      <td>1.11160</td>\n",
       "      <td>b'1'</td>\n",
       "    </tr>\n",
       "    <tr>\n",
       "      <th>7008</th>\n",
       "      <td>0.001091</td>\n",
       "      <td>0.851600</td>\n",
       "      <td>0.003463</td>\n",
       "      <td>1.00860</td>\n",
       "      <td>-44.4670</td>\n",
       "      <td>0.086248</td>\n",
       "      <td>0.001091</td>\n",
       "      <td>0.174290</td>\n",
       "      <td>1.02970</td>\n",
       "      <td>0.148420</td>\n",
       "      <td>...</td>\n",
       "      <td>-0.198900</td>\n",
       "      <td>0.007349</td>\n",
       "      <td>0.97403</td>\n",
       "      <td>2.033100</td>\n",
       "      <td>6.8515</td>\n",
       "      <td>4.1096</td>\n",
       "      <td>142.83000</td>\n",
       "      <td>2.55560</td>\n",
       "      <td>1.73460</td>\n",
       "      <td>b'1'</td>\n",
       "    </tr>\n",
       "    <tr>\n",
       "      <th>7009</th>\n",
       "      <td>-0.091442</td>\n",
       "      <td>0.705500</td>\n",
       "      <td>-0.047216</td>\n",
       "      <td>0.92568</td>\n",
       "      <td>-7.2952</td>\n",
       "      <td>0.000000</td>\n",
       "      <td>-0.090374</td>\n",
       "      <td>0.417440</td>\n",
       "      <td>9.13450</td>\n",
       "      <td>0.294500</td>\n",
       "      <td>...</td>\n",
       "      <td>0.000966</td>\n",
       "      <td>-0.310490</td>\n",
       "      <td>1.00740</td>\n",
       "      <td>0.077583</td>\n",
       "      <td>72.8930</td>\n",
       "      <td>20.7900</td>\n",
       "      <td>25.38400</td>\n",
       "      <td>14.37900</td>\n",
       "      <td>22.18000</td>\n",
       "      <td>b'1'</td>\n",
       "    </tr>\n",
       "    <tr>\n",
       "      <th>7010</th>\n",
       "      <td>0.138090</td>\n",
       "      <td>3.335700</td>\n",
       "      <td>-2.364000</td>\n",
       "      <td>0.29128</td>\n",
       "      <td>-88.3820</td>\n",
       "      <td>-3.396300</td>\n",
       "      <td>0.138090</td>\n",
       "      <td>-0.700210</td>\n",
       "      <td>9.98520</td>\n",
       "      <td>-2.335700</td>\n",
       "      <td>...</td>\n",
       "      <td>0.011347</td>\n",
       "      <td>-0.059122</td>\n",
       "      <td>0.97866</td>\n",
       "      <td>0.000000</td>\n",
       "      <td>231.9000</td>\n",
       "      <td>12.6510</td>\n",
       "      <td>121.93000</td>\n",
       "      <td>2.99350</td>\n",
       "      <td>351.85000</td>\n",
       "      <td>b'1'</td>\n",
       "    </tr>\n",
       "    <tr>\n",
       "      <th>7011</th>\n",
       "      <td>0.098271</td>\n",
       "      <td>0.833300</td>\n",
       "      <td>0.000426</td>\n",
       "      <td>1.00050</td>\n",
       "      <td>-43.1910</td>\n",
       "      <td>0.000000</td>\n",
       "      <td>0.128380</td>\n",
       "      <td>0.200190</td>\n",
       "      <td>2.51440</td>\n",
       "      <td>0.166820</td>\n",
       "      <td>...</td>\n",
       "      <td>0.150320</td>\n",
       "      <td>0.589090</td>\n",
       "      <td>0.85877</td>\n",
       "      <td>0.000000</td>\n",
       "      <td>9.2728</td>\n",
       "      <td>4.9207</td>\n",
       "      <td>116.48000</td>\n",
       "      <td>3.13360</td>\n",
       "      <td>12.74800</td>\n",
       "      <td>b'1'</td>\n",
       "    </tr>\n",
       "    <tr>\n",
       "      <th>7012</th>\n",
       "      <td>0.006404</td>\n",
       "      <td>0.674770</td>\n",
       "      <td>-0.008438</td>\n",
       "      <td>0.98668</td>\n",
       "      <td>-45.5990</td>\n",
       "      <td>0.000000</td>\n",
       "      <td>0.009958</td>\n",
       "      <td>0.482000</td>\n",
       "      <td>1.91090</td>\n",
       "      <td>0.325230</td>\n",
       "      <td>...</td>\n",
       "      <td>0.180200</td>\n",
       "      <td>0.019690</td>\n",
       "      <td>0.81928</td>\n",
       "      <td>0.000000</td>\n",
       "      <td>8.9144</td>\n",
       "      <td>4.9967</td>\n",
       "      <td>121.00000</td>\n",
       "      <td>3.01640</td>\n",
       "      <td>5.09650</td>\n",
       "      <td>b'1'</td>\n",
       "    </tr>\n",
       "    <tr>\n",
       "      <th>7013</th>\n",
       "      <td>0.037953</td>\n",
       "      <td>0.122390</td>\n",
       "      <td>0.230840</td>\n",
       "      <td>2.88600</td>\n",
       "      <td>19.5810</td>\n",
       "      <td>0.037953</td>\n",
       "      <td>0.040082</td>\n",
       "      <td>6.886400</td>\n",
       "      <td>0.98825</td>\n",
       "      <td>0.842840</td>\n",
       "      <td>...</td>\n",
       "      <td>-0.011887</td>\n",
       "      <td>0.045030</td>\n",
       "      <td>1.01190</td>\n",
       "      <td>0.000000</td>\n",
       "      <td>3.8809</td>\n",
       "      <td>34.6410</td>\n",
       "      <td>60.06000</td>\n",
       "      <td>6.07730</td>\n",
       "      <td>1.15040</td>\n",
       "      <td>b'1'</td>\n",
       "    </tr>\n",
       "    <tr>\n",
       "      <th>7014</th>\n",
       "      <td>0.161170</td>\n",
       "      <td>0.072135</td>\n",
       "      <td>0.636490</td>\n",
       "      <td>12.02500</td>\n",
       "      <td>178.9000</td>\n",
       "      <td>0.000000</td>\n",
       "      <td>0.199860</td>\n",
       "      <td>12.863000</td>\n",
       "      <td>1.29080</td>\n",
       "      <td>0.927860</td>\n",
       "      <td>...</td>\n",
       "      <td>0.150780</td>\n",
       "      <td>0.173710</td>\n",
       "      <td>0.84152</td>\n",
       "      <td>0.000000</td>\n",
       "      <td>12.2700</td>\n",
       "      <td>6.3165</td>\n",
       "      <td>16.32500</td>\n",
       "      <td>22.35800</td>\n",
       "      <td>4.22300</td>\n",
       "      <td>b'1'</td>\n",
       "    </tr>\n",
       "    <tr>\n",
       "      <th>7015</th>\n",
       "      <td>0.019432</td>\n",
       "      <td>0.616330</td>\n",
       "      <td>0.057718</td>\n",
       "      <td>1.10620</td>\n",
       "      <td>-162.8800</td>\n",
       "      <td>0.019432</td>\n",
       "      <td>0.008018</td>\n",
       "      <td>-0.232850</td>\n",
       "      <td>1.06560</td>\n",
       "      <td>-0.143510</td>\n",
       "      <td>...</td>\n",
       "      <td>0.061544</td>\n",
       "      <td>-0.135400</td>\n",
       "      <td>0.93846</td>\n",
       "      <td>-0.508510</td>\n",
       "      <td>2.1849</td>\n",
       "      <td>16.6580</td>\n",
       "      <td>179.33000</td>\n",
       "      <td>2.03540</td>\n",
       "      <td>2.77270</td>\n",
       "      <td>b'1'</td>\n",
       "    </tr>\n",
       "    <tr>\n",
       "      <th>7016</th>\n",
       "      <td>0.022707</td>\n",
       "      <td>0.598550</td>\n",
       "      <td>-0.152680</td>\n",
       "      <td>0.65004</td>\n",
       "      <td>-55.4880</td>\n",
       "      <td>0.022707</td>\n",
       "      <td>0.023087</td>\n",
       "      <td>0.666780</td>\n",
       "      <td>0.99912</td>\n",
       "      <td>0.399100</td>\n",
       "      <td>...</td>\n",
       "      <td>-0.000878</td>\n",
       "      <td>0.056896</td>\n",
       "      <td>1.00090</td>\n",
       "      <td>0.406580</td>\n",
       "      <td>15.1100</td>\n",
       "      <td>13.1450</td>\n",
       "      <td>83.39800</td>\n",
       "      <td>4.37660</td>\n",
       "      <td>2.66530</td>\n",
       "      <td>b'1'</td>\n",
       "    </tr>\n",
       "    <tr>\n",
       "      <th>7017</th>\n",
       "      <td>0.015903</td>\n",
       "      <td>0.730140</td>\n",
       "      <td>0.083767</td>\n",
       "      <td>1.28650</td>\n",
       "      <td>-19.8070</td>\n",
       "      <td>0.000000</td>\n",
       "      <td>0.020462</td>\n",
       "      <td>0.369610</td>\n",
       "      <td>2.19550</td>\n",
       "      <td>0.269860</td>\n",
       "      <td>...</td>\n",
       "      <td>0.031304</td>\n",
       "      <td>0.058928</td>\n",
       "      <td>1.00160</td>\n",
       "      <td>1.470900</td>\n",
       "      <td>11.0380</td>\n",
       "      <td>12.5620</td>\n",
       "      <td>48.60000</td>\n",
       "      <td>7.51020</td>\n",
       "      <td>3.51900</td>\n",
       "      <td>b'1'</td>\n",
       "    </tr>\n",
       "    <tr>\n",
       "      <th>7018</th>\n",
       "      <td>-0.051896</td>\n",
       "      <td>0.536300</td>\n",
       "      <td>0.054014</td>\n",
       "      <td>1.10610</td>\n",
       "      <td>-9.7422</td>\n",
       "      <td>-0.051896</td>\n",
       "      <td>-0.051896</td>\n",
       "      <td>0.686440</td>\n",
       "      <td>0.98574</td>\n",
       "      <td>0.368140</td>\n",
       "      <td>...</td>\n",
       "      <td>-0.014470</td>\n",
       "      <td>-0.140970</td>\n",
       "      <td>1.01450</td>\n",
       "      <td>0.073630</td>\n",
       "      <td>21.6900</td>\n",
       "      <td>13.7120</td>\n",
       "      <td>66.22400</td>\n",
       "      <td>5.51160</td>\n",
       "      <td>6.42520</td>\n",
       "      <td>b'1'</td>\n",
       "    </tr>\n",
       "    <tr>\n",
       "      <th>7019</th>\n",
       "      <td>-0.031617</td>\n",
       "      <td>0.811750</td>\n",
       "      <td>-0.202300</td>\n",
       "      <td>0.61087</td>\n",
       "      <td>-44.0110</td>\n",
       "      <td>0.000000</td>\n",
       "      <td>-0.031617</td>\n",
       "      <td>0.231900</td>\n",
       "      <td>3.03470</td>\n",
       "      <td>0.188250</td>\n",
       "      <td>...</td>\n",
       "      <td>0.018387</td>\n",
       "      <td>-0.167950</td>\n",
       "      <td>0.98125</td>\n",
       "      <td>1.101500</td>\n",
       "      <td>20.3810</td>\n",
       "      <td>20.3950</td>\n",
       "      <td>62.52900</td>\n",
       "      <td>5.83730</td>\n",
       "      <td>4.44690</td>\n",
       "      <td>b'1'</td>\n",
       "    </tr>\n",
       "    <tr>\n",
       "      <th>7020</th>\n",
       "      <td>0.025664</td>\n",
       "      <td>0.762040</td>\n",
       "      <td>0.091220</td>\n",
       "      <td>1.12630</td>\n",
       "      <td>-62.1550</td>\n",
       "      <td>0.025664</td>\n",
       "      <td>0.037809</td>\n",
       "      <td>0.213700</td>\n",
       "      <td>1.06870</td>\n",
       "      <td>0.162850</td>\n",
       "      <td>...</td>\n",
       "      <td>0.064291</td>\n",
       "      <td>0.157590</td>\n",
       "      <td>0.93571</td>\n",
       "      <td>0.245150</td>\n",
       "      <td>4.8872</td>\n",
       "      <td>3.6692</td>\n",
       "      <td>158.21000</td>\n",
       "      <td>2.30710</td>\n",
       "      <td>8.92490</td>\n",
       "      <td>b'1'</td>\n",
       "    </tr>\n",
       "    <tr>\n",
       "      <th>7021</th>\n",
       "      <td>0.069049</td>\n",
       "      <td>0.682320</td>\n",
       "      <td>0.069829</td>\n",
       "      <td>1.12710</td>\n",
       "      <td>-54.5330</td>\n",
       "      <td>0.069049</td>\n",
       "      <td>0.075024</td>\n",
       "      <td>0.424540</td>\n",
       "      <td>1.05380</td>\n",
       "      <td>0.289670</td>\n",
       "      <td>...</td>\n",
       "      <td>0.051048</td>\n",
       "      <td>0.238370</td>\n",
       "      <td>0.94895</td>\n",
       "      <td>0.458290</td>\n",
       "      <td>5.5224</td>\n",
       "      <td>3.9048</td>\n",
       "      <td>145.40000</td>\n",
       "      <td>2.51040</td>\n",
       "      <td>3.62500</td>\n",
       "      <td>b'1'</td>\n",
       "    </tr>\n",
       "    <tr>\n",
       "      <th>7022</th>\n",
       "      <td>0.018371</td>\n",
       "      <td>0.474100</td>\n",
       "      <td>-0.136190</td>\n",
       "      <td>0.60839</td>\n",
       "      <td>-18.4490</td>\n",
       "      <td>0.018371</td>\n",
       "      <td>0.018371</td>\n",
       "      <td>0.972030</td>\n",
       "      <td>1.01210</td>\n",
       "      <td>0.460840</td>\n",
       "      <td>...</td>\n",
       "      <td>0.011909</td>\n",
       "      <td>0.039866</td>\n",
       "      <td>0.98809</td>\n",
       "      <td>0.274140</td>\n",
       "      <td>73.5050</td>\n",
       "      <td>79.2370</td>\n",
       "      <td>31.26800</td>\n",
       "      <td>11.67300</td>\n",
       "      <td>5.14890</td>\n",
       "      <td>b'1'</td>\n",
       "    </tr>\n",
       "    <tr>\n",
       "      <th>7023</th>\n",
       "      <td>-0.013359</td>\n",
       "      <td>0.583540</td>\n",
       "      <td>-0.022650</td>\n",
       "      <td>0.92896</td>\n",
       "      <td>-42.2320</td>\n",
       "      <td>-0.013359</td>\n",
       "      <td>-0.015036</td>\n",
       "      <td>0.562890</td>\n",
       "      <td>0.98904</td>\n",
       "      <td>0.328470</td>\n",
       "      <td>...</td>\n",
       "      <td>-0.011082</td>\n",
       "      <td>-0.040671</td>\n",
       "      <td>1.01110</td>\n",
       "      <td>0.805920</td>\n",
       "      <td>10.5990</td>\n",
       "      <td>7.1740</td>\n",
       "      <td>94.09200</td>\n",
       "      <td>3.87920</td>\n",
       "      <td>1.75720</td>\n",
       "      <td>b'1'</td>\n",
       "    </tr>\n",
       "    <tr>\n",
       "      <th>7024</th>\n",
       "      <td>0.006338</td>\n",
       "      <td>0.502760</td>\n",
       "      <td>0.439230</td>\n",
       "      <td>1.87360</td>\n",
       "      <td>9.7417</td>\n",
       "      <td>0.006338</td>\n",
       "      <td>0.012022</td>\n",
       "      <td>0.983560</td>\n",
       "      <td>1.00830</td>\n",
       "      <td>0.494490</td>\n",
       "      <td>...</td>\n",
       "      <td>0.008258</td>\n",
       "      <td>0.012817</td>\n",
       "      <td>0.99174</td>\n",
       "      <td>0.000000</td>\n",
       "      <td>10.4700</td>\n",
       "      <td>6.0759</td>\n",
       "      <td>51.01900</td>\n",
       "      <td>7.15420</td>\n",
       "      <td>62.00100</td>\n",
       "      <td>b'1'</td>\n",
       "    </tr>\n",
       "    <tr>\n",
       "      <th>7025</th>\n",
       "      <td>-0.041643</td>\n",
       "      <td>0.848100</td>\n",
       "      <td>-0.128520</td>\n",
       "      <td>0.57485</td>\n",
       "      <td>-121.9200</td>\n",
       "      <td>0.000000</td>\n",
       "      <td>-0.036795</td>\n",
       "      <td>0.179010</td>\n",
       "      <td>0.42138</td>\n",
       "      <td>0.151820</td>\n",
       "      <td>...</td>\n",
       "      <td>-0.232720</td>\n",
       "      <td>-0.274290</td>\n",
       "      <td>0.98788</td>\n",
       "      <td>3.593100</td>\n",
       "      <td>39.7030</td>\n",
       "      <td>3.1420</td>\n",
       "      <td>261.85000</td>\n",
       "      <td>1.39390</td>\n",
       "      <td>0.51005</td>\n",
       "      <td>b'1'</td>\n",
       "    </tr>\n",
       "    <tr>\n",
       "      <th>7026</th>\n",
       "      <td>0.014946</td>\n",
       "      <td>0.946480</td>\n",
       "      <td>0.032110</td>\n",
       "      <td>1.03630</td>\n",
       "      <td>-20.5810</td>\n",
       "      <td>0.000000</td>\n",
       "      <td>0.015260</td>\n",
       "      <td>0.056357</td>\n",
       "      <td>2.96940</td>\n",
       "      <td>0.053341</td>\n",
       "      <td>...</td>\n",
       "      <td>0.015705</td>\n",
       "      <td>0.280210</td>\n",
       "      <td>0.97443</td>\n",
       "      <td>1.179200</td>\n",
       "      <td>15.0360</td>\n",
       "      <td>4.1741</td>\n",
       "      <td>108.64000</td>\n",
       "      <td>3.35990</td>\n",
       "      <td>35.11800</td>\n",
       "      <td>b'1'</td>\n",
       "    </tr>\n",
       "  </tbody>\n",
       "</table>\n",
       "<p>7027 rows × 63 columns</p>\n",
       "</div>"
      ],
      "text/plain": [
       "         Attr1     Attr2     Attr3      Attr4     Attr5     Attr6     Attr7  \\\n",
       "0     0.200550  0.379510  0.396410    2.04720   32.3510  0.388250  0.249760   \n",
       "1     0.209120  0.499880  0.472250    1.94470   14.7860  0.000000  0.258340   \n",
       "2     0.248660  0.695920  0.267130    1.55480   -1.1523  0.000000  0.309060   \n",
       "3     0.081483  0.307340  0.458790    2.49280   51.9520  0.149880  0.092704   \n",
       "4     0.187320  0.613230  0.229600    1.40630   -7.3128  0.187320  0.187320   \n",
       "5     0.228220  0.497940  0.359690    1.75020  -47.7170  0.000000  0.281390   \n",
       "6     0.111090  0.647440  0.289710    1.47050    2.5349  0.000000  0.111090   \n",
       "7     0.532320  0.027059  0.705540   53.95400  299.5800  0.000000  0.652400   \n",
       "8     0.009020  0.632020  0.053735    1.12630  -37.8420  0.000000  0.014434   \n",
       "9     0.124080  0.838370  0.142040    1.16940  -91.8830  0.000000  0.153280   \n",
       "10    0.240010  0.443550  0.188350    1.44000  -21.1650 -0.931900  0.240010   \n",
       "11   -0.027117  0.111480  0.119890    2.07540  -31.6430 -0.084883 -0.024300   \n",
       "12    0.266690  0.349940  0.611470    3.02430   43.0870  0.559830  0.332070   \n",
       "13    0.067731  0.198850  0.081562    2.95760   90.6060  0.212650  0.078063   \n",
       "14   -0.029182  0.211310  0.452640    7.57460   57.8440  0.010387 -0.034653   \n",
       "15   -0.033801  1.154000 -0.205990    0.82150  -74.4510 -0.104130 -0.033801   \n",
       "16    0.270530  0.299130  0.468700    2.56690   73.3950  0.727930  0.336190   \n",
       "17    0.028084  0.242310  0.432240    3.01280   47.9350  0.021598  0.039729   \n",
       "18    0.203930  0.560370  0.134950    1.24080    3.1580  0.000000  0.242910   \n",
       "19    0.208760  0.496500  0.425480    2.01900   38.9340  0.005436  0.256190   \n",
       "20    0.111190  0.631740  0.247960    2.00000   58.1540  0.243470  0.139090   \n",
       "21   -0.305050  1.252300 -0.292220    0.71426 -214.9100 -0.305050 -0.305050   \n",
       "22    0.127090  0.530500  0.380690    1.71980  -27.6180  0.000000  0.156110   \n",
       "23    0.126240  0.662860  0.219160    1.35530   21.5880  0.020227  0.156330   \n",
       "24    0.292640  0.292520  0.344150    2.32700  108.0700  0.000000  0.361310   \n",
       "25    0.079997  0.239670  0.321240    2.47390    8.1087  0.207430  0.069715   \n",
       "26    0.208170  0.602400  0.479350    2.18830   69.6590  0.000000  0.259110   \n",
       "27    0.263450  0.143180  0.619650    5.32770  198.9500  0.559710  0.321420   \n",
       "28   -0.054623  0.928570 -0.026927    0.94263  -87.7240 -0.054623 -0.054623   \n",
       "29   -0.358840  1.117100 -0.465770    0.46115 -152.2100 -1.175200 -0.358840   \n",
       "...        ...       ...       ...        ...       ...       ...       ...   \n",
       "6997  0.003802  0.141440  0.449040    4.17480   60.8960  0.003802 -0.004791   \n",
       "6998 -0.018516  0.328860  0.069952    1.25700  -29.2980  0.000000 -0.018781   \n",
       "6999  0.022830  0.711320 -0.060759    0.69120  -14.0810 -0.048958  0.024774   \n",
       "7000 -0.000153  0.505820 -0.421270    0.15367 -883.0300 -0.000153 -0.004183   \n",
       "7001 -0.289710  1.187400 -0.465320    0.53814 -223.2800 -0.289710 -0.289710   \n",
       "7002  0.009313  0.617610 -0.222330    0.60119  -62.6300  0.000000  0.014544   \n",
       "7003  0.167730  0.773890  0.166630    1.24140  -28.0390  0.000000  0.217420   \n",
       "7004 -0.330330  0.932660 -0.476930    0.48863 -350.8300 -0.330330 -0.330330   \n",
       "7005  0.046080  0.003824  0.996180  261.50000  174.3300  0.000000  0.046080   \n",
       "7006  0.133310  0.164510  0.400840    3.43660    2.8373  0.000000  0.169280   \n",
       "7007  0.038665  0.071884  0.488840    7.80040  221.0100  0.038665  0.045892   \n",
       "7008  0.001091  0.851600  0.003463    1.00860  -44.4670  0.086248  0.001091   \n",
       "7009 -0.091442  0.705500 -0.047216    0.92568   -7.2952  0.000000 -0.090374   \n",
       "7010  0.138090  3.335700 -2.364000    0.29128  -88.3820 -3.396300  0.138090   \n",
       "7011  0.098271  0.833300  0.000426    1.00050  -43.1910  0.000000  0.128380   \n",
       "7012  0.006404  0.674770 -0.008438    0.98668  -45.5990  0.000000  0.009958   \n",
       "7013  0.037953  0.122390  0.230840    2.88600   19.5810  0.037953  0.040082   \n",
       "7014  0.161170  0.072135  0.636490   12.02500  178.9000  0.000000  0.199860   \n",
       "7015  0.019432  0.616330  0.057718    1.10620 -162.8800  0.019432  0.008018   \n",
       "7016  0.022707  0.598550 -0.152680    0.65004  -55.4880  0.022707  0.023087   \n",
       "7017  0.015903  0.730140  0.083767    1.28650  -19.8070  0.000000  0.020462   \n",
       "7018 -0.051896  0.536300  0.054014    1.10610   -9.7422 -0.051896 -0.051896   \n",
       "7019 -0.031617  0.811750 -0.202300    0.61087  -44.0110  0.000000 -0.031617   \n",
       "7020  0.025664  0.762040  0.091220    1.12630  -62.1550  0.025664  0.037809   \n",
       "7021  0.069049  0.682320  0.069829    1.12710  -54.5330  0.069049  0.075024   \n",
       "7022  0.018371  0.474100 -0.136190    0.60839  -18.4490  0.018371  0.018371   \n",
       "7023 -0.013359  0.583540 -0.022650    0.92896  -42.2320 -0.013359 -0.015036   \n",
       "7024  0.006338  0.502760  0.439230    1.87360    9.7417  0.006338  0.012022   \n",
       "7025 -0.041643  0.848100 -0.128520    0.57485 -121.9200  0.000000 -0.036795   \n",
       "7026  0.014946  0.946480  0.032110    1.03630  -20.5810  0.000000  0.015260   \n",
       "\n",
       "           Attr8    Attr9    Attr10  ...      Attr56    Attr57   Attr58  \\\n",
       "0       1.330500  1.13890  0.504940  ...    0.121960  0.397180  0.87804   \n",
       "1       0.996010  1.69960  0.497880  ...    0.121300  0.420020  0.85300   \n",
       "2       0.436950  1.30900  0.304080  ...    0.241140  0.817740  0.76599   \n",
       "3       1.866100  1.05710  0.573530  ...    0.054015  0.142070  0.94598   \n",
       "4       0.630700  1.15590  0.386770  ...    0.134850  0.484310  0.86515   \n",
       "5       1.008300  1.97860  0.502060  ...    0.139320  0.454570  0.85891   \n",
       "6       0.544540  1.73480  0.352560  ...    0.605900  0.315100  0.40871   \n",
       "7      35.957000  0.65273  0.972940  ...    0.086730  0.547130  0.49521   \n",
       "8       0.582230  1.33320  0.367980  ...    0.180110  0.024512  0.84165   \n",
       "9       0.192790  2.11560  0.161630  ...    0.079665  0.767680  0.92847   \n",
       "10      1.254500  4.74470  0.556450  ...    0.353590  0.431320  0.64794   \n",
       "11      7.674100  0.90732  0.855510  ...   -0.102140 -0.031697  1.10210   \n",
       "12      1.857700  1.12680  0.650060  ...    0.112500  0.410250  0.88750   \n",
       "13      4.029000  1.25700  0.801150  ...    0.204440  0.084542  0.79556   \n",
       "14      3.732400  1.02410  0.788690  ...    0.023565 -0.037001  0.97644   \n",
       "15     -0.159000  0.97767 -0.183490  ...   -0.022837  0.184210  1.02280   \n",
       "16      2.231500  1.22140  0.667500  ...    0.181270  0.405290  0.81873   \n",
       "17      3.103700  1.01250  0.752060  ...    0.012367  0.037342  0.98763   \n",
       "18      0.784520  2.27060  0.439630  ...    0.107700  0.463860  0.89419   \n",
       "19      1.014100  2.28270  0.503500  ...    0.112990  0.414620  0.88859   \n",
       "20      0.582940  0.99034  0.368260  ...    0.152540  0.301920  0.86275   \n",
       "21     -0.253440  0.77037 -0.317380  ...   -0.298090  0.961150  1.29810   \n",
       "22      0.885000  2.13220  0.469500  ...    0.053878  0.270680  0.92918   \n",
       "23      0.508620  1.71300  0.337140  ...    0.089183  0.374450  0.90914   \n",
       "24      2.418500  1.25120  0.707480  ...    0.286920  0.413650  0.71408   \n",
       "25      2.546600  1.05560  0.610340  ...    0.052697  0.131070  0.94730   \n",
       "26      0.660020  1.69230  0.397600  ...    0.182420  0.523570  0.84731   \n",
       "27      5.862400  1.34370  0.839400  ...    0.255780  0.313850  0.74422   \n",
       "28      0.074796  0.92301  0.069453  ...   -0.083417 -0.786480  1.08340   \n",
       "29     -0.112060  0.97154 -0.125180  ...   -0.029298  2.866600  1.02930   \n",
       "...          ...      ...       ...  ...         ...       ...      ...   \n",
       "6997    5.952200  0.99613  0.841880  ...   -0.003885  0.004516  1.00390   \n",
       "6998    2.040800  1.11420  0.671130  ...   -0.031889 -0.027589  1.01620   \n",
       "6999    0.405840  2.34630  0.288680  ...    0.004260  0.079084  0.97892   \n",
       "7000    0.451220  0.91488  0.228240  ...   -0.093040 -0.000669  1.09300   \n",
       "7001   -0.158310  0.81801 -0.187980  ...   -0.222480  1.541200  1.22250   \n",
       "7002    0.619150  2.08020  0.382390  ...    0.008170  0.024354  1.00190   \n",
       "7003    0.292170  4.88180  0.226110  ...    0.043982  0.741830  0.95170   \n",
       "7004    0.068734  0.70565  0.064105  ...   -0.417130 -5.153000  1.41710   \n",
       "7005  260.500000  2.08780  0.996180  ...    0.019324  0.046257  0.97800   \n",
       "7006    5.078600  3.65580  0.835490  ...    0.066065  0.159550  0.94701   \n",
       "7007   11.068000  1.07650  0.795600  ...    0.071070  0.048599  0.92893   \n",
       "7008    0.174290  1.02970  0.148420  ...   -0.198900  0.007349  0.97403   \n",
       "7009    0.417440  9.13450  0.294500  ...    0.000966 -0.310490  1.00740   \n",
       "7010   -0.700210  9.98520 -2.335700  ...    0.011347 -0.059122  0.97866   \n",
       "7011    0.200190  2.51440  0.166820  ...    0.150320  0.589090  0.85877   \n",
       "7012    0.482000  1.91090  0.325230  ...    0.180200  0.019690  0.81928   \n",
       "7013    6.886400  0.98825  0.842840  ...   -0.011887  0.045030  1.01190   \n",
       "7014   12.863000  1.29080  0.927860  ...    0.150780  0.173710  0.84152   \n",
       "7015   -0.232850  1.06560 -0.143510  ...    0.061544 -0.135400  0.93846   \n",
       "7016    0.666780  0.99912  0.399100  ...   -0.000878  0.056896  1.00090   \n",
       "7017    0.369610  2.19550  0.269860  ...    0.031304  0.058928  1.00160   \n",
       "7018    0.686440  0.98574  0.368140  ...   -0.014470 -0.140970  1.01450   \n",
       "7019    0.231900  3.03470  0.188250  ...    0.018387 -0.167950  0.98125   \n",
       "7020    0.213700  1.06870  0.162850  ...    0.064291  0.157590  0.93571   \n",
       "7021    0.424540  1.05380  0.289670  ...    0.051048  0.238370  0.94895   \n",
       "7022    0.972030  1.01210  0.460840  ...    0.011909  0.039866  0.98809   \n",
       "7023    0.562890  0.98904  0.328470  ...   -0.011082 -0.040671  1.01110   \n",
       "7024    0.983560  1.00830  0.494490  ...    0.008258  0.012817  0.99174   \n",
       "7025    0.179010  0.42138  0.151820  ...   -0.232720 -0.274290  0.98788   \n",
       "7026    0.056357  2.96940  0.053341  ...    0.015705  0.280210  0.97443   \n",
       "\n",
       "        Attr59    Attr60   Attr61      Attr62     Attr63     Attr64  class  \n",
       "0     0.001924    8.4160   5.1372    82.65800    4.41580    7.42770   b'0'  \n",
       "1     0.000000    4.1486   3.2732   107.35000    3.40000   60.98700   b'0'  \n",
       "2     0.694840    4.9909   3.9510   134.27000    2.71850    5.20780   b'0'  \n",
       "3     0.000000    4.5746   3.6147    86.43500    4.22280    5.54970   b'0'  \n",
       "4     0.124440    6.3985   4.3158   127.21000    2.86920    7.89800   b'0'  \n",
       "5     0.023002    3.4028   8.9949    88.44400    4.12690   12.29900   b'0'  \n",
       "6     0.000000    6.3222   2.9098   129.55000    2.81730   18.35200   b'0'  \n",
       "7     0.013194    9.1300  82.0500     7.45030   48.99100    2.32170   b'0'  \n",
       "8     0.340940    9.9665   4.2382   116.50000    3.13300    2.56030   b'0'  \n",
       "9     0.000000    3.3192   6.4994   144.63000    2.52360  107.67000   b'0'  \n",
       "10    0.000000   16.5710  17.0870    32.92800   11.08500   12.36900   b'0'  \n",
       "11    0.000000    3.6683  13.4610    76.73200    4.75680    0.68991   b'0'  \n",
       "12    0.073630    9.5593   5.6298    38.16800    9.56290   33.41300   b'0'  \n",
       "13    0.196190    8.2122   2.7917    60.21800    6.06130    0.28803   b'0'  \n",
       "14    0.180630    3.4646  11.3380    31.80700   11.47500    1.65110   b'0'  \n",
       "15    0.000000    8.2894   3.9519   182.81000    1.99660   44.29600   b'0'  \n",
       "16    0.000000   11.0660   4.1474    60.29700    6.05340    7.79900   b'0'  \n",
       "17    0.036647   10.0740  12.3780    41.48500    8.79840    5.35230   b'0'  \n",
       "18    0.000000   24.9790  10.7670    90.08000    4.05190    7.45250   b'0'  \n",
       "19    0.046947   12.6730   4.5996    66.76400    5.46700   14.54200   b'0'  \n",
       "20    1.030700    9.7941   2.6129    91.38800    3.99400    1.96520   b'0'  \n",
       "21   -0.723530    2.4756   2.3377   447.81000    0.81507    3.09250   b'0'  \n",
       "22    0.000000    4.0360   5.9864    90.54000    4.03140   23.58700   b'0'  \n",
       "23    0.110410   13.5630   2.4747   131.42000    2.77740   10.44000   b'0'  \n",
       "24    0.000000   15.3400   2.4188    75.65300    4.82470    3.15560   b'0'  \n",
       "25    0.035588    6.1579  10.2190    45.42200    8.03580    3.80070   b'0'  \n",
       "26    0.000000    8.3634   2.6362    87.01000    4.19490   14.43400   b'0'  \n",
       "27    0.000000    8.1287   4.0062    43.82100    8.32940    5.02860   b'0'  \n",
       "28    6.611400    4.7055   3.1662   226.76000    1.60960    1.35510   b'0'  \n",
       "29   -2.019000    8.9776  11.5070   197.43000    1.84880    2.65720   b'0'  \n",
       "...        ...       ...      ...         ...        ...        ...    ...  \n",
       "6997  0.000000    7.5574   4.5153    34.11700   10.69800    3.69500   b'1'  \n",
       "6998  0.039008    9.3983   6.3408    89.16300    4.09360    1.69370   b'1'  \n",
       "6999  0.654850   83.1690  25.4370    30.60800   11.92500    2.71560   b'1'  \n",
       "7000  0.035313       NaN   2.2655  1094.00000    0.33365    0.17983   b'1'  \n",
       "7001 -0.956790    3.7491   4.1109   354.26000    1.03030    2.28260   b'1'  \n",
       "7002  0.071883   20.0000  10.0800    97.81900    3.73140    3.12880   b'1'  \n",
       "7003  0.000000    9.3158  15.9310    51.61100    7.07220   34.13400   b'1'  \n",
       "7004  0.000000    1.8878   7.5244   504.65000    0.72328    1.23940   b'1'  \n",
       "7005  0.000000       NaN   6.4192     0.66856  545.95000        NaN   b'1'  \n",
       "7006  0.000000    9.8104  21.3280    16.42500   22.22200    8.41110   b'1'  \n",
       "7007  0.000000    2.1470   1.4679    53.73500    6.79260    1.11160   b'1'  \n",
       "7008  2.033100    6.8515   4.1096   142.83000    2.55560    1.73460   b'1'  \n",
       "7009  0.077583   72.8930  20.7900    25.38400   14.37900   22.18000   b'1'  \n",
       "7010  0.000000  231.9000  12.6510   121.93000    2.99350  351.85000   b'1'  \n",
       "7011  0.000000    9.2728   4.9207   116.48000    3.13360   12.74800   b'1'  \n",
       "7012  0.000000    8.9144   4.9967   121.00000    3.01640    5.09650   b'1'  \n",
       "7013  0.000000    3.8809  34.6410    60.06000    6.07730    1.15040   b'1'  \n",
       "7014  0.000000   12.2700   6.3165    16.32500   22.35800    4.22300   b'1'  \n",
       "7015 -0.508510    2.1849  16.6580   179.33000    2.03540    2.77270   b'1'  \n",
       "7016  0.406580   15.1100  13.1450    83.39800    4.37660    2.66530   b'1'  \n",
       "7017  1.470900   11.0380  12.5620    48.60000    7.51020    3.51900   b'1'  \n",
       "7018  0.073630   21.6900  13.7120    66.22400    5.51160    6.42520   b'1'  \n",
       "7019  1.101500   20.3810  20.3950    62.52900    5.83730    4.44690   b'1'  \n",
       "7020  0.245150    4.8872   3.6692   158.21000    2.30710    8.92490   b'1'  \n",
       "7021  0.458290    5.5224   3.9048   145.40000    2.51040    3.62500   b'1'  \n",
       "7022  0.274140   73.5050  79.2370    31.26800   11.67300    5.14890   b'1'  \n",
       "7023  0.805920   10.5990   7.1740    94.09200    3.87920    1.75720   b'1'  \n",
       "7024  0.000000   10.4700   6.0759    51.01900    7.15420   62.00100   b'1'  \n",
       "7025  3.593100   39.7030   3.1420   261.85000    1.39390    0.51005   b'1'  \n",
       "7026  1.179200   15.0360   4.1741   108.64000    3.35990   35.11800   b'1'  \n",
       "\n",
       "[7027 rows x 63 columns]"
      ]
     },
     "execution_count": 78,
     "metadata": {},
     "output_type": "execute_result"
    }
   ],
   "source": [
    "df_new"
   ]
  },
  {
   "cell_type": "code",
   "execution_count": 88,
   "metadata": {
    "scrolled": true
   },
   "outputs": [
    {
     "data": {
      "text/plain": [
       "<matplotlib.axes._subplots.AxesSubplot at 0x262acd270f0>"
      ]
     },
     "execution_count": 88,
     "metadata": {},
     "output_type": "execute_result"
    },
    {
     "data": {
      "image/png": "[encoded data removed]",
      "text/plain": [
       "<Figure size 1728x720 with 2 Axes>"
      ]
     },
     "metadata": {
      "needs_background": "light"
     },
     "output_type": "display_data"
    }
   ],
   "source": [
    "msno.bar(df_new)"
   ]
  },
  {
   "cell_type": "code",
   "execution_count": 54,
   "metadata": {},
   "outputs": [
    {
     "data": {
      "text/html": [
       "<div>\n",
       "<style scoped>\n",
       "    .dataframe tbody tr th:only-of-type {\n",
       "        vertical-align: middle;\n",
       "    }\n",
       "\n",
       "    .dataframe tbody tr th {\n",
       "        vertical-align: top;\n",
       "    }\n",
       "\n",
       "    .dataframe thead th {\n",
       "        text-align: right;\n",
       "    }\n",
       "</style>\n",
       "<table border=\"1\" class=\"dataframe\">\n",
       "  <thead>\n",
       "    <tr style=\"text-align: right;\">\n",
       "      <th></th>\n",
       "      <th>Attr1</th>\n",
       "      <th>Attr2</th>\n",
       "      <th>Attr3</th>\n",
       "      <th>Attr4</th>\n",
       "      <th>Attr5</th>\n",
       "      <th>Attr6</th>\n",
       "      <th>Attr7</th>\n",
       "      <th>Attr8</th>\n",
       "      <th>Attr9</th>\n",
       "      <th>Attr10</th>\n",
       "      <th>...</th>\n",
       "      <th>Attr55</th>\n",
       "      <th>Attr56</th>\n",
       "      <th>Attr57</th>\n",
       "      <th>Attr58</th>\n",
       "      <th>Attr59</th>\n",
       "      <th>Attr60</th>\n",
       "      <th>Attr61</th>\n",
       "      <th>Attr62</th>\n",
       "      <th>Attr63</th>\n",
       "      <th>Attr64</th>\n",
       "    </tr>\n",
       "  </thead>\n",
       "  <tbody>\n",
       "    <tr>\n",
       "      <th>count</th>\n",
       "      <td>7024.000000</td>\n",
       "      <td>7024.000000</td>\n",
       "      <td>7024.000000</td>\n",
       "      <td>6997.000000</td>\n",
       "      <td>7.019000e+03</td>\n",
       "      <td>7024.000000</td>\n",
       "      <td>7024.000000</td>\n",
       "      <td>7002.000000</td>\n",
       "      <td>7026.000000</td>\n",
       "      <td>7024.000000</td>\n",
       "      <td>...</td>\n",
       "      <td>7.027000e+03</td>\n",
       "      <td>7.027000e+03</td>\n",
       "      <td>7026.000000</td>\n",
       "      <td>7.027000e+03</td>\n",
       "      <td>7026.000000</td>\n",
       "      <td>6.892000e+03</td>\n",
       "      <td>7005.000000</td>\n",
       "      <td>7.027000e+03</td>\n",
       "      <td>6997.000000</td>\n",
       "      <td>6993.000000</td>\n",
       "    </tr>\n",
       "    <tr>\n",
       "      <th>mean</th>\n",
       "      <td>0.034660</td>\n",
       "      <td>0.560215</td>\n",
       "      <td>0.119969</td>\n",
       "      <td>2.629143</td>\n",
       "      <td>-2.631672e+02</td>\n",
       "      <td>0.059712</td>\n",
       "      <td>0.313876</td>\n",
       "      <td>2.623996</td>\n",
       "      <td>5.552855</td>\n",
       "      <td>1.825832</td>\n",
       "      <td>...</td>\n",
       "      <td>8.855693e+03</td>\n",
       "      <td>-1.577367e+02</td>\n",
       "      <td>0.193243</td>\n",
       "      <td>1.587409e+02</td>\n",
       "      <td>0.277829</td>\n",
       "      <td>4.328830e+02</td>\n",
       "      <td>15.642228</td>\n",
       "      <td>4.763202e+03</td>\n",
       "      <td>8.126852</td>\n",
       "      <td>208.731950</td>\n",
       "    </tr>\n",
       "    <tr>\n",
       "      <th>std</th>\n",
       "      <td>4.565504</td>\n",
       "      <td>5.350084</td>\n",
       "      <td>5.275459</td>\n",
       "      <td>13.257356</td>\n",
       "      <td>3.707460e+04</td>\n",
       "      <td>6.051113</td>\n",
       "      <td>8.353274</td>\n",
       "      <td>18.708327</td>\n",
       "      <td>101.995448</td>\n",
       "      <td>33.836452</td>\n",
       "      <td>...</td>\n",
       "      <td>7.247527e+04</td>\n",
       "      <td>1.322125e+04</td>\n",
       "      <td>4.344046</td>\n",
       "      <td>1.322124e+04</td>\n",
       "      <td>6.339149</td>\n",
       "      <td>2.612802e+04</td>\n",
       "      <td>261.554534</td>\n",
       "      <td>3.107835e+05</td>\n",
       "      <td>19.996419</td>\n",
       "      <td>5140.708804</td>\n",
       "    </tr>\n",
       "    <tr>\n",
       "      <th>min</th>\n",
       "      <td>-256.890000</td>\n",
       "      <td>-72.162000</td>\n",
       "      <td>-440.500000</td>\n",
       "      <td>0.000000</td>\n",
       "      <td>-2.722100e+06</td>\n",
       "      <td>-397.890000</td>\n",
       "      <td>-189.560000</td>\n",
       "      <td>-141.410000</td>\n",
       "      <td>0.000005</td>\n",
       "      <td>-440.550000</td>\n",
       "      <td>...</td>\n",
       "      <td>-8.004700e+05</td>\n",
       "      <td>-1.108300e+06</td>\n",
       "      <td>-315.370000</td>\n",
       "      <td>-4.194000e-03</td>\n",
       "      <td>-327.970000</td>\n",
       "      <td>4.700000e-05</td>\n",
       "      <td>0.000016</td>\n",
       "      <td>0.000000e+00</td>\n",
       "      <td>0.000015</td>\n",
       "      <td>0.000010</td>\n",
       "    </tr>\n",
       "    <tr>\n",
       "      <th>25%</th>\n",
       "      <td>0.021182</td>\n",
       "      <td>0.296678</td>\n",
       "      <td>0.026968</td>\n",
       "      <td>1.063100</td>\n",
       "      <td>-4.449800e+01</td>\n",
       "      <td>0.000000</td>\n",
       "      <td>0.028023</td>\n",
       "      <td>0.445710</td>\n",
       "      <td>1.037225</td>\n",
       "      <td>0.300785</td>\n",
       "      <td>...</td>\n",
       "      <td>9.712000e+01</td>\n",
       "      <td>2.031450e-02</td>\n",
       "      <td>0.056772</td>\n",
       "      <td>8.647650e-01</td>\n",
       "      <td>0.000000</td>\n",
       "      <td>5.923950e+00</td>\n",
       "      <td>4.829000</td>\n",
       "      <td>4.322250e+01</td>\n",
       "      <td>3.425400</td>\n",
       "      <td>2.538600</td>\n",
       "    </tr>\n",
       "    <tr>\n",
       "      <th>50%</th>\n",
       "      <td>0.075802</td>\n",
       "      <td>0.482960</td>\n",
       "      <td>0.181275</td>\n",
       "      <td>1.502000</td>\n",
       "      <td>-5.373900e+00</td>\n",
       "      <td>0.000000</td>\n",
       "      <td>0.090109</td>\n",
       "      <td>1.015100</td>\n",
       "      <td>1.205750</td>\n",
       "      <td>0.492235</td>\n",
       "      <td>...</td>\n",
       "      <td>1.604800e+03</td>\n",
       "      <td>6.338200e-02</td>\n",
       "      <td>0.175745</td>\n",
       "      <td>9.388100e-01</td>\n",
       "      <td>0.028438</td>\n",
       "      <td>1.004050e+01</td>\n",
       "      <td>7.033700</td>\n",
       "      <td>6.850900e+01</td>\n",
       "      <td>5.303200</td>\n",
       "      <td>4.637700</td>\n",
       "    </tr>\n",
       "    <tr>\n",
       "      <th>75%</th>\n",
       "      <td>0.160268</td>\n",
       "      <td>0.680233</td>\n",
       "      <td>0.362548</td>\n",
       "      <td>2.460700</td>\n",
       "      <td>3.777050e+01</td>\n",
       "      <td>0.146660</td>\n",
       "      <td>0.188667</td>\n",
       "      <td>2.267675</td>\n",
       "      <td>2.132975</td>\n",
       "      <td>0.675677</td>\n",
       "      <td>...</td>\n",
       "      <td>5.955900e+03</td>\n",
       "      <td>1.376950e-01</td>\n",
       "      <td>0.351922</td>\n",
       "      <td>9.820150e-01</td>\n",
       "      <td>0.273867</td>\n",
       "      <td>2.013900e+01</td>\n",
       "      <td>10.703000</td>\n",
       "      <td>1.063350e+02</td>\n",
       "      <td>8.357900</td>\n",
       "      <td>9.782200</td>\n",
       "    </tr>\n",
       "    <tr>\n",
       "      <th>max</th>\n",
       "      <td>94.280000</td>\n",
       "      <td>441.500000</td>\n",
       "      <td>1.000000</td>\n",
       "      <td>1017.800000</td>\n",
       "      <td>9.909000e+05</td>\n",
       "      <td>303.670000</td>\n",
       "      <td>453.770000</td>\n",
       "      <td>1452.200000</td>\n",
       "      <td>3876.100000</td>\n",
       "      <td>1099.500000</td>\n",
       "      <td>...</td>\n",
       "      <td>4.398400e+06</td>\n",
       "      <td>1.000000e+00</td>\n",
       "      <td>126.670000</td>\n",
       "      <td>1.108300e+06</td>\n",
       "      <td>119.580000</td>\n",
       "      <td>2.137800e+06</td>\n",
       "      <td>21110.000000</td>\n",
       "      <td>2.501600e+07</td>\n",
       "      <td>1042.200000</td>\n",
       "      <td>294770.000000</td>\n",
       "    </tr>\n",
       "  </tbody>\n",
       "</table>\n",
       "<p>8 rows × 64 columns</p>\n",
       "</div>"
      ],
      "text/plain": [
       "             Attr1        Attr2        Attr3        Attr4         Attr5  \\\n",
       "count  7024.000000  7024.000000  7024.000000  6997.000000  7.019000e+03   \n",
       "mean      0.034660     0.560215     0.119969     2.629143 -2.631672e+02   \n",
       "std       4.565504     5.350084     5.275459    13.257356  3.707460e+04   \n",
       "min    -256.890000   -72.162000  -440.500000     0.000000 -2.722100e+06   \n",
       "25%       0.021182     0.296678     0.026968     1.063100 -4.449800e+01   \n",
       "50%       0.075802     0.482960     0.181275     1.502000 -5.373900e+00   \n",
       "75%       0.160268     0.680233     0.362548     2.460700  3.777050e+01   \n",
       "max      94.280000   441.500000     1.000000  1017.800000  9.909000e+05   \n",
       "\n",
       "             Attr6        Attr7        Attr8        Attr9       Attr10  \\\n",
       "count  7024.000000  7024.000000  7002.000000  7026.000000  7024.000000   \n",
       "mean      0.059712     0.313876     2.623996     5.552855     1.825832   \n",
       "std       6.051113     8.353274    18.708327   101.995448    33.836452   \n",
       "min    -397.890000  -189.560000  -141.410000     0.000005  -440.550000   \n",
       "25%       0.000000     0.028023     0.445710     1.037225     0.300785   \n",
       "50%       0.000000     0.090109     1.015100     1.205750     0.492235   \n",
       "75%       0.146660     0.188667     2.267675     2.132975     0.675677   \n",
       "max     303.670000   453.770000  1452.200000  3876.100000  1099.500000   \n",
       "\n",
       "           ...              Attr55        Attr56       Attr57        Attr58  \\\n",
       "count      ...        7.027000e+03  7.027000e+03  7026.000000  7.027000e+03   \n",
       "mean       ...        8.855693e+03 -1.577367e+02     0.193243  1.587409e+02   \n",
       "std        ...        7.247527e+04  1.322125e+04     4.344046  1.322124e+04   \n",
       "min        ...       -8.004700e+05 -1.108300e+06  -315.370000 -4.194000e-03   \n",
       "25%        ...        9.712000e+01  2.031450e-02     0.056772  8.647650e-01   \n",
       "50%        ...        1.604800e+03  6.338200e-02     0.175745  9.388100e-01   \n",
       "75%        ...        5.955900e+03  1.376950e-01     0.351922  9.820150e-01   \n",
       "max        ...        4.398400e+06  1.000000e+00   126.670000  1.108300e+06   \n",
       "\n",
       "            Attr59        Attr60        Attr61        Attr62       Attr63  \\\n",
       "count  7026.000000  6.892000e+03   7005.000000  7.027000e+03  6997.000000   \n",
       "mean      0.277829  4.328830e+02     15.642228  4.763202e+03     8.126852   \n",
       "std       6.339149  2.612802e+04    261.554534  3.107835e+05    19.996419   \n",
       "min    -327.970000  4.700000e-05      0.000016  0.000000e+00     0.000015   \n",
       "25%       0.000000  5.923950e+00      4.829000  4.322250e+01     3.425400   \n",
       "50%       0.028438  1.004050e+01      7.033700  6.850900e+01     5.303200   \n",
       "75%       0.273867  2.013900e+01     10.703000  1.063350e+02     8.357900   \n",
       "max     119.580000  2.137800e+06  21110.000000  2.501600e+07  1042.200000   \n",
       "\n",
       "              Attr64  \n",
       "count    6993.000000  \n",
       "mean      208.731950  \n",
       "std      5140.708804  \n",
       "min         0.000010  \n",
       "25%         2.538600  \n",
       "50%         4.637700  \n",
       "75%         9.782200  \n",
       "max    294770.000000  \n",
       "\n",
       "[8 rows x 64 columns]"
      ]
     },
     "execution_count": 54,
     "metadata": {},
     "output_type": "execute_result"
    }
   ],
   "source": [
    "df.describe()"
   ]
  },
  {
   "cell_type": "code",
   "execution_count": 14,
   "metadata": {},
   "outputs": [
    {
     "data": {
      "text/plain": [
       "Index(['Attr1', 'Attr2', 'Attr3', 'Attr4', 'Attr5', 'Attr6', 'Attr7', 'Attr8',\n",
       "       'Attr9', 'Attr10', 'Attr11', 'Attr12', 'Attr13', 'Attr14', 'Attr15',\n",
       "       'Attr16', 'Attr17', 'Attr18', 'Attr19', 'Attr20', 'Attr22', 'Attr23',\n",
       "       'Attr24', 'Attr25', 'Attr26', 'Attr27', 'Attr28', 'Attr29', 'Attr30',\n",
       "       'Attr31', 'Attr32', 'Attr33', 'Attr34', 'Attr35', 'Attr36', 'Attr38',\n",
       "       'Attr39', 'Attr40', 'Attr41', 'Attr42', 'Attr43', 'Attr44', 'Attr45',\n",
       "       'Attr46', 'Attr47', 'Attr48', 'Attr49', 'Attr50', 'Attr51', 'Attr52',\n",
       "       'Attr53', 'Attr54', 'Attr55', 'Attr56', 'Attr57', 'Attr58', 'Attr59',\n",
       "       'Attr60', 'Attr61', 'Attr62', 'Attr63', 'Attr64', 'class'],\n",
       "      dtype='object')"
      ]
     },
     "execution_count": 14,
     "metadata": {},
     "output_type": "execute_result"
    }
   ],
   "source": [
    "df_new.columns"
   ]
  },
  {
   "cell_type": "code",
   "execution_count": null,
   "metadata": {},
   "outputs": [],
   "source": []
  },
  {
   "cell_type": "code",
   "execution_count": 9,
   "metadata": {},
   "outputs": [
    {
     "data": {
      "image/png": "[encoded data removed]",
      "text/plain": [
       "<Figure size 1440x1224 with 2 Axes>"
      ]
     },
     "metadata": {
      "needs_background": "light"
     },
     "output_type": "display_data"
    }
   ],
   "source": [
    "corrmat = df_new.corr()\n",
    "f, ax = plt.subplots(figsize=(20, 17))\n",
    "sns.heatmap(corrmat, vmax=.5);"
   ]
  },
  {
   "cell_type": "code",
   "execution_count": 100,
   "metadata": {},
   "outputs": [
    {
     "data": {
      "text/plain": [
       "(7027, 63)"
      ]
     },
     "execution_count": 100,
     "metadata": {},
     "output_type": "execute_result"
    }
   ],
   "source": [
    "df_new.shape"
   ]
  },
  {
   "cell_type": "code",
   "execution_count": 20,
   "metadata": {},
   "outputs": [],
   "source": [
    "##creating half dataset  fd\n",
    "df1 = df_new.iloc[:,np.r_[0:30]]\n",
    "df2 = df_new.iloc[:,np.r_[30:63]]"
   ]
  },
  {
   "cell_type": "code",
   "execution_count": 24,
   "metadata": {},
   "outputs": [
    {
     "data": {
      "image/png": "[encoded data removed]",
      "text/plain": [
       "<Figure size 1440x1440 with 2 Axes>"
      ]
     },
     "metadata": {
      "needs_background": "light"
     },
     "output_type": "display_data"
    }
   ],
   "source": [
    "corr = df2.corr()\n",
    "    #Plot figsize\n",
    "fig, ax = plt.subplots(figsize=(20, 20))\n",
    "    #Generate Color Map, red & blue\n",
    "colormap = sns.diverging_palette(230, 10, as_cmap=True)\n",
    "    #Generate Heat Map, allow annotations and place floats in map\n",
    "sns.heatmap(corr, cmap=colormap, annot=True, fmt=\".1f\")\n",
    "    #Apply xticks\n",
    "plt.xticks(range(len(corr.columns)), corr.columns);\n",
    "    #Apply yticks\n",
    "plt.yticks(range(len(corr.columns)), corr.columns)\n",
    "    #show plot\n",
    "plt.show()"
   ]
  },
  {
   "cell_type": "code",
   "execution_count": 22,
   "metadata": {},
   "outputs": [
    {
     "data": {
      "image/png": "[encoded data removed]",
      "text/plain": [
       "<Figure size 1440x1440 with 2 Axes>"
      ]
     },
     "metadata": {
      "needs_background": "light"
     },
     "output_type": "display_data"
    }
   ],
   "source": [
    "corr = df1.corr()\n",
    "    #Plot figsize\n",
    "fig, ax = plt.subplots(figsize=(20, 20))\n",
    "    #Generate Color Map, red & blue\n",
    "colormap = sns.diverging_palette(220, 10, as_cmap=True)\n",
    "    #Generate Heat Map, allow annotations and place floats in map\n",
    "sns.heatmap(corr, cmap=colormap, annot=True, fmt=\".1f\")\n",
    "    #Apply xticks\n",
    "plt.xticks(range(len(corr.columns)), corr.columns);\n",
    "    #Apply yticks\n",
    "plt.yticks(range(len(corr.columns)), corr.columns)\n",
    "    #show plot\n",
    "plt.show()"
   ]
  },
  {
   "cell_type": "markdown",
   "metadata": {},
   "source": [
    "##Attr - 2,3,6,32,51,52\n",
    "##Attr - 33,34,50,63\n",
    "##Attr - 7,11,14,18,22,24\n",
    "##Attr - 8,12,16,17,,26\n",
    "##Attr - 13,19,20,23,30,31\n",
    "##Attr - 53,54,61\n",
    "##Attr - 47,52\n",
    "##Attr - 45,60\n",
    "##Attr - 13,31,39,42,43,44,49,56,58,62\n",
    "##Attr - 4,40,46\n",
    "##Attr - 36,38,9,10,25\n",
    "##Attr - 35,48,24,7,11,14,18,22\n"
   ]
  },
  {
   "cell_type": "code",
   "execution_count": null,
   "metadata": {},
   "outputs": [],
   "source": [
    "\n",
    "df_new = df_new.iloc[:,np.r_[1,3,4,5,7,8,10,16,]]"
   ]
  },
  {
   "cell_type": "code",
   "execution_count": 86,
   "metadata": {},
   "outputs": [
    {
     "data": {
      "text/plain": [
       "(7027, 63)"
      ]
     },
     "execution_count": 86,
     "metadata": {},
     "output_type": "execute_result"
    }
   ],
   "source": [
    "df_new.shape"
   ]
  },
  {
   "cell_type": "code",
   "execution_count": null,
   "metadata": {},
   "outputs": [],
   "source": [
    "Data PreProcessing"
   ]
  },
  {
   "cell_type": "markdown",
   "metadata": {},
   "source": [
    "### Skewness before feature scaling"
   ]
  },
  {
   "cell_type": "code",
   "execution_count": 92,
   "metadata": {},
   "outputs": [
    {
     "name": "stdout",
     "output_type": "stream",
     "text": [
      "Just finished Attr1 with skew -49.92198157399967\n",
      "Just finished Attr2 with skew 79.39007877110372\n",
      "Just finished Attr3 with skew -82.99991484507986\n",
      "Just finished Attr4 with skew 65.76689112990184\n",
      "Just finished Attr5 with skew -52.54575303319939\n",
      "Just finished Attr6 with skew -22.48347901332244\n",
      "Just finished Attr7 with skew 28.889891948563836\n",
      "Just finished Attr8 with skew 67.27180234280138\n",
      "Just finished Attr9 with skew 33.537757160036094\n",
      "Just finished Attr10 with skew 26.096621542206037\n",
      "Just finished Attr11 with skew 28.67046431096756\n",
      "Just finished Attr12 with skew 45.173307481876684\n",
      "Just finished Attr13 with skew 82.5348017586015\n",
      "Just finished Attr14 with skew 28.889891948563836\n",
      "Just finished Attr15 with skew -30.68488480973805\n",
      "Just finished Attr16 with skew 57.603783882505475\n",
      "Just finished Attr17 with skew 69.11724658094288\n",
      "Just finished Attr18 with skew 28.889891948563836\n",
      "Just finished Attr19 with skew 57.9643648744842\n",
      "Just finished Attr20 with skew 83.82579140961471\n",
      "Just finished Attr22 with skew 27.13905641329205\n",
      "Just finished Attr23 with skew 59.57827569916634\n",
      "Just finished Attr24 with skew 42.27454711798206\n",
      "Just finished Attr25 with skew 36.58723512389448\n",
      "Just finished Attr26 with skew 70.85214961621965\n",
      "Just finished Attr27 with skew 41.50590986072035\n",
      "Just finished Attr28 with skew 34.227994198277116\n",
      "Just finished Attr29 with skew 0.3123852725377127\n",
      "Just finished Attr30 with skew 83.38427194795914\n",
      "Just finished Attr31 with skew 57.95857090932413\n",
      "Just finished Attr32 with skew 59.96468520976179\n",
      "Just finished Attr33 with skew 28.573002648580026\n",
      "Just finished Attr34 with skew 31.991767293052206\n",
      "Just finished Attr35 with skew 39.51817228538322\n",
      "Just finished Attr36 with skew 33.53690036451647\n",
      "Just finished Attr38 with skew 26.09205906150849\n",
      "Just finished Attr39 with skew 69.51345158110468\n",
      "Just finished Attr40 with skew 74.98596402750198\n",
      "Just finished Attr41 with skew 47.35382405337253\n",
      "Just finished Attr42 with skew 69.49070038276933\n",
      "Just finished Attr43 with skew 83.71389280882438\n",
      "Just finished Attr44 with skew 83.63448718922321\n",
      "Just finished Attr45 with skew -82.81126253628672\n",
      "Just finished Attr46 with skew 70.70198118480724\n",
      "Just finished Attr47 with skew 42.88570764744227\n",
      "Just finished Attr48 with skew 21.96969407070242\n",
      "Just finished Attr49 with skew -83.07000540064423\n",
      "Just finished Attr50 with skew 27.745710263692803\n",
      "Just finished Attr51 with skew 83.06783351539235\n",
      "Just finished Attr52 with skew 41.22403326186574\n",
      "Just finished Attr53 with skew 48.424553913888175\n",
      "Just finished Attr54 with skew 48.081888358210534\n",
      "Just finished Attr55 with skew 36.49483814643439\n",
      "Just finished Attr56 with skew -83.82715258870877\n",
      "Just finished Attr57 with skew -50.9033061677892\n",
      "Just finished Attr58 with skew 83.82715255585148\n",
      "Just finished Attr59 with skew -27.13898919852877\n",
      "Just finished Attr60 with skew 79.84721240062426\n",
      "Just finished Attr61 with skew 75.66561025226949\n",
      "Just finished Attr62 with skew 76.03074093640174\n",
      "Just finished Attr63 with skew 28.419825875641102\n",
      "Just finished Attr64 with skew 43.85004577210337\n",
      "Just finished class with skew 4.793726314237819\n"
     ]
    }
   ],
   "source": [
    "for i in df_new.skew().keys():        \n",
    "        print(\"Just finished {} with skew {}\".format(str(i), str(df_new.skew()[i])))"
   ]
  },
  {
   "cell_type": "markdown",
   "metadata": {},
   "source": [
    "### Feature scaling using log(x+1)"
   ]
  },
  {
   "cell_type": "code",
   "execution_count": 25,
   "metadata": {},
   "outputs": [
    {
     "data": {
      "text/plain": [
       "<matplotlib.axes._subplots.AxesSubplot at 0x1bc91908b70>"
      ]
     },
     "execution_count": 25,
     "metadata": {},
     "output_type": "execute_result"
    },
    {
     "data": {
      "image/png": "[encoded data removed]",
      "text/plain": [
       "<Figure size 1728x720 with 2 Axes>"
      ]
     },
     "metadata": {
      "needs_background": "light"
     },
     "output_type": "display_data"
    }
   ],
   "source": [
    "msno.bar(df_new)"
   ]
  },
  {
   "cell_type": "markdown",
   "metadata": {},
   "source": [
    "### clean data - remove missing terms or impute them  ###27,45,60,24,41\n"
   ]
  },
  {
   "cell_type": "code",
   "execution_count": null,
   "metadata": {},
   "outputs": [],
   "source": []
  },
  {
   "cell_type": "code",
   "execution_count": 101,
   "metadata": {},
   "outputs": [],
   "source": [
    "#Treating Missing Values using scikit learn imputation Median imputation for four variables\n",
    "\n",
    "\n",
    "#Treating Missing Values\n",
    "df_new['Attr27'].fillna(df_new['Attr27'].median(), inplace=True)\n",
    "#Treating Missing Values\n",
    "df_new['Attr45'].fillna(df_new['Attr45'].median(), inplace=True)\n",
    "#Treating Missing Values\n",
    "df_new['Attr60'].fillna(df_new['Attr60'].median(), inplace=True)\n",
    "df_new['Attr41'].fillna(df_new['Attr41'].median(), inplace=True)"
   ]
  },
  {
   "cell_type": "code",
   "execution_count": 102,
   "metadata": {},
   "outputs": [],
   "source": [
    "df_new['Attr24'].fillna(df_new['Attr24'].median(), inplace=True)"
   ]
  },
  {
   "cell_type": "code",
   "execution_count": 103,
   "metadata": {},
   "outputs": [
    {
     "data": {
      "text/plain": [
       "(7027, 63)"
      ]
     },
     "execution_count": 103,
     "metadata": {},
     "output_type": "execute_result"
    }
   ],
   "source": [
    "df_new.shape"
   ]
  },
  {
   "cell_type": "code",
   "execution_count": null,
   "metadata": {},
   "outputs": [],
   "source": [
    "##removing rows which have atleast one missing value"
   ]
  },
  {
   "cell_type": "code",
   "execution_count": 104,
   "metadata": {},
   "outputs": [],
   "source": [
    "dfy1 = df_new.dropna(axis =0)"
   ]
  },
  {
   "cell_type": "code",
   "execution_count": 108,
   "metadata": {},
   "outputs": [
    {
     "data": {
      "text/plain": [
       "(6886, 63)"
      ]
     },
     "execution_count": 108,
     "metadata": {},
     "output_type": "execute_result"
    }
   ],
   "source": [
    "dfy1.shape  ###141 rows deleted"
   ]
  },
  {
   "cell_type": "code",
   "execution_count": 107,
   "metadata": {},
   "outputs": [
    {
     "name": "stdout",
     "output_type": "stream",
     "text": [
      "Just finished Attr1 with skew -0.04417775441892413\n",
      "Just finished Attr2 with skew 1.0079501195602152\n",
      "Just finished Attr3 with skew -2.1388376226361383\n",
      "Just finished Attr4 with skew 2.0329657889876898\n",
      "Just finished Attr5 with skew 0.3684049734756707\n",
      "Just finished Attr6 with skew -5.168292138898832\n",
      "Just finished Attr7 with skew 0.2730861270749065\n",
      "Just finished Attr8 with skew 1.344796532197514\n",
      "Just finished Attr9 with skew 1.487013727678619\n",
      "Just finished Attr10 with skew -4.139179846191666\n",
      "Just finished Attr11 with skew 0.4863496356640927\n",
      "Just finished Attr12 with skew 1.830649211048224\n",
      "Just finished Attr13 with skew 17.57147980638836\n",
      "Just finished Attr14 with skew 0.2730861270749065\n",
      "Just finished Attr15 with skew 0.10650203729718237\n",
      "Just finished Attr16 with skew 2.174999120386722\n",
      "Just finished Attr17 with skew 2.0520278031464287\n",
      "Just finished Attr18 with skew 0.2730861270749065\n",
      "Just finished Attr19 with skew 18.219652433746845\n",
      "Just finished Attr20 with skew -0.7020199668997956\n",
      "Just finished Attr22 with skew 1.4018290037914545\n",
      "Just finished Attr23 with skew 16.231059078010798\n",
      "Just finished Attr24 with skew -0.7925988827006976\n",
      "Just finished Attr25 with skew -3.9133887059207058\n",
      "Just finished Attr26 with skew 2.3182918690268157\n",
      "Just finished Attr27 with skew 2.17007572354988\n",
      "Just finished Attr28 with skew 1.4561765451821604\n",
      "Just finished Attr29 with skew 0.2065239236336073\n",
      "Just finished Attr30 with skew 9.866510744323092\n",
      "Just finished Attr31 with skew 17.022901657531577\n",
      "Just finished Attr32 with skew 0.7481899436259637\n",
      "Just finished Attr33 with skew 0.8928483007667867\n",
      "Just finished Attr34 with skew 0.6652886969003302\n",
      "Just finished Attr35 with skew 0.991512218401676\n",
      "Just finished Attr36 with skew 0.6070700243007208\n",
      "Just finished Attr38 with skew -4.989240870151282\n",
      "Just finished Attr39 with skew 17.113110332370997\n",
      "Just finished Attr40 with skew 3.148786008375695\n",
      "Just finished Attr41 with skew 3.734151800774169\n",
      "Just finished Attr42 with skew 16.848560126206788\n",
      "Just finished Attr43 with skew 1.4088122453074163\n",
      "Just finished Attr44 with skew 1.0295299193803356\n",
      "Just finished Attr45 with skew 2.148441731016486\n",
      "Just finished Attr46 with skew 2.2250883574074303\n",
      "Just finished Attr47 with skew -0.7122754307511456\n",
      "Just finished Attr48 with skew -4.195899038538779\n",
      "Just finished Attr49 with skew -0.7888361001777313\n",
      "Just finished Attr50 with skew 1.931875916348197\n",
      "Just finished Attr51 with skew 1.613849967295957\n",
      "Just finished Attr52 with skew 9.139152273420782\n",
      "Just finished Attr53 with skew 1.690532980584826\n",
      "Just finished Attr54 with skew 2.0847813635699532\n",
      "Just finished Attr55 with skew -0.8259422246469447\n",
      "Just finished Attr56 with skew -2.1952475488089696\n",
      "Just finished Attr57 with skew -1.5517150464979956\n",
      "Just finished Attr58 with skew 44.337626028384165\n",
      "Just finished Attr59 with skew 3.521920987852048\n",
      "Just finished Attr60 with skew 2.117862333378731\n",
      "Just finished Attr61 with skew 1.391947210986781\n",
      "Just finished Attr62 with skew 1.405159083776231\n",
      "Just finished Attr63 with skew 0.9037737253264284\n",
      "Just finished Attr64 with skew 1.5982443049467896\n"
     ]
    },
    {
     "ename": "AttributeError",
     "evalue": "'bytes' object has no attribute 'log1p'",
     "output_type": "error",
     "traceback": [
      "\u001b[1;31m---------------------------------------------------------------------------\u001b[0m",
      "\u001b[1;31mAttributeError\u001b[0m                            Traceback (most recent call last)",
      "\u001b[1;32m<ipython-input-107-ce42b2f817e1>\u001b[0m in \u001b[0;36m<module>\u001b[1;34m\u001b[0m\n\u001b[0;32m      1\u001b[0m \u001b[1;32mfor\u001b[0m \u001b[0mi\u001b[0m \u001b[1;32min\u001b[0m \u001b[0mdfy1\u001b[0m\u001b[1;33m.\u001b[0m\u001b[0mskew\u001b[0m\u001b[1;33m(\u001b[0m\u001b[1;33m)\u001b[0m\u001b[1;33m.\u001b[0m\u001b[0mkeys\u001b[0m\u001b[1;33m(\u001b[0m\u001b[1;33m)\u001b[0m\u001b[1;33m:\u001b[0m\u001b[1;33m\u001b[0m\u001b[0m\n\u001b[1;32m----> 2\u001b[1;33m         \u001b[0mdfy1\u001b[0m\u001b[1;33m[\u001b[0m\u001b[0mi\u001b[0m\u001b[1;33m]\u001b[0m \u001b[1;33m=\u001b[0m \u001b[0mnp\u001b[0m\u001b[1;33m.\u001b[0m\u001b[0mlog1p\u001b[0m\u001b[1;33m(\u001b[0m\u001b[0mdfy1\u001b[0m\u001b[1;33m[\u001b[0m\u001b[0mi\u001b[0m\u001b[1;33m]\u001b[0m\u001b[1;33m)\u001b[0m\u001b[1;33m\u001b[0m\u001b[0m\n\u001b[0m\u001b[0;32m      3\u001b[0m         \u001b[0mprint\u001b[0m\u001b[1;33m(\u001b[0m\u001b[1;34m\"Just finished {} with skew {}\"\u001b[0m\u001b[1;33m.\u001b[0m\u001b[0mformat\u001b[0m\u001b[1;33m(\u001b[0m\u001b[0mstr\u001b[0m\u001b[1;33m(\u001b[0m\u001b[0mi\u001b[0m\u001b[1;33m)\u001b[0m\u001b[1;33m,\u001b[0m \u001b[0mstr\u001b[0m\u001b[1;33m(\u001b[0m\u001b[0mdfy1\u001b[0m\u001b[1;33m.\u001b[0m\u001b[0mskew\u001b[0m\u001b[1;33m(\u001b[0m\u001b[1;33m)\u001b[0m\u001b[1;33m[\u001b[0m\u001b[0mi\u001b[0m\u001b[1;33m]\u001b[0m\u001b[1;33m)\u001b[0m\u001b[1;33m)\u001b[0m\u001b[1;33m)\u001b[0m\u001b[1;33m\u001b[0m\u001b[0m\n",
      "\u001b[1;31mAttributeError\u001b[0m: 'bytes' object has no attribute 'log1p'"
     ]
    }
   ],
   "source": [
    "for i in dfy1.skew().keys():        \n",
    "        dfy1[i] = np.log1p(dfy1[i])\n",
    "        print(\"Just finished {} with skew {}\".format(str(i), str(dfy1.skew()[i])))"
   ]
  },
  {
   "cell_type": "code",
   "execution_count": 67,
   "metadata": {},
   "outputs": [],
   "source": [
    "#import featuretools as ft"
   ]
  },
  {
   "cell_type": "code",
   "execution_count": 55,
   "metadata": {},
   "outputs": [
    {
     "data": {
      "text/plain": [
       "<matplotlib.axes._subplots.AxesSubplot at 0x25b35803ac8>"
      ]
     },
     "execution_count": 55,
     "metadata": {},
     "output_type": "execute_result"
    },
    {
     "data": {
      "image/png": "[encoded data removed]",
      "text/plain": [
       "<Figure size 432x288 with 1 Axes>"
      ]
     },
     "metadata": {},
     "output_type": "display_data"
    }
   ],
   "source": [
    "import seaborn as sns\n",
    "plt.xlim([-1,1])\n",
    "sns.set(style=\"whitegrid\")\n",
    "sns.boxplot(x=dfy1['Attr13'],palette=\"Set2\")\n",
    "#sns.swarmplot(x=df_new['Attr13'], color=\".25\")"
   ]
  },
  {
   "cell_type": "code",
   "execution_count": null,
   "metadata": {},
   "outputs": [],
   "source": [
    "##renaming columns"
   ]
  },
  {
   "cell_type": "code",
   "execution_count": null,
   "metadata": {},
   "outputs": [],
   "source": [
    "df.rename(columns={'Attr1': 'newName1', 'oldName2': 'newName2'}, inplace=True)"
   ]
  },
  {
   "cell_type": "code",
   "execution_count": null,
   "metadata": {},
   "outputs": [],
   "source": []
  },
  {
   "cell_type": "code",
   "execution_count": null,
   "metadata": {},
   "outputs": [],
   "source": []
  },
  {
   "cell_type": "code",
   "execution_count": 109,
   "metadata": {},
   "outputs": [
    {
     "data": {
      "text/plain": [
       "b'0'    6658\n",
       "b'1'     228\n",
       "Name: class, dtype: int64"
      ]
     },
     "execution_count": 109,
     "metadata": {},
     "output_type": "execute_result"
    }
   ],
   "source": [
    "dfy1['class'].value_counts()"
   ]
  },
  {
   "cell_type": "code",
   "execution_count": 52,
   "metadata": {},
   "outputs": [
    {
     "data": {
      "text/plain": [
       "(6886, 63)"
      ]
     },
     "execution_count": 52,
     "metadata": {},
     "output_type": "execute_result"
    }
   ],
   "source": [
    "dfy1.shape"
   ]
  },
  {
   "cell_type": "code",
   "execution_count": 100,
   "metadata": {},
   "outputs": [],
   "source": [
    "df_0.to_csv('df_0.csv')\n",
    "dfy1.to_csv('dfy1.csv')\n"
   ]
  },
  {
   "cell_type": "code",
   "execution_count": 18,
   "metadata": {},
   "outputs": [],
   "source": [
    "df_0 =dfy1.iloc[:6658,62:]\n",
    "df_0['new_class'] = '0'"
   ]
  },
  {
   "cell_type": "code",
   "execution_count": 19,
   "metadata": {},
   "outputs": [],
   "source": [
    "df_1 = dfy1.iloc[6658:,62:]\n",
    "df_1['new_class'] = '1'"
   ]
  },
  {
   "cell_type": "code",
   "execution_count": null,
   "metadata": {},
   "outputs": [],
   "source": []
  },
  {
   "cell_type": "code",
   "execution_count": 20,
   "metadata": {},
   "outputs": [],
   "source": [
    "y = df_0.append([df_1])"
   ]
  },
  {
   "cell_type": "code",
   "execution_count": 21,
   "metadata": {},
   "outputs": [],
   "source": [
    "y = y.iloc[:,1:]"
   ]
  },
  {
   "cell_type": "code",
   "execution_count": 110,
   "metadata": {},
   "outputs": [
    {
     "data": {
      "text/plain": [
       "(6658, 2)"
      ]
     },
     "execution_count": 110,
     "metadata": {},
     "output_type": "execute_result"
    }
   ],
   "source": [
    "df_0.shape"
   ]
  },
  {
   "cell_type": "code",
   "execution_count": 111,
   "metadata": {},
   "outputs": [
    {
     "data": {
      "text/plain": [
       "(6886, 1)"
      ]
     },
     "execution_count": 111,
     "metadata": {},
     "output_type": "execute_result"
    }
   ],
   "source": [
    "y.shape"
   ]
  },
  {
   "cell_type": "code",
   "execution_count": 24,
   "metadata": {},
   "outputs": [],
   "source": [
    "X = dfy1.iloc[:,0:62]"
   ]
  },
  {
   "cell_type": "code",
   "execution_count": 122,
   "metadata": {},
   "outputs": [],
   "source": [
    "#y= dfy1.iloc[:,62:]"
   ]
  },
  {
   "cell_type": "code",
   "execution_count": 25,
   "metadata": {},
   "outputs": [
    {
     "data": {
      "text/plain": [
       "0    6658\n",
       "1     228\n",
       "Name: new_class, dtype: int64"
      ]
     },
     "execution_count": 25,
     "metadata": {},
     "output_type": "execute_result"
    }
   ],
   "source": [
    "y['new_class'].value_counts()"
   ]
  },
  {
   "cell_type": "code",
   "execution_count": null,
   "metadata": {},
   "outputs": [],
   "source": [
    "##class imbalance\n",
    "##concatenate data and do seperately also\n",
    "##classification models\n",
    "##ANN\n",
    "##xgboost\n",
    "##missing data handling"
   ]
  },
  {
   "cell_type": "code",
   "execution_count": 26,
   "metadata": {},
   "outputs": [
    {
     "name": "stdout",
     "output_type": "stream",
     "text": [
      "Original dataset shape Counter({'new_class': 1})\n"
     ]
    }
   ],
   "source": [
    "from collections import Counter\n",
    "from sklearn.datasets import make_classification\n",
    "from imblearn.over_sampling import SMOTE # doctest: +NORMALIZE_WHITESPACE\n",
    "print('Original dataset shape %s' % Counter(y))"
   ]
  },
  {
   "cell_type": "code",
   "execution_count": 27,
   "metadata": {},
   "outputs": [
    {
     "name": "stdout",
     "output_type": "stream",
     "text": [
      "Resampled dataset shape Counter({'0': 6658, '1': 6658})\n"
     ]
    }
   ],
   "source": [
    "smote = SMOTE(sampling_strategy='minority', n_jobs=1)\n",
    "X_res, y_res = smote.fit_resample(X, y)\n",
    "print('Resampled dataset shape %s' % Counter(y_res))"
   ]
  },
  {
   "cell_type": "code",
   "execution_count": 22,
   "metadata": {},
   "outputs": [
    {
     "data": {
      "text/plain": [
       "array(['0', '0', '0', ..., '1', '1', '1'], dtype=object)"
      ]
     },
     "execution_count": 22,
     "metadata": {},
     "output_type": "execute_result"
    }
   ],
   "source": [
    "y_res"
   ]
  },
  {
   "cell_type": "code",
   "execution_count": 173,
   "metadata": {},
   "outputs": [
    {
     "name": "stdout",
     "output_type": "stream",
     "text": [
      "Resampled dataset shape Counter({'new_class': 1})\n"
     ]
    }
   ],
   "source": [
    "from imblearn.over_sampling import ADASYN # doctest: +NORMALIZE_WHITESPACE\n",
    "ada = ADASYN(sampling_strategy='auto',n_neighbors=5,random_state=42)\n",
    "X_res1, y_res1 = ada.fit_resample(X, y)"
   ]
  },
  {
   "cell_type": "code",
   "execution_count": 172,
   "metadata": {},
   "outputs": [
    {
     "name": "stdout",
     "output_type": "stream",
     "text": [
      "Resampled dataset shape Counter({'1': 6690, '0': 6658})\n"
     ]
    }
   ],
   "source": [
    "print('Resampled dataset shape %s' % Counter(y_res1))"
   ]
  },
  {
   "cell_type": "code",
   "execution_count": 174,
   "metadata": {},
   "outputs": [
    {
     "data": {
      "text/plain": [
       "array(['0', '0', '0', ..., '1', '1', '1'], dtype=object)"
      ]
     },
     "execution_count": 174,
     "metadata": {},
     "output_type": "execute_result"
    }
   ],
   "source": [
    "###Creating the dataset again\n",
    "##random sampling\n",
    "##leaving out 10% for validation\n"
   ]
  },
  {
   "cell_type": "code",
   "execution_count": 28,
   "metadata": {},
   "outputs": [],
   "source": [
    "scaler = StandardScaler()\n",
    "X_res = scaler.fit_transform(X_res)\n",
    "#y = scaler.fit_transform(y)"
   ]
  },
  {
   "cell_type": "code",
   "execution_count": 29,
   "metadata": {},
   "outputs": [],
   "source": [
    "import numpy as np\n",
    "from sklearn.model_selection import train_test_split"
   ]
  },
  {
   "cell_type": "code",
   "execution_count": 112,
   "metadata": {},
   "outputs": [],
   "source": [
    "X_train, X_test, y_train, y_test = train_test_split(X_res, y_res, test_size=0.30, random_state=42)"
   ]
  },
  {
   "cell_type": "markdown",
   "metadata": {},
   "source": [
    "# ANN using keras "
   ]
  },
  {
   "cell_type": "code",
   "execution_count": 31,
   "metadata": {},
   "outputs": [
    {
     "name": "stderr",
     "output_type": "stream",
     "text": [
      "Using TensorFlow backend.\n"
     ]
    }
   ],
   "source": [
    "from keras import Sequential\n",
    "from keras.layers import Dense"
   ]
  },
  {
   "cell_type": "code",
   "execution_count": 62,
   "metadata": {},
   "outputs": [],
   "source": [
    "classifier = Sequential()\n",
    "#First Hidden Layer\n",
    "classifier.add(Dense(31, activation='relu', kernel_initializer='random_normal', input_dim=62))\n",
    "classifier.add(Dropout(rate=0.2))\n",
    "#Second  Hidden Layer\n",
    "classifier.add(Dense(15, activation='relu', kernel_initializer='random_normal'))\n",
    "classifier.add(Dropout(rate=0.2))\n",
    "#Output Layer\n",
    "classifier.add(Dense(1, activation='sigmoid', kernel_initializer='random_normal'))"
   ]
  },
  {
   "cell_type": "code",
   "execution_count": 63,
   "metadata": {},
   "outputs": [],
   "source": [
    "#Compiling the neural network\n",
    "classifier.compile(optimizer ='adam',loss='binary_crossentropy', metrics =['accuracy'])"
   ]
  },
  {
   "cell_type": "code",
   "execution_count": 64,
   "metadata": {},
   "outputs": [
    {
     "name": "stdout",
     "output_type": "stream",
     "text": [
      "Epoch 1/50\n",
      "9321/9321 [==============================] - 2s 197us/step - loss: 0.6059 - acc: 0.6883\n",
      "Epoch 2/50\n",
      "9321/9321 [==============================] - 2s 171us/step - loss: 0.5122 - acc: 0.7529\n",
      "Epoch 3/50\n",
      "9321/9321 [==============================] - 2s 211us/step - loss: 0.4779 - acc: 0.7777\n",
      "Epoch 4/50\n",
      "9321/9321 [==============================] - 2s 202us/step - loss: 0.4496 - acc: 0.7948\n",
      "Epoch 5/50\n",
      "9321/9321 [==============================] - 2s 170us/step - loss: 0.4282 - acc: 0.8081\n",
      "Epoch 6/50\n",
      "9321/9321 [==============================] - 2s 194us/step - loss: 0.4132 - acc: 0.8135\n",
      "Epoch 7/50\n",
      "9321/9321 [==============================] - 2s 197us/step - loss: 0.3946 - acc: 0.8275\n",
      "Epoch 8/50\n",
      "9321/9321 [==============================] - 2s 222us/step - loss: 0.3743 - acc: 0.8375\n",
      "Epoch 9/50\n",
      "9321/9321 [==============================] - 2s 218us/step - loss: 0.3597 - acc: 0.8457\n",
      "Epoch 10/50\n",
      "9321/9321 [==============================] - 1s 123us/step - loss: 0.3481 - acc: 0.8495\n",
      "Epoch 11/50\n",
      "9321/9321 [==============================] - 1s 152us/step - loss: 0.3382 - acc: 0.8560\n",
      "Epoch 12/50\n",
      "9321/9321 [==============================] - 2s 194us/step - loss: 0.3217 - acc: 0.8628\n",
      "Epoch 13/50\n",
      "9321/9321 [==============================] - 2s 162us/step - loss: 0.3185 - acc: 0.8690\n",
      "Epoch 14/50\n",
      "9321/9321 [==============================] - 1s 133us/step - loss: 0.3093 - acc: 0.8705\n",
      "Epoch 15/50\n",
      "9321/9321 [==============================] - 1s 136us/step - loss: 0.2995 - acc: 0.8764\n",
      "Epoch 16/50\n",
      "9321/9321 [==============================] - 1s 102us/step - loss: 0.2878 - acc: 0.8812\n",
      "Epoch 17/50\n",
      "9321/9321 [==============================] - 1s 160us/step - loss: 0.2870 - acc: 0.8802\n",
      "Epoch 18/50\n",
      "9321/9321 [==============================] - 2s 170us/step - loss: 0.2778 - acc: 0.8865\n",
      "Epoch 19/50\n",
      "9321/9321 [==============================] - 1s 153us/step - loss: 0.2706 - acc: 0.8923\n",
      "Epoch 20/50\n",
      "9321/9321 [==============================] - 1s 146us/step - loss: 0.2648 - acc: 0.8937\n",
      "Epoch 21/50\n",
      "9321/9321 [==============================] - 1s 138us/step - loss: 0.2621 - acc: 0.8940\n",
      "Epoch 22/50\n",
      "9321/9321 [==============================] - 1s 118us/step - loss: 0.2592 - acc: 0.8953\n",
      "Epoch 23/50\n",
      "9321/9321 [==============================] - 2s 176us/step - loss: 0.2523 - acc: 0.8983\n",
      "Epoch 24/50\n",
      "9321/9321 [==============================] - 2s 169us/step - loss: 0.2508 - acc: 0.9019\n",
      "Epoch 25/50\n",
      "9321/9321 [==============================] - 1s 151us/step - loss: 0.2460 - acc: 0.9020\n",
      "Epoch 26/50\n",
      "9321/9321 [==============================] - 2s 164us/step - loss: 0.2408 - acc: 0.9057\n",
      "Epoch 27/50\n",
      "9321/9321 [==============================] - 1s 156us/step - loss: 0.2402 - acc: 0.9088\n",
      "Epoch 28/50\n",
      "9321/9321 [==============================] - 1s 134us/step - loss: 0.2330 - acc: 0.9104\n",
      "Epoch 29/50\n",
      "9321/9321 [==============================] - 1s 152us/step - loss: 0.2300 - acc: 0.9118\n",
      "Epoch 30/50\n",
      "9321/9321 [==============================] - 1s 156us/step - loss: 0.2249 - acc: 0.9134\n",
      "Epoch 31/50\n",
      "9321/9321 [==============================] - 1s 133us/step - loss: 0.2265 - acc: 0.9114\n",
      "Epoch 32/50\n",
      "9321/9321 [==============================] - 1s 113us/step - loss: 0.2219 - acc: 0.9154\n",
      "Epoch 33/50\n",
      "9321/9321 [==============================] - 1s 136us/step - loss: 0.2154 - acc: 0.9175\n",
      "Epoch 34/50\n",
      "9321/9321 [==============================] - 1s 128us/step - loss: 0.2143 - acc: 0.9181\n",
      "Epoch 35/50\n",
      "9321/9321 [==============================] - 1s 156us/step - loss: 0.2003 - acc: 0.9247\n",
      "Epoch 36/50\n",
      "9321/9321 [==============================] - 1s 113us/step - loss: 0.2139 - acc: 0.9180\n",
      "Epoch 37/50\n",
      "9321/9321 [==============================] - 1s 125us/step - loss: 0.2014 - acc: 0.9250\n",
      "Epoch 38/50\n",
      "9321/9321 [==============================] - 1s 111us/step - loss: 0.1969 - acc: 0.9251\n",
      "Epoch 39/50\n",
      "9321/9321 [==============================] - 1s 154us/step - loss: 0.2076 - acc: 0.9221\n",
      "Epoch 40/50\n",
      "9321/9321 [==============================] - 1s 139us/step - loss: 0.1985 - acc: 0.9259\n",
      "Epoch 41/50\n",
      "9321/9321 [==============================] - 2s 162us/step - loss: 0.1920 - acc: 0.9296\n",
      "Epoch 42/50\n",
      "9321/9321 [==============================] - 1s 154us/step - loss: 0.1911 - acc: 0.9279\n",
      "Epoch 43/50\n",
      "9321/9321 [==============================] - 1s 158us/step - loss: 0.1881 - acc: 0.9299\n",
      "Epoch 44/50\n",
      "9321/9321 [==============================] - 1s 145us/step - loss: 0.1942 - acc: 0.9299\n",
      "Epoch 45/50\n",
      "9321/9321 [==============================] - 1s 150us/step - loss: 0.1903 - acc: 0.9305\n",
      "Epoch 46/50\n",
      "9321/9321 [==============================] - 1s 128us/step - loss: 0.1774 - acc: 0.9344\n",
      "Epoch 47/50\n",
      "9321/9321 [==============================] - 1s 155us/step - loss: 0.1821 - acc: 0.9341\n",
      "Epoch 48/50\n",
      "9321/9321 [==============================] - 2s 193us/step - loss: 0.1819 - acc: 0.9354\n",
      "Epoch 49/50\n",
      "9321/9321 [==============================] - 1s 136us/step - loss: 0.1776 - acc: 0.9332\n",
      "Epoch 50/50\n",
      "9321/9321 [==============================] - 1s 124us/step - loss: 0.1747 - acc: 0.9363\n"
     ]
    },
    {
     "data": {
      "text/plain": [
       "<keras.callbacks.History at 0x262ab0c93c8>"
      ]
     },
     "execution_count": 64,
     "metadata": {},
     "output_type": "execute_result"
    }
   ],
   "source": [
    "#Fitting the data to the training dataset\n",
    "classifier.fit(X_train,y_train, batch_size=10, epochs=50)"
   ]
  },
  {
   "cell_type": "code",
   "execution_count": 36,
   "metadata": {},
   "outputs": [
    {
     "name": "stdout",
     "output_type": "stream",
     "text": [
      "9321/9321 [==============================] - 0s 21us/step\n"
     ]
    },
    {
     "data": {
      "text/plain": [
       "[0.34502863763113056, 0.8417551764896046]"
      ]
     },
     "execution_count": 36,
     "metadata": {},
     "output_type": "execute_result"
    }
   ],
   "source": [
    "eval_model=classifier.evaluate(X_train, y_train)\n",
    "eval_model"
   ]
  },
  {
   "cell_type": "code",
   "execution_count": 39,
   "metadata": {},
   "outputs": [],
   "source": [
    "y_pred = classifier.predict(X_test)\n"
   ]
  },
  {
   "cell_type": "code",
   "execution_count": 43,
   "metadata": {},
   "outputs": [],
   "source": [
    "y__test = y_test.astype(int)"
   ]
  },
  {
   "cell_type": "code",
   "execution_count": 44,
   "metadata": {},
   "outputs": [],
   "source": [
    "y__pred = (y_pred>0.5)\n",
    "ypred = y__pred.astype(int)"
   ]
  },
  {
   "cell_type": "code",
   "execution_count": 68,
   "metadata": {},
   "outputs": [],
   "source": [
    "ypred = np.array(ypred)"
   ]
  },
  {
   "cell_type": "code",
   "execution_count": 46,
   "metadata": {},
   "outputs": [
    {
     "data": {
      "text/plain": [
       "array([0, 1, 1, ..., 0, 0, 1])"
      ]
     },
     "execution_count": 46,
     "metadata": {},
     "output_type": "execute_result"
    }
   ],
   "source": [
    "y__test"
   ]
  },
  {
   "cell_type": "code",
   "execution_count": 47,
   "metadata": {},
   "outputs": [
    {
     "name": "stdout",
     "output_type": "stream",
     "text": [
      "[[1554  449]\n",
      " [ 195 1797]]\n"
     ]
    }
   ],
   "source": [
    "from sklearn.metrics import confusion_matrix\n",
    "cm = confusion_matrix(y__test, ypred)\n",
    "print(cm)"
   ]
  },
  {
   "cell_type": "code",
   "execution_count": 48,
   "metadata": {},
   "outputs": [
    {
     "name": "stdout",
     "output_type": "stream",
     "text": [
      "Accuracy: 83.87984981226533%\n"
     ]
    }
   ],
   "source": [
    "accuracy = (cm[0][0]+cm[1][1])/(cm[0][0]+cm[0][1]+cm[1][0]+cm[1][1])\n",
    "print(\"Accuracy: \"+ str(accuracy*100)+\"%\")"
   ]
  },
  {
   "cell_type": "markdown",
   "metadata": {},
   "source": [
    "## Hyperparameters tuning "
   ]
  },
  {
   "cell_type": "code",
   "execution_count": 55,
   "metadata": {},
   "outputs": [
    {
     "data": {
      "text/plain": [
       "array([[1., 0.],\n",
       "       [1., 0.],\n",
       "       [1., 0.],\n",
       "       ...,\n",
       "       [1., 0.],\n",
       "       [1., 0.],\n",
       "       [0., 1.]], dtype=float32)"
      ]
     },
     "execution_count": 55,
     "metadata": {},
     "output_type": "execute_result"
    }
   ],
   "source": [
    "from keras.utils import to_categorical\n",
    "output_category = to_categorical(y_train, num_classes=None)\n",
    "output_category"
   ]
  },
  {
   "cell_type": "code",
   "execution_count": 59,
   "metadata": {},
   "outputs": [],
   "source": [
    "from keras.layers import Dropout\n",
    "from keras.wrappers.scikit_learn import KerasClassifier\n",
    "from sklearn.model_selection import cross_val_score"
   ]
  },
  {
   "cell_type": "code",
   "execution_count": null,
   "metadata": {},
   "outputs": [],
   "source": []
  },
  {
   "cell_type": "code",
   "execution_count": null,
   "metadata": {},
   "outputs": [],
   "source": []
  },
  {
   "cell_type": "code",
   "execution_count": null,
   "metadata": {},
   "outputs": [],
   "source": []
  },
  {
   "cell_type": "code",
   "execution_count": null,
   "metadata": {},
   "outputs": [],
   "source": []
  },
  {
   "cell_type": "code",
   "execution_count": 29,
   "metadata": {},
   "outputs": [],
   "source": [
    "from sklearn.model_selection import StratifiedShuffleSplit\n",
    "sss = StratifiedShuffleSplit(n_splits=5, test_size=0.5, random_state=0)"
   ]
  },
  {
   "cell_type": "code",
   "execution_count": 30,
   "metadata": {},
   "outputs": [
    {
     "name": "stdout",
     "output_type": "stream",
     "text": [
      "TRAIN: [10670  3253  7473 ...  2700  2262   192] TEST: [ 1510  8976  2219 ...  7723 10891 11304]\n",
      "TRAIN: [ 7883  5056  5767 ... 12333   780  8035] TEST: [ 6773  2250  6587 ...  7707 12849  9713]\n",
      "TRAIN: [11363   975 10613 ... 11589  7516  6072] TEST: [ 4033 10546  9660 ...  6389  6308  4301]\n",
      "TRAIN: [12069   415  7613 ...   983 12197  3013] TEST: [13261  7941  7890 ...    45  8540  9767]\n",
      "TRAIN: [6466 7674 8335 ... 2497 4782 3805] TEST: [ 309 4145 8271 ... 1954 4162 2120]\n"
     ]
    }
   ],
   "source": [
    "for train_index, test_index in sss.split(X_res, y_res):\n",
    "    print(\"TRAIN:\", train_index, \"TEST:\", test_index)\n",
    "    X_train1, X_test1 = X_res[train_index], X_res[test_index]\n",
    "    y_train1, y_test1 = y_res[train_index], y_res[test_index]"
   ]
  },
  {
   "cell_type": "markdown",
   "metadata": {},
   "source": [
    "# Random forest classification using scikit-learn"
   ]
  },
  {
   "cell_type": "code",
   "execution_count": 67,
   "metadata": {},
   "outputs": [],
   "source": [
    "from sklearn.ensemble import RandomForestClassifier"
   ]
  },
  {
   "cell_type": "code",
   "execution_count": 68,
   "metadata": {},
   "outputs": [
    {
     "data": {
      "text/plain": [
       "RandomForestClassifier(bootstrap=True, class_weight=None, criterion='gini',\n",
       "            max_depth=2, max_features='auto', max_leaf_nodes=None,\n",
       "            min_impurity_decrease=0.0, min_impurity_split=None,\n",
       "            min_samples_leaf=1, min_samples_split=2,\n",
       "            min_weight_fraction_leaf=0.0, n_estimators=100, n_jobs=None,\n",
       "            oob_score=False, random_state=0, verbose=0, warm_start=False)"
      ]
     },
     "execution_count": 68,
     "metadata": {},
     "output_type": "execute_result"
    }
   ],
   "source": [
    "clf = RandomForestClassifier(n_estimators=100, max_depth=2,\n",
    "                              random_state=0)\n",
    "clf.fit(X_train, y_train)"
   ]
  },
  {
   "cell_type": "code",
   "execution_count": 69,
   "metadata": {},
   "outputs": [
    {
     "name": "stdout",
     "output_type": "stream",
     "text": [
      "[0.0163304  0.05030065 0.01274907 0.02631992 0.01040368 0.02057644\n",
      " 0.015525   0.00625334 0.         0.03850492 0.00133474 0.03093041\n",
      " 0.07866333 0.00577677 0.00214905 0.02170879 0.         0.01042378\n",
      " 0.0423563  0.         0.00121689 0.03599017 0.14459549 0.00166271\n",
      " 0.06739512 0.07086517 0.00150238 0.00321778 0.00168068 0.03006262\n",
      " 0.00292092 0.         0.         0.00080713 0.00179661 0.06277814\n",
      " 0.00134436 0.         0.00649608 0.00144514 0.         0.\n",
      " 0.00169089 0.07494271 0.         0.00325884 0.00047534 0.00147102\n",
      " 0.03865899 0.00449196 0.         0.00682418 0.01933394 0.00457835\n",
      " 0.         0.00527061 0.00491785 0.00046765 0.00077195 0.00125473\n",
      " 0.         0.00550697]\n"
     ]
    }
   ],
   "source": [
    "print(clf.feature_importances_)"
   ]
  },
  {
   "cell_type": "code",
   "execution_count": 70,
   "metadata": {},
   "outputs": [
    {
     "name": "stdout",
     "output_type": "stream",
     "text": [
      "['1' '1' '0' ... '1' '0' '1']\n"
     ]
    }
   ],
   "source": [
    "print(clf.predict(X_test))"
   ]
  },
  {
   "cell_type": "code",
   "execution_count": null,
   "metadata": {},
   "outputs": [],
   "source": [
    "print(clf.predict(X_test))"
   ]
  },
  {
   "cell_type": "code",
   "execution_count": 71,
   "metadata": {},
   "outputs": [
    {
     "name": "stdout",
     "output_type": "stream",
     "text": [
      "0.7071339173967459\n"
     ]
    }
   ],
   "source": [
    "print(clf.score(X_test,y_test))"
   ]
  },
  {
   "cell_type": "code",
   "execution_count": 76,
   "metadata": {},
   "outputs": [
    {
     "name": "stdout",
     "output_type": "stream",
     "text": [
      "2\n"
     ]
    }
   ],
   "source": [
    "print(clf.n_classes_)"
   ]
  },
  {
   "cell_type": "code",
   "execution_count": 103,
   "metadata": {},
   "outputs": [],
   "source": [
    "from sklearn.metrics import accuracy_score\n",
    "score_train_RF = []\n",
    "score_test_RF = []\n",
    "factor = []\n",
    "for i in range(4,30,4):\n",
    "    clf_rf = RandomForestClassifier(bootstrap=True, class_weight=None, criterion='gini',\n",
    "            max_depth=i, max_features='auto', max_leaf_nodes=None,\n",
    "            min_impurity_decrease=0.0, min_impurity_split=None,\n",
    "            min_samples_leaf=2, min_samples_split=3,\n",
    "            min_weight_fraction_leaf=0.0, n_estimators=100, n_jobs=None,\n",
    "            oob_score=False, random_state=0, verbose=0, warm_start=False)\n",
    "    clf_rf = clf_rf.fit(X_train, y_train)\n",
    "    y_pred_rf = clf_rf.predict(X_test)\n",
    "    factor.append(i)\n",
    "    score_train_RF.append(accuracy_score(y_train,clf_rf.predict(X_train)))\n",
    "    score_test_RF.append(accuracy_score(y_test,clf_rf.predict(X_test)))\n"
   ]
  },
  {
   "cell_type": "code",
   "execution_count": 104,
   "metadata": {},
   "outputs": [],
   "source": [
    "df_RF = pd.DataFrame()\n",
    "df_RF['Training_accuracy'] = score_train_RF\n",
    "df_RF['Test_accuracy'] = score_test_RF\n",
    "df_RF['K'] =factor"
   ]
  },
  {
   "cell_type": "code",
   "execution_count": 105,
   "metadata": {},
   "outputs": [
    {
     "data": {
      "text/plain": [
       "<matplotlib.legend.Legend at 0x1bc933dc908>"
      ]
     },
     "execution_count": 105,
     "metadata": {},
     "output_type": "execute_result"
    },
    {
     "data": {
      "image/png": "[encoded data removed]",
      "text/plain": [
       "<Figure size 432x288 with 1 Axes>"
      ]
     },
     "metadata": {
      "needs_background": "light"
     },
     "output_type": "display_data"
    }
   ],
   "source": [
    "import matplotlib.pyplot as plt\n",
    "%matplotlib inline\n",
    "plt.plot( 'K', 'Training_accuracy', data=df_RF , markerfacecolor='blue', markersize=6, color='green', linewidth=4)\n",
    "plt.plot( 'K', 'Test_accuracy', data=df_RF, marker='', color='olive', linewidth=4, linestyle='dashed')\n",
    "plt.legend()"
   ]
  },
  {
   "cell_type": "code",
   "execution_count": 111,
   "metadata": {},
   "outputs": [],
   "source": [
    "y_t_int = y_test.astype(np.int)"
   ]
  },
  {
   "cell_type": "code",
   "execution_count": 113,
   "metadata": {},
   "outputs": [],
   "source": [
    "y_p_int = y_pred_rf.astype(np.int)"
   ]
  },
  {
   "cell_type": "code",
   "execution_count": null,
   "metadata": {},
   "outputs": [],
   "source": [
    "##AUROC curve"
   ]
  },
  {
   "cell_type": "code",
   "execution_count": 119,
   "metadata": {},
   "outputs": [],
   "source": [
    "from sklearn import metrics\n",
    "fpr, tpr, thresholds = metrics.roc_curve(y_t_int, y_p_int)"
   ]
  },
  {
   "cell_type": "code",
   "execution_count": 120,
   "metadata": {},
   "outputs": [
    {
     "data": {
      "text/plain": [
       "0.9842377498010012"
      ]
     },
     "execution_count": 120,
     "metadata": {},
     "output_type": "execute_result"
    }
   ],
   "source": [
    "metrics.auc(fpr, tpr)"
   ]
  },
  {
   "cell_type": "code",
   "execution_count": 109,
   "metadata": {},
   "outputs": [
    {
     "data": {
      "text/plain": [
       "array(['0', '1', '1', ..., '1', '0', '1'], dtype=object)"
      ]
     },
     "execution_count": 109,
     "metadata": {},
     "output_type": "execute_result"
    }
   ],
   "source": [
    "y_pred_rf"
   ]
  },
  {
   "cell_type": "code",
   "execution_count": 121,
   "metadata": {},
   "outputs": [
    {
     "data": {
      "text/plain": [
       "0.9842377498010012"
      ]
     },
     "execution_count": 121,
     "metadata": {},
     "output_type": "execute_result"
    }
   ],
   "source": [
    "import numpy as np\n",
    "from sklearn.metrics import roc_auc_score\n",
    "roc_auc_score(y_t_int, y_p_int)"
   ]
  },
  {
   "cell_type": "code",
   "execution_count": null,
   "metadata": {},
   "outputs": [],
   "source": [
    "F1 = 2 * (precision * recall) / (precision + recall)"
   ]
  },
  {
   "cell_type": "code",
   "execution_count": 124,
   "metadata": {},
   "outputs": [],
   "source": [
    "from sklearn.metrics import f1_score"
   ]
  },
  {
   "cell_type": "code",
   "execution_count": 125,
   "metadata": {},
   "outputs": [
    {
     "data": {
      "text/plain": [
       "0.9842302878598248"
      ]
     },
     "execution_count": 125,
     "metadata": {},
     "output_type": "execute_result"
    }
   ],
   "source": [
    "f1_score(y_t_int, y_p_int, average='weighted')  "
   ]
  },
  {
   "cell_type": "markdown",
   "metadata": {},
   "source": [
    "# Boosting techniques"
   ]
  },
  {
   "cell_type": "code",
   "execution_count": 133,
   "metadata": {},
   "outputs": [],
   "source": [
    "from sklearn.ensemble import AdaBoostClassifier"
   ]
  },
  {
   "cell_type": "code",
   "execution_count": 134,
   "metadata": {},
   "outputs": [
    {
     "data": {
      "text/plain": [
       "AdaBoostClassifier(algorithm='SAMME.R',\n",
       "          base_estimator=RandomForestClassifier(bootstrap=True, class_weight=None, criterion='gini',\n",
       "            max_depth=28, max_features='auto', max_leaf_nodes=None,\n",
       "            min_impurity_decrease=0.0, min_impurity_split=None,\n",
       "            min_samples_leaf=2, min_samples_split=3,\n",
       "            min_weight_fraction_leaf=0.0, n_estimators=100, n_jobs=None,\n",
       "            oob_score=False, random_state=0, verbose=0, warm_start=False),\n",
       "          learning_rate=1, n_estimators=10, random_state=None)"
      ]
     },
     "execution_count": 134,
     "metadata": {},
     "output_type": "execute_result"
    }
   ],
   "source": [
    "score_train_ada = []\n",
    "score_test_ada = []\n",
    "factor = []\n",
    "for i in range(1,5,1):\n",
    "    clf_ada = AdaBoostClassifier(n_estimators=10, base_estimator=clf_rf,learning_rate=i)\n",
    "    clf_ada = clf_ada.fit(X_train, y_train)\n",
    "    y_pred_ada = clf_ada.predict(X_test)\n",
    "    factor.append(i)\n",
    "    score_train_ada.append(accuracy_score(y_train,clf_ada.predict(X_train)))\n",
    "    score_test_ada.append(accuracy_score(y_test,clf_ada.predict(X_test)))\n"
   ]
  },
  {
   "cell_type": "code",
   "execution_count": null,
   "metadata": {},
   "outputs": [],
   "source": [
    "df_ada = pd.DataFrame()\n",
    "df_ada['Training_accuracy'] = score_train_ada\n",
    "df_ada['Test_accuracy'] = score_test_ada\n",
    "df_ada['K'] =factor"
   ]
  },
  {
   "cell_type": "code",
   "execution_count": null,
   "metadata": {},
   "outputs": [],
   "source": [
    "import matplotlib.pyplot as plt\n",
    "%matplotlib inline\n",
    "plt.plot( 'K', 'Training_accuracy', data=df_ada , markerfacecolor='blue', markersize=6, color='green', linewidth=4)\n",
    "plt.plot( 'K', 'Test_accuracy', data=df_ada, marker='', color='olive', linewidth=4, linestyle='dashed')\n",
    "plt.legend()"
   ]
  },
  {
   "cell_type": "code",
   "execution_count": 136,
   "metadata": {},
   "outputs": [
    {
     "name": "stdout",
     "output_type": "stream",
     "text": [
      "0.9882352941176471\n"
     ]
    }
   ],
   "source": [
    "print(clf_ada.score(X_test,y_test))"
   ]
  },
  {
   "cell_type": "markdown",
   "metadata": {},
   "source": [
    "# Gradient Boosting method"
   ]
  },
  {
   "cell_type": "code",
   "execution_count": 138,
   "metadata": {},
   "outputs": [],
   "source": [
    "from sklearn.ensemble import GradientBoostingClassifier #For Classification"
   ]
  },
  {
   "cell_type": "code",
   "execution_count": 139,
   "metadata": {},
   "outputs": [
    {
     "data": {
      "text/plain": [
       "GradientBoostingClassifier(criterion='friedman_mse', init=None,\n",
       "              learning_rate=1.0, loss='deviance', max_depth=1,\n",
       "              max_features=None, max_leaf_nodes=None,\n",
       "              min_impurity_decrease=0.0, min_impurity_split=None,\n",
       "              min_samples_leaf=1, min_samples_split=2,\n",
       "              min_weight_fraction_leaf=0.0, n_estimators=100,\n",
       "              n_iter_no_change=None, presort='auto', random_state=None,\n",
       "              subsample=1.0, tol=0.0001, validation_fraction=0.1,\n",
       "              verbose=0, warm_start=False)"
      ]
     },
     "execution_count": 139,
     "metadata": {},
     "output_type": "execute_result"
    }
   ],
   "source": [
    "clf_gbm = GradientBoostingClassifier(n_estimators=100, learning_rate=1.0, max_depth=1)\n",
    "clf_gbm.fit(X_train, y_train)"
   ]
  },
  {
   "cell_type": "code",
   "execution_count": null,
   "metadata": {},
   "outputs": [],
   "source": []
  },
  {
   "cell_type": "code",
   "execution_count": null,
   "metadata": {},
   "outputs": [],
   "source": []
  },
  {
   "cell_type": "code",
   "execution_count": null,
   "metadata": {},
   "outputs": [],
   "source": [
    "from sklearn.ensemble import BaggingClassifier #For Classification\n",
    "score_train_bag = []\n",
    "score_test_bag = []\n",
    "factor = []\n",
    "for i in range(10,100,10):\n",
    "    clf_bag = BaggingClassifier(n_estimators=i, max_samples=1.0, max_features=1.0)\n",
    "    clf_bag.fit(X_train, y_train)\n",
    "    y_pred_bag = clf_bag.predict(X_test)\n",
    "    factor.append(i)\n",
    "    score_train_bag.append(accuracy_score(y_train,clf_bag.predict(X_train)))\n",
    "    score_test_bag.append(accuracy_score(y_test,clf_bag.predict(X_test)))\n"
   ]
  },
  {
   "cell_type": "code",
   "execution_count": null,
   "metadata": {},
   "outputs": [],
   "source": [
    "df_bag = pd.DataFrame()\n",
    "df_bag['Training_accuracy'] = score_train_bag\n",
    "df_bag['Test_accuracy'] = score_test_bag\n",
    "df_bag['K'] =factor"
   ]
  },
  {
   "cell_type": "code",
   "execution_count": null,
   "metadata": {},
   "outputs": [],
   "source": [
    "import matplotlib.pyplot as plt\n",
    "%matplotlib inline\n",
    "plt.plot( 'K', 'Training_accuracy', data=df_bag , markerfacecolor='blue', markersize=6, color='green', linewidth=4)\n",
    "plt.plot( 'K', 'Test_accuracy', data=df_bag, marker='', color='olive', linewidth=4, linestyle='dashed')\n",
    "plt.legend()"
   ]
  },
  {
   "cell_type": "code",
   "execution_count": null,
   "metadata": {},
   "outputs": [],
   "source": []
  },
  {
   "cell_type": "markdown",
   "metadata": {},
   "source": [
    "# Decision Tree Classifier "
   ]
  },
  {
   "cell_type": "code",
   "execution_count": 91,
   "metadata": {},
   "outputs": [],
   "source": [
    "#Decision Tree classifier\n",
    "from sklearn import tree\n",
    "from sklearn.tree import DecisionTreeClassifier \n",
    "score_train_DT = []\n",
    "score_test_DT = []\n",
    "factor = []\n",
    "for i in range(4,30,4):\n",
    "    clf_dt1 = DecisionTreeClassifier(criterion = \"gini\", splitter=\"best\", max_depth=i)\n",
    "    clf_dt1 = clf_dt1.fit(X_train,y_train)\n",
    "    y_pred_DT = clf_dt1.predict(X_test)\n",
    "    factor.append(i)\n",
    "    score_train_DT.append(accuracy_score(y_train,clf_dt1.predict(X_train)))\n",
    "    score_test_DT.append(accuracy_score(y_test,y_pred_DT))\n"
   ]
  },
  {
   "cell_type": "code",
   "execution_count": 92,
   "metadata": {},
   "outputs": [
    {
     "name": "stdout",
     "output_type": "stream",
     "text": [
      "0.9386733416770964\n"
     ]
    }
   ],
   "source": [
    "print(clf_dt1.score(X_test,y_test))"
   ]
  },
  {
   "cell_type": "code",
   "execution_count": 93,
   "metadata": {},
   "outputs": [],
   "source": [
    "df_DT = pd.DataFrame()\n",
    "df_DT['Training_accuracy'] = score_train_DT\n",
    "df_DT['Test_accuracy'] = score_test_DT\n",
    "df_DT['K'] =factor"
   ]
  },
  {
   "cell_type": "code",
   "execution_count": 94,
   "metadata": {},
   "outputs": [
    {
     "data": {
      "text/plain": [
       "<matplotlib.legend.Legend at 0x1bc9321f1d0>"
      ]
     },
     "execution_count": 94,
     "metadata": {},
     "output_type": "execute_result"
    },
    {
     "data": {
      "image/png": "[encoded data removed]",
      "text/plain": [
       "<Figure size 432x288 with 1 Axes>"
      ]
     },
     "metadata": {
      "needs_background": "light"
     },
     "output_type": "display_data"
    }
   ],
   "source": [
    "import matplotlib.pyplot as plt\n",
    "%matplotlib inline\n",
    "plt.plot( 'K', 'Training_accuracy', data=df_DT , markerfacecolor='blue', markersize=6, color='green', linewidth=4)\n",
    "plt.plot( 'K', 'Test_accuracy', data=df_DT, marker='', color='olive', linewidth=4, linestyle='dashed')\n",
    "plt.legend()"
   ]
  },
  {
   "cell_type": "markdown",
   "metadata": {},
   "source": [
    "# Naive Bayes Classifier"
   ]
  },
  {
   "cell_type": "code",
   "execution_count": 95,
   "metadata": {},
   "outputs": [],
   "source": [
    "from sklearn.naive_bayes import GaussianNB\n",
    "score_train_NB = []\n",
    "score_test_NB = []\n",
    "factor = []\n",
    "for i in range(20):\n",
    "    clf = GaussianNB(var_smoothing = i)\n",
    "    clf.fit(X_train,y_train)\n",
    "    y_pred_NB = clf.predict(X_test)\n",
    "    factor.append(i)\n",
    "    score_train_NB.append(accuracy_score(y_train,clf.predict(X_train)))\n",
    "    score_test_NB.append(accuracy_score(y_test,y_pred_NB))\n",
    "        "
   ]
  },
  {
   "cell_type": "code",
   "execution_count": 96,
   "metadata": {},
   "outputs": [
    {
     "name": "stdout",
     "output_type": "stream",
     "text": [
      "0.5008760951188986\n"
     ]
    }
   ],
   "source": [
    "print(clf.score(X_test,y_test))"
   ]
  },
  {
   "cell_type": "code",
   "execution_count": 97,
   "metadata": {},
   "outputs": [],
   "source": [
    "df_NB = pd.DataFrame()\n",
    "df_NB['Training_accuracy'] = score_train_NB\n",
    "df_NB['Test_accuracy'] = score_test_NB\n",
    "df_NB['K'] =factor"
   ]
  },
  {
   "cell_type": "code",
   "execution_count": 98,
   "metadata": {},
   "outputs": [
    {
     "data": {
      "text/plain": [
       "<matplotlib.legend.Legend at 0x1bc9329c6a0>"
      ]
     },
     "execution_count": 98,
     "metadata": {},
     "output_type": "execute_result"
    },
    {
     "data": {
      "image/png": "[encoded data removed]",
      "text/plain": [
       "<Figure size 432x288 with 1 Axes>"
      ]
     },
     "metadata": {
      "needs_background": "light"
     },
     "output_type": "display_data"
    }
   ],
   "source": [
    "import matplotlib.pyplot as plt\n",
    "%matplotlib inline\n",
    "plt.plot( 'K', 'Training_accuracy', data=df_NB , markerfacecolor='blue', markersize=6, color='green', linewidth=4)\n",
    "plt.plot( 'K', 'Test_accuracy', data=df_NB, marker='', color='olive', linewidth=4, linestyle='dashed')\n",
    "plt.legend()"
   ]
  },
  {
   "cell_type": "markdown",
   "metadata": {},
   "source": [
    "# KNN classifier"
   ]
  },
  {
   "cell_type": "code",
   "execution_count": 99,
   "metadata": {},
   "outputs": [],
   "source": [
    "# Create and fit a nearest-neighbor classifier on D1 dataset\n",
    "from sklearn.neighbors import KNeighborsClassifier\n",
    "from sklearn.metrics import accuracy_score\n",
    "score_train_KN = []\n",
    "score_test_KN = []\n",
    "factor = []\n",
    "\n",
    "for i in range(1,18,2):\n",
    "    knn = KNeighborsClassifier(algorithm='auto', \n",
    "                     leaf_size=30, \n",
    "                     metric='minkowski',\n",
    "                     metric_params=None, \n",
    "                     n_jobs=1, \n",
    "                     n_neighbors=i, \n",
    "                     p=2,\n",
    "                     weights='uniform')\n",
    "    knn.fit(X_train,np.ravel(y_train))\n",
    "    factor.append(i)\n",
    "    score_train_KN.append(accuracy_score(np.ravel(y_train),knn.predict(X_train)))\n",
    "    score_test_KN.append(accuracy_score(y_test,knn.predict(X_test)))\n"
   ]
  },
  {
   "cell_type": "code",
   "execution_count": 100,
   "metadata": {},
   "outputs": [
    {
     "name": "stdout",
     "output_type": "stream",
     "text": [
      "0.8142678347934919\n"
     ]
    }
   ],
   "source": [
    "print(knn.score(X_test,y_test))"
   ]
  },
  {
   "cell_type": "code",
   "execution_count": 101,
   "metadata": {},
   "outputs": [],
   "source": [
    "df_knn_d1 = pd.DataFrame()\n",
    "df_knn_d1['Training_accuracy'] = score_train_KN\n",
    "df_knn_d1['Test_accuracy'] = score_test_KN\n",
    "df_knn_d1['K'] =factor"
   ]
  },
  {
   "cell_type": "code",
   "execution_count": 102,
   "metadata": {},
   "outputs": [
    {
     "data": {
      "text/plain": [
       "<matplotlib.legend.Legend at 0x1bc93316cf8>"
      ]
     },
     "execution_count": 102,
     "metadata": {},
     "output_type": "execute_result"
    },
    {
     "data": {
      "image/png": "[encoded data removed]",
      "text/plain": [
       "<Figure size 432x288 with 1 Axes>"
      ]
     },
     "metadata": {
      "needs_background": "light"
     },
     "output_type": "display_data"
    }
   ],
   "source": [
    "plt.plot( 'K', 'Training_accuracy', data=df_knn_d1 , markerfacecolor='blue', markersize=6, color='green', linewidth=4)\n",
    "plt.plot( 'K', 'Test_accuracy', data=df_knn_d1, marker='', color='olive', linewidth=4, linestyle='dashed')\n",
    "plt.legend()"
   ]
  },
  {
   "cell_type": "markdown",
   "metadata": {},
   "source": [
    "# LDA"
   ]
  },
  {
   "cell_type": "code",
   "execution_count": 129,
   "metadata": {},
   "outputs": [],
   "source": [
    "##LDA on training - D2 dataset\n",
    "from sklearn.discriminant_analysis import LinearDiscriminantAnalysis\n",
    "\n",
    "lda = LinearDiscriminantAnalysis(n_components=5)\n",
    "X_r2 = lda.fit(X_train, y_train).transform(X_train)"
   ]
  },
  {
   "cell_type": "code",
   "execution_count": 131,
   "metadata": {},
   "outputs": [
    {
     "data": {
      "text/plain": [
       "(9321, 1)"
      ]
     },
     "execution_count": 131,
     "metadata": {},
     "output_type": "execute_result"
    }
   ],
   "source": [
    "X_r2.shape"
   ]
  },
  {
   "cell_type": "code",
   "execution_count": null,
   "metadata": {},
   "outputs": [],
   "source": [
    "##LDA on training - D2 dataset\n",
    "from sklearn.discriminant_analysis import LinearDiscriminantAnalysis\n",
    "\n",
    "lda = LinearDiscriminantAnalysis(n_components=5)\n",
    "X_r2 = lda.fit(final_one, y).transform(final_one)"
   ]
  },
  {
   "cell_type": "code",
   "execution_count": null,
   "metadata": {},
   "outputs": [],
   "source": []
  },
  {
   "cell_type": "code",
   "execution_count": null,
   "metadata": {},
   "outputs": [],
   "source": []
  },
  {
   "cell_type": "markdown",
   "metadata": {},
   "source": [
    "# SVM"
   ]
  },
  {
   "cell_type": "code",
   "execution_count": null,
   "metadata": {},
   "outputs": [],
   "source": [
    "from sklearn.svm import NuSVC\n",
    "score_train_SVM = []\n",
    "score_test_SVM = []\n",
    "factor = []\n",
    "\n",
    "for i in range(1,18,2):\n",
    "    clf_svm = NuSVC(gamma='scale')\n",
    "    knn.fit(data_one,np.ravel(final_label))\n",
    "    factor.append(i)\n",
    "    score_train_KN.append(accuracy_score(np.ravel(final_label),knn.predict(data_one)))\n",
    "    score_test_KN.append(accuracy_score(y_test,knn.predict(data_two)))\n",
    "\n",
    "\n",
    "print(\"Predictions form the classifier:\")\n",
    "print(knn.predict(data_two))\n",
    "print(\"Target values:\")\n",
    "print(y_test)"
   ]
  },
  {
   "cell_type": "code",
   "execution_count": null,
   "metadata": {},
   "outputs": [],
   "source": [
    "print(clf_dt.score(X_test,y_test))"
   ]
  },
  {
   "cell_type": "code",
   "execution_count": null,
   "metadata": {},
   "outputs": [],
   "source": []
  },
  {
   "cell_type": "code",
   "execution_count": null,
   "metadata": {},
   "outputs": [],
   "source": []
  },
  {
   "cell_type": "code",
   "execution_count": null,
   "metadata": {},
   "outputs": [],
   "source": []
  },
  {
   "cell_type": "code",
   "execution_count": null,
   "metadata": {},
   "outputs": [],
   "source": []
  },
  {
   "cell_type": "code",
   "execution_count": null,
   "metadata": {},
   "outputs": [],
   "source": []
  },
  {
   "cell_type": "code",
   "execution_count": null,
   "metadata": {},
   "outputs": [],
   "source": []
  },
  {
   "cell_type": "code",
   "execution_count": null,
   "metadata": {},
   "outputs": [],
   "source": []
  }
 ],
 "metadata": {
  "kernelspec": {
   "display_name": "Python 3",
   "language": "python",
   "name": "python3"
  },
  "language_info": {
   "codemirror_mode": {
    "name": "ipython",
    "version": 3
   },
   "file_extension": ".py",
   "mimetype": "text/x-python",
   "name": "python",
   "nbconvert_exporter": "python",
   "pygments_lexer": "ipython3",
   "version": "3.6.6"
  }
 },
 "nbformat": 4,
 "nbformat_minor": 2
}
